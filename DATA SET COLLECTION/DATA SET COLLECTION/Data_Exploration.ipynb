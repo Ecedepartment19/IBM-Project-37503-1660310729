






<!DOCTYPE html>
<html lang="en" data-color-mode="auto" data-light-theme="light" data-dark-theme="dark" data-a11y-animated-images="system">
  <head>
    <meta charset="utf-8">
  <link rel="dns-prefetch" href="https://github.githubassets.com">
  <link rel="dns-prefetch" href="https://avatars.githubusercontent.com">
  <link rel="dns-prefetch" href="https://github-cloud.s3.amazonaws.com">
  <link rel="dns-prefetch" href="https://user-images.githubusercontent.com/">
  <link rel="preconnect" href="https://github.githubassets.com" crossorigin>
  <link rel="preconnect" href="https://avatars.githubusercontent.com">



  <link crossorigin="anonymous" media="all" rel="stylesheet" href="https://github.githubassets.com/assets/light-5178aee0ee76.css" /><link crossorigin="anonymous" media="all" rel="stylesheet" href="https://github.githubassets.com/assets/dark-217d4f9c8e70.css" /><link data-color-theme="dark_dimmed" crossorigin="anonymous" media="all" rel="stylesheet" data-href="https://github.githubassets.com/assets/dark_dimmed-0adfa28f0e68.css" /><link data-color-theme="dark_high_contrast" crossorigin="anonymous" media="all" rel="stylesheet" data-href="https://github.githubassets.com/assets/dark_high_contrast-1c8575b36644.css" /><link data-color-theme="dark_colorblind" crossorigin="anonymous" media="all" rel="stylesheet" data-href="https://github.githubassets.com/assets/dark_colorblind-5113d2be20b0.css" /><link data-color-theme="light_colorblind" crossorigin="anonymous" media="all" rel="stylesheet" data-href="https://github.githubassets.com/assets/light_colorblind-c96add742484.css" /><link data-color-theme="light_high_contrast" crossorigin="anonymous" media="all" rel="stylesheet" data-href="https://github.githubassets.com/assets/light_high_contrast-290f92f5e867.css" /><link data-color-theme="light_tritanopia" crossorigin="anonymous" media="all" rel="stylesheet" data-href="https://github.githubassets.com/assets/light_tritanopia-cdd88f146bf7.css" /><link data-color-theme="dark_tritanopia" crossorigin="anonymous" media="all" rel="stylesheet" data-href="https://github.githubassets.com/assets/dark_tritanopia-2171ea0f078b.css" />
  
    <link crossorigin="anonymous" media="all" rel="stylesheet" href="https://github.githubassets.com/assets/primer-f25e22b75f12.css" />
    <link crossorigin="anonymous" media="all" rel="stylesheet" href="https://github.githubassets.com/assets/global-3ba07bcfee8b.css" />
    <link crossorigin="anonymous" media="all" rel="stylesheet" href="https://github.githubassets.com/assets/github-9762f2dcc305.css" />
  <link crossorigin="anonymous" media="all" rel="stylesheet" href="https://github.githubassets.com/assets/code-ce62386aea52.css" />



  <script crossorigin="anonymous" defer="defer" type="application/javascript" src="https://github.githubassets.com/assets/wp-runtime-07cf855d85a2.js"></script>
<script crossorigin="anonymous" defer="defer" type="application/javascript" src="https://github.githubassets.com/assets/vendors-node_modules_manuelpuyol_turbo_dist_turbo_es2017-esm_js-7ca92c8d513d.js"></script>
<script crossorigin="anonymous" defer="defer" type="application/javascript" src="https://github.githubassets.com/assets/vendors-node_modules_stacktrace-parser_dist_stack-trace-parser_esm_js-node_modules_github_bro-d351f6-c1d63d230b29.js"></script>
<script crossorigin="anonymous" defer="defer" type="application/javascript" src="https://github.githubassets.com/assets/environment-17af8e6b998e.js"></script>
<script crossorigin="anonymous" defer="defer" type="application/javascript" src="https://github.githubassets.com/assets/vendors-node_modules_selector-observer_dist_index_esm_js-650337916dbd.js"></script>
<script crossorigin="anonymous" defer="defer" type="application/javascript" src="https://github.githubassets.com/assets/vendors-node_modules_delegated-events_dist_index_js-node_modules_github_details-dialog-elemen-63debe-4a2f37f7419e.js"></script>
<script crossorigin="anonymous" defer="defer" type="application/javascript" src="https://github.githubassets.com/assets/vendors-node_modules_github_auto-complete-element_dist_index_js-node_modules_github_catalyst_-6afc16-fa4f01d20b81.js"></script>
<script crossorigin="anonymous" defer="defer" type="application/javascript" src="https://github.githubassets.com/assets/vendors-node_modules_fzy_js_index_js-node_modules_github_markdown-toolbar-element_dist_index_js-5936f45973f5.js"></script>
<script crossorigin="anonymous" defer="defer" type="application/javascript" src="https://github.githubassets.com/assets/vendors-node_modules_github_time-elements_dist_index_js-74b4ec51ce20.js"></script>
<script crossorigin="anonymous" defer="defer" type="application/javascript" src="https://github.githubassets.com/assets/vendors-node_modules_github_file-attachment-element_dist_index_js-node_modules_github_filter--6a5bff-93edd18dab1d.js"></script>
<script crossorigin="anonymous" defer="defer" type="application/javascript" src="https://github.githubassets.com/assets/github-elements-47df4383add3.js"></script>
<script crossorigin="anonymous" defer="defer" type="application/javascript" src="https://github.githubassets.com/assets/element-registry-0c76aedf699a.js"></script>
<script crossorigin="anonymous" defer="defer" type="application/javascript" src="https://github.githubassets.com/assets/vendors-node_modules_lit-html_lit-html_js-e954e8c01c93.js"></script>
<script crossorigin="anonymous" defer="defer" type="application/javascript" src="https://github.githubassets.com/assets/vendors-node_modules_github_mini-throttle_dist_index_js-node_modules_github_remote-form_dist_-ece2b0-917c0dad4566.js"></script>
<script crossorigin="anonymous" defer="defer" type="application/javascript" src="https://github.githubassets.com/assets/vendors-node_modules_github_alive-client_dist_index_js-node_modules_github_memoize_dist_esm_i-fab77c-ff9d9fde6bc6.js"></script>
<script crossorigin="anonymous" defer="defer" type="application/javascript" src="https://github.githubassets.com/assets/vendors-node_modules_primer_behaviors_dist_esm_dimensions_js-node_modules_github_hydro-analyt-f69502-65a022907302.js"></script>
<script crossorigin="anonymous" defer="defer" type="application/javascript" src="https://github.githubassets.com/assets/vendors-node_modules_github_filter-input-element_dist_index_js-node_modules_github_paste-mark-c3e01c-5a047723cd89.js"></script>
<script crossorigin="anonymous" defer="defer" type="application/javascript" src="https://github.githubassets.com/assets/app_assets_modules_github_updatable-content_ts-62df1309213c.js"></script>
<script crossorigin="anonymous" defer="defer" type="application/javascript" src="https://github.githubassets.com/assets/app_assets_modules_github_sticky-scroll-into-view_ts-473049d8b481.js"></script>
<script crossorigin="anonymous" defer="defer" type="application/javascript" src="https://github.githubassets.com/assets/app_assets_modules_github_behaviors_keyboard-shortcuts-helper_ts-app_assets_modules_github_be-ac2ea2-fda9c90f5f33.js"></script>
<script crossorigin="anonymous" defer="defer" type="application/javascript" src="https://github.githubassets.com/assets/app_assets_modules_github_behaviors_commenting_edit_ts-app_assets_modules_github_behaviors_ht-83c235-02b38260d85d.js"></script>
<script crossorigin="anonymous" defer="defer" type="application/javascript" src="https://github.githubassets.com/assets/app_assets_modules_github_behaviors_batch-deferred-content_ts-app_assets_modules_github_behav-dc1370-6ae08b176c11.js"></script>
<script crossorigin="anonymous" defer="defer" type="application/javascript" src="https://github.githubassets.com/assets/behaviors-d3bc063f6602.js"></script>
<script crossorigin="anonymous" defer="defer" type="application/javascript" src="https://github.githubassets.com/assets/vendors-node_modules_delegated-events_dist_index_js-node_modules_github_catalyst_lib_index_js-06ff533-60844731e2b9.js"></script>
<script crossorigin="anonymous" defer="defer" type="application/javascript" src="https://github.githubassets.com/assets/notifications-global-e71e7f99b10d.js"></script>
<script crossorigin="anonymous" defer="defer" type="application/javascript" src="https://github.githubassets.com/assets/vendors-node_modules_virtualized-list_es_index_js-node_modules_github_template-parts_lib_index_js-17ccfc4926a4.js"></script>
<script crossorigin="anonymous" defer="defer" type="application/javascript" src="https://github.githubassets.com/assets/vendors-node_modules_github_filter-input-element_dist_index_js-node_modules_github_mini-throt-bb75aa-97625d2d4f26.js"></script>
<script crossorigin="anonymous" defer="defer" type="application/javascript" src="https://github.githubassets.com/assets/vendors-node_modules_github_file-attachment-element_dist_index_js-node_modules_github_mini-th-699a01-5abf39efc269.js"></script>
<script crossorigin="anonymous" defer="defer" type="application/javascript" src="https://github.githubassets.com/assets/app_assets_modules_github_ref-selector_ts-8c0f66968207.js"></script>
<script crossorigin="anonymous" defer="defer" type="application/javascript" src="https://github.githubassets.com/assets/repositories-5476fe6f1cd1.js"></script>
<script crossorigin="anonymous" defer="defer" type="application/javascript" src="https://github.githubassets.com/assets/vendors-node_modules_github_clipboard-copy-element_dist_index_esm_js-node_modules_github_remo-8e6bec-4a54aa10cc28.js"></script>
<script crossorigin="anonymous" defer="defer" type="application/javascript" src="https://github.githubassets.com/assets/vendors-node_modules_github_mini-throttle_dist_decorators_js-node_modules_scroll-anchoring_di-e71893-60cf13769d05.js"></script>
<script crossorigin="anonymous" defer="defer" type="application/javascript" src="https://github.githubassets.com/assets/app_assets_modules_github_diffs_blob-lines_ts-app_assets_modules_github_diffs_linkable-line-n-dca161-654f411fb0d0.js"></script>
<script crossorigin="anonymous" defer="defer" type="application/javascript" src="https://github.githubassets.com/assets/diffs-f9a50c895aad.js"></script>
  

  <title>IBM-Project-50803-1660924691/Dataset Collection/Data_Exploration.ipynb at main · IBM-EPBL/IBM-Project-50803-1660924691</title>



    

  <meta name="request-id" content="C19E:1405:21DFB7:2BD4C5:635116A1" data-turbo-transient="true" /><meta name="html-safe-nonce" content="d6b3c3807a8b3c0ca31c435e4829570e88527c46a610343bdecf7fd81722e829" data-turbo-transient="true" /><meta name="visitor-payload" content="eyJyZWZlcnJlciI6Imh0dHBzOi8vZ2l0aHViLmNvbS9JQk0tRVBCTC9JQk0tUHJvamVjdC01MDgwMy0xNjYwOTI0NjkxL2Jsb2IvbWFpbi9EYXRhc2V0JTIwQ29sbGVjdGlvbi9EYXRhX0V4cGxvcmF0aW9uLmlweW5iIiwicmVxdWVzdF9pZCI6IkMxOUU6MTQwNToyMURGQjc6MkJENEM1OjYzNTExNkExIiwidmlzaXRvcl9pZCI6IjMzMzg3MzkzNDM2NzYzODY2OTkiLCJyZWdpb25fZWRnZSI6ImNlbnRyYWxpbmRpYSIsInJlZ2lvbl9yZW5kZXIiOiJpYWQifQ==" data-turbo-transient="true" /><meta name="visitor-hmac" content="c283668dfd9072fc28e7d3b79cbc61a6334c2da0de482d918451ab68460675ff" data-turbo-transient="true" />

    <meta name="hovercard-subject-tag" content="repository:526668617" data-turbo-transient>


  <meta name="github-keyboard-shortcuts" content="repository" data-turbo-transient="true" />
  

  <meta name="selected-link" value="repo_source" data-turbo-transient>

    <meta name="google-site-verification" content="c1kuD-K2HIVF635lypcsWPoD4kilo5-jA_wBFyT4uMY">
  <meta name="google-site-verification" content="KT5gs8h0wvaagLKAVWq8bbeNwnZZK1r1XQysX3xurLU">
  <meta name="google-site-verification" content="ZzhVyEFwb7w3e0-uOTltm8Jsck2F5StVihD0exw2fsA">
  <meta name="google-site-verification" content="GXs5KoUUkNCoaAZn7wPN-t01Pywp9M3sEjnt_3_ZWPc">
  <meta name="google-site-verification" content="Apib7-x98H0j5cPqHWwSMm6dNU4GmODRoqxLiDzdx9I">

<meta name="octolytics-url" content="https://collector.github.com/github/collect" /><meta name="octolytics-actor-id" content="115458962" /><meta name="octolytics-actor-login" content="SteffigrafR" /><meta name="octolytics-actor-hash" content="69c045eb5435ec398dfa3c39bdda27003a1955ef568d5122787d869526b19996" />

  <meta name="analytics-location" content="/&lt;user-name&gt;/&lt;repo-name&gt;/blob/blame" data-turbo-transient="true" />

  




  

    <meta name="user-login" content="SteffigrafR">

  <link rel="sudo-modal" href="/sessions/sudo_modal">

    <meta name="viewport" content="width=device-width">
    
      <meta name="description" content="DemandEst - AI powered Food Demand Forecaster. Contribute to IBM-EPBL/IBM-Project-50803-1660924691 development by creating an account on GitHub.">
      <link rel="search" type="application/opensearchdescription+xml" href="/opensearch.xml" title="GitHub">
    <link rel="fluid-icon" href="https://github.com/fluidicon.png" title="GitHub">
    <meta property="fb:app_id" content="1401488693436528">
    <meta name="apple-itunes-app" content="app-id=1477376905" />
      <meta name="twitter:image:src" content="https://opengraph.githubassets.com/eaaa648bb01cacccf00fcae3ba74d8cb9baed348bfde42eb658088b5866cf648/IBM-EPBL/IBM-Project-50803-1660924691" /><meta name="twitter:site" content="@github" /><meta name="twitter:card" content="summary_large_image" /><meta name="twitter:title" content="IBM-Project-50803-1660924691/Dataset Collection/Data_Exploration.ipynb at main · IBM-EPBL/IBM-Project-50803-1660924691" /><meta name="twitter:description" content="DemandEst - AI powered Food Demand Forecaster. Contribute to IBM-EPBL/IBM-Project-50803-1660924691 development by creating an account on GitHub." />
      <meta property="og:image" content="https://opengraph.githubassets.com/eaaa648bb01cacccf00fcae3ba74d8cb9baed348bfde42eb658088b5866cf648/IBM-EPBL/IBM-Project-50803-1660924691" /><meta property="og:image:alt" content="DemandEst - AI powered Food Demand Forecaster. Contribute to IBM-EPBL/IBM-Project-50803-1660924691 development by creating an account on GitHub." /><meta property="og:image:width" content="1200" /><meta property="og:image:height" content="600" /><meta property="og:site_name" content="GitHub" /><meta property="og:type" content="object" /><meta property="og:title" content="IBM-Project-50803-1660924691/Dataset Collection/Data_Exploration.ipynb at main · IBM-EPBL/IBM-Project-50803-1660924691" /><meta property="og:url" content="https://github.com/IBM-EPBL/IBM-Project-50803-1660924691" /><meta property="og:description" content="DemandEst - AI powered Food Demand Forecaster. Contribute to IBM-EPBL/IBM-Project-50803-1660924691 development by creating an account on GitHub." />
      
    <link rel="assets" href="https://github.githubassets.com/">
      <link rel="shared-web-socket" href="wss://alive.github.com/_sockets/u/115458962/ws?session=eyJ2IjoiVjMiLCJ1IjoxMTU0NTg5NjIsInMiOjk2ODg1NzIzNiwiYyI6MjIwNjIwNzg2MiwidCI6MTY2NjI1ODU5NH0=--325609f26075272764b128173af746281574fd4752d710117507e0394b2b7660" data-refresh-url="/_alive" data-session-id="7c9689271b6517d6e058b208d3355f3e5e0ac082abad6e1d8518b01cab136e7c">
      <link rel="shared-web-socket-src" href="/assets-cdn/worker/socket-worker-b87581f5816c.js">


        <meta name="hostname" content="github.com">


      <meta name="keyboard-shortcuts-preference" content="all">
      <script type="application/json" id="memex_keyboard_shortcuts_preference">"all"</script>

        <meta name="expected-hostname" content="github.com">

    <meta name="enabled-features" content="ACTIONS_RUN_NAME,IMAGE_METRIC_TRACKING,GEOJSON_AZURE_MAPS,STRICT_DEFERRED_DIFF_LINES_CHECKS">


  <meta http-equiv="x-pjax-version" content="84a609731b12ab81e9e0e693048ea1bba0b7f58718e1a40828ddcbb4f1e69c18" data-turbo-track="reload">
  <meta http-equiv="x-pjax-csp-version" content="fb95bc9a124b6b6d8a2e004152f99e30988dc83929a5c9d6cc6341ce348909f3" data-turbo-track="reload">
  <meta http-equiv="x-pjax-css-version" content="cf6410507bda1c053e8bd7733ac20521358d157633a5cdd18f972e38e8100a66" data-turbo-track="reload">
  <meta http-equiv="x-pjax-js-version" content="66fb0bc115b9d41061cce97063d78be21f960186fc32d607981915a8b1504a2d" data-turbo-track="reload">

  <meta name="turbo-cache-control" content="no-preview" data-turbo-transient="">

    
  <meta name="go-import" content="github.com/IBM-EPBL/IBM-Project-50803-1660924691 git https://github.com/IBM-EPBL/IBM-Project-50803-1660924691.git">

  <meta name="octolytics-dimension-user_id" content="102575335" /><meta name="octolytics-dimension-user_login" content="IBM-EPBL" /><meta name="octolytics-dimension-repository_id" content="526668617" /><meta name="octolytics-dimension-repository_nwo" content="IBM-EPBL/IBM-Project-50803-1660924691" /><meta name="octolytics-dimension-repository_public" content="true" /><meta name="octolytics-dimension-repository_is_fork" content="false" /><meta name="octolytics-dimension-repository_network_root_id" content="526668617" /><meta name="octolytics-dimension-repository_network_root_nwo" content="IBM-EPBL/IBM-Project-50803-1660924691" />



  <meta name="turbo-body-classes" content="logged-in env-production page-responsive full-width">


  <meta name="browser-stats-url" content="https://api.github.com/_private/browser/stats">

  <meta name="browser-errors-url" content="https://api.github.com/_private/browser/errors">

  <meta name="browser-optimizely-client-errors-url" content="https://api.github.com/_private/browser/optimizely_client/errors">

  <link rel="mask-icon" href="https://github.githubassets.com/pinned-octocat.svg" color="#000000">
  <link rel="alternate icon" class="js-site-favicon" type="image/png" href="https://github.githubassets.com/favicons/favicon.png">
  <link rel="icon" class="js-site-favicon" type="image/svg+xml" href="https://github.githubassets.com/favicons/favicon.svg">

<meta name="theme-color" content="#1e2327">
<meta name="color-scheme" content="light dark" />


  <link rel="manifest" href="/manifest.json" crossOrigin="use-credentials">

  </head>

  <body class="logged-in env-production page-responsive full-width" style="word-wrap: break-word;">
    

    <div class="position-relative js-header-wrapper ">
      <a href="#start-of-content" class="p-3 color-bg-accent-emphasis color-fg-on-emphasis show-on-focus js-skip-to-content">Skip to content</a>
      <span data-view-component="true" class="progress-pjax-loader Progress position-fixed width-full">
    <span style="width: 0%;" data-view-component="true" class="Progress-item progress-pjax-loader-bar left-0 top-0 color-bg-accent-emphasis"></span>
</span>      
      


        <script crossorigin="anonymous" defer="defer" type="application/javascript" src="https://github.githubassets.com/assets/vendors-node_modules_github_mini-throttle_dist_decorators_js-node_modules_github_command-pale-51fe14-9a1b633e9244.js"></script>
<script crossorigin="anonymous" defer="defer" type="application/javascript" src="https://github.githubassets.com/assets/vendors-node_modules_github_clipboard-copy-element_dist_index_esm_js-node_modules_delegated-e-976da2-e22766eedf00.js"></script>
<script crossorigin="anonymous" defer="defer" type="application/javascript" src="https://github.githubassets.com/assets/app_assets_modules_github_command-palette_items_help-item_ts-app_assets_modules_github_comman-48ad9d-86a2ffba7bd6.js"></script>
<script crossorigin="anonymous" defer="defer" type="application/javascript" src="https://github.githubassets.com/assets/command-palette-245055aadfef.js"></script>

            <header class="Header js-details-container Details px-3 px-md-4 px-lg-5 flex-wrap flex-md-nowrap" role="banner">

    <div class="Header-item mt-n1 mb-n1  d-none d-md-flex">
      <a
  class="Header-link"
  href="https://github.com/"
  data-hotkey="g d"
  aria-label="Homepage "
  data-turbo="false"
  data-analytics-event="{&quot;category&quot;:&quot;Header&quot;,&quot;action&quot;:&quot;go to dashboard&quot;,&quot;label&quot;:&quot;icon:logo&quot;}"
>
  <svg height="32" aria-hidden="true" viewBox="0 0 16 16" version="1.1" width="32" data-view-component="true" class="octicon octicon-mark-github v-align-middle">
    <path fill-rule="evenodd" d="M8 0C3.58 0 0 3.58 0 8c0 3.54 2.29 6.53 5.47 7.59.4.07.55-.17.55-.38 0-.19-.01-.82-.01-1.49-2.01.37-2.53-.49-2.69-.94-.09-.23-.48-.94-.82-1.13-.28-.15-.68-.52-.01-.53.63-.01 1.08.58 1.23.82.72 1.21 1.87.87 2.33.66.07-.52.28-.87.51-1.07-1.78-.2-3.64-.89-3.64-3.95 0-.87.31-1.59.82-2.15-.08-.2-.36-1.02.08-2.12 0 0 .67-.21 2.2.82.64-.18 1.32-.27 2-.27.68 0 1.36.09 2 .27 1.53-1.04 2.2-.82 2.2-.82.44 1.1.16 1.92.08 2.12.51.56.82 1.27.82 2.15 0 3.07-1.87 3.75-3.65 3.95.29.25.54.73.54 1.48 0 1.07-.01 1.93-.01 2.2 0 .21.15.46.55.38A8.013 8.013 0 0016 8c0-4.42-3.58-8-8-8z"></path>
</svg>
</a>

    </div>

    <div class="Header-item d-md-none">
        <button aria-label="Toggle navigation" aria-expanded="false" type="button" data-view-component="true" class="Header-link js-details-target btn-link">    <svg aria-hidden="true" height="24" viewBox="0 0 16 16" version="1.1" width="24" data-view-component="true" class="octicon octicon-three-bars">
    <path fill-rule="evenodd" d="M1 2.75A.75.75 0 011.75 2h12.5a.75.75 0 110 1.5H1.75A.75.75 0 011 2.75zm0 5A.75.75 0 011.75 7h12.5a.75.75 0 110 1.5H1.75A.75.75 0 011 7.75zM1.75 12a.75.75 0 100 1.5h12.5a.75.75 0 100-1.5H1.75z"></path>
</svg>
</button>    </div>

    <div class="Header-item Header-item--full flex-column flex-md-row width-full flex-order-2 flex-md-order-none mr-0 mt-3 mt-md-0 Details-content--hidden-not-important d-md-flex">
              



<div class="header-search flex-auto position-relative js-site-search flex-self-stretch flex-md-self-auto mb-3 mb-md-0 mr-0 mr-md-3 scoped-search site-scoped-search js-jump-to"
>
  <div class="position-relative">
    <!-- '"` --><!-- </textarea></xmp> --></option></form><form class="js-site-search-form" role="search" aria-label="Site" data-scope-type="Repository" data-scope-id="526668617" data-scoped-search-url="/IBM-EPBL/IBM-Project-50803-1660924691/search" data-owner-scoped-search-url="/users/IBM-EPBL/search" data-unscoped-search-url="/search" data-turbo="false" action="/IBM-EPBL/IBM-Project-50803-1660924691/search" accept-charset="UTF-8" method="get">
      <label class="form-control header-search-wrapper input-sm p-0 js-chromeless-input-container header-search-wrapper-jump-to position-relative d-flex flex-justify-between flex-items-center">
        <input type="text"
          class="form-control js-site-search-focus header-search-input jump-to-field js-jump-to-field js-site-search-field is-clearable"
          data-hotkey=s,/
          name="q"
          data-test-selector="nav-search-input"
          placeholder="Search or jump to…"
          data-unscoped-placeholder="Search or jump to…"
          data-scoped-placeholder="Search or jump to…"
          autocapitalize="off"
          role="combobox"
          aria-haspopup="listbox"
          aria-expanded="false"
          aria-autocomplete="list"
          aria-controls="jump-to-results"
          aria-label="Search or jump to…"
          data-jump-to-suggestions-path="/_graphql/GetSuggestedNavigationDestinations"
          spellcheck="false"
          autocomplete="off"
        >
        <input type="hidden" value="GMzo7PSIn05p1-geZOSLjk_yOx7lB-IsYVWPa0RBzMuulc36PnfPbbth5oWzkkmSQZ-eMjWJzyXbTp-6HcH3ew" data-csrf="true" class="js-data-jump-to-suggestions-path-csrf" />
        <input type="hidden" class="js-site-search-type-field" name="type" >
            <svg xmlns="http://www.w3.org/2000/svg" width="22" height="20" aria-hidden="true" class="mr-1 header-search-key-slash"><path fill="none" stroke="#979A9C" opacity=".4" d="M3.5.5h12c1.7 0 3 1.3 3 3v13c0 1.7-1.3 3-3 3h-12c-1.7 0-3-1.3-3-3v-13c0-1.7 1.3-3 3-3z"></path><path fill="#979A9C" d="M11.8 6L8 15.1h-.9L10.8 6h1z"></path></svg>


          <div class="Box position-absolute overflow-hidden d-none jump-to-suggestions js-jump-to-suggestions-container">
            
<ul class="d-none js-jump-to-suggestions-template-container">
  

<li class="d-flex flex-justify-start flex-items-center p-0 f5 navigation-item js-navigation-item js-jump-to-suggestion" role="option">
  <a tabindex="-1" class="no-underline d-flex flex-auto flex-items-center jump-to-suggestions-path js-jump-to-suggestion-path js-navigation-open p-2" href="" data-item-type="suggestion">
    <div class="jump-to-octicon js-jump-to-octicon flex-shrink-0 mr-2 text-center d-none">
      <svg title="Repository" aria-label="Repository" role="img" height="16" viewBox="0 0 16 16" version="1.1" width="16" data-view-component="true" class="octicon octicon-repo js-jump-to-octicon-repo d-none flex-shrink-0">
    <path fill-rule="evenodd" d="M2 2.5A2.5 2.5 0 014.5 0h8.75a.75.75 0 01.75.75v12.5a.75.75 0 01-.75.75h-2.5a.75.75 0 110-1.5h1.75v-2h-8a1 1 0 00-.714 1.7.75.75 0 01-1.072 1.05A2.495 2.495 0 012 11.5v-9zm10.5-1V9h-8c-.356 0-.694.074-1 .208V2.5a1 1 0 011-1h8zM5 12.25v3.25a.25.25 0 00.4.2l1.45-1.087a.25.25 0 01.3 0L8.6 15.7a.25.25 0 00.4-.2v-3.25a.25.25 0 00-.25-.25h-3.5a.25.25 0 00-.25.25z"></path>
</svg>
      <svg title="Project" aria-label="Project" role="img" height="16" viewBox="0 0 16 16" version="1.1" width="16" data-view-component="true" class="octicon octicon-project js-jump-to-octicon-project d-none flex-shrink-0">
    <path fill-rule="evenodd" d="M1.75 0A1.75 1.75 0 000 1.75v12.5C0 15.216.784 16 1.75 16h12.5A1.75 1.75 0 0016 14.25V1.75A1.75 1.75 0 0014.25 0H1.75zM1.5 1.75a.25.25 0 01.25-.25h12.5a.25.25 0 01.25.25v12.5a.25.25 0 01-.25.25H1.75a.25.25 0 01-.25-.25V1.75zM11.75 3a.75.75 0 00-.75.75v7.5a.75.75 0 001.5 0v-7.5a.75.75 0 00-.75-.75zm-8.25.75a.75.75 0 011.5 0v5.5a.75.75 0 01-1.5 0v-5.5zM8 3a.75.75 0 00-.75.75v3.5a.75.75 0 001.5 0v-3.5A.75.75 0 008 3z"></path>
</svg>
      <svg title="Search" aria-label="Search" role="img" height="16" viewBox="0 0 16 16" version="1.1" width="16" data-view-component="true" class="octicon octicon-search js-jump-to-octicon-search d-none flex-shrink-0">
    <path fill-rule="evenodd" d="M11.5 7a4.499 4.499 0 11-8.998 0A4.499 4.499 0 0111.5 7zm-.82 4.74a6 6 0 111.06-1.06l3.04 3.04a.75.75 0 11-1.06 1.06l-3.04-3.04z"></path>
</svg>
    </div>

    <img class="avatar mr-2 flex-shrink-0 js-jump-to-suggestion-avatar d-none" alt="" aria-label="Team" src="" width="28" height="28">

    <div class="jump-to-suggestion-name js-jump-to-suggestion-name flex-auto overflow-hidden text-left no-wrap css-truncate css-truncate-target">
    </div>

    <div class="border rounded-2 flex-shrink-0 color-bg-subtle px-1 color-fg-muted ml-1 f6 d-none js-jump-to-badge-search">
      <span class="js-jump-to-badge-search-text-default d-none" aria-label="in this repository">
        In this repository
      </span>
      <span class="js-jump-to-badge-search-text-global d-none" aria-label="in all of GitHub">
        All GitHub
      </span>
      <span aria-hidden="true" class="d-inline-block ml-1 v-align-middle">↵</span>
    </div>

    <div aria-hidden="true" class="border rounded-2 flex-shrink-0 color-bg-subtle px-1 color-fg-muted ml-1 f6 d-none d-on-nav-focus js-jump-to-badge-jump">
      Jump to
      <span class="d-inline-block ml-1 v-align-middle">↵</span>
    </div>
  </a>
</li>

</ul>

<ul class="d-none js-jump-to-no-results-template-container">
  <li class="d-flex flex-justify-center flex-items-center f5 d-none js-jump-to-suggestion p-2">
    <span class="color-fg-muted">No suggested jump to results</span>
  </li>
</ul>

<ul id="jump-to-results" role="listbox" class="p-0 m-0 js-navigation-container jump-to-suggestions-results-container js-jump-to-suggestions-results-container">
  

<li class="d-flex flex-justify-start flex-items-center p-0 f5 navigation-item js-navigation-item js-jump-to-scoped-search d-none" role="option">
  <a tabindex="-1" class="no-underline d-flex flex-auto flex-items-center jump-to-suggestions-path js-jump-to-suggestion-path js-navigation-open p-2" href="" data-item-type="scoped_search">
    <div class="jump-to-octicon js-jump-to-octicon flex-shrink-0 mr-2 text-center d-none">
      <svg title="Repository" aria-label="Repository" role="img" height="16" viewBox="0 0 16 16" version="1.1" width="16" data-view-component="true" class="octicon octicon-repo js-jump-to-octicon-repo d-none flex-shrink-0">
    <path fill-rule="evenodd" d="M2 2.5A2.5 2.5 0 014.5 0h8.75a.75.75 0 01.75.75v12.5a.75.75 0 01-.75.75h-2.5a.75.75 0 110-1.5h1.75v-2h-8a1 1 0 00-.714 1.7.75.75 0 01-1.072 1.05A2.495 2.495 0 012 11.5v-9zm10.5-1V9h-8c-.356 0-.694.074-1 .208V2.5a1 1 0 011-1h8zM5 12.25v3.25a.25.25 0 00.4.2l1.45-1.087a.25.25 0 01.3 0L8.6 15.7a.25.25 0 00.4-.2v-3.25a.25.25 0 00-.25-.25h-3.5a.25.25 0 00-.25.25z"></path>
</svg>
      <svg title="Project" aria-label="Project" role="img" height="16" viewBox="0 0 16 16" version="1.1" width="16" data-view-component="true" class="octicon octicon-project js-jump-to-octicon-project d-none flex-shrink-0">
    <path fill-rule="evenodd" d="M1.75 0A1.75 1.75 0 000 1.75v12.5C0 15.216.784 16 1.75 16h12.5A1.75 1.75 0 0016 14.25V1.75A1.75 1.75 0 0014.25 0H1.75zM1.5 1.75a.25.25 0 01.25-.25h12.5a.25.25 0 01.25.25v12.5a.25.25 0 01-.25.25H1.75a.25.25 0 01-.25-.25V1.75zM11.75 3a.75.75 0 00-.75.75v7.5a.75.75 0 001.5 0v-7.5a.75.75 0 00-.75-.75zm-8.25.75a.75.75 0 011.5 0v5.5a.75.75 0 01-1.5 0v-5.5zM8 3a.75.75 0 00-.75.75v3.5a.75.75 0 001.5 0v-3.5A.75.75 0 008 3z"></path>
</svg>
      <svg title="Search" aria-label="Search" role="img" height="16" viewBox="0 0 16 16" version="1.1" width="16" data-view-component="true" class="octicon octicon-search js-jump-to-octicon-search d-none flex-shrink-0">
    <path fill-rule="evenodd" d="M11.5 7a4.499 4.499 0 11-8.998 0A4.499 4.499 0 0111.5 7zm-.82 4.74a6 6 0 111.06-1.06l3.04 3.04a.75.75 0 11-1.06 1.06l-3.04-3.04z"></path>
</svg>
    </div>

    <img class="avatar mr-2 flex-shrink-0 js-jump-to-suggestion-avatar d-none" alt="" aria-label="Team" src="" width="28" height="28">

    <div class="jump-to-suggestion-name js-jump-to-suggestion-name flex-auto overflow-hidden text-left no-wrap css-truncate css-truncate-target">
    </div>

    <div class="border rounded-2 flex-shrink-0 color-bg-subtle px-1 color-fg-muted ml-1 f6 d-none js-jump-to-badge-search">
      <span class="js-jump-to-badge-search-text-default d-none" aria-label="in this repository">
        In this repository
      </span>
      <span class="js-jump-to-badge-search-text-global d-none" aria-label="in all of GitHub">
        All GitHub
      </span>
      <span aria-hidden="true" class="d-inline-block ml-1 v-align-middle">↵</span>
    </div>

    <div aria-hidden="true" class="border rounded-2 flex-shrink-0 color-bg-subtle px-1 color-fg-muted ml-1 f6 d-none d-on-nav-focus js-jump-to-badge-jump">
      Jump to
      <span class="d-inline-block ml-1 v-align-middle">↵</span>
    </div>
  </a>
</li>

  

<li class="d-flex flex-justify-start flex-items-center p-0 f5 navigation-item js-navigation-item js-jump-to-owner-scoped-search d-none" role="option">
  <a tabindex="-1" class="no-underline d-flex flex-auto flex-items-center jump-to-suggestions-path js-jump-to-suggestion-path js-navigation-open p-2" href="" data-item-type="owner_scoped_search">
    <div class="jump-to-octicon js-jump-to-octicon flex-shrink-0 mr-2 text-center d-none">
      <svg title="Repository" aria-label="Repository" role="img" height="16" viewBox="0 0 16 16" version="1.1" width="16" data-view-component="true" class="octicon octicon-repo js-jump-to-octicon-repo d-none flex-shrink-0">
    <path fill-rule="evenodd" d="M2 2.5A2.5 2.5 0 014.5 0h8.75a.75.75 0 01.75.75v12.5a.75.75 0 01-.75.75h-2.5a.75.75 0 110-1.5h1.75v-2h-8a1 1 0 00-.714 1.7.75.75 0 01-1.072 1.05A2.495 2.495 0 012 11.5v-9zm10.5-1V9h-8c-.356 0-.694.074-1 .208V2.5a1 1 0 011-1h8zM5 12.25v3.25a.25.25 0 00.4.2l1.45-1.087a.25.25 0 01.3 0L8.6 15.7a.25.25 0 00.4-.2v-3.25a.25.25 0 00-.25-.25h-3.5a.25.25 0 00-.25.25z"></path>
</svg>
      <svg title="Project" aria-label="Project" role="img" height="16" viewBox="0 0 16 16" version="1.1" width="16" data-view-component="true" class="octicon octicon-project js-jump-to-octicon-project d-none flex-shrink-0">
    <path fill-rule="evenodd" d="M1.75 0A1.75 1.75 0 000 1.75v12.5C0 15.216.784 16 1.75 16h12.5A1.75 1.75 0 0016 14.25V1.75A1.75 1.75 0 0014.25 0H1.75zM1.5 1.75a.25.25 0 01.25-.25h12.5a.25.25 0 01.25.25v12.5a.25.25 0 01-.25.25H1.75a.25.25 0 01-.25-.25V1.75zM11.75 3a.75.75 0 00-.75.75v7.5a.75.75 0 001.5 0v-7.5a.75.75 0 00-.75-.75zm-8.25.75a.75.75 0 011.5 0v5.5a.75.75 0 01-1.5 0v-5.5zM8 3a.75.75 0 00-.75.75v3.5a.75.75 0 001.5 0v-3.5A.75.75 0 008 3z"></path>
</svg>
      <svg title="Search" aria-label="Search" role="img" height="16" viewBox="0 0 16 16" version="1.1" width="16" data-view-component="true" class="octicon octicon-search js-jump-to-octicon-search d-none flex-shrink-0">
    <path fill-rule="evenodd" d="M11.5 7a4.499 4.499 0 11-8.998 0A4.499 4.499 0 0111.5 7zm-.82 4.74a6 6 0 111.06-1.06l3.04 3.04a.75.75 0 11-1.06 1.06l-3.04-3.04z"></path>
</svg>
    </div>

    <img class="avatar mr-2 flex-shrink-0 js-jump-to-suggestion-avatar d-none" alt="" aria-label="Team" src="" width="28" height="28">

    <div class="jump-to-suggestion-name js-jump-to-suggestion-name flex-auto overflow-hidden text-left no-wrap css-truncate css-truncate-target">
    </div>

    <div class="border rounded-2 flex-shrink-0 color-bg-subtle px-1 color-fg-muted ml-1 f6 d-none js-jump-to-badge-search">
      <span class="js-jump-to-badge-search-text-default d-none" aria-label="in this user">
        In this user
      </span>
      <span class="js-jump-to-badge-search-text-global d-none" aria-label="in all of GitHub">
        All GitHub
      </span>
      <span aria-hidden="true" class="d-inline-block ml-1 v-align-middle">↵</span>
    </div>

    <div aria-hidden="true" class="border rounded-2 flex-shrink-0 color-bg-subtle px-1 color-fg-muted ml-1 f6 d-none d-on-nav-focus js-jump-to-badge-jump">
      Jump to
      <span class="d-inline-block ml-1 v-align-middle">↵</span>
    </div>
  </a>
</li>

  

<li class="d-flex flex-justify-start flex-items-center p-0 f5 navigation-item js-navigation-item js-jump-to-global-search d-none" role="option">
  <a tabindex="-1" class="no-underline d-flex flex-auto flex-items-center jump-to-suggestions-path js-jump-to-suggestion-path js-navigation-open p-2" href="" data-item-type="global_search">
    <div class="jump-to-octicon js-jump-to-octicon flex-shrink-0 mr-2 text-center d-none">
      <svg title="Repository" aria-label="Repository" role="img" height="16" viewBox="0 0 16 16" version="1.1" width="16" data-view-component="true" class="octicon octicon-repo js-jump-to-octicon-repo d-none flex-shrink-0">
    <path fill-rule="evenodd" d="M2 2.5A2.5 2.5 0 014.5 0h8.75a.75.75 0 01.75.75v12.5a.75.75 0 01-.75.75h-2.5a.75.75 0 110-1.5h1.75v-2h-8a1 1 0 00-.714 1.7.75.75 0 01-1.072 1.05A2.495 2.495 0 012 11.5v-9zm10.5-1V9h-8c-.356 0-.694.074-1 .208V2.5a1 1 0 011-1h8zM5 12.25v3.25a.25.25 0 00.4.2l1.45-1.087a.25.25 0 01.3 0L8.6 15.7a.25.25 0 00.4-.2v-3.25a.25.25 0 00-.25-.25h-3.5a.25.25 0 00-.25.25z"></path>
</svg>
      <svg title="Project" aria-label="Project" role="img" height="16" viewBox="0 0 16 16" version="1.1" width="16" data-view-component="true" class="octicon octicon-project js-jump-to-octicon-project d-none flex-shrink-0">
    <path fill-rule="evenodd" d="M1.75 0A1.75 1.75 0 000 1.75v12.5C0 15.216.784 16 1.75 16h12.5A1.75 1.75 0 0016 14.25V1.75A1.75 1.75 0 0014.25 0H1.75zM1.5 1.75a.25.25 0 01.25-.25h12.5a.25.25 0 01.25.25v12.5a.25.25 0 01-.25.25H1.75a.25.25 0 01-.25-.25V1.75zM11.75 3a.75.75 0 00-.75.75v7.5a.75.75 0 001.5 0v-7.5a.75.75 0 00-.75-.75zm-8.25.75a.75.75 0 011.5 0v5.5a.75.75 0 01-1.5 0v-5.5zM8 3a.75.75 0 00-.75.75v3.5a.75.75 0 001.5 0v-3.5A.75.75 0 008 3z"></path>
</svg>
      <svg title="Search" aria-label="Search" role="img" height="16" viewBox="0 0 16 16" version="1.1" width="16" data-view-component="true" class="octicon octicon-search js-jump-to-octicon-search d-none flex-shrink-0">
    <path fill-rule="evenodd" d="M11.5 7a4.499 4.499 0 11-8.998 0A4.499 4.499 0 0111.5 7zm-.82 4.74a6 6 0 111.06-1.06l3.04 3.04a.75.75 0 11-1.06 1.06l-3.04-3.04z"></path>
</svg>
    </div>

    <img class="avatar mr-2 flex-shrink-0 js-jump-to-suggestion-avatar d-none" alt="" aria-label="Team" src="" width="28" height="28">

    <div class="jump-to-suggestion-name js-jump-to-suggestion-name flex-auto overflow-hidden text-left no-wrap css-truncate css-truncate-target">
    </div>

    <div class="border rounded-2 flex-shrink-0 color-bg-subtle px-1 color-fg-muted ml-1 f6 d-none js-jump-to-badge-search">
      <span class="js-jump-to-badge-search-text-default d-none" aria-label="in this repository">
        In this repository
      </span>
      <span class="js-jump-to-badge-search-text-global d-none" aria-label="in all of GitHub">
        All GitHub
      </span>
      <span aria-hidden="true" class="d-inline-block ml-1 v-align-middle">↵</span>
    </div>

    <div aria-hidden="true" class="border rounded-2 flex-shrink-0 color-bg-subtle px-1 color-fg-muted ml-1 f6 d-none d-on-nav-focus js-jump-to-badge-jump">
      Jump to
      <span class="d-inline-block ml-1 v-align-middle">↵</span>
    </div>
  </a>
</li>


    <li class="d-flex flex-justify-center flex-items-center p-0 f5 js-jump-to-suggestion">
      <svg style="box-sizing: content-box; color: var(--color-icon-primary);" width="32" height="32" viewBox="0 0 16 16" fill="none" data-view-component="true" class="m-3 anim-rotate">
  <circle cx="8" cy="8" r="7" stroke="currentColor" stroke-opacity="0.25" stroke-width="2" vector-effect="non-scaling-stroke" />
  <path d="M15 8a7.002 7.002 0 00-7-7" stroke="currentColor" stroke-width="2" stroke-linecap="round" vector-effect="non-scaling-stroke" />
</svg>
    </li>
</ul>

          </div>
      </label>
</form>  </div>
</div>

        <nav id="global-nav" class="d-flex flex-column flex-md-row flex-self-stretch flex-md-self-auto" aria-label="Global">
    <a class="Header-link py-md-3 d-block d-md-none py-2 border-top border-md-top-0 border-white-fade" data-ga-click="Header, click, Nav menu - item:dashboard:user" aria-label="Dashboard" data-turbo="false" href="/dashboard">Dashboard</a>

  <a class="js-selected-navigation-item Header-link mt-md-n3 mb-md-n3 py-2 py-md-3 mr-0 mr-md-3 border-top border-md-top-0 border-white-fade" data-hotkey="g p" data-ga-click="Header, click, Nav menu - item:pulls context:user" aria-label="Pull requests you created" data-turbo="false" data-selected-links="/pulls /pulls/assigned /pulls/mentioned /pulls" href="/pulls">
      Pull<span class="d-inline d-md-none d-lg-inline"> request</span>s
</a>
  <a class="js-selected-navigation-item Header-link mt-md-n3 mb-md-n3 py-2 py-md-3 mr-0 mr-md-3 border-top border-md-top-0 border-white-fade" data-hotkey="g i" data-ga-click="Header, click, Nav menu - item:issues context:user" aria-label="Issues you created" data-turbo="false" data-selected-links="/issues /issues/assigned /issues/mentioned /issues" href="/issues">Issues</a>

    <a class="js-selected-navigation-item Header-link mt-md-n3 mb-md-n3 py-2 py-md-3 mr-0 mr-md-3 border-top border-md-top-0 border-white-fade d-md-none" data-ga-click="Header, click, Nav menu - item:workspaces context:user" data-turbo="false" data-selected-links="/codespaces /codespaces" href="/codespaces">Codespaces</a>

    <div class="d-flex position-relative">
      <a class="js-selected-navigation-item Header-link flex-auto mt-md-n3 mb-md-n3 py-2 py-md-3 mr-0 mr-md-3 border-top border-md-top-0 border-white-fade" data-ga-click="Header, click, Nav menu - item:marketplace context:user" data-octo-click="marketplace_click" data-octo-dimensions="location:nav_bar" data-turbo="false" data-selected-links=" /marketplace" href="/marketplace">Marketplace</a>
    </div>

  <a class="js-selected-navigation-item Header-link mt-md-n3 mb-md-n3 py-2 py-md-3 mr-0 mr-md-3 border-top border-md-top-0 border-white-fade" data-ga-click="Header, click, Nav menu - item:explore" data-turbo="false" data-selected-links="/explore /trending /trending/developers /integrations /integrations/feature/code /integrations/feature/collaborate /integrations/feature/ship showcases showcases_search showcases_landing /explore" href="/explore">Explore</a>

      <a class="js-selected-navigation-item Header-link d-block d-md-none py-2 py-md-3 border-top border-md-top-0 border-white-fade" data-ga-click="Header, click, Nav menu - item:Sponsors" data-hydro-click="{&quot;event_type&quot;:&quot;sponsors.button_click&quot;,&quot;payload&quot;:{&quot;button&quot;:&quot;HEADER_SPONSORS_DASHBOARD&quot;,&quot;sponsorable_login&quot;:&quot;SteffigrafR&quot;,&quot;originating_url&quot;:&quot;https://github.com/IBM-EPBL/IBM-Project-50803-1660924691/blame/main/Dataset%20Collection/Data_Exploration.ipynb&quot;,&quot;user_id&quot;:115458962}}" data-hydro-click-hmac="7c8fef633a07254647599bd1cc9e8e6d5399ee88bb218baf8f1d35034f13458a" data-turbo="false" data-selected-links=" /sponsors/accounts" href="/sponsors/accounts">Sponsors</a>

    <a class="Header-link d-block d-md-none mr-0 mr-md-3 py-2 py-md-3 border-top border-md-top-0 border-white-fade" data-turbo="false" href="/settings/profile">Settings</a>

    <a class="Header-link d-block d-md-none mr-0 mr-md-3 py-2 py-md-3 border-top border-md-top-0 border-white-fade" data-turbo="false" href="/SteffigrafR">
      <img class="avatar avatar-user" loading="lazy" decoding="async" src="https://avatars.githubusercontent.com/u/115458962?s=40&amp;v=4" width="20" height="20" alt="@SteffigrafR" />
      SteffigrafR
</a>
    <!-- '"` --><!-- </textarea></xmp> --></option></form><form data-turbo="false" action="/logout" accept-charset="UTF-8" method="post"><input type="hidden" name="authenticity_token" value="ySzXrvpjBrQi_2NoOazCbY_JunqMT88l_7T4Li6uQNTrTZKnMAIb9kc6iYVhHqcO9uhwvfxOQhbYGKBdJFyKyw" />
      <button
        type="submit"
        class="Header-link mr-0 mr-md-3 py-2 py-md-3 border-top border-md-top-0 border-white-fade d-md-none btn-link d-block width-full text-left"
        style="padding-left: 2px;"
        data-analytics-event="{&quot;category&quot;:&quot;Header&quot;,&quot;action&quot;:&quot;sign out&quot;,&quot;label&quot;:&quot;icon:logout&quot;}"
      >
        <svg aria-hidden="true" height="16" viewBox="0 0 16 16" version="1.1" width="16" data-view-component="true" class="octicon octicon-sign-out v-align-middle">
    <path fill-rule="evenodd" d="M2 2.75C2 1.784 2.784 1 3.75 1h2.5a.75.75 0 010 1.5h-2.5a.25.25 0 00-.25.25v10.5c0 .138.112.25.25.25h2.5a.75.75 0 010 1.5h-2.5A1.75 1.75 0 012 13.25V2.75zm10.44 4.5H6.75a.75.75 0 000 1.5h5.69l-1.97 1.97a.75.75 0 101.06 1.06l3.25-3.25a.75.75 0 000-1.06l-3.25-3.25a.75.75 0 10-1.06 1.06l1.97 1.97z"></path>
</svg>
        Sign out
      </button>
</form></nav>

    </div>

    <div class="Header-item Header-item--full flex-justify-center d-md-none position-relative">
        <a
  class="Header-link"
  href="https://github.com/"
  data-hotkey="g d"
  aria-label="Homepage "
  data-turbo="false"
  data-analytics-event="{&quot;category&quot;:&quot;Header&quot;,&quot;action&quot;:&quot;go to dashboard&quot;,&quot;label&quot;:&quot;icon:logo&quot;}"
>
  <svg height="32" aria-hidden="true" viewBox="0 0 16 16" version="1.1" width="32" data-view-component="true" class="octicon octicon-mark-github v-align-middle">
    <path fill-rule="evenodd" d="M8 0C3.58 0 0 3.58 0 8c0 3.54 2.29 6.53 5.47 7.59.4.07.55-.17.55-.38 0-.19-.01-.82-.01-1.49-2.01.37-2.53-.49-2.69-.94-.09-.23-.48-.94-.82-1.13-.28-.15-.68-.52-.01-.53.63-.01 1.08.58 1.23.82.72 1.21 1.87.87 2.33.66.07-.52.28-.87.51-1.07-1.78-.2-3.64-.89-3.64-3.95 0-.87.31-1.59.82-2.15-.08-.2-.36-1.02.08-2.12 0 0 .67-.21 2.2.82.64-.18 1.32-.27 2-.27.68 0 1.36.09 2 .27 1.53-1.04 2.2-.82 2.2-.82.44 1.1.16 1.92.08 2.12.51.56.82 1.27.82 2.15 0 3.07-1.87 3.75-3.65 3.95.29.25.54.73.54 1.48 0 1.07-.01 1.93-.01 2.2 0 .21.15.46.55.38A8.013 8.013 0 0016 8c0-4.42-3.58-8-8-8z"></path>
</svg>
</a>

    </div>

    <div class="Header-item mr-0 mr-md-3 flex-order-1 flex-md-order-none">
        

<notification-indicator data-channel="eyJjIjoibm90aWZpY2F0aW9uLWNoYW5nZWQ6MTE1NDU4OTYyIiwidCI6MTY2NjI1ODU5NH0=--9d862e55d766d8c20f1096c126b501fca167930bb19aac26f8857d74f073ef88" data-indicator-mode="none" data-tooltip-global="You have unread notifications" data-tooltip-unavailable="Notifications are unavailable at the moment." data-tooltip-none="You have no unread notifications" data-view-component="true" class="js-socket-channel">
  <a id="AppHeader-notifications-button" href="/notifications"
    class="Header-link notification-indicator position-relative tooltipped tooltipped-sw"

    

    data-hotkey="g n"
    data-target="notification-indicator.link"
    aria-label="Notifications"

      data-analytics-event="{&quot;category&quot;:&quot;Header&quot;,&quot;action&quot;:&quot;go to notifications&quot;,&quot;label&quot;:&quot;icon:read&quot;}"
  >

    <span
      data-target="notification-indicator.badge"
      class="mail-status unread" hidden>
    </span>

      <svg aria-hidden="true" height="16" viewBox="0 0 16 16" version="1.1" width="16" data-view-component="true" class="octicon octicon-bell">
    <path d="M8 16a2 2 0 001.985-1.75c.017-.137-.097-.25-.235-.25h-3.5c-.138 0-.252.113-.235.25A2 2 0 008 16z"></path><path fill-rule="evenodd" d="M8 1.5A3.5 3.5 0 004.5 5v2.947c0 .346-.102.683-.294.97l-1.703 2.556a.018.018 0 00-.003.01l.001.006c0 .002.002.004.004.006a.017.017 0 00.006.004l.007.001h10.964l.007-.001a.016.016 0 00.006-.004.016.016 0 00.004-.006l.001-.007a.017.017 0 00-.003-.01l-1.703-2.554a1.75 1.75 0 01-.294-.97V5A3.5 3.5 0 008 1.5zM3 5a5 5 0 0110 0v2.947c0 .05.015.098.042.139l1.703 2.555A1.518 1.518 0 0113.482 13H2.518a1.518 1.518 0 01-1.263-2.36l1.703-2.554A.25.25 0 003 7.947V5z"></path>
</svg>
  </a>

</notification-indicator>
    </div>


    <div class="Header-item position-relative d-none d-md-flex">
        <details class="details-overlay details-reset">
  <summary
    class="Header-link"
    aria-label="Create new…"
    data-analytics-event="{&quot;category&quot;:&quot;Header&quot;,&quot;action&quot;:&quot;create new&quot;,&quot;label&quot;:&quot;icon:add&quot;}"
  >
    <svg aria-hidden="true" height="16" viewBox="0 0 16 16" version="1.1" width="16" data-view-component="true" class="octicon octicon-plus">
    <path fill-rule="evenodd" d="M7.75 2a.75.75 0 01.75.75V7h4.25a.75.75 0 110 1.5H8.5v4.25a.75.75 0 11-1.5 0V8.5H2.75a.75.75 0 010-1.5H7V2.75A.75.75 0 017.75 2z"></path>
</svg> <span class="dropdown-caret"></span>
  </summary>
  <details-menu class="dropdown-menu dropdown-menu-sw">
    
<a role="menuitem" class="dropdown-item" href="/new" data-ga-click="Header, create new repository">
  New repository
</a>

  <a role="menuitem" class="dropdown-item" href="/new/import" data-ga-click="Header, import a repository">
    Import repository
  </a>


<a role="menuitem" class="dropdown-item" href="https://gist.github.com/" data-ga-click="Header, create new gist">
  New gist
</a>

  <a role="menuitem" class="dropdown-item" href="/organizations/new" data-ga-click="Header, create new organization">
    New organization
  </a>



  </details-menu>
</details>

    </div>

    <div class="Header-item position-relative mr-0 d-none d-md-flex">
        
  <details class="details-overlay details-reset js-feature-preview-indicator-container" data-feature-preview-indicator-src="/users/SteffigrafR/feature_preview/indicator_check">

  <summary
    class="Header-link"
    aria-label="View profile and more"
    data-analytics-event="{&quot;category&quot;:&quot;Header&quot;,&quot;action&quot;:&quot;show menu&quot;,&quot;label&quot;:&quot;icon:avatar&quot;}"
  >
    <img src="https://avatars.githubusercontent.com/u/115458962?s=40&amp;v=4" alt="@SteffigrafR" size="20" height="20" width="20" data-view-component="true" class="avatar avatar-small circle" />
      <span class="unread-indicator js-feature-preview-indicator" style="top: 1px;" hidden></span>
    <span class="dropdown-caret"></span>
  </summary>
  <details-menu
      class="dropdown-menu dropdown-menu-sw"
      style="width: 180px"
      
      preload>
      <include-fragment src="/users/115458962/menu" loading="lazy">
        <p class="text-center mt-3" data-hide-on-error>
          <svg style="box-sizing: content-box; color: var(--color-icon-primary);" width="32" height="32" viewBox="0 0 16 16" fill="none" data-view-component="true" class="anim-rotate">
  <circle cx="8" cy="8" r="7" stroke="currentColor" stroke-opacity="0.25" stroke-width="2" vector-effect="non-scaling-stroke" />
  <path d="M15 8a7.002 7.002 0 00-7-7" stroke="currentColor" stroke-width="2" stroke-linecap="round" vector-effect="non-scaling-stroke" />
</svg>
        </p>
        <p class="ml-1 mb-2 mt-2 color-fg-default" data-show-on-error>
          <svg aria-hidden="true" height="16" viewBox="0 0 16 16" version="1.1" width="16" data-view-component="true" class="octicon octicon-alert">
    <path fill-rule="evenodd" d="M8.22 1.754a.25.25 0 00-.44 0L1.698 13.132a.25.25 0 00.22.368h12.164a.25.25 0 00.22-.368L8.22 1.754zm-1.763-.707c.659-1.234 2.427-1.234 3.086 0l6.082 11.378A1.75 1.75 0 0114.082 15H1.918a1.75 1.75 0 01-1.543-2.575L6.457 1.047zM9 11a1 1 0 11-2 0 1 1 0 012 0zm-.25-5.25a.75.75 0 00-1.5 0v2.5a.75.75 0 001.5 0v-2.5z"></path>
</svg>
          Sorry, something went wrong.
        </p>
      </include-fragment>
  </details-menu>
</details>

    </div>
</header>

            
    </div>

  <div id="start-of-content" class="show-on-focus"></div>







    <div id="js-flash-container" data-turbo-replace>




  <template class="js-flash-template">
    
<div class="flash flash-full   {{ className }}">
  <div class="px-2" >
    <button autofocus class="flash-close js-flash-close" type="button" aria-label="Dismiss this message">
      <svg aria-hidden="true" height="16" viewBox="0 0 16 16" version="1.1" width="16" data-view-component="true" class="octicon octicon-x">
    <path fill-rule="evenodd" d="M3.72 3.72a.75.75 0 011.06 0L8 6.94l3.22-3.22a.75.75 0 111.06 1.06L9.06 8l3.22 3.22a.75.75 0 11-1.06 1.06L8 9.06l-3.22 3.22a.75.75 0 01-1.06-1.06L6.94 8 3.72 4.78a.75.75 0 010-1.06z"></path>
</svg>
    </button>
    <div aria-atomic="true" role="alert" class="js-flash-alert">
      
      <div>{{ message }}</div>

    </div>
  </div>
</div>
  </template>
</div>


    
  <include-fragment class="js-notification-shelf-include-fragment" data-base-src="https://github.com/notifications/beta/shelf"></include-fragment>





      <details
  class="details-reset details-overlay details-overlay-dark js-command-palette-dialog"
  id="command-palette-pjax-container"
  data-turbo-replace
>
  <summary aria-label="command palette trigger">
  </summary>
  <details-dialog class="command-palette-details-dialog d-flex flex-column flex-justify-center height-fit" aria-label="command palette">
    <command-palette
      class="command-palette color-bg-default rounded-3 border color-shadow-small"
      return-to=/IBM-EPBL/IBM-Project-50803-1660924691/blame/main/Dataset%20Collection/Data_Exploration.ipynb
      user-id="115458962"
      activation-hotkey="Mod+k,Mod+Alt+k"
      command-mode-hotkey="Mod+Shift+k"
      data-action="
        command-palette-input-ready:command-palette#inputReady
        command-palette-page-stack-updated:command-palette#updateInputScope
        itemsUpdated:command-palette#itemsUpdated
        keydown:command-palette#onKeydown
        loadingStateChanged:command-palette#loadingStateChanged
        selectedItemChanged:command-palette#selectedItemChanged
        pageFetchError:command-palette#pageFetchError
      ">

        <command-palette-mode
          data-char="#"
            data-scope-types="[&quot;&quot;]"
            data-placeholder="Search issues and pull requests"
        ></command-palette-mode>
        <command-palette-mode
          data-char="#"
            data-scope-types="[&quot;owner&quot;,&quot;repository&quot;]"
            data-placeholder="Search issues, pull requests, discussions, and projects"
        ></command-palette-mode>
        <command-palette-mode
          data-char="!"
            data-scope-types="[&quot;owner&quot;,&quot;repository&quot;]"
            data-placeholder="Search projects"
        ></command-palette-mode>
        <command-palette-mode
          data-char="@"
            data-scope-types="[&quot;&quot;]"
            data-placeholder="Search or jump to a user, organization, or repository"
        ></command-palette-mode>
        <command-palette-mode
          data-char="@"
            data-scope-types="[&quot;owner&quot;]"
            data-placeholder="Search or jump to a repository"
        ></command-palette-mode>
        <command-palette-mode
          data-char="/"
            data-scope-types="[&quot;repository&quot;]"
            data-placeholder="Search files"
        ></command-palette-mode>
        <command-palette-mode
          data-char="?"
        ></command-palette-mode>
        <command-palette-mode
          data-char="&gt;"
            data-placeholder="Run a command"
        ></command-palette-mode>
        <command-palette-mode
          data-char=""
            data-scope-types="[&quot;&quot;]"
            data-placeholder="Search or jump to..."
        ></command-palette-mode>
        <command-palette-mode
          data-char=""
            data-scope-types="[&quot;owner&quot;]"
            data-placeholder="Search or jump to..."
        ></command-palette-mode>
      <command-palette-mode
        class="js-command-palette-default-mode"
        data-char=""
        data-placeholder="Search or jump to..."
      ></command-palette-mode>

      <command-palette-input placeholder="Search or jump to..."

        data-action="
          command-palette-input:command-palette#onInput
          command-palette-select:command-palette#onSelect
          command-palette-descope:command-palette#onDescope
          command-palette-cleared:command-palette#onInputClear
        "
      >
        <div class="js-search-icon d-flex flex-items-center mr-2" style="height: 26px">
          <svg aria-hidden="true" height="16" viewBox="0 0 16 16" version="1.1" width="16" data-view-component="true" class="octicon octicon-search color-fg-muted">
    <path fill-rule="evenodd" d="M11.5 7a4.499 4.499 0 11-8.998 0A4.499 4.499 0 0111.5 7zm-.82 4.74a6 6 0 111.06-1.06l3.04 3.04a.75.75 0 11-1.06 1.06l-3.04-3.04z"></path>
</svg>
        </div>
        <div class="js-spinner d-flex flex-items-center mr-2 color-fg-muted" hidden>
          <svg aria-label="Loading" class="anim-rotate" viewBox="0 0 16 16" fill="none" width="16" height="16">
            <circle
              cx="8"
              cy="8"
              r="7"
              stroke="currentColor"
              stroke-opacity="0.25"
              stroke-width="2"
              vector-effect="non-scaling-stroke"
            ></circle>
            <path
              d="M15 8a7.002 7.002 0 00-7-7"
              stroke="currentColor"
              stroke-width="2"
              stroke-linecap="round"
              vector-effect="non-scaling-stroke"
            ></path>
          </svg>
        </div>
        <command-palette-scope >
          <div data-target="command-palette-scope.placeholder" hidden class="color-fg-subtle">/&nbsp;&nbsp;<span class="text-semibold color-fg-default">...</span>&nbsp;&nbsp;/&nbsp;&nbsp;</div>
              <command-palette-token
                data-text="IBM-EPBL"
                data-id="U_kgDOBh0s5w"
                data-type="owner"
                data-value="IBM-EPBL"
                data-targets="command-palette-scope.tokens"
                class="color-fg-default text-semibold"
                style="white-space:nowrap;line-height:20px;"
                >IBM-EPBL<span class="color-fg-subtle text-normal">&nbsp;&nbsp;/&nbsp;&nbsp;</span></command-palette-token>
              <command-palette-token
                data-text="IBM-Project-50803-1660924691"
                data-id="R_kgDOH2RTSQ"
                data-type="repository"
                data-value="IBM-Project-50803-1660924691"
                data-targets="command-palette-scope.tokens"
                class="color-fg-default text-semibold"
                style="white-space:nowrap;line-height:20px;"
                >IBM-Project-50803...<span class="color-fg-subtle text-normal">&nbsp;&nbsp;/&nbsp;&nbsp;</span></command-palette-token>
        </command-palette-scope>
        <div class="command-palette-input-group flex-1 form-control border-0 box-shadow-none" style="z-index: 0">
          <div class="command-palette-typeahead position-absolute d-flex flex-items-center Truncate">
            <span class="typeahead-segment input-mirror" data-target="command-palette-input.mirror"></span>
            <span class="Truncate-text" data-target="command-palette-input.typeaheadText"></span>
            <span class="typeahead-segment" data-target="command-palette-input.typeaheadPlaceholder"></span>
          </div>
          <input
            class="js-overlay-input typeahead-input d-none"
            disabled
            tabindex="-1"
            aria-label="Hidden input for typeahead"
          >
          <input
            type="text"
            autocomplete="off"
            autocorrect="off"
            autocapitalize="off"
            spellcheck="false"
            class="js-input typeahead-input form-control border-0 box-shadow-none input-block width-full no-focus-indicator"
            aria-label="Command palette input"
            aria-haspopup="listbox"
            aria-expanded="false"
            aria-autocomplete="list"
            aria-controls="command-palette-page-stack"
            role="combobox"
            data-action="
              input:command-palette-input#onInput
              keydown:command-palette-input#onKeydown
            "
          >
        </div>
          <div data-view-component="true" class="position-relative d-inline-block">
    <button aria-keyshortcuts="Control+Backspace" data-action="click:command-palette-input#onClear keypress:command-palette-input#onClear" data-target="command-palette-input.clearButton" id="command-palette-clear-button" hidden="hidden" type="button" data-view-component="true" class="btn-octicon command-palette-input-clear-button">      <svg aria-hidden="true" height="16" viewBox="0 0 16 16" version="1.1" width="16" data-view-component="true" class="octicon octicon-x-circle-fill">
    <path fill-rule="evenodd" d="M2.343 13.657A8 8 0 1113.657 2.343 8 8 0 012.343 13.657zM6.03 4.97a.75.75 0 00-1.06 1.06L6.94 8 4.97 9.97a.75.75 0 101.06 1.06L8 9.06l1.97 1.97a.75.75 0 101.06-1.06L9.06 8l1.97-1.97a.75.75 0 10-1.06-1.06L8 6.94 6.03 4.97z"></path>
</svg>
</button>    <tool-tip for="command-palette-clear-button" data-direction="w" data-type="label" data-view-component="true" class="sr-only position-absolute">Clear Command Palette</tool-tip>
</div>
      </command-palette-input>

      <command-palette-page-stack
        data-default-scope-id="R_kgDOH2RTSQ"
        data-default-scope-type="Repository"
        data-action="command-palette-page-octicons-cached:command-palette-page-stack#cacheOcticons"
      >
          <command-palette-tip
            class="color-fg-muted f6 px-3 py-1 my-2"
              data-scope-types="[&quot;&quot;,&quot;owner&quot;,&quot;repository&quot;]"
            data-mode=""
            data-value="">
            <div class="d-flex flex-items-start flex-justify-between">
              <div>
                <span class="text-bold">Tip:</span>
                  Type <kbd class="hx_kbd">#</kbd> to search pull requests
              </div>
              <div class="ml-2 flex-shrink-0">
                Type <kbd class="hx_kbd">?</kbd> for help and tips
              </div>
            </div>
          </command-palette-tip>
          <command-palette-tip
            class="color-fg-muted f6 px-3 py-1 my-2"
              data-scope-types="[&quot;&quot;,&quot;owner&quot;,&quot;repository&quot;]"
            data-mode=""
            data-value="">
            <div class="d-flex flex-items-start flex-justify-between">
              <div>
                <span class="text-bold">Tip:</span>
                  Type <kbd class="hx_kbd">#</kbd> to search issues
              </div>
              <div class="ml-2 flex-shrink-0">
                Type <kbd class="hx_kbd">?</kbd> for help and tips
              </div>
            </div>
          </command-palette-tip>
          <command-palette-tip
            class="color-fg-muted f6 px-3 py-1 my-2"
              data-scope-types="[&quot;owner&quot;,&quot;repository&quot;]"
            data-mode=""
            data-value="">
            <div class="d-flex flex-items-start flex-justify-between">
              <div>
                <span class="text-bold">Tip:</span>
                  Type <kbd class="hx_kbd">#</kbd> to search discussions
              </div>
              <div class="ml-2 flex-shrink-0">
                Type <kbd class="hx_kbd">?</kbd> for help and tips
              </div>
            </div>
          </command-palette-tip>
          <command-palette-tip
            class="color-fg-muted f6 px-3 py-1 my-2"
              data-scope-types="[&quot;owner&quot;,&quot;repository&quot;]"
            data-mode=""
            data-value="">
            <div class="d-flex flex-items-start flex-justify-between">
              <div>
                <span class="text-bold">Tip:</span>
                  Type <kbd class="hx_kbd">!</kbd> to search projects
              </div>
              <div class="ml-2 flex-shrink-0">
                Type <kbd class="hx_kbd">?</kbd> for help and tips
              </div>
            </div>
          </command-palette-tip>
          <command-palette-tip
            class="color-fg-muted f6 px-3 py-1 my-2"
              data-scope-types="[&quot;owner&quot;]"
            data-mode=""
            data-value="">
            <div class="d-flex flex-items-start flex-justify-between">
              <div>
                <span class="text-bold">Tip:</span>
                  Type <kbd class="hx_kbd">@</kbd> to search teams
              </div>
              <div class="ml-2 flex-shrink-0">
                Type <kbd class="hx_kbd">?</kbd> for help and tips
              </div>
            </div>
          </command-palette-tip>
          <command-palette-tip
            class="color-fg-muted f6 px-3 py-1 my-2"
              data-scope-types="[&quot;&quot;]"
            data-mode=""
            data-value="">
            <div class="d-flex flex-items-start flex-justify-between">
              <div>
                <span class="text-bold">Tip:</span>
                  Type <kbd class="hx_kbd">@</kbd> to search people and organizations
              </div>
              <div class="ml-2 flex-shrink-0">
                Type <kbd class="hx_kbd">?</kbd> for help and tips
              </div>
            </div>
          </command-palette-tip>
          <command-palette-tip
            class="color-fg-muted f6 px-3 py-1 my-2"
              data-scope-types="[&quot;&quot;,&quot;owner&quot;,&quot;repository&quot;]"
            data-mode=""
            data-value="">
            <div class="d-flex flex-items-start flex-justify-between">
              <div>
                <span class="text-bold">Tip:</span>
                  Type <kbd class="hx_kbd">&gt;</kbd> to activate command mode
              </div>
              <div class="ml-2 flex-shrink-0">
                Type <kbd class="hx_kbd">?</kbd> for help and tips
              </div>
            </div>
          </command-palette-tip>
          <command-palette-tip
            class="color-fg-muted f6 px-3 py-1 my-2"
              data-scope-types="[&quot;&quot;,&quot;owner&quot;,&quot;repository&quot;]"
            data-mode=""
            data-value="">
            <div class="d-flex flex-items-start flex-justify-between">
              <div>
                <span class="text-bold">Tip:</span>
                  Go to your accessibility settings to change your keyboard shortcuts
              </div>
              <div class="ml-2 flex-shrink-0">
                Type <kbd class="hx_kbd">?</kbd> for help and tips
              </div>
            </div>
          </command-palette-tip>
          <command-palette-tip
            class="color-fg-muted f6 px-3 py-1 my-2"
              data-scope-types="[&quot;&quot;,&quot;owner&quot;,&quot;repository&quot;]"
            data-mode="#"
            data-value="">
            <div class="d-flex flex-items-start flex-justify-between">
              <div>
                <span class="text-bold">Tip:</span>
                  Type author:@me to search your content
              </div>
              <div class="ml-2 flex-shrink-0">
                Type <kbd class="hx_kbd">?</kbd> for help and tips
              </div>
            </div>
          </command-palette-tip>
          <command-palette-tip
            class="color-fg-muted f6 px-3 py-1 my-2"
              data-scope-types="[&quot;&quot;,&quot;owner&quot;,&quot;repository&quot;]"
            data-mode="#"
            data-value="">
            <div class="d-flex flex-items-start flex-justify-between">
              <div>
                <span class="text-bold">Tip:</span>
                  Type is:pr to filter to pull requests
              </div>
              <div class="ml-2 flex-shrink-0">
                Type <kbd class="hx_kbd">?</kbd> for help and tips
              </div>
            </div>
          </command-palette-tip>
          <command-palette-tip
            class="color-fg-muted f6 px-3 py-1 my-2"
              data-scope-types="[&quot;&quot;,&quot;owner&quot;,&quot;repository&quot;]"
            data-mode="#"
            data-value="">
            <div class="d-flex flex-items-start flex-justify-between">
              <div>
                <span class="text-bold">Tip:</span>
                  Type is:issue to filter to issues
              </div>
              <div class="ml-2 flex-shrink-0">
                Type <kbd class="hx_kbd">?</kbd> for help and tips
              </div>
            </div>
          </command-palette-tip>
          <command-palette-tip
            class="color-fg-muted f6 px-3 py-1 my-2"
              data-scope-types="[&quot;owner&quot;,&quot;repository&quot;]"
            data-mode="#"
            data-value="">
            <div class="d-flex flex-items-start flex-justify-between">
              <div>
                <span class="text-bold">Tip:</span>
                  Type is:project to filter to projects
              </div>
              <div class="ml-2 flex-shrink-0">
                Type <kbd class="hx_kbd">?</kbd> for help and tips
              </div>
            </div>
          </command-palette-tip>
          <command-palette-tip
            class="color-fg-muted f6 px-3 py-1 my-2"
              data-scope-types="[&quot;&quot;,&quot;owner&quot;,&quot;repository&quot;]"
            data-mode="#"
            data-value="">
            <div class="d-flex flex-items-start flex-justify-between">
              <div>
                <span class="text-bold">Tip:</span>
                  Type is:open to filter to open content
              </div>
              <div class="ml-2 flex-shrink-0">
                Type <kbd class="hx_kbd">?</kbd> for help and tips
              </div>
            </div>
          </command-palette-tip>
        <command-palette-tip class="mx-3 my-2 flash flash-error d-flex flex-items-center" data-scope-types="*" data-on-error>
          <div>
            <svg aria-hidden="true" height="16" viewBox="0 0 16 16" version="1.1" width="16" data-view-component="true" class="octicon octicon-alert">
    <path fill-rule="evenodd" d="M8.22 1.754a.25.25 0 00-.44 0L1.698 13.132a.25.25 0 00.22.368h12.164a.25.25 0 00.22-.368L8.22 1.754zm-1.763-.707c.659-1.234 2.427-1.234 3.086 0l6.082 11.378A1.75 1.75 0 0114.082 15H1.918a1.75 1.75 0 01-1.543-2.575L6.457 1.047zM9 11a1 1 0 11-2 0 1 1 0 012 0zm-.25-5.25a.75.75 0 00-1.5 0v2.5a.75.75 0 001.5 0v-2.5z"></path>
</svg>
          </div>
          <div class="px-2">
            We’ve encountered an error and some results aren't available at this time. Type a new search or try again later.
          </div>
        </command-palette-tip>
        <command-palette-tip class="h4 color-fg-default pl-3 pb-2 pt-3" data-on-empty data-scope-types="*" data-match-mode="[^?]|^$">
          No results matched your search
        </command-palette-tip>

        <div hidden>

            <div data-targets="command-palette-page-stack.localOcticons" data-octicon-id="arrow-right-color-fg-muted">
              <svg height="16" class="octicon octicon-arrow-right color-fg-muted" viewBox="0 0 16 16" version="1.1" width="16" aria-hidden="true"><path fill-rule="evenodd" d="M8.22 2.97a.75.75 0 011.06 0l4.25 4.25a.75.75 0 010 1.06l-4.25 4.25a.75.75 0 01-1.06-1.06l2.97-2.97H3.75a.75.75 0 010-1.5h7.44L8.22 4.03a.75.75 0 010-1.06z"></path></svg>
            </div>
            <div data-targets="command-palette-page-stack.localOcticons" data-octicon-id="arrow-right-color-fg-default">
              <svg height="16" class="octicon octicon-arrow-right color-fg-default" viewBox="0 0 16 16" version="1.1" width="16" aria-hidden="true"><path fill-rule="evenodd" d="M8.22 2.97a.75.75 0 011.06 0l4.25 4.25a.75.75 0 010 1.06l-4.25 4.25a.75.75 0 01-1.06-1.06l2.97-2.97H3.75a.75.75 0 010-1.5h7.44L8.22 4.03a.75.75 0 010-1.06z"></path></svg>
            </div>
            <div data-targets="command-palette-page-stack.localOcticons" data-octicon-id="codespaces-color-fg-muted">
              <svg height="16" class="octicon octicon-codespaces color-fg-muted" viewBox="0 0 16 16" version="1.1" width="16" aria-hidden="true"><path fill-rule="evenodd" d="M2 1.75C2 .784 2.784 0 3.75 0h8.5C13.216 0 14 .784 14 1.75v5a1.75 1.75 0 01-1.75 1.75h-8.5A1.75 1.75 0 012 6.75v-5zm1.75-.25a.25.25 0 00-.25.25v5c0 .138.112.25.25.25h8.5a.25.25 0 00.25-.25v-5a.25.25 0 00-.25-.25h-8.5zM0 11.25c0-.966.784-1.75 1.75-1.75h12.5c.966 0 1.75.784 1.75 1.75v3A1.75 1.75 0 0114.25 16H1.75A1.75 1.75 0 010 14.25v-3zM1.75 11a.25.25 0 00-.25.25v3c0 .138.112.25.25.25h12.5a.25.25 0 00.25-.25v-3a.25.25 0 00-.25-.25H1.75z"></path><path fill-rule="evenodd" d="M3 12.75a.75.75 0 01.75-.75h.5a.75.75 0 010 1.5h-.5a.75.75 0 01-.75-.75zm4 0a.75.75 0 01.75-.75h4.5a.75.75 0 010 1.5h-4.5a.75.75 0 01-.75-.75z"></path></svg>
            </div>
            <div data-targets="command-palette-page-stack.localOcticons" data-octicon-id="copy-color-fg-muted">
              <svg height="16" class="octicon octicon-copy color-fg-muted" viewBox="0 0 16 16" version="1.1" width="16" aria-hidden="true"><path fill-rule="evenodd" d="M0 6.75C0 5.784.784 5 1.75 5h1.5a.75.75 0 010 1.5h-1.5a.25.25 0 00-.25.25v7.5c0 .138.112.25.25.25h7.5a.25.25 0 00.25-.25v-1.5a.75.75 0 011.5 0v1.5A1.75 1.75 0 019.25 16h-7.5A1.75 1.75 0 010 14.25v-7.5z"></path><path fill-rule="evenodd" d="M5 1.75C5 .784 5.784 0 6.75 0h7.5C15.216 0 16 .784 16 1.75v7.5A1.75 1.75 0 0114.25 11h-7.5A1.75 1.75 0 015 9.25v-7.5zm1.75-.25a.25.25 0 00-.25.25v7.5c0 .138.112.25.25.25h7.5a.25.25 0 00.25-.25v-7.5a.25.25 0 00-.25-.25h-7.5z"></path></svg>
            </div>
            <div data-targets="command-palette-page-stack.localOcticons" data-octicon-id="dash-color-fg-muted">
              <svg height="16" class="octicon octicon-dash color-fg-muted" viewBox="0 0 16 16" version="1.1" width="16" aria-hidden="true"><path fill-rule="evenodd" d="M2 7.75A.75.75 0 012.75 7h10a.75.75 0 010 1.5h-10A.75.75 0 012 7.75z"></path></svg>
            </div>
            <div data-targets="command-palette-page-stack.localOcticons" data-octicon-id="file-color-fg-muted">
              <svg height="16" class="octicon octicon-file color-fg-muted" viewBox="0 0 16 16" version="1.1" width="16" aria-hidden="true"><path fill-rule="evenodd" d="M3.75 1.5a.25.25 0 00-.25.25v12.5c0 .138.112.25.25.25h9.5a.25.25 0 00.25-.25V6h-2.75A1.75 1.75 0 019 4.25V1.5H3.75zm6.75.062V4.25c0 .138.112.25.25.25h2.688a.252.252 0 00-.011-.013l-2.914-2.914a.272.272 0 00-.013-.011zM2 1.75C2 .784 2.784 0 3.75 0h6.586c.464 0 .909.184 1.237.513l2.914 2.914c.329.328.513.773.513 1.237v9.586A1.75 1.75 0 0113.25 16h-9.5A1.75 1.75 0 012 14.25V1.75z"></path></svg>
            </div>
            <div data-targets="command-palette-page-stack.localOcticons" data-octicon-id="gear-color-fg-muted">
              <svg height="16" class="octicon octicon-gear color-fg-muted" viewBox="0 0 16 16" version="1.1" width="16" aria-hidden="true"><path fill-rule="evenodd" d="M7.429 1.525a6.593 6.593 0 011.142 0c.036.003.108.036.137.146l.289 1.105c.147.56.55.967.997 1.189.174.086.341.183.501.29.417.278.97.423 1.53.27l1.102-.303c.11-.03.175.016.195.046.219.31.41.641.573.989.014.031.022.11-.059.19l-.815.806c-.411.406-.562.957-.53 1.456a4.588 4.588 0 010 .582c-.032.499.119 1.05.53 1.456l.815.806c.08.08.073.159.059.19a6.494 6.494 0 01-.573.99c-.02.029-.086.074-.195.045l-1.103-.303c-.559-.153-1.112-.008-1.529.27-.16.107-.327.204-.5.29-.449.222-.851.628-.998 1.189l-.289 1.105c-.029.11-.101.143-.137.146a6.613 6.613 0 01-1.142 0c-.036-.003-.108-.037-.137-.146l-.289-1.105c-.147-.56-.55-.967-.997-1.189a4.502 4.502 0 01-.501-.29c-.417-.278-.97-.423-1.53-.27l-1.102.303c-.11.03-.175-.016-.195-.046a6.492 6.492 0 01-.573-.989c-.014-.031-.022-.11.059-.19l.815-.806c.411-.406.562-.957.53-1.456a4.587 4.587 0 010-.582c.032-.499-.119-1.05-.53-1.456l-.815-.806c-.08-.08-.073-.159-.059-.19a6.44 6.44 0 01.573-.99c.02-.029.086-.075.195-.045l1.103.303c.559.153 1.112.008 1.529-.27.16-.107.327-.204.5-.29.449-.222.851-.628.998-1.189l.289-1.105c.029-.11.101-.143.137-.146zM8 0c-.236 0-.47.01-.701.03-.743.065-1.29.615-1.458 1.261l-.29 1.106c-.017.066-.078.158-.211.224a5.994 5.994 0 00-.668.386c-.123.082-.233.09-.3.071L3.27 2.776c-.644-.177-1.392.02-1.82.63a7.977 7.977 0 00-.704 1.217c-.315.675-.111 1.422.363 1.891l.815.806c.05.048.098.147.088.294a6.084 6.084 0 000 .772c.01.147-.038.246-.088.294l-.815.806c-.474.469-.678 1.216-.363 1.891.2.428.436.835.704 1.218.428.609 1.176.806 1.82.63l1.103-.303c.066-.019.176-.011.299.071.213.143.436.272.668.386.133.066.194.158.212.224l.289 1.106c.169.646.715 1.196 1.458 1.26a8.094 8.094 0 001.402 0c.743-.064 1.29-.614 1.458-1.26l.29-1.106c.017-.066.078-.158.211-.224a5.98 5.98 0 00.668-.386c.123-.082.233-.09.3-.071l1.102.302c.644.177 1.392-.02 1.82-.63.268-.382.505-.789.704-1.217.315-.675.111-1.422-.364-1.891l-.814-.806c-.05-.048-.098-.147-.088-.294a6.1 6.1 0 000-.772c-.01-.147.039-.246.088-.294l.814-.806c.475-.469.679-1.216.364-1.891a7.992 7.992 0 00-.704-1.218c-.428-.609-1.176-.806-1.82-.63l-1.103.303c-.066.019-.176.011-.299-.071a5.991 5.991 0 00-.668-.386c-.133-.066-.194-.158-.212-.224L10.16 1.29C9.99.645 9.444.095 8.701.031A8.094 8.094 0 008 0zm1.5 8a1.5 1.5 0 11-3 0 1.5 1.5 0 013 0zM11 8a3 3 0 11-6 0 3 3 0 016 0z"></path></svg>
            </div>
            <div data-targets="command-palette-page-stack.localOcticons" data-octicon-id="lock-color-fg-muted">
              <svg height="16" class="octicon octicon-lock color-fg-muted" viewBox="0 0 16 16" version="1.1" width="16" aria-hidden="true"><path fill-rule="evenodd" d="M4 4v2h-.25A1.75 1.75 0 002 7.75v5.5c0 .966.784 1.75 1.75 1.75h8.5A1.75 1.75 0 0014 13.25v-5.5A1.75 1.75 0 0012.25 6H12V4a4 4 0 10-8 0zm6.5 2V4a2.5 2.5 0 00-5 0v2h5zM12 7.5h.25a.25.25 0 01.25.25v5.5a.25.25 0 01-.25.25h-8.5a.25.25 0 01-.25-.25v-5.5a.25.25 0 01.25-.25H12z"></path></svg>
            </div>
            <div data-targets="command-palette-page-stack.localOcticons" data-octicon-id="moon-color-fg-muted">
              <svg height="16" class="octicon octicon-moon color-fg-muted" viewBox="0 0 16 16" version="1.1" width="16" aria-hidden="true"><path fill-rule="evenodd" d="M9.598 1.591a.75.75 0 01.785-.175 7 7 0 11-8.967 8.967.75.75 0 01.961-.96 5.5 5.5 0 007.046-7.046.75.75 0 01.175-.786zm1.616 1.945a7 7 0 01-7.678 7.678 5.5 5.5 0 107.678-7.678z"></path></svg>
            </div>
            <div data-targets="command-palette-page-stack.localOcticons" data-octicon-id="person-color-fg-muted">
              <svg height="16" class="octicon octicon-person color-fg-muted" viewBox="0 0 16 16" version="1.1" width="16" aria-hidden="true"><path fill-rule="evenodd" d="M10.5 5a2.5 2.5 0 11-5 0 2.5 2.5 0 015 0zm.061 3.073a4 4 0 10-5.123 0 6.004 6.004 0 00-3.431 5.142.75.75 0 001.498.07 4.5 4.5 0 018.99 0 .75.75 0 101.498-.07 6.005 6.005 0 00-3.432-5.142z"></path></svg>
            </div>
            <div data-targets="command-palette-page-stack.localOcticons" data-octicon-id="pencil-color-fg-muted">
              <svg height="16" class="octicon octicon-pencil color-fg-muted" viewBox="0 0 16 16" version="1.1" width="16" aria-hidden="true"><path fill-rule="evenodd" d="M11.013 1.427a1.75 1.75 0 012.474 0l1.086 1.086a1.75 1.75 0 010 2.474l-8.61 8.61c-.21.21-.47.364-.756.445l-3.251.93a.75.75 0 01-.927-.928l.929-3.25a1.75 1.75 0 01.445-.758l8.61-8.61zm1.414 1.06a.25.25 0 00-.354 0L10.811 3.75l1.439 1.44 1.263-1.263a.25.25 0 000-.354l-1.086-1.086zM11.189 6.25L9.75 4.81l-6.286 6.287a.25.25 0 00-.064.108l-.558 1.953 1.953-.558a.249.249 0 00.108-.064l6.286-6.286z"></path></svg>
            </div>
            <div data-targets="command-palette-page-stack.localOcticons" data-octicon-id="issue-opened-open">
              <svg height="16" class="octicon octicon-issue-opened open" viewBox="0 0 16 16" version="1.1" width="16" aria-hidden="true"><path d="M8 9.5a1.5 1.5 0 100-3 1.5 1.5 0 000 3z"></path><path fill-rule="evenodd" d="M8 0a8 8 0 100 16A8 8 0 008 0zM1.5 8a6.5 6.5 0 1113 0 6.5 6.5 0 01-13 0z"></path></svg>
            </div>
            <div data-targets="command-palette-page-stack.localOcticons" data-octicon-id="git-pull-request-draft-color-fg-muted">
              <svg height="16" class="octicon octicon-git-pull-request-draft color-fg-muted" viewBox="0 0 16 16" version="1.1" width="16" aria-hidden="true"><path fill-rule="evenodd" d="M2.5 3.25a.75.75 0 111.5 0 .75.75 0 01-1.5 0zM3.25 1a2.25 2.25 0 00-.75 4.372v5.256a2.251 2.251 0 101.5 0V5.372A2.25 2.25 0 003.25 1zm0 11a.75.75 0 100 1.5.75.75 0 000-1.5zm9.5 3a2.25 2.25 0 100-4.5 2.25 2.25 0 000 4.5zm0-3a.75.75 0 100 1.5.75.75 0 000-1.5z"></path><path d="M14 7.5a1.25 1.25 0 11-2.5 0 1.25 1.25 0 012.5 0zm0-4.25a1.25 1.25 0 11-2.5 0 1.25 1.25 0 012.5 0z"></path></svg>
            </div>
            <div data-targets="command-palette-page-stack.localOcticons" data-octicon-id="search-color-fg-muted">
              <svg height="16" class="octicon octicon-search color-fg-muted" viewBox="0 0 16 16" version="1.1" width="16" aria-hidden="true"><path fill-rule="evenodd" d="M11.5 7a4.499 4.499 0 11-8.998 0A4.499 4.499 0 0111.5 7zm-.82 4.74a6 6 0 111.06-1.06l3.04 3.04a.75.75 0 11-1.06 1.06l-3.04-3.04z"></path></svg>
            </div>
            <div data-targets="command-palette-page-stack.localOcticons" data-octicon-id="sun-color-fg-muted">
              <svg height="16" class="octicon octicon-sun color-fg-muted" viewBox="0 0 16 16" version="1.1" width="16" aria-hidden="true"><path fill-rule="evenodd" d="M8 10.5a2.5 2.5 0 100-5 2.5 2.5 0 000 5zM8 12a4 4 0 100-8 4 4 0 000 8zM8 0a.75.75 0 01.75.75v1.5a.75.75 0 01-1.5 0V.75A.75.75 0 018 0zm0 13a.75.75 0 01.75.75v1.5a.75.75 0 01-1.5 0v-1.5A.75.75 0 018 13zM2.343 2.343a.75.75 0 011.061 0l1.06 1.061a.75.75 0 01-1.06 1.06l-1.06-1.06a.75.75 0 010-1.06zm9.193 9.193a.75.75 0 011.06 0l1.061 1.06a.75.75 0 01-1.06 1.061l-1.061-1.06a.75.75 0 010-1.061zM16 8a.75.75 0 01-.75.75h-1.5a.75.75 0 010-1.5h1.5A.75.75 0 0116 8zM3 8a.75.75 0 01-.75.75H.75a.75.75 0 010-1.5h1.5A.75.75 0 013 8zm10.657-5.657a.75.75 0 010 1.061l-1.061 1.06a.75.75 0 11-1.06-1.06l1.06-1.06a.75.75 0 011.06 0zm-9.193 9.193a.75.75 0 010 1.06l-1.06 1.061a.75.75 0 11-1.061-1.06l1.06-1.061a.75.75 0 011.061 0z"></path></svg>
            </div>
            <div data-targets="command-palette-page-stack.localOcticons" data-octicon-id="sync-color-fg-muted">
              <svg height="16" class="octicon octicon-sync color-fg-muted" viewBox="0 0 16 16" version="1.1" width="16" aria-hidden="true"><path fill-rule="evenodd" d="M8 2.5a5.487 5.487 0 00-4.131 1.869l1.204 1.204A.25.25 0 014.896 6H1.25A.25.25 0 011 5.75V2.104a.25.25 0 01.427-.177l1.38 1.38A7.001 7.001 0 0114.95 7.16a.75.75 0 11-1.49.178A5.501 5.501 0 008 2.5zM1.705 8.005a.75.75 0 01.834.656 5.501 5.501 0 009.592 2.97l-1.204-1.204a.25.25 0 01.177-.427h3.646a.25.25 0 01.25.25v3.646a.25.25 0 01-.427.177l-1.38-1.38A7.001 7.001 0 011.05 8.84a.75.75 0 01.656-.834z"></path></svg>
            </div>
            <div data-targets="command-palette-page-stack.localOcticons" data-octicon-id="trash-color-fg-muted">
              <svg height="16" class="octicon octicon-trash color-fg-muted" viewBox="0 0 16 16" version="1.1" width="16" aria-hidden="true"><path fill-rule="evenodd" d="M6.5 1.75a.25.25 0 01.25-.25h2.5a.25.25 0 01.25.25V3h-3V1.75zm4.5 0V3h2.25a.75.75 0 010 1.5H2.75a.75.75 0 010-1.5H5V1.75C5 .784 5.784 0 6.75 0h2.5C10.216 0 11 .784 11 1.75zM4.496 6.675a.75.75 0 10-1.492.15l.66 6.6A1.75 1.75 0 005.405 15h5.19c.9 0 1.652-.681 1.741-1.576l.66-6.6a.75.75 0 00-1.492-.149l-.66 6.6a.25.25 0 01-.249.225h-5.19a.25.25 0 01-.249-.225l-.66-6.6z"></path></svg>
            </div>
            <div data-targets="command-palette-page-stack.localOcticons" data-octicon-id="key-color-fg-muted">
              <svg height="16" class="octicon octicon-key color-fg-muted" viewBox="0 0 16 16" version="1.1" width="16" aria-hidden="true"><path fill-rule="evenodd" d="M6.5 5.5a4 4 0 112.731 3.795.75.75 0 00-.768.18L7.44 10.5H6.25a.75.75 0 00-.75.75v1.19l-.06.06H4.25a.75.75 0 00-.75.75v1.19l-.06.06H1.75a.25.25 0 01-.25-.25v-1.69l5.024-5.023a.75.75 0 00.181-.768A3.995 3.995 0 016.5 5.5zm4-5.5a5.5 5.5 0 00-5.348 6.788L.22 11.72a.75.75 0 00-.22.53v2C0 15.216.784 16 1.75 16h2a.75.75 0 00.53-.22l.5-.5a.75.75 0 00.22-.53V14h.75a.75.75 0 00.53-.22l.5-.5a.75.75 0 00.22-.53V12h.75a.75.75 0 00.53-.22l.932-.932A5.5 5.5 0 1010.5 0zm.5 6a1 1 0 100-2 1 1 0 000 2z"></path></svg>
            </div>
            <div data-targets="command-palette-page-stack.localOcticons" data-octicon-id="comment-discussion-color-fg-muted">
              <svg height="16" class="octicon octicon-comment-discussion color-fg-muted" viewBox="0 0 16 16" version="1.1" width="16" aria-hidden="true"><path fill-rule="evenodd" d="M1.5 2.75a.25.25 0 01.25-.25h8.5a.25.25 0 01.25.25v5.5a.25.25 0 01-.25.25h-3.5a.75.75 0 00-.53.22L3.5 11.44V9.25a.75.75 0 00-.75-.75h-1a.25.25 0 01-.25-.25v-5.5zM1.75 1A1.75 1.75 0 000 2.75v5.5C0 9.216.784 10 1.75 10H2v1.543a1.457 1.457 0 002.487 1.03L7.061 10h3.189A1.75 1.75 0 0012 8.25v-5.5A1.75 1.75 0 0010.25 1h-8.5zM14.5 4.75a.25.25 0 00-.25-.25h-.5a.75.75 0 110-1.5h.5c.966 0 1.75.784 1.75 1.75v5.5A1.75 1.75 0 0114.25 12H14v1.543a1.457 1.457 0 01-2.487 1.03L9.22 12.28a.75.75 0 111.06-1.06l2.22 2.22v-2.19a.75.75 0 01.75-.75h1a.25.25 0 00.25-.25v-5.5z"></path></svg>
            </div>
            <div data-targets="command-palette-page-stack.localOcticons" data-octicon-id="bell-color-fg-muted">
              <svg height="16" class="octicon octicon-bell color-fg-muted" viewBox="0 0 16 16" version="1.1" width="16" aria-hidden="true"><path d="M8 16a2 2 0 001.985-1.75c.017-.137-.097-.25-.235-.25h-3.5c-.138 0-.252.113-.235.25A2 2 0 008 16z"></path><path fill-rule="evenodd" d="M8 1.5A3.5 3.5 0 004.5 5v2.947c0 .346-.102.683-.294.97l-1.703 2.556a.018.018 0 00-.003.01l.001.006c0 .002.002.004.004.006a.017.017 0 00.006.004l.007.001h10.964l.007-.001a.016.016 0 00.006-.004.016.016 0 00.004-.006l.001-.007a.017.017 0 00-.003-.01l-1.703-2.554a1.75 1.75 0 01-.294-.97V5A3.5 3.5 0 008 1.5zM3 5a5 5 0 0110 0v2.947c0 .05.015.098.042.139l1.703 2.555A1.518 1.518 0 0113.482 13H2.518a1.518 1.518 0 01-1.263-2.36l1.703-2.554A.25.25 0 003 7.947V5z"></path></svg>
            </div>
            <div data-targets="command-palette-page-stack.localOcticons" data-octicon-id="bell-slash-color-fg-muted">
              <svg height="16" class="octicon octicon-bell-slash color-fg-muted" viewBox="0 0 16 16" version="1.1" width="16" aria-hidden="true"><path fill-rule="evenodd" d="M8 1.5c-.997 0-1.895.416-2.534 1.086A.75.75 0 014.38 1.55 5 5 0 0113 5v2.373a.75.75 0 01-1.5 0V5A3.5 3.5 0 008 1.5zM4.182 4.31L1.19 2.143a.75.75 0 10-.88 1.214L3 5.305v2.642a.25.25 0 01-.042.139L1.255 10.64A1.518 1.518 0 002.518 13h11.108l1.184.857a.75.75 0 10.88-1.214l-1.375-.996a1.196 1.196 0 00-.013-.01L4.198 4.321a.733.733 0 00-.016-.011zm7.373 7.19L4.5 6.391v1.556c0 .346-.102.683-.294.97l-1.703 2.556a.018.018 0 00-.003.01.015.015 0 00.005.012.017.017 0 00.006.004l.007.001h9.037zM8 16a2 2 0 001.985-1.75c.017-.137-.097-.25-.235-.25h-3.5c-.138 0-.252.113-.235.25A2 2 0 008 16z"></path></svg>
            </div>
            <div data-targets="command-palette-page-stack.localOcticons" data-octicon-id="paintbrush-color-fg-muted">
              <svg height="16" class="octicon octicon-paintbrush color-fg-muted" viewBox="0 0 16 16" version="1.1" width="16" aria-hidden="true"><path fill-rule="evenodd" d="M11.134 1.535C9.722 2.562 8.16 4.057 6.889 5.312 5.8 6.387 5.041 7.401 4.575 8.294a3.745 3.745 0 00-3.227 1.054c-.43.431-.69 1.066-.86 1.657a11.982 11.982 0 00-.358 1.914A21.263 21.263 0 000 15.203v.054l.75-.007-.007.75h.054a14.404 14.404 0 00.654-.012 21.243 21.243 0 001.63-.118c.62-.07 1.3-.18 1.914-.357.592-.17 1.226-.43 1.657-.861a3.745 3.745 0 001.055-3.217c.908-.461 1.942-1.216 3.04-2.3 1.279-1.262 2.764-2.825 3.775-4.249.501-.706.923-1.428 1.125-2.096.2-.659.235-1.469-.368-2.07-.606-.607-1.42-.55-2.069-.34-.66.213-1.376.646-2.076 1.155zm-3.95 8.48a3.76 3.76 0 00-1.19-1.192 9.758 9.758 0 011.161-1.607l1.658 1.658a9.853 9.853 0 01-1.63 1.142zM.742 16l.007-.75-.75.008A.75.75 0 00.743 16zM12.016 2.749c-1.224.89-2.605 2.189-3.822 3.384l1.718 1.718c1.21-1.205 2.51-2.597 3.387-3.833.47-.662.78-1.227.912-1.662.134-.444.032-.551.009-.575h-.001V1.78c-.014-.014-.112-.113-.548.027-.432.14-.995.462-1.655.942zM1.62 13.089a19.56 19.56 0 00-.104 1.395 19.55 19.55 0 001.396-.104 10.528 10.528 0 001.668-.309c.526-.151.856-.325 1.011-.48a2.25 2.25 0 00-3.182-3.182c-.155.155-.329.485-.48 1.01a10.515 10.515 0 00-.309 1.67z"></path></svg>
            </div>

            <command-palette-item-group
              data-group-id="top"
              data-group-title="Top result"
              data-group-hint=""
              data-group-limits="{}"
              data-default-priority="0"
            >
            </command-palette-item-group>
            <command-palette-item-group
              data-group-id="commands"
              data-group-title="Commands"
              data-group-hint="Type &gt; to filter"
              data-group-limits="{&quot;static_items_page&quot;:50,&quot;issue&quot;:50,&quot;pull_request&quot;:50,&quot;discussion&quot;:50}"
              data-default-priority="1"
            >
            </command-palette-item-group>
            <command-palette-item-group
              data-group-id="global_commands"
              data-group-title="Global Commands"
              data-group-hint="Type &gt; to filter"
              data-group-limits="{&quot;issue&quot;:0,&quot;pull_request&quot;:0,&quot;discussion&quot;:0}"
              data-default-priority="2"
            >
            </command-palette-item-group>
            <command-palette-item-group
              data-group-id="this_page"
              data-group-title="This Page"
              data-group-hint=""
              data-group-limits="{}"
              data-default-priority="3"
            >
            </command-palette-item-group>
            <command-palette-item-group
              data-group-id="files"
              data-group-title="Files"
              data-group-hint=""
              data-group-limits="{}"
              data-default-priority="4"
            >
            </command-palette-item-group>
            <command-palette-item-group
              data-group-id="default"
              data-group-title="Default"
              data-group-hint=""
              data-group-limits="{&quot;static_items_page&quot;:50}"
              data-default-priority="5"
            >
            </command-palette-item-group>
            <command-palette-item-group
              data-group-id="pages"
              data-group-title="Pages"
              data-group-hint=""
              data-group-limits="{&quot;repository&quot;:10}"
              data-default-priority="6"
            >
            </command-palette-item-group>
            <command-palette-item-group
              data-group-id="access_policies"
              data-group-title="Access Policies"
              data-group-hint=""
              data-group-limits="{}"
              data-default-priority="7"
            >
            </command-palette-item-group>
            <command-palette-item-group
              data-group-id="organizations"
              data-group-title="Organizations"
              data-group-hint=""
              data-group-limits="{}"
              data-default-priority="8"
            >
            </command-palette-item-group>
            <command-palette-item-group
              data-group-id="repositories"
              data-group-title="Repositories"
              data-group-hint=""
              data-group-limits="{}"
              data-default-priority="9"
            >
            </command-palette-item-group>
            <command-palette-item-group
              data-group-id="references"
              data-group-title="Issues, pull requests, and discussions"
              data-group-hint="Type # to filter"
              data-group-limits="{}"
              data-default-priority="10"
            >
            </command-palette-item-group>
            <command-palette-item-group
              data-group-id="teams"
              data-group-title="Teams"
              data-group-hint=""
              data-group-limits="{}"
              data-default-priority="11"
            >
            </command-palette-item-group>
            <command-palette-item-group
              data-group-id="users"
              data-group-title="Users"
              data-group-hint=""
              data-group-limits="{}"
              data-default-priority="12"
            >
            </command-palette-item-group>
            <command-palette-item-group
              data-group-id="projects"
              data-group-title="Projects"
              data-group-hint=""
              data-group-limits="{}"
              data-default-priority="13"
            >
            </command-palette-item-group>
            <command-palette-item-group
              data-group-id="footer"
              data-group-title="Footer"
              data-group-hint=""
              data-group-limits="{}"
              data-default-priority="14"
            >
            </command-palette-item-group>
            <command-palette-item-group
              data-group-id="modes_help"
              data-group-title="Modes"
              data-group-hint=""
              data-group-limits="{}"
              data-default-priority="15"
            >
            </command-palette-item-group>
            <command-palette-item-group
              data-group-id="filters_help"
              data-group-title="Use filters in issues, pull requests, discussions, and projects"
              data-group-hint=""
              data-group-limits="{}"
              data-default-priority="16"
            >
            </command-palette-item-group>

            <command-palette-page
              data-page-title="IBM-EPBL"
              data-scope-id="U_kgDOBh0s5w"
              data-scope-type="owner"
              data-targets="command-palette-page-stack.defaultPages"
              hidden
            >
            </command-palette-page>
            <command-palette-page
              data-page-title="IBM-Project-50803-1660924691"
              data-scope-id="R_kgDOH2RTSQ"
              data-scope-type="repository"
              data-targets="command-palette-page-stack.defaultPages"
              hidden
            >
            </command-palette-page>
        </div>

        <command-palette-page data-is-root>
        </command-palette-page>
          <command-palette-page
            data-page-title="IBM-EPBL"
            data-scope-id="U_kgDOBh0s5w"
            data-scope-type="owner"
          >
          </command-palette-page>
          <command-palette-page
            data-page-title="IBM-Project-50803-1660924691"
            data-scope-id="R_kgDOH2RTSQ"
            data-scope-type="repository"
          >
          </command-palette-page>
      </command-palette-page-stack>

      <server-defined-provider data-type="search-links" data-targets="command-palette.serverDefinedProviderElements"></server-defined-provider>
      <server-defined-provider data-type="help" data-targets="command-palette.serverDefinedProviderElements">
          <command-palette-help
            data-group="modes_help"
              data-prefix="#"
              data-scope-types="[&quot;&quot;]"
          >
            <span data-target="command-palette-help.titleElement">Search for <strong>issues</strong> and <strong>pull requests</strong></span>
              <span data-target="command-palette-help.hintElement">
                <kbd class="hx_kbd">#</kbd>
              </span>
          </command-palette-help>
          <command-palette-help
            data-group="modes_help"
              data-prefix="#"
              data-scope-types="[&quot;owner&quot;,&quot;repository&quot;]"
          >
            <span data-target="command-palette-help.titleElement">Search for <strong>issues, pull requests, discussions,</strong> and <strong>projects</strong></span>
              <span data-target="command-palette-help.hintElement">
                <kbd class="hx_kbd">#</kbd>
              </span>
          </command-palette-help>
          <command-palette-help
            data-group="modes_help"
              data-prefix="@"
              data-scope-types="[&quot;&quot;]"
          >
            <span data-target="command-palette-help.titleElement">Search for <strong>organizations, repositories,</strong> and <strong>users</strong></span>
              <span data-target="command-palette-help.hintElement">
                <kbd class="hx_kbd">@</kbd>
              </span>
          </command-palette-help>
          <command-palette-help
            data-group="modes_help"
              data-prefix="!"
              data-scope-types="[&quot;owner&quot;,&quot;repository&quot;]"
          >
            <span data-target="command-palette-help.titleElement">Search for <strong>projects</strong></span>
              <span data-target="command-palette-help.hintElement">
                <kbd class="hx_kbd">!</kbd>
              </span>
          </command-palette-help>
          <command-palette-help
            data-group="modes_help"
              data-prefix="/"
              data-scope-types="[&quot;repository&quot;]"
          >
            <span data-target="command-palette-help.titleElement">Search for <strong>files</strong></span>
              <span data-target="command-palette-help.hintElement">
                <kbd class="hx_kbd">/</kbd>
              </span>
          </command-palette-help>
          <command-palette-help
            data-group="modes_help"
              data-prefix="&gt;"
          >
            <span data-target="command-palette-help.titleElement">Activate <strong>command mode</strong></span>
              <span data-target="command-palette-help.hintElement">
                <kbd class="hx_kbd">&gt;</kbd>
              </span>
          </command-palette-help>
          <command-palette-help
            data-group="filters_help"
              data-prefix="# author:@me"
          >
            <span data-target="command-palette-help.titleElement">Search your issues, pull requests, and discussions</span>
              <span data-target="command-palette-help.hintElement">
                <kbd class="hx_kbd"># author:@me</kbd>
              </span>
          </command-palette-help>
          <command-palette-help
            data-group="filters_help"
              data-prefix="# author:@me"
          >
            <span data-target="command-palette-help.titleElement">Search your issues, pull requests, and discussions</span>
              <span data-target="command-palette-help.hintElement">
                <kbd class="hx_kbd"># author:@me</kbd>
              </span>
          </command-palette-help>
          <command-palette-help
            data-group="filters_help"
              data-prefix="# is:pr"
          >
            <span data-target="command-palette-help.titleElement">Filter to pull requests</span>
              <span data-target="command-palette-help.hintElement">
                <kbd class="hx_kbd"># is:pr</kbd>
              </span>
          </command-palette-help>
          <command-palette-help
            data-group="filters_help"
              data-prefix="# is:issue"
          >
            <span data-target="command-palette-help.titleElement">Filter to issues</span>
              <span data-target="command-palette-help.hintElement">
                <kbd class="hx_kbd"># is:issue</kbd>
              </span>
          </command-palette-help>
          <command-palette-help
            data-group="filters_help"
              data-prefix="# is:discussion"
              data-scope-types="[&quot;owner&quot;,&quot;repository&quot;]"
          >
            <span data-target="command-palette-help.titleElement">Filter to discussions</span>
              <span data-target="command-palette-help.hintElement">
                <kbd class="hx_kbd"># is:discussion</kbd>
              </span>
          </command-palette-help>
          <command-palette-help
            data-group="filters_help"
              data-prefix="# is:project"
              data-scope-types="[&quot;owner&quot;,&quot;repository&quot;]"
          >
            <span data-target="command-palette-help.titleElement">Filter to projects</span>
              <span data-target="command-palette-help.hintElement">
                <kbd class="hx_kbd"># is:project</kbd>
              </span>
          </command-palette-help>
          <command-palette-help
            data-group="filters_help"
              data-prefix="# is:open"
          >
            <span data-target="command-palette-help.titleElement">Filter to open issues, pull requests, and discussions</span>
              <span data-target="command-palette-help.hintElement">
                <kbd class="hx_kbd"># is:open</kbd>
              </span>
          </command-palette-help>
      </server-defined-provider>

        <server-defined-provider
          data-type="commands"
          data-fetch-debounce="0"
            data-src="/command_palette/commands"
          data-supported-modes="[]"
            data-supports-commands
          
          data-targets="command-palette.serverDefinedProviderElements"
          ></server-defined-provider>
        <server-defined-provider
          data-type="prefetched"
          data-fetch-debounce="0"
            data-src="/command_palette/jump_to_page_navigation"
          data-supported-modes="[&quot;&quot;]"
            data-supported-scope-types="[&quot;&quot;,&quot;owner&quot;,&quot;repository&quot;]"
          
          data-targets="command-palette.serverDefinedProviderElements"
          ></server-defined-provider>
        <server-defined-provider
          data-type="remote"
          data-fetch-debounce="200"
            data-src="/command_palette/issues"
          data-supported-modes="[&quot;#&quot;,&quot;#&quot;]"
            data-supported-scope-types="[&quot;owner&quot;,&quot;repository&quot;,&quot;&quot;]"
          
          data-targets="command-palette.serverDefinedProviderElements"
          ></server-defined-provider>
        <server-defined-provider
          data-type="remote"
          data-fetch-debounce="200"
            data-src="/command_palette/jump_to"
          data-supported-modes="[&quot;@&quot;,&quot;@&quot;]"
            data-supported-scope-types="[&quot;&quot;,&quot;owner&quot;]"
          
          data-targets="command-palette.serverDefinedProviderElements"
          ></server-defined-provider>
        <server-defined-provider
          data-type="remote"
          data-fetch-debounce="200"
            data-src="/command_palette/jump_to_members_only"
          data-supported-modes="[&quot;@&quot;,&quot;@&quot;,&quot;&quot;,&quot;&quot;]"
            data-supported-scope-types="[&quot;&quot;,&quot;owner&quot;]"
          
          data-targets="command-palette.serverDefinedProviderElements"
          ></server-defined-provider>
        <server-defined-provider
          data-type="prefetched"
          data-fetch-debounce="0"
            data-src="/command_palette/jump_to_members_only_prefetched"
          data-supported-modes="[&quot;@&quot;,&quot;@&quot;,&quot;&quot;,&quot;&quot;]"
            data-supported-scope-types="[&quot;&quot;,&quot;owner&quot;]"
          
          data-targets="command-palette.serverDefinedProviderElements"
          ></server-defined-provider>
        <server-defined-provider
          data-type="files"
          data-fetch-debounce="0"
            data-src="/command_palette/files"
          data-supported-modes="[&quot;/&quot;]"
            data-supported-scope-types="[&quot;repository&quot;]"
          
          data-targets="command-palette.serverDefinedProviderElements"
          ></server-defined-provider>
        <server-defined-provider
          data-type="remote"
          data-fetch-debounce="200"
            data-src="/command_palette/discussions"
          data-supported-modes="[&quot;#&quot;]"
            data-supported-scope-types="[&quot;owner&quot;,&quot;repository&quot;]"
          
          data-targets="command-palette.serverDefinedProviderElements"
          ></server-defined-provider>
        <server-defined-provider
          data-type="remote"
          data-fetch-debounce="200"
            data-src="/command_palette/projects"
          data-supported-modes="[&quot;#&quot;,&quot;!&quot;]"
            data-supported-scope-types="[&quot;owner&quot;,&quot;repository&quot;]"
          
          data-targets="command-palette.serverDefinedProviderElements"
          ></server-defined-provider>
        <server-defined-provider
          data-type="prefetched"
          data-fetch-debounce="0"
            data-src="/command_palette/recent_issues"
          data-supported-modes="[&quot;#&quot;,&quot;#&quot;]"
            data-supported-scope-types="[&quot;owner&quot;,&quot;repository&quot;,&quot;&quot;]"
          
          data-targets="command-palette.serverDefinedProviderElements"
          ></server-defined-provider>
        <server-defined-provider
          data-type="remote"
          data-fetch-debounce="200"
            data-src="/command_palette/teams"
          data-supported-modes="[&quot;@&quot;,&quot;&quot;]"
            data-supported-scope-types="[&quot;owner&quot;]"
          
          data-targets="command-palette.serverDefinedProviderElements"
          ></server-defined-provider>
        <server-defined-provider
          data-type="remote"
          data-fetch-debounce="200"
            data-src="/command_palette/name_with_owner_repository"
          data-supported-modes="[&quot;@&quot;,&quot;@&quot;,&quot;&quot;,&quot;&quot;]"
            data-supported-scope-types="[&quot;&quot;,&quot;owner&quot;]"
          
          data-targets="command-palette.serverDefinedProviderElements"
          ></server-defined-provider>
    </command-palette>
  </details-dialog>
</details>

<div class="position-fixed bottom-0 left-0 ml-5 mb-5 js-command-palette-toasts" style="z-index: 1000">
  <div hidden class="Toast Toast--loading">
    <span class="Toast-icon">
      <svg class="Toast--spinner" viewBox="0 0 32 32" width="18" height="18" aria-hidden="true">
        <path
          fill="#959da5"
          d="M16 0 A16 16 0 0 0 16 32 A16 16 0 0 0 16 0 M16 4 A12 12 0 0 1 16 28 A12 12 0 0 1 16 4"
        />
        <path fill="#ffffff" d="M16 0 A16 16 0 0 1 32 16 L28 16 A12 12 0 0 0 16 4z"></path>
      </svg>
    </span>
    <span class="Toast-content"></span>
  </div>

  <div hidden class="anim-fade-in fast Toast Toast--error">
    <span class="Toast-icon">
      <svg aria-hidden="true" height="16" viewBox="0 0 16 16" version="1.1" width="16" data-view-component="true" class="octicon octicon-stop">
    <path fill-rule="evenodd" d="M4.47.22A.75.75 0 015 0h6a.75.75 0 01.53.22l4.25 4.25c.141.14.22.331.22.53v6a.75.75 0 01-.22.53l-4.25 4.25A.75.75 0 0111 16H5a.75.75 0 01-.53-.22L.22 11.53A.75.75 0 010 11V5a.75.75 0 01.22-.53L4.47.22zm.84 1.28L1.5 5.31v5.38l3.81 3.81h5.38l3.81-3.81V5.31L10.69 1.5H5.31zM8 4a.75.75 0 01.75.75v3.5a.75.75 0 01-1.5 0v-3.5A.75.75 0 018 4zm0 8a1 1 0 100-2 1 1 0 000 2z"></path>
</svg>
    </span>
    <span class="Toast-content"></span>
  </div>

  <div hidden class="anim-fade-in fast Toast Toast--warning">
    <span class="Toast-icon">
      <svg aria-hidden="true" height="16" viewBox="0 0 16 16" version="1.1" width="16" data-view-component="true" class="octicon octicon-alert">
    <path fill-rule="evenodd" d="M8.22 1.754a.25.25 0 00-.44 0L1.698 13.132a.25.25 0 00.22.368h12.164a.25.25 0 00.22-.368L8.22 1.754zm-1.763-.707c.659-1.234 2.427-1.234 3.086 0l6.082 11.378A1.75 1.75 0 0114.082 15H1.918a1.75 1.75 0 01-1.543-2.575L6.457 1.047zM9 11a1 1 0 11-2 0 1 1 0 012 0zm-.25-5.25a.75.75 0 00-1.5 0v2.5a.75.75 0 001.5 0v-2.5z"></path>
</svg>
    </span>
    <span class="Toast-content"></span>
  </div>


  <div hidden class="anim-fade-in fast Toast Toast--success">
    <span class="Toast-icon">
      <svg aria-hidden="true" height="16" viewBox="0 0 16 16" version="1.1" width="16" data-view-component="true" class="octicon octicon-check">
    <path fill-rule="evenodd" d="M13.78 4.22a.75.75 0 010 1.06l-7.25 7.25a.75.75 0 01-1.06 0L2.22 9.28a.75.75 0 011.06-1.06L6 10.94l6.72-6.72a.75.75 0 011.06 0z"></path>
</svg>
    </span>
    <span class="Toast-content"></span>
  </div>

  <div hidden class="anim-fade-in fast Toast">
    <span class="Toast-icon">
      <svg aria-hidden="true" height="16" viewBox="0 0 16 16" version="1.1" width="16" data-view-component="true" class="octicon octicon-info">
    <path fill-rule="evenodd" d="M8 1.5a6.5 6.5 0 100 13 6.5 6.5 0 000-13zM0 8a8 8 0 1116 0A8 8 0 010 8zm6.5-.25A.75.75 0 017.25 7h1a.75.75 0 01.75.75v2.75h.25a.75.75 0 010 1.5h-2a.75.75 0 010-1.5h.25v-2h-.25a.75.75 0 01-.75-.75zM8 6a1 1 0 100-2 1 1 0 000 2z"></path>
</svg>
    </span>
    <span class="Toast-content"></span>
  </div>
</div>


  <div
    class="application-main "
    data-commit-hovercards-enabled
    data-discussion-hovercards-enabled
    data-issue-and-pr-hovercards-enabled
  >
        <div itemscope itemtype="http://schema.org/SoftwareSourceCode" class="">
    <main id="js-repo-pjax-container" >
      
  
    





    <div id="repository-container-header"  class="pt-3 hide-full-screen" style="background-color: var(--color-page-header-bg);" data-turbo-replace>

      <div class="d-flex flex-wrap flex-justify-end mb-3  px-3 px-md-4 px-lg-5" style="gap: 1rem;">

        <div class="flex-auto min-width-0 width-fit mr-3">
            
  <div class=" d-flex flex-wrap flex-items-center wb-break-word f3 text-normal">
      <svg aria-hidden="true" height="16" viewBox="0 0 16 16" version="1.1" width="16" data-view-component="true" class="octicon octicon-repo color-fg-muted mr-2">
    <path fill-rule="evenodd" d="M2 2.5A2.5 2.5 0 014.5 0h8.75a.75.75 0 01.75.75v12.5a.75.75 0 01-.75.75h-2.5a.75.75 0 110-1.5h1.75v-2h-8a1 1 0 00-.714 1.7.75.75 0 01-1.072 1.05A2.495 2.495 0 012 11.5v-9zm10.5-1V9h-8c-.356 0-.694.074-1 .208V2.5a1 1 0 011-1h8zM5 12.25v3.25a.25.25 0 00.4.2l1.45-1.087a.25.25 0 01.3 0L8.6 15.7a.25.25 0 00.4-.2v-3.25a.25.25 0 00-.25-.25h-3.5a.25.25 0 00-.25.25z"></path>
</svg>
    
    <span class="author flex-self-stretch" itemprop="author">
      <a class="url fn" rel="author" data-hovercard-type="user" data-hovercard-url="/users/IBM-EPBL/hovercard" data-octo-click="hovercard-link-click" data-octo-dimensions="link_type:self" href="/IBM-EPBL">IBM-EPBL</a>
    </span>
    <span class="mx-1 flex-self-stretch color-fg-muted">/</span>
    <strong itemprop="name" class="mr-2 flex-self-stretch">
      <a data-pjax="#repo-content-pjax-container" data-turbo-frame="repo-content-turbo-frame" href="/IBM-EPBL/IBM-Project-50803-1660924691">IBM-Project-50803-1660924691</a>
    </strong>

    <span></span><span class="Label Label--secondary v-align-middle mr-1">Public</span>
  </div>


        </div>

          <ul class="pagehead-actions flex-shrink-0 d-none d-md-inline" style="padding: 2px 0;">

      

  <li>
          <notifications-list-subscription-form
      data-action="notifications-dialog-label-toggled:notifications-list-subscription-form#handleDialogLabelToggle"
      class="f5 position-relative"
    >
      <details
        class="details-reset details-overlay f5 position-relative"
        data-target="notifications-list-subscription-form.details"
        data-action="toggle:notifications-list-subscription-form#detailsToggled"
      >

        <summary data-hydro-click="{&quot;event_type&quot;:&quot;repository.click&quot;,&quot;payload&quot;:{&quot;target&quot;:&quot;WATCH_BUTTON&quot;,&quot;repository_id&quot;:526668617,&quot;originating_url&quot;:&quot;https://github.com/IBM-EPBL/IBM-Project-50803-1660924691/blame/main/Dataset%20Collection/Data_Exploration.ipynb&quot;,&quot;user_id&quot;:115458962}}" data-hydro-click-hmac="6f22acd9aa3b0952d69e489501c5d5438b06aaeae27d2c9cb79427e16def37aa" data-ga-click="Repository, click Watch settings, action:blob#blame" aria-label="Notification settings" data-view-component="true" class="btn-sm btn">    <span data-menu-button>
            <span
              hidden
              
              data-target="notifications-list-subscription-form.unwatchButtonCopy"
            >
              <svg aria-hidden="true" height="16" viewBox="0 0 16 16" version="1.1" width="16" data-view-component="true" class="octicon octicon-eye">
    <path fill-rule="evenodd" d="M1.679 7.932c.412-.621 1.242-1.75 2.366-2.717C5.175 4.242 6.527 3.5 8 3.5c1.473 0 2.824.742 3.955 1.715 1.124.967 1.954 2.096 2.366 2.717a.119.119 0 010 .136c-.412.621-1.242 1.75-2.366 2.717C10.825 11.758 9.473 12.5 8 12.5c-1.473 0-2.824-.742-3.955-1.715C2.92 9.818 2.09 8.69 1.679 8.068a.119.119 0 010-.136zM8 2c-1.981 0-3.67.992-4.933 2.078C1.797 5.169.88 6.423.43 7.1a1.619 1.619 0 000 1.798c.45.678 1.367 1.932 2.637 3.024C4.329 13.008 6.019 14 8 14c1.981 0 3.67-.992 4.933-2.078 1.27-1.091 2.187-2.345 2.637-3.023a1.619 1.619 0 000-1.798c-.45-.678-1.367-1.932-2.637-3.023C11.671 2.992 9.981 2 8 2zm0 8a2 2 0 100-4 2 2 0 000 4z"></path>
</svg>
              Unwatch
            </span>
            <span
              hidden
              
              data-target="notifications-list-subscription-form.stopIgnoringButtonCopy"
            >
              <svg aria-hidden="true" height="16" viewBox="0 0 16 16" version="1.1" width="16" data-view-component="true" class="octicon octicon-bell-slash">
    <path fill-rule="evenodd" d="M8 1.5c-.997 0-1.895.416-2.534 1.086A.75.75 0 014.38 1.55 5 5 0 0113 5v2.373a.75.75 0 01-1.5 0V5A3.5 3.5 0 008 1.5zM4.182 4.31L1.19 2.143a.75.75 0 10-.88 1.214L3 5.305v2.642a.25.25 0 01-.042.139L1.255 10.64A1.518 1.518 0 002.518 13h11.108l1.184.857a.75.75 0 10.88-1.214l-1.375-.996a1.196 1.196 0 00-.013-.01L4.198 4.321a.733.733 0 00-.016-.011zm7.373 7.19L4.5 6.391v1.556c0 .346-.102.683-.294.97l-1.703 2.556a.018.018 0 00-.003.01.015.015 0 00.005.012.017.017 0 00.006.004l.007.001h9.037zM8 16a2 2 0 001.985-1.75c.017-.137-.097-.25-.235-.25h-3.5c-.138 0-.252.113-.235.25A2 2 0 008 16z"></path>
</svg>
              Stop ignoring
            </span>
            <span
              
              
              data-target="notifications-list-subscription-form.watchButtonCopy"
            >
              <svg aria-hidden="true" height="16" viewBox="0 0 16 16" version="1.1" width="16" data-view-component="true" class="octicon octicon-eye">
    <path fill-rule="evenodd" d="M1.679 7.932c.412-.621 1.242-1.75 2.366-2.717C5.175 4.242 6.527 3.5 8 3.5c1.473 0 2.824.742 3.955 1.715 1.124.967 1.954 2.096 2.366 2.717a.119.119 0 010 .136c-.412.621-1.242 1.75-2.366 2.717C10.825 11.758 9.473 12.5 8 12.5c-1.473 0-2.824-.742-3.955-1.715C2.92 9.818 2.09 8.69 1.679 8.068a.119.119 0 010-.136zM8 2c-1.981 0-3.67.992-4.933 2.078C1.797 5.169.88 6.423.43 7.1a1.619 1.619 0 000 1.798c.45.678 1.367 1.932 2.637 3.024C4.329 13.008 6.019 14 8 14c1.981 0 3.67-.992 4.933-2.078 1.27-1.091 2.187-2.345 2.637-3.023a1.619 1.619 0 000-1.798c-.45-.678-1.367-1.932-2.637-3.023C11.671 2.992 9.981 2 8 2zm0 8a2 2 0 100-4 2 2 0 000 4z"></path>
</svg>
              Watch
            </span>
          </span>
            <span id="repo-notifications-counter" data-target="notifications-list-subscription-form.socialCount" data-pjax-replace="true" data-turbo-replace="true" title="1" data-view-component="true" class="Counter">1</span>
          <span class="dropdown-caret"></span>
</summary>
        <details-menu
          class="SelectMenu  "
          role="menu"
          data-target="notifications-list-subscription-form.menu"
          
        >
          <div class="SelectMenu-modal notifications-component-menu-modal">
            <header class="SelectMenu-header">
              <h3 class="SelectMenu-title">Notifications</h3>
              <button class="SelectMenu-closeButton" type="button" aria-label="Close menu" data-action="click:notifications-list-subscription-form#closeMenu">
                <svg aria-hidden="true" height="16" viewBox="0 0 16 16" version="1.1" width="16" data-view-component="true" class="octicon octicon-x">
    <path fill-rule="evenodd" d="M3.72 3.72a.75.75 0 011.06 0L8 6.94l3.22-3.22a.75.75 0 111.06 1.06L9.06 8l3.22 3.22a.75.75 0 11-1.06 1.06L8 9.06l-3.22 3.22a.75.75 0 01-1.06-1.06L6.94 8 3.72 4.78a.75.75 0 010-1.06z"></path>
</svg>
              </button>
            </header>

            <div class="SelectMenu-list">
              <form data-target="notifications-list-subscription-form.form" data-action="submit:notifications-list-subscription-form#submitForm" data-turbo="false" action="/notifications/subscribe" accept-charset="UTF-8" method="post"><input type="hidden" name="authenticity_token" value="UV59U3NWj4cS9J22qXj57VlLAf5235LwnZ3BNhtZPdXxbpUleTcAoDLfvMc3wwj4LZ7khTOCoQsT4RQQ0Dh3JA" autocomplete="off" />

                <input type="hidden" name="repository_id" value="526668617">

                <button
                  type="submit"
                  name="do"
                  value="included"
                  class="SelectMenu-item flex-items-start"
                  role="menuitemradio"
                  aria-checked="true"
                  data-targets="notifications-list-subscription-form.subscriptionButtons"
                  
                >
                  <span class="f5">
                    <svg aria-hidden="true" height="16" viewBox="0 0 16 16" version="1.1" width="16" data-view-component="true" class="octicon octicon-check SelectMenu-icon SelectMenu-icon--check">
    <path fill-rule="evenodd" d="M13.78 4.22a.75.75 0 010 1.06l-7.25 7.25a.75.75 0 01-1.06 0L2.22 9.28a.75.75 0 011.06-1.06L6 10.94l6.72-6.72a.75.75 0 011.06 0z"></path>
</svg>
                  </span>
                  <div>
                    <div class="f5 text-bold">
                      Participating and @mentions
                    </div>
                    <div class="text-small color-fg-muted text-normal pb-1">
                      Only receive notifications from this repository when participating or @mentioned.
                    </div>
                  </div>
                </button>

                <button
                  type="submit"
                  name="do"
                  value="subscribed"
                  class="SelectMenu-item flex-items-start"
                  role="menuitemradio"
                  aria-checked="false"
                  data-targets="notifications-list-subscription-form.subscriptionButtons"
                >
                  <span class="f5">
                    <svg aria-hidden="true" height="16" viewBox="0 0 16 16" version="1.1" width="16" data-view-component="true" class="octicon octicon-check SelectMenu-icon SelectMenu-icon--check">
    <path fill-rule="evenodd" d="M13.78 4.22a.75.75 0 010 1.06l-7.25 7.25a.75.75 0 01-1.06 0L2.22 9.28a.75.75 0 011.06-1.06L6 10.94l6.72-6.72a.75.75 0 011.06 0z"></path>
</svg>
                  </span>
                  <div>
                    <div class="f5 text-bold">
                      All Activity
                    </div>
                    <div class="text-small color-fg-muted text-normal pb-1">
                      Notified of all notifications on this repository.
                    </div>
                  </div>
                </button>

                <button
                  type="submit"
                  name="do"
                  value="ignore"
                  class="SelectMenu-item flex-items-start"
                  role="menuitemradio"
                  aria-checked="false"
                  data-targets="notifications-list-subscription-form.subscriptionButtons"
                >
                  <span class="f5">
                    <svg aria-hidden="true" height="16" viewBox="0 0 16 16" version="1.1" width="16" data-view-component="true" class="octicon octicon-check SelectMenu-icon SelectMenu-icon--check">
    <path fill-rule="evenodd" d="M13.78 4.22a.75.75 0 010 1.06l-7.25 7.25a.75.75 0 01-1.06 0L2.22 9.28a.75.75 0 011.06-1.06L6 10.94l6.72-6.72a.75.75 0 011.06 0z"></path>
</svg>
                  </span>
                  <div>
                    <div class="f5 text-bold">
                      Ignore
                    </div>
                    <div class="text-small color-fg-muted text-normal pb-1">
                      Never be notified.
                    </div>
                  </div>
                </button>
</form>
              <button
                class="SelectMenu-item flex-items-start pr-3"
                type="button"
                role="menuitemradio"
                data-target="notifications-list-subscription-form.customButton"
                data-action="click:notifications-list-subscription-form#openCustomDialog"
                aria-haspopup="true"
                aria-checked="false"
                
              >
                <span class="f5">
                  <svg aria-hidden="true" height="16" viewBox="0 0 16 16" version="1.1" width="16" data-view-component="true" class="octicon octicon-check SelectMenu-icon SelectMenu-icon--check">
    <path fill-rule="evenodd" d="M13.78 4.22a.75.75 0 010 1.06l-7.25 7.25a.75.75 0 01-1.06 0L2.22 9.28a.75.75 0 011.06-1.06L6 10.94l6.72-6.72a.75.75 0 011.06 0z"></path>
</svg>
                </span>
                <div>
                  <div class="d-flex flex-items-start flex-justify-between">
                    <div class="f5 text-bold">Custom</div>
                    <div class="f5 pr-1">
                      <svg aria-hidden="true" height="16" viewBox="0 0 16 16" version="1.1" width="16" data-view-component="true" class="octicon octicon-arrow-right">
    <path fill-rule="evenodd" d="M8.22 2.97a.75.75 0 011.06 0l4.25 4.25a.75.75 0 010 1.06l-4.25 4.25a.75.75 0 01-1.06-1.06l2.97-2.97H3.75a.75.75 0 010-1.5h7.44L8.22 4.03a.75.75 0 010-1.06z"></path>
</svg>
                    </div>
                  </div>
                  <div class="text-small color-fg-muted text-normal pb-1">
                    Select events you want to be notified of in addition to participating and @mentions.
                  </div>
                </div>
              </button>

                <div class="px-3 py-2 d-flex color-bg-subtle flex-items-center">
                  <span class="f5">
                    <svg aria-hidden="true" height="16" viewBox="0 0 16 16" version="1.1" width="16" data-view-component="true" class="octicon octicon-device-mobile SelectMenu-icon SelectMenu-icon--device-mobile">
    <path fill-rule="evenodd" d="M3.75 0A1.75 1.75 0 002 1.75v12.5c0 .966.784 1.75 1.75 1.75h8.5A1.75 1.75 0 0014 14.25V1.75A1.75 1.75 0 0012.25 0h-8.5zM3.5 1.75a.25.25 0 01.25-.25h8.5a.25.25 0 01.25.25v12.5a.25.25 0 01-.25.25h-8.5a.25.25 0 01-.25-.25V1.75zM8 13a1 1 0 100-2 1 1 0 000 2z"></path>
</svg>
                  </span>
                  <span className="text-small color-fg-muted text-normal pb-1">
                    Get push notifications on <a target="_blank" rel="noopener noreferrer" href="https://apps.apple.com/app/apple-store/id1477376905?ct=watch-dropdown&amp;mt=8&amp;pt=524675">iOS</a> or <a target="_blank" rel="noopener noreferrer" href="https://play.google.com/store/apps/details?id=com.github.android&amp;referrer=utm_campaign%3Dwatch-dropdown%26utm_medium%3Dweb%26utm_source%3Dgithub">Android</a>.
                  </span>
                </div>
            </div>
          </div>
        </details-menu>

        <details-dialog
          class="notifications-component-dialog "
          data-target="notifications-list-subscription-form.customDialog"
          aria-label="Custom dialog"
          hidden
        >
          <div class="SelectMenu-modal notifications-component-dialog-modal overflow-visible">
            <form data-target="notifications-list-subscription-form.customform" data-action="submit:notifications-list-subscription-form#submitCustomForm" data-turbo="false" action="/notifications/subscribe" accept-charset="UTF-8" method="post"><input type="hidden" name="authenticity_token" value="kEwdQkUF1oLj017qIEfb03LHM1JOeZC6M4_JqzFv2cMwfPU0T2RZpcP4f5u-_CrGBhLWKQsko0G98xyN-g6TMg" autocomplete="off" />

              <input type="hidden" name="repository_id" value="526668617">

              <header class="d-sm-none SelectMenu-header pb-0 border-bottom-0 px-2 px-sm-3">
                <h1 class="f3 SelectMenu-title d-inline-flex">
                  <button
                    class="color-bg-default border-0 px-2 py-0 m-0 Link--secondary f5"
                    aria-label="Return to menu"
                    type="button"
                    data-action="click:notifications-list-subscription-form#closeCustomDialog"
                  >
                    <svg aria-hidden="true" height="16" viewBox="0 0 16 16" version="1.1" width="16" data-view-component="true" class="octicon octicon-arrow-left">
    <path fill-rule="evenodd" d="M7.78 12.53a.75.75 0 01-1.06 0L2.47 8.28a.75.75 0 010-1.06l4.25-4.25a.75.75 0 011.06 1.06L4.81 7h7.44a.75.75 0 010 1.5H4.81l2.97 2.97a.75.75 0 010 1.06z"></path>
</svg>
                  </button>
                  Custom
                </h1>
              </header>

              <header class="d-none d-sm-flex flex-items-start pt-1">
                <button
                  class="border-0 px-2 pt-1 m-0 Link--secondary f5"
                  style="background-color: transparent;"
                  aria-label="Return to menu"
                  type="button"
                  data-action="click:notifications-list-subscription-form#closeCustomDialog"
                >
                  <svg style="position: relative; left: 2px; top: 1px" aria-hidden="true" height="16" viewBox="0 0 16 16" version="1.1" width="16" data-view-component="true" class="octicon octicon-arrow-left">
    <path fill-rule="evenodd" d="M7.78 12.53a.75.75 0 01-1.06 0L2.47 8.28a.75.75 0 010-1.06l4.25-4.25a.75.75 0 011.06 1.06L4.81 7h7.44a.75.75 0 010 1.5H4.81l2.97 2.97a.75.75 0 010 1.06z"></path>
</svg>
                </button>

                <h1 class="pt-1 pr-4 pb-0 pl-0 f5 text-bold">
                  Custom
                </h1>
              </header>

              <fieldset>
                <legend>
                  <div class="text-small color-fg-muted pt-0 pr-3 pb-3 pl-6 pl-sm-5 border-bottom mb-3">
                    Select events you want to be notified of in addition to participating and @mentions.
                  </div>
                </legend>
                <div data-target="notifications-list-subscription-form.labelInputs">
                </div>
                  <div class="form-checkbox mr-3 ml-6 ml-sm-5 mb-2 mt-0">
                    <label class="f5 text-normal">
                      <input
                        type="checkbox"
                        name="thread_types[]"
                        value="Issue"
                        data-targets="notifications-list-subscription-form.threadTypeCheckboxes"
                        data-action="change:notifications-list-subscription-form#threadTypeCheckboxesUpdated"
                        
                      >
                      Issues
                    </label>


                  </div>
                  <div class="form-checkbox mr-3 ml-6 ml-sm-5 mb-2 mt-0">
                    <label class="f5 text-normal">
                      <input
                        type="checkbox"
                        name="thread_types[]"
                        value="PullRequest"
                        data-targets="notifications-list-subscription-form.threadTypeCheckboxes"
                        data-action="change:notifications-list-subscription-form#threadTypeCheckboxesUpdated"
                        
                      >
                      Pull requests
                    </label>


                  </div>
                  <div class="form-checkbox mr-3 ml-6 ml-sm-5 mb-2 mt-0">
                    <label class="f5 text-normal">
                      <input
                        type="checkbox"
                        name="thread_types[]"
                        value="Release"
                        data-targets="notifications-list-subscription-form.threadTypeCheckboxes"
                        data-action="change:notifications-list-subscription-form#threadTypeCheckboxesUpdated"
                        
                      >
                      Releases
                    </label>


                  </div>
                  <div class="form-checkbox mr-3 ml-6 ml-sm-5 mb-2 mt-0">
                    <label class="f5 text-normal">
                      <input
                        type="checkbox"
                        name="thread_types[]"
                        value="Discussion"
                        data-targets="notifications-list-subscription-form.threadTypeCheckboxes"
                        data-action="change:notifications-list-subscription-form#threadTypeCheckboxesUpdated"
                        
                          aria-describedby="Discussion-disabled"
                          aria-disabled="true"
                      >
                      Discussions
                    </label>

                      <div
                        id="Discussion-disabled"
                        class="color-fg-muted"
                        >
                        Discussions are not enabled for this repository
                      </div>

                  </div>
                  <div class="form-checkbox mr-3 ml-6 ml-sm-5 mb-2 mt-0">
                    <label class="f5 text-normal">
                      <input
                        type="checkbox"
                        name="thread_types[]"
                        value="SecurityAlert"
                        data-targets="notifications-list-subscription-form.threadTypeCheckboxes"
                        data-action="change:notifications-list-subscription-form#threadTypeCheckboxesUpdated"
                        
                      >
                      Security alerts
                    </label>


                  </div>
              </fieldset>
              <div class="pt-2 pb-3 px-3 d-flex flex-justify-start flex-row-reverse">
                  <button name="do" value="custom" data-target="notifications-list-subscription-form.customSubmit" disabled="disabled" type="submit" data-view-component="true" class="btn-primary btn-sm btn ml-2">    Apply
</button>

                  <button data-action="click:notifications-list-subscription-form#resetForm" data-close-dialog="" type="button" data-view-component="true" class="btn-sm btn">    Cancel
</button>
              </div>
</form>          </div>
        </details-dialog>


        <div class="notifications-component-dialog-overlay"></div>
      </details>
    </notifications-list-subscription-form>



  </li>

  <li>
        <div data-view-component="true" class="BtnGroup">
        <a icon="repo-forked" href="/IBM-EPBL/IBM-Project-50803-1660924691/fork" data-hydro-click="{&quot;event_type&quot;:&quot;repository.click&quot;,&quot;payload&quot;:{&quot;target&quot;:&quot;FORK_BUTTON&quot;,&quot;repository_id&quot;:526668617,&quot;originating_url&quot;:&quot;https://github.com/IBM-EPBL/IBM-Project-50803-1660924691/blame/main/Dataset%20Collection/Data_Exploration.ipynb&quot;,&quot;user_id&quot;:115458962}}" data-hydro-click-hmac="b9cf634853586c8f9a7474c847139c9522ffcdcebfe7e22bb03978bf3c6712f9" data-ga-click="Repository, show fork modal, action:blob#blame; text:Fork" aria-label="Fork your own copy of IBM-EPBL/IBM-Project-50803-1660924691" data-view-component="true" class="btn-sm btn BtnGroup-item">    <svg aria-hidden="true" height="16" viewBox="0 0 16 16" version="1.1" width="16" data-view-component="true" class="octicon octicon-repo-forked mr-2">
    <path fill-rule="evenodd" d="M5 3.25a.75.75 0 11-1.5 0 .75.75 0 011.5 0zm0 2.122a2.25 2.25 0 10-1.5 0v.878A2.25 2.25 0 005.75 8.5h1.5v2.128a2.251 2.251 0 101.5 0V8.5h1.5a2.25 2.25 0 002.25-2.25v-.878a2.25 2.25 0 10-1.5 0v.878a.75.75 0 01-.75.75h-4.5A.75.75 0 015 6.25v-.878zm3.75 7.378a.75.75 0 11-1.5 0 .75.75 0 011.5 0zm3-8.75a.75.75 0 100-1.5.75.75 0 000 1.5z"></path>
</svg>Fork
          <span id="repo-network-counter" data-pjax-replace="true" data-turbo-replace="true" title="0" data-view-component="true" class="Counter">0</span>
</a>
      <details group_item="true" id="my-forks-menu-526668617" data-view-component="true" class="details-reset details-overlay BtnGroup-parent d-inline-block position-relative">
              <summary aria-label="See your forks of this repository" data-view-component="true" class="btn-sm btn BtnGroup-item px-2 float-none">    <svg aria-hidden="true" height="16" viewBox="0 0 16 16" version="1.1" width="16" data-view-component="true" class="octicon octicon-triangle-down">
    <path d="M4.427 7.427l3.396 3.396a.25.25 0 00.354 0l3.396-3.396A.25.25 0 0011.396 7H4.604a.25.25 0 00-.177.427z"></path>
</svg>
</summary>
  <details-menu
    class="SelectMenu right-0"
      src="/IBM-EPBL/IBM-Project-50803-1660924691/my_forks_menu_content?can_fork=true"
      
      role="menu"
      
>
    <div class="SelectMenu-modal">
        <button class="SelectMenu-closeButton position-absolute right-0 m-2" type="button" aria-label="Close menu" data-toggle-for="details-b4b1f0">
          <svg aria-hidden="true" height="16" viewBox="0 0 16 16" version="1.1" width="16" data-view-component="true" class="octicon octicon-x">
    <path fill-rule="evenodd" d="M3.72 3.72a.75.75 0 011.06 0L8 6.94l3.22-3.22a.75.75 0 111.06 1.06L9.06 8l3.22 3.22a.75.75 0 11-1.06 1.06L8 9.06l-3.22 3.22a.75.75 0 01-1.06-1.06L6.94 8 3.72 4.78a.75.75 0 010-1.06z"></path>
</svg>
        </button>
      <div
        id="filter-menu-b4b1f0"
        class="d-flex flex-column flex-1 overflow-hidden"
>
        <div
          class="SelectMenu-list"
          >

            <include-fragment class="SelectMenu-loading" aria-label="Loading">
              <svg style="box-sizing: content-box; color: var(--color-icon-primary);" width="32" height="32" viewBox="0 0 16 16" fill="none" data-view-component="true" class="anim-rotate">
  <circle cx="8" cy="8" r="7" stroke="currentColor" stroke-opacity="0.25" stroke-width="2" vector-effect="non-scaling-stroke" />
  <path d="M15 8a7.002 7.002 0 00-7-7" stroke="currentColor" stroke-width="2" stroke-linecap="round" vector-effect="non-scaling-stroke" />
</svg>
            </include-fragment>
        </div>
        
      </div>
    </div>
  </details-menu>
</details></div>
  </li>

  <li>
        <template class="js-unstar-confirmation-dialog-template">
  <div class="Box-header">
    <h2 class="Box-title">Unstar this repository?</h2>
  </div>
  <div class="Box-body">
    <p class="mb-3">
      This will remove {{ repoNameWithOwner }} from the {{ listsWithCount }} that it's been added to.
    </p>
    <div class="form-actions">
      <form class="js-social-confirmation-form" data-turbo="false" action="{{ confirmUrl }}" accept-charset="UTF-8" method="post">
        <input type="hidden" name="authenticity_token" value="{{ confirmCsrfToken }}">
        <input type="hidden" name="confirm" value="true">
          <button data-close-dialog="true" type="submit" data-view-component="true" class="btn-danger btn width-full">    Unstar
</button>
</form>    </div>
  </div>
</template>

  <div data-view-component="true" class="js-toggler-container js-social-container starring-container d-flex">
    <div data-view-component="true" class="starred BtnGroup flex-1">
      <form class="js-social-form BtnGroup-parent flex-auto js-deferred-toggler-target" data-turbo="false" action="/IBM-EPBL/IBM-Project-50803-1660924691/unstar" accept-charset="UTF-8" method="post"><input type="hidden" name="authenticity_token" value="ehWYH5eAnLMcSFqGUBQV06EfpPm_Xt7_rVRJTNPKplCg0ZnK9FHo26IY0Cvpj8VsyJSy5IRG0qvRoS5zKVfAVw" autocomplete="off" />
          <input type="hidden" value="GKC9rD8w_c0Z2lexxNkSEoH60TcuxmA-mVqeOlrcXiDCZLx5XOGJpaeK3Rx9QsKt6HHHKhXebGrlr_kFoEE4Jw" data-csrf="true" class="js-confirm-csrf-token" />
        <input type="hidden" name="context" value="repository">
          <button data-hydro-click="{&quot;event_type&quot;:&quot;repository.click&quot;,&quot;payload&quot;:{&quot;target&quot;:&quot;UNSTAR_BUTTON&quot;,&quot;repository_id&quot;:526668617,&quot;originating_url&quot;:&quot;https://github.com/IBM-EPBL/IBM-Project-50803-1660924691/blame/main/Dataset%20Collection/Data_Exploration.ipynb&quot;,&quot;user_id&quot;:115458962}}" data-hydro-click-hmac="c29a38930b2731ed243274edd84d197bf89c94e91bee4b785f99c56c681298e6" data-ga-click="Repository, click unstar button, action:blob#blame; text:Unstar" aria-label="Unstar this repository (0)" type="submit" data-view-component="true" class="rounded-left-2 btn-sm btn BtnGroup-item">    <svg aria-hidden="true" height="16" viewBox="0 0 16 16" version="1.1" width="16" data-view-component="true" class="octicon octicon-star-fill starred-button-icon d-inline-block mr-2">
    <path fill-rule="evenodd" d="M8 .25a.75.75 0 01.673.418l1.882 3.815 4.21.612a.75.75 0 01.416 1.279l-3.046 2.97.719 4.192a.75.75 0 01-1.088.791L8 12.347l-3.766 1.98a.75.75 0 01-1.088-.79l.72-4.194L.818 6.374a.75.75 0 01.416-1.28l4.21-.611L7.327.668A.75.75 0 018 .25z"></path>
</svg><span data-view-component="true" class="d-inline">
            Starred
</span>            <span id="repo-stars-counter-unstar" aria-label="0 users starred this repository" data-singular-suffix="user starred this repository" data-plural-suffix="users starred this repository" data-turbo-replace="true" title="0" data-view-component="true" class="Counter js-social-count">0</span>
</button></form>        <details id="details-user-list-526668617" data-view-component="true" class="details-reset details-overlay BtnGroup-parent js-user-list-menu d-inline-block position-relative">
        <summary aria-label="Add this repository to a list" data-view-component="true" class="btn-sm btn BtnGroup-item px-2 float-none">    <svg aria-hidden="true" height="16" viewBox="0 0 16 16" version="1.1" width="16" data-view-component="true" class="octicon octicon-triangle-down">
    <path d="M4.427 7.427l3.396 3.396a.25.25 0 00.354 0l3.396-3.396A.25.25 0 0011.396 7H4.604a.25.25 0 00-.177.427z"></path>
</svg>
</summary>
  <details-menu
    class="SelectMenu right-0"
      src="/IBM-EPBL/IBM-Project-50803-1660924691/lists"
      
      role="menu"
      
>
    <div class="SelectMenu-modal">
        <button class="SelectMenu-closeButton position-absolute right-0 m-2" type="button" aria-label="Close menu" data-toggle-for="details-8995a1">
          <svg aria-hidden="true" height="16" viewBox="0 0 16 16" version="1.1" width="16" data-view-component="true" class="octicon octicon-x">
    <path fill-rule="evenodd" d="M3.72 3.72a.75.75 0 011.06 0L8 6.94l3.22-3.22a.75.75 0 111.06 1.06L9.06 8l3.22 3.22a.75.75 0 11-1.06 1.06L8 9.06l-3.22 3.22a.75.75 0 01-1.06-1.06L6.94 8 3.72 4.78a.75.75 0 010-1.06z"></path>
</svg>
        </button>
      <div
        id="filter-menu-8995a1"
        class="d-flex flex-column flex-1 overflow-hidden"
>
        <div
          class="SelectMenu-list"
          >

            <include-fragment class="SelectMenu-loading" aria-label="Loading">
              <svg style="box-sizing: content-box; color: var(--color-icon-primary);" width="32" height="32" viewBox="0 0 16 16" fill="none" data-view-component="true" class="anim-rotate">
  <circle cx="8" cy="8" r="7" stroke="currentColor" stroke-opacity="0.25" stroke-width="2" vector-effect="non-scaling-stroke" />
  <path d="M15 8a7.002 7.002 0 00-7-7" stroke="currentColor" stroke-width="2" stroke-linecap="round" vector-effect="non-scaling-stroke" />
</svg>
            </include-fragment>
        </div>
        
      </div>
    </div>
  </details-menu>
</details>
</div>
    <div data-view-component="true" class="unstarred BtnGroup flex-1">
      <form class="js-social-form BtnGroup-parent flex-auto" data-turbo="false" action="/IBM-EPBL/IBM-Project-50803-1660924691/star" accept-charset="UTF-8" method="post"><input type="hidden" name="authenticity_token" value="X-npfHMFi4xV7mG5SS05J3amu3tguOqetgeaPddderwvRDLHatz9rJfDlfg6n6KZQIjr-X1XhuM7VMwo-5PQkA" autocomplete="off" />
        <input type="hidden" name="context" value="repository">
          <button data-hydro-click="{&quot;event_type&quot;:&quot;repository.click&quot;,&quot;payload&quot;:{&quot;target&quot;:&quot;STAR_BUTTON&quot;,&quot;repository_id&quot;:526668617,&quot;originating_url&quot;:&quot;https://github.com/IBM-EPBL/IBM-Project-50803-1660924691/blame/main/Dataset%20Collection/Data_Exploration.ipynb&quot;,&quot;user_id&quot;:115458962}}" data-hydro-click-hmac="35d9c5ce6aa62832b19e392ecd1f6458d92996f67de3af744bb4c9d7a8bb9c85" data-ga-click="Repository, click star button, action:blob#blame; text:Star" aria-label="Star this repository (0)" type="submit" data-view-component="true" class="js-toggler-target rounded-left-2 btn-sm btn BtnGroup-item">    <svg aria-hidden="true" height="16" viewBox="0 0 16 16" version="1.1" width="16" data-view-component="true" class="octicon octicon-star d-inline-block mr-2">
    <path fill-rule="evenodd" d="M8 .25a.75.75 0 01.673.418l1.882 3.815 4.21.612a.75.75 0 01.416 1.279l-3.046 2.97.719 4.192a.75.75 0 01-1.088.791L8 12.347l-3.766 1.98a.75.75 0 01-1.088-.79l.72-4.194L.818 6.374a.75.75 0 01.416-1.28l4.21-.611L7.327.668A.75.75 0 018 .25zm0 2.445L6.615 5.5a.75.75 0 01-.564.41l-3.097.45 2.24 2.184a.75.75 0 01.216.664l-.528 3.084 2.769-1.456a.75.75 0 01.698 0l2.77 1.456-.53-3.084a.75.75 0 01.216-.664l2.24-2.183-3.096-.45a.75.75 0 01-.564-.41L8 2.694v.001z"></path>
</svg><span data-view-component="true" class="d-inline">
            Star
</span>            <span id="repo-stars-counter-star" aria-label="0 users starred this repository" data-singular-suffix="user starred this repository" data-plural-suffix="users starred this repository" data-turbo-replace="true" title="0" data-view-component="true" class="Counter js-social-count">0</span>
</button></form>        <details id="details-user-list-526668617" data-view-component="true" class="details-reset details-overlay BtnGroup-parent js-user-list-menu d-inline-block position-relative">
        <summary aria-label="Add this repository to a list" data-view-component="true" class="btn-sm btn BtnGroup-item px-2 float-none">    <svg aria-hidden="true" height="16" viewBox="0 0 16 16" version="1.1" width="16" data-view-component="true" class="octicon octicon-triangle-down">
    <path d="M4.427 7.427l3.396 3.396a.25.25 0 00.354 0l3.396-3.396A.25.25 0 0011.396 7H4.604a.25.25 0 00-.177.427z"></path>
</svg>
</summary>
  <details-menu
    class="SelectMenu right-0"
      src="/IBM-EPBL/IBM-Project-50803-1660924691/lists"
      
      role="menu"
      
>
    <div class="SelectMenu-modal">
        <button class="SelectMenu-closeButton position-absolute right-0 m-2" type="button" aria-label="Close menu" data-toggle-for="details-8995a1">
          <svg aria-hidden="true" height="16" viewBox="0 0 16 16" version="1.1" width="16" data-view-component="true" class="octicon octicon-x">
    <path fill-rule="evenodd" d="M3.72 3.72a.75.75 0 011.06 0L8 6.94l3.22-3.22a.75.75 0 111.06 1.06L9.06 8l3.22 3.22a.75.75 0 11-1.06 1.06L8 9.06l-3.22 3.22a.75.75 0 01-1.06-1.06L6.94 8 3.72 4.78a.75.75 0 010-1.06z"></path>
</svg>
        </button>
      <div
        id="filter-menu-8995a1"
        class="d-flex flex-column flex-1 overflow-hidden"
>
        <div
          class="SelectMenu-list"
          >

            <include-fragment class="SelectMenu-loading" aria-label="Loading">
              <svg style="box-sizing: content-box; color: var(--color-icon-primary);" width="32" height="32" viewBox="0 0 16 16" fill="none" data-view-component="true" class="anim-rotate">
  <circle cx="8" cy="8" r="7" stroke="currentColor" stroke-opacity="0.25" stroke-width="2" vector-effect="non-scaling-stroke" />
  <path d="M15 8a7.002 7.002 0 00-7-7" stroke="currentColor" stroke-width="2" stroke-linecap="round" vector-effect="non-scaling-stroke" />
</svg>
            </include-fragment>
        </div>
        
      </div>
    </div>
  </details-menu>
</details>
</div></div>
  </li>

    

</ul>

      </div>

        <div id="responsive-meta-container" data-turbo-replace>
</div>


          <nav data-pjax="#js-repo-pjax-container" aria-label="Repository" data-view-component="true" class="js-repo-nav js-sidenav-container-pjax js-responsive-underlinenav overflow-hidden UnderlineNav px-3 px-md-4 px-lg-5">

  <ul data-view-component="true" class="UnderlineNav-body list-style-none">
      <li data-view-component="true" class="d-inline-flex">
  <a id="code-tab" href="/IBM-EPBL/IBM-Project-50803-1660924691" data-tab-item="i0code-tab" data-selected-links="repo_source repo_downloads repo_commits repo_releases repo_tags repo_branches repo_packages repo_deployments /IBM-EPBL/IBM-Project-50803-1660924691" data-pjax="#repo-content-pjax-container" data-turbo-frame="repo-content-turbo-frame" data-hotkey="g c" data-analytics-event="{&quot;category&quot;:&quot;Underline navbar&quot;,&quot;action&quot;:&quot;Click tab&quot;,&quot;label&quot;:&quot;Code&quot;,&quot;target&quot;:&quot;UNDERLINE_NAV.TAB&quot;}" aria-current="page" data-view-component="true" class="UnderlineNav-item no-wrap js-responsive-underlinenav-item js-selected-navigation-item selected">
    
              <svg aria-hidden="true" height="16" viewBox="0 0 16 16" version="1.1" width="16" data-view-component="true" class="octicon octicon-code UnderlineNav-octicon d-none d-sm-inline">
    <path fill-rule="evenodd" d="M4.72 3.22a.75.75 0 011.06 1.06L2.06 8l3.72 3.72a.75.75 0 11-1.06 1.06L.47 8.53a.75.75 0 010-1.06l4.25-4.25zm6.56 0a.75.75 0 10-1.06 1.06L13.94 8l-3.72 3.72a.75.75 0 101.06 1.06l4.25-4.25a.75.75 0 000-1.06l-4.25-4.25z"></path>
</svg>
        <span data-content="Code">Code</span>
          <span id="code-repo-tab-count" data-pjax-replace="" data-turbo-replace="" title="Not available" data-view-component="true" class="Counter"></span>


    
</a></li>
      <li data-view-component="true" class="d-inline-flex">
  <a id="issues-tab" href="/IBM-EPBL/IBM-Project-50803-1660924691/issues" data-tab-item="i1issues-tab" data-selected-links="repo_issues repo_labels repo_milestones /IBM-EPBL/IBM-Project-50803-1660924691/issues" data-pjax="#repo-content-pjax-container" data-turbo-frame="repo-content-turbo-frame" data-hotkey="g i" data-analytics-event="{&quot;category&quot;:&quot;Underline navbar&quot;,&quot;action&quot;:&quot;Click tab&quot;,&quot;label&quot;:&quot;Issues&quot;,&quot;target&quot;:&quot;UNDERLINE_NAV.TAB&quot;}" data-view-component="true" class="UnderlineNav-item no-wrap js-responsive-underlinenav-item js-selected-navigation-item">
    
              <svg aria-hidden="true" height="16" viewBox="0 0 16 16" version="1.1" width="16" data-view-component="true" class="octicon octicon-issue-opened UnderlineNav-octicon d-none d-sm-inline">
    <path d="M8 9.5a1.5 1.5 0 100-3 1.5 1.5 0 000 3z"></path><path fill-rule="evenodd" d="M8 0a8 8 0 100 16A8 8 0 008 0zM1.5 8a6.5 6.5 0 1113 0 6.5 6.5 0 01-13 0z"></path>
</svg>
        <span data-content="Issues">Issues</span>
          <span id="issues-repo-tab-count" data-pjax-replace="" data-turbo-replace="" title="0" hidden="hidden" data-view-component="true" class="Counter">0</span>


    
</a></li>
      <li data-view-component="true" class="d-inline-flex">
  <a id="pull-requests-tab" href="/IBM-EPBL/IBM-Project-50803-1660924691/pulls" data-tab-item="i2pull-requests-tab" data-selected-links="repo_pulls checks /IBM-EPBL/IBM-Project-50803-1660924691/pulls" data-pjax="#repo-content-pjax-container" data-turbo-frame="repo-content-turbo-frame" data-hotkey="g p" data-analytics-event="{&quot;category&quot;:&quot;Underline navbar&quot;,&quot;action&quot;:&quot;Click tab&quot;,&quot;label&quot;:&quot;Pull requests&quot;,&quot;target&quot;:&quot;UNDERLINE_NAV.TAB&quot;}" data-view-component="true" class="UnderlineNav-item no-wrap js-responsive-underlinenav-item js-selected-navigation-item">
    
              <svg aria-hidden="true" height="16" viewBox="0 0 16 16" version="1.1" width="16" data-view-component="true" class="octicon octicon-git-pull-request UnderlineNav-octicon d-none d-sm-inline">
    <path fill-rule="evenodd" d="M7.177 3.073L9.573.677A.25.25 0 0110 .854v4.792a.25.25 0 01-.427.177L7.177 3.427a.25.25 0 010-.354zM3.75 2.5a.75.75 0 100 1.5.75.75 0 000-1.5zm-2.25.75a2.25 2.25 0 113 2.122v5.256a2.251 2.251 0 11-1.5 0V5.372A2.25 2.25 0 011.5 3.25zM11 2.5h-1V4h1a1 1 0 011 1v5.628a2.251 2.251 0 101.5 0V5A2.5 2.5 0 0011 2.5zm1 10.25a.75.75 0 111.5 0 .75.75 0 01-1.5 0zM3.75 12a.75.75 0 100 1.5.75.75 0 000-1.5z"></path>
</svg>
        <span data-content="Pull requests">Pull requests</span>
          <span id="pull-requests-repo-tab-count" data-pjax-replace="" data-turbo-replace="" title="0" hidden="hidden" data-view-component="true" class="Counter">0</span>


    
</a></li>
      <li data-view-component="true" class="d-inline-flex">
  <a id="actions-tab" href="/IBM-EPBL/IBM-Project-50803-1660924691/actions" data-tab-item="i3actions-tab" data-selected-links="repo_actions /IBM-EPBL/IBM-Project-50803-1660924691/actions" data-pjax="#repo-content-pjax-container" data-turbo-frame="repo-content-turbo-frame" data-hotkey="g a" data-analytics-event="{&quot;category&quot;:&quot;Underline navbar&quot;,&quot;action&quot;:&quot;Click tab&quot;,&quot;label&quot;:&quot;Actions&quot;,&quot;target&quot;:&quot;UNDERLINE_NAV.TAB&quot;}" data-view-component="true" class="UnderlineNav-item no-wrap js-responsive-underlinenav-item js-selected-navigation-item">
    
              <svg aria-hidden="true" height="16" viewBox="0 0 16 16" version="1.1" width="16" data-view-component="true" class="octicon octicon-play UnderlineNav-octicon d-none d-sm-inline">
    <path fill-rule="evenodd" d="M1.5 8a6.5 6.5 0 1113 0 6.5 6.5 0 01-13 0zM8 0a8 8 0 100 16A8 8 0 008 0zM6.379 5.227A.25.25 0 006 5.442v5.117a.25.25 0 00.379.214l4.264-2.559a.25.25 0 000-.428L6.379 5.227z"></path>
</svg>
        <span data-content="Actions">Actions</span>
          <span id="actions-repo-tab-count" data-pjax-replace="" data-turbo-replace="" title="Not available" data-view-component="true" class="Counter"></span>


    
</a></li>
      <li data-view-component="true" class="d-inline-flex">
  <a id="projects-tab" href="/IBM-EPBL/IBM-Project-50803-1660924691/projects" data-tab-item="i4projects-tab" data-selected-links="repo_projects new_repo_project repo_project /IBM-EPBL/IBM-Project-50803-1660924691/projects" data-pjax="#repo-content-pjax-container" data-turbo-frame="repo-content-turbo-frame" data-hotkey="g b" data-analytics-event="{&quot;category&quot;:&quot;Underline navbar&quot;,&quot;action&quot;:&quot;Click tab&quot;,&quot;label&quot;:&quot;Projects&quot;,&quot;target&quot;:&quot;UNDERLINE_NAV.TAB&quot;}" data-view-component="true" class="UnderlineNav-item no-wrap js-responsive-underlinenav-item js-selected-navigation-item">
    
              <svg aria-hidden="true" height="16" viewBox="0 0 16 16" version="1.1" width="16" data-view-component="true" class="octicon octicon-table UnderlineNav-octicon d-none d-sm-inline">
    <path fill-rule="evenodd" d="M0 1.75C0 .784.784 0 1.75 0h12.5C15.216 0 16 .784 16 1.75v12.5A1.75 1.75 0 0114.25 16H1.75A1.75 1.75 0 010 14.25V1.75zM1.5 6.5v7.75c0 .138.112.25.25.25H5v-8H1.5zM5 5H1.5V1.75a.25.25 0 01.25-.25H5V5zm1.5 1.5v8h7.75a.25.25 0 00.25-.25V6.5h-8zm8-1.5h-8V1.5h7.75a.25.25 0 01.25.25V5z"></path>
</svg>
        <span data-content="Projects">Projects</span>
          <span id="projects-repo-tab-count" data-pjax-replace="" data-turbo-replace="" title="0" hidden="hidden" data-view-component="true" class="Counter">0</span>


    
</a></li>
      <li data-view-component="true" class="d-inline-flex">
  <a id="security-tab" href="/IBM-EPBL/IBM-Project-50803-1660924691/security" data-tab-item="i5security-tab" data-selected-links="security overview alerts policy token_scanning code_scanning /IBM-EPBL/IBM-Project-50803-1660924691/security" data-pjax="#repo-content-pjax-container" data-turbo-frame="repo-content-turbo-frame" data-hotkey="g s" data-analytics-event="{&quot;category&quot;:&quot;Underline navbar&quot;,&quot;action&quot;:&quot;Click tab&quot;,&quot;label&quot;:&quot;Security&quot;,&quot;target&quot;:&quot;UNDERLINE_NAV.TAB&quot;}" data-view-component="true" class="UnderlineNav-item no-wrap js-responsive-underlinenav-item js-selected-navigation-item">
    
              <svg aria-hidden="true" height="16" viewBox="0 0 16 16" version="1.1" width="16" data-view-component="true" class="octicon octicon-shield UnderlineNav-octicon d-none d-sm-inline">
    <path fill-rule="evenodd" d="M7.467.133a1.75 1.75 0 011.066 0l5.25 1.68A1.75 1.75 0 0115 3.48V7c0 1.566-.32 3.182-1.303 4.682-.983 1.498-2.585 2.813-5.032 3.855a1.7 1.7 0 01-1.33 0c-2.447-1.042-4.049-2.357-5.032-3.855C1.32 10.182 1 8.566 1 7V3.48a1.75 1.75 0 011.217-1.667l5.25-1.68zm.61 1.429a.25.25 0 00-.153 0l-5.25 1.68a.25.25 0 00-.174.238V7c0 1.358.275 2.666 1.057 3.86.784 1.194 2.121 2.34 4.366 3.297a.2.2 0 00.154 0c2.245-.956 3.582-2.104 4.366-3.298C13.225 9.666 13.5 8.36 13.5 7V3.48a.25.25 0 00-.174-.237l-5.25-1.68zM9 10.5a1 1 0 11-2 0 1 1 0 012 0zm-.25-5.75a.75.75 0 10-1.5 0v3a.75.75 0 001.5 0v-3z"></path>
</svg>
        <span data-content="Security">Security</span>
          <include-fragment src="/IBM-EPBL/IBM-Project-50803-1660924691/security/overall-count" accept="text/fragment+html"></include-fragment>

    
</a></li>
      <li data-view-component="true" class="d-inline-flex">
  <a id="insights-tab" href="/IBM-EPBL/IBM-Project-50803-1660924691/pulse" data-tab-item="i6insights-tab" data-selected-links="repo_graphs repo_contributors dependency_graph dependabot_updates pulse people community /IBM-EPBL/IBM-Project-50803-1660924691/pulse" data-pjax="#repo-content-pjax-container" data-turbo-frame="repo-content-turbo-frame" data-analytics-event="{&quot;category&quot;:&quot;Underline navbar&quot;,&quot;action&quot;:&quot;Click tab&quot;,&quot;label&quot;:&quot;Insights&quot;,&quot;target&quot;:&quot;UNDERLINE_NAV.TAB&quot;}" data-view-component="true" class="UnderlineNav-item no-wrap js-responsive-underlinenav-item js-selected-navigation-item">
    
              <svg aria-hidden="true" height="16" viewBox="0 0 16 16" version="1.1" width="16" data-view-component="true" class="octicon octicon-graph UnderlineNav-octicon d-none d-sm-inline">
    <path fill-rule="evenodd" d="M1.5 1.75a.75.75 0 00-1.5 0v12.5c0 .414.336.75.75.75h14.5a.75.75 0 000-1.5H1.5V1.75zm14.28 2.53a.75.75 0 00-1.06-1.06L10 7.94 7.53 5.47a.75.75 0 00-1.06 0L3.22 8.72a.75.75 0 001.06 1.06L7 7.06l2.47 2.47a.75.75 0 001.06 0l5.25-5.25z"></path>
</svg>
        <span data-content="Insights">Insights</span>
          <span id="insights-repo-tab-count" data-pjax-replace="" data-turbo-replace="" title="Not available" data-view-component="true" class="Counter"></span>


    
</a></li>
</ul>
    <div style="visibility:hidden;" data-view-component="true" class="UnderlineNav-actions js-responsive-underlinenav-overflow position-absolute pr-3 pr-md-4 pr-lg-5 right-0">      <details data-view-component="true" class="details-overlay details-reset position-relative">
  <summary role="button" data-view-component="true">          <div class="UnderlineNav-item mr-0 border-0">
            <svg aria-hidden="true" height="16" viewBox="0 0 16 16" version="1.1" width="16" data-view-component="true" class="octicon octicon-kebab-horizontal">
    <path d="M8 9a1.5 1.5 0 100-3 1.5 1.5 0 000 3zM1.5 9a1.5 1.5 0 100-3 1.5 1.5 0 000 3zm13 0a1.5 1.5 0 100-3 1.5 1.5 0 000 3z"></path>
</svg>
            <span class="sr-only">More</span>
          </div>
</summary>
  <details-menu role="menu" data-view-component="true" class="dropdown-menu dropdown-menu-sw">          <ul>
              <li data-menu-item="i0code-tab" hidden>
                <a role="menuitem" class="js-selected-navigation-item selected dropdown-item" aria-current="page" data-selected-links="repo_source repo_downloads repo_commits repo_releases repo_tags repo_branches repo_packages repo_deployments /IBM-EPBL/IBM-Project-50803-1660924691" href="/IBM-EPBL/IBM-Project-50803-1660924691">
                  Code
</a>              </li>
              <li data-menu-item="i1issues-tab" hidden>
                <a role="menuitem" class="js-selected-navigation-item dropdown-item" data-selected-links="repo_issues repo_labels repo_milestones /IBM-EPBL/IBM-Project-50803-1660924691/issues" href="/IBM-EPBL/IBM-Project-50803-1660924691/issues">
                  Issues
</a>              </li>
              <li data-menu-item="i2pull-requests-tab" hidden>
                <a role="menuitem" class="js-selected-navigation-item dropdown-item" data-selected-links="repo_pulls checks /IBM-EPBL/IBM-Project-50803-1660924691/pulls" href="/IBM-EPBL/IBM-Project-50803-1660924691/pulls">
                  Pull requests
</a>              </li>
              <li data-menu-item="i3actions-tab" hidden>
                <a role="menuitem" class="js-selected-navigation-item dropdown-item" data-selected-links="repo_actions /IBM-EPBL/IBM-Project-50803-1660924691/actions" href="/IBM-EPBL/IBM-Project-50803-1660924691/actions">
                  Actions
</a>              </li>
              <li data-menu-item="i4projects-tab" hidden>
                <a role="menuitem" class="js-selected-navigation-item dropdown-item" data-selected-links="repo_projects new_repo_project repo_project /IBM-EPBL/IBM-Project-50803-1660924691/projects" href="/IBM-EPBL/IBM-Project-50803-1660924691/projects">
                  Projects
</a>              </li>
              <li data-menu-item="i5security-tab" hidden>
                <a role="menuitem" class="js-selected-navigation-item dropdown-item" data-selected-links="security overview alerts policy token_scanning code_scanning /IBM-EPBL/IBM-Project-50803-1660924691/security" href="/IBM-EPBL/IBM-Project-50803-1660924691/security">
                  Security
</a>              </li>
              <li data-menu-item="i6insights-tab" hidden>
                <a role="menuitem" class="js-selected-navigation-item dropdown-item" data-selected-links="repo_graphs repo_contributors dependency_graph dependabot_updates pulse people community /IBM-EPBL/IBM-Project-50803-1660924691/pulse" href="/IBM-EPBL/IBM-Project-50803-1660924691/pulse">
                  Insights
</a>              </li>
          </ul>
</details-menu>
</details></div>
</nav>



  </div>



  <turbo-frame id="repo-content-turbo-frame" target="_top" data-turbo-action="advance" class="">
      <div id="repo-content-pjax-container" class="repository-content " >
    
    


    
      
<div class="clearfix container-xl px-3 px-md-4 px-lg-5 mt-4">

  
<div class="wants-full-width-container"></div>

<a class="d-none js-permalink-shortcut" data-hotkey="y" href="/IBM-EPBL/IBM-Project-50803-1660924691/blame/fcd2f58e8d3f5f697ee287c062a5571ae055f067/Dataset%20Collection/Data_Exploration.ipynb">Permalink</a>

<div class="breadcrumb css-truncate blame-breadcrumb">
  <span id="blob-path" class="css-truncate-target"><span class="js-repo-root text-bold"><span class="js-path-segment d-inline-block wb-break-all"><a data-pjax="true" href="/IBM-EPBL/IBM-Project-50803-1660924691"><span>IBM-Project-50803-1660924691</span></a></span></span><span class="separator">/</span><span class="js-path-segment d-inline-block wb-break-all"><a data-pjax="true" href="/IBM-EPBL/IBM-Project-50803-1660924691/tree/main/Dataset%20Collection"><span>Dataset Collection</span></a></span><span class="separator">/</span><strong class="final-path">Data_Exploration.ipynb</strong></span>
  <clipboard-copy aria-label="Copy file path to clipboard" value="Dataset Collection/Data_Exploration.ipynb" data-view-component="true" class="btn btn-sm">
    <svg aria-hidden="true" height="16" viewBox="0 0 16 16" version="1.1" width="16" data-view-component="true" class="octicon octicon-copy">
    <path fill-rule="evenodd" d="M0 6.75C0 5.784.784 5 1.75 5h1.5a.75.75 0 010 1.5h-1.5a.25.25 0 00-.25.25v7.5c0 .138.112.25.25.25h7.5a.25.25 0 00.25-.25v-1.5a.75.75 0 011.5 0v1.5A1.75 1.75 0 019.25 16h-7.5A1.75 1.75 0 010 14.25v-7.5z"></path><path fill-rule="evenodd" d="M5 1.75C5 .784 5.784 0 6.75 0h7.5C15.216 0 16 .784 16 1.75v7.5A1.75 1.75 0 0114.25 11h-7.5A1.75 1.75 0 015 9.25v-7.5zm1.75-.25a.25.25 0 00-.25.25v7.5c0 .138.112.25.25.25h7.5a.25.25 0 00.25-.25v-7.5a.25.25 0 00-.25-.25h-7.5z"></path>
</svg>
    <svg style="display: none;" aria-hidden="true" height="16" viewBox="0 0 16 16" version="1.1" width="16" data-view-component="true" class="octicon octicon-check color-fg-success">
    <path fill-rule="evenodd" d="M13.78 4.22a.75.75 0 010 1.06l-7.25 7.25a.75.75 0 01-1.06 0L2.22 9.28a.75.75 0 011.06-1.06L6 10.94l6.72-6.72a.75.75 0 011.06 0z"></path>
</svg>
</clipboard-copy>
</div>

<div class="line-age-legend float-right mt-n4 f6">
  <span>Newer</span>
  <ol class="d-inline-block mx-1 list-style-none">
      <li class="heat d-inline-block" data-heat="1"></li>
      <li class="heat d-inline-block" data-heat="2"></li>
      <li class="heat d-inline-block" data-heat="3"></li>
      <li class="heat d-inline-block" data-heat="4"></li>
      <li class="heat d-inline-block" data-heat="5"></li>
      <li class="heat d-inline-block" data-heat="6"></li>
      <li class="heat d-inline-block" data-heat="7"></li>
      <li class="heat d-inline-block" data-heat="8"></li>
      <li class="heat d-inline-block" data-heat="9"></li>
      <li class="heat d-inline-block" data-heat="10"></li>
  </ol>
  <span>Older</span>
</div>


  <div class="file">
    <div class="file-header py-2 pl-3 pr-2">
        <div data-view-component="true" class="js-notice Popover position-absolute ml-3 mt-5 d-none d-sm-none d-md-block d-lg-block left-0">
  <div data-view-component="true" class="Popover-message Box Popover-message--top-left Popover-message--large p-4 mt-2 mx-auto text-left color-shadow-large">
    <h4 data-view-component="true" class="mb-2">            Ignore revisions
</h4>
                You can now hide commits e.g. from automated formatters. <a href="https://docs.github.com/repositories/working-with-files/using-files/viewing-a-file#ignore-commits-in-the-blame-view">Learn more.</a>

            <!-- '"` --><!-- </textarea></xmp> --></option></form><form class="mt-3 js-notice-dismiss" data-turbo="false" action="/settings/dismiss-notice/blame_ignore_revs" accept-charset="UTF-8" method="post"><input type="hidden" name="authenticity_token" value="Bi0F-XrMdBhWqJVYbeM9f_4p-lTe7LGlmoZksMpvDfsnHAlh62QMKmHpe7fEVDb51zW-xa6SH-5mBVQEp-G1Kg" />
                <button type="submit" data-view-component="true" class="btn-primary btn">    Got it!
</button></form>
</div></div>
      <div class="file-actions pt-0">
        <div data-view-component="true" class="BtnGroup">
      <a href="/IBM-EPBL/IBM-Project-50803-1660924691/raw/main/Dataset%20Collection/Data_Exploration.ipynb" id="raw-url" data-view-component="true" class="btn-sm btn BtnGroup-item">    Raw
</a>
      <a href="/IBM-EPBL/IBM-Project-50803-1660924691/blob/main/Dataset%20Collection/Data_Exploration.ipynb" data-view-component="true" class="js-update-url-with-hash btn-sm btn BtnGroup-item">    Normal view
</a>
      <a href="/IBM-EPBL/IBM-Project-50803-1660924691/commits/main/Dataset%20Collection/Data_Exploration.ipynb" rel="nofollow" data-view-component="true" class="btn-sm btn BtnGroup-item">    History
</a>
</div>      </div>


  

      <div class="file-info" style="line-height: 28px">
        <span style="margin-left: 2px">
          <svg aria-hidden="true" height="16" viewBox="0 0 16 16" version="1.1" width="16" data-view-component="true" class="octicon octicon-file">
    <path fill-rule="evenodd" d="M3.75 1.5a.25.25 0 00-.25.25v12.5c0 .138.112.25.25.25h9.5a.25.25 0 00.25-.25V6h-2.75A1.75 1.75 0 019 4.25V1.5H3.75zm6.75.062V4.25c0 .138.112.25.25.25h2.688a.252.252 0 00-.011-.013l-2.914-2.914a.272.272 0 00-.013-.011zM2 1.75C2 .784 2.784 0 3.75 0h6.586c.464 0 .909.184 1.237.513l2.914 2.914c.329.328.513.773.513 1.237v9.586A1.75 1.75 0 0113.25 16h-9.5A1.75 1.75 0 012 14.25V1.75z"></path>
</svg>
        </span>
        <span class="file-mode" title="File Mode">100644</span>
        <span class="file-info-divider"></span>
          1522 lines (1522 sloc)
          <span class="file-info-divider"></span>
        137 KB
      </div>
    </div>

    <div class="blob-wrapper">
      <div class="blame-container  highlight data js-file-line-container tab-size" data-tab-size="8" data-paste-markdown-skip>

          <div class="blame-hunk d-flex color-border-muted border-bottom">

            <div class="blame-commit flex-self-stretch mr-1" data-heat="3">
              <div class="blame-commit-info pl-3 pr-2">

                <div class="no-wrap d-flex flex-items-start">
                  
<div class="AvatarStack flex-self-start  " >
  <div class="AvatarStack-body" aria-label="Harini-12345" >
      <a class="avatar avatar-user" style="width:20px;height:20px;" data-test-selector="commits-avatar-stack-avatar-link" data-hovercard-type="user" data-hovercard-url="/users/Harini-12345/hovercard" data-octo-click="hovercard-link-click" data-octo-dimensions="link_type:self" href="/Harini-12345">
        <img data-test-selector="commits-avatar-stack-avatar-image" src="https://avatars.githubusercontent.com/u/54478881?s=40&amp;v=4" width="20" height="20" alt="@Harini-12345" class=" avatar-user" />
</a>  </div>
</div>

                  <div class="blame-commit-content d-flex no-wrap flex-items-center">
                    <div class="blame-commit-message overflow-hidden pt-1 f6">
                      <a class="message f6 color-fg-default markdown-title" data-hovercard-type="commit" data-hovercard-url="/IBM-EPBL/IBM-Project-50803-1660924691/commit/1248540085982534da82a9566b949c1c7b51e934/hovercard" data-pjax="true" href="/IBM-EPBL/IBM-Project-50803-1660924691/commit/1248540085982534da82a9566b949c1c7b51e934">Add files via upload</a>
                    </div>
                  </div>
                  <div class="blame-commit-date ml-3" data-heat="3"><time-ago datetime="2022-10-19T11:19:18Z" data-view-component="true" class="no-wrap">Oct 19, 2022</time-ago></div>
                </div>
              </div>
            </div>

            <div class="blob-reblame pl-1 pr-1">
              
            </div>

            <div class="width-full">
                <div class="d-flex flex-justify-start flex-items-start">
                  <div class="blob-num blame-blob-num color-bg-subtle js-line-number" id="L1">1</div>
                  <div class="blob-code blob-code-inner js-file-line" id="LC1">{</div>
                </div>
                <div class="d-flex flex-justify-start flex-items-start">
                  <div class="blob-num blame-blob-num color-bg-subtle js-line-number" id="L2">2</div>
                  <div class="blob-code blob-code-inner js-file-line" id="LC2">  <span class="pl-ent">&quot;nbformat&quot;</span>: <span class="pl-c1">4</span>,</div>
                </div>
                <div class="d-flex flex-justify-start flex-items-start">
                  <div class="blob-num blame-blob-num color-bg-subtle js-line-number" id="L3">3</div>
                  <div class="blob-code blob-code-inner js-file-line" id="LC3">  <span class="pl-ent">&quot;nbformat_minor&quot;</span>: <span class="pl-c1">0</span>,</div>
                </div>
                <div class="d-flex flex-justify-start flex-items-start">
                  <div class="blob-num blame-blob-num color-bg-subtle js-line-number" id="L4">4</div>
                  <div class="blob-code blob-code-inner js-file-line" id="LC4">  <span class="pl-ent">&quot;metadata&quot;</span>: {</div>
                </div>
                <div class="d-flex flex-justify-start flex-items-start">
                  <div class="blob-num blame-blob-num color-bg-subtle js-line-number" id="L5">5</div>
                  <div class="blob-code blob-code-inner js-file-line" id="LC5">    <span class="pl-ent">&quot;colab&quot;</span>: {</div>
                </div>
                <div class="d-flex flex-justify-start flex-items-start">
                  <div class="blob-num blame-blob-num color-bg-subtle js-line-number" id="L6">6</div>
                  <div class="blob-code blob-code-inner js-file-line" id="LC6">      <span class="pl-ent">&quot;provenance&quot;</span>: []</div>
                </div>
                <div class="d-flex flex-justify-start flex-items-start">
                  <div class="blob-num blame-blob-num color-bg-subtle js-line-number" id="L7">7</div>
                  <div class="blob-code blob-code-inner js-file-line" id="LC7">    },</div>
                </div>
                <div class="d-flex flex-justify-start flex-items-start">
                  <div class="blob-num blame-blob-num color-bg-subtle js-line-number" id="L8">8</div>
                  <div class="blob-code blob-code-inner js-file-line" id="LC8">    <span class="pl-ent">&quot;kernelspec&quot;</span>: {</div>
                </div>
                <div class="d-flex flex-justify-start flex-items-start">
                  <div class="blob-num blame-blob-num color-bg-subtle js-line-number" id="L9">9</div>
                  <div class="blob-code blob-code-inner js-file-line" id="LC9">      <span class="pl-ent">&quot;name&quot;</span>: <span class="pl-s"><span class="pl-pds">&quot;</span>python3<span class="pl-pds">&quot;</span></span>,</div>
                </div>
                <div class="d-flex flex-justify-start flex-items-start">
                  <div class="blob-num blame-blob-num color-bg-subtle js-line-number" id="L10">10</div>
                  <div class="blob-code blob-code-inner js-file-line" id="LC10">      <span class="pl-ent">&quot;display_name&quot;</span>: <span class="pl-s"><span class="pl-pds">&quot;</span>Python 3<span class="pl-pds">&quot;</span></span></div>
                </div>
                <div class="d-flex flex-justify-start flex-items-start">
                  <div class="blob-num blame-blob-num color-bg-subtle js-line-number" id="L11">11</div>
                  <div class="blob-code blob-code-inner js-file-line" id="LC11">    },</div>
                </div>
                <div class="d-flex flex-justify-start flex-items-start">
                  <div class="blob-num blame-blob-num color-bg-subtle js-line-number" id="L12">12</div>
                  <div class="blob-code blob-code-inner js-file-line" id="LC12">    <span class="pl-ent">&quot;language_info&quot;</span>: {</div>
                </div>
                <div class="d-flex flex-justify-start flex-items-start">
                  <div class="blob-num blame-blob-num color-bg-subtle js-line-number" id="L13">13</div>
                  <div class="blob-code blob-code-inner js-file-line" id="LC13">      <span class="pl-ent">&quot;name&quot;</span>: <span class="pl-s"><span class="pl-pds">&quot;</span>python<span class="pl-pds">&quot;</span></span></div>
                </div>
                <div class="d-flex flex-justify-start flex-items-start">
                  <div class="blob-num blame-blob-num color-bg-subtle js-line-number" id="L14">14</div>
                  <div class="blob-code blob-code-inner js-file-line" id="LC14">    }</div>
                </div>
                <div class="d-flex flex-justify-start flex-items-start">
                  <div class="blob-num blame-blob-num color-bg-subtle js-line-number" id="L15">15</div>
                  <div class="blob-code blob-code-inner js-file-line" id="LC15">  },</div>
                </div>
                <div class="d-flex flex-justify-start flex-items-start">
                  <div class="blob-num blame-blob-num color-bg-subtle js-line-number" id="L16">16</div>
                  <div class="blob-code blob-code-inner js-file-line" id="LC16">  <span class="pl-ent">&quot;cells&quot;</span>: [</div>
                </div>
                <div class="d-flex flex-justify-start flex-items-start">
                  <div class="blob-num blame-blob-num color-bg-subtle js-line-number" id="L17">17</div>
                  <div class="blob-code blob-code-inner js-file-line" id="LC17">    {</div>
                </div>
                <div class="d-flex flex-justify-start flex-items-start">
                  <div class="blob-num blame-blob-num color-bg-subtle js-line-number" id="L18">18</div>
                  <div class="blob-code blob-code-inner js-file-line" id="LC18">      <span class="pl-ent">&quot;cell_type&quot;</span>: <span class="pl-s"><span class="pl-pds">&quot;</span>code<span class="pl-pds">&quot;</span></span>,</div>
                </div>
                <div class="d-flex flex-justify-start flex-items-start">
                  <div class="blob-num blame-blob-num color-bg-subtle js-line-number" id="L19">19</div>
                  <div class="blob-code blob-code-inner js-file-line" id="LC19">      <span class="pl-ent">&quot;source&quot;</span>: [</div>
                </div>
                <div class="d-flex flex-justify-start flex-items-start">
                  <div class="blob-num blame-blob-num color-bg-subtle js-line-number" id="L20">20</div>
                  <div class="blob-code blob-code-inner js-file-line" id="LC20">        <span class="pl-s"><span class="pl-pds">&quot;</span>!pip install flaml<span class="pl-pds">&quot;</span></span></div>
                </div>
                <div class="d-flex flex-justify-start flex-items-start">
                  <div class="blob-num blame-blob-num color-bg-subtle js-line-number" id="L21">21</div>
                  <div class="blob-code blob-code-inner js-file-line" id="LC21">      ],</div>
                </div>
                <div class="d-flex flex-justify-start flex-items-start">
                  <div class="blob-num blame-blob-num color-bg-subtle js-line-number" id="L22">22</div>
                  <div class="blob-code blob-code-inner js-file-line" id="LC22">      <span class="pl-ent">&quot;metadata&quot;</span>: {</div>
                </div>
                <div class="d-flex flex-justify-start flex-items-start">
                  <div class="blob-num blame-blob-num color-bg-subtle js-line-number" id="L23">23</div>
                  <div class="blob-code blob-code-inner js-file-line" id="LC23">        <span class="pl-ent">&quot;colab&quot;</span>: {</div>
                </div>
                <div class="d-flex flex-justify-start flex-items-start">
                  <div class="blob-num blame-blob-num color-bg-subtle js-line-number" id="L24">24</div>
                  <div class="blob-code blob-code-inner js-file-line" id="LC24">          <span class="pl-ent">&quot;base_uri&quot;</span>: <span class="pl-s"><span class="pl-pds">&quot;</span>https://localhost:8080/<span class="pl-pds">&quot;</span></span></div>
                </div>
                <div class="d-flex flex-justify-start flex-items-start">
                  <div class="blob-num blame-blob-num color-bg-subtle js-line-number" id="L25">25</div>
                  <div class="blob-code blob-code-inner js-file-line" id="LC25">        },</div>
                </div>
                <div class="d-flex flex-justify-start flex-items-start">
                  <div class="blob-num blame-blob-num color-bg-subtle js-line-number" id="L26">26</div>
                  <div class="blob-code blob-code-inner js-file-line" id="LC26">        <span class="pl-ent">&quot;id&quot;</span>: <span class="pl-s"><span class="pl-pds">&quot;</span>Yk8jM7eW-Kz6<span class="pl-pds">&quot;</span></span>,</div>
                </div>
                <div class="d-flex flex-justify-start flex-items-start">
                  <div class="blob-num blame-blob-num color-bg-subtle js-line-number" id="L27">27</div>
                  <div class="blob-code blob-code-inner js-file-line" id="LC27">        <span class="pl-ent">&quot;outputId&quot;</span>: <span class="pl-s"><span class="pl-pds">&quot;</span>24254f69-e47a-455b-bece-20861c462e93<span class="pl-pds">&quot;</span></span></div>
                </div>
                <div class="d-flex flex-justify-start flex-items-start">
                  <div class="blob-num blame-blob-num color-bg-subtle js-line-number" id="L28">28</div>
                  <div class="blob-code blob-code-inner js-file-line" id="LC28">      },</div>
                </div>
                <div class="d-flex flex-justify-start flex-items-start">
                  <div class="blob-num blame-blob-num color-bg-subtle js-line-number" id="L29">29</div>
                  <div class="blob-code blob-code-inner js-file-line" id="LC29">      <span class="pl-ent">&quot;execution_count&quot;</span>: <span class="pl-c1">2</span>,</div>
                </div>
                <div class="d-flex flex-justify-start flex-items-start">
                  <div class="blob-num blame-blob-num color-bg-subtle js-line-number" id="L30">30</div>
                  <div class="blob-code blob-code-inner js-file-line" id="LC30">      <span class="pl-ent">&quot;outputs&quot;</span>: [</div>
                </div>
                <div class="d-flex flex-justify-start flex-items-start">
                  <div class="blob-num blame-blob-num color-bg-subtle js-line-number" id="L31">31</div>
                  <div class="blob-code blob-code-inner js-file-line" id="LC31">        {</div>
                </div>
                <div class="d-flex flex-justify-start flex-items-start">
                  <div class="blob-num blame-blob-num color-bg-subtle js-line-number" id="L32">32</div>
                  <div class="blob-code blob-code-inner js-file-line" id="LC32">          <span class="pl-ent">&quot;output_type&quot;</span>: <span class="pl-s"><span class="pl-pds">&quot;</span>stream<span class="pl-pds">&quot;</span></span>,</div>
                </div>
                <div class="d-flex flex-justify-start flex-items-start">
                  <div class="blob-num blame-blob-num color-bg-subtle js-line-number" id="L33">33</div>
                  <div class="blob-code blob-code-inner js-file-line" id="LC33">          <span class="pl-ent">&quot;name&quot;</span>: <span class="pl-s"><span class="pl-pds">&quot;</span>stdout<span class="pl-pds">&quot;</span></span>,</div>
                </div>
                <div class="d-flex flex-justify-start flex-items-start">
                  <div class="blob-num blame-blob-num color-bg-subtle js-line-number" id="L34">34</div>
                  <div class="blob-code blob-code-inner js-file-line" id="LC34">          <span class="pl-ent">&quot;text&quot;</span>: [</div>
                </div>
                <div class="d-flex flex-justify-start flex-items-start">
                  <div class="blob-num blame-blob-num color-bg-subtle js-line-number" id="L35">35</div>
                  <div class="blob-code blob-code-inner js-file-line" id="LC35">            <span class="pl-s"><span class="pl-pds">&quot;</span>Looking in indexes: https://pypi.org/simple, https://us-python.pkg.dev/colab-wheels/public/simple/<span class="pl-cce">\n</span><span class="pl-pds">&quot;</span></span>,</div>
                </div>
                <div class="d-flex flex-justify-start flex-items-start">
                  <div class="blob-num blame-blob-num color-bg-subtle js-line-number" id="L36">36</div>
                  <div class="blob-code blob-code-inner js-file-line" id="LC36">            <span class="pl-s"><span class="pl-pds">&quot;</span>Collecting flaml<span class="pl-cce">\n</span><span class="pl-pds">&quot;</span></span>,</div>
                </div>
                <div class="d-flex flex-justify-start flex-items-start">
                  <div class="blob-num blame-blob-num color-bg-subtle js-line-number" id="L37">37</div>
                  <div class="blob-code blob-code-inner js-file-line" id="LC37">            <span class="pl-s"><span class="pl-pds">&quot;</span>  Downloading FLAML-1.0.13-py3-none-any.whl (205 kB)<span class="pl-cce">\n</span><span class="pl-pds">&quot;</span></span>,</div>
                </div>
                <div class="d-flex flex-justify-start flex-items-start">
                  <div class="blob-num blame-blob-num color-bg-subtle js-line-number" id="L38">38</div>
                  <div class="blob-code blob-code-inner js-file-line" id="LC38">            <span class="pl-s"><span class="pl-pds">&quot;</span><span class="pl-cce">\u001b</span>[K     |████████████████████████████████| 205 kB 5.5 MB/s <span class="pl-cce">\n</span><span class="pl-pds">&quot;</span></span>,</div>
                </div>
                <div class="d-flex flex-justify-start flex-items-start">
                  <div class="blob-num blame-blob-num color-bg-subtle js-line-number" id="L39">39</div>
                  <div class="blob-code blob-code-inner js-file-line" id="LC39">            <span class="pl-s"><span class="pl-pds">&quot;</span><span class="pl-cce">\u001b</span>[?25hRequirement already satisfied: xgboost&gt;=0.90 in /usr/local/lib/python3.7/dist-packages (from flaml) (0.90)<span class="pl-cce">\n</span><span class="pl-pds">&quot;</span></span>,</div>
                </div>
                <div class="d-flex flex-justify-start flex-items-start">
                  <div class="blob-num blame-blob-num color-bg-subtle js-line-number" id="L40">40</div>
                  <div class="blob-code blob-code-inner js-file-line" id="LC40">            <span class="pl-s"><span class="pl-pds">&quot;</span>Requirement already satisfied: pandas&gt;=1.1.4 in /usr/local/lib/python3.7/dist-packages (from flaml) (1.3.5)<span class="pl-cce">\n</span><span class="pl-pds">&quot;</span></span>,</div>
                </div>
                <div class="d-flex flex-justify-start flex-items-start">
                  <div class="blob-num blame-blob-num color-bg-subtle js-line-number" id="L41">41</div>
                  <div class="blob-code blob-code-inner js-file-line" id="LC41">            <span class="pl-s"><span class="pl-pds">&quot;</span>Requirement already satisfied: NumPy&gt;=1.17.0rc1 in /usr/local/lib/python3.7/dist-packages (from flaml) (1.21.6)<span class="pl-cce">\n</span><span class="pl-pds">&quot;</span></span>,</div>
                </div>
                <div class="d-flex flex-justify-start flex-items-start">
                  <div class="blob-num blame-blob-num color-bg-subtle js-line-number" id="L42">42</div>
                  <div class="blob-code blob-code-inner js-file-line" id="LC42">            <span class="pl-s"><span class="pl-pds">&quot;</span>Collecting lightgbm&gt;=2.3.1<span class="pl-cce">\n</span><span class="pl-pds">&quot;</span></span>,</div>
                </div>
                <div class="d-flex flex-justify-start flex-items-start">
                  <div class="blob-num blame-blob-num color-bg-subtle js-line-number" id="L43">43</div>
                  <div class="blob-code blob-code-inner js-file-line" id="LC43">            <span class="pl-s"><span class="pl-pds">&quot;</span>  Downloading lightgbm-3.3.3-py3-none-manylinux1_x86_64.whl (2.0 MB)<span class="pl-cce">\n</span><span class="pl-pds">&quot;</span></span>,</div>
                </div>
                <div class="d-flex flex-justify-start flex-items-start">
                  <div class="blob-num blame-blob-num color-bg-subtle js-line-number" id="L44">44</div>
                  <div class="blob-code blob-code-inner js-file-line" id="LC44">            <span class="pl-s"><span class="pl-pds">&quot;</span><span class="pl-cce">\u001b</span>[K     |████████████████████████████████| 2.0 MB 37.8 MB/s <span class="pl-cce">\n</span><span class="pl-pds">&quot;</span></span>,</div>
                </div>
                <div class="d-flex flex-justify-start flex-items-start">
                  <div class="blob-num blame-blob-num color-bg-subtle js-line-number" id="L45">45</div>
                  <div class="blob-code blob-code-inner js-file-line" id="LC45">            <span class="pl-s"><span class="pl-pds">&quot;</span><span class="pl-cce">\u001b</span>[?25hRequirement already satisfied: scipy&gt;=1.4.1 in /usr/local/lib/python3.7/dist-packages (from flaml) (1.7.3)<span class="pl-cce">\n</span><span class="pl-pds">&quot;</span></span>,</div>
                </div>
                <div class="d-flex flex-justify-start flex-items-start">
                  <div class="blob-num blame-blob-num color-bg-subtle js-line-number" id="L46">46</div>
                  <div class="blob-code blob-code-inner js-file-line" id="LC46">            <span class="pl-s"><span class="pl-pds">&quot;</span>Requirement already satisfied: scikit-learn&gt;=0.24 in /usr/local/lib/python3.7/dist-packages (from flaml) (1.0.2)<span class="pl-cce">\n</span><span class="pl-pds">&quot;</span></span>,</div>
                </div>
                <div class="d-flex flex-justify-start flex-items-start">
                  <div class="blob-num blame-blob-num color-bg-subtle js-line-number" id="L47">47</div>
                  <div class="blob-code blob-code-inner js-file-line" id="LC47">            <span class="pl-s"><span class="pl-pds">&quot;</span>Requirement already satisfied: wheel in /usr/local/lib/python3.7/dist-packages (from lightgbm&gt;=2.3.1-&gt;flaml) (0.37.1)<span class="pl-cce">\n</span><span class="pl-pds">&quot;</span></span>,</div>
                </div>
                <div class="d-flex flex-justify-start flex-items-start">
                  <div class="blob-num blame-blob-num color-bg-subtle js-line-number" id="L48">48</div>
                  <div class="blob-code blob-code-inner js-file-line" id="LC48">            <span class="pl-s"><span class="pl-pds">&quot;</span>Requirement already satisfied: python-dateutil&gt;=2.7.3 in /usr/local/lib/python3.7/dist-packages (from pandas&gt;=1.1.4-&gt;flaml) (2.8.2)<span class="pl-cce">\n</span><span class="pl-pds">&quot;</span></span>,</div>
                </div>
                <div class="d-flex flex-justify-start flex-items-start">
                  <div class="blob-num blame-blob-num color-bg-subtle js-line-number" id="L49">49</div>
                  <div class="blob-code blob-code-inner js-file-line" id="LC49">            <span class="pl-s"><span class="pl-pds">&quot;</span>Requirement already satisfied: pytz&gt;=2017.3 in /usr/local/lib/python3.7/dist-packages (from pandas&gt;=1.1.4-&gt;flaml) (2022.4)<span class="pl-cce">\n</span><span class="pl-pds">&quot;</span></span>,</div>
                </div>
                <div class="d-flex flex-justify-start flex-items-start">
                  <div class="blob-num blame-blob-num color-bg-subtle js-line-number" id="L50">50</div>
                  <div class="blob-code blob-code-inner js-file-line" id="LC50">            <span class="pl-s"><span class="pl-pds">&quot;</span>Requirement already satisfied: six&gt;=1.5 in /usr/local/lib/python3.7/dist-packages (from python-dateutil&gt;=2.7.3-&gt;pandas&gt;=1.1.4-&gt;flaml) (1.15.0)<span class="pl-cce">\n</span><span class="pl-pds">&quot;</span></span>,</div>
                </div>
                <div class="d-flex flex-justify-start flex-items-start">
                  <div class="blob-num blame-blob-num color-bg-subtle js-line-number" id="L51">51</div>
                  <div class="blob-code blob-code-inner js-file-line" id="LC51">            <span class="pl-s"><span class="pl-pds">&quot;</span>Requirement already satisfied: joblib&gt;=0.11 in /usr/local/lib/python3.7/dist-packages (from scikit-learn&gt;=0.24-&gt;flaml) (1.2.0)<span class="pl-cce">\n</span><span class="pl-pds">&quot;</span></span>,</div>
                </div>
                <div class="d-flex flex-justify-start flex-items-start">
                  <div class="blob-num blame-blob-num color-bg-subtle js-line-number" id="L52">52</div>
                  <div class="blob-code blob-code-inner js-file-line" id="LC52">            <span class="pl-s"><span class="pl-pds">&quot;</span>Requirement already satisfied: threadpoolctl&gt;=2.0.0 in /usr/local/lib/python3.7/dist-packages (from scikit-learn&gt;=0.24-&gt;flaml) (3.1.0)<span class="pl-cce">\n</span><span class="pl-pds">&quot;</span></span>,</div>
                </div>
                <div class="d-flex flex-justify-start flex-items-start">
                  <div class="blob-num blame-blob-num color-bg-subtle js-line-number" id="L53">53</div>
                  <div class="blob-code blob-code-inner js-file-line" id="LC53">            <span class="pl-s"><span class="pl-pds">&quot;</span>Installing collected packages: lightgbm, flaml<span class="pl-cce">\n</span><span class="pl-pds">&quot;</span></span>,</div>
                </div>
                <div class="d-flex flex-justify-start flex-items-start">
                  <div class="blob-num blame-blob-num color-bg-subtle js-line-number" id="L54">54</div>
                  <div class="blob-code blob-code-inner js-file-line" id="LC54">            <span class="pl-s"><span class="pl-pds">&quot;</span>  Attempting uninstall: lightgbm<span class="pl-cce">\n</span><span class="pl-pds">&quot;</span></span>,</div>
                </div>
                <div class="d-flex flex-justify-start flex-items-start">
                  <div class="blob-num blame-blob-num color-bg-subtle js-line-number" id="L55">55</div>
                  <div class="blob-code blob-code-inner js-file-line" id="LC55">            <span class="pl-s"><span class="pl-pds">&quot;</span>    Found existing installation: lightgbm 2.2.3<span class="pl-cce">\n</span><span class="pl-pds">&quot;</span></span>,</div>
                </div>
                <div class="d-flex flex-justify-start flex-items-start">
                  <div class="blob-num blame-blob-num color-bg-subtle js-line-number" id="L56">56</div>
                  <div class="blob-code blob-code-inner js-file-line" id="LC56">            <span class="pl-s"><span class="pl-pds">&quot;</span>    Uninstalling lightgbm-2.2.3:<span class="pl-cce">\n</span><span class="pl-pds">&quot;</span></span>,</div>
                </div>
                <div class="d-flex flex-justify-start flex-items-start">
                  <div class="blob-num blame-blob-num color-bg-subtle js-line-number" id="L57">57</div>
                  <div class="blob-code blob-code-inner js-file-line" id="LC57">            <span class="pl-s"><span class="pl-pds">&quot;</span>      Successfully uninstalled lightgbm-2.2.3<span class="pl-cce">\n</span><span class="pl-pds">&quot;</span></span>,</div>
                </div>
                <div class="d-flex flex-justify-start flex-items-start">
                  <div class="blob-num blame-blob-num color-bg-subtle js-line-number" id="L58">58</div>
                  <div class="blob-code blob-code-inner js-file-line" id="LC58">            <span class="pl-s"><span class="pl-pds">&quot;</span>Successfully installed flaml-1.0.13 lightgbm-3.3.3<span class="pl-cce">\n</span><span class="pl-pds">&quot;</span></span></div>
                </div>
                <div class="d-flex flex-justify-start flex-items-start">
                  <div class="blob-num blame-blob-num color-bg-subtle js-line-number" id="L59">59</div>
                  <div class="blob-code blob-code-inner js-file-line" id="LC59">          ]</div>
                </div>
                <div class="d-flex flex-justify-start flex-items-start">
                  <div class="blob-num blame-blob-num color-bg-subtle js-line-number" id="L60">60</div>
                  <div class="blob-code blob-code-inner js-file-line" id="LC60">        }</div>
                </div>
                <div class="d-flex flex-justify-start flex-items-start">
                  <div class="blob-num blame-blob-num color-bg-subtle js-line-number" id="L61">61</div>
                  <div class="blob-code blob-code-inner js-file-line" id="LC61">      ]</div>
                </div>
                <div class="d-flex flex-justify-start flex-items-start">
                  <div class="blob-num blame-blob-num color-bg-subtle js-line-number" id="L62">62</div>
                  <div class="blob-code blob-code-inner js-file-line" id="LC62">    },</div>
                </div>
                <div class="d-flex flex-justify-start flex-items-start">
                  <div class="blob-num blame-blob-num color-bg-subtle js-line-number" id="L63">63</div>
                  <div class="blob-code blob-code-inner js-file-line" id="LC63">    {</div>
                </div>
                <div class="d-flex flex-justify-start flex-items-start">
                  <div class="blob-num blame-blob-num color-bg-subtle js-line-number" id="L64">64</div>
                  <div class="blob-code blob-code-inner js-file-line" id="LC64">      <span class="pl-ent">&quot;cell_type&quot;</span>: <span class="pl-s"><span class="pl-pds">&quot;</span>code<span class="pl-pds">&quot;</span></span>,</div>
                </div>
                <div class="d-flex flex-justify-start flex-items-start">
                  <div class="blob-num blame-blob-num color-bg-subtle js-line-number" id="L65">65</div>
                  <div class="blob-code blob-code-inner js-file-line" id="LC65">      <span class="pl-ent">&quot;source&quot;</span>: [</div>
                </div>
                <div class="d-flex flex-justify-start flex-items-start">
                  <div class="blob-num blame-blob-num color-bg-subtle js-line-number" id="L66">66</div>
                  <div class="blob-code blob-code-inner js-file-line" id="LC66">        <span class="pl-s"><span class="pl-pds">&quot;</span>from sklearn.metrics import r2_score,mean_squared_error<span class="pl-cce">\n</span><span class="pl-pds">&quot;</span></span>,</div>
                </div>
                <div class="d-flex flex-justify-start flex-items-start">
                  <div class="blob-num blame-blob-num color-bg-subtle js-line-number" id="L67">67</div>
                  <div class="blob-code blob-code-inner js-file-line" id="LC67">        <span class="pl-s"><span class="pl-pds">&quot;</span>from sklearn.ensemble import RandomForestRegressor<span class="pl-cce">\n</span><span class="pl-pds">&quot;</span></span>,</div>
                </div>
                <div class="d-flex flex-justify-start flex-items-start">
                  <div class="blob-num blame-blob-num color-bg-subtle js-line-number" id="L68">68</div>
                  <div class="blob-code blob-code-inner js-file-line" id="LC68">        <span class="pl-s"><span class="pl-pds">&quot;</span>from sklearn.tree import DecisionTreeRegressor<span class="pl-cce">\n</span><span class="pl-pds">&quot;</span></span>,</div>
                </div>
                <div class="d-flex flex-justify-start flex-items-start">
                  <div class="blob-num blame-blob-num color-bg-subtle js-line-number" id="L69">69</div>
                  <div class="blob-code blob-code-inner js-file-line" id="LC69">        <span class="pl-s"><span class="pl-pds">&quot;</span>from sklearn.linear_model import LinearRegression<span class="pl-cce">\n</span><span class="pl-pds">&quot;</span></span>,</div>
                </div>
                <div class="d-flex flex-justify-start flex-items-start">
                  <div class="blob-num blame-blob-num color-bg-subtle js-line-number" id="L70">70</div>
                  <div class="blob-code blob-code-inner js-file-line" id="LC70">        <span class="pl-s"><span class="pl-pds">&quot;</span>from sklearn.model_selection import train_test_split<span class="pl-cce">\n</span><span class="pl-pds">&quot;</span></span>,</div>
                </div>
                <div class="d-flex flex-justify-start flex-items-start">
                  <div class="blob-num blame-blob-num color-bg-subtle js-line-number" id="L71">71</div>
                  <div class="blob-code blob-code-inner js-file-line" id="LC71">        <span class="pl-s"><span class="pl-pds">&quot;</span>import matplotlib.pyplot as plt<span class="pl-cce">\n</span><span class="pl-pds">&quot;</span></span>,</div>
                </div>
                <div class="d-flex flex-justify-start flex-items-start">
                  <div class="blob-num blame-blob-num color-bg-subtle js-line-number" id="L72">72</div>
                  <div class="blob-code blob-code-inner js-file-line" id="LC72">        <span class="pl-s"><span class="pl-pds">&quot;</span>import seaborn as sns<span class="pl-cce">\n</span><span class="pl-pds">&quot;</span></span>,</div>
                </div>
                <div class="d-flex flex-justify-start flex-items-start">
                  <div class="blob-num blame-blob-num color-bg-subtle js-line-number" id="L73">73</div>
                  <div class="blob-code blob-code-inner js-file-line" id="LC73">        <span class="pl-s"><span class="pl-pds">&quot;</span>from math import sqrt<span class="pl-cce">\n</span><span class="pl-pds">&quot;</span></span>,</div>
                </div>
                <div class="d-flex flex-justify-start flex-items-start">
                  <div class="blob-num blame-blob-num color-bg-subtle js-line-number" id="L74">74</div>
                  <div class="blob-code blob-code-inner js-file-line" id="LC74">        <span class="pl-s"><span class="pl-pds">&quot;</span>import numpy as np<span class="pl-cce">\n</span><span class="pl-pds">&quot;</span></span>,</div>
                </div>
                <div class="d-flex flex-justify-start flex-items-start">
                  <div class="blob-num blame-blob-num color-bg-subtle js-line-number" id="L75">75</div>
                  <div class="blob-code blob-code-inner js-file-line" id="LC75">        <span class="pl-s"><span class="pl-pds">&quot;</span>import pandas as pd<span class="pl-cce">\n</span><span class="pl-pds">&quot;</span></span>,</div>
                </div>
                <div class="d-flex flex-justify-start flex-items-start">
                  <div class="blob-num blame-blob-num color-bg-subtle js-line-number" id="L76">76</div>
                  <div class="blob-code blob-code-inner js-file-line" id="LC76">        <span class="pl-s"><span class="pl-pds">&quot;</span>import warnings<span class="pl-cce">\n</span><span class="pl-pds">&quot;</span></span>,</div>
                </div>
                <div class="d-flex flex-justify-start flex-items-start">
                  <div class="blob-num blame-blob-num color-bg-subtle js-line-number" id="L77">77</div>
                  <div class="blob-code blob-code-inner js-file-line" id="LC77">        <span class="pl-s"><span class="pl-pds">&quot;</span>warnings.filterwarnings(&#39;ignore&#39;)<span class="pl-cce">\n</span><span class="pl-pds">&quot;</span></span>,</div>
                </div>
                <div class="d-flex flex-justify-start flex-items-start">
                  <div class="blob-num blame-blob-num color-bg-subtle js-line-number" id="L78">78</div>
                  <div class="blob-code blob-code-inner js-file-line" id="LC78">        <span class="pl-s"><span class="pl-pds">&quot;</span>from flaml import AutoML<span class="pl-cce">\n</span><span class="pl-pds">&quot;</span></span>,</div>
                </div>
                <div class="d-flex flex-justify-start flex-items-start">
                  <div class="blob-num blame-blob-num color-bg-subtle js-line-number" id="L79">79</div>
                  <div class="blob-code blob-code-inner js-file-line" id="LC79">        <span class="pl-s"><span class="pl-pds">&quot;</span>automl=AutoML()<span class="pl-pds">&quot;</span></span></div>
                </div>
                <div class="d-flex flex-justify-start flex-items-start">
                  <div class="blob-num blame-blob-num color-bg-subtle js-line-number" id="L80">80</div>
                  <div class="blob-code blob-code-inner js-file-line" id="LC80">      ],</div>
                </div>
                <div class="d-flex flex-justify-start flex-items-start">
                  <div class="blob-num blame-blob-num color-bg-subtle js-line-number" id="L81">81</div>
                  <div class="blob-code blob-code-inner js-file-line" id="LC81">      <span class="pl-ent">&quot;metadata&quot;</span>: {</div>
                </div>
                <div class="d-flex flex-justify-start flex-items-start">
                  <div class="blob-num blame-blob-num color-bg-subtle js-line-number" id="L82">82</div>
                  <div class="blob-code blob-code-inner js-file-line" id="LC82">        <span class="pl-ent">&quot;id&quot;</span>: <span class="pl-s"><span class="pl-pds">&quot;</span>CXOjArFu-VTZ<span class="pl-pds">&quot;</span></span></div>
                </div>
                <div class="d-flex flex-justify-start flex-items-start">
                  <div class="blob-num blame-blob-num color-bg-subtle js-line-number" id="L83">83</div>
                  <div class="blob-code blob-code-inner js-file-line" id="LC83">      },</div>
                </div>
                <div class="d-flex flex-justify-start flex-items-start">
                  <div class="blob-num blame-blob-num color-bg-subtle js-line-number" id="L84">84</div>
                  <div class="blob-code blob-code-inner js-file-line" id="LC84">      <span class="pl-ent">&quot;execution_count&quot;</span>: <span class="pl-c1">3</span>,</div>
                </div>
                <div class="d-flex flex-justify-start flex-items-start">
                  <div class="blob-num blame-blob-num color-bg-subtle js-line-number" id="L85">85</div>
                  <div class="blob-code blob-code-inner js-file-line" id="LC85">      <span class="pl-ent">&quot;outputs&quot;</span>: []</div>
                </div>
                <div class="d-flex flex-justify-start flex-items-start">
                  <div class="blob-num blame-blob-num color-bg-subtle js-line-number" id="L86">86</div>
                  <div class="blob-code blob-code-inner js-file-line" id="LC86">    },</div>
                </div>
                <div class="d-flex flex-justify-start flex-items-start">
                  <div class="blob-num blame-blob-num color-bg-subtle js-line-number" id="L87">87</div>
                  <div class="blob-code blob-code-inner js-file-line" id="LC87">    {</div>
                </div>
                <div class="d-flex flex-justify-start flex-items-start">
                  <div class="blob-num blame-blob-num color-bg-subtle js-line-number" id="L88">88</div>
                  <div class="blob-code blob-code-inner js-file-line" id="LC88">      <span class="pl-ent">&quot;cell_type&quot;</span>: <span class="pl-s"><span class="pl-pds">&quot;</span>code<span class="pl-pds">&quot;</span></span>,</div>
                </div>
                <div class="d-flex flex-justify-start flex-items-start">
                  <div class="blob-num blame-blob-num color-bg-subtle js-line-number" id="L89">89</div>
                  <div class="blob-code blob-code-inner js-file-line" id="LC89">      <span class="pl-ent">&quot;source&quot;</span>: [</div>
                </div>
                <div class="d-flex flex-justify-start flex-items-start">
                  <div class="blob-num blame-blob-num color-bg-subtle js-line-number" id="L90">90</div>
                  <div class="blob-code blob-code-inner js-file-line" id="LC90">        <span class="pl-s"><span class="pl-pds">&quot;</span>train = pd.read_csv(&#39;/Training.csv&#39;)<span class="pl-cce">\n</span><span class="pl-pds">&quot;</span></span>,</div>
                </div>
                <div class="d-flex flex-justify-start flex-items-start">
                  <div class="blob-num blame-blob-num color-bg-subtle js-line-number" id="L91">91</div>
                  <div class="blob-code blob-code-inner js-file-line" id="LC91">        <span class="pl-s"><span class="pl-pds">&quot;</span>test = pd.read_csv(&#39;/Testing.csv&#39;)<span class="pl-cce">\n</span><span class="pl-pds">&quot;</span></span>,</div>
                </div>
                <div class="d-flex flex-justify-start flex-items-start">
                  <div class="blob-num blame-blob-num color-bg-subtle js-line-number" id="L92">92</div>
                  <div class="blob-code blob-code-inner js-file-line" id="LC92">        <span class="pl-s"><span class="pl-pds">&quot;</span>meal = pd.read_csv(&#39;/meal_info.csv&#39;)<span class="pl-cce">\n</span><span class="pl-pds">&quot;</span></span>,</div>
                </div>
                <div class="d-flex flex-justify-start flex-items-start">
                  <div class="blob-num blame-blob-num color-bg-subtle js-line-number" id="L93">93</div>
                  <div class="blob-code blob-code-inner js-file-line" id="LC93">        <span class="pl-s"><span class="pl-pds">&quot;</span>centerinfo = pd.read_csv(&#39;/fulfilment_center_info.csv&#39;)<span class="pl-pds">&quot;</span></span></div>
                </div>
                <div class="d-flex flex-justify-start flex-items-start">
                  <div class="blob-num blame-blob-num color-bg-subtle js-line-number" id="L94">94</div>
                  <div class="blob-code blob-code-inner js-file-line" id="LC94">      ],</div>
                </div>
                <div class="d-flex flex-justify-start flex-items-start">
                  <div class="blob-num blame-blob-num color-bg-subtle js-line-number" id="L95">95</div>
                  <div class="blob-code blob-code-inner js-file-line" id="LC95">      <span class="pl-ent">&quot;metadata&quot;</span>: {</div>
                </div>
                <div class="d-flex flex-justify-start flex-items-start">
                  <div class="blob-num blame-blob-num color-bg-subtle js-line-number" id="L96">96</div>
                  <div class="blob-code blob-code-inner js-file-line" id="LC96">        <span class="pl-ent">&quot;id&quot;</span>: <span class="pl-s"><span class="pl-pds">&quot;</span>2onQJWTd-Z1M<span class="pl-pds">&quot;</span></span></div>
                </div>
                <div class="d-flex flex-justify-start flex-items-start">
                  <div class="blob-num blame-blob-num color-bg-subtle js-line-number" id="L97">97</div>
                  <div class="blob-code blob-code-inner js-file-line" id="LC97">      },</div>
                </div>
                <div class="d-flex flex-justify-start flex-items-start">
                  <div class="blob-num blame-blob-num color-bg-subtle js-line-number" id="L98">98</div>
                  <div class="blob-code blob-code-inner js-file-line" id="LC98">      <span class="pl-ent">&quot;execution_count&quot;</span>: <span class="pl-c1">8</span>,</div>
                </div>
                <div class="d-flex flex-justify-start flex-items-start">
                  <div class="blob-num blame-blob-num color-bg-subtle js-line-number" id="L99">99</div>
                  <div class="blob-code blob-code-inner js-file-line" id="LC99">      <span class="pl-ent">&quot;outputs&quot;</span>: []</div>
                </div>
                <div class="d-flex flex-justify-start flex-items-start">
                  <div class="blob-num blame-blob-num color-bg-subtle js-line-number" id="L100">100</div>
                  <div class="blob-code blob-code-inner js-file-line" id="LC100">    },</div>
                </div>
                <div class="d-flex flex-justify-start flex-items-start">
                  <div class="blob-num blame-blob-num color-bg-subtle js-line-number" id="L101">101</div>
                  <div class="blob-code blob-code-inner js-file-line" id="LC101">    {</div>
                </div>
                <div class="d-flex flex-justify-start flex-items-start">
                  <div class="blob-num blame-blob-num color-bg-subtle js-line-number" id="L102">102</div>
                  <div class="blob-code blob-code-inner js-file-line" id="LC102">      <span class="pl-ent">&quot;cell_type&quot;</span>: <span class="pl-s"><span class="pl-pds">&quot;</span>code<span class="pl-pds">&quot;</span></span>,</div>
                </div>
                <div class="d-flex flex-justify-start flex-items-start">
                  <div class="blob-num blame-blob-num color-bg-subtle js-line-number" id="L103">103</div>
                  <div class="blob-code blob-code-inner js-file-line" id="LC103">      <span class="pl-ent">&quot;source&quot;</span>: [</div>
                </div>
                <div class="d-flex flex-justify-start flex-items-start">
                  <div class="blob-num blame-blob-num color-bg-subtle js-line-number" id="L104">104</div>
                  <div class="blob-code blob-code-inner js-file-line" id="LC104">        <span class="pl-s"><span class="pl-pds">&quot;</span>train.head()<span class="pl-pds">&quot;</span></span></div>
                </div>
                <div class="d-flex flex-justify-start flex-items-start">
                  <div class="blob-num blame-blob-num color-bg-subtle js-line-number" id="L105">105</div>
                  <div class="blob-code blob-code-inner js-file-line" id="LC105">      ],</div>
                </div>
                <div class="d-flex flex-justify-start flex-items-start">
                  <div class="blob-num blame-blob-num color-bg-subtle js-line-number" id="L106">106</div>
                  <div class="blob-code blob-code-inner js-file-line" id="LC106">      <span class="pl-ent">&quot;metadata&quot;</span>: {</div>
                </div>
                <div class="d-flex flex-justify-start flex-items-start">
                  <div class="blob-num blame-blob-num color-bg-subtle js-line-number" id="L107">107</div>
                  <div class="blob-code blob-code-inner js-file-line" id="LC107">        <span class="pl-ent">&quot;colab&quot;</span>: {</div>
                </div>
                <div class="d-flex flex-justify-start flex-items-start">
                  <div class="blob-num blame-blob-num color-bg-subtle js-line-number" id="L108">108</div>
                  <div class="blob-code blob-code-inner js-file-line" id="LC108">          <span class="pl-ent">&quot;base_uri&quot;</span>: <span class="pl-s"><span class="pl-pds">&quot;</span>https://localhost:8080/<span class="pl-pds">&quot;</span></span>,</div>
                </div>
                <div class="d-flex flex-justify-start flex-items-start">
                  <div class="blob-num blame-blob-num color-bg-subtle js-line-number" id="L109">109</div>
                  <div class="blob-code blob-code-inner js-file-line" id="LC109">          <span class="pl-ent">&quot;height&quot;</span>: <span class="pl-c1">206</span></div>
                </div>
                <div class="d-flex flex-justify-start flex-items-start">
                  <div class="blob-num blame-blob-num color-bg-subtle js-line-number" id="L110">110</div>
                  <div class="blob-code blob-code-inner js-file-line" id="LC110">        },</div>
                </div>
                <div class="d-flex flex-justify-start flex-items-start">
                  <div class="blob-num blame-blob-num color-bg-subtle js-line-number" id="L111">111</div>
                  <div class="blob-code blob-code-inner js-file-line" id="LC111">        <span class="pl-ent">&quot;id&quot;</span>: <span class="pl-s"><span class="pl-pds">&quot;</span>xNbZnbkl-fwi<span class="pl-pds">&quot;</span></span>,</div>
                </div>
                <div class="d-flex flex-justify-start flex-items-start">
                  <div class="blob-num blame-blob-num color-bg-subtle js-line-number" id="L112">112</div>
                  <div class="blob-code blob-code-inner js-file-line" id="LC112">        <span class="pl-ent">&quot;outputId&quot;</span>: <span class="pl-s"><span class="pl-pds">&quot;</span>86e46870-a3fb-4a87-dac8-3771b2c64e9f<span class="pl-pds">&quot;</span></span></div>
                </div>
                <div class="d-flex flex-justify-start flex-items-start">
                  <div class="blob-num blame-blob-num color-bg-subtle js-line-number" id="L113">113</div>
                  <div class="blob-code blob-code-inner js-file-line" id="LC113">      },</div>
                </div>
                <div class="d-flex flex-justify-start flex-items-start">
                  <div class="blob-num blame-blob-num color-bg-subtle js-line-number" id="L114">114</div>
                  <div class="blob-code blob-code-inner js-file-line" id="LC114">      <span class="pl-ent">&quot;execution_count&quot;</span>: <span class="pl-c1">9</span>,</div>
                </div>
                <div class="d-flex flex-justify-start flex-items-start">
                  <div class="blob-num blame-blob-num color-bg-subtle js-line-number" id="L115">115</div>
                  <div class="blob-code blob-code-inner js-file-line" id="LC115">      <span class="pl-ent">&quot;outputs&quot;</span>: [</div>
                </div>
                <div class="d-flex flex-justify-start flex-items-start">
                  <div class="blob-num blame-blob-num color-bg-subtle js-line-number" id="L116">116</div>
                  <div class="blob-code blob-code-inner js-file-line" id="LC116">        {</div>
                </div>
                <div class="d-flex flex-justify-start flex-items-start">
                  <div class="blob-num blame-blob-num color-bg-subtle js-line-number" id="L117">117</div>
                  <div class="blob-code blob-code-inner js-file-line" id="LC117">          <span class="pl-ent">&quot;output_type&quot;</span>: <span class="pl-s"><span class="pl-pds">&quot;</span>execute_result<span class="pl-pds">&quot;</span></span>,</div>
                </div>
                <div class="d-flex flex-justify-start flex-items-start">
                  <div class="blob-num blame-blob-num color-bg-subtle js-line-number" id="L118">118</div>
                  <div class="blob-code blob-code-inner js-file-line" id="LC118">          <span class="pl-ent">&quot;data&quot;</span>: {</div>
                </div>
                <div class="d-flex flex-justify-start flex-items-start">
                  <div class="blob-num blame-blob-num color-bg-subtle js-line-number" id="L119">119</div>
                  <div class="blob-code blob-code-inner js-file-line" id="LC119">            <span class="pl-ent">&quot;text/plain&quot;</span>: [</div>
                </div>
                <div class="d-flex flex-justify-start flex-items-start">
                  <div class="blob-num blame-blob-num color-bg-subtle js-line-number" id="L120">120</div>
                  <div class="blob-code blob-code-inner js-file-line" id="LC120">              <span class="pl-s"><span class="pl-pds">&quot;</span>        id  week  center_id  meal_id  checkout_price  base_price  <span class="pl-cce">\\\n</span><span class="pl-pds">&quot;</span></span>,</div>
                </div>
                <div class="d-flex flex-justify-start flex-items-start">
                  <div class="blob-num blame-blob-num color-bg-subtle js-line-number" id="L121">121</div>
                  <div class="blob-code blob-code-inner js-file-line" id="LC121">              <span class="pl-s"><span class="pl-pds">&quot;</span>0  1379560     1         55     1885          136.83      152.29   <span class="pl-cce">\n</span><span class="pl-pds">&quot;</span></span>,</div>
                </div>
                <div class="d-flex flex-justify-start flex-items-start">
                  <div class="blob-num blame-blob-num color-bg-subtle js-line-number" id="L122">122</div>
                  <div class="blob-code blob-code-inner js-file-line" id="LC122">              <span class="pl-s"><span class="pl-pds">&quot;</span>1  1466964     1         55     1993          136.83      135.83   <span class="pl-cce">\n</span><span class="pl-pds">&quot;</span></span>,</div>
                </div>
                <div class="d-flex flex-justify-start flex-items-start">
                  <div class="blob-num blame-blob-num color-bg-subtle js-line-number" id="L123">123</div>
                  <div class="blob-code blob-code-inner js-file-line" id="LC123">              <span class="pl-s"><span class="pl-pds">&quot;</span>2  1346989     1         55     2539          134.86      135.86   <span class="pl-cce">\n</span><span class="pl-pds">&quot;</span></span>,</div>
                </div>
                <div class="d-flex flex-justify-start flex-items-start">
                  <div class="blob-num blame-blob-num color-bg-subtle js-line-number" id="L124">124</div>
                  <div class="blob-code blob-code-inner js-file-line" id="LC124">              <span class="pl-s"><span class="pl-pds">&quot;</span>3  1338232     1         55     2139          339.50      437.53   <span class="pl-cce">\n</span><span class="pl-pds">&quot;</span></span>,</div>
                </div>
                <div class="d-flex flex-justify-start flex-items-start">
                  <div class="blob-num blame-blob-num color-bg-subtle js-line-number" id="L125">125</div>
                  <div class="blob-code blob-code-inner js-file-line" id="LC125">              <span class="pl-s"><span class="pl-pds">&quot;</span>4  1448490     1         55     2631          243.50      242.50   <span class="pl-cce">\n</span><span class="pl-pds">&quot;</span></span>,</div>
                </div>
                <div class="d-flex flex-justify-start flex-items-start">
                  <div class="blob-num blame-blob-num color-bg-subtle js-line-number" id="L126">126</div>
                  <div class="blob-code blob-code-inner js-file-line" id="LC126">              <span class="pl-s"><span class="pl-pds">&quot;</span><span class="pl-cce">\n</span><span class="pl-pds">&quot;</span></span>,</div>
                </div>
                <div class="d-flex flex-justify-start flex-items-start">
                  <div class="blob-num blame-blob-num color-bg-subtle js-line-number" id="L127">127</div>
                  <div class="blob-code blob-code-inner js-file-line" id="LC127">              <span class="pl-s"><span class="pl-pds">&quot;</span>   emailer_for_promotion  homepage_featured  num_orders  <span class="pl-cce">\n</span><span class="pl-pds">&quot;</span></span>,</div>
                </div>
                <div class="d-flex flex-justify-start flex-items-start">
                  <div class="blob-num blame-blob-num color-bg-subtle js-line-number" id="L128">128</div>
                  <div class="blob-code blob-code-inner js-file-line" id="LC128">              <span class="pl-s"><span class="pl-pds">&quot;</span>0                      0                  0         177  <span class="pl-cce">\n</span><span class="pl-pds">&quot;</span></span>,</div>
                </div>
                <div class="d-flex flex-justify-start flex-items-start">
                  <div class="blob-num blame-blob-num color-bg-subtle js-line-number" id="L129">129</div>
                  <div class="blob-code blob-code-inner js-file-line" id="LC129">              <span class="pl-s"><span class="pl-pds">&quot;</span>1                      0                  0         270  <span class="pl-cce">\n</span><span class="pl-pds">&quot;</span></span>,</div>
                </div>
                <div class="d-flex flex-justify-start flex-items-start">
                  <div class="blob-num blame-blob-num color-bg-subtle js-line-number" id="L130">130</div>
                  <div class="blob-code blob-code-inner js-file-line" id="LC130">              <span class="pl-s"><span class="pl-pds">&quot;</span>2                      0                  0         189  <span class="pl-cce">\n</span><span class="pl-pds">&quot;</span></span>,</div>
                </div>
                <div class="d-flex flex-justify-start flex-items-start">
                  <div class="blob-num blame-blob-num color-bg-subtle js-line-number" id="L131">131</div>
                  <div class="blob-code blob-code-inner js-file-line" id="LC131">              <span class="pl-s"><span class="pl-pds">&quot;</span>3                      0                  0          54  <span class="pl-cce">\n</span><span class="pl-pds">&quot;</span></span>,</div>
                </div>
                <div class="d-flex flex-justify-start flex-items-start">
                  <div class="blob-num blame-blob-num color-bg-subtle js-line-number" id="L132">132</div>
                  <div class="blob-code blob-code-inner js-file-line" id="LC132">              <span class="pl-s"><span class="pl-pds">&quot;</span>4                      0                  0          40  <span class="pl-pds">&quot;</span></span></div>
                </div>
                <div class="d-flex flex-justify-start flex-items-start">
                  <div class="blob-num blame-blob-num color-bg-subtle js-line-number" id="L133">133</div>
                  <div class="blob-code blob-code-inner js-file-line" id="LC133">            ],</div>
                </div>
                <div class="d-flex flex-justify-start flex-items-start">
                  <div class="blob-num blame-blob-num color-bg-subtle js-line-number" id="L134">134</div>
                  <div class="blob-code blob-code-inner js-file-line" id="LC134">            <span class="pl-ent">&quot;text/html&quot;</span>: [</div>
                </div>
                <div class="d-flex flex-justify-start flex-items-start">
                  <div class="blob-num blame-blob-num color-bg-subtle js-line-number" id="L135">135</div>
                  <div class="blob-code blob-code-inner js-file-line" id="LC135">              <span class="pl-s"><span class="pl-pds">&quot;</span><span class="pl-cce">\n</span><span class="pl-pds">&quot;</span></span>,</div>
                </div>
                <div class="d-flex flex-justify-start flex-items-start">
                  <div class="blob-num blame-blob-num color-bg-subtle js-line-number" id="L136">136</div>
                  <div class="blob-code blob-code-inner js-file-line" id="LC136">              <span class="pl-s"><span class="pl-pds">&quot;</span>  &lt;div id=<span class="pl-cce">\&quot;</span>df-ad3727fb-cf15-41b1-9035-1cc2b182e933<span class="pl-cce">\&quot;</span>&gt;<span class="pl-cce">\n</span><span class="pl-pds">&quot;</span></span>,</div>
                </div>
                <div class="d-flex flex-justify-start flex-items-start">
                  <div class="blob-num blame-blob-num color-bg-subtle js-line-number" id="L137">137</div>
                  <div class="blob-code blob-code-inner js-file-line" id="LC137">              <span class="pl-s"><span class="pl-pds">&quot;</span>    &lt;div class=<span class="pl-cce">\&quot;</span>colab-df-container<span class="pl-cce">\&quot;</span>&gt;<span class="pl-cce">\n</span><span class="pl-pds">&quot;</span></span>,</div>
                </div>
                <div class="d-flex flex-justify-start flex-items-start">
                  <div class="blob-num blame-blob-num color-bg-subtle js-line-number" id="L138">138</div>
                  <div class="blob-code blob-code-inner js-file-line" id="LC138">              <span class="pl-s"><span class="pl-pds">&quot;</span>      &lt;div&gt;<span class="pl-cce">\n</span><span class="pl-pds">&quot;</span></span>,</div>
                </div>
                <div class="d-flex flex-justify-start flex-items-start">
                  <div class="blob-num blame-blob-num color-bg-subtle js-line-number" id="L139">139</div>
                  <div class="blob-code blob-code-inner js-file-line" id="LC139">              <span class="pl-s"><span class="pl-pds">&quot;</span>&lt;style scoped&gt;<span class="pl-cce">\n</span><span class="pl-pds">&quot;</span></span>,</div>
                </div>
                <div class="d-flex flex-justify-start flex-items-start">
                  <div class="blob-num blame-blob-num color-bg-subtle js-line-number" id="L140">140</div>
                  <div class="blob-code blob-code-inner js-file-line" id="LC140">              <span class="pl-s"><span class="pl-pds">&quot;</span>    .dataframe tbody tr th:only-of-type {<span class="pl-cce">\n</span><span class="pl-pds">&quot;</span></span>,</div>
                </div>
                <div class="d-flex flex-justify-start flex-items-start">
                  <div class="blob-num blame-blob-num color-bg-subtle js-line-number" id="L141">141</div>
                  <div class="blob-code blob-code-inner js-file-line" id="LC141">              <span class="pl-s"><span class="pl-pds">&quot;</span>        vertical-align: middle;<span class="pl-cce">\n</span><span class="pl-pds">&quot;</span></span>,</div>
                </div>
                <div class="d-flex flex-justify-start flex-items-start">
                  <div class="blob-num blame-blob-num color-bg-subtle js-line-number" id="L142">142</div>
                  <div class="blob-code blob-code-inner js-file-line" id="LC142">              <span class="pl-s"><span class="pl-pds">&quot;</span>    }<span class="pl-cce">\n</span><span class="pl-pds">&quot;</span></span>,</div>
                </div>
                <div class="d-flex flex-justify-start flex-items-start">
                  <div class="blob-num blame-blob-num color-bg-subtle js-line-number" id="L143">143</div>
                  <div class="blob-code blob-code-inner js-file-line" id="LC143">              <span class="pl-s"><span class="pl-pds">&quot;</span><span class="pl-cce">\n</span><span class="pl-pds">&quot;</span></span>,</div>
                </div>
                <div class="d-flex flex-justify-start flex-items-start">
                  <div class="blob-num blame-blob-num color-bg-subtle js-line-number" id="L144">144</div>
                  <div class="blob-code blob-code-inner js-file-line" id="LC144">              <span class="pl-s"><span class="pl-pds">&quot;</span>    .dataframe tbody tr th {<span class="pl-cce">\n</span><span class="pl-pds">&quot;</span></span>,</div>
                </div>
                <div class="d-flex flex-justify-start flex-items-start">
                  <div class="blob-num blame-blob-num color-bg-subtle js-line-number" id="L145">145</div>
                  <div class="blob-code blob-code-inner js-file-line" id="LC145">              <span class="pl-s"><span class="pl-pds">&quot;</span>        vertical-align: top;<span class="pl-cce">\n</span><span class="pl-pds">&quot;</span></span>,</div>
                </div>
                <div class="d-flex flex-justify-start flex-items-start">
                  <div class="blob-num blame-blob-num color-bg-subtle js-line-number" id="L146">146</div>
                  <div class="blob-code blob-code-inner js-file-line" id="LC146">              <span class="pl-s"><span class="pl-pds">&quot;</span>    }<span class="pl-cce">\n</span><span class="pl-pds">&quot;</span></span>,</div>
                </div>
                <div class="d-flex flex-justify-start flex-items-start">
                  <div class="blob-num blame-blob-num color-bg-subtle js-line-number" id="L147">147</div>
                  <div class="blob-code blob-code-inner js-file-line" id="LC147">              <span class="pl-s"><span class="pl-pds">&quot;</span><span class="pl-cce">\n</span><span class="pl-pds">&quot;</span></span>,</div>
                </div>
                <div class="d-flex flex-justify-start flex-items-start">
                  <div class="blob-num blame-blob-num color-bg-subtle js-line-number" id="L148">148</div>
                  <div class="blob-code blob-code-inner js-file-line" id="LC148">              <span class="pl-s"><span class="pl-pds">&quot;</span>    .dataframe thead th {<span class="pl-cce">\n</span><span class="pl-pds">&quot;</span></span>,</div>
                </div>
                <div class="d-flex flex-justify-start flex-items-start">
                  <div class="blob-num blame-blob-num color-bg-subtle js-line-number" id="L149">149</div>
                  <div class="blob-code blob-code-inner js-file-line" id="LC149">              <span class="pl-s"><span class="pl-pds">&quot;</span>        text-align: right;<span class="pl-cce">\n</span><span class="pl-pds">&quot;</span></span>,</div>
                </div>
                <div class="d-flex flex-justify-start flex-items-start">
                  <div class="blob-num blame-blob-num color-bg-subtle js-line-number" id="L150">150</div>
                  <div class="blob-code blob-code-inner js-file-line" id="LC150">              <span class="pl-s"><span class="pl-pds">&quot;</span>    }<span class="pl-cce">\n</span><span class="pl-pds">&quot;</span></span>,</div>
                </div>
                <div class="d-flex flex-justify-start flex-items-start">
                  <div class="blob-num blame-blob-num color-bg-subtle js-line-number" id="L151">151</div>
                  <div class="blob-code blob-code-inner js-file-line" id="LC151">              <span class="pl-s"><span class="pl-pds">&quot;</span>&lt;/style&gt;<span class="pl-cce">\n</span><span class="pl-pds">&quot;</span></span>,</div>
                </div>
                <div class="d-flex flex-justify-start flex-items-start">
                  <div class="blob-num blame-blob-num color-bg-subtle js-line-number" id="L152">152</div>
                  <div class="blob-code blob-code-inner js-file-line" id="LC152">              <span class="pl-s"><span class="pl-pds">&quot;</span>&lt;table border=<span class="pl-cce">\&quot;</span>1<span class="pl-cce">\&quot;</span> class=<span class="pl-cce">\&quot;</span>dataframe<span class="pl-cce">\&quot;</span>&gt;<span class="pl-cce">\n</span><span class="pl-pds">&quot;</span></span>,</div>
                </div>
                <div class="d-flex flex-justify-start flex-items-start">
                  <div class="blob-num blame-blob-num color-bg-subtle js-line-number" id="L153">153</div>
                  <div class="blob-code blob-code-inner js-file-line" id="LC153">              <span class="pl-s"><span class="pl-pds">&quot;</span>  &lt;thead&gt;<span class="pl-cce">\n</span><span class="pl-pds">&quot;</span></span>,</div>
                </div>
                <div class="d-flex flex-justify-start flex-items-start">
                  <div class="blob-num blame-blob-num color-bg-subtle js-line-number" id="L154">154</div>
                  <div class="blob-code blob-code-inner js-file-line" id="LC154">              <span class="pl-s"><span class="pl-pds">&quot;</span>    &lt;tr style=<span class="pl-cce">\&quot;</span>text-align: right;<span class="pl-cce">\&quot;</span>&gt;<span class="pl-cce">\n</span><span class="pl-pds">&quot;</span></span>,</div>
                </div>
                <div class="d-flex flex-justify-start flex-items-start">
                  <div class="blob-num blame-blob-num color-bg-subtle js-line-number" id="L155">155</div>
                  <div class="blob-code blob-code-inner js-file-line" id="LC155">              <span class="pl-s"><span class="pl-pds">&quot;</span>      &lt;th&gt;&lt;/th&gt;<span class="pl-cce">\n</span><span class="pl-pds">&quot;</span></span>,</div>
                </div>
                <div class="d-flex flex-justify-start flex-items-start">
                  <div class="blob-num blame-blob-num color-bg-subtle js-line-number" id="L156">156</div>
                  <div class="blob-code blob-code-inner js-file-line" id="LC156">              <span class="pl-s"><span class="pl-pds">&quot;</span>      &lt;th&gt;id&lt;/th&gt;<span class="pl-cce">\n</span><span class="pl-pds">&quot;</span></span>,</div>
                </div>
                <div class="d-flex flex-justify-start flex-items-start">
                  <div class="blob-num blame-blob-num color-bg-subtle js-line-number" id="L157">157</div>
                  <div class="blob-code blob-code-inner js-file-line" id="LC157">              <span class="pl-s"><span class="pl-pds">&quot;</span>      &lt;th&gt;week&lt;/th&gt;<span class="pl-cce">\n</span><span class="pl-pds">&quot;</span></span>,</div>
                </div>
                <div class="d-flex flex-justify-start flex-items-start">
                  <div class="blob-num blame-blob-num color-bg-subtle js-line-number" id="L158">158</div>
                  <div class="blob-code blob-code-inner js-file-line" id="LC158">              <span class="pl-s"><span class="pl-pds">&quot;</span>      &lt;th&gt;center_id&lt;/th&gt;<span class="pl-cce">\n</span><span class="pl-pds">&quot;</span></span>,</div>
                </div>
                <div class="d-flex flex-justify-start flex-items-start">
                  <div class="blob-num blame-blob-num color-bg-subtle js-line-number" id="L159">159</div>
                  <div class="blob-code blob-code-inner js-file-line" id="LC159">              <span class="pl-s"><span class="pl-pds">&quot;</span>      &lt;th&gt;meal_id&lt;/th&gt;<span class="pl-cce">\n</span><span class="pl-pds">&quot;</span></span>,</div>
                </div>
                <div class="d-flex flex-justify-start flex-items-start">
                  <div class="blob-num blame-blob-num color-bg-subtle js-line-number" id="L160">160</div>
                  <div class="blob-code blob-code-inner js-file-line" id="LC160">              <span class="pl-s"><span class="pl-pds">&quot;</span>      &lt;th&gt;checkout_price&lt;/th&gt;<span class="pl-cce">\n</span><span class="pl-pds">&quot;</span></span>,</div>
                </div>
                <div class="d-flex flex-justify-start flex-items-start">
                  <div class="blob-num blame-blob-num color-bg-subtle js-line-number" id="L161">161</div>
                  <div class="blob-code blob-code-inner js-file-line" id="LC161">              <span class="pl-s"><span class="pl-pds">&quot;</span>      &lt;th&gt;base_price&lt;/th&gt;<span class="pl-cce">\n</span><span class="pl-pds">&quot;</span></span>,</div>
                </div>
                <div class="d-flex flex-justify-start flex-items-start">
                  <div class="blob-num blame-blob-num color-bg-subtle js-line-number" id="L162">162</div>
                  <div class="blob-code blob-code-inner js-file-line" id="LC162">              <span class="pl-s"><span class="pl-pds">&quot;</span>      &lt;th&gt;emailer_for_promotion&lt;/th&gt;<span class="pl-cce">\n</span><span class="pl-pds">&quot;</span></span>,</div>
                </div>
                <div class="d-flex flex-justify-start flex-items-start">
                  <div class="blob-num blame-blob-num color-bg-subtle js-line-number" id="L163">163</div>
                  <div class="blob-code blob-code-inner js-file-line" id="LC163">              <span class="pl-s"><span class="pl-pds">&quot;</span>      &lt;th&gt;homepage_featured&lt;/th&gt;<span class="pl-cce">\n</span><span class="pl-pds">&quot;</span></span>,</div>
                </div>
                <div class="d-flex flex-justify-start flex-items-start">
                  <div class="blob-num blame-blob-num color-bg-subtle js-line-number" id="L164">164</div>
                  <div class="blob-code blob-code-inner js-file-line" id="LC164">              <span class="pl-s"><span class="pl-pds">&quot;</span>      &lt;th&gt;num_orders&lt;/th&gt;<span class="pl-cce">\n</span><span class="pl-pds">&quot;</span></span>,</div>
                </div>
                <div class="d-flex flex-justify-start flex-items-start">
                  <div class="blob-num blame-blob-num color-bg-subtle js-line-number" id="L165">165</div>
                  <div class="blob-code blob-code-inner js-file-line" id="LC165">              <span class="pl-s"><span class="pl-pds">&quot;</span>    &lt;/tr&gt;<span class="pl-cce">\n</span><span class="pl-pds">&quot;</span></span>,</div>
                </div>
                <div class="d-flex flex-justify-start flex-items-start">
                  <div class="blob-num blame-blob-num color-bg-subtle js-line-number" id="L166">166</div>
                  <div class="blob-code blob-code-inner js-file-line" id="LC166">              <span class="pl-s"><span class="pl-pds">&quot;</span>  &lt;/thead&gt;<span class="pl-cce">\n</span><span class="pl-pds">&quot;</span></span>,</div>
                </div>
                <div class="d-flex flex-justify-start flex-items-start">
                  <div class="blob-num blame-blob-num color-bg-subtle js-line-number" id="L167">167</div>
                  <div class="blob-code blob-code-inner js-file-line" id="LC167">              <span class="pl-s"><span class="pl-pds">&quot;</span>  &lt;tbody&gt;<span class="pl-cce">\n</span><span class="pl-pds">&quot;</span></span>,</div>
                </div>
                <div class="d-flex flex-justify-start flex-items-start">
                  <div class="blob-num blame-blob-num color-bg-subtle js-line-number" id="L168">168</div>
                  <div class="blob-code blob-code-inner js-file-line" id="LC168">              <span class="pl-s"><span class="pl-pds">&quot;</span>    &lt;tr&gt;<span class="pl-cce">\n</span><span class="pl-pds">&quot;</span></span>,</div>
                </div>
                <div class="d-flex flex-justify-start flex-items-start">
                  <div class="blob-num blame-blob-num color-bg-subtle js-line-number" id="L169">169</div>
                  <div class="blob-code blob-code-inner js-file-line" id="LC169">              <span class="pl-s"><span class="pl-pds">&quot;</span>      &lt;th&gt;0&lt;/th&gt;<span class="pl-cce">\n</span><span class="pl-pds">&quot;</span></span>,</div>
                </div>
                <div class="d-flex flex-justify-start flex-items-start">
                  <div class="blob-num blame-blob-num color-bg-subtle js-line-number" id="L170">170</div>
                  <div class="blob-code blob-code-inner js-file-line" id="LC170">              <span class="pl-s"><span class="pl-pds">&quot;</span>      &lt;td&gt;1379560&lt;/td&gt;<span class="pl-cce">\n</span><span class="pl-pds">&quot;</span></span>,</div>
                </div>
                <div class="d-flex flex-justify-start flex-items-start">
                  <div class="blob-num blame-blob-num color-bg-subtle js-line-number" id="L171">171</div>
                  <div class="blob-code blob-code-inner js-file-line" id="LC171">              <span class="pl-s"><span class="pl-pds">&quot;</span>      &lt;td&gt;1&lt;/td&gt;<span class="pl-cce">\n</span><span class="pl-pds">&quot;</span></span>,</div>
                </div>
                <div class="d-flex flex-justify-start flex-items-start">
                  <div class="blob-num blame-blob-num color-bg-subtle js-line-number" id="L172">172</div>
                  <div class="blob-code blob-code-inner js-file-line" id="LC172">              <span class="pl-s"><span class="pl-pds">&quot;</span>      &lt;td&gt;55&lt;/td&gt;<span class="pl-cce">\n</span><span class="pl-pds">&quot;</span></span>,</div>
                </div>
                <div class="d-flex flex-justify-start flex-items-start">
                  <div class="blob-num blame-blob-num color-bg-subtle js-line-number" id="L173">173</div>
                  <div class="blob-code blob-code-inner js-file-line" id="LC173">              <span class="pl-s"><span class="pl-pds">&quot;</span>      &lt;td&gt;1885&lt;/td&gt;<span class="pl-cce">\n</span><span class="pl-pds">&quot;</span></span>,</div>
                </div>
                <div class="d-flex flex-justify-start flex-items-start">
                  <div class="blob-num blame-blob-num color-bg-subtle js-line-number" id="L174">174</div>
                  <div class="blob-code blob-code-inner js-file-line" id="LC174">              <span class="pl-s"><span class="pl-pds">&quot;</span>      &lt;td&gt;136.83&lt;/td&gt;<span class="pl-cce">\n</span><span class="pl-pds">&quot;</span></span>,</div>
                </div>
                <div class="d-flex flex-justify-start flex-items-start">
                  <div class="blob-num blame-blob-num color-bg-subtle js-line-number" id="L175">175</div>
                  <div class="blob-code blob-code-inner js-file-line" id="LC175">              <span class="pl-s"><span class="pl-pds">&quot;</span>      &lt;td&gt;152.29&lt;/td&gt;<span class="pl-cce">\n</span><span class="pl-pds">&quot;</span></span>,</div>
                </div>
                <div class="d-flex flex-justify-start flex-items-start">
                  <div class="blob-num blame-blob-num color-bg-subtle js-line-number" id="L176">176</div>
                  <div class="blob-code blob-code-inner js-file-line" id="LC176">              <span class="pl-s"><span class="pl-pds">&quot;</span>      &lt;td&gt;0&lt;/td&gt;<span class="pl-cce">\n</span><span class="pl-pds">&quot;</span></span>,</div>
                </div>
                <div class="d-flex flex-justify-start flex-items-start">
                  <div class="blob-num blame-blob-num color-bg-subtle js-line-number" id="L177">177</div>
                  <div class="blob-code blob-code-inner js-file-line" id="LC177">              <span class="pl-s"><span class="pl-pds">&quot;</span>      &lt;td&gt;0&lt;/td&gt;<span class="pl-cce">\n</span><span class="pl-pds">&quot;</span></span>,</div>
                </div>
                <div class="d-flex flex-justify-start flex-items-start">
                  <div class="blob-num blame-blob-num color-bg-subtle js-line-number" id="L178">178</div>
                  <div class="blob-code blob-code-inner js-file-line" id="LC178">              <span class="pl-s"><span class="pl-pds">&quot;</span>      &lt;td&gt;177&lt;/td&gt;<span class="pl-cce">\n</span><span class="pl-pds">&quot;</span></span>,</div>
                </div>
                <div class="d-flex flex-justify-start flex-items-start">
                  <div class="blob-num blame-blob-num color-bg-subtle js-line-number" id="L179">179</div>
                  <div class="blob-code blob-code-inner js-file-line" id="LC179">              <span class="pl-s"><span class="pl-pds">&quot;</span>    &lt;/tr&gt;<span class="pl-cce">\n</span><span class="pl-pds">&quot;</span></span>,</div>
                </div>
                <div class="d-flex flex-justify-start flex-items-start">
                  <div class="blob-num blame-blob-num color-bg-subtle js-line-number" id="L180">180</div>
                  <div class="blob-code blob-code-inner js-file-line" id="LC180">              <span class="pl-s"><span class="pl-pds">&quot;</span>    &lt;tr&gt;<span class="pl-cce">\n</span><span class="pl-pds">&quot;</span></span>,</div>
                </div>
                <div class="d-flex flex-justify-start flex-items-start">
                  <div class="blob-num blame-blob-num color-bg-subtle js-line-number" id="L181">181</div>
                  <div class="blob-code blob-code-inner js-file-line" id="LC181">              <span class="pl-s"><span class="pl-pds">&quot;</span>      &lt;th&gt;1&lt;/th&gt;<span class="pl-cce">\n</span><span class="pl-pds">&quot;</span></span>,</div>
                </div>
                <div class="d-flex flex-justify-start flex-items-start">
                  <div class="blob-num blame-blob-num color-bg-subtle js-line-number" id="L182">182</div>
                  <div class="blob-code blob-code-inner js-file-line" id="LC182">              <span class="pl-s"><span class="pl-pds">&quot;</span>      &lt;td&gt;1466964&lt;/td&gt;<span class="pl-cce">\n</span><span class="pl-pds">&quot;</span></span>,</div>
                </div>
                <div class="d-flex flex-justify-start flex-items-start">
                  <div class="blob-num blame-blob-num color-bg-subtle js-line-number" id="L183">183</div>
                  <div class="blob-code blob-code-inner js-file-line" id="LC183">              <span class="pl-s"><span class="pl-pds">&quot;</span>      &lt;td&gt;1&lt;/td&gt;<span class="pl-cce">\n</span><span class="pl-pds">&quot;</span></span>,</div>
                </div>
                <div class="d-flex flex-justify-start flex-items-start">
                  <div class="blob-num blame-blob-num color-bg-subtle js-line-number" id="L184">184</div>
                  <div class="blob-code blob-code-inner js-file-line" id="LC184">              <span class="pl-s"><span class="pl-pds">&quot;</span>      &lt;td&gt;55&lt;/td&gt;<span class="pl-cce">\n</span><span class="pl-pds">&quot;</span></span>,</div>
                </div>
                <div class="d-flex flex-justify-start flex-items-start">
                  <div class="blob-num blame-blob-num color-bg-subtle js-line-number" id="L185">185</div>
                  <div class="blob-code blob-code-inner js-file-line" id="LC185">              <span class="pl-s"><span class="pl-pds">&quot;</span>      &lt;td&gt;1993&lt;/td&gt;<span class="pl-cce">\n</span><span class="pl-pds">&quot;</span></span>,</div>
                </div>
                <div class="d-flex flex-justify-start flex-items-start">
                  <div class="blob-num blame-blob-num color-bg-subtle js-line-number" id="L186">186</div>
                  <div class="blob-code blob-code-inner js-file-line" id="LC186">              <span class="pl-s"><span class="pl-pds">&quot;</span>      &lt;td&gt;136.83&lt;/td&gt;<span class="pl-cce">\n</span><span class="pl-pds">&quot;</span></span>,</div>
                </div>
                <div class="d-flex flex-justify-start flex-items-start">
                  <div class="blob-num blame-blob-num color-bg-subtle js-line-number" id="L187">187</div>
                  <div class="blob-code blob-code-inner js-file-line" id="LC187">              <span class="pl-s"><span class="pl-pds">&quot;</span>      &lt;td&gt;135.83&lt;/td&gt;<span class="pl-cce">\n</span><span class="pl-pds">&quot;</span></span>,</div>
                </div>
                <div class="d-flex flex-justify-start flex-items-start">
                  <div class="blob-num blame-blob-num color-bg-subtle js-line-number" id="L188">188</div>
                  <div class="blob-code blob-code-inner js-file-line" id="LC188">              <span class="pl-s"><span class="pl-pds">&quot;</span>      &lt;td&gt;0&lt;/td&gt;<span class="pl-cce">\n</span><span class="pl-pds">&quot;</span></span>,</div>
                </div>
                <div class="d-flex flex-justify-start flex-items-start">
                  <div class="blob-num blame-blob-num color-bg-subtle js-line-number" id="L189">189</div>
                  <div class="blob-code blob-code-inner js-file-line" id="LC189">              <span class="pl-s"><span class="pl-pds">&quot;</span>      &lt;td&gt;0&lt;/td&gt;<span class="pl-cce">\n</span><span class="pl-pds">&quot;</span></span>,</div>
                </div>
                <div class="d-flex flex-justify-start flex-items-start">
                  <div class="blob-num blame-blob-num color-bg-subtle js-line-number" id="L190">190</div>
                  <div class="blob-code blob-code-inner js-file-line" id="LC190">              <span class="pl-s"><span class="pl-pds">&quot;</span>      &lt;td&gt;270&lt;/td&gt;<span class="pl-cce">\n</span><span class="pl-pds">&quot;</span></span>,</div>
                </div>
                <div class="d-flex flex-justify-start flex-items-start">
                  <div class="blob-num blame-blob-num color-bg-subtle js-line-number" id="L191">191</div>
                  <div class="blob-code blob-code-inner js-file-line" id="LC191">              <span class="pl-s"><span class="pl-pds">&quot;</span>    &lt;/tr&gt;<span class="pl-cce">\n</span><span class="pl-pds">&quot;</span></span>,</div>
                </div>
                <div class="d-flex flex-justify-start flex-items-start">
                  <div class="blob-num blame-blob-num color-bg-subtle js-line-number" id="L192">192</div>
                  <div class="blob-code blob-code-inner js-file-line" id="LC192">              <span class="pl-s"><span class="pl-pds">&quot;</span>    &lt;tr&gt;<span class="pl-cce">\n</span><span class="pl-pds">&quot;</span></span>,</div>
                </div>
                <div class="d-flex flex-justify-start flex-items-start">
                  <div class="blob-num blame-blob-num color-bg-subtle js-line-number" id="L193">193</div>
                  <div class="blob-code blob-code-inner js-file-line" id="LC193">              <span class="pl-s"><span class="pl-pds">&quot;</span>      &lt;th&gt;2&lt;/th&gt;<span class="pl-cce">\n</span><span class="pl-pds">&quot;</span></span>,</div>
                </div>
                <div class="d-flex flex-justify-start flex-items-start">
                  <div class="blob-num blame-blob-num color-bg-subtle js-line-number" id="L194">194</div>
                  <div class="blob-code blob-code-inner js-file-line" id="LC194">              <span class="pl-s"><span class="pl-pds">&quot;</span>      &lt;td&gt;1346989&lt;/td&gt;<span class="pl-cce">\n</span><span class="pl-pds">&quot;</span></span>,</div>
                </div>
                <div class="d-flex flex-justify-start flex-items-start">
                  <div class="blob-num blame-blob-num color-bg-subtle js-line-number" id="L195">195</div>
                  <div class="blob-code blob-code-inner js-file-line" id="LC195">              <span class="pl-s"><span class="pl-pds">&quot;</span>      &lt;td&gt;1&lt;/td&gt;<span class="pl-cce">\n</span><span class="pl-pds">&quot;</span></span>,</div>
                </div>
                <div class="d-flex flex-justify-start flex-items-start">
                  <div class="blob-num blame-blob-num color-bg-subtle js-line-number" id="L196">196</div>
                  <div class="blob-code blob-code-inner js-file-line" id="LC196">              <span class="pl-s"><span class="pl-pds">&quot;</span>      &lt;td&gt;55&lt;/td&gt;<span class="pl-cce">\n</span><span class="pl-pds">&quot;</span></span>,</div>
                </div>
                <div class="d-flex flex-justify-start flex-items-start">
                  <div class="blob-num blame-blob-num color-bg-subtle js-line-number" id="L197">197</div>
                  <div class="blob-code blob-code-inner js-file-line" id="LC197">              <span class="pl-s"><span class="pl-pds">&quot;</span>      &lt;td&gt;2539&lt;/td&gt;<span class="pl-cce">\n</span><span class="pl-pds">&quot;</span></span>,</div>
                </div>
                <div class="d-flex flex-justify-start flex-items-start">
                  <div class="blob-num blame-blob-num color-bg-subtle js-line-number" id="L198">198</div>
                  <div class="blob-code blob-code-inner js-file-line" id="LC198">              <span class="pl-s"><span class="pl-pds">&quot;</span>      &lt;td&gt;134.86&lt;/td&gt;<span class="pl-cce">\n</span><span class="pl-pds">&quot;</span></span>,</div>
                </div>
                <div class="d-flex flex-justify-start flex-items-start">
                  <div class="blob-num blame-blob-num color-bg-subtle js-line-number" id="L199">199</div>
                  <div class="blob-code blob-code-inner js-file-line" id="LC199">              <span class="pl-s"><span class="pl-pds">&quot;</span>      &lt;td&gt;135.86&lt;/td&gt;<span class="pl-cce">\n</span><span class="pl-pds">&quot;</span></span>,</div>
                </div>
                <div class="d-flex flex-justify-start flex-items-start">
                  <div class="blob-num blame-blob-num color-bg-subtle js-line-number" id="L200">200</div>
                  <div class="blob-code blob-code-inner js-file-line" id="LC200">              <span class="pl-s"><span class="pl-pds">&quot;</span>      &lt;td&gt;0&lt;/td&gt;<span class="pl-cce">\n</span><span class="pl-pds">&quot;</span></span>,</div>
                </div>
                <div class="d-flex flex-justify-start flex-items-start">
                  <div class="blob-num blame-blob-num color-bg-subtle js-line-number" id="L201">201</div>
                  <div class="blob-code blob-code-inner js-file-line" id="LC201">              <span class="pl-s"><span class="pl-pds">&quot;</span>      &lt;td&gt;0&lt;/td&gt;<span class="pl-cce">\n</span><span class="pl-pds">&quot;</span></span>,</div>
                </div>
                <div class="d-flex flex-justify-start flex-items-start">
                  <div class="blob-num blame-blob-num color-bg-subtle js-line-number" id="L202">202</div>
                  <div class="blob-code blob-code-inner js-file-line" id="LC202">              <span class="pl-s"><span class="pl-pds">&quot;</span>      &lt;td&gt;189&lt;/td&gt;<span class="pl-cce">\n</span><span class="pl-pds">&quot;</span></span>,</div>
                </div>
                <div class="d-flex flex-justify-start flex-items-start">
                  <div class="blob-num blame-blob-num color-bg-subtle js-line-number" id="L203">203</div>
                  <div class="blob-code blob-code-inner js-file-line" id="LC203">              <span class="pl-s"><span class="pl-pds">&quot;</span>    &lt;/tr&gt;<span class="pl-cce">\n</span><span class="pl-pds">&quot;</span></span>,</div>
                </div>
                <div class="d-flex flex-justify-start flex-items-start">
                  <div class="blob-num blame-blob-num color-bg-subtle js-line-number" id="L204">204</div>
                  <div class="blob-code blob-code-inner js-file-line" id="LC204">              <span class="pl-s"><span class="pl-pds">&quot;</span>    &lt;tr&gt;<span class="pl-cce">\n</span><span class="pl-pds">&quot;</span></span>,</div>
                </div>
                <div class="d-flex flex-justify-start flex-items-start">
                  <div class="blob-num blame-blob-num color-bg-subtle js-line-number" id="L205">205</div>
                  <div class="blob-code blob-code-inner js-file-line" id="LC205">              <span class="pl-s"><span class="pl-pds">&quot;</span>      &lt;th&gt;3&lt;/th&gt;<span class="pl-cce">\n</span><span class="pl-pds">&quot;</span></span>,</div>
                </div>
                <div class="d-flex flex-justify-start flex-items-start">
                  <div class="blob-num blame-blob-num color-bg-subtle js-line-number" id="L206">206</div>
                  <div class="blob-code blob-code-inner js-file-line" id="LC206">              <span class="pl-s"><span class="pl-pds">&quot;</span>      &lt;td&gt;1338232&lt;/td&gt;<span class="pl-cce">\n</span><span class="pl-pds">&quot;</span></span>,</div>
                </div>
                <div class="d-flex flex-justify-start flex-items-start">
                  <div class="blob-num blame-blob-num color-bg-subtle js-line-number" id="L207">207</div>
                  <div class="blob-code blob-code-inner js-file-line" id="LC207">              <span class="pl-s"><span class="pl-pds">&quot;</span>      &lt;td&gt;1&lt;/td&gt;<span class="pl-cce">\n</span><span class="pl-pds">&quot;</span></span>,</div>
                </div>
                <div class="d-flex flex-justify-start flex-items-start">
                  <div class="blob-num blame-blob-num color-bg-subtle js-line-number" id="L208">208</div>
                  <div class="blob-code blob-code-inner js-file-line" id="LC208">              <span class="pl-s"><span class="pl-pds">&quot;</span>      &lt;td&gt;55&lt;/td&gt;<span class="pl-cce">\n</span><span class="pl-pds">&quot;</span></span>,</div>
                </div>
                <div class="d-flex flex-justify-start flex-items-start">
                  <div class="blob-num blame-blob-num color-bg-subtle js-line-number" id="L209">209</div>
                  <div class="blob-code blob-code-inner js-file-line" id="LC209">              <span class="pl-s"><span class="pl-pds">&quot;</span>      &lt;td&gt;2139&lt;/td&gt;<span class="pl-cce">\n</span><span class="pl-pds">&quot;</span></span>,</div>
                </div>
                <div class="d-flex flex-justify-start flex-items-start">
                  <div class="blob-num blame-blob-num color-bg-subtle js-line-number" id="L210">210</div>
                  <div class="blob-code blob-code-inner js-file-line" id="LC210">              <span class="pl-s"><span class="pl-pds">&quot;</span>      &lt;td&gt;339.50&lt;/td&gt;<span class="pl-cce">\n</span><span class="pl-pds">&quot;</span></span>,</div>
                </div>
                <div class="d-flex flex-justify-start flex-items-start">
                  <div class="blob-num blame-blob-num color-bg-subtle js-line-number" id="L211">211</div>
                  <div class="blob-code blob-code-inner js-file-line" id="LC211">              <span class="pl-s"><span class="pl-pds">&quot;</span>      &lt;td&gt;437.53&lt;/td&gt;<span class="pl-cce">\n</span><span class="pl-pds">&quot;</span></span>,</div>
                </div>
                <div class="d-flex flex-justify-start flex-items-start">
                  <div class="blob-num blame-blob-num color-bg-subtle js-line-number" id="L212">212</div>
                  <div class="blob-code blob-code-inner js-file-line" id="LC212">              <span class="pl-s"><span class="pl-pds">&quot;</span>      &lt;td&gt;0&lt;/td&gt;<span class="pl-cce">\n</span><span class="pl-pds">&quot;</span></span>,</div>
                </div>
                <div class="d-flex flex-justify-start flex-items-start">
                  <div class="blob-num blame-blob-num color-bg-subtle js-line-number" id="L213">213</div>
                  <div class="blob-code blob-code-inner js-file-line" id="LC213">              <span class="pl-s"><span class="pl-pds">&quot;</span>      &lt;td&gt;0&lt;/td&gt;<span class="pl-cce">\n</span><span class="pl-pds">&quot;</span></span>,</div>
                </div>
                <div class="d-flex flex-justify-start flex-items-start">
                  <div class="blob-num blame-blob-num color-bg-subtle js-line-number" id="L214">214</div>
                  <div class="blob-code blob-code-inner js-file-line" id="LC214">              <span class="pl-s"><span class="pl-pds">&quot;</span>      &lt;td&gt;54&lt;/td&gt;<span class="pl-cce">\n</span><span class="pl-pds">&quot;</span></span>,</div>
                </div>
                <div class="d-flex flex-justify-start flex-items-start">
                  <div class="blob-num blame-blob-num color-bg-subtle js-line-number" id="L215">215</div>
                  <div class="blob-code blob-code-inner js-file-line" id="LC215">              <span class="pl-s"><span class="pl-pds">&quot;</span>    &lt;/tr&gt;<span class="pl-cce">\n</span><span class="pl-pds">&quot;</span></span>,</div>
                </div>
                <div class="d-flex flex-justify-start flex-items-start">
                  <div class="blob-num blame-blob-num color-bg-subtle js-line-number" id="L216">216</div>
                  <div class="blob-code blob-code-inner js-file-line" id="LC216">              <span class="pl-s"><span class="pl-pds">&quot;</span>    &lt;tr&gt;<span class="pl-cce">\n</span><span class="pl-pds">&quot;</span></span>,</div>
                </div>
                <div class="d-flex flex-justify-start flex-items-start">
                  <div class="blob-num blame-blob-num color-bg-subtle js-line-number" id="L217">217</div>
                  <div class="blob-code blob-code-inner js-file-line" id="LC217">              <span class="pl-s"><span class="pl-pds">&quot;</span>      &lt;th&gt;4&lt;/th&gt;<span class="pl-cce">\n</span><span class="pl-pds">&quot;</span></span>,</div>
                </div>
                <div class="d-flex flex-justify-start flex-items-start">
                  <div class="blob-num blame-blob-num color-bg-subtle js-line-number" id="L218">218</div>
                  <div class="blob-code blob-code-inner js-file-line" id="LC218">              <span class="pl-s"><span class="pl-pds">&quot;</span>      &lt;td&gt;1448490&lt;/td&gt;<span class="pl-cce">\n</span><span class="pl-pds">&quot;</span></span>,</div>
                </div>
                <div class="d-flex flex-justify-start flex-items-start">
                  <div class="blob-num blame-blob-num color-bg-subtle js-line-number" id="L219">219</div>
                  <div class="blob-code blob-code-inner js-file-line" id="LC219">              <span class="pl-s"><span class="pl-pds">&quot;</span>      &lt;td&gt;1&lt;/td&gt;<span class="pl-cce">\n</span><span class="pl-pds">&quot;</span></span>,</div>
                </div>
                <div class="d-flex flex-justify-start flex-items-start">
                  <div class="blob-num blame-blob-num color-bg-subtle js-line-number" id="L220">220</div>
                  <div class="blob-code blob-code-inner js-file-line" id="LC220">              <span class="pl-s"><span class="pl-pds">&quot;</span>      &lt;td&gt;55&lt;/td&gt;<span class="pl-cce">\n</span><span class="pl-pds">&quot;</span></span>,</div>
                </div>
                <div class="d-flex flex-justify-start flex-items-start">
                  <div class="blob-num blame-blob-num color-bg-subtle js-line-number" id="L221">221</div>
                  <div class="blob-code blob-code-inner js-file-line" id="LC221">              <span class="pl-s"><span class="pl-pds">&quot;</span>      &lt;td&gt;2631&lt;/td&gt;<span class="pl-cce">\n</span><span class="pl-pds">&quot;</span></span>,</div>
                </div>
                <div class="d-flex flex-justify-start flex-items-start">
                  <div class="blob-num blame-blob-num color-bg-subtle js-line-number" id="L222">222</div>
                  <div class="blob-code blob-code-inner js-file-line" id="LC222">              <span class="pl-s"><span class="pl-pds">&quot;</span>      &lt;td&gt;243.50&lt;/td&gt;<span class="pl-cce">\n</span><span class="pl-pds">&quot;</span></span>,</div>
                </div>
                <div class="d-flex flex-justify-start flex-items-start">
                  <div class="blob-num blame-blob-num color-bg-subtle js-line-number" id="L223">223</div>
                  <div class="blob-code blob-code-inner js-file-line" id="LC223">              <span class="pl-s"><span class="pl-pds">&quot;</span>      &lt;td&gt;242.50&lt;/td&gt;<span class="pl-cce">\n</span><span class="pl-pds">&quot;</span></span>,</div>
                </div>
                <div class="d-flex flex-justify-start flex-items-start">
                  <div class="blob-num blame-blob-num color-bg-subtle js-line-number" id="L224">224</div>
                  <div class="blob-code blob-code-inner js-file-line" id="LC224">              <span class="pl-s"><span class="pl-pds">&quot;</span>      &lt;td&gt;0&lt;/td&gt;<span class="pl-cce">\n</span><span class="pl-pds">&quot;</span></span>,</div>
                </div>
                <div class="d-flex flex-justify-start flex-items-start">
                  <div class="blob-num blame-blob-num color-bg-subtle js-line-number" id="L225">225</div>
                  <div class="blob-code blob-code-inner js-file-line" id="LC225">              <span class="pl-s"><span class="pl-pds">&quot;</span>      &lt;td&gt;0&lt;/td&gt;<span class="pl-cce">\n</span><span class="pl-pds">&quot;</span></span>,</div>
                </div>
                <div class="d-flex flex-justify-start flex-items-start">
                  <div class="blob-num blame-blob-num color-bg-subtle js-line-number" id="L226">226</div>
                  <div class="blob-code blob-code-inner js-file-line" id="LC226">              <span class="pl-s"><span class="pl-pds">&quot;</span>      &lt;td&gt;40&lt;/td&gt;<span class="pl-cce">\n</span><span class="pl-pds">&quot;</span></span>,</div>
                </div>
                <div class="d-flex flex-justify-start flex-items-start">
                  <div class="blob-num blame-blob-num color-bg-subtle js-line-number" id="L227">227</div>
                  <div class="blob-code blob-code-inner js-file-line" id="LC227">              <span class="pl-s"><span class="pl-pds">&quot;</span>    &lt;/tr&gt;<span class="pl-cce">\n</span><span class="pl-pds">&quot;</span></span>,</div>
                </div>
                <div class="d-flex flex-justify-start flex-items-start">
                  <div class="blob-num blame-blob-num color-bg-subtle js-line-number" id="L228">228</div>
                  <div class="blob-code blob-code-inner js-file-line" id="LC228">              <span class="pl-s"><span class="pl-pds">&quot;</span>  &lt;/tbody&gt;<span class="pl-cce">\n</span><span class="pl-pds">&quot;</span></span>,</div>
                </div>
                <div class="d-flex flex-justify-start flex-items-start">
                  <div class="blob-num blame-blob-num color-bg-subtle js-line-number" id="L229">229</div>
                  <div class="blob-code blob-code-inner js-file-line" id="LC229">              <span class="pl-s"><span class="pl-pds">&quot;</span>&lt;/table&gt;<span class="pl-cce">\n</span><span class="pl-pds">&quot;</span></span>,</div>
                </div>
                <div class="d-flex flex-justify-start flex-items-start">
                  <div class="blob-num blame-blob-num color-bg-subtle js-line-number" id="L230">230</div>
                  <div class="blob-code blob-code-inner js-file-line" id="LC230">              <span class="pl-s"><span class="pl-pds">&quot;</span>&lt;/div&gt;<span class="pl-cce">\n</span><span class="pl-pds">&quot;</span></span>,</div>
                </div>
                <div class="d-flex flex-justify-start flex-items-start">
                  <div class="blob-num blame-blob-num color-bg-subtle js-line-number" id="L231">231</div>
                  <div class="blob-code blob-code-inner js-file-line" id="LC231">              <span class="pl-s"><span class="pl-pds">&quot;</span>      &lt;button class=<span class="pl-cce">\&quot;</span>colab-df-convert<span class="pl-cce">\&quot;</span> onclick=<span class="pl-cce">\&quot;</span>convertToInteractive(&#39;df-ad3727fb-cf15-41b1-9035-1cc2b182e933&#39;)<span class="pl-cce">\&quot;\n</span><span class="pl-pds">&quot;</span></span>,</div>
                </div>
                <div class="d-flex flex-justify-start flex-items-start">
                  <div class="blob-num blame-blob-num color-bg-subtle js-line-number" id="L232">232</div>
                  <div class="blob-code blob-code-inner js-file-line" id="LC232">              <span class="pl-s"><span class="pl-pds">&quot;</span>              title=<span class="pl-cce">\&quot;</span>Convert this dataframe to an interactive table.<span class="pl-cce">\&quot;\n</span><span class="pl-pds">&quot;</span></span>,</div>
                </div>
                <div class="d-flex flex-justify-start flex-items-start">
                  <div class="blob-num blame-blob-num color-bg-subtle js-line-number" id="L233">233</div>
                  <div class="blob-code blob-code-inner js-file-line" id="LC233">              <span class="pl-s"><span class="pl-pds">&quot;</span>              style=<span class="pl-cce">\&quot;</span>display:none;<span class="pl-cce">\&quot;</span>&gt;<span class="pl-cce">\n</span><span class="pl-pds">&quot;</span></span>,</div>
                </div>
                <div class="d-flex flex-justify-start flex-items-start">
                  <div class="blob-num blame-blob-num color-bg-subtle js-line-number" id="L234">234</div>
                  <div class="blob-code blob-code-inner js-file-line" id="LC234">              <span class="pl-s"><span class="pl-pds">&quot;</span>        <span class="pl-cce">\n</span><span class="pl-pds">&quot;</span></span>,</div>
                </div>
                <div class="d-flex flex-justify-start flex-items-start">
                  <div class="blob-num blame-blob-num color-bg-subtle js-line-number" id="L235">235</div>
                  <div class="blob-code blob-code-inner js-file-line" id="LC235">              <span class="pl-s"><span class="pl-pds">&quot;</span>  &lt;svg xmlns=<span class="pl-cce">\&quot;</span>http://www.w3.org/2000/svg<span class="pl-cce">\&quot;</span> height=<span class="pl-cce">\&quot;</span>24px<span class="pl-cce">\&quot;</span>viewBox=<span class="pl-cce">\&quot;</span>0 0 24 24<span class="pl-cce">\&quot;\n</span><span class="pl-pds">&quot;</span></span>,</div>
                </div>
                <div class="d-flex flex-justify-start flex-items-start">
                  <div class="blob-num blame-blob-num color-bg-subtle js-line-number" id="L236">236</div>
                  <div class="blob-code blob-code-inner js-file-line" id="LC236">              <span class="pl-s"><span class="pl-pds">&quot;</span>       width=<span class="pl-cce">\&quot;</span>24px<span class="pl-cce">\&quot;</span>&gt;<span class="pl-cce">\n</span><span class="pl-pds">&quot;</span></span>,</div>
                </div>
                <div class="d-flex flex-justify-start flex-items-start">
                  <div class="blob-num blame-blob-num color-bg-subtle js-line-number" id="L237">237</div>
                  <div class="blob-code blob-code-inner js-file-line" id="LC237">              <span class="pl-s"><span class="pl-pds">&quot;</span>    &lt;path d=<span class="pl-cce">\&quot;</span>M0 0h24v24H0V0z<span class="pl-cce">\&quot;</span> fill=<span class="pl-cce">\&quot;</span>none<span class="pl-cce">\&quot;</span>/&gt;<span class="pl-cce">\n</span><span class="pl-pds">&quot;</span></span>,</div>
                </div>
                <div class="d-flex flex-justify-start flex-items-start">
                  <div class="blob-num blame-blob-num color-bg-subtle js-line-number" id="L238">238</div>
                  <div class="blob-code blob-code-inner js-file-line" id="LC238">              <span class="pl-s"><span class="pl-pds">&quot;</span>    &lt;path d=<span class="pl-cce">\&quot;</span>M18.56 5.44l.94 2.06.94-2.06 2.06-.94-2.06-.94-.94-2.06-.94 2.06-2.06.94zm-11 1L8.5 8.5l.94-2.06 2.06-.94-2.06-.94L8.5 2.5l-.94 2.06-2.06.94zm10 10l.94 2.06.94-2.06 2.06-.94-2.06-.94-.94-2.06-.94 2.06-2.06.94z<span class="pl-cce">\&quot;</span>/&gt;&lt;path d=<span class="pl-cce">\&quot;</span>M17.41 7.96l-1.37-1.37c-.4-.4-.92-.59-1.43-.59-.52 0-1.04.2-1.43.59L10.3 9.45l-7.72 7.72c-.78.78-.78 2.05 0 2.83L4 21.41c.39.39.9.59 1.41.59.51 0 1.02-.2 1.41-.59l7.78-7.78 2.81-2.81c.8-.78.8-2.07 0-2.86zM5.41 20L4 18.59l7.72-7.72 1.47 1.35L5.41 20z<span class="pl-cce">\&quot;</span>/&gt;<span class="pl-cce">\n</span><span class="pl-pds">&quot;</span></span>,</div>
                </div>
                <div class="d-flex flex-justify-start flex-items-start">
                  <div class="blob-num blame-blob-num color-bg-subtle js-line-number" id="L239">239</div>
                  <div class="blob-code blob-code-inner js-file-line" id="LC239">              <span class="pl-s"><span class="pl-pds">&quot;</span>  &lt;/svg&gt;<span class="pl-cce">\n</span><span class="pl-pds">&quot;</span></span>,</div>
                </div>
                <div class="d-flex flex-justify-start flex-items-start">
                  <div class="blob-num blame-blob-num color-bg-subtle js-line-number" id="L240">240</div>
                  <div class="blob-code blob-code-inner js-file-line" id="LC240">              <span class="pl-s"><span class="pl-pds">&quot;</span>      &lt;/button&gt;<span class="pl-cce">\n</span><span class="pl-pds">&quot;</span></span>,</div>
                </div>
                <div class="d-flex flex-justify-start flex-items-start">
                  <div class="blob-num blame-blob-num color-bg-subtle js-line-number" id="L241">241</div>
                  <div class="blob-code blob-code-inner js-file-line" id="LC241">              <span class="pl-s"><span class="pl-pds">&quot;</span>      <span class="pl-cce">\n</span><span class="pl-pds">&quot;</span></span>,</div>
                </div>
                <div class="d-flex flex-justify-start flex-items-start">
                  <div class="blob-num blame-blob-num color-bg-subtle js-line-number" id="L242">242</div>
                  <div class="blob-code blob-code-inner js-file-line" id="LC242">              <span class="pl-s"><span class="pl-pds">&quot;</span>  &lt;style&gt;<span class="pl-cce">\n</span><span class="pl-pds">&quot;</span></span>,</div>
                </div>
                <div class="d-flex flex-justify-start flex-items-start">
                  <div class="blob-num blame-blob-num color-bg-subtle js-line-number" id="L243">243</div>
                  <div class="blob-code blob-code-inner js-file-line" id="LC243">              <span class="pl-s"><span class="pl-pds">&quot;</span>    .colab-df-container {<span class="pl-cce">\n</span><span class="pl-pds">&quot;</span></span>,</div>
                </div>
                <div class="d-flex flex-justify-start flex-items-start">
                  <div class="blob-num blame-blob-num color-bg-subtle js-line-number" id="L244">244</div>
                  <div class="blob-code blob-code-inner js-file-line" id="LC244">              <span class="pl-s"><span class="pl-pds">&quot;</span>      display:flex;<span class="pl-cce">\n</span><span class="pl-pds">&quot;</span></span>,</div>
                </div>
                <div class="d-flex flex-justify-start flex-items-start">
                  <div class="blob-num blame-blob-num color-bg-subtle js-line-number" id="L245">245</div>
                  <div class="blob-code blob-code-inner js-file-line" id="LC245">              <span class="pl-s"><span class="pl-pds">&quot;</span>      flex-wrap:wrap;<span class="pl-cce">\n</span><span class="pl-pds">&quot;</span></span>,</div>
                </div>
                <div class="d-flex flex-justify-start flex-items-start">
                  <div class="blob-num blame-blob-num color-bg-subtle js-line-number" id="L246">246</div>
                  <div class="blob-code blob-code-inner js-file-line" id="LC246">              <span class="pl-s"><span class="pl-pds">&quot;</span>      gap: 12px;<span class="pl-cce">\n</span><span class="pl-pds">&quot;</span></span>,</div>
                </div>
                <div class="d-flex flex-justify-start flex-items-start">
                  <div class="blob-num blame-blob-num color-bg-subtle js-line-number" id="L247">247</div>
                  <div class="blob-code blob-code-inner js-file-line" id="LC247">              <span class="pl-s"><span class="pl-pds">&quot;</span>    }<span class="pl-cce">\n</span><span class="pl-pds">&quot;</span></span>,</div>
                </div>
                <div class="d-flex flex-justify-start flex-items-start">
                  <div class="blob-num blame-blob-num color-bg-subtle js-line-number" id="L248">248</div>
                  <div class="blob-code blob-code-inner js-file-line" id="LC248">              <span class="pl-s"><span class="pl-pds">&quot;</span><span class="pl-cce">\n</span><span class="pl-pds">&quot;</span></span>,</div>
                </div>
                <div class="d-flex flex-justify-start flex-items-start">
                  <div class="blob-num blame-blob-num color-bg-subtle js-line-number" id="L249">249</div>
                  <div class="blob-code blob-code-inner js-file-line" id="LC249">              <span class="pl-s"><span class="pl-pds">&quot;</span>    .colab-df-convert {<span class="pl-cce">\n</span><span class="pl-pds">&quot;</span></span>,</div>
                </div>
                <div class="d-flex flex-justify-start flex-items-start">
                  <div class="blob-num blame-blob-num color-bg-subtle js-line-number" id="L250">250</div>
                  <div class="blob-code blob-code-inner js-file-line" id="LC250">              <span class="pl-s"><span class="pl-pds">&quot;</span>      background-color: #E8F0FE;<span class="pl-cce">\n</span><span class="pl-pds">&quot;</span></span>,</div>
                </div>
                <div class="d-flex flex-justify-start flex-items-start">
                  <div class="blob-num blame-blob-num color-bg-subtle js-line-number" id="L251">251</div>
                  <div class="blob-code blob-code-inner js-file-line" id="LC251">              <span class="pl-s"><span class="pl-pds">&quot;</span>      border: none;<span class="pl-cce">\n</span><span class="pl-pds">&quot;</span></span>,</div>
                </div>
                <div class="d-flex flex-justify-start flex-items-start">
                  <div class="blob-num blame-blob-num color-bg-subtle js-line-number" id="L252">252</div>
                  <div class="blob-code blob-code-inner js-file-line" id="LC252">              <span class="pl-s"><span class="pl-pds">&quot;</span>      border-radius: 50%;<span class="pl-cce">\n</span><span class="pl-pds">&quot;</span></span>,</div>
                </div>
                <div class="d-flex flex-justify-start flex-items-start">
                  <div class="blob-num blame-blob-num color-bg-subtle js-line-number" id="L253">253</div>
                  <div class="blob-code blob-code-inner js-file-line" id="LC253">              <span class="pl-s"><span class="pl-pds">&quot;</span>      cursor: pointer;<span class="pl-cce">\n</span><span class="pl-pds">&quot;</span></span>,</div>
                </div>
                <div class="d-flex flex-justify-start flex-items-start">
                  <div class="blob-num blame-blob-num color-bg-subtle js-line-number" id="L254">254</div>
                  <div class="blob-code blob-code-inner js-file-line" id="LC254">              <span class="pl-s"><span class="pl-pds">&quot;</span>      display: none;<span class="pl-cce">\n</span><span class="pl-pds">&quot;</span></span>,</div>
                </div>
                <div class="d-flex flex-justify-start flex-items-start">
                  <div class="blob-num blame-blob-num color-bg-subtle js-line-number" id="L255">255</div>
                  <div class="blob-code blob-code-inner js-file-line" id="LC255">              <span class="pl-s"><span class="pl-pds">&quot;</span>      fill: #1967D2;<span class="pl-cce">\n</span><span class="pl-pds">&quot;</span></span>,</div>
                </div>
                <div class="d-flex flex-justify-start flex-items-start">
                  <div class="blob-num blame-blob-num color-bg-subtle js-line-number" id="L256">256</div>
                  <div class="blob-code blob-code-inner js-file-line" id="LC256">              <span class="pl-s"><span class="pl-pds">&quot;</span>      height: 32px;<span class="pl-cce">\n</span><span class="pl-pds">&quot;</span></span>,</div>
                </div>
                <div class="d-flex flex-justify-start flex-items-start">
                  <div class="blob-num blame-blob-num color-bg-subtle js-line-number" id="L257">257</div>
                  <div class="blob-code blob-code-inner js-file-line" id="LC257">              <span class="pl-s"><span class="pl-pds">&quot;</span>      padding: 0 0 0 0;<span class="pl-cce">\n</span><span class="pl-pds">&quot;</span></span>,</div>
                </div>
                <div class="d-flex flex-justify-start flex-items-start">
                  <div class="blob-num blame-blob-num color-bg-subtle js-line-number" id="L258">258</div>
                  <div class="blob-code blob-code-inner js-file-line" id="LC258">              <span class="pl-s"><span class="pl-pds">&quot;</span>      width: 32px;<span class="pl-cce">\n</span><span class="pl-pds">&quot;</span></span>,</div>
                </div>
                <div class="d-flex flex-justify-start flex-items-start">
                  <div class="blob-num blame-blob-num color-bg-subtle js-line-number" id="L259">259</div>
                  <div class="blob-code blob-code-inner js-file-line" id="LC259">              <span class="pl-s"><span class="pl-pds">&quot;</span>    }<span class="pl-cce">\n</span><span class="pl-pds">&quot;</span></span>,</div>
                </div>
                <div class="d-flex flex-justify-start flex-items-start">
                  <div class="blob-num blame-blob-num color-bg-subtle js-line-number" id="L260">260</div>
                  <div class="blob-code blob-code-inner js-file-line" id="LC260">              <span class="pl-s"><span class="pl-pds">&quot;</span><span class="pl-cce">\n</span><span class="pl-pds">&quot;</span></span>,</div>
                </div>
                <div class="d-flex flex-justify-start flex-items-start">
                  <div class="blob-num blame-blob-num color-bg-subtle js-line-number" id="L261">261</div>
                  <div class="blob-code blob-code-inner js-file-line" id="LC261">              <span class="pl-s"><span class="pl-pds">&quot;</span>    .colab-df-convert:hover {<span class="pl-cce">\n</span><span class="pl-pds">&quot;</span></span>,</div>
                </div>
                <div class="d-flex flex-justify-start flex-items-start">
                  <div class="blob-num blame-blob-num color-bg-subtle js-line-number" id="L262">262</div>
                  <div class="blob-code blob-code-inner js-file-line" id="LC262">              <span class="pl-s"><span class="pl-pds">&quot;</span>      background-color: #E2EBFA;<span class="pl-cce">\n</span><span class="pl-pds">&quot;</span></span>,</div>
                </div>
                <div class="d-flex flex-justify-start flex-items-start">
                  <div class="blob-num blame-blob-num color-bg-subtle js-line-number" id="L263">263</div>
                  <div class="blob-code blob-code-inner js-file-line" id="LC263">              <span class="pl-s"><span class="pl-pds">&quot;</span>      box-shadow: 0px 1px 2px rgba(60, 64, 67, 0.3), 0px 1px 3px 1px rgba(60, 64, 67, 0.15);<span class="pl-cce">\n</span><span class="pl-pds">&quot;</span></span>,</div>
                </div>
                <div class="d-flex flex-justify-start flex-items-start">
                  <div class="blob-num blame-blob-num color-bg-subtle js-line-number" id="L264">264</div>
                  <div class="blob-code blob-code-inner js-file-line" id="LC264">              <span class="pl-s"><span class="pl-pds">&quot;</span>      fill: #174EA6;<span class="pl-cce">\n</span><span class="pl-pds">&quot;</span></span>,</div>
                </div>
                <div class="d-flex flex-justify-start flex-items-start">
                  <div class="blob-num blame-blob-num color-bg-subtle js-line-number" id="L265">265</div>
                  <div class="blob-code blob-code-inner js-file-line" id="LC265">              <span class="pl-s"><span class="pl-pds">&quot;</span>    }<span class="pl-cce">\n</span><span class="pl-pds">&quot;</span></span>,</div>
                </div>
                <div class="d-flex flex-justify-start flex-items-start">
                  <div class="blob-num blame-blob-num color-bg-subtle js-line-number" id="L266">266</div>
                  <div class="blob-code blob-code-inner js-file-line" id="LC266">              <span class="pl-s"><span class="pl-pds">&quot;</span><span class="pl-cce">\n</span><span class="pl-pds">&quot;</span></span>,</div>
                </div>
                <div class="d-flex flex-justify-start flex-items-start">
                  <div class="blob-num blame-blob-num color-bg-subtle js-line-number" id="L267">267</div>
                  <div class="blob-code blob-code-inner js-file-line" id="LC267">              <span class="pl-s"><span class="pl-pds">&quot;</span>    [theme=dark] .colab-df-convert {<span class="pl-cce">\n</span><span class="pl-pds">&quot;</span></span>,</div>
                </div>
                <div class="d-flex flex-justify-start flex-items-start">
                  <div class="blob-num blame-blob-num color-bg-subtle js-line-number" id="L268">268</div>
                  <div class="blob-code blob-code-inner js-file-line" id="LC268">              <span class="pl-s"><span class="pl-pds">&quot;</span>      background-color: #3B4455;<span class="pl-cce">\n</span><span class="pl-pds">&quot;</span></span>,</div>
                </div>
                <div class="d-flex flex-justify-start flex-items-start">
                  <div class="blob-num blame-blob-num color-bg-subtle js-line-number" id="L269">269</div>
                  <div class="blob-code blob-code-inner js-file-line" id="LC269">              <span class="pl-s"><span class="pl-pds">&quot;</span>      fill: #D2E3FC;<span class="pl-cce">\n</span><span class="pl-pds">&quot;</span></span>,</div>
                </div>
                <div class="d-flex flex-justify-start flex-items-start">
                  <div class="blob-num blame-blob-num color-bg-subtle js-line-number" id="L270">270</div>
                  <div class="blob-code blob-code-inner js-file-line" id="LC270">              <span class="pl-s"><span class="pl-pds">&quot;</span>    }<span class="pl-cce">\n</span><span class="pl-pds">&quot;</span></span>,</div>
                </div>
                <div class="d-flex flex-justify-start flex-items-start">
                  <div class="blob-num blame-blob-num color-bg-subtle js-line-number" id="L271">271</div>
                  <div class="blob-code blob-code-inner js-file-line" id="LC271">              <span class="pl-s"><span class="pl-pds">&quot;</span><span class="pl-cce">\n</span><span class="pl-pds">&quot;</span></span>,</div>
                </div>
                <div class="d-flex flex-justify-start flex-items-start">
                  <div class="blob-num blame-blob-num color-bg-subtle js-line-number" id="L272">272</div>
                  <div class="blob-code blob-code-inner js-file-line" id="LC272">              <span class="pl-s"><span class="pl-pds">&quot;</span>    [theme=dark] .colab-df-convert:hover {<span class="pl-cce">\n</span><span class="pl-pds">&quot;</span></span>,</div>
                </div>
                <div class="d-flex flex-justify-start flex-items-start">
                  <div class="blob-num blame-blob-num color-bg-subtle js-line-number" id="L273">273</div>
                  <div class="blob-code blob-code-inner js-file-line" id="LC273">              <span class="pl-s"><span class="pl-pds">&quot;</span>      background-color: #434B5C;<span class="pl-cce">\n</span><span class="pl-pds">&quot;</span></span>,</div>
                </div>
                <div class="d-flex flex-justify-start flex-items-start">
                  <div class="blob-num blame-blob-num color-bg-subtle js-line-number" id="L274">274</div>
                  <div class="blob-code blob-code-inner js-file-line" id="LC274">              <span class="pl-s"><span class="pl-pds">&quot;</span>      box-shadow: 0px 1px 3px 1px rgba(0, 0, 0, 0.15);<span class="pl-cce">\n</span><span class="pl-pds">&quot;</span></span>,</div>
                </div>
                <div class="d-flex flex-justify-start flex-items-start">
                  <div class="blob-num blame-blob-num color-bg-subtle js-line-number" id="L275">275</div>
                  <div class="blob-code blob-code-inner js-file-line" id="LC275">              <span class="pl-s"><span class="pl-pds">&quot;</span>      filter: drop-shadow(0px 1px 2px rgba(0, 0, 0, 0.3));<span class="pl-cce">\n</span><span class="pl-pds">&quot;</span></span>,</div>
                </div>
                <div class="d-flex flex-justify-start flex-items-start">
                  <div class="blob-num blame-blob-num color-bg-subtle js-line-number" id="L276">276</div>
                  <div class="blob-code blob-code-inner js-file-line" id="LC276">              <span class="pl-s"><span class="pl-pds">&quot;</span>      fill: #FFFFFF;<span class="pl-cce">\n</span><span class="pl-pds">&quot;</span></span>,</div>
                </div>
                <div class="d-flex flex-justify-start flex-items-start">
                  <div class="blob-num blame-blob-num color-bg-subtle js-line-number" id="L277">277</div>
                  <div class="blob-code blob-code-inner js-file-line" id="LC277">              <span class="pl-s"><span class="pl-pds">&quot;</span>    }<span class="pl-cce">\n</span><span class="pl-pds">&quot;</span></span>,</div>
                </div>
                <div class="d-flex flex-justify-start flex-items-start">
                  <div class="blob-num blame-blob-num color-bg-subtle js-line-number" id="L278">278</div>
                  <div class="blob-code blob-code-inner js-file-line" id="LC278">              <span class="pl-s"><span class="pl-pds">&quot;</span>  &lt;/style&gt;<span class="pl-cce">\n</span><span class="pl-pds">&quot;</span></span>,</div>
                </div>
                <div class="d-flex flex-justify-start flex-items-start">
                  <div class="blob-num blame-blob-num color-bg-subtle js-line-number" id="L279">279</div>
                  <div class="blob-code blob-code-inner js-file-line" id="LC279">              <span class="pl-s"><span class="pl-pds">&quot;</span><span class="pl-cce">\n</span><span class="pl-pds">&quot;</span></span>,</div>
                </div>
                <div class="d-flex flex-justify-start flex-items-start">
                  <div class="blob-num blame-blob-num color-bg-subtle js-line-number" id="L280">280</div>
                  <div class="blob-code blob-code-inner js-file-line" id="LC280">              <span class="pl-s"><span class="pl-pds">&quot;</span>      &lt;script&gt;<span class="pl-cce">\n</span><span class="pl-pds">&quot;</span></span>,</div>
                </div>
                <div class="d-flex flex-justify-start flex-items-start">
                  <div class="blob-num blame-blob-num color-bg-subtle js-line-number" id="L281">281</div>
                  <div class="blob-code blob-code-inner js-file-line" id="LC281">              <span class="pl-s"><span class="pl-pds">&quot;</span>        const buttonEl =<span class="pl-cce">\n</span><span class="pl-pds">&quot;</span></span>,</div>
                </div>
                <div class="d-flex flex-justify-start flex-items-start">
                  <div class="blob-num blame-blob-num color-bg-subtle js-line-number" id="L282">282</div>
                  <div class="blob-code blob-code-inner js-file-line" id="LC282">              <span class="pl-s"><span class="pl-pds">&quot;</span>          document.querySelector(&#39;#df-ad3727fb-cf15-41b1-9035-1cc2b182e933 button.colab-df-convert&#39;);<span class="pl-cce">\n</span><span class="pl-pds">&quot;</span></span>,</div>
                </div>
                <div class="d-flex flex-justify-start flex-items-start">
                  <div class="blob-num blame-blob-num color-bg-subtle js-line-number" id="L283">283</div>
                  <div class="blob-code blob-code-inner js-file-line" id="LC283">              <span class="pl-s"><span class="pl-pds">&quot;</span>        buttonEl.style.display =<span class="pl-cce">\n</span><span class="pl-pds">&quot;</span></span>,</div>
                </div>
                <div class="d-flex flex-justify-start flex-items-start">
                  <div class="blob-num blame-blob-num color-bg-subtle js-line-number" id="L284">284</div>
                  <div class="blob-code blob-code-inner js-file-line" id="LC284">              <span class="pl-s"><span class="pl-pds">&quot;</span>          google.colab.kernel.accessAllowed ? &#39;block&#39; : &#39;none&#39;;<span class="pl-cce">\n</span><span class="pl-pds">&quot;</span></span>,</div>
                </div>
                <div class="d-flex flex-justify-start flex-items-start">
                  <div class="blob-num blame-blob-num color-bg-subtle js-line-number" id="L285">285</div>
                  <div class="blob-code blob-code-inner js-file-line" id="LC285">              <span class="pl-s"><span class="pl-pds">&quot;</span><span class="pl-cce">\n</span><span class="pl-pds">&quot;</span></span>,</div>
                </div>
                <div class="d-flex flex-justify-start flex-items-start">
                  <div class="blob-num blame-blob-num color-bg-subtle js-line-number" id="L286">286</div>
                  <div class="blob-code blob-code-inner js-file-line" id="LC286">              <span class="pl-s"><span class="pl-pds">&quot;</span>        async function convertToInteractive(key) {<span class="pl-cce">\n</span><span class="pl-pds">&quot;</span></span>,</div>
                </div>
                <div class="d-flex flex-justify-start flex-items-start">
                  <div class="blob-num blame-blob-num color-bg-subtle js-line-number" id="L287">287</div>
                  <div class="blob-code blob-code-inner js-file-line" id="LC287">              <span class="pl-s"><span class="pl-pds">&quot;</span>          const element = document.querySelector(&#39;#df-ad3727fb-cf15-41b1-9035-1cc2b182e933&#39;);<span class="pl-cce">\n</span><span class="pl-pds">&quot;</span></span>,</div>
                </div>
                <div class="d-flex flex-justify-start flex-items-start">
                  <div class="blob-num blame-blob-num color-bg-subtle js-line-number" id="L288">288</div>
                  <div class="blob-code blob-code-inner js-file-line" id="LC288">              <span class="pl-s"><span class="pl-pds">&quot;</span>          const dataTable =<span class="pl-cce">\n</span><span class="pl-pds">&quot;</span></span>,</div>
                </div>
                <div class="d-flex flex-justify-start flex-items-start">
                  <div class="blob-num blame-blob-num color-bg-subtle js-line-number" id="L289">289</div>
                  <div class="blob-code blob-code-inner js-file-line" id="LC289">              <span class="pl-s"><span class="pl-pds">&quot;</span>            await google.colab.kernel.invokeFunction(&#39;convertToInteractive&#39;,<span class="pl-cce">\n</span><span class="pl-pds">&quot;</span></span>,</div>
                </div>
                <div class="d-flex flex-justify-start flex-items-start">
                  <div class="blob-num blame-blob-num color-bg-subtle js-line-number" id="L290">290</div>
                  <div class="blob-code blob-code-inner js-file-line" id="LC290">              <span class="pl-s"><span class="pl-pds">&quot;</span>                                                     [key], {});<span class="pl-cce">\n</span><span class="pl-pds">&quot;</span></span>,</div>
                </div>
                <div class="d-flex flex-justify-start flex-items-start">
                  <div class="blob-num blame-blob-num color-bg-subtle js-line-number" id="L291">291</div>
                  <div class="blob-code blob-code-inner js-file-line" id="LC291">              <span class="pl-s"><span class="pl-pds">&quot;</span>          if (!dataTable) return;<span class="pl-cce">\n</span><span class="pl-pds">&quot;</span></span>,</div>
                </div>
                <div class="d-flex flex-justify-start flex-items-start">
                  <div class="blob-num blame-blob-num color-bg-subtle js-line-number" id="L292">292</div>
                  <div class="blob-code blob-code-inner js-file-line" id="LC292">              <span class="pl-s"><span class="pl-pds">&quot;</span><span class="pl-cce">\n</span><span class="pl-pds">&quot;</span></span>,</div>
                </div>
                <div class="d-flex flex-justify-start flex-items-start">
                  <div class="blob-num blame-blob-num color-bg-subtle js-line-number" id="L293">293</div>
                  <div class="blob-code blob-code-inner js-file-line" id="LC293">              <span class="pl-s"><span class="pl-pds">&quot;</span>          const docLinkHtml = &#39;Like what you see? Visit the &#39; +<span class="pl-cce">\n</span><span class="pl-pds">&quot;</span></span>,</div>
                </div>
                <div class="d-flex flex-justify-start flex-items-start">
                  <div class="blob-num blame-blob-num color-bg-subtle js-line-number" id="L294">294</div>
                  <div class="blob-code blob-code-inner js-file-line" id="LC294">              <span class="pl-s"><span class="pl-pds">&quot;</span>            &#39;&lt;a target=<span class="pl-cce">\&quot;</span>_blank<span class="pl-cce">\&quot;</span> href=https://colab.research.google.com/notebooks/data_table.ipynb&gt;data table notebook&lt;/a&gt;&#39;<span class="pl-cce">\n</span><span class="pl-pds">&quot;</span></span>,</div>
                </div>
                <div class="d-flex flex-justify-start flex-items-start">
                  <div class="blob-num blame-blob-num color-bg-subtle js-line-number" id="L295">295</div>
                  <div class="blob-code blob-code-inner js-file-line" id="LC295">              <span class="pl-s"><span class="pl-pds">&quot;</span>            + &#39; to learn more about interactive tables.&#39;;<span class="pl-cce">\n</span><span class="pl-pds">&quot;</span></span>,</div>
                </div>
                <div class="d-flex flex-justify-start flex-items-start">
                  <div class="blob-num blame-blob-num color-bg-subtle js-line-number" id="L296">296</div>
                  <div class="blob-code blob-code-inner js-file-line" id="LC296">              <span class="pl-s"><span class="pl-pds">&quot;</span>          element.innerHTML = &#39;&#39;;<span class="pl-cce">\n</span><span class="pl-pds">&quot;</span></span>,</div>
                </div>
                <div class="d-flex flex-justify-start flex-items-start">
                  <div class="blob-num blame-blob-num color-bg-subtle js-line-number" id="L297">297</div>
                  <div class="blob-code blob-code-inner js-file-line" id="LC297">              <span class="pl-s"><span class="pl-pds">&quot;</span>          dataTable[&#39;output_type&#39;] = &#39;display_data&#39;;<span class="pl-cce">\n</span><span class="pl-pds">&quot;</span></span>,</div>
                </div>
                <div class="d-flex flex-justify-start flex-items-start">
                  <div class="blob-num blame-blob-num color-bg-subtle js-line-number" id="L298">298</div>
                  <div class="blob-code blob-code-inner js-file-line" id="LC298">              <span class="pl-s"><span class="pl-pds">&quot;</span>          await google.colab.output.renderOutput(dataTable, element);<span class="pl-cce">\n</span><span class="pl-pds">&quot;</span></span>,</div>
                </div>
                <div class="d-flex flex-justify-start flex-items-start">
                  <div class="blob-num blame-blob-num color-bg-subtle js-line-number" id="L299">299</div>
                  <div class="blob-code blob-code-inner js-file-line" id="LC299">              <span class="pl-s"><span class="pl-pds">&quot;</span>          const docLink = document.createElement(&#39;div&#39;);<span class="pl-cce">\n</span><span class="pl-pds">&quot;</span></span>,</div>
                </div>
                <div class="d-flex flex-justify-start flex-items-start">
                  <div class="blob-num blame-blob-num color-bg-subtle js-line-number" id="L300">300</div>
                  <div class="blob-code blob-code-inner js-file-line" id="LC300">              <span class="pl-s"><span class="pl-pds">&quot;</span>          docLink.innerHTML = docLinkHtml;<span class="pl-cce">\n</span><span class="pl-pds">&quot;</span></span>,</div>
                </div>
                <div class="d-flex flex-justify-start flex-items-start">
                  <div class="blob-num blame-blob-num color-bg-subtle js-line-number" id="L301">301</div>
                  <div class="blob-code blob-code-inner js-file-line" id="LC301">              <span class="pl-s"><span class="pl-pds">&quot;</span>          element.appendChild(docLink);<span class="pl-cce">\n</span><span class="pl-pds">&quot;</span></span>,</div>
                </div>
                <div class="d-flex flex-justify-start flex-items-start">
                  <div class="blob-num blame-blob-num color-bg-subtle js-line-number" id="L302">302</div>
                  <div class="blob-code blob-code-inner js-file-line" id="LC302">              <span class="pl-s"><span class="pl-pds">&quot;</span>        }<span class="pl-cce">\n</span><span class="pl-pds">&quot;</span></span>,</div>
                </div>
                <div class="d-flex flex-justify-start flex-items-start">
                  <div class="blob-num blame-blob-num color-bg-subtle js-line-number" id="L303">303</div>
                  <div class="blob-code blob-code-inner js-file-line" id="LC303">              <span class="pl-s"><span class="pl-pds">&quot;</span>      &lt;/script&gt;<span class="pl-cce">\n</span><span class="pl-pds">&quot;</span></span>,</div>
                </div>
                <div class="d-flex flex-justify-start flex-items-start">
                  <div class="blob-num blame-blob-num color-bg-subtle js-line-number" id="L304">304</div>
                  <div class="blob-code blob-code-inner js-file-line" id="LC304">              <span class="pl-s"><span class="pl-pds">&quot;</span>    &lt;/div&gt;<span class="pl-cce">\n</span><span class="pl-pds">&quot;</span></span>,</div>
                </div>
                <div class="d-flex flex-justify-start flex-items-start">
                  <div class="blob-num blame-blob-num color-bg-subtle js-line-number" id="L305">305</div>
                  <div class="blob-code blob-code-inner js-file-line" id="LC305">              <span class="pl-s"><span class="pl-pds">&quot;</span>  &lt;/div&gt;<span class="pl-cce">\n</span><span class="pl-pds">&quot;</span></span>,</div>
                </div>
                <div class="d-flex flex-justify-start flex-items-start">
                  <div class="blob-num blame-blob-num color-bg-subtle js-line-number" id="L306">306</div>
                  <div class="blob-code blob-code-inner js-file-line" id="LC306">              <span class="pl-s"><span class="pl-pds">&quot;</span>  <span class="pl-pds">&quot;</span></span></div>
                </div>
                <div class="d-flex flex-justify-start flex-items-start">
                  <div class="blob-num blame-blob-num color-bg-subtle js-line-number" id="L307">307</div>
                  <div class="blob-code blob-code-inner js-file-line" id="LC307">            ]</div>
                </div>
                <div class="d-flex flex-justify-start flex-items-start">
                  <div class="blob-num blame-blob-num color-bg-subtle js-line-number" id="L308">308</div>
                  <div class="blob-code blob-code-inner js-file-line" id="LC308">          },</div>
                </div>
                <div class="d-flex flex-justify-start flex-items-start">
                  <div class="blob-num blame-blob-num color-bg-subtle js-line-number" id="L309">309</div>
                  <div class="blob-code blob-code-inner js-file-line" id="LC309">          <span class="pl-ent">&quot;metadata&quot;</span>: {},</div>
                </div>
                <div class="d-flex flex-justify-start flex-items-start">
                  <div class="blob-num blame-blob-num color-bg-subtle js-line-number" id="L310">310</div>
                  <div class="blob-code blob-code-inner js-file-line" id="LC310">          <span class="pl-ent">&quot;execution_count&quot;</span>: <span class="pl-c1">9</span></div>
                </div>
                <div class="d-flex flex-justify-start flex-items-start">
                  <div class="blob-num blame-blob-num color-bg-subtle js-line-number" id="L311">311</div>
                  <div class="blob-code blob-code-inner js-file-line" id="LC311">        }</div>
                </div>
                <div class="d-flex flex-justify-start flex-items-start">
                  <div class="blob-num blame-blob-num color-bg-subtle js-line-number" id="L312">312</div>
                  <div class="blob-code blob-code-inner js-file-line" id="LC312">      ]</div>
                </div>
                <div class="d-flex flex-justify-start flex-items-start">
                  <div class="blob-num blame-blob-num color-bg-subtle js-line-number" id="L313">313</div>
                  <div class="blob-code blob-code-inner js-file-line" id="LC313">    },</div>
                </div>
                <div class="d-flex flex-justify-start flex-items-start">
                  <div class="blob-num blame-blob-num color-bg-subtle js-line-number" id="L314">314</div>
                  <div class="blob-code blob-code-inner js-file-line" id="LC314">    {</div>
                </div>
                <div class="d-flex flex-justify-start flex-items-start">
                  <div class="blob-num blame-blob-num color-bg-subtle js-line-number" id="L315">315</div>
                  <div class="blob-code blob-code-inner js-file-line" id="LC315">      <span class="pl-ent">&quot;cell_type&quot;</span>: <span class="pl-s"><span class="pl-pds">&quot;</span>code<span class="pl-pds">&quot;</span></span>,</div>
                </div>
                <div class="d-flex flex-justify-start flex-items-start">
                  <div class="blob-num blame-blob-num color-bg-subtle js-line-number" id="L316">316</div>
                  <div class="blob-code blob-code-inner js-file-line" id="LC316">      <span class="pl-ent">&quot;source&quot;</span>: [</div>
                </div>
                <div class="d-flex flex-justify-start flex-items-start">
                  <div class="blob-num blame-blob-num color-bg-subtle js-line-number" id="L317">317</div>
                  <div class="blob-code blob-code-inner js-file-line" id="LC317">        <span class="pl-s"><span class="pl-pds">&quot;</span>centerinfo.head()<span class="pl-pds">&quot;</span></span></div>
                </div>
                <div class="d-flex flex-justify-start flex-items-start">
                  <div class="blob-num blame-blob-num color-bg-subtle js-line-number" id="L318">318</div>
                  <div class="blob-code blob-code-inner js-file-line" id="LC318">      ],</div>
                </div>
                <div class="d-flex flex-justify-start flex-items-start">
                  <div class="blob-num blame-blob-num color-bg-subtle js-line-number" id="L319">319</div>
                  <div class="blob-code blob-code-inner js-file-line" id="LC319">      <span class="pl-ent">&quot;metadata&quot;</span>: {</div>
                </div>
                <div class="d-flex flex-justify-start flex-items-start">
                  <div class="blob-num blame-blob-num color-bg-subtle js-line-number" id="L320">320</div>
                  <div class="blob-code blob-code-inner js-file-line" id="LC320">        <span class="pl-ent">&quot;colab&quot;</span>: {</div>
                </div>
                <div class="d-flex flex-justify-start flex-items-start">
                  <div class="blob-num blame-blob-num color-bg-subtle js-line-number" id="L321">321</div>
                  <div class="blob-code blob-code-inner js-file-line" id="LC321">          <span class="pl-ent">&quot;base_uri&quot;</span>: <span class="pl-s"><span class="pl-pds">&quot;</span>https://localhost:8080/<span class="pl-pds">&quot;</span></span>,</div>
                </div>
                <div class="d-flex flex-justify-start flex-items-start">
                  <div class="blob-num blame-blob-num color-bg-subtle js-line-number" id="L322">322</div>
                  <div class="blob-code blob-code-inner js-file-line" id="LC322">          <span class="pl-ent">&quot;height&quot;</span>: <span class="pl-c1">206</span></div>
                </div>
                <div class="d-flex flex-justify-start flex-items-start">
                  <div class="blob-num blame-blob-num color-bg-subtle js-line-number" id="L323">323</div>
                  <div class="blob-code blob-code-inner js-file-line" id="LC323">        },</div>
                </div>
                <div class="d-flex flex-justify-start flex-items-start">
                  <div class="blob-num blame-blob-num color-bg-subtle js-line-number" id="L324">324</div>
                  <div class="blob-code blob-code-inner js-file-line" id="LC324">        <span class="pl-ent">&quot;id&quot;</span>: <span class="pl-s"><span class="pl-pds">&quot;</span>swyCe2qC-j8x<span class="pl-pds">&quot;</span></span>,</div>
                </div>
                <div class="d-flex flex-justify-start flex-items-start">
                  <div class="blob-num blame-blob-num color-bg-subtle js-line-number" id="L325">325</div>
                  <div class="blob-code blob-code-inner js-file-line" id="LC325">        <span class="pl-ent">&quot;outputId&quot;</span>: <span class="pl-s"><span class="pl-pds">&quot;</span>86846951-4f42-431a-cb9f-8e0d0b2528e0<span class="pl-pds">&quot;</span></span></div>
                </div>
                <div class="d-flex flex-justify-start flex-items-start">
                  <div class="blob-num blame-blob-num color-bg-subtle js-line-number" id="L326">326</div>
                  <div class="blob-code blob-code-inner js-file-line" id="LC326">      },</div>
                </div>
                <div class="d-flex flex-justify-start flex-items-start">
                  <div class="blob-num blame-blob-num color-bg-subtle js-line-number" id="L327">327</div>
                  <div class="blob-code blob-code-inner js-file-line" id="LC327">      <span class="pl-ent">&quot;execution_count&quot;</span>: <span class="pl-c1">10</span>,</div>
                </div>
                <div class="d-flex flex-justify-start flex-items-start">
                  <div class="blob-num blame-blob-num color-bg-subtle js-line-number" id="L328">328</div>
                  <div class="blob-code blob-code-inner js-file-line" id="LC328">      <span class="pl-ent">&quot;outputs&quot;</span>: [</div>
                </div>
                <div class="d-flex flex-justify-start flex-items-start">
                  <div class="blob-num blame-blob-num color-bg-subtle js-line-number" id="L329">329</div>
                  <div class="blob-code blob-code-inner js-file-line" id="LC329">        {</div>
                </div>
                <div class="d-flex flex-justify-start flex-items-start">
                  <div class="blob-num blame-blob-num color-bg-subtle js-line-number" id="L330">330</div>
                  <div class="blob-code blob-code-inner js-file-line" id="LC330">          <span class="pl-ent">&quot;output_type&quot;</span>: <span class="pl-s"><span class="pl-pds">&quot;</span>execute_result<span class="pl-pds">&quot;</span></span>,</div>
                </div>
                <div class="d-flex flex-justify-start flex-items-start">
                  <div class="blob-num blame-blob-num color-bg-subtle js-line-number" id="L331">331</div>
                  <div class="blob-code blob-code-inner js-file-line" id="LC331">          <span class="pl-ent">&quot;data&quot;</span>: {</div>
                </div>
                <div class="d-flex flex-justify-start flex-items-start">
                  <div class="blob-num blame-blob-num color-bg-subtle js-line-number" id="L332">332</div>
                  <div class="blob-code blob-code-inner js-file-line" id="LC332">            <span class="pl-ent">&quot;text/plain&quot;</span>: [</div>
                </div>
                <div class="d-flex flex-justify-start flex-items-start">
                  <div class="blob-num blame-blob-num color-bg-subtle js-line-number" id="L333">333</div>
                  <div class="blob-code blob-code-inner js-file-line" id="LC333">              <span class="pl-s"><span class="pl-pds">&quot;</span>   center_id  city_code  region_code center_type  op_area<span class="pl-cce">\n</span><span class="pl-pds">&quot;</span></span>,</div>
                </div>
                <div class="d-flex flex-justify-start flex-items-start">
                  <div class="blob-num blame-blob-num color-bg-subtle js-line-number" id="L334">334</div>
                  <div class="blob-code blob-code-inner js-file-line" id="LC334">              <span class="pl-s"><span class="pl-pds">&quot;</span>0         11        679           56      TYPE_A      3.7<span class="pl-cce">\n</span><span class="pl-pds">&quot;</span></span>,</div>
                </div>
                <div class="d-flex flex-justify-start flex-items-start">
                  <div class="blob-num blame-blob-num color-bg-subtle js-line-number" id="L335">335</div>
                  <div class="blob-code blob-code-inner js-file-line" id="LC335">              <span class="pl-s"><span class="pl-pds">&quot;</span>1         13        590           56      TYPE_B      6.7<span class="pl-cce">\n</span><span class="pl-pds">&quot;</span></span>,</div>
                </div>
                <div class="d-flex flex-justify-start flex-items-start">
                  <div class="blob-num blame-blob-num color-bg-subtle js-line-number" id="L336">336</div>
                  <div class="blob-code blob-code-inner js-file-line" id="LC336">              <span class="pl-s"><span class="pl-pds">&quot;</span>2        124        590           56      TYPE_C      4.0<span class="pl-cce">\n</span><span class="pl-pds">&quot;</span></span>,</div>
                </div>
                <div class="d-flex flex-justify-start flex-items-start">
                  <div class="blob-num blame-blob-num color-bg-subtle js-line-number" id="L337">337</div>
                  <div class="blob-code blob-code-inner js-file-line" id="LC337">              <span class="pl-s"><span class="pl-pds">&quot;</span>3         66        648           34      TYPE_A      4.1<span class="pl-cce">\n</span><span class="pl-pds">&quot;</span></span>,</div>
                </div>
                <div class="d-flex flex-justify-start flex-items-start">
                  <div class="blob-num blame-blob-num color-bg-subtle js-line-number" id="L338">338</div>
                  <div class="blob-code blob-code-inner js-file-line" id="LC338">              <span class="pl-s"><span class="pl-pds">&quot;</span>4         94        632           34      TYPE_C      3.6<span class="pl-pds">&quot;</span></span></div>
                </div>
                <div class="d-flex flex-justify-start flex-items-start">
                  <div class="blob-num blame-blob-num color-bg-subtle js-line-number" id="L339">339</div>
                  <div class="blob-code blob-code-inner js-file-line" id="LC339">            ],</div>
                </div>
                <div class="d-flex flex-justify-start flex-items-start">
                  <div class="blob-num blame-blob-num color-bg-subtle js-line-number" id="L340">340</div>
                  <div class="blob-code blob-code-inner js-file-line" id="LC340">            <span class="pl-ent">&quot;text/html&quot;</span>: [</div>
                </div>
                <div class="d-flex flex-justify-start flex-items-start">
                  <div class="blob-num blame-blob-num color-bg-subtle js-line-number" id="L341">341</div>
                  <div class="blob-code blob-code-inner js-file-line" id="LC341">              <span class="pl-s"><span class="pl-pds">&quot;</span><span class="pl-cce">\n</span><span class="pl-pds">&quot;</span></span>,</div>
                </div>
                <div class="d-flex flex-justify-start flex-items-start">
                  <div class="blob-num blame-blob-num color-bg-subtle js-line-number" id="L342">342</div>
                  <div class="blob-code blob-code-inner js-file-line" id="LC342">              <span class="pl-s"><span class="pl-pds">&quot;</span>  &lt;div id=<span class="pl-cce">\&quot;</span>df-d7479233-c1e8-4669-a010-341ac81b5e53<span class="pl-cce">\&quot;</span>&gt;<span class="pl-cce">\n</span><span class="pl-pds">&quot;</span></span>,</div>
                </div>
                <div class="d-flex flex-justify-start flex-items-start">
                  <div class="blob-num blame-blob-num color-bg-subtle js-line-number" id="L343">343</div>
                  <div class="blob-code blob-code-inner js-file-line" id="LC343">              <span class="pl-s"><span class="pl-pds">&quot;</span>    &lt;div class=<span class="pl-cce">\&quot;</span>colab-df-container<span class="pl-cce">\&quot;</span>&gt;<span class="pl-cce">\n</span><span class="pl-pds">&quot;</span></span>,</div>
                </div>
                <div class="d-flex flex-justify-start flex-items-start">
                  <div class="blob-num blame-blob-num color-bg-subtle js-line-number" id="L344">344</div>
                  <div class="blob-code blob-code-inner js-file-line" id="LC344">              <span class="pl-s"><span class="pl-pds">&quot;</span>      &lt;div&gt;<span class="pl-cce">\n</span><span class="pl-pds">&quot;</span></span>,</div>
                </div>
                <div class="d-flex flex-justify-start flex-items-start">
                  <div class="blob-num blame-blob-num color-bg-subtle js-line-number" id="L345">345</div>
                  <div class="blob-code blob-code-inner js-file-line" id="LC345">              <span class="pl-s"><span class="pl-pds">&quot;</span>&lt;style scoped&gt;<span class="pl-cce">\n</span><span class="pl-pds">&quot;</span></span>,</div>
                </div>
                <div class="d-flex flex-justify-start flex-items-start">
                  <div class="blob-num blame-blob-num color-bg-subtle js-line-number" id="L346">346</div>
                  <div class="blob-code blob-code-inner js-file-line" id="LC346">              <span class="pl-s"><span class="pl-pds">&quot;</span>    .dataframe tbody tr th:only-of-type {<span class="pl-cce">\n</span><span class="pl-pds">&quot;</span></span>,</div>
                </div>
                <div class="d-flex flex-justify-start flex-items-start">
                  <div class="blob-num blame-blob-num color-bg-subtle js-line-number" id="L347">347</div>
                  <div class="blob-code blob-code-inner js-file-line" id="LC347">              <span class="pl-s"><span class="pl-pds">&quot;</span>        vertical-align: middle;<span class="pl-cce">\n</span><span class="pl-pds">&quot;</span></span>,</div>
                </div>
                <div class="d-flex flex-justify-start flex-items-start">
                  <div class="blob-num blame-blob-num color-bg-subtle js-line-number" id="L348">348</div>
                  <div class="blob-code blob-code-inner js-file-line" id="LC348">              <span class="pl-s"><span class="pl-pds">&quot;</span>    }<span class="pl-cce">\n</span><span class="pl-pds">&quot;</span></span>,</div>
                </div>
                <div class="d-flex flex-justify-start flex-items-start">
                  <div class="blob-num blame-blob-num color-bg-subtle js-line-number" id="L349">349</div>
                  <div class="blob-code blob-code-inner js-file-line" id="LC349">              <span class="pl-s"><span class="pl-pds">&quot;</span><span class="pl-cce">\n</span><span class="pl-pds">&quot;</span></span>,</div>
                </div>
                <div class="d-flex flex-justify-start flex-items-start">
                  <div class="blob-num blame-blob-num color-bg-subtle js-line-number" id="L350">350</div>
                  <div class="blob-code blob-code-inner js-file-line" id="LC350">              <span class="pl-s"><span class="pl-pds">&quot;</span>    .dataframe tbody tr th {<span class="pl-cce">\n</span><span class="pl-pds">&quot;</span></span>,</div>
                </div>
                <div class="d-flex flex-justify-start flex-items-start">
                  <div class="blob-num blame-blob-num color-bg-subtle js-line-number" id="L351">351</div>
                  <div class="blob-code blob-code-inner js-file-line" id="LC351">              <span class="pl-s"><span class="pl-pds">&quot;</span>        vertical-align: top;<span class="pl-cce">\n</span><span class="pl-pds">&quot;</span></span>,</div>
                </div>
                <div class="d-flex flex-justify-start flex-items-start">
                  <div class="blob-num blame-blob-num color-bg-subtle js-line-number" id="L352">352</div>
                  <div class="blob-code blob-code-inner js-file-line" id="LC352">              <span class="pl-s"><span class="pl-pds">&quot;</span>    }<span class="pl-cce">\n</span><span class="pl-pds">&quot;</span></span>,</div>
                </div>
                <div class="d-flex flex-justify-start flex-items-start">
                  <div class="blob-num blame-blob-num color-bg-subtle js-line-number" id="L353">353</div>
                  <div class="blob-code blob-code-inner js-file-line" id="LC353">              <span class="pl-s"><span class="pl-pds">&quot;</span><span class="pl-cce">\n</span><span class="pl-pds">&quot;</span></span>,</div>
                </div>
                <div class="d-flex flex-justify-start flex-items-start">
                  <div class="blob-num blame-blob-num color-bg-subtle js-line-number" id="L354">354</div>
                  <div class="blob-code blob-code-inner js-file-line" id="LC354">              <span class="pl-s"><span class="pl-pds">&quot;</span>    .dataframe thead th {<span class="pl-cce">\n</span><span class="pl-pds">&quot;</span></span>,</div>
                </div>
                <div class="d-flex flex-justify-start flex-items-start">
                  <div class="blob-num blame-blob-num color-bg-subtle js-line-number" id="L355">355</div>
                  <div class="blob-code blob-code-inner js-file-line" id="LC355">              <span class="pl-s"><span class="pl-pds">&quot;</span>        text-align: right;<span class="pl-cce">\n</span><span class="pl-pds">&quot;</span></span>,</div>
                </div>
                <div class="d-flex flex-justify-start flex-items-start">
                  <div class="blob-num blame-blob-num color-bg-subtle js-line-number" id="L356">356</div>
                  <div class="blob-code blob-code-inner js-file-line" id="LC356">              <span class="pl-s"><span class="pl-pds">&quot;</span>    }<span class="pl-cce">\n</span><span class="pl-pds">&quot;</span></span>,</div>
                </div>
                <div class="d-flex flex-justify-start flex-items-start">
                  <div class="blob-num blame-blob-num color-bg-subtle js-line-number" id="L357">357</div>
                  <div class="blob-code blob-code-inner js-file-line" id="LC357">              <span class="pl-s"><span class="pl-pds">&quot;</span>&lt;/style&gt;<span class="pl-cce">\n</span><span class="pl-pds">&quot;</span></span>,</div>
                </div>
                <div class="d-flex flex-justify-start flex-items-start">
                  <div class="blob-num blame-blob-num color-bg-subtle js-line-number" id="L358">358</div>
                  <div class="blob-code blob-code-inner js-file-line" id="LC358">              <span class="pl-s"><span class="pl-pds">&quot;</span>&lt;table border=<span class="pl-cce">\&quot;</span>1<span class="pl-cce">\&quot;</span> class=<span class="pl-cce">\&quot;</span>dataframe<span class="pl-cce">\&quot;</span>&gt;<span class="pl-cce">\n</span><span class="pl-pds">&quot;</span></span>,</div>
                </div>
                <div class="d-flex flex-justify-start flex-items-start">
                  <div class="blob-num blame-blob-num color-bg-subtle js-line-number" id="L359">359</div>
                  <div class="blob-code blob-code-inner js-file-line" id="LC359">              <span class="pl-s"><span class="pl-pds">&quot;</span>  &lt;thead&gt;<span class="pl-cce">\n</span><span class="pl-pds">&quot;</span></span>,</div>
                </div>
                <div class="d-flex flex-justify-start flex-items-start">
                  <div class="blob-num blame-blob-num color-bg-subtle js-line-number" id="L360">360</div>
                  <div class="blob-code blob-code-inner js-file-line" id="LC360">              <span class="pl-s"><span class="pl-pds">&quot;</span>    &lt;tr style=<span class="pl-cce">\&quot;</span>text-align: right;<span class="pl-cce">\&quot;</span>&gt;<span class="pl-cce">\n</span><span class="pl-pds">&quot;</span></span>,</div>
                </div>
                <div class="d-flex flex-justify-start flex-items-start">
                  <div class="blob-num blame-blob-num color-bg-subtle js-line-number" id="L361">361</div>
                  <div class="blob-code blob-code-inner js-file-line" id="LC361">              <span class="pl-s"><span class="pl-pds">&quot;</span>      &lt;th&gt;&lt;/th&gt;<span class="pl-cce">\n</span><span class="pl-pds">&quot;</span></span>,</div>
                </div>
                <div class="d-flex flex-justify-start flex-items-start">
                  <div class="blob-num blame-blob-num color-bg-subtle js-line-number" id="L362">362</div>
                  <div class="blob-code blob-code-inner js-file-line" id="LC362">              <span class="pl-s"><span class="pl-pds">&quot;</span>      &lt;th&gt;center_id&lt;/th&gt;<span class="pl-cce">\n</span><span class="pl-pds">&quot;</span></span>,</div>
                </div>
                <div class="d-flex flex-justify-start flex-items-start">
                  <div class="blob-num blame-blob-num color-bg-subtle js-line-number" id="L363">363</div>
                  <div class="blob-code blob-code-inner js-file-line" id="LC363">              <span class="pl-s"><span class="pl-pds">&quot;</span>      &lt;th&gt;city_code&lt;/th&gt;<span class="pl-cce">\n</span><span class="pl-pds">&quot;</span></span>,</div>
                </div>
                <div class="d-flex flex-justify-start flex-items-start">
                  <div class="blob-num blame-blob-num color-bg-subtle js-line-number" id="L364">364</div>
                  <div class="blob-code blob-code-inner js-file-line" id="LC364">              <span class="pl-s"><span class="pl-pds">&quot;</span>      &lt;th&gt;region_code&lt;/th&gt;<span class="pl-cce">\n</span><span class="pl-pds">&quot;</span></span>,</div>
                </div>
                <div class="d-flex flex-justify-start flex-items-start">
                  <div class="blob-num blame-blob-num color-bg-subtle js-line-number" id="L365">365</div>
                  <div class="blob-code blob-code-inner js-file-line" id="LC365">              <span class="pl-s"><span class="pl-pds">&quot;</span>      &lt;th&gt;center_type&lt;/th&gt;<span class="pl-cce">\n</span><span class="pl-pds">&quot;</span></span>,</div>
                </div>
                <div class="d-flex flex-justify-start flex-items-start">
                  <div class="blob-num blame-blob-num color-bg-subtle js-line-number" id="L366">366</div>
                  <div class="blob-code blob-code-inner js-file-line" id="LC366">              <span class="pl-s"><span class="pl-pds">&quot;</span>      &lt;th&gt;op_area&lt;/th&gt;<span class="pl-cce">\n</span><span class="pl-pds">&quot;</span></span>,</div>
                </div>
                <div class="d-flex flex-justify-start flex-items-start">
                  <div class="blob-num blame-blob-num color-bg-subtle js-line-number" id="L367">367</div>
                  <div class="blob-code blob-code-inner js-file-line" id="LC367">              <span class="pl-s"><span class="pl-pds">&quot;</span>    &lt;/tr&gt;<span class="pl-cce">\n</span><span class="pl-pds">&quot;</span></span>,</div>
                </div>
                <div class="d-flex flex-justify-start flex-items-start">
                  <div class="blob-num blame-blob-num color-bg-subtle js-line-number" id="L368">368</div>
                  <div class="blob-code blob-code-inner js-file-line" id="LC368">              <span class="pl-s"><span class="pl-pds">&quot;</span>  &lt;/thead&gt;<span class="pl-cce">\n</span><span class="pl-pds">&quot;</span></span>,</div>
                </div>
                <div class="d-flex flex-justify-start flex-items-start">
                  <div class="blob-num blame-blob-num color-bg-subtle js-line-number" id="L369">369</div>
                  <div class="blob-code blob-code-inner js-file-line" id="LC369">              <span class="pl-s"><span class="pl-pds">&quot;</span>  &lt;tbody&gt;<span class="pl-cce">\n</span><span class="pl-pds">&quot;</span></span>,</div>
                </div>
                <div class="d-flex flex-justify-start flex-items-start">
                  <div class="blob-num blame-blob-num color-bg-subtle js-line-number" id="L370">370</div>
                  <div class="blob-code blob-code-inner js-file-line" id="LC370">              <span class="pl-s"><span class="pl-pds">&quot;</span>    &lt;tr&gt;<span class="pl-cce">\n</span><span class="pl-pds">&quot;</span></span>,</div>
                </div>
                <div class="d-flex flex-justify-start flex-items-start">
                  <div class="blob-num blame-blob-num color-bg-subtle js-line-number" id="L371">371</div>
                  <div class="blob-code blob-code-inner js-file-line" id="LC371">              <span class="pl-s"><span class="pl-pds">&quot;</span>      &lt;th&gt;0&lt;/th&gt;<span class="pl-cce">\n</span><span class="pl-pds">&quot;</span></span>,</div>
                </div>
                <div class="d-flex flex-justify-start flex-items-start">
                  <div class="blob-num blame-blob-num color-bg-subtle js-line-number" id="L372">372</div>
                  <div class="blob-code blob-code-inner js-file-line" id="LC372">              <span class="pl-s"><span class="pl-pds">&quot;</span>      &lt;td&gt;11&lt;/td&gt;<span class="pl-cce">\n</span><span class="pl-pds">&quot;</span></span>,</div>
                </div>
                <div class="d-flex flex-justify-start flex-items-start">
                  <div class="blob-num blame-blob-num color-bg-subtle js-line-number" id="L373">373</div>
                  <div class="blob-code blob-code-inner js-file-line" id="LC373">              <span class="pl-s"><span class="pl-pds">&quot;</span>      &lt;td&gt;679&lt;/td&gt;<span class="pl-cce">\n</span><span class="pl-pds">&quot;</span></span>,</div>
                </div>
                <div class="d-flex flex-justify-start flex-items-start">
                  <div class="blob-num blame-blob-num color-bg-subtle js-line-number" id="L374">374</div>
                  <div class="blob-code blob-code-inner js-file-line" id="LC374">              <span class="pl-s"><span class="pl-pds">&quot;</span>      &lt;td&gt;56&lt;/td&gt;<span class="pl-cce">\n</span><span class="pl-pds">&quot;</span></span>,</div>
                </div>
                <div class="d-flex flex-justify-start flex-items-start">
                  <div class="blob-num blame-blob-num color-bg-subtle js-line-number" id="L375">375</div>
                  <div class="blob-code blob-code-inner js-file-line" id="LC375">              <span class="pl-s"><span class="pl-pds">&quot;</span>      &lt;td&gt;TYPE_A&lt;/td&gt;<span class="pl-cce">\n</span><span class="pl-pds">&quot;</span></span>,</div>
                </div>
                <div class="d-flex flex-justify-start flex-items-start">
                  <div class="blob-num blame-blob-num color-bg-subtle js-line-number" id="L376">376</div>
                  <div class="blob-code blob-code-inner js-file-line" id="LC376">              <span class="pl-s"><span class="pl-pds">&quot;</span>      &lt;td&gt;3.7&lt;/td&gt;<span class="pl-cce">\n</span><span class="pl-pds">&quot;</span></span>,</div>
                </div>
                <div class="d-flex flex-justify-start flex-items-start">
                  <div class="blob-num blame-blob-num color-bg-subtle js-line-number" id="L377">377</div>
                  <div class="blob-code blob-code-inner js-file-line" id="LC377">              <span class="pl-s"><span class="pl-pds">&quot;</span>    &lt;/tr&gt;<span class="pl-cce">\n</span><span class="pl-pds">&quot;</span></span>,</div>
                </div>
                <div class="d-flex flex-justify-start flex-items-start">
                  <div class="blob-num blame-blob-num color-bg-subtle js-line-number" id="L378">378</div>
                  <div class="blob-code blob-code-inner js-file-line" id="LC378">              <span class="pl-s"><span class="pl-pds">&quot;</span>    &lt;tr&gt;<span class="pl-cce">\n</span><span class="pl-pds">&quot;</span></span>,</div>
                </div>
                <div class="d-flex flex-justify-start flex-items-start">
                  <div class="blob-num blame-blob-num color-bg-subtle js-line-number" id="L379">379</div>
                  <div class="blob-code blob-code-inner js-file-line" id="LC379">              <span class="pl-s"><span class="pl-pds">&quot;</span>      &lt;th&gt;1&lt;/th&gt;<span class="pl-cce">\n</span><span class="pl-pds">&quot;</span></span>,</div>
                </div>
                <div class="d-flex flex-justify-start flex-items-start">
                  <div class="blob-num blame-blob-num color-bg-subtle js-line-number" id="L380">380</div>
                  <div class="blob-code blob-code-inner js-file-line" id="LC380">              <span class="pl-s"><span class="pl-pds">&quot;</span>      &lt;td&gt;13&lt;/td&gt;<span class="pl-cce">\n</span><span class="pl-pds">&quot;</span></span>,</div>
                </div>
                <div class="d-flex flex-justify-start flex-items-start">
                  <div class="blob-num blame-blob-num color-bg-subtle js-line-number" id="L381">381</div>
                  <div class="blob-code blob-code-inner js-file-line" id="LC381">              <span class="pl-s"><span class="pl-pds">&quot;</span>      &lt;td&gt;590&lt;/td&gt;<span class="pl-cce">\n</span><span class="pl-pds">&quot;</span></span>,</div>
                </div>
                <div class="d-flex flex-justify-start flex-items-start">
                  <div class="blob-num blame-blob-num color-bg-subtle js-line-number" id="L382">382</div>
                  <div class="blob-code blob-code-inner js-file-line" id="LC382">              <span class="pl-s"><span class="pl-pds">&quot;</span>      &lt;td&gt;56&lt;/td&gt;<span class="pl-cce">\n</span><span class="pl-pds">&quot;</span></span>,</div>
                </div>
                <div class="d-flex flex-justify-start flex-items-start">
                  <div class="blob-num blame-blob-num color-bg-subtle js-line-number" id="L383">383</div>
                  <div class="blob-code blob-code-inner js-file-line" id="LC383">              <span class="pl-s"><span class="pl-pds">&quot;</span>      &lt;td&gt;TYPE_B&lt;/td&gt;<span class="pl-cce">\n</span><span class="pl-pds">&quot;</span></span>,</div>
                </div>
                <div class="d-flex flex-justify-start flex-items-start">
                  <div class="blob-num blame-blob-num color-bg-subtle js-line-number" id="L384">384</div>
                  <div class="blob-code blob-code-inner js-file-line" id="LC384">              <span class="pl-s"><span class="pl-pds">&quot;</span>      &lt;td&gt;6.7&lt;/td&gt;<span class="pl-cce">\n</span><span class="pl-pds">&quot;</span></span>,</div>
                </div>
                <div class="d-flex flex-justify-start flex-items-start">
                  <div class="blob-num blame-blob-num color-bg-subtle js-line-number" id="L385">385</div>
                  <div class="blob-code blob-code-inner js-file-line" id="LC385">              <span class="pl-s"><span class="pl-pds">&quot;</span>    &lt;/tr&gt;<span class="pl-cce">\n</span><span class="pl-pds">&quot;</span></span>,</div>
                </div>
                <div class="d-flex flex-justify-start flex-items-start">
                  <div class="blob-num blame-blob-num color-bg-subtle js-line-number" id="L386">386</div>
                  <div class="blob-code blob-code-inner js-file-line" id="LC386">              <span class="pl-s"><span class="pl-pds">&quot;</span>    &lt;tr&gt;<span class="pl-cce">\n</span><span class="pl-pds">&quot;</span></span>,</div>
                </div>
                <div class="d-flex flex-justify-start flex-items-start">
                  <div class="blob-num blame-blob-num color-bg-subtle js-line-number" id="L387">387</div>
                  <div class="blob-code blob-code-inner js-file-line" id="LC387">              <span class="pl-s"><span class="pl-pds">&quot;</span>      &lt;th&gt;2&lt;/th&gt;<span class="pl-cce">\n</span><span class="pl-pds">&quot;</span></span>,</div>
                </div>
                <div class="d-flex flex-justify-start flex-items-start">
                  <div class="blob-num blame-blob-num color-bg-subtle js-line-number" id="L388">388</div>
                  <div class="blob-code blob-code-inner js-file-line" id="LC388">              <span class="pl-s"><span class="pl-pds">&quot;</span>      &lt;td&gt;124&lt;/td&gt;<span class="pl-cce">\n</span><span class="pl-pds">&quot;</span></span>,</div>
                </div>
                <div class="d-flex flex-justify-start flex-items-start">
                  <div class="blob-num blame-blob-num color-bg-subtle js-line-number" id="L389">389</div>
                  <div class="blob-code blob-code-inner js-file-line" id="LC389">              <span class="pl-s"><span class="pl-pds">&quot;</span>      &lt;td&gt;590&lt;/td&gt;<span class="pl-cce">\n</span><span class="pl-pds">&quot;</span></span>,</div>
                </div>
                <div class="d-flex flex-justify-start flex-items-start">
                  <div class="blob-num blame-blob-num color-bg-subtle js-line-number" id="L390">390</div>
                  <div class="blob-code blob-code-inner js-file-line" id="LC390">              <span class="pl-s"><span class="pl-pds">&quot;</span>      &lt;td&gt;56&lt;/td&gt;<span class="pl-cce">\n</span><span class="pl-pds">&quot;</span></span>,</div>
                </div>
                <div class="d-flex flex-justify-start flex-items-start">
                  <div class="blob-num blame-blob-num color-bg-subtle js-line-number" id="L391">391</div>
                  <div class="blob-code blob-code-inner js-file-line" id="LC391">              <span class="pl-s"><span class="pl-pds">&quot;</span>      &lt;td&gt;TYPE_C&lt;/td&gt;<span class="pl-cce">\n</span><span class="pl-pds">&quot;</span></span>,</div>
                </div>
                <div class="d-flex flex-justify-start flex-items-start">
                  <div class="blob-num blame-blob-num color-bg-subtle js-line-number" id="L392">392</div>
                  <div class="blob-code blob-code-inner js-file-line" id="LC392">              <span class="pl-s"><span class="pl-pds">&quot;</span>      &lt;td&gt;4.0&lt;/td&gt;<span class="pl-cce">\n</span><span class="pl-pds">&quot;</span></span>,</div>
                </div>
                <div class="d-flex flex-justify-start flex-items-start">
                  <div class="blob-num blame-blob-num color-bg-subtle js-line-number" id="L393">393</div>
                  <div class="blob-code blob-code-inner js-file-line" id="LC393">              <span class="pl-s"><span class="pl-pds">&quot;</span>    &lt;/tr&gt;<span class="pl-cce">\n</span><span class="pl-pds">&quot;</span></span>,</div>
                </div>
                <div class="d-flex flex-justify-start flex-items-start">
                  <div class="blob-num blame-blob-num color-bg-subtle js-line-number" id="L394">394</div>
                  <div class="blob-code blob-code-inner js-file-line" id="LC394">              <span class="pl-s"><span class="pl-pds">&quot;</span>    &lt;tr&gt;<span class="pl-cce">\n</span><span class="pl-pds">&quot;</span></span>,</div>
                </div>
                <div class="d-flex flex-justify-start flex-items-start">
                  <div class="blob-num blame-blob-num color-bg-subtle js-line-number" id="L395">395</div>
                  <div class="blob-code blob-code-inner js-file-line" id="LC395">              <span class="pl-s"><span class="pl-pds">&quot;</span>      &lt;th&gt;3&lt;/th&gt;<span class="pl-cce">\n</span><span class="pl-pds">&quot;</span></span>,</div>
                </div>
                <div class="d-flex flex-justify-start flex-items-start">
                  <div class="blob-num blame-blob-num color-bg-subtle js-line-number" id="L396">396</div>
                  <div class="blob-code blob-code-inner js-file-line" id="LC396">              <span class="pl-s"><span class="pl-pds">&quot;</span>      &lt;td&gt;66&lt;/td&gt;<span class="pl-cce">\n</span><span class="pl-pds">&quot;</span></span>,</div>
                </div>
                <div class="d-flex flex-justify-start flex-items-start">
                  <div class="blob-num blame-blob-num color-bg-subtle js-line-number" id="L397">397</div>
                  <div class="blob-code blob-code-inner js-file-line" id="LC397">              <span class="pl-s"><span class="pl-pds">&quot;</span>      &lt;td&gt;648&lt;/td&gt;<span class="pl-cce">\n</span><span class="pl-pds">&quot;</span></span>,</div>
                </div>
                <div class="d-flex flex-justify-start flex-items-start">
                  <div class="blob-num blame-blob-num color-bg-subtle js-line-number" id="L398">398</div>
                  <div class="blob-code blob-code-inner js-file-line" id="LC398">              <span class="pl-s"><span class="pl-pds">&quot;</span>      &lt;td&gt;34&lt;/td&gt;<span class="pl-cce">\n</span><span class="pl-pds">&quot;</span></span>,</div>
                </div>
                <div class="d-flex flex-justify-start flex-items-start">
                  <div class="blob-num blame-blob-num color-bg-subtle js-line-number" id="L399">399</div>
                  <div class="blob-code blob-code-inner js-file-line" id="LC399">              <span class="pl-s"><span class="pl-pds">&quot;</span>      &lt;td&gt;TYPE_A&lt;/td&gt;<span class="pl-cce">\n</span><span class="pl-pds">&quot;</span></span>,</div>
                </div>
                <div class="d-flex flex-justify-start flex-items-start">
                  <div class="blob-num blame-blob-num color-bg-subtle js-line-number" id="L400">400</div>
                  <div class="blob-code blob-code-inner js-file-line" id="LC400">              <span class="pl-s"><span class="pl-pds">&quot;</span>      &lt;td&gt;4.1&lt;/td&gt;<span class="pl-cce">\n</span><span class="pl-pds">&quot;</span></span>,</div>
                </div>
                <div class="d-flex flex-justify-start flex-items-start">
                  <div class="blob-num blame-blob-num color-bg-subtle js-line-number" id="L401">401</div>
                  <div class="blob-code blob-code-inner js-file-line" id="LC401">              <span class="pl-s"><span class="pl-pds">&quot;</span>    &lt;/tr&gt;<span class="pl-cce">\n</span><span class="pl-pds">&quot;</span></span>,</div>
                </div>
                <div class="d-flex flex-justify-start flex-items-start">
                  <div class="blob-num blame-blob-num color-bg-subtle js-line-number" id="L402">402</div>
                  <div class="blob-code blob-code-inner js-file-line" id="LC402">              <span class="pl-s"><span class="pl-pds">&quot;</span>    &lt;tr&gt;<span class="pl-cce">\n</span><span class="pl-pds">&quot;</span></span>,</div>
                </div>
                <div class="d-flex flex-justify-start flex-items-start">
                  <div class="blob-num blame-blob-num color-bg-subtle js-line-number" id="L403">403</div>
                  <div class="blob-code blob-code-inner js-file-line" id="LC403">              <span class="pl-s"><span class="pl-pds">&quot;</span>      &lt;th&gt;4&lt;/th&gt;<span class="pl-cce">\n</span><span class="pl-pds">&quot;</span></span>,</div>
                </div>
                <div class="d-flex flex-justify-start flex-items-start">
                  <div class="blob-num blame-blob-num color-bg-subtle js-line-number" id="L404">404</div>
                  <div class="blob-code blob-code-inner js-file-line" id="LC404">              <span class="pl-s"><span class="pl-pds">&quot;</span>      &lt;td&gt;94&lt;/td&gt;<span class="pl-cce">\n</span><span class="pl-pds">&quot;</span></span>,</div>
                </div>
                <div class="d-flex flex-justify-start flex-items-start">
                  <div class="blob-num blame-blob-num color-bg-subtle js-line-number" id="L405">405</div>
                  <div class="blob-code blob-code-inner js-file-line" id="LC405">              <span class="pl-s"><span class="pl-pds">&quot;</span>      &lt;td&gt;632&lt;/td&gt;<span class="pl-cce">\n</span><span class="pl-pds">&quot;</span></span>,</div>
                </div>
                <div class="d-flex flex-justify-start flex-items-start">
                  <div class="blob-num blame-blob-num color-bg-subtle js-line-number" id="L406">406</div>
                  <div class="blob-code blob-code-inner js-file-line" id="LC406">              <span class="pl-s"><span class="pl-pds">&quot;</span>      &lt;td&gt;34&lt;/td&gt;<span class="pl-cce">\n</span><span class="pl-pds">&quot;</span></span>,</div>
                </div>
                <div class="d-flex flex-justify-start flex-items-start">
                  <div class="blob-num blame-blob-num color-bg-subtle js-line-number" id="L407">407</div>
                  <div class="blob-code blob-code-inner js-file-line" id="LC407">              <span class="pl-s"><span class="pl-pds">&quot;</span>      &lt;td&gt;TYPE_C&lt;/td&gt;<span class="pl-cce">\n</span><span class="pl-pds">&quot;</span></span>,</div>
                </div>
                <div class="d-flex flex-justify-start flex-items-start">
                  <div class="blob-num blame-blob-num color-bg-subtle js-line-number" id="L408">408</div>
                  <div class="blob-code blob-code-inner js-file-line" id="LC408">              <span class="pl-s"><span class="pl-pds">&quot;</span>      &lt;td&gt;3.6&lt;/td&gt;<span class="pl-cce">\n</span><span class="pl-pds">&quot;</span></span>,</div>
                </div>
                <div class="d-flex flex-justify-start flex-items-start">
                  <div class="blob-num blame-blob-num color-bg-subtle js-line-number" id="L409">409</div>
                  <div class="blob-code blob-code-inner js-file-line" id="LC409">              <span class="pl-s"><span class="pl-pds">&quot;</span>    &lt;/tr&gt;<span class="pl-cce">\n</span><span class="pl-pds">&quot;</span></span>,</div>
                </div>
                <div class="d-flex flex-justify-start flex-items-start">
                  <div class="blob-num blame-blob-num color-bg-subtle js-line-number" id="L410">410</div>
                  <div class="blob-code blob-code-inner js-file-line" id="LC410">              <span class="pl-s"><span class="pl-pds">&quot;</span>  &lt;/tbody&gt;<span class="pl-cce">\n</span><span class="pl-pds">&quot;</span></span>,</div>
                </div>
                <div class="d-flex flex-justify-start flex-items-start">
                  <div class="blob-num blame-blob-num color-bg-subtle js-line-number" id="L411">411</div>
                  <div class="blob-code blob-code-inner js-file-line" id="LC411">              <span class="pl-s"><span class="pl-pds">&quot;</span>&lt;/table&gt;<span class="pl-cce">\n</span><span class="pl-pds">&quot;</span></span>,</div>
                </div>
                <div class="d-flex flex-justify-start flex-items-start">
                  <div class="blob-num blame-blob-num color-bg-subtle js-line-number" id="L412">412</div>
                  <div class="blob-code blob-code-inner js-file-line" id="LC412">              <span class="pl-s"><span class="pl-pds">&quot;</span>&lt;/div&gt;<span class="pl-cce">\n</span><span class="pl-pds">&quot;</span></span>,</div>
                </div>
                <div class="d-flex flex-justify-start flex-items-start">
                  <div class="blob-num blame-blob-num color-bg-subtle js-line-number" id="L413">413</div>
                  <div class="blob-code blob-code-inner js-file-line" id="LC413">              <span class="pl-s"><span class="pl-pds">&quot;</span>      &lt;button class=<span class="pl-cce">\&quot;</span>colab-df-convert<span class="pl-cce">\&quot;</span> onclick=<span class="pl-cce">\&quot;</span>convertToInteractive(&#39;df-d7479233-c1e8-4669-a010-341ac81b5e53&#39;)<span class="pl-cce">\&quot;\n</span><span class="pl-pds">&quot;</span></span>,</div>
                </div>
                <div class="d-flex flex-justify-start flex-items-start">
                  <div class="blob-num blame-blob-num color-bg-subtle js-line-number" id="L414">414</div>
                  <div class="blob-code blob-code-inner js-file-line" id="LC414">              <span class="pl-s"><span class="pl-pds">&quot;</span>              title=<span class="pl-cce">\&quot;</span>Convert this dataframe to an interactive table.<span class="pl-cce">\&quot;\n</span><span class="pl-pds">&quot;</span></span>,</div>
                </div>
                <div class="d-flex flex-justify-start flex-items-start">
                  <div class="blob-num blame-blob-num color-bg-subtle js-line-number" id="L415">415</div>
                  <div class="blob-code blob-code-inner js-file-line" id="LC415">              <span class="pl-s"><span class="pl-pds">&quot;</span>              style=<span class="pl-cce">\&quot;</span>display:none;<span class="pl-cce">\&quot;</span>&gt;<span class="pl-cce">\n</span><span class="pl-pds">&quot;</span></span>,</div>
                </div>
                <div class="d-flex flex-justify-start flex-items-start">
                  <div class="blob-num blame-blob-num color-bg-subtle js-line-number" id="L416">416</div>
                  <div class="blob-code blob-code-inner js-file-line" id="LC416">              <span class="pl-s"><span class="pl-pds">&quot;</span>        <span class="pl-cce">\n</span><span class="pl-pds">&quot;</span></span>,</div>
                </div>
                <div class="d-flex flex-justify-start flex-items-start">
                  <div class="blob-num blame-blob-num color-bg-subtle js-line-number" id="L417">417</div>
                  <div class="blob-code blob-code-inner js-file-line" id="LC417">              <span class="pl-s"><span class="pl-pds">&quot;</span>  &lt;svg xmlns=<span class="pl-cce">\&quot;</span>http://www.w3.org/2000/svg<span class="pl-cce">\&quot;</span> height=<span class="pl-cce">\&quot;</span>24px<span class="pl-cce">\&quot;</span>viewBox=<span class="pl-cce">\&quot;</span>0 0 24 24<span class="pl-cce">\&quot;\n</span><span class="pl-pds">&quot;</span></span>,</div>
                </div>
                <div class="d-flex flex-justify-start flex-items-start">
                  <div class="blob-num blame-blob-num color-bg-subtle js-line-number" id="L418">418</div>
                  <div class="blob-code blob-code-inner js-file-line" id="LC418">              <span class="pl-s"><span class="pl-pds">&quot;</span>       width=<span class="pl-cce">\&quot;</span>24px<span class="pl-cce">\&quot;</span>&gt;<span class="pl-cce">\n</span><span class="pl-pds">&quot;</span></span>,</div>
                </div>
                <div class="d-flex flex-justify-start flex-items-start">
                  <div class="blob-num blame-blob-num color-bg-subtle js-line-number" id="L419">419</div>
                  <div class="blob-code blob-code-inner js-file-line" id="LC419">              <span class="pl-s"><span class="pl-pds">&quot;</span>    &lt;path d=<span class="pl-cce">\&quot;</span>M0 0h24v24H0V0z<span class="pl-cce">\&quot;</span> fill=<span class="pl-cce">\&quot;</span>none<span class="pl-cce">\&quot;</span>/&gt;<span class="pl-cce">\n</span><span class="pl-pds">&quot;</span></span>,</div>
                </div>
                <div class="d-flex flex-justify-start flex-items-start">
                  <div class="blob-num blame-blob-num color-bg-subtle js-line-number" id="L420">420</div>
                  <div class="blob-code blob-code-inner js-file-line" id="LC420">              <span class="pl-s"><span class="pl-pds">&quot;</span>    &lt;path d=<span class="pl-cce">\&quot;</span>M18.56 5.44l.94 2.06.94-2.06 2.06-.94-2.06-.94-.94-2.06-.94 2.06-2.06.94zm-11 1L8.5 8.5l.94-2.06 2.06-.94-2.06-.94L8.5 2.5l-.94 2.06-2.06.94zm10 10l.94 2.06.94-2.06 2.06-.94-2.06-.94-.94-2.06-.94 2.06-2.06.94z<span class="pl-cce">\&quot;</span>/&gt;&lt;path d=<span class="pl-cce">\&quot;</span>M17.41 7.96l-1.37-1.37c-.4-.4-.92-.59-1.43-.59-.52 0-1.04.2-1.43.59L10.3 9.45l-7.72 7.72c-.78.78-.78 2.05 0 2.83L4 21.41c.39.39.9.59 1.41.59.51 0 1.02-.2 1.41-.59l7.78-7.78 2.81-2.81c.8-.78.8-2.07 0-2.86zM5.41 20L4 18.59l7.72-7.72 1.47 1.35L5.41 20z<span class="pl-cce">\&quot;</span>/&gt;<span class="pl-cce">\n</span><span class="pl-pds">&quot;</span></span>,</div>
                </div>
                <div class="d-flex flex-justify-start flex-items-start">
                  <div class="blob-num blame-blob-num color-bg-subtle js-line-number" id="L421">421</div>
                  <div class="blob-code blob-code-inner js-file-line" id="LC421">              <span class="pl-s"><span class="pl-pds">&quot;</span>  &lt;/svg&gt;<span class="pl-cce">\n</span><span class="pl-pds">&quot;</span></span>,</div>
                </div>
                <div class="d-flex flex-justify-start flex-items-start">
                  <div class="blob-num blame-blob-num color-bg-subtle js-line-number" id="L422">422</div>
                  <div class="blob-code blob-code-inner js-file-line" id="LC422">              <span class="pl-s"><span class="pl-pds">&quot;</span>      &lt;/button&gt;<span class="pl-cce">\n</span><span class="pl-pds">&quot;</span></span>,</div>
                </div>
                <div class="d-flex flex-justify-start flex-items-start">
                  <div class="blob-num blame-blob-num color-bg-subtle js-line-number" id="L423">423</div>
                  <div class="blob-code blob-code-inner js-file-line" id="LC423">              <span class="pl-s"><span class="pl-pds">&quot;</span>      <span class="pl-cce">\n</span><span class="pl-pds">&quot;</span></span>,</div>
                </div>
                <div class="d-flex flex-justify-start flex-items-start">
                  <div class="blob-num blame-blob-num color-bg-subtle js-line-number" id="L424">424</div>
                  <div class="blob-code blob-code-inner js-file-line" id="LC424">              <span class="pl-s"><span class="pl-pds">&quot;</span>  &lt;style&gt;<span class="pl-cce">\n</span><span class="pl-pds">&quot;</span></span>,</div>
                </div>
                <div class="d-flex flex-justify-start flex-items-start">
                  <div class="blob-num blame-blob-num color-bg-subtle js-line-number" id="L425">425</div>
                  <div class="blob-code blob-code-inner js-file-line" id="LC425">              <span class="pl-s"><span class="pl-pds">&quot;</span>    .colab-df-container {<span class="pl-cce">\n</span><span class="pl-pds">&quot;</span></span>,</div>
                </div>
                <div class="d-flex flex-justify-start flex-items-start">
                  <div class="blob-num blame-blob-num color-bg-subtle js-line-number" id="L426">426</div>
                  <div class="blob-code blob-code-inner js-file-line" id="LC426">              <span class="pl-s"><span class="pl-pds">&quot;</span>      display:flex;<span class="pl-cce">\n</span><span class="pl-pds">&quot;</span></span>,</div>
                </div>
                <div class="d-flex flex-justify-start flex-items-start">
                  <div class="blob-num blame-blob-num color-bg-subtle js-line-number" id="L427">427</div>
                  <div class="blob-code blob-code-inner js-file-line" id="LC427">              <span class="pl-s"><span class="pl-pds">&quot;</span>      flex-wrap:wrap;<span class="pl-cce">\n</span><span class="pl-pds">&quot;</span></span>,</div>
                </div>
                <div class="d-flex flex-justify-start flex-items-start">
                  <div class="blob-num blame-blob-num color-bg-subtle js-line-number" id="L428">428</div>
                  <div class="blob-code blob-code-inner js-file-line" id="LC428">              <span class="pl-s"><span class="pl-pds">&quot;</span>      gap: 12px;<span class="pl-cce">\n</span><span class="pl-pds">&quot;</span></span>,</div>
                </div>
                <div class="d-flex flex-justify-start flex-items-start">
                  <div class="blob-num blame-blob-num color-bg-subtle js-line-number" id="L429">429</div>
                  <div class="blob-code blob-code-inner js-file-line" id="LC429">              <span class="pl-s"><span class="pl-pds">&quot;</span>    }<span class="pl-cce">\n</span><span class="pl-pds">&quot;</span></span>,</div>
                </div>
                <div class="d-flex flex-justify-start flex-items-start">
                  <div class="blob-num blame-blob-num color-bg-subtle js-line-number" id="L430">430</div>
                  <div class="blob-code blob-code-inner js-file-line" id="LC430">              <span class="pl-s"><span class="pl-pds">&quot;</span><span class="pl-cce">\n</span><span class="pl-pds">&quot;</span></span>,</div>
                </div>
                <div class="d-flex flex-justify-start flex-items-start">
                  <div class="blob-num blame-blob-num color-bg-subtle js-line-number" id="L431">431</div>
                  <div class="blob-code blob-code-inner js-file-line" id="LC431">              <span class="pl-s"><span class="pl-pds">&quot;</span>    .colab-df-convert {<span class="pl-cce">\n</span><span class="pl-pds">&quot;</span></span>,</div>
                </div>
                <div class="d-flex flex-justify-start flex-items-start">
                  <div class="blob-num blame-blob-num color-bg-subtle js-line-number" id="L432">432</div>
                  <div class="blob-code blob-code-inner js-file-line" id="LC432">              <span class="pl-s"><span class="pl-pds">&quot;</span>      background-color: #E8F0FE;<span class="pl-cce">\n</span><span class="pl-pds">&quot;</span></span>,</div>
                </div>
                <div class="d-flex flex-justify-start flex-items-start">
                  <div class="blob-num blame-blob-num color-bg-subtle js-line-number" id="L433">433</div>
                  <div class="blob-code blob-code-inner js-file-line" id="LC433">              <span class="pl-s"><span class="pl-pds">&quot;</span>      border: none;<span class="pl-cce">\n</span><span class="pl-pds">&quot;</span></span>,</div>
                </div>
                <div class="d-flex flex-justify-start flex-items-start">
                  <div class="blob-num blame-blob-num color-bg-subtle js-line-number" id="L434">434</div>
                  <div class="blob-code blob-code-inner js-file-line" id="LC434">              <span class="pl-s"><span class="pl-pds">&quot;</span>      border-radius: 50%;<span class="pl-cce">\n</span><span class="pl-pds">&quot;</span></span>,</div>
                </div>
                <div class="d-flex flex-justify-start flex-items-start">
                  <div class="blob-num blame-blob-num color-bg-subtle js-line-number" id="L435">435</div>
                  <div class="blob-code blob-code-inner js-file-line" id="LC435">              <span class="pl-s"><span class="pl-pds">&quot;</span>      cursor: pointer;<span class="pl-cce">\n</span><span class="pl-pds">&quot;</span></span>,</div>
                </div>
                <div class="d-flex flex-justify-start flex-items-start">
                  <div class="blob-num blame-blob-num color-bg-subtle js-line-number" id="L436">436</div>
                  <div class="blob-code blob-code-inner js-file-line" id="LC436">              <span class="pl-s"><span class="pl-pds">&quot;</span>      display: none;<span class="pl-cce">\n</span><span class="pl-pds">&quot;</span></span>,</div>
                </div>
                <div class="d-flex flex-justify-start flex-items-start">
                  <div class="blob-num blame-blob-num color-bg-subtle js-line-number" id="L437">437</div>
                  <div class="blob-code blob-code-inner js-file-line" id="LC437">              <span class="pl-s"><span class="pl-pds">&quot;</span>      fill: #1967D2;<span class="pl-cce">\n</span><span class="pl-pds">&quot;</span></span>,</div>
                </div>
                <div class="d-flex flex-justify-start flex-items-start">
                  <div class="blob-num blame-blob-num color-bg-subtle js-line-number" id="L438">438</div>
                  <div class="blob-code blob-code-inner js-file-line" id="LC438">              <span class="pl-s"><span class="pl-pds">&quot;</span>      height: 32px;<span class="pl-cce">\n</span><span class="pl-pds">&quot;</span></span>,</div>
                </div>
                <div class="d-flex flex-justify-start flex-items-start">
                  <div class="blob-num blame-blob-num color-bg-subtle js-line-number" id="L439">439</div>
                  <div class="blob-code blob-code-inner js-file-line" id="LC439">              <span class="pl-s"><span class="pl-pds">&quot;</span>      padding: 0 0 0 0;<span class="pl-cce">\n</span><span class="pl-pds">&quot;</span></span>,</div>
                </div>
                <div class="d-flex flex-justify-start flex-items-start">
                  <div class="blob-num blame-blob-num color-bg-subtle js-line-number" id="L440">440</div>
                  <div class="blob-code blob-code-inner js-file-line" id="LC440">              <span class="pl-s"><span class="pl-pds">&quot;</span>      width: 32px;<span class="pl-cce">\n</span><span class="pl-pds">&quot;</span></span>,</div>
                </div>
                <div class="d-flex flex-justify-start flex-items-start">
                  <div class="blob-num blame-blob-num color-bg-subtle js-line-number" id="L441">441</div>
                  <div class="blob-code blob-code-inner js-file-line" id="LC441">              <span class="pl-s"><span class="pl-pds">&quot;</span>    }<span class="pl-cce">\n</span><span class="pl-pds">&quot;</span></span>,</div>
                </div>
                <div class="d-flex flex-justify-start flex-items-start">
                  <div class="blob-num blame-blob-num color-bg-subtle js-line-number" id="L442">442</div>
                  <div class="blob-code blob-code-inner js-file-line" id="LC442">              <span class="pl-s"><span class="pl-pds">&quot;</span><span class="pl-cce">\n</span><span class="pl-pds">&quot;</span></span>,</div>
                </div>
                <div class="d-flex flex-justify-start flex-items-start">
                  <div class="blob-num blame-blob-num color-bg-subtle js-line-number" id="L443">443</div>
                  <div class="blob-code blob-code-inner js-file-line" id="LC443">              <span class="pl-s"><span class="pl-pds">&quot;</span>    .colab-df-convert:hover {<span class="pl-cce">\n</span><span class="pl-pds">&quot;</span></span>,</div>
                </div>
                <div class="d-flex flex-justify-start flex-items-start">
                  <div class="blob-num blame-blob-num color-bg-subtle js-line-number" id="L444">444</div>
                  <div class="blob-code blob-code-inner js-file-line" id="LC444">              <span class="pl-s"><span class="pl-pds">&quot;</span>      background-color: #E2EBFA;<span class="pl-cce">\n</span><span class="pl-pds">&quot;</span></span>,</div>
                </div>
                <div class="d-flex flex-justify-start flex-items-start">
                  <div class="blob-num blame-blob-num color-bg-subtle js-line-number" id="L445">445</div>
                  <div class="blob-code blob-code-inner js-file-line" id="LC445">              <span class="pl-s"><span class="pl-pds">&quot;</span>      box-shadow: 0px 1px 2px rgba(60, 64, 67, 0.3), 0px 1px 3px 1px rgba(60, 64, 67, 0.15);<span class="pl-cce">\n</span><span class="pl-pds">&quot;</span></span>,</div>
                </div>
                <div class="d-flex flex-justify-start flex-items-start">
                  <div class="blob-num blame-blob-num color-bg-subtle js-line-number" id="L446">446</div>
                  <div class="blob-code blob-code-inner js-file-line" id="LC446">              <span class="pl-s"><span class="pl-pds">&quot;</span>      fill: #174EA6;<span class="pl-cce">\n</span><span class="pl-pds">&quot;</span></span>,</div>
                </div>
                <div class="d-flex flex-justify-start flex-items-start">
                  <div class="blob-num blame-blob-num color-bg-subtle js-line-number" id="L447">447</div>
                  <div class="blob-code blob-code-inner js-file-line" id="LC447">              <span class="pl-s"><span class="pl-pds">&quot;</span>    }<span class="pl-cce">\n</span><span class="pl-pds">&quot;</span></span>,</div>
                </div>
                <div class="d-flex flex-justify-start flex-items-start">
                  <div class="blob-num blame-blob-num color-bg-subtle js-line-number" id="L448">448</div>
                  <div class="blob-code blob-code-inner js-file-line" id="LC448">              <span class="pl-s"><span class="pl-pds">&quot;</span><span class="pl-cce">\n</span><span class="pl-pds">&quot;</span></span>,</div>
                </div>
                <div class="d-flex flex-justify-start flex-items-start">
                  <div class="blob-num blame-blob-num color-bg-subtle js-line-number" id="L449">449</div>
                  <div class="blob-code blob-code-inner js-file-line" id="LC449">              <span class="pl-s"><span class="pl-pds">&quot;</span>    [theme=dark] .colab-df-convert {<span class="pl-cce">\n</span><span class="pl-pds">&quot;</span></span>,</div>
                </div>
                <div class="d-flex flex-justify-start flex-items-start">
                  <div class="blob-num blame-blob-num color-bg-subtle js-line-number" id="L450">450</div>
                  <div class="blob-code blob-code-inner js-file-line" id="LC450">              <span class="pl-s"><span class="pl-pds">&quot;</span>      background-color: #3B4455;<span class="pl-cce">\n</span><span class="pl-pds">&quot;</span></span>,</div>
                </div>
                <div class="d-flex flex-justify-start flex-items-start">
                  <div class="blob-num blame-blob-num color-bg-subtle js-line-number" id="L451">451</div>
                  <div class="blob-code blob-code-inner js-file-line" id="LC451">              <span class="pl-s"><span class="pl-pds">&quot;</span>      fill: #D2E3FC;<span class="pl-cce">\n</span><span class="pl-pds">&quot;</span></span>,</div>
                </div>
                <div class="d-flex flex-justify-start flex-items-start">
                  <div class="blob-num blame-blob-num color-bg-subtle js-line-number" id="L452">452</div>
                  <div class="blob-code blob-code-inner js-file-line" id="LC452">              <span class="pl-s"><span class="pl-pds">&quot;</span>    }<span class="pl-cce">\n</span><span class="pl-pds">&quot;</span></span>,</div>
                </div>
                <div class="d-flex flex-justify-start flex-items-start">
                  <div class="blob-num blame-blob-num color-bg-subtle js-line-number" id="L453">453</div>
                  <div class="blob-code blob-code-inner js-file-line" id="LC453">              <span class="pl-s"><span class="pl-pds">&quot;</span><span class="pl-cce">\n</span><span class="pl-pds">&quot;</span></span>,</div>
                </div>
                <div class="d-flex flex-justify-start flex-items-start">
                  <div class="blob-num blame-blob-num color-bg-subtle js-line-number" id="L454">454</div>
                  <div class="blob-code blob-code-inner js-file-line" id="LC454">              <span class="pl-s"><span class="pl-pds">&quot;</span>    [theme=dark] .colab-df-convert:hover {<span class="pl-cce">\n</span><span class="pl-pds">&quot;</span></span>,</div>
                </div>
                <div class="d-flex flex-justify-start flex-items-start">
                  <div class="blob-num blame-blob-num color-bg-subtle js-line-number" id="L455">455</div>
                  <div class="blob-code blob-code-inner js-file-line" id="LC455">              <span class="pl-s"><span class="pl-pds">&quot;</span>      background-color: #434B5C;<span class="pl-cce">\n</span><span class="pl-pds">&quot;</span></span>,</div>
                </div>
                <div class="d-flex flex-justify-start flex-items-start">
                  <div class="blob-num blame-blob-num color-bg-subtle js-line-number" id="L456">456</div>
                  <div class="blob-code blob-code-inner js-file-line" id="LC456">              <span class="pl-s"><span class="pl-pds">&quot;</span>      box-shadow: 0px 1px 3px 1px rgba(0, 0, 0, 0.15);<span class="pl-cce">\n</span><span class="pl-pds">&quot;</span></span>,</div>
                </div>
                <div class="d-flex flex-justify-start flex-items-start">
                  <div class="blob-num blame-blob-num color-bg-subtle js-line-number" id="L457">457</div>
                  <div class="blob-code blob-code-inner js-file-line" id="LC457">              <span class="pl-s"><span class="pl-pds">&quot;</span>      filter: drop-shadow(0px 1px 2px rgba(0, 0, 0, 0.3));<span class="pl-cce">\n</span><span class="pl-pds">&quot;</span></span>,</div>
                </div>
                <div class="d-flex flex-justify-start flex-items-start">
                  <div class="blob-num blame-blob-num color-bg-subtle js-line-number" id="L458">458</div>
                  <div class="blob-code blob-code-inner js-file-line" id="LC458">              <span class="pl-s"><span class="pl-pds">&quot;</span>      fill: #FFFFFF;<span class="pl-cce">\n</span><span class="pl-pds">&quot;</span></span>,</div>
                </div>
                <div class="d-flex flex-justify-start flex-items-start">
                  <div class="blob-num blame-blob-num color-bg-subtle js-line-number" id="L459">459</div>
                  <div class="blob-code blob-code-inner js-file-line" id="LC459">              <span class="pl-s"><span class="pl-pds">&quot;</span>    }<span class="pl-cce">\n</span><span class="pl-pds">&quot;</span></span>,</div>
                </div>
                <div class="d-flex flex-justify-start flex-items-start">
                  <div class="blob-num blame-blob-num color-bg-subtle js-line-number" id="L460">460</div>
                  <div class="blob-code blob-code-inner js-file-line" id="LC460">              <span class="pl-s"><span class="pl-pds">&quot;</span>  &lt;/style&gt;<span class="pl-cce">\n</span><span class="pl-pds">&quot;</span></span>,</div>
                </div>
                <div class="d-flex flex-justify-start flex-items-start">
                  <div class="blob-num blame-blob-num color-bg-subtle js-line-number" id="L461">461</div>
                  <div class="blob-code blob-code-inner js-file-line" id="LC461">              <span class="pl-s"><span class="pl-pds">&quot;</span><span class="pl-cce">\n</span><span class="pl-pds">&quot;</span></span>,</div>
                </div>
                <div class="d-flex flex-justify-start flex-items-start">
                  <div class="blob-num blame-blob-num color-bg-subtle js-line-number" id="L462">462</div>
                  <div class="blob-code blob-code-inner js-file-line" id="LC462">              <span class="pl-s"><span class="pl-pds">&quot;</span>      &lt;script&gt;<span class="pl-cce">\n</span><span class="pl-pds">&quot;</span></span>,</div>
                </div>
                <div class="d-flex flex-justify-start flex-items-start">
                  <div class="blob-num blame-blob-num color-bg-subtle js-line-number" id="L463">463</div>
                  <div class="blob-code blob-code-inner js-file-line" id="LC463">              <span class="pl-s"><span class="pl-pds">&quot;</span>        const buttonEl =<span class="pl-cce">\n</span><span class="pl-pds">&quot;</span></span>,</div>
                </div>
                <div class="d-flex flex-justify-start flex-items-start">
                  <div class="blob-num blame-blob-num color-bg-subtle js-line-number" id="L464">464</div>
                  <div class="blob-code blob-code-inner js-file-line" id="LC464">              <span class="pl-s"><span class="pl-pds">&quot;</span>          document.querySelector(&#39;#df-d7479233-c1e8-4669-a010-341ac81b5e53 button.colab-df-convert&#39;);<span class="pl-cce">\n</span><span class="pl-pds">&quot;</span></span>,</div>
                </div>
                <div class="d-flex flex-justify-start flex-items-start">
                  <div class="blob-num blame-blob-num color-bg-subtle js-line-number" id="L465">465</div>
                  <div class="blob-code blob-code-inner js-file-line" id="LC465">              <span class="pl-s"><span class="pl-pds">&quot;</span>        buttonEl.style.display =<span class="pl-cce">\n</span><span class="pl-pds">&quot;</span></span>,</div>
                </div>
                <div class="d-flex flex-justify-start flex-items-start">
                  <div class="blob-num blame-blob-num color-bg-subtle js-line-number" id="L466">466</div>
                  <div class="blob-code blob-code-inner js-file-line" id="LC466">              <span class="pl-s"><span class="pl-pds">&quot;</span>          google.colab.kernel.accessAllowed ? &#39;block&#39; : &#39;none&#39;;<span class="pl-cce">\n</span><span class="pl-pds">&quot;</span></span>,</div>
                </div>
                <div class="d-flex flex-justify-start flex-items-start">
                  <div class="blob-num blame-blob-num color-bg-subtle js-line-number" id="L467">467</div>
                  <div class="blob-code blob-code-inner js-file-line" id="LC467">              <span class="pl-s"><span class="pl-pds">&quot;</span><span class="pl-cce">\n</span><span class="pl-pds">&quot;</span></span>,</div>
                </div>
                <div class="d-flex flex-justify-start flex-items-start">
                  <div class="blob-num blame-blob-num color-bg-subtle js-line-number" id="L468">468</div>
                  <div class="blob-code blob-code-inner js-file-line" id="LC468">              <span class="pl-s"><span class="pl-pds">&quot;</span>        async function convertToInteractive(key) {<span class="pl-cce">\n</span><span class="pl-pds">&quot;</span></span>,</div>
                </div>
                <div class="d-flex flex-justify-start flex-items-start">
                  <div class="blob-num blame-blob-num color-bg-subtle js-line-number" id="L469">469</div>
                  <div class="blob-code blob-code-inner js-file-line" id="LC469">              <span class="pl-s"><span class="pl-pds">&quot;</span>          const element = document.querySelector(&#39;#df-d7479233-c1e8-4669-a010-341ac81b5e53&#39;);<span class="pl-cce">\n</span><span class="pl-pds">&quot;</span></span>,</div>
                </div>
                <div class="d-flex flex-justify-start flex-items-start">
                  <div class="blob-num blame-blob-num color-bg-subtle js-line-number" id="L470">470</div>
                  <div class="blob-code blob-code-inner js-file-line" id="LC470">              <span class="pl-s"><span class="pl-pds">&quot;</span>          const dataTable =<span class="pl-cce">\n</span><span class="pl-pds">&quot;</span></span>,</div>
                </div>
                <div class="d-flex flex-justify-start flex-items-start">
                  <div class="blob-num blame-blob-num color-bg-subtle js-line-number" id="L471">471</div>
                  <div class="blob-code blob-code-inner js-file-line" id="LC471">              <span class="pl-s"><span class="pl-pds">&quot;</span>            await google.colab.kernel.invokeFunction(&#39;convertToInteractive&#39;,<span class="pl-cce">\n</span><span class="pl-pds">&quot;</span></span>,</div>
                </div>
                <div class="d-flex flex-justify-start flex-items-start">
                  <div class="blob-num blame-blob-num color-bg-subtle js-line-number" id="L472">472</div>
                  <div class="blob-code blob-code-inner js-file-line" id="LC472">              <span class="pl-s"><span class="pl-pds">&quot;</span>                                                     [key], {});<span class="pl-cce">\n</span><span class="pl-pds">&quot;</span></span>,</div>
                </div>
                <div class="d-flex flex-justify-start flex-items-start">
                  <div class="blob-num blame-blob-num color-bg-subtle js-line-number" id="L473">473</div>
                  <div class="blob-code blob-code-inner js-file-line" id="LC473">              <span class="pl-s"><span class="pl-pds">&quot;</span>          if (!dataTable) return;<span class="pl-cce">\n</span><span class="pl-pds">&quot;</span></span>,</div>
                </div>
                <div class="d-flex flex-justify-start flex-items-start">
                  <div class="blob-num blame-blob-num color-bg-subtle js-line-number" id="L474">474</div>
                  <div class="blob-code blob-code-inner js-file-line" id="LC474">              <span class="pl-s"><span class="pl-pds">&quot;</span><span class="pl-cce">\n</span><span class="pl-pds">&quot;</span></span>,</div>
                </div>
                <div class="d-flex flex-justify-start flex-items-start">
                  <div class="blob-num blame-blob-num color-bg-subtle js-line-number" id="L475">475</div>
                  <div class="blob-code blob-code-inner js-file-line" id="LC475">              <span class="pl-s"><span class="pl-pds">&quot;</span>          const docLinkHtml = &#39;Like what you see? Visit the &#39; +<span class="pl-cce">\n</span><span class="pl-pds">&quot;</span></span>,</div>
                </div>
                <div class="d-flex flex-justify-start flex-items-start">
                  <div class="blob-num blame-blob-num color-bg-subtle js-line-number" id="L476">476</div>
                  <div class="blob-code blob-code-inner js-file-line" id="LC476">              <span class="pl-s"><span class="pl-pds">&quot;</span>            &#39;&lt;a target=<span class="pl-cce">\&quot;</span>_blank<span class="pl-cce">\&quot;</span> href=https://colab.research.google.com/notebooks/data_table.ipynb&gt;data table notebook&lt;/a&gt;&#39;<span class="pl-cce">\n</span><span class="pl-pds">&quot;</span></span>,</div>
                </div>
                <div class="d-flex flex-justify-start flex-items-start">
                  <div class="blob-num blame-blob-num color-bg-subtle js-line-number" id="L477">477</div>
                  <div class="blob-code blob-code-inner js-file-line" id="LC477">              <span class="pl-s"><span class="pl-pds">&quot;</span>            + &#39; to learn more about interactive tables.&#39;;<span class="pl-cce">\n</span><span class="pl-pds">&quot;</span></span>,</div>
                </div>
                <div class="d-flex flex-justify-start flex-items-start">
                  <div class="blob-num blame-blob-num color-bg-subtle js-line-number" id="L478">478</div>
                  <div class="blob-code blob-code-inner js-file-line" id="LC478">              <span class="pl-s"><span class="pl-pds">&quot;</span>          element.innerHTML = &#39;&#39;;<span class="pl-cce">\n</span><span class="pl-pds">&quot;</span></span>,</div>
                </div>
                <div class="d-flex flex-justify-start flex-items-start">
                  <div class="blob-num blame-blob-num color-bg-subtle js-line-number" id="L479">479</div>
                  <div class="blob-code blob-code-inner js-file-line" id="LC479">              <span class="pl-s"><span class="pl-pds">&quot;</span>          dataTable[&#39;output_type&#39;] = &#39;display_data&#39;;<span class="pl-cce">\n</span><span class="pl-pds">&quot;</span></span>,</div>
                </div>
                <div class="d-flex flex-justify-start flex-items-start">
                  <div class="blob-num blame-blob-num color-bg-subtle js-line-number" id="L480">480</div>
                  <div class="blob-code blob-code-inner js-file-line" id="LC480">              <span class="pl-s"><span class="pl-pds">&quot;</span>          await google.colab.output.renderOutput(dataTable, element);<span class="pl-cce">\n</span><span class="pl-pds">&quot;</span></span>,</div>
                </div>
                <div class="d-flex flex-justify-start flex-items-start">
                  <div class="blob-num blame-blob-num color-bg-subtle js-line-number" id="L481">481</div>
                  <div class="blob-code blob-code-inner js-file-line" id="LC481">              <span class="pl-s"><span class="pl-pds">&quot;</span>          const docLink = document.createElement(&#39;div&#39;);<span class="pl-cce">\n</span><span class="pl-pds">&quot;</span></span>,</div>
                </div>
                <div class="d-flex flex-justify-start flex-items-start">
                  <div class="blob-num blame-blob-num color-bg-subtle js-line-number" id="L482">482</div>
                  <div class="blob-code blob-code-inner js-file-line" id="LC482">              <span class="pl-s"><span class="pl-pds">&quot;</span>          docLink.innerHTML = docLinkHtml;<span class="pl-cce">\n</span><span class="pl-pds">&quot;</span></span>,</div>
                </div>
                <div class="d-flex flex-justify-start flex-items-start">
                  <div class="blob-num blame-blob-num color-bg-subtle js-line-number" id="L483">483</div>
                  <div class="blob-code blob-code-inner js-file-line" id="LC483">              <span class="pl-s"><span class="pl-pds">&quot;</span>          element.appendChild(docLink);<span class="pl-cce">\n</span><span class="pl-pds">&quot;</span></span>,</div>
                </div>
                <div class="d-flex flex-justify-start flex-items-start">
                  <div class="blob-num blame-blob-num color-bg-subtle js-line-number" id="L484">484</div>
                  <div class="blob-code blob-code-inner js-file-line" id="LC484">              <span class="pl-s"><span class="pl-pds">&quot;</span>        }<span class="pl-cce">\n</span><span class="pl-pds">&quot;</span></span>,</div>
                </div>
                <div class="d-flex flex-justify-start flex-items-start">
                  <div class="blob-num blame-blob-num color-bg-subtle js-line-number" id="L485">485</div>
                  <div class="blob-code blob-code-inner js-file-line" id="LC485">              <span class="pl-s"><span class="pl-pds">&quot;</span>      &lt;/script&gt;<span class="pl-cce">\n</span><span class="pl-pds">&quot;</span></span>,</div>
                </div>
                <div class="d-flex flex-justify-start flex-items-start">
                  <div class="blob-num blame-blob-num color-bg-subtle js-line-number" id="L486">486</div>
                  <div class="blob-code blob-code-inner js-file-line" id="LC486">              <span class="pl-s"><span class="pl-pds">&quot;</span>    &lt;/div&gt;<span class="pl-cce">\n</span><span class="pl-pds">&quot;</span></span>,</div>
                </div>
                <div class="d-flex flex-justify-start flex-items-start">
                  <div class="blob-num blame-blob-num color-bg-subtle js-line-number" id="L487">487</div>
                  <div class="blob-code blob-code-inner js-file-line" id="LC487">              <span class="pl-s"><span class="pl-pds">&quot;</span>  &lt;/div&gt;<span class="pl-cce">\n</span><span class="pl-pds">&quot;</span></span>,</div>
                </div>
                <div class="d-flex flex-justify-start flex-items-start">
                  <div class="blob-num blame-blob-num color-bg-subtle js-line-number" id="L488">488</div>
                  <div class="blob-code blob-code-inner js-file-line" id="LC488">              <span class="pl-s"><span class="pl-pds">&quot;</span>  <span class="pl-pds">&quot;</span></span></div>
                </div>
                <div class="d-flex flex-justify-start flex-items-start">
                  <div class="blob-num blame-blob-num color-bg-subtle js-line-number" id="L489">489</div>
                  <div class="blob-code blob-code-inner js-file-line" id="LC489">            ]</div>
                </div>
                <div class="d-flex flex-justify-start flex-items-start">
                  <div class="blob-num blame-blob-num color-bg-subtle js-line-number" id="L490">490</div>
                  <div class="blob-code blob-code-inner js-file-line" id="LC490">          },</div>
                </div>
                <div class="d-flex flex-justify-start flex-items-start">
                  <div class="blob-num blame-blob-num color-bg-subtle js-line-number" id="L491">491</div>
                  <div class="blob-code blob-code-inner js-file-line" id="LC491">          <span class="pl-ent">&quot;metadata&quot;</span>: {},</div>
                </div>
                <div class="d-flex flex-justify-start flex-items-start">
                  <div class="blob-num blame-blob-num color-bg-subtle js-line-number" id="L492">492</div>
                  <div class="blob-code blob-code-inner js-file-line" id="LC492">          <span class="pl-ent">&quot;execution_count&quot;</span>: <span class="pl-c1">10</span></div>
                </div>
                <div class="d-flex flex-justify-start flex-items-start">
                  <div class="blob-num blame-blob-num color-bg-subtle js-line-number" id="L493">493</div>
                  <div class="blob-code blob-code-inner js-file-line" id="LC493">        }</div>
                </div>
                <div class="d-flex flex-justify-start flex-items-start">
                  <div class="blob-num blame-blob-num color-bg-subtle js-line-number" id="L494">494</div>
                  <div class="blob-code blob-code-inner js-file-line" id="LC494">      ]</div>
                </div>
                <div class="d-flex flex-justify-start flex-items-start">
                  <div class="blob-num blame-blob-num color-bg-subtle js-line-number" id="L495">495</div>
                  <div class="blob-code blob-code-inner js-file-line" id="LC495">    },</div>
                </div>
                <div class="d-flex flex-justify-start flex-items-start">
                  <div class="blob-num blame-blob-num color-bg-subtle js-line-number" id="L496">496</div>
                  <div class="blob-code blob-code-inner js-file-line" id="LC496">    {</div>
                </div>
                <div class="d-flex flex-justify-start flex-items-start">
                  <div class="blob-num blame-blob-num color-bg-subtle js-line-number" id="L497">497</div>
                  <div class="blob-code blob-code-inner js-file-line" id="LC497">      <span class="pl-ent">&quot;cell_type&quot;</span>: <span class="pl-s"><span class="pl-pds">&quot;</span>code<span class="pl-pds">&quot;</span></span>,</div>
                </div>
                <div class="d-flex flex-justify-start flex-items-start">
                  <div class="blob-num blame-blob-num color-bg-subtle js-line-number" id="L498">498</div>
                  <div class="blob-code blob-code-inner js-file-line" id="LC498">      <span class="pl-ent">&quot;source&quot;</span>: [</div>
                </div>
                <div class="d-flex flex-justify-start flex-items-start">
                  <div class="blob-num blame-blob-num color-bg-subtle js-line-number" id="L499">499</div>
                  <div class="blob-code blob-code-inner js-file-line" id="LC499">        <span class="pl-s"><span class="pl-pds">&quot;</span>meal.head()<span class="pl-pds">&quot;</span></span></div>
                </div>
                <div class="d-flex flex-justify-start flex-items-start">
                  <div class="blob-num blame-blob-num color-bg-subtle js-line-number" id="L500">500</div>
                  <div class="blob-code blob-code-inner js-file-line" id="LC500">      ],</div>
                </div>
                <div class="d-flex flex-justify-start flex-items-start">
                  <div class="blob-num blame-blob-num color-bg-subtle js-line-number" id="L501">501</div>
                  <div class="blob-code blob-code-inner js-file-line" id="LC501">      <span class="pl-ent">&quot;metadata&quot;</span>: {</div>
                </div>
                <div class="d-flex flex-justify-start flex-items-start">
                  <div class="blob-num blame-blob-num color-bg-subtle js-line-number" id="L502">502</div>
                  <div class="blob-code blob-code-inner js-file-line" id="LC502">        <span class="pl-ent">&quot;colab&quot;</span>: {</div>
                </div>
                <div class="d-flex flex-justify-start flex-items-start">
                  <div class="blob-num blame-blob-num color-bg-subtle js-line-number" id="L503">503</div>
                  <div class="blob-code blob-code-inner js-file-line" id="LC503">          <span class="pl-ent">&quot;base_uri&quot;</span>: <span class="pl-s"><span class="pl-pds">&quot;</span>https://localhost:8080/<span class="pl-pds">&quot;</span></span>,</div>
                </div>
                <div class="d-flex flex-justify-start flex-items-start">
                  <div class="blob-num blame-blob-num color-bg-subtle js-line-number" id="L504">504</div>
                  <div class="blob-code blob-code-inner js-file-line" id="LC504">          <span class="pl-ent">&quot;height&quot;</span>: <span class="pl-c1">206</span></div>
                </div>
                <div class="d-flex flex-justify-start flex-items-start">
                  <div class="blob-num blame-blob-num color-bg-subtle js-line-number" id="L505">505</div>
                  <div class="blob-code blob-code-inner js-file-line" id="LC505">        },</div>
                </div>
                <div class="d-flex flex-justify-start flex-items-start">
                  <div class="blob-num blame-blob-num color-bg-subtle js-line-number" id="L506">506</div>
                  <div class="blob-code blob-code-inner js-file-line" id="LC506">        <span class="pl-ent">&quot;id&quot;</span>: <span class="pl-s"><span class="pl-pds">&quot;</span>TIk-fqQi-nsX<span class="pl-pds">&quot;</span></span>,</div>
                </div>
                <div class="d-flex flex-justify-start flex-items-start">
                  <div class="blob-num blame-blob-num color-bg-subtle js-line-number" id="L507">507</div>
                  <div class="blob-code blob-code-inner js-file-line" id="LC507">        <span class="pl-ent">&quot;outputId&quot;</span>: <span class="pl-s"><span class="pl-pds">&quot;</span>d324f7f6-5187-40e4-ec89-624ff49d3ba1<span class="pl-pds">&quot;</span></span></div>
                </div>
                <div class="d-flex flex-justify-start flex-items-start">
                  <div class="blob-num blame-blob-num color-bg-subtle js-line-number" id="L508">508</div>
                  <div class="blob-code blob-code-inner js-file-line" id="LC508">      },</div>
                </div>
                <div class="d-flex flex-justify-start flex-items-start">
                  <div class="blob-num blame-blob-num color-bg-subtle js-line-number" id="L509">509</div>
                  <div class="blob-code blob-code-inner js-file-line" id="LC509">      <span class="pl-ent">&quot;execution_count&quot;</span>: <span class="pl-c1">11</span>,</div>
                </div>
                <div class="d-flex flex-justify-start flex-items-start">
                  <div class="blob-num blame-blob-num color-bg-subtle js-line-number" id="L510">510</div>
                  <div class="blob-code blob-code-inner js-file-line" id="LC510">      <span class="pl-ent">&quot;outputs&quot;</span>: [</div>
                </div>
                <div class="d-flex flex-justify-start flex-items-start">
                  <div class="blob-num blame-blob-num color-bg-subtle js-line-number" id="L511">511</div>
                  <div class="blob-code blob-code-inner js-file-line" id="LC511">        {</div>
                </div>
                <div class="d-flex flex-justify-start flex-items-start">
                  <div class="blob-num blame-blob-num color-bg-subtle js-line-number" id="L512">512</div>
                  <div class="blob-code blob-code-inner js-file-line" id="LC512">          <span class="pl-ent">&quot;output_type&quot;</span>: <span class="pl-s"><span class="pl-pds">&quot;</span>execute_result<span class="pl-pds">&quot;</span></span>,</div>
                </div>
                <div class="d-flex flex-justify-start flex-items-start">
                  <div class="blob-num blame-blob-num color-bg-subtle js-line-number" id="L513">513</div>
                  <div class="blob-code blob-code-inner js-file-line" id="LC513">          <span class="pl-ent">&quot;data&quot;</span>: {</div>
                </div>
                <div class="d-flex flex-justify-start flex-items-start">
                  <div class="blob-num blame-blob-num color-bg-subtle js-line-number" id="L514">514</div>
                  <div class="blob-code blob-code-inner js-file-line" id="LC514">            <span class="pl-ent">&quot;text/plain&quot;</span>: [</div>
                </div>
                <div class="d-flex flex-justify-start flex-items-start">
                  <div class="blob-num blame-blob-num color-bg-subtle js-line-number" id="L515">515</div>
                  <div class="blob-code blob-code-inner js-file-line" id="LC515">              <span class="pl-s"><span class="pl-pds">&quot;</span>   meal_id   category cuisine<span class="pl-cce">\n</span><span class="pl-pds">&quot;</span></span>,</div>
                </div>
                <div class="d-flex flex-justify-start flex-items-start">
                  <div class="blob-num blame-blob-num color-bg-subtle js-line-number" id="L516">516</div>
                  <div class="blob-code blob-code-inner js-file-line" id="LC516">              <span class="pl-s"><span class="pl-pds">&quot;</span>0     1885  Beverages    Thai<span class="pl-cce">\n</span><span class="pl-pds">&quot;</span></span>,</div>
                </div>
                <div class="d-flex flex-justify-start flex-items-start">
                  <div class="blob-num blame-blob-num color-bg-subtle js-line-number" id="L517">517</div>
                  <div class="blob-code blob-code-inner js-file-line" id="LC517">              <span class="pl-s"><span class="pl-pds">&quot;</span>1     1993  Beverages    Thai<span class="pl-cce">\n</span><span class="pl-pds">&quot;</span></span>,</div>
                </div>
                <div class="d-flex flex-justify-start flex-items-start">
                  <div class="blob-num blame-blob-num color-bg-subtle js-line-number" id="L518">518</div>
                  <div class="blob-code blob-code-inner js-file-line" id="LC518">              <span class="pl-s"><span class="pl-pds">&quot;</span>2     2539  Beverages    Thai<span class="pl-cce">\n</span><span class="pl-pds">&quot;</span></span>,</div>
                </div>
                <div class="d-flex flex-justify-start flex-items-start">
                  <div class="blob-num blame-blob-num color-bg-subtle js-line-number" id="L519">519</div>
                  <div class="blob-code blob-code-inner js-file-line" id="LC519">              <span class="pl-s"><span class="pl-pds">&quot;</span>3     1248  Beverages  Indian<span class="pl-cce">\n</span><span class="pl-pds">&quot;</span></span>,</div>
                </div>
                <div class="d-flex flex-justify-start flex-items-start">
                  <div class="blob-num blame-blob-num color-bg-subtle js-line-number" id="L520">520</div>
                  <div class="blob-code blob-code-inner js-file-line" id="LC520">              <span class="pl-s"><span class="pl-pds">&quot;</span>4     2631  Beverages  Indian<span class="pl-pds">&quot;</span></span></div>
                </div>
                <div class="d-flex flex-justify-start flex-items-start">
                  <div class="blob-num blame-blob-num color-bg-subtle js-line-number" id="L521">521</div>
                  <div class="blob-code blob-code-inner js-file-line" id="LC521">            ],</div>
                </div>
                <div class="d-flex flex-justify-start flex-items-start">
                  <div class="blob-num blame-blob-num color-bg-subtle js-line-number" id="L522">522</div>
                  <div class="blob-code blob-code-inner js-file-line" id="LC522">            <span class="pl-ent">&quot;text/html&quot;</span>: [</div>
                </div>
                <div class="d-flex flex-justify-start flex-items-start">
                  <div class="blob-num blame-blob-num color-bg-subtle js-line-number" id="L523">523</div>
                  <div class="blob-code blob-code-inner js-file-line" id="LC523">              <span class="pl-s"><span class="pl-pds">&quot;</span><span class="pl-cce">\n</span><span class="pl-pds">&quot;</span></span>,</div>
                </div>
                <div class="d-flex flex-justify-start flex-items-start">
                  <div class="blob-num blame-blob-num color-bg-subtle js-line-number" id="L524">524</div>
                  <div class="blob-code blob-code-inner js-file-line" id="LC524">              <span class="pl-s"><span class="pl-pds">&quot;</span>  &lt;div id=<span class="pl-cce">\&quot;</span>df-71ffef51-293c-4a9e-8527-f1dbad6d8367<span class="pl-cce">\&quot;</span>&gt;<span class="pl-cce">\n</span><span class="pl-pds">&quot;</span></span>,</div>
                </div>
                <div class="d-flex flex-justify-start flex-items-start">
                  <div class="blob-num blame-blob-num color-bg-subtle js-line-number" id="L525">525</div>
                  <div class="blob-code blob-code-inner js-file-line" id="LC525">              <span class="pl-s"><span class="pl-pds">&quot;</span>    &lt;div class=<span class="pl-cce">\&quot;</span>colab-df-container<span class="pl-cce">\&quot;</span>&gt;<span class="pl-cce">\n</span><span class="pl-pds">&quot;</span></span>,</div>
                </div>
                <div class="d-flex flex-justify-start flex-items-start">
                  <div class="blob-num blame-blob-num color-bg-subtle js-line-number" id="L526">526</div>
                  <div class="blob-code blob-code-inner js-file-line" id="LC526">              <span class="pl-s"><span class="pl-pds">&quot;</span>      &lt;div&gt;<span class="pl-cce">\n</span><span class="pl-pds">&quot;</span></span>,</div>
                </div>
                <div class="d-flex flex-justify-start flex-items-start">
                  <div class="blob-num blame-blob-num color-bg-subtle js-line-number" id="L527">527</div>
                  <div class="blob-code blob-code-inner js-file-line" id="LC527">              <span class="pl-s"><span class="pl-pds">&quot;</span>&lt;style scoped&gt;<span class="pl-cce">\n</span><span class="pl-pds">&quot;</span></span>,</div>
                </div>
                <div class="d-flex flex-justify-start flex-items-start">
                  <div class="blob-num blame-blob-num color-bg-subtle js-line-number" id="L528">528</div>
                  <div class="blob-code blob-code-inner js-file-line" id="LC528">              <span class="pl-s"><span class="pl-pds">&quot;</span>    .dataframe tbody tr th:only-of-type {<span class="pl-cce">\n</span><span class="pl-pds">&quot;</span></span>,</div>
                </div>
                <div class="d-flex flex-justify-start flex-items-start">
                  <div class="blob-num blame-blob-num color-bg-subtle js-line-number" id="L529">529</div>
                  <div class="blob-code blob-code-inner js-file-line" id="LC529">              <span class="pl-s"><span class="pl-pds">&quot;</span>        vertical-align: middle;<span class="pl-cce">\n</span><span class="pl-pds">&quot;</span></span>,</div>
                </div>
                <div class="d-flex flex-justify-start flex-items-start">
                  <div class="blob-num blame-blob-num color-bg-subtle js-line-number" id="L530">530</div>
                  <div class="blob-code blob-code-inner js-file-line" id="LC530">              <span class="pl-s"><span class="pl-pds">&quot;</span>    }<span class="pl-cce">\n</span><span class="pl-pds">&quot;</span></span>,</div>
                </div>
                <div class="d-flex flex-justify-start flex-items-start">
                  <div class="blob-num blame-blob-num color-bg-subtle js-line-number" id="L531">531</div>
                  <div class="blob-code blob-code-inner js-file-line" id="LC531">              <span class="pl-s"><span class="pl-pds">&quot;</span><span class="pl-cce">\n</span><span class="pl-pds">&quot;</span></span>,</div>
                </div>
                <div class="d-flex flex-justify-start flex-items-start">
                  <div class="blob-num blame-blob-num color-bg-subtle js-line-number" id="L532">532</div>
                  <div class="blob-code blob-code-inner js-file-line" id="LC532">              <span class="pl-s"><span class="pl-pds">&quot;</span>    .dataframe tbody tr th {<span class="pl-cce">\n</span><span class="pl-pds">&quot;</span></span>,</div>
                </div>
                <div class="d-flex flex-justify-start flex-items-start">
                  <div class="blob-num blame-blob-num color-bg-subtle js-line-number" id="L533">533</div>
                  <div class="blob-code blob-code-inner js-file-line" id="LC533">              <span class="pl-s"><span class="pl-pds">&quot;</span>        vertical-align: top;<span class="pl-cce">\n</span><span class="pl-pds">&quot;</span></span>,</div>
                </div>
                <div class="d-flex flex-justify-start flex-items-start">
                  <div class="blob-num blame-blob-num color-bg-subtle js-line-number" id="L534">534</div>
                  <div class="blob-code blob-code-inner js-file-line" id="LC534">              <span class="pl-s"><span class="pl-pds">&quot;</span>    }<span class="pl-cce">\n</span><span class="pl-pds">&quot;</span></span>,</div>
                </div>
                <div class="d-flex flex-justify-start flex-items-start">
                  <div class="blob-num blame-blob-num color-bg-subtle js-line-number" id="L535">535</div>
                  <div class="blob-code blob-code-inner js-file-line" id="LC535">              <span class="pl-s"><span class="pl-pds">&quot;</span><span class="pl-cce">\n</span><span class="pl-pds">&quot;</span></span>,</div>
                </div>
                <div class="d-flex flex-justify-start flex-items-start">
                  <div class="blob-num blame-blob-num color-bg-subtle js-line-number" id="L536">536</div>
                  <div class="blob-code blob-code-inner js-file-line" id="LC536">              <span class="pl-s"><span class="pl-pds">&quot;</span>    .dataframe thead th {<span class="pl-cce">\n</span><span class="pl-pds">&quot;</span></span>,</div>
                </div>
                <div class="d-flex flex-justify-start flex-items-start">
                  <div class="blob-num blame-blob-num color-bg-subtle js-line-number" id="L537">537</div>
                  <div class="blob-code blob-code-inner js-file-line" id="LC537">              <span class="pl-s"><span class="pl-pds">&quot;</span>        text-align: right;<span class="pl-cce">\n</span><span class="pl-pds">&quot;</span></span>,</div>
                </div>
                <div class="d-flex flex-justify-start flex-items-start">
                  <div class="blob-num blame-blob-num color-bg-subtle js-line-number" id="L538">538</div>
                  <div class="blob-code blob-code-inner js-file-line" id="LC538">              <span class="pl-s"><span class="pl-pds">&quot;</span>    }<span class="pl-cce">\n</span><span class="pl-pds">&quot;</span></span>,</div>
                </div>
                <div class="d-flex flex-justify-start flex-items-start">
                  <div class="blob-num blame-blob-num color-bg-subtle js-line-number" id="L539">539</div>
                  <div class="blob-code blob-code-inner js-file-line" id="LC539">              <span class="pl-s"><span class="pl-pds">&quot;</span>&lt;/style&gt;<span class="pl-cce">\n</span><span class="pl-pds">&quot;</span></span>,</div>
                </div>
                <div class="d-flex flex-justify-start flex-items-start">
                  <div class="blob-num blame-blob-num color-bg-subtle js-line-number" id="L540">540</div>
                  <div class="blob-code blob-code-inner js-file-line" id="LC540">              <span class="pl-s"><span class="pl-pds">&quot;</span>&lt;table border=<span class="pl-cce">\&quot;</span>1<span class="pl-cce">\&quot;</span> class=<span class="pl-cce">\&quot;</span>dataframe<span class="pl-cce">\&quot;</span>&gt;<span class="pl-cce">\n</span><span class="pl-pds">&quot;</span></span>,</div>
                </div>
                <div class="d-flex flex-justify-start flex-items-start">
                  <div class="blob-num blame-blob-num color-bg-subtle js-line-number" id="L541">541</div>
                  <div class="blob-code blob-code-inner js-file-line" id="LC541">              <span class="pl-s"><span class="pl-pds">&quot;</span>  &lt;thead&gt;<span class="pl-cce">\n</span><span class="pl-pds">&quot;</span></span>,</div>
                </div>
                <div class="d-flex flex-justify-start flex-items-start">
                  <div class="blob-num blame-blob-num color-bg-subtle js-line-number" id="L542">542</div>
                  <div class="blob-code blob-code-inner js-file-line" id="LC542">              <span class="pl-s"><span class="pl-pds">&quot;</span>    &lt;tr style=<span class="pl-cce">\&quot;</span>text-align: right;<span class="pl-cce">\&quot;</span>&gt;<span class="pl-cce">\n</span><span class="pl-pds">&quot;</span></span>,</div>
                </div>
                <div class="d-flex flex-justify-start flex-items-start">
                  <div class="blob-num blame-blob-num color-bg-subtle js-line-number" id="L543">543</div>
                  <div class="blob-code blob-code-inner js-file-line" id="LC543">              <span class="pl-s"><span class="pl-pds">&quot;</span>      &lt;th&gt;&lt;/th&gt;<span class="pl-cce">\n</span><span class="pl-pds">&quot;</span></span>,</div>
                </div>
                <div class="d-flex flex-justify-start flex-items-start">
                  <div class="blob-num blame-blob-num color-bg-subtle js-line-number" id="L544">544</div>
                  <div class="blob-code blob-code-inner js-file-line" id="LC544">              <span class="pl-s"><span class="pl-pds">&quot;</span>      &lt;th&gt;meal_id&lt;/th&gt;<span class="pl-cce">\n</span><span class="pl-pds">&quot;</span></span>,</div>
                </div>
                <div class="d-flex flex-justify-start flex-items-start">
                  <div class="blob-num blame-blob-num color-bg-subtle js-line-number" id="L545">545</div>
                  <div class="blob-code blob-code-inner js-file-line" id="LC545">              <span class="pl-s"><span class="pl-pds">&quot;</span>      &lt;th&gt;category&lt;/th&gt;<span class="pl-cce">\n</span><span class="pl-pds">&quot;</span></span>,</div>
                </div>
                <div class="d-flex flex-justify-start flex-items-start">
                  <div class="blob-num blame-blob-num color-bg-subtle js-line-number" id="L546">546</div>
                  <div class="blob-code blob-code-inner js-file-line" id="LC546">              <span class="pl-s"><span class="pl-pds">&quot;</span>      &lt;th&gt;cuisine&lt;/th&gt;<span class="pl-cce">\n</span><span class="pl-pds">&quot;</span></span>,</div>
                </div>
                <div class="d-flex flex-justify-start flex-items-start">
                  <div class="blob-num blame-blob-num color-bg-subtle js-line-number" id="L547">547</div>
                  <div class="blob-code blob-code-inner js-file-line" id="LC547">              <span class="pl-s"><span class="pl-pds">&quot;</span>    &lt;/tr&gt;<span class="pl-cce">\n</span><span class="pl-pds">&quot;</span></span>,</div>
                </div>
                <div class="d-flex flex-justify-start flex-items-start">
                  <div class="blob-num blame-blob-num color-bg-subtle js-line-number" id="L548">548</div>
                  <div class="blob-code blob-code-inner js-file-line" id="LC548">              <span class="pl-s"><span class="pl-pds">&quot;</span>  &lt;/thead&gt;<span class="pl-cce">\n</span><span class="pl-pds">&quot;</span></span>,</div>
                </div>
                <div class="d-flex flex-justify-start flex-items-start">
                  <div class="blob-num blame-blob-num color-bg-subtle js-line-number" id="L549">549</div>
                  <div class="blob-code blob-code-inner js-file-line" id="LC549">              <span class="pl-s"><span class="pl-pds">&quot;</span>  &lt;tbody&gt;<span class="pl-cce">\n</span><span class="pl-pds">&quot;</span></span>,</div>
                </div>
                <div class="d-flex flex-justify-start flex-items-start">
                  <div class="blob-num blame-blob-num color-bg-subtle js-line-number" id="L550">550</div>
                  <div class="blob-code blob-code-inner js-file-line" id="LC550">              <span class="pl-s"><span class="pl-pds">&quot;</span>    &lt;tr&gt;<span class="pl-cce">\n</span><span class="pl-pds">&quot;</span></span>,</div>
                </div>
                <div class="d-flex flex-justify-start flex-items-start">
                  <div class="blob-num blame-blob-num color-bg-subtle js-line-number" id="L551">551</div>
                  <div class="blob-code blob-code-inner js-file-line" id="LC551">              <span class="pl-s"><span class="pl-pds">&quot;</span>      &lt;th&gt;0&lt;/th&gt;<span class="pl-cce">\n</span><span class="pl-pds">&quot;</span></span>,</div>
                </div>
                <div class="d-flex flex-justify-start flex-items-start">
                  <div class="blob-num blame-blob-num color-bg-subtle js-line-number" id="L552">552</div>
                  <div class="blob-code blob-code-inner js-file-line" id="LC552">              <span class="pl-s"><span class="pl-pds">&quot;</span>      &lt;td&gt;1885&lt;/td&gt;<span class="pl-cce">\n</span><span class="pl-pds">&quot;</span></span>,</div>
                </div>
                <div class="d-flex flex-justify-start flex-items-start">
                  <div class="blob-num blame-blob-num color-bg-subtle js-line-number" id="L553">553</div>
                  <div class="blob-code blob-code-inner js-file-line" id="LC553">              <span class="pl-s"><span class="pl-pds">&quot;</span>      &lt;td&gt;Beverages&lt;/td&gt;<span class="pl-cce">\n</span><span class="pl-pds">&quot;</span></span>,</div>
                </div>
                <div class="d-flex flex-justify-start flex-items-start">
                  <div class="blob-num blame-blob-num color-bg-subtle js-line-number" id="L554">554</div>
                  <div class="blob-code blob-code-inner js-file-line" id="LC554">              <span class="pl-s"><span class="pl-pds">&quot;</span>      &lt;td&gt;Thai&lt;/td&gt;<span class="pl-cce">\n</span><span class="pl-pds">&quot;</span></span>,</div>
                </div>
                <div class="d-flex flex-justify-start flex-items-start">
                  <div class="blob-num blame-blob-num color-bg-subtle js-line-number" id="L555">555</div>
                  <div class="blob-code blob-code-inner js-file-line" id="LC555">              <span class="pl-s"><span class="pl-pds">&quot;</span>    &lt;/tr&gt;<span class="pl-cce">\n</span><span class="pl-pds">&quot;</span></span>,</div>
                </div>
                <div class="d-flex flex-justify-start flex-items-start">
                  <div class="blob-num blame-blob-num color-bg-subtle js-line-number" id="L556">556</div>
                  <div class="blob-code blob-code-inner js-file-line" id="LC556">              <span class="pl-s"><span class="pl-pds">&quot;</span>    &lt;tr&gt;<span class="pl-cce">\n</span><span class="pl-pds">&quot;</span></span>,</div>
                </div>
                <div class="d-flex flex-justify-start flex-items-start">
                  <div class="blob-num blame-blob-num color-bg-subtle js-line-number" id="L557">557</div>
                  <div class="blob-code blob-code-inner js-file-line" id="LC557">              <span class="pl-s"><span class="pl-pds">&quot;</span>      &lt;th&gt;1&lt;/th&gt;<span class="pl-cce">\n</span><span class="pl-pds">&quot;</span></span>,</div>
                </div>
                <div class="d-flex flex-justify-start flex-items-start">
                  <div class="blob-num blame-blob-num color-bg-subtle js-line-number" id="L558">558</div>
                  <div class="blob-code blob-code-inner js-file-line" id="LC558">              <span class="pl-s"><span class="pl-pds">&quot;</span>      &lt;td&gt;1993&lt;/td&gt;<span class="pl-cce">\n</span><span class="pl-pds">&quot;</span></span>,</div>
                </div>
                <div class="d-flex flex-justify-start flex-items-start">
                  <div class="blob-num blame-blob-num color-bg-subtle js-line-number" id="L559">559</div>
                  <div class="blob-code blob-code-inner js-file-line" id="LC559">              <span class="pl-s"><span class="pl-pds">&quot;</span>      &lt;td&gt;Beverages&lt;/td&gt;<span class="pl-cce">\n</span><span class="pl-pds">&quot;</span></span>,</div>
                </div>
                <div class="d-flex flex-justify-start flex-items-start">
                  <div class="blob-num blame-blob-num color-bg-subtle js-line-number" id="L560">560</div>
                  <div class="blob-code blob-code-inner js-file-line" id="LC560">              <span class="pl-s"><span class="pl-pds">&quot;</span>      &lt;td&gt;Thai&lt;/td&gt;<span class="pl-cce">\n</span><span class="pl-pds">&quot;</span></span>,</div>
                </div>
                <div class="d-flex flex-justify-start flex-items-start">
                  <div class="blob-num blame-blob-num color-bg-subtle js-line-number" id="L561">561</div>
                  <div class="blob-code blob-code-inner js-file-line" id="LC561">              <span class="pl-s"><span class="pl-pds">&quot;</span>    &lt;/tr&gt;<span class="pl-cce">\n</span><span class="pl-pds">&quot;</span></span>,</div>
                </div>
                <div class="d-flex flex-justify-start flex-items-start">
                  <div class="blob-num blame-blob-num color-bg-subtle js-line-number" id="L562">562</div>
                  <div class="blob-code blob-code-inner js-file-line" id="LC562">              <span class="pl-s"><span class="pl-pds">&quot;</span>    &lt;tr&gt;<span class="pl-cce">\n</span><span class="pl-pds">&quot;</span></span>,</div>
                </div>
                <div class="d-flex flex-justify-start flex-items-start">
                  <div class="blob-num blame-blob-num color-bg-subtle js-line-number" id="L563">563</div>
                  <div class="blob-code blob-code-inner js-file-line" id="LC563">              <span class="pl-s"><span class="pl-pds">&quot;</span>      &lt;th&gt;2&lt;/th&gt;<span class="pl-cce">\n</span><span class="pl-pds">&quot;</span></span>,</div>
                </div>
                <div class="d-flex flex-justify-start flex-items-start">
                  <div class="blob-num blame-blob-num color-bg-subtle js-line-number" id="L564">564</div>
                  <div class="blob-code blob-code-inner js-file-line" id="LC564">              <span class="pl-s"><span class="pl-pds">&quot;</span>      &lt;td&gt;2539&lt;/td&gt;<span class="pl-cce">\n</span><span class="pl-pds">&quot;</span></span>,</div>
                </div>
                <div class="d-flex flex-justify-start flex-items-start">
                  <div class="blob-num blame-blob-num color-bg-subtle js-line-number" id="L565">565</div>
                  <div class="blob-code blob-code-inner js-file-line" id="LC565">              <span class="pl-s"><span class="pl-pds">&quot;</span>      &lt;td&gt;Beverages&lt;/td&gt;<span class="pl-cce">\n</span><span class="pl-pds">&quot;</span></span>,</div>
                </div>
                <div class="d-flex flex-justify-start flex-items-start">
                  <div class="blob-num blame-blob-num color-bg-subtle js-line-number" id="L566">566</div>
                  <div class="blob-code blob-code-inner js-file-line" id="LC566">              <span class="pl-s"><span class="pl-pds">&quot;</span>      &lt;td&gt;Thai&lt;/td&gt;<span class="pl-cce">\n</span><span class="pl-pds">&quot;</span></span>,</div>
                </div>
                <div class="d-flex flex-justify-start flex-items-start">
                  <div class="blob-num blame-blob-num color-bg-subtle js-line-number" id="L567">567</div>
                  <div class="blob-code blob-code-inner js-file-line" id="LC567">              <span class="pl-s"><span class="pl-pds">&quot;</span>    &lt;/tr&gt;<span class="pl-cce">\n</span><span class="pl-pds">&quot;</span></span>,</div>
                </div>
                <div class="d-flex flex-justify-start flex-items-start">
                  <div class="blob-num blame-blob-num color-bg-subtle js-line-number" id="L568">568</div>
                  <div class="blob-code blob-code-inner js-file-line" id="LC568">              <span class="pl-s"><span class="pl-pds">&quot;</span>    &lt;tr&gt;<span class="pl-cce">\n</span><span class="pl-pds">&quot;</span></span>,</div>
                </div>
                <div class="d-flex flex-justify-start flex-items-start">
                  <div class="blob-num blame-blob-num color-bg-subtle js-line-number" id="L569">569</div>
                  <div class="blob-code blob-code-inner js-file-line" id="LC569">              <span class="pl-s"><span class="pl-pds">&quot;</span>      &lt;th&gt;3&lt;/th&gt;<span class="pl-cce">\n</span><span class="pl-pds">&quot;</span></span>,</div>
                </div>
                <div class="d-flex flex-justify-start flex-items-start">
                  <div class="blob-num blame-blob-num color-bg-subtle js-line-number" id="L570">570</div>
                  <div class="blob-code blob-code-inner js-file-line" id="LC570">              <span class="pl-s"><span class="pl-pds">&quot;</span>      &lt;td&gt;1248&lt;/td&gt;<span class="pl-cce">\n</span><span class="pl-pds">&quot;</span></span>,</div>
                </div>
                <div class="d-flex flex-justify-start flex-items-start">
                  <div class="blob-num blame-blob-num color-bg-subtle js-line-number" id="L571">571</div>
                  <div class="blob-code blob-code-inner js-file-line" id="LC571">              <span class="pl-s"><span class="pl-pds">&quot;</span>      &lt;td&gt;Beverages&lt;/td&gt;<span class="pl-cce">\n</span><span class="pl-pds">&quot;</span></span>,</div>
                </div>
                <div class="d-flex flex-justify-start flex-items-start">
                  <div class="blob-num blame-blob-num color-bg-subtle js-line-number" id="L572">572</div>
                  <div class="blob-code blob-code-inner js-file-line" id="LC572">              <span class="pl-s"><span class="pl-pds">&quot;</span>      &lt;td&gt;Indian&lt;/td&gt;<span class="pl-cce">\n</span><span class="pl-pds">&quot;</span></span>,</div>
                </div>
                <div class="d-flex flex-justify-start flex-items-start">
                  <div class="blob-num blame-blob-num color-bg-subtle js-line-number" id="L573">573</div>
                  <div class="blob-code blob-code-inner js-file-line" id="LC573">              <span class="pl-s"><span class="pl-pds">&quot;</span>    &lt;/tr&gt;<span class="pl-cce">\n</span><span class="pl-pds">&quot;</span></span>,</div>
                </div>
                <div class="d-flex flex-justify-start flex-items-start">
                  <div class="blob-num blame-blob-num color-bg-subtle js-line-number" id="L574">574</div>
                  <div class="blob-code blob-code-inner js-file-line" id="LC574">              <span class="pl-s"><span class="pl-pds">&quot;</span>    &lt;tr&gt;<span class="pl-cce">\n</span><span class="pl-pds">&quot;</span></span>,</div>
                </div>
                <div class="d-flex flex-justify-start flex-items-start">
                  <div class="blob-num blame-blob-num color-bg-subtle js-line-number" id="L575">575</div>
                  <div class="blob-code blob-code-inner js-file-line" id="LC575">              <span class="pl-s"><span class="pl-pds">&quot;</span>      &lt;th&gt;4&lt;/th&gt;<span class="pl-cce">\n</span><span class="pl-pds">&quot;</span></span>,</div>
                </div>
                <div class="d-flex flex-justify-start flex-items-start">
                  <div class="blob-num blame-blob-num color-bg-subtle js-line-number" id="L576">576</div>
                  <div class="blob-code blob-code-inner js-file-line" id="LC576">              <span class="pl-s"><span class="pl-pds">&quot;</span>      &lt;td&gt;2631&lt;/td&gt;<span class="pl-cce">\n</span><span class="pl-pds">&quot;</span></span>,</div>
                </div>
                <div class="d-flex flex-justify-start flex-items-start">
                  <div class="blob-num blame-blob-num color-bg-subtle js-line-number" id="L577">577</div>
                  <div class="blob-code blob-code-inner js-file-line" id="LC577">              <span class="pl-s"><span class="pl-pds">&quot;</span>      &lt;td&gt;Beverages&lt;/td&gt;<span class="pl-cce">\n</span><span class="pl-pds">&quot;</span></span>,</div>
                </div>
                <div class="d-flex flex-justify-start flex-items-start">
                  <div class="blob-num blame-blob-num color-bg-subtle js-line-number" id="L578">578</div>
                  <div class="blob-code blob-code-inner js-file-line" id="LC578">              <span class="pl-s"><span class="pl-pds">&quot;</span>      &lt;td&gt;Indian&lt;/td&gt;<span class="pl-cce">\n</span><span class="pl-pds">&quot;</span></span>,</div>
                </div>
                <div class="d-flex flex-justify-start flex-items-start">
                  <div class="blob-num blame-blob-num color-bg-subtle js-line-number" id="L579">579</div>
                  <div class="blob-code blob-code-inner js-file-line" id="LC579">              <span class="pl-s"><span class="pl-pds">&quot;</span>    &lt;/tr&gt;<span class="pl-cce">\n</span><span class="pl-pds">&quot;</span></span>,</div>
                </div>
                <div class="d-flex flex-justify-start flex-items-start">
                  <div class="blob-num blame-blob-num color-bg-subtle js-line-number" id="L580">580</div>
                  <div class="blob-code blob-code-inner js-file-line" id="LC580">              <span class="pl-s"><span class="pl-pds">&quot;</span>  &lt;/tbody&gt;<span class="pl-cce">\n</span><span class="pl-pds">&quot;</span></span>,</div>
                </div>
                <div class="d-flex flex-justify-start flex-items-start">
                  <div class="blob-num blame-blob-num color-bg-subtle js-line-number" id="L581">581</div>
                  <div class="blob-code blob-code-inner js-file-line" id="LC581">              <span class="pl-s"><span class="pl-pds">&quot;</span>&lt;/table&gt;<span class="pl-cce">\n</span><span class="pl-pds">&quot;</span></span>,</div>
                </div>
                <div class="d-flex flex-justify-start flex-items-start">
                  <div class="blob-num blame-blob-num color-bg-subtle js-line-number" id="L582">582</div>
                  <div class="blob-code blob-code-inner js-file-line" id="LC582">              <span class="pl-s"><span class="pl-pds">&quot;</span>&lt;/div&gt;<span class="pl-cce">\n</span><span class="pl-pds">&quot;</span></span>,</div>
                </div>
                <div class="d-flex flex-justify-start flex-items-start">
                  <div class="blob-num blame-blob-num color-bg-subtle js-line-number" id="L583">583</div>
                  <div class="blob-code blob-code-inner js-file-line" id="LC583">              <span class="pl-s"><span class="pl-pds">&quot;</span>      &lt;button class=<span class="pl-cce">\&quot;</span>colab-df-convert<span class="pl-cce">\&quot;</span> onclick=<span class="pl-cce">\&quot;</span>convertToInteractive(&#39;df-71ffef51-293c-4a9e-8527-f1dbad6d8367&#39;)<span class="pl-cce">\&quot;\n</span><span class="pl-pds">&quot;</span></span>,</div>
                </div>
                <div class="d-flex flex-justify-start flex-items-start">
                  <div class="blob-num blame-blob-num color-bg-subtle js-line-number" id="L584">584</div>
                  <div class="blob-code blob-code-inner js-file-line" id="LC584">              <span class="pl-s"><span class="pl-pds">&quot;</span>              title=<span class="pl-cce">\&quot;</span>Convert this dataframe to an interactive table.<span class="pl-cce">\&quot;\n</span><span class="pl-pds">&quot;</span></span>,</div>
                </div>
                <div class="d-flex flex-justify-start flex-items-start">
                  <div class="blob-num blame-blob-num color-bg-subtle js-line-number" id="L585">585</div>
                  <div class="blob-code blob-code-inner js-file-line" id="LC585">              <span class="pl-s"><span class="pl-pds">&quot;</span>              style=<span class="pl-cce">\&quot;</span>display:none;<span class="pl-cce">\&quot;</span>&gt;<span class="pl-cce">\n</span><span class="pl-pds">&quot;</span></span>,</div>
                </div>
                <div class="d-flex flex-justify-start flex-items-start">
                  <div class="blob-num blame-blob-num color-bg-subtle js-line-number" id="L586">586</div>
                  <div class="blob-code blob-code-inner js-file-line" id="LC586">              <span class="pl-s"><span class="pl-pds">&quot;</span>        <span class="pl-cce">\n</span><span class="pl-pds">&quot;</span></span>,</div>
                </div>
                <div class="d-flex flex-justify-start flex-items-start">
                  <div class="blob-num blame-blob-num color-bg-subtle js-line-number" id="L587">587</div>
                  <div class="blob-code blob-code-inner js-file-line" id="LC587">              <span class="pl-s"><span class="pl-pds">&quot;</span>  &lt;svg xmlns=<span class="pl-cce">\&quot;</span>http://www.w3.org/2000/svg<span class="pl-cce">\&quot;</span> height=<span class="pl-cce">\&quot;</span>24px<span class="pl-cce">\&quot;</span>viewBox=<span class="pl-cce">\&quot;</span>0 0 24 24<span class="pl-cce">\&quot;\n</span><span class="pl-pds">&quot;</span></span>,</div>
                </div>
                <div class="d-flex flex-justify-start flex-items-start">
                  <div class="blob-num blame-blob-num color-bg-subtle js-line-number" id="L588">588</div>
                  <div class="blob-code blob-code-inner js-file-line" id="LC588">              <span class="pl-s"><span class="pl-pds">&quot;</span>       width=<span class="pl-cce">\&quot;</span>24px<span class="pl-cce">\&quot;</span>&gt;<span class="pl-cce">\n</span><span class="pl-pds">&quot;</span></span>,</div>
                </div>
                <div class="d-flex flex-justify-start flex-items-start">
                  <div class="blob-num blame-blob-num color-bg-subtle js-line-number" id="L589">589</div>
                  <div class="blob-code blob-code-inner js-file-line" id="LC589">              <span class="pl-s"><span class="pl-pds">&quot;</span>    &lt;path d=<span class="pl-cce">\&quot;</span>M0 0h24v24H0V0z<span class="pl-cce">\&quot;</span> fill=<span class="pl-cce">\&quot;</span>none<span class="pl-cce">\&quot;</span>/&gt;<span class="pl-cce">\n</span><span class="pl-pds">&quot;</span></span>,</div>
                </div>
                <div class="d-flex flex-justify-start flex-items-start">
                  <div class="blob-num blame-blob-num color-bg-subtle js-line-number" id="L590">590</div>
                  <div class="blob-code blob-code-inner js-file-line" id="LC590">              <span class="pl-s"><span class="pl-pds">&quot;</span>    &lt;path d=<span class="pl-cce">\&quot;</span>M18.56 5.44l.94 2.06.94-2.06 2.06-.94-2.06-.94-.94-2.06-.94 2.06-2.06.94zm-11 1L8.5 8.5l.94-2.06 2.06-.94-2.06-.94L8.5 2.5l-.94 2.06-2.06.94zm10 10l.94 2.06.94-2.06 2.06-.94-2.06-.94-.94-2.06-.94 2.06-2.06.94z<span class="pl-cce">\&quot;</span>/&gt;&lt;path d=<span class="pl-cce">\&quot;</span>M17.41 7.96l-1.37-1.37c-.4-.4-.92-.59-1.43-.59-.52 0-1.04.2-1.43.59L10.3 9.45l-7.72 7.72c-.78.78-.78 2.05 0 2.83L4 21.41c.39.39.9.59 1.41.59.51 0 1.02-.2 1.41-.59l7.78-7.78 2.81-2.81c.8-.78.8-2.07 0-2.86zM5.41 20L4 18.59l7.72-7.72 1.47 1.35L5.41 20z<span class="pl-cce">\&quot;</span>/&gt;<span class="pl-cce">\n</span><span class="pl-pds">&quot;</span></span>,</div>
                </div>
                <div class="d-flex flex-justify-start flex-items-start">
                  <div class="blob-num blame-blob-num color-bg-subtle js-line-number" id="L591">591</div>
                  <div class="blob-code blob-code-inner js-file-line" id="LC591">              <span class="pl-s"><span class="pl-pds">&quot;</span>  &lt;/svg&gt;<span class="pl-cce">\n</span><span class="pl-pds">&quot;</span></span>,</div>
                </div>
                <div class="d-flex flex-justify-start flex-items-start">
                  <div class="blob-num blame-blob-num color-bg-subtle js-line-number" id="L592">592</div>
                  <div class="blob-code blob-code-inner js-file-line" id="LC592">              <span class="pl-s"><span class="pl-pds">&quot;</span>      &lt;/button&gt;<span class="pl-cce">\n</span><span class="pl-pds">&quot;</span></span>,</div>
                </div>
                <div class="d-flex flex-justify-start flex-items-start">
                  <div class="blob-num blame-blob-num color-bg-subtle js-line-number" id="L593">593</div>
                  <div class="blob-code blob-code-inner js-file-line" id="LC593">              <span class="pl-s"><span class="pl-pds">&quot;</span>      <span class="pl-cce">\n</span><span class="pl-pds">&quot;</span></span>,</div>
                </div>
                <div class="d-flex flex-justify-start flex-items-start">
                  <div class="blob-num blame-blob-num color-bg-subtle js-line-number" id="L594">594</div>
                  <div class="blob-code blob-code-inner js-file-line" id="LC594">              <span class="pl-s"><span class="pl-pds">&quot;</span>  &lt;style&gt;<span class="pl-cce">\n</span><span class="pl-pds">&quot;</span></span>,</div>
                </div>
                <div class="d-flex flex-justify-start flex-items-start">
                  <div class="blob-num blame-blob-num color-bg-subtle js-line-number" id="L595">595</div>
                  <div class="blob-code blob-code-inner js-file-line" id="LC595">              <span class="pl-s"><span class="pl-pds">&quot;</span>    .colab-df-container {<span class="pl-cce">\n</span><span class="pl-pds">&quot;</span></span>,</div>
                </div>
                <div class="d-flex flex-justify-start flex-items-start">
                  <div class="blob-num blame-blob-num color-bg-subtle js-line-number" id="L596">596</div>
                  <div class="blob-code blob-code-inner js-file-line" id="LC596">              <span class="pl-s"><span class="pl-pds">&quot;</span>      display:flex;<span class="pl-cce">\n</span><span class="pl-pds">&quot;</span></span>,</div>
                </div>
                <div class="d-flex flex-justify-start flex-items-start">
                  <div class="blob-num blame-blob-num color-bg-subtle js-line-number" id="L597">597</div>
                  <div class="blob-code blob-code-inner js-file-line" id="LC597">              <span class="pl-s"><span class="pl-pds">&quot;</span>      flex-wrap:wrap;<span class="pl-cce">\n</span><span class="pl-pds">&quot;</span></span>,</div>
                </div>
                <div class="d-flex flex-justify-start flex-items-start">
                  <div class="blob-num blame-blob-num color-bg-subtle js-line-number" id="L598">598</div>
                  <div class="blob-code blob-code-inner js-file-line" id="LC598">              <span class="pl-s"><span class="pl-pds">&quot;</span>      gap: 12px;<span class="pl-cce">\n</span><span class="pl-pds">&quot;</span></span>,</div>
                </div>
                <div class="d-flex flex-justify-start flex-items-start">
                  <div class="blob-num blame-blob-num color-bg-subtle js-line-number" id="L599">599</div>
                  <div class="blob-code blob-code-inner js-file-line" id="LC599">              <span class="pl-s"><span class="pl-pds">&quot;</span>    }<span class="pl-cce">\n</span><span class="pl-pds">&quot;</span></span>,</div>
                </div>
                <div class="d-flex flex-justify-start flex-items-start">
                  <div class="blob-num blame-blob-num color-bg-subtle js-line-number" id="L600">600</div>
                  <div class="blob-code blob-code-inner js-file-line" id="LC600">              <span class="pl-s"><span class="pl-pds">&quot;</span><span class="pl-cce">\n</span><span class="pl-pds">&quot;</span></span>,</div>
                </div>
                <div class="d-flex flex-justify-start flex-items-start">
                  <div class="blob-num blame-blob-num color-bg-subtle js-line-number" id="L601">601</div>
                  <div class="blob-code blob-code-inner js-file-line" id="LC601">              <span class="pl-s"><span class="pl-pds">&quot;</span>    .colab-df-convert {<span class="pl-cce">\n</span><span class="pl-pds">&quot;</span></span>,</div>
                </div>
                <div class="d-flex flex-justify-start flex-items-start">
                  <div class="blob-num blame-blob-num color-bg-subtle js-line-number" id="L602">602</div>
                  <div class="blob-code blob-code-inner js-file-line" id="LC602">              <span class="pl-s"><span class="pl-pds">&quot;</span>      background-color: #E8F0FE;<span class="pl-cce">\n</span><span class="pl-pds">&quot;</span></span>,</div>
                </div>
                <div class="d-flex flex-justify-start flex-items-start">
                  <div class="blob-num blame-blob-num color-bg-subtle js-line-number" id="L603">603</div>
                  <div class="blob-code blob-code-inner js-file-line" id="LC603">              <span class="pl-s"><span class="pl-pds">&quot;</span>      border: none;<span class="pl-cce">\n</span><span class="pl-pds">&quot;</span></span>,</div>
                </div>
                <div class="d-flex flex-justify-start flex-items-start">
                  <div class="blob-num blame-blob-num color-bg-subtle js-line-number" id="L604">604</div>
                  <div class="blob-code blob-code-inner js-file-line" id="LC604">              <span class="pl-s"><span class="pl-pds">&quot;</span>      border-radius: 50%;<span class="pl-cce">\n</span><span class="pl-pds">&quot;</span></span>,</div>
                </div>
                <div class="d-flex flex-justify-start flex-items-start">
                  <div class="blob-num blame-blob-num color-bg-subtle js-line-number" id="L605">605</div>
                  <div class="blob-code blob-code-inner js-file-line" id="LC605">              <span class="pl-s"><span class="pl-pds">&quot;</span>      cursor: pointer;<span class="pl-cce">\n</span><span class="pl-pds">&quot;</span></span>,</div>
                </div>
                <div class="d-flex flex-justify-start flex-items-start">
                  <div class="blob-num blame-blob-num color-bg-subtle js-line-number" id="L606">606</div>
                  <div class="blob-code blob-code-inner js-file-line" id="LC606">              <span class="pl-s"><span class="pl-pds">&quot;</span>      display: none;<span class="pl-cce">\n</span><span class="pl-pds">&quot;</span></span>,</div>
                </div>
                <div class="d-flex flex-justify-start flex-items-start">
                  <div class="blob-num blame-blob-num color-bg-subtle js-line-number" id="L607">607</div>
                  <div class="blob-code blob-code-inner js-file-line" id="LC607">              <span class="pl-s"><span class="pl-pds">&quot;</span>      fill: #1967D2;<span class="pl-cce">\n</span><span class="pl-pds">&quot;</span></span>,</div>
                </div>
                <div class="d-flex flex-justify-start flex-items-start">
                  <div class="blob-num blame-blob-num color-bg-subtle js-line-number" id="L608">608</div>
                  <div class="blob-code blob-code-inner js-file-line" id="LC608">              <span class="pl-s"><span class="pl-pds">&quot;</span>      height: 32px;<span class="pl-cce">\n</span><span class="pl-pds">&quot;</span></span>,</div>
                </div>
                <div class="d-flex flex-justify-start flex-items-start">
                  <div class="blob-num blame-blob-num color-bg-subtle js-line-number" id="L609">609</div>
                  <div class="blob-code blob-code-inner js-file-line" id="LC609">              <span class="pl-s"><span class="pl-pds">&quot;</span>      padding: 0 0 0 0;<span class="pl-cce">\n</span><span class="pl-pds">&quot;</span></span>,</div>
                </div>
                <div class="d-flex flex-justify-start flex-items-start">
                  <div class="blob-num blame-blob-num color-bg-subtle js-line-number" id="L610">610</div>
                  <div class="blob-code blob-code-inner js-file-line" id="LC610">              <span class="pl-s"><span class="pl-pds">&quot;</span>      width: 32px;<span class="pl-cce">\n</span><span class="pl-pds">&quot;</span></span>,</div>
                </div>
                <div class="d-flex flex-justify-start flex-items-start">
                  <div class="blob-num blame-blob-num color-bg-subtle js-line-number" id="L611">611</div>
                  <div class="blob-code blob-code-inner js-file-line" id="LC611">              <span class="pl-s"><span class="pl-pds">&quot;</span>    }<span class="pl-cce">\n</span><span class="pl-pds">&quot;</span></span>,</div>
                </div>
                <div class="d-flex flex-justify-start flex-items-start">
                  <div class="blob-num blame-blob-num color-bg-subtle js-line-number" id="L612">612</div>
                  <div class="blob-code blob-code-inner js-file-line" id="LC612">              <span class="pl-s"><span class="pl-pds">&quot;</span><span class="pl-cce">\n</span><span class="pl-pds">&quot;</span></span>,</div>
                </div>
                <div class="d-flex flex-justify-start flex-items-start">
                  <div class="blob-num blame-blob-num color-bg-subtle js-line-number" id="L613">613</div>
                  <div class="blob-code blob-code-inner js-file-line" id="LC613">              <span class="pl-s"><span class="pl-pds">&quot;</span>    .colab-df-convert:hover {<span class="pl-cce">\n</span><span class="pl-pds">&quot;</span></span>,</div>
                </div>
                <div class="d-flex flex-justify-start flex-items-start">
                  <div class="blob-num blame-blob-num color-bg-subtle js-line-number" id="L614">614</div>
                  <div class="blob-code blob-code-inner js-file-line" id="LC614">              <span class="pl-s"><span class="pl-pds">&quot;</span>      background-color: #E2EBFA;<span class="pl-cce">\n</span><span class="pl-pds">&quot;</span></span>,</div>
                </div>
                <div class="d-flex flex-justify-start flex-items-start">
                  <div class="blob-num blame-blob-num color-bg-subtle js-line-number" id="L615">615</div>
                  <div class="blob-code blob-code-inner js-file-line" id="LC615">              <span class="pl-s"><span class="pl-pds">&quot;</span>      box-shadow: 0px 1px 2px rgba(60, 64, 67, 0.3), 0px 1px 3px 1px rgba(60, 64, 67, 0.15);<span class="pl-cce">\n</span><span class="pl-pds">&quot;</span></span>,</div>
                </div>
                <div class="d-flex flex-justify-start flex-items-start">
                  <div class="blob-num blame-blob-num color-bg-subtle js-line-number" id="L616">616</div>
                  <div class="blob-code blob-code-inner js-file-line" id="LC616">              <span class="pl-s"><span class="pl-pds">&quot;</span>      fill: #174EA6;<span class="pl-cce">\n</span><span class="pl-pds">&quot;</span></span>,</div>
                </div>
                <div class="d-flex flex-justify-start flex-items-start">
                  <div class="blob-num blame-blob-num color-bg-subtle js-line-number" id="L617">617</div>
                  <div class="blob-code blob-code-inner js-file-line" id="LC617">              <span class="pl-s"><span class="pl-pds">&quot;</span>    }<span class="pl-cce">\n</span><span class="pl-pds">&quot;</span></span>,</div>
                </div>
                <div class="d-flex flex-justify-start flex-items-start">
                  <div class="blob-num blame-blob-num color-bg-subtle js-line-number" id="L618">618</div>
                  <div class="blob-code blob-code-inner js-file-line" id="LC618">              <span class="pl-s"><span class="pl-pds">&quot;</span><span class="pl-cce">\n</span><span class="pl-pds">&quot;</span></span>,</div>
                </div>
                <div class="d-flex flex-justify-start flex-items-start">
                  <div class="blob-num blame-blob-num color-bg-subtle js-line-number" id="L619">619</div>
                  <div class="blob-code blob-code-inner js-file-line" id="LC619">              <span class="pl-s"><span class="pl-pds">&quot;</span>    [theme=dark] .colab-df-convert {<span class="pl-cce">\n</span><span class="pl-pds">&quot;</span></span>,</div>
                </div>
                <div class="d-flex flex-justify-start flex-items-start">
                  <div class="blob-num blame-blob-num color-bg-subtle js-line-number" id="L620">620</div>
                  <div class="blob-code blob-code-inner js-file-line" id="LC620">              <span class="pl-s"><span class="pl-pds">&quot;</span>      background-color: #3B4455;<span class="pl-cce">\n</span><span class="pl-pds">&quot;</span></span>,</div>
                </div>
                <div class="d-flex flex-justify-start flex-items-start">
                  <div class="blob-num blame-blob-num color-bg-subtle js-line-number" id="L621">621</div>
                  <div class="blob-code blob-code-inner js-file-line" id="LC621">              <span class="pl-s"><span class="pl-pds">&quot;</span>      fill: #D2E3FC;<span class="pl-cce">\n</span><span class="pl-pds">&quot;</span></span>,</div>
                </div>
                <div class="d-flex flex-justify-start flex-items-start">
                  <div class="blob-num blame-blob-num color-bg-subtle js-line-number" id="L622">622</div>
                  <div class="blob-code blob-code-inner js-file-line" id="LC622">              <span class="pl-s"><span class="pl-pds">&quot;</span>    }<span class="pl-cce">\n</span><span class="pl-pds">&quot;</span></span>,</div>
                </div>
                <div class="d-flex flex-justify-start flex-items-start">
                  <div class="blob-num blame-blob-num color-bg-subtle js-line-number" id="L623">623</div>
                  <div class="blob-code blob-code-inner js-file-line" id="LC623">              <span class="pl-s"><span class="pl-pds">&quot;</span><span class="pl-cce">\n</span><span class="pl-pds">&quot;</span></span>,</div>
                </div>
                <div class="d-flex flex-justify-start flex-items-start">
                  <div class="blob-num blame-blob-num color-bg-subtle js-line-number" id="L624">624</div>
                  <div class="blob-code blob-code-inner js-file-line" id="LC624">              <span class="pl-s"><span class="pl-pds">&quot;</span>    [theme=dark] .colab-df-convert:hover {<span class="pl-cce">\n</span><span class="pl-pds">&quot;</span></span>,</div>
                </div>
                <div class="d-flex flex-justify-start flex-items-start">
                  <div class="blob-num blame-blob-num color-bg-subtle js-line-number" id="L625">625</div>
                  <div class="blob-code blob-code-inner js-file-line" id="LC625">              <span class="pl-s"><span class="pl-pds">&quot;</span>      background-color: #434B5C;<span class="pl-cce">\n</span><span class="pl-pds">&quot;</span></span>,</div>
                </div>
                <div class="d-flex flex-justify-start flex-items-start">
                  <div class="blob-num blame-blob-num color-bg-subtle js-line-number" id="L626">626</div>
                  <div class="blob-code blob-code-inner js-file-line" id="LC626">              <span class="pl-s"><span class="pl-pds">&quot;</span>      box-shadow: 0px 1px 3px 1px rgba(0, 0, 0, 0.15);<span class="pl-cce">\n</span><span class="pl-pds">&quot;</span></span>,</div>
                </div>
                <div class="d-flex flex-justify-start flex-items-start">
                  <div class="blob-num blame-blob-num color-bg-subtle js-line-number" id="L627">627</div>
                  <div class="blob-code blob-code-inner js-file-line" id="LC627">              <span class="pl-s"><span class="pl-pds">&quot;</span>      filter: drop-shadow(0px 1px 2px rgba(0, 0, 0, 0.3));<span class="pl-cce">\n</span><span class="pl-pds">&quot;</span></span>,</div>
                </div>
                <div class="d-flex flex-justify-start flex-items-start">
                  <div class="blob-num blame-blob-num color-bg-subtle js-line-number" id="L628">628</div>
                  <div class="blob-code blob-code-inner js-file-line" id="LC628">              <span class="pl-s"><span class="pl-pds">&quot;</span>      fill: #FFFFFF;<span class="pl-cce">\n</span><span class="pl-pds">&quot;</span></span>,</div>
                </div>
                <div class="d-flex flex-justify-start flex-items-start">
                  <div class="blob-num blame-blob-num color-bg-subtle js-line-number" id="L629">629</div>
                  <div class="blob-code blob-code-inner js-file-line" id="LC629">              <span class="pl-s"><span class="pl-pds">&quot;</span>    }<span class="pl-cce">\n</span><span class="pl-pds">&quot;</span></span>,</div>
                </div>
                <div class="d-flex flex-justify-start flex-items-start">
                  <div class="blob-num blame-blob-num color-bg-subtle js-line-number" id="L630">630</div>
                  <div class="blob-code blob-code-inner js-file-line" id="LC630">              <span class="pl-s"><span class="pl-pds">&quot;</span>  &lt;/style&gt;<span class="pl-cce">\n</span><span class="pl-pds">&quot;</span></span>,</div>
                </div>
                <div class="d-flex flex-justify-start flex-items-start">
                  <div class="blob-num blame-blob-num color-bg-subtle js-line-number" id="L631">631</div>
                  <div class="blob-code blob-code-inner js-file-line" id="LC631">              <span class="pl-s"><span class="pl-pds">&quot;</span><span class="pl-cce">\n</span><span class="pl-pds">&quot;</span></span>,</div>
                </div>
                <div class="d-flex flex-justify-start flex-items-start">
                  <div class="blob-num blame-blob-num color-bg-subtle js-line-number" id="L632">632</div>
                  <div class="blob-code blob-code-inner js-file-line" id="LC632">              <span class="pl-s"><span class="pl-pds">&quot;</span>      &lt;script&gt;<span class="pl-cce">\n</span><span class="pl-pds">&quot;</span></span>,</div>
                </div>
                <div class="d-flex flex-justify-start flex-items-start">
                  <div class="blob-num blame-blob-num color-bg-subtle js-line-number" id="L633">633</div>
                  <div class="blob-code blob-code-inner js-file-line" id="LC633">              <span class="pl-s"><span class="pl-pds">&quot;</span>        const buttonEl =<span class="pl-cce">\n</span><span class="pl-pds">&quot;</span></span>,</div>
                </div>
                <div class="d-flex flex-justify-start flex-items-start">
                  <div class="blob-num blame-blob-num color-bg-subtle js-line-number" id="L634">634</div>
                  <div class="blob-code blob-code-inner js-file-line" id="LC634">              <span class="pl-s"><span class="pl-pds">&quot;</span>          document.querySelector(&#39;#df-71ffef51-293c-4a9e-8527-f1dbad6d8367 button.colab-df-convert&#39;);<span class="pl-cce">\n</span><span class="pl-pds">&quot;</span></span>,</div>
                </div>
                <div class="d-flex flex-justify-start flex-items-start">
                  <div class="blob-num blame-blob-num color-bg-subtle js-line-number" id="L635">635</div>
                  <div class="blob-code blob-code-inner js-file-line" id="LC635">              <span class="pl-s"><span class="pl-pds">&quot;</span>        buttonEl.style.display =<span class="pl-cce">\n</span><span class="pl-pds">&quot;</span></span>,</div>
                </div>
                <div class="d-flex flex-justify-start flex-items-start">
                  <div class="blob-num blame-blob-num color-bg-subtle js-line-number" id="L636">636</div>
                  <div class="blob-code blob-code-inner js-file-line" id="LC636">              <span class="pl-s"><span class="pl-pds">&quot;</span>          google.colab.kernel.accessAllowed ? &#39;block&#39; : &#39;none&#39;;<span class="pl-cce">\n</span><span class="pl-pds">&quot;</span></span>,</div>
                </div>
                <div class="d-flex flex-justify-start flex-items-start">
                  <div class="blob-num blame-blob-num color-bg-subtle js-line-number" id="L637">637</div>
                  <div class="blob-code blob-code-inner js-file-line" id="LC637">              <span class="pl-s"><span class="pl-pds">&quot;</span><span class="pl-cce">\n</span><span class="pl-pds">&quot;</span></span>,</div>
                </div>
                <div class="d-flex flex-justify-start flex-items-start">
                  <div class="blob-num blame-blob-num color-bg-subtle js-line-number" id="L638">638</div>
                  <div class="blob-code blob-code-inner js-file-line" id="LC638">              <span class="pl-s"><span class="pl-pds">&quot;</span>        async function convertToInteractive(key) {<span class="pl-cce">\n</span><span class="pl-pds">&quot;</span></span>,</div>
                </div>
                <div class="d-flex flex-justify-start flex-items-start">
                  <div class="blob-num blame-blob-num color-bg-subtle js-line-number" id="L639">639</div>
                  <div class="blob-code blob-code-inner js-file-line" id="LC639">              <span class="pl-s"><span class="pl-pds">&quot;</span>          const element = document.querySelector(&#39;#df-71ffef51-293c-4a9e-8527-f1dbad6d8367&#39;);<span class="pl-cce">\n</span><span class="pl-pds">&quot;</span></span>,</div>
                </div>
                <div class="d-flex flex-justify-start flex-items-start">
                  <div class="blob-num blame-blob-num color-bg-subtle js-line-number" id="L640">640</div>
                  <div class="blob-code blob-code-inner js-file-line" id="LC640">              <span class="pl-s"><span class="pl-pds">&quot;</span>          const dataTable =<span class="pl-cce">\n</span><span class="pl-pds">&quot;</span></span>,</div>
                </div>
                <div class="d-flex flex-justify-start flex-items-start">
                  <div class="blob-num blame-blob-num color-bg-subtle js-line-number" id="L641">641</div>
                  <div class="blob-code blob-code-inner js-file-line" id="LC641">              <span class="pl-s"><span class="pl-pds">&quot;</span>            await google.colab.kernel.invokeFunction(&#39;convertToInteractive&#39;,<span class="pl-cce">\n</span><span class="pl-pds">&quot;</span></span>,</div>
                </div>
                <div class="d-flex flex-justify-start flex-items-start">
                  <div class="blob-num blame-blob-num color-bg-subtle js-line-number" id="L642">642</div>
                  <div class="blob-code blob-code-inner js-file-line" id="LC642">              <span class="pl-s"><span class="pl-pds">&quot;</span>                                                     [key], {});<span class="pl-cce">\n</span><span class="pl-pds">&quot;</span></span>,</div>
                </div>
                <div class="d-flex flex-justify-start flex-items-start">
                  <div class="blob-num blame-blob-num color-bg-subtle js-line-number" id="L643">643</div>
                  <div class="blob-code blob-code-inner js-file-line" id="LC643">              <span class="pl-s"><span class="pl-pds">&quot;</span>          if (!dataTable) return;<span class="pl-cce">\n</span><span class="pl-pds">&quot;</span></span>,</div>
                </div>
                <div class="d-flex flex-justify-start flex-items-start">
                  <div class="blob-num blame-blob-num color-bg-subtle js-line-number" id="L644">644</div>
                  <div class="blob-code blob-code-inner js-file-line" id="LC644">              <span class="pl-s"><span class="pl-pds">&quot;</span><span class="pl-cce">\n</span><span class="pl-pds">&quot;</span></span>,</div>
                </div>
                <div class="d-flex flex-justify-start flex-items-start">
                  <div class="blob-num blame-blob-num color-bg-subtle js-line-number" id="L645">645</div>
                  <div class="blob-code blob-code-inner js-file-line" id="LC645">              <span class="pl-s"><span class="pl-pds">&quot;</span>          const docLinkHtml = &#39;Like what you see? Visit the &#39; +<span class="pl-cce">\n</span><span class="pl-pds">&quot;</span></span>,</div>
                </div>
                <div class="d-flex flex-justify-start flex-items-start">
                  <div class="blob-num blame-blob-num color-bg-subtle js-line-number" id="L646">646</div>
                  <div class="blob-code blob-code-inner js-file-line" id="LC646">              <span class="pl-s"><span class="pl-pds">&quot;</span>            &#39;&lt;a target=<span class="pl-cce">\&quot;</span>_blank<span class="pl-cce">\&quot;</span> href=https://colab.research.google.com/notebooks/data_table.ipynb&gt;data table notebook&lt;/a&gt;&#39;<span class="pl-cce">\n</span><span class="pl-pds">&quot;</span></span>,</div>
                </div>
                <div class="d-flex flex-justify-start flex-items-start">
                  <div class="blob-num blame-blob-num color-bg-subtle js-line-number" id="L647">647</div>
                  <div class="blob-code blob-code-inner js-file-line" id="LC647">              <span class="pl-s"><span class="pl-pds">&quot;</span>            + &#39; to learn more about interactive tables.&#39;;<span class="pl-cce">\n</span><span class="pl-pds">&quot;</span></span>,</div>
                </div>
                <div class="d-flex flex-justify-start flex-items-start">
                  <div class="blob-num blame-blob-num color-bg-subtle js-line-number" id="L648">648</div>
                  <div class="blob-code blob-code-inner js-file-line" id="LC648">              <span class="pl-s"><span class="pl-pds">&quot;</span>          element.innerHTML = &#39;&#39;;<span class="pl-cce">\n</span><span class="pl-pds">&quot;</span></span>,</div>
                </div>
                <div class="d-flex flex-justify-start flex-items-start">
                  <div class="blob-num blame-blob-num color-bg-subtle js-line-number" id="L649">649</div>
                  <div class="blob-code blob-code-inner js-file-line" id="LC649">              <span class="pl-s"><span class="pl-pds">&quot;</span>          dataTable[&#39;output_type&#39;] = &#39;display_data&#39;;<span class="pl-cce">\n</span><span class="pl-pds">&quot;</span></span>,</div>
                </div>
                <div class="d-flex flex-justify-start flex-items-start">
                  <div class="blob-num blame-blob-num color-bg-subtle js-line-number" id="L650">650</div>
                  <div class="blob-code blob-code-inner js-file-line" id="LC650">              <span class="pl-s"><span class="pl-pds">&quot;</span>          await google.colab.output.renderOutput(dataTable, element);<span class="pl-cce">\n</span><span class="pl-pds">&quot;</span></span>,</div>
                </div>
                <div class="d-flex flex-justify-start flex-items-start">
                  <div class="blob-num blame-blob-num color-bg-subtle js-line-number" id="L651">651</div>
                  <div class="blob-code blob-code-inner js-file-line" id="LC651">              <span class="pl-s"><span class="pl-pds">&quot;</span>          const docLink = document.createElement(&#39;div&#39;);<span class="pl-cce">\n</span><span class="pl-pds">&quot;</span></span>,</div>
                </div>
                <div class="d-flex flex-justify-start flex-items-start">
                  <div class="blob-num blame-blob-num color-bg-subtle js-line-number" id="L652">652</div>
                  <div class="blob-code blob-code-inner js-file-line" id="LC652">              <span class="pl-s"><span class="pl-pds">&quot;</span>          docLink.innerHTML = docLinkHtml;<span class="pl-cce">\n</span><span class="pl-pds">&quot;</span></span>,</div>
                </div>
                <div class="d-flex flex-justify-start flex-items-start">
                  <div class="blob-num blame-blob-num color-bg-subtle js-line-number" id="L653">653</div>
                  <div class="blob-code blob-code-inner js-file-line" id="LC653">              <span class="pl-s"><span class="pl-pds">&quot;</span>          element.appendChild(docLink);<span class="pl-cce">\n</span><span class="pl-pds">&quot;</span></span>,</div>
                </div>
                <div class="d-flex flex-justify-start flex-items-start">
                  <div class="blob-num blame-blob-num color-bg-subtle js-line-number" id="L654">654</div>
                  <div class="blob-code blob-code-inner js-file-line" id="LC654">              <span class="pl-s"><span class="pl-pds">&quot;</span>        }<span class="pl-cce">\n</span><span class="pl-pds">&quot;</span></span>,</div>
                </div>
                <div class="d-flex flex-justify-start flex-items-start">
                  <div class="blob-num blame-blob-num color-bg-subtle js-line-number" id="L655">655</div>
                  <div class="blob-code blob-code-inner js-file-line" id="LC655">              <span class="pl-s"><span class="pl-pds">&quot;</span>      &lt;/script&gt;<span class="pl-cce">\n</span><span class="pl-pds">&quot;</span></span>,</div>
                </div>
                <div class="d-flex flex-justify-start flex-items-start">
                  <div class="blob-num blame-blob-num color-bg-subtle js-line-number" id="L656">656</div>
                  <div class="blob-code blob-code-inner js-file-line" id="LC656">              <span class="pl-s"><span class="pl-pds">&quot;</span>    &lt;/div&gt;<span class="pl-cce">\n</span><span class="pl-pds">&quot;</span></span>,</div>
                </div>
                <div class="d-flex flex-justify-start flex-items-start">
                  <div class="blob-num blame-blob-num color-bg-subtle js-line-number" id="L657">657</div>
                  <div class="blob-code blob-code-inner js-file-line" id="LC657">              <span class="pl-s"><span class="pl-pds">&quot;</span>  &lt;/div&gt;<span class="pl-cce">\n</span><span class="pl-pds">&quot;</span></span>,</div>
                </div>
                <div class="d-flex flex-justify-start flex-items-start">
                  <div class="blob-num blame-blob-num color-bg-subtle js-line-number" id="L658">658</div>
                  <div class="blob-code blob-code-inner js-file-line" id="LC658">              <span class="pl-s"><span class="pl-pds">&quot;</span>  <span class="pl-pds">&quot;</span></span></div>
                </div>
                <div class="d-flex flex-justify-start flex-items-start">
                  <div class="blob-num blame-blob-num color-bg-subtle js-line-number" id="L659">659</div>
                  <div class="blob-code blob-code-inner js-file-line" id="LC659">            ]</div>
                </div>
                <div class="d-flex flex-justify-start flex-items-start">
                  <div class="blob-num blame-blob-num color-bg-subtle js-line-number" id="L660">660</div>
                  <div class="blob-code blob-code-inner js-file-line" id="LC660">          },</div>
                </div>
                <div class="d-flex flex-justify-start flex-items-start">
                  <div class="blob-num blame-blob-num color-bg-subtle js-line-number" id="L661">661</div>
                  <div class="blob-code blob-code-inner js-file-line" id="LC661">          <span class="pl-ent">&quot;metadata&quot;</span>: {},</div>
                </div>
                <div class="d-flex flex-justify-start flex-items-start">
                  <div class="blob-num blame-blob-num color-bg-subtle js-line-number" id="L662">662</div>
                  <div class="blob-code blob-code-inner js-file-line" id="LC662">          <span class="pl-ent">&quot;execution_count&quot;</span>: <span class="pl-c1">11</span></div>
                </div>
                <div class="d-flex flex-justify-start flex-items-start">
                  <div class="blob-num blame-blob-num color-bg-subtle js-line-number" id="L663">663</div>
                  <div class="blob-code blob-code-inner js-file-line" id="LC663">        }</div>
                </div>
                <div class="d-flex flex-justify-start flex-items-start">
                  <div class="blob-num blame-blob-num color-bg-subtle js-line-number" id="L664">664</div>
                  <div class="blob-code blob-code-inner js-file-line" id="LC664">      ]</div>
                </div>
                <div class="d-flex flex-justify-start flex-items-start">
                  <div class="blob-num blame-blob-num color-bg-subtle js-line-number" id="L665">665</div>
                  <div class="blob-code blob-code-inner js-file-line" id="LC665">    },</div>
                </div>
                <div class="d-flex flex-justify-start flex-items-start">
                  <div class="blob-num blame-blob-num color-bg-subtle js-line-number" id="L666">666</div>
                  <div class="blob-code blob-code-inner js-file-line" id="LC666">    {</div>
                </div>
                <div class="d-flex flex-justify-start flex-items-start">
                  <div class="blob-num blame-blob-num color-bg-subtle js-line-number" id="L667">667</div>
                  <div class="blob-code blob-code-inner js-file-line" id="LC667">      <span class="pl-ent">&quot;cell_type&quot;</span>: <span class="pl-s"><span class="pl-pds">&quot;</span>code<span class="pl-pds">&quot;</span></span>,</div>
                </div>
                <div class="d-flex flex-justify-start flex-items-start">
                  <div class="blob-num blame-blob-num color-bg-subtle js-line-number" id="L668">668</div>
                  <div class="blob-code blob-code-inner js-file-line" id="LC668">      <span class="pl-ent">&quot;source&quot;</span>: [</div>
                </div>
                <div class="d-flex flex-justify-start flex-items-start">
                  <div class="blob-num blame-blob-num color-bg-subtle js-line-number" id="L669">669</div>
                  <div class="blob-code blob-code-inner js-file-line" id="LC669">        <span class="pl-s"><span class="pl-pds">&quot;</span>train.describe()<span class="pl-pds">&quot;</span></span></div>
                </div>
                <div class="d-flex flex-justify-start flex-items-start">
                  <div class="blob-num blame-blob-num color-bg-subtle js-line-number" id="L670">670</div>
                  <div class="blob-code blob-code-inner js-file-line" id="LC670">      ],</div>
                </div>
                <div class="d-flex flex-justify-start flex-items-start">
                  <div class="blob-num blame-blob-num color-bg-subtle js-line-number" id="L671">671</div>
                  <div class="blob-code blob-code-inner js-file-line" id="LC671">      <span class="pl-ent">&quot;metadata&quot;</span>: {</div>
                </div>
                <div class="d-flex flex-justify-start flex-items-start">
                  <div class="blob-num blame-blob-num color-bg-subtle js-line-number" id="L672">672</div>
                  <div class="blob-code blob-code-inner js-file-line" id="LC672">        <span class="pl-ent">&quot;colab&quot;</span>: {</div>
                </div>
                <div class="d-flex flex-justify-start flex-items-start">
                  <div class="blob-num blame-blob-num color-bg-subtle js-line-number" id="L673">673</div>
                  <div class="blob-code blob-code-inner js-file-line" id="LC673">          <span class="pl-ent">&quot;base_uri&quot;</span>: <span class="pl-s"><span class="pl-pds">&quot;</span>https://localhost:8080/<span class="pl-pds">&quot;</span></span>,</div>
                </div>
                <div class="d-flex flex-justify-start flex-items-start">
                  <div class="blob-num blame-blob-num color-bg-subtle js-line-number" id="L674">674</div>
                  <div class="blob-code blob-code-inner js-file-line" id="LC674">          <span class="pl-ent">&quot;height&quot;</span>: <span class="pl-c1">300</span></div>
                </div>
                <div class="d-flex flex-justify-start flex-items-start">
                  <div class="blob-num blame-blob-num color-bg-subtle js-line-number" id="L675">675</div>
                  <div class="blob-code blob-code-inner js-file-line" id="LC675">        },</div>
                </div>
                <div class="d-flex flex-justify-start flex-items-start">
                  <div class="blob-num blame-blob-num color-bg-subtle js-line-number" id="L676">676</div>
                  <div class="blob-code blob-code-inner js-file-line" id="LC676">        <span class="pl-ent">&quot;id&quot;</span>: <span class="pl-s"><span class="pl-pds">&quot;</span>GMiJ8oF3-sn7<span class="pl-pds">&quot;</span></span>,</div>
                </div>
                <div class="d-flex flex-justify-start flex-items-start">
                  <div class="blob-num blame-blob-num color-bg-subtle js-line-number" id="L677">677</div>
                  <div class="blob-code blob-code-inner js-file-line" id="LC677">        <span class="pl-ent">&quot;outputId&quot;</span>: <span class="pl-s"><span class="pl-pds">&quot;</span>4113eeb3-85b0-4be2-ba54-f2ac053f0989<span class="pl-pds">&quot;</span></span></div>
                </div>
                <div class="d-flex flex-justify-start flex-items-start">
                  <div class="blob-num blame-blob-num color-bg-subtle js-line-number" id="L678">678</div>
                  <div class="blob-code blob-code-inner js-file-line" id="LC678">      },</div>
                </div>
                <div class="d-flex flex-justify-start flex-items-start">
                  <div class="blob-num blame-blob-num color-bg-subtle js-line-number" id="L679">679</div>
                  <div class="blob-code blob-code-inner js-file-line" id="LC679">      <span class="pl-ent">&quot;execution_count&quot;</span>: <span class="pl-c1">12</span>,</div>
                </div>
                <div class="d-flex flex-justify-start flex-items-start">
                  <div class="blob-num blame-blob-num color-bg-subtle js-line-number" id="L680">680</div>
                  <div class="blob-code blob-code-inner js-file-line" id="LC680">      <span class="pl-ent">&quot;outputs&quot;</span>: [</div>
                </div>
                <div class="d-flex flex-justify-start flex-items-start">
                  <div class="blob-num blame-blob-num color-bg-subtle js-line-number" id="L681">681</div>
                  <div class="blob-code blob-code-inner js-file-line" id="LC681">        {</div>
                </div>
                <div class="d-flex flex-justify-start flex-items-start">
                  <div class="blob-num blame-blob-num color-bg-subtle js-line-number" id="L682">682</div>
                  <div class="blob-code blob-code-inner js-file-line" id="LC682">          <span class="pl-ent">&quot;output_type&quot;</span>: <span class="pl-s"><span class="pl-pds">&quot;</span>execute_result<span class="pl-pds">&quot;</span></span>,</div>
                </div>
                <div class="d-flex flex-justify-start flex-items-start">
                  <div class="blob-num blame-blob-num color-bg-subtle js-line-number" id="L683">683</div>
                  <div class="blob-code blob-code-inner js-file-line" id="LC683">          <span class="pl-ent">&quot;data&quot;</span>: {</div>
                </div>
                <div class="d-flex flex-justify-start flex-items-start">
                  <div class="blob-num blame-blob-num color-bg-subtle js-line-number" id="L684">684</div>
                  <div class="blob-code blob-code-inner js-file-line" id="LC684">            <span class="pl-ent">&quot;text/plain&quot;</span>: [</div>
                </div>
                <div class="d-flex flex-justify-start flex-items-start">
                  <div class="blob-num blame-blob-num color-bg-subtle js-line-number" id="L685">685</div>
                  <div class="blob-code blob-code-inner js-file-line" id="LC685">              <span class="pl-s"><span class="pl-pds">&quot;</span>                 id           week      center_id        meal_id  <span class="pl-cce">\\\n</span><span class="pl-pds">&quot;</span></span>,</div>
                </div>
                <div class="d-flex flex-justify-start flex-items-start">
                  <div class="blob-num blame-blob-num color-bg-subtle js-line-number" id="L686">686</div>
                  <div class="blob-code blob-code-inner js-file-line" id="LC686">              <span class="pl-s"><span class="pl-pds">&quot;</span>count  4.565480e+05  456548.000000  456548.000000  456548.000000   <span class="pl-cce">\n</span><span class="pl-pds">&quot;</span></span>,</div>
                </div>
                <div class="d-flex flex-justify-start flex-items-start">
                  <div class="blob-num blame-blob-num color-bg-subtle js-line-number" id="L687">687</div>
                  <div class="blob-code blob-code-inner js-file-line" id="LC687">              <span class="pl-s"><span class="pl-pds">&quot;</span>mean   1.250096e+06      74.768771      82.105796    2024.337458   <span class="pl-cce">\n</span><span class="pl-pds">&quot;</span></span>,</div>
                </div>
                <div class="d-flex flex-justify-start flex-items-start">
                  <div class="blob-num blame-blob-num color-bg-subtle js-line-number" id="L688">688</div>
                  <div class="blob-code blob-code-inner js-file-line" id="LC688">              <span class="pl-s"><span class="pl-pds">&quot;</span>std    1.443548e+05      41.524956      45.975046     547.420920   <span class="pl-cce">\n</span><span class="pl-pds">&quot;</span></span>,</div>
                </div>
                <div class="d-flex flex-justify-start flex-items-start">
                  <div class="blob-num blame-blob-num color-bg-subtle js-line-number" id="L689">689</div>
                  <div class="blob-code blob-code-inner js-file-line" id="LC689">              <span class="pl-s"><span class="pl-pds">&quot;</span>min    1.000000e+06       1.000000      10.000000    1062.000000   <span class="pl-cce">\n</span><span class="pl-pds">&quot;</span></span>,</div>
                </div>
                <div class="d-flex flex-justify-start flex-items-start">
                  <div class="blob-num blame-blob-num color-bg-subtle js-line-number" id="L690">690</div>
                  <div class="blob-code blob-code-inner js-file-line" id="LC690">              <span class="pl-s"><span class="pl-pds">&quot;</span>25%    1.124999e+06      39.000000      43.000000    1558.000000   <span class="pl-cce">\n</span><span class="pl-pds">&quot;</span></span>,</div>
                </div>
                <div class="d-flex flex-justify-start flex-items-start">
                  <div class="blob-num blame-blob-num color-bg-subtle js-line-number" id="L691">691</div>
                  <div class="blob-code blob-code-inner js-file-line" id="LC691">              <span class="pl-s"><span class="pl-pds">&quot;</span>50%    1.250184e+06      76.000000      76.000000    1993.000000   <span class="pl-cce">\n</span><span class="pl-pds">&quot;</span></span>,</div>
                </div>
                <div class="d-flex flex-justify-start flex-items-start">
                  <div class="blob-num blame-blob-num color-bg-subtle js-line-number" id="L692">692</div>
                  <div class="blob-code blob-code-inner js-file-line" id="LC692">              <span class="pl-s"><span class="pl-pds">&quot;</span>75%    1.375140e+06     111.000000     110.000000    2539.000000   <span class="pl-cce">\n</span><span class="pl-pds">&quot;</span></span>,</div>
                </div>
                <div class="d-flex flex-justify-start flex-items-start">
                  <div class="blob-num blame-blob-num color-bg-subtle js-line-number" id="L693">693</div>
                  <div class="blob-code blob-code-inner js-file-line" id="LC693">              <span class="pl-s"><span class="pl-pds">&quot;</span>max    1.499999e+06     145.000000     186.000000    2956.000000   <span class="pl-cce">\n</span><span class="pl-pds">&quot;</span></span>,</div>
                </div>
                <div class="d-flex flex-justify-start flex-items-start">
                  <div class="blob-num blame-blob-num color-bg-subtle js-line-number" id="L694">694</div>
                  <div class="blob-code blob-code-inner js-file-line" id="LC694">              <span class="pl-s"><span class="pl-pds">&quot;</span><span class="pl-cce">\n</span><span class="pl-pds">&quot;</span></span>,</div>
                </div>
                <div class="d-flex flex-justify-start flex-items-start">
                  <div class="blob-num blame-blob-num color-bg-subtle js-line-number" id="L695">695</div>
                  <div class="blob-code blob-code-inner js-file-line" id="LC695">              <span class="pl-s"><span class="pl-pds">&quot;</span>       checkout_price     base_price  emailer_for_promotion  <span class="pl-cce">\\\n</span><span class="pl-pds">&quot;</span></span>,</div>
                </div>
                <div class="d-flex flex-justify-start flex-items-start">
                  <div class="blob-num blame-blob-num color-bg-subtle js-line-number" id="L696">696</div>
                  <div class="blob-code blob-code-inner js-file-line" id="LC696">              <span class="pl-s"><span class="pl-pds">&quot;</span>count   456548.000000  456548.000000          456548.000000   <span class="pl-cce">\n</span><span class="pl-pds">&quot;</span></span>,</div>
                </div>
                <div class="d-flex flex-justify-start flex-items-start">
                  <div class="blob-num blame-blob-num color-bg-subtle js-line-number" id="L697">697</div>
                  <div class="blob-code blob-code-inner js-file-line" id="LC697">              <span class="pl-s"><span class="pl-pds">&quot;</span>mean       332.238933     354.156627               0.081152   <span class="pl-cce">\n</span><span class="pl-pds">&quot;</span></span>,</div>
                </div>
                <div class="d-flex flex-justify-start flex-items-start">
                  <div class="blob-num blame-blob-num color-bg-subtle js-line-number" id="L698">698</div>
                  <div class="blob-code blob-code-inner js-file-line" id="LC698">              <span class="pl-s"><span class="pl-pds">&quot;</span>std        152.939723     160.715914               0.273069   <span class="pl-cce">\n</span><span class="pl-pds">&quot;</span></span>,</div>
                </div>
                <div class="d-flex flex-justify-start flex-items-start">
                  <div class="blob-num blame-blob-num color-bg-subtle js-line-number" id="L699">699</div>
                  <div class="blob-code blob-code-inner js-file-line" id="LC699">              <span class="pl-s"><span class="pl-pds">&quot;</span>min          2.970000      55.350000               0.000000   <span class="pl-cce">\n</span><span class="pl-pds">&quot;</span></span>,</div>
                </div>
                <div class="d-flex flex-justify-start flex-items-start">
                  <div class="blob-num blame-blob-num color-bg-subtle js-line-number" id="L700">700</div>
                  <div class="blob-code blob-code-inner js-file-line" id="LC700">              <span class="pl-s"><span class="pl-pds">&quot;</span>25%        228.950000     243.500000               0.000000   <span class="pl-cce">\n</span><span class="pl-pds">&quot;</span></span>,</div>
                </div>
                <div class="d-flex flex-justify-start flex-items-start">
                  <div class="blob-num blame-blob-num color-bg-subtle js-line-number" id="L701">701</div>
                  <div class="blob-code blob-code-inner js-file-line" id="LC701">              <span class="pl-s"><span class="pl-pds">&quot;</span>50%        296.820000     310.460000               0.000000   <span class="pl-cce">\n</span><span class="pl-pds">&quot;</span></span>,</div>
                </div>
                <div class="d-flex flex-justify-start flex-items-start">
                  <div class="blob-num blame-blob-num color-bg-subtle js-line-number" id="L702">702</div>
                  <div class="blob-code blob-code-inner js-file-line" id="LC702">              <span class="pl-s"><span class="pl-pds">&quot;</span>75%        445.230000     458.870000               0.000000   <span class="pl-cce">\n</span><span class="pl-pds">&quot;</span></span>,</div>
                </div>
                <div class="d-flex flex-justify-start flex-items-start">
                  <div class="blob-num blame-blob-num color-bg-subtle js-line-number" id="L703">703</div>
                  <div class="blob-code blob-code-inner js-file-line" id="LC703">              <span class="pl-s"><span class="pl-pds">&quot;</span>max        866.270000     866.270000               1.000000   <span class="pl-cce">\n</span><span class="pl-pds">&quot;</span></span>,</div>
                </div>
                <div class="d-flex flex-justify-start flex-items-start">
                  <div class="blob-num blame-blob-num color-bg-subtle js-line-number" id="L704">704</div>
                  <div class="blob-code blob-code-inner js-file-line" id="LC704">              <span class="pl-s"><span class="pl-pds">&quot;</span><span class="pl-cce">\n</span><span class="pl-pds">&quot;</span></span>,</div>
                </div>
                <div class="d-flex flex-justify-start flex-items-start">
                  <div class="blob-num blame-blob-num color-bg-subtle js-line-number" id="L705">705</div>
                  <div class="blob-code blob-code-inner js-file-line" id="LC705">              <span class="pl-s"><span class="pl-pds">&quot;</span>       homepage_featured     num_orders  <span class="pl-cce">\n</span><span class="pl-pds">&quot;</span></span>,</div>
                </div>
                <div class="d-flex flex-justify-start flex-items-start">
                  <div class="blob-num blame-blob-num color-bg-subtle js-line-number" id="L706">706</div>
                  <div class="blob-code blob-code-inner js-file-line" id="LC706">              <span class="pl-s"><span class="pl-pds">&quot;</span>count       456548.00000  456548.000000  <span class="pl-cce">\n</span><span class="pl-pds">&quot;</span></span>,</div>
                </div>
                <div class="d-flex flex-justify-start flex-items-start">
                  <div class="blob-num blame-blob-num color-bg-subtle js-line-number" id="L707">707</div>
                  <div class="blob-code blob-code-inner js-file-line" id="LC707">              <span class="pl-s"><span class="pl-pds">&quot;</span>mean             0.10920     261.872760  <span class="pl-cce">\n</span><span class="pl-pds">&quot;</span></span>,</div>
                </div>
                <div class="d-flex flex-justify-start flex-items-start">
                  <div class="blob-num blame-blob-num color-bg-subtle js-line-number" id="L708">708</div>
                  <div class="blob-code blob-code-inner js-file-line" id="LC708">              <span class="pl-s"><span class="pl-pds">&quot;</span>std              0.31189     395.922798  <span class="pl-cce">\n</span><span class="pl-pds">&quot;</span></span>,</div>
                </div>
                <div class="d-flex flex-justify-start flex-items-start">
                  <div class="blob-num blame-blob-num color-bg-subtle js-line-number" id="L709">709</div>
                  <div class="blob-code blob-code-inner js-file-line" id="LC709">              <span class="pl-s"><span class="pl-pds">&quot;</span>min              0.00000      13.000000  <span class="pl-cce">\n</span><span class="pl-pds">&quot;</span></span>,</div>
                </div>
                <div class="d-flex flex-justify-start flex-items-start">
                  <div class="blob-num blame-blob-num color-bg-subtle js-line-number" id="L710">710</div>
                  <div class="blob-code blob-code-inner js-file-line" id="LC710">              <span class="pl-s"><span class="pl-pds">&quot;</span>25%              0.00000      54.000000  <span class="pl-cce">\n</span><span class="pl-pds">&quot;</span></span>,</div>
                </div>
                <div class="d-flex flex-justify-start flex-items-start">
                  <div class="blob-num blame-blob-num color-bg-subtle js-line-number" id="L711">711</div>
                  <div class="blob-code blob-code-inner js-file-line" id="LC711">              <span class="pl-s"><span class="pl-pds">&quot;</span>50%              0.00000     136.000000  <span class="pl-cce">\n</span><span class="pl-pds">&quot;</span></span>,</div>
                </div>
                <div class="d-flex flex-justify-start flex-items-start">
                  <div class="blob-num blame-blob-num color-bg-subtle js-line-number" id="L712">712</div>
                  <div class="blob-code blob-code-inner js-file-line" id="LC712">              <span class="pl-s"><span class="pl-pds">&quot;</span>75%              0.00000     324.000000  <span class="pl-cce">\n</span><span class="pl-pds">&quot;</span></span>,</div>
                </div>
                <div class="d-flex flex-justify-start flex-items-start">
                  <div class="blob-num blame-blob-num color-bg-subtle js-line-number" id="L713">713</div>
                  <div class="blob-code blob-code-inner js-file-line" id="LC713">              <span class="pl-s"><span class="pl-pds">&quot;</span>max              1.00000   24299.000000  <span class="pl-pds">&quot;</span></span></div>
                </div>
                <div class="d-flex flex-justify-start flex-items-start">
                  <div class="blob-num blame-blob-num color-bg-subtle js-line-number" id="L714">714</div>
                  <div class="blob-code blob-code-inner js-file-line" id="LC714">            ],</div>
                </div>
                <div class="d-flex flex-justify-start flex-items-start">
                  <div class="blob-num blame-blob-num color-bg-subtle js-line-number" id="L715">715</div>
                  <div class="blob-code blob-code-inner js-file-line" id="LC715">            <span class="pl-ent">&quot;text/html&quot;</span>: [</div>
                </div>
                <div class="d-flex flex-justify-start flex-items-start">
                  <div class="blob-num blame-blob-num color-bg-subtle js-line-number" id="L716">716</div>
                  <div class="blob-code blob-code-inner js-file-line" id="LC716">              <span class="pl-s"><span class="pl-pds">&quot;</span><span class="pl-cce">\n</span><span class="pl-pds">&quot;</span></span>,</div>
                </div>
                <div class="d-flex flex-justify-start flex-items-start">
                  <div class="blob-num blame-blob-num color-bg-subtle js-line-number" id="L717">717</div>
                  <div class="blob-code blob-code-inner js-file-line" id="LC717">              <span class="pl-s"><span class="pl-pds">&quot;</span>  &lt;div id=<span class="pl-cce">\&quot;</span>df-07020beb-b779-41c6-bdd1-ee45ba52c658<span class="pl-cce">\&quot;</span>&gt;<span class="pl-cce">\n</span><span class="pl-pds">&quot;</span></span>,</div>
                </div>
                <div class="d-flex flex-justify-start flex-items-start">
                  <div class="blob-num blame-blob-num color-bg-subtle js-line-number" id="L718">718</div>
                  <div class="blob-code blob-code-inner js-file-line" id="LC718">              <span class="pl-s"><span class="pl-pds">&quot;</span>    &lt;div class=<span class="pl-cce">\&quot;</span>colab-df-container<span class="pl-cce">\&quot;</span>&gt;<span class="pl-cce">\n</span><span class="pl-pds">&quot;</span></span>,</div>
                </div>
                <div class="d-flex flex-justify-start flex-items-start">
                  <div class="blob-num blame-blob-num color-bg-subtle js-line-number" id="L719">719</div>
                  <div class="blob-code blob-code-inner js-file-line" id="LC719">              <span class="pl-s"><span class="pl-pds">&quot;</span>      &lt;div&gt;<span class="pl-cce">\n</span><span class="pl-pds">&quot;</span></span>,</div>
                </div>
                <div class="d-flex flex-justify-start flex-items-start">
                  <div class="blob-num blame-blob-num color-bg-subtle js-line-number" id="L720">720</div>
                  <div class="blob-code blob-code-inner js-file-line" id="LC720">              <span class="pl-s"><span class="pl-pds">&quot;</span>&lt;style scoped&gt;<span class="pl-cce">\n</span><span class="pl-pds">&quot;</span></span>,</div>
                </div>
                <div class="d-flex flex-justify-start flex-items-start">
                  <div class="blob-num blame-blob-num color-bg-subtle js-line-number" id="L721">721</div>
                  <div class="blob-code blob-code-inner js-file-line" id="LC721">              <span class="pl-s"><span class="pl-pds">&quot;</span>    .dataframe tbody tr th:only-of-type {<span class="pl-cce">\n</span><span class="pl-pds">&quot;</span></span>,</div>
                </div>
                <div class="d-flex flex-justify-start flex-items-start">
                  <div class="blob-num blame-blob-num color-bg-subtle js-line-number" id="L722">722</div>
                  <div class="blob-code blob-code-inner js-file-line" id="LC722">              <span class="pl-s"><span class="pl-pds">&quot;</span>        vertical-align: middle;<span class="pl-cce">\n</span><span class="pl-pds">&quot;</span></span>,</div>
                </div>
                <div class="d-flex flex-justify-start flex-items-start">
                  <div class="blob-num blame-blob-num color-bg-subtle js-line-number" id="L723">723</div>
                  <div class="blob-code blob-code-inner js-file-line" id="LC723">              <span class="pl-s"><span class="pl-pds">&quot;</span>    }<span class="pl-cce">\n</span><span class="pl-pds">&quot;</span></span>,</div>
                </div>
                <div class="d-flex flex-justify-start flex-items-start">
                  <div class="blob-num blame-blob-num color-bg-subtle js-line-number" id="L724">724</div>
                  <div class="blob-code blob-code-inner js-file-line" id="LC724">              <span class="pl-s"><span class="pl-pds">&quot;</span><span class="pl-cce">\n</span><span class="pl-pds">&quot;</span></span>,</div>
                </div>
                <div class="d-flex flex-justify-start flex-items-start">
                  <div class="blob-num blame-blob-num color-bg-subtle js-line-number" id="L725">725</div>
                  <div class="blob-code blob-code-inner js-file-line" id="LC725">              <span class="pl-s"><span class="pl-pds">&quot;</span>    .dataframe tbody tr th {<span class="pl-cce">\n</span><span class="pl-pds">&quot;</span></span>,</div>
                </div>
                <div class="d-flex flex-justify-start flex-items-start">
                  <div class="blob-num blame-blob-num color-bg-subtle js-line-number" id="L726">726</div>
                  <div class="blob-code blob-code-inner js-file-line" id="LC726">              <span class="pl-s"><span class="pl-pds">&quot;</span>        vertical-align: top;<span class="pl-cce">\n</span><span class="pl-pds">&quot;</span></span>,</div>
                </div>
                <div class="d-flex flex-justify-start flex-items-start">
                  <div class="blob-num blame-blob-num color-bg-subtle js-line-number" id="L727">727</div>
                  <div class="blob-code blob-code-inner js-file-line" id="LC727">              <span class="pl-s"><span class="pl-pds">&quot;</span>    }<span class="pl-cce">\n</span><span class="pl-pds">&quot;</span></span>,</div>
                </div>
                <div class="d-flex flex-justify-start flex-items-start">
                  <div class="blob-num blame-blob-num color-bg-subtle js-line-number" id="L728">728</div>
                  <div class="blob-code blob-code-inner js-file-line" id="LC728">              <span class="pl-s"><span class="pl-pds">&quot;</span><span class="pl-cce">\n</span><span class="pl-pds">&quot;</span></span>,</div>
                </div>
                <div class="d-flex flex-justify-start flex-items-start">
                  <div class="blob-num blame-blob-num color-bg-subtle js-line-number" id="L729">729</div>
                  <div class="blob-code blob-code-inner js-file-line" id="LC729">              <span class="pl-s"><span class="pl-pds">&quot;</span>    .dataframe thead th {<span class="pl-cce">\n</span><span class="pl-pds">&quot;</span></span>,</div>
                </div>
                <div class="d-flex flex-justify-start flex-items-start">
                  <div class="blob-num blame-blob-num color-bg-subtle js-line-number" id="L730">730</div>
                  <div class="blob-code blob-code-inner js-file-line" id="LC730">              <span class="pl-s"><span class="pl-pds">&quot;</span>        text-align: right;<span class="pl-cce">\n</span><span class="pl-pds">&quot;</span></span>,</div>
                </div>
                <div class="d-flex flex-justify-start flex-items-start">
                  <div class="blob-num blame-blob-num color-bg-subtle js-line-number" id="L731">731</div>
                  <div class="blob-code blob-code-inner js-file-line" id="LC731">              <span class="pl-s"><span class="pl-pds">&quot;</span>    }<span class="pl-cce">\n</span><span class="pl-pds">&quot;</span></span>,</div>
                </div>
                <div class="d-flex flex-justify-start flex-items-start">
                  <div class="blob-num blame-blob-num color-bg-subtle js-line-number" id="L732">732</div>
                  <div class="blob-code blob-code-inner js-file-line" id="LC732">              <span class="pl-s"><span class="pl-pds">&quot;</span>&lt;/style&gt;<span class="pl-cce">\n</span><span class="pl-pds">&quot;</span></span>,</div>
                </div>
                <div class="d-flex flex-justify-start flex-items-start">
                  <div class="blob-num blame-blob-num color-bg-subtle js-line-number" id="L733">733</div>
                  <div class="blob-code blob-code-inner js-file-line" id="LC733">              <span class="pl-s"><span class="pl-pds">&quot;</span>&lt;table border=<span class="pl-cce">\&quot;</span>1<span class="pl-cce">\&quot;</span> class=<span class="pl-cce">\&quot;</span>dataframe<span class="pl-cce">\&quot;</span>&gt;<span class="pl-cce">\n</span><span class="pl-pds">&quot;</span></span>,</div>
                </div>
                <div class="d-flex flex-justify-start flex-items-start">
                  <div class="blob-num blame-blob-num color-bg-subtle js-line-number" id="L734">734</div>
                  <div class="blob-code blob-code-inner js-file-line" id="LC734">              <span class="pl-s"><span class="pl-pds">&quot;</span>  &lt;thead&gt;<span class="pl-cce">\n</span><span class="pl-pds">&quot;</span></span>,</div>
                </div>
                <div class="d-flex flex-justify-start flex-items-start">
                  <div class="blob-num blame-blob-num color-bg-subtle js-line-number" id="L735">735</div>
                  <div class="blob-code blob-code-inner js-file-line" id="LC735">              <span class="pl-s"><span class="pl-pds">&quot;</span>    &lt;tr style=<span class="pl-cce">\&quot;</span>text-align: right;<span class="pl-cce">\&quot;</span>&gt;<span class="pl-cce">\n</span><span class="pl-pds">&quot;</span></span>,</div>
                </div>
                <div class="d-flex flex-justify-start flex-items-start">
                  <div class="blob-num blame-blob-num color-bg-subtle js-line-number" id="L736">736</div>
                  <div class="blob-code blob-code-inner js-file-line" id="LC736">              <span class="pl-s"><span class="pl-pds">&quot;</span>      &lt;th&gt;&lt;/th&gt;<span class="pl-cce">\n</span><span class="pl-pds">&quot;</span></span>,</div>
                </div>
                <div class="d-flex flex-justify-start flex-items-start">
                  <div class="blob-num blame-blob-num color-bg-subtle js-line-number" id="L737">737</div>
                  <div class="blob-code blob-code-inner js-file-line" id="LC737">              <span class="pl-s"><span class="pl-pds">&quot;</span>      &lt;th&gt;id&lt;/th&gt;<span class="pl-cce">\n</span><span class="pl-pds">&quot;</span></span>,</div>
                </div>
                <div class="d-flex flex-justify-start flex-items-start">
                  <div class="blob-num blame-blob-num color-bg-subtle js-line-number" id="L738">738</div>
                  <div class="blob-code blob-code-inner js-file-line" id="LC738">              <span class="pl-s"><span class="pl-pds">&quot;</span>      &lt;th&gt;week&lt;/th&gt;<span class="pl-cce">\n</span><span class="pl-pds">&quot;</span></span>,</div>
                </div>
                <div class="d-flex flex-justify-start flex-items-start">
                  <div class="blob-num blame-blob-num color-bg-subtle js-line-number" id="L739">739</div>
                  <div class="blob-code blob-code-inner js-file-line" id="LC739">              <span class="pl-s"><span class="pl-pds">&quot;</span>      &lt;th&gt;center_id&lt;/th&gt;<span class="pl-cce">\n</span><span class="pl-pds">&quot;</span></span>,</div>
                </div>
                <div class="d-flex flex-justify-start flex-items-start">
                  <div class="blob-num blame-blob-num color-bg-subtle js-line-number" id="L740">740</div>
                  <div class="blob-code blob-code-inner js-file-line" id="LC740">              <span class="pl-s"><span class="pl-pds">&quot;</span>      &lt;th&gt;meal_id&lt;/th&gt;<span class="pl-cce">\n</span><span class="pl-pds">&quot;</span></span>,</div>
                </div>
                <div class="d-flex flex-justify-start flex-items-start">
                  <div class="blob-num blame-blob-num color-bg-subtle js-line-number" id="L741">741</div>
                  <div class="blob-code blob-code-inner js-file-line" id="LC741">              <span class="pl-s"><span class="pl-pds">&quot;</span>      &lt;th&gt;checkout_price&lt;/th&gt;<span class="pl-cce">\n</span><span class="pl-pds">&quot;</span></span>,</div>
                </div>
                <div class="d-flex flex-justify-start flex-items-start">
                  <div class="blob-num blame-blob-num color-bg-subtle js-line-number" id="L742">742</div>
                  <div class="blob-code blob-code-inner js-file-line" id="LC742">              <span class="pl-s"><span class="pl-pds">&quot;</span>      &lt;th&gt;base_price&lt;/th&gt;<span class="pl-cce">\n</span><span class="pl-pds">&quot;</span></span>,</div>
                </div>
                <div class="d-flex flex-justify-start flex-items-start">
                  <div class="blob-num blame-blob-num color-bg-subtle js-line-number" id="L743">743</div>
                  <div class="blob-code blob-code-inner js-file-line" id="LC743">              <span class="pl-s"><span class="pl-pds">&quot;</span>      &lt;th&gt;emailer_for_promotion&lt;/th&gt;<span class="pl-cce">\n</span><span class="pl-pds">&quot;</span></span>,</div>
                </div>
                <div class="d-flex flex-justify-start flex-items-start">
                  <div class="blob-num blame-blob-num color-bg-subtle js-line-number" id="L744">744</div>
                  <div class="blob-code blob-code-inner js-file-line" id="LC744">              <span class="pl-s"><span class="pl-pds">&quot;</span>      &lt;th&gt;homepage_featured&lt;/th&gt;<span class="pl-cce">\n</span><span class="pl-pds">&quot;</span></span>,</div>
                </div>
                <div class="d-flex flex-justify-start flex-items-start">
                  <div class="blob-num blame-blob-num color-bg-subtle js-line-number" id="L745">745</div>
                  <div class="blob-code blob-code-inner js-file-line" id="LC745">              <span class="pl-s"><span class="pl-pds">&quot;</span>      &lt;th&gt;num_orders&lt;/th&gt;<span class="pl-cce">\n</span><span class="pl-pds">&quot;</span></span>,</div>
                </div>
                <div class="d-flex flex-justify-start flex-items-start">
                  <div class="blob-num blame-blob-num color-bg-subtle js-line-number" id="L746">746</div>
                  <div class="blob-code blob-code-inner js-file-line" id="LC746">              <span class="pl-s"><span class="pl-pds">&quot;</span>    &lt;/tr&gt;<span class="pl-cce">\n</span><span class="pl-pds">&quot;</span></span>,</div>
                </div>
                <div class="d-flex flex-justify-start flex-items-start">
                  <div class="blob-num blame-blob-num color-bg-subtle js-line-number" id="L747">747</div>
                  <div class="blob-code blob-code-inner js-file-line" id="LC747">              <span class="pl-s"><span class="pl-pds">&quot;</span>  &lt;/thead&gt;<span class="pl-cce">\n</span><span class="pl-pds">&quot;</span></span>,</div>
                </div>
                <div class="d-flex flex-justify-start flex-items-start">
                  <div class="blob-num blame-blob-num color-bg-subtle js-line-number" id="L748">748</div>
                  <div class="blob-code blob-code-inner js-file-line" id="LC748">              <span class="pl-s"><span class="pl-pds">&quot;</span>  &lt;tbody&gt;<span class="pl-cce">\n</span><span class="pl-pds">&quot;</span></span>,</div>
                </div>
                <div class="d-flex flex-justify-start flex-items-start">
                  <div class="blob-num blame-blob-num color-bg-subtle js-line-number" id="L749">749</div>
                  <div class="blob-code blob-code-inner js-file-line" id="LC749">              <span class="pl-s"><span class="pl-pds">&quot;</span>    &lt;tr&gt;<span class="pl-cce">\n</span><span class="pl-pds">&quot;</span></span>,</div>
                </div>
                <div class="d-flex flex-justify-start flex-items-start">
                  <div class="blob-num blame-blob-num color-bg-subtle js-line-number" id="L750">750</div>
                  <div class="blob-code blob-code-inner js-file-line" id="LC750">              <span class="pl-s"><span class="pl-pds">&quot;</span>      &lt;th&gt;count&lt;/th&gt;<span class="pl-cce">\n</span><span class="pl-pds">&quot;</span></span>,</div>
                </div>
                <div class="d-flex flex-justify-start flex-items-start">
                  <div class="blob-num blame-blob-num color-bg-subtle js-line-number" id="L751">751</div>
                  <div class="blob-code blob-code-inner js-file-line" id="LC751">              <span class="pl-s"><span class="pl-pds">&quot;</span>      &lt;td&gt;4.565480e+05&lt;/td&gt;<span class="pl-cce">\n</span><span class="pl-pds">&quot;</span></span>,</div>
                </div>
                <div class="d-flex flex-justify-start flex-items-start">
                  <div class="blob-num blame-blob-num color-bg-subtle js-line-number" id="L752">752</div>
                  <div class="blob-code blob-code-inner js-file-line" id="LC752">              <span class="pl-s"><span class="pl-pds">&quot;</span>      &lt;td&gt;456548.000000&lt;/td&gt;<span class="pl-cce">\n</span><span class="pl-pds">&quot;</span></span>,</div>
                </div>
                <div class="d-flex flex-justify-start flex-items-start">
                  <div class="blob-num blame-blob-num color-bg-subtle js-line-number" id="L753">753</div>
                  <div class="blob-code blob-code-inner js-file-line" id="LC753">              <span class="pl-s"><span class="pl-pds">&quot;</span>      &lt;td&gt;456548.000000&lt;/td&gt;<span class="pl-cce">\n</span><span class="pl-pds">&quot;</span></span>,</div>
                </div>
                <div class="d-flex flex-justify-start flex-items-start">
                  <div class="blob-num blame-blob-num color-bg-subtle js-line-number" id="L754">754</div>
                  <div class="blob-code blob-code-inner js-file-line" id="LC754">              <span class="pl-s"><span class="pl-pds">&quot;</span>      &lt;td&gt;456548.000000&lt;/td&gt;<span class="pl-cce">\n</span><span class="pl-pds">&quot;</span></span>,</div>
                </div>
                <div class="d-flex flex-justify-start flex-items-start">
                  <div class="blob-num blame-blob-num color-bg-subtle js-line-number" id="L755">755</div>
                  <div class="blob-code blob-code-inner js-file-line" id="LC755">              <span class="pl-s"><span class="pl-pds">&quot;</span>      &lt;td&gt;456548.000000&lt;/td&gt;<span class="pl-cce">\n</span><span class="pl-pds">&quot;</span></span>,</div>
                </div>
                <div class="d-flex flex-justify-start flex-items-start">
                  <div class="blob-num blame-blob-num color-bg-subtle js-line-number" id="L756">756</div>
                  <div class="blob-code blob-code-inner js-file-line" id="LC756">              <span class="pl-s"><span class="pl-pds">&quot;</span>      &lt;td&gt;456548.000000&lt;/td&gt;<span class="pl-cce">\n</span><span class="pl-pds">&quot;</span></span>,</div>
                </div>
                <div class="d-flex flex-justify-start flex-items-start">
                  <div class="blob-num blame-blob-num color-bg-subtle js-line-number" id="L757">757</div>
                  <div class="blob-code blob-code-inner js-file-line" id="LC757">              <span class="pl-s"><span class="pl-pds">&quot;</span>      &lt;td&gt;456548.000000&lt;/td&gt;<span class="pl-cce">\n</span><span class="pl-pds">&quot;</span></span>,</div>
                </div>
                <div class="d-flex flex-justify-start flex-items-start">
                  <div class="blob-num blame-blob-num color-bg-subtle js-line-number" id="L758">758</div>
                  <div class="blob-code blob-code-inner js-file-line" id="LC758">              <span class="pl-s"><span class="pl-pds">&quot;</span>      &lt;td&gt;456548.00000&lt;/td&gt;<span class="pl-cce">\n</span><span class="pl-pds">&quot;</span></span>,</div>
                </div>
                <div class="d-flex flex-justify-start flex-items-start">
                  <div class="blob-num blame-blob-num color-bg-subtle js-line-number" id="L759">759</div>
                  <div class="blob-code blob-code-inner js-file-line" id="LC759">              <span class="pl-s"><span class="pl-pds">&quot;</span>      &lt;td&gt;456548.000000&lt;/td&gt;<span class="pl-cce">\n</span><span class="pl-pds">&quot;</span></span>,</div>
                </div>
                <div class="d-flex flex-justify-start flex-items-start">
                  <div class="blob-num blame-blob-num color-bg-subtle js-line-number" id="L760">760</div>
                  <div class="blob-code blob-code-inner js-file-line" id="LC760">              <span class="pl-s"><span class="pl-pds">&quot;</span>    &lt;/tr&gt;<span class="pl-cce">\n</span><span class="pl-pds">&quot;</span></span>,</div>
                </div>
                <div class="d-flex flex-justify-start flex-items-start">
                  <div class="blob-num blame-blob-num color-bg-subtle js-line-number" id="L761">761</div>
                  <div class="blob-code blob-code-inner js-file-line" id="LC761">              <span class="pl-s"><span class="pl-pds">&quot;</span>    &lt;tr&gt;<span class="pl-cce">\n</span><span class="pl-pds">&quot;</span></span>,</div>
                </div>
                <div class="d-flex flex-justify-start flex-items-start">
                  <div class="blob-num blame-blob-num color-bg-subtle js-line-number" id="L762">762</div>
                  <div class="blob-code blob-code-inner js-file-line" id="LC762">              <span class="pl-s"><span class="pl-pds">&quot;</span>      &lt;th&gt;mean&lt;/th&gt;<span class="pl-cce">\n</span><span class="pl-pds">&quot;</span></span>,</div>
                </div>
                <div class="d-flex flex-justify-start flex-items-start">
                  <div class="blob-num blame-blob-num color-bg-subtle js-line-number" id="L763">763</div>
                  <div class="blob-code blob-code-inner js-file-line" id="LC763">              <span class="pl-s"><span class="pl-pds">&quot;</span>      &lt;td&gt;1.250096e+06&lt;/td&gt;<span class="pl-cce">\n</span><span class="pl-pds">&quot;</span></span>,</div>
                </div>
                <div class="d-flex flex-justify-start flex-items-start">
                  <div class="blob-num blame-blob-num color-bg-subtle js-line-number" id="L764">764</div>
                  <div class="blob-code blob-code-inner js-file-line" id="LC764">              <span class="pl-s"><span class="pl-pds">&quot;</span>      &lt;td&gt;74.768771&lt;/td&gt;<span class="pl-cce">\n</span><span class="pl-pds">&quot;</span></span>,</div>
                </div>
                <div class="d-flex flex-justify-start flex-items-start">
                  <div class="blob-num blame-blob-num color-bg-subtle js-line-number" id="L765">765</div>
                  <div class="blob-code blob-code-inner js-file-line" id="LC765">              <span class="pl-s"><span class="pl-pds">&quot;</span>      &lt;td&gt;82.105796&lt;/td&gt;<span class="pl-cce">\n</span><span class="pl-pds">&quot;</span></span>,</div>
                </div>
                <div class="d-flex flex-justify-start flex-items-start">
                  <div class="blob-num blame-blob-num color-bg-subtle js-line-number" id="L766">766</div>
                  <div class="blob-code blob-code-inner js-file-line" id="LC766">              <span class="pl-s"><span class="pl-pds">&quot;</span>      &lt;td&gt;2024.337458&lt;/td&gt;<span class="pl-cce">\n</span><span class="pl-pds">&quot;</span></span>,</div>
                </div>
                <div class="d-flex flex-justify-start flex-items-start">
                  <div class="blob-num blame-blob-num color-bg-subtle js-line-number" id="L767">767</div>
                  <div class="blob-code blob-code-inner js-file-line" id="LC767">              <span class="pl-s"><span class="pl-pds">&quot;</span>      &lt;td&gt;332.238933&lt;/td&gt;<span class="pl-cce">\n</span><span class="pl-pds">&quot;</span></span>,</div>
                </div>
                <div class="d-flex flex-justify-start flex-items-start">
                  <div class="blob-num blame-blob-num color-bg-subtle js-line-number" id="L768">768</div>
                  <div class="blob-code blob-code-inner js-file-line" id="LC768">              <span class="pl-s"><span class="pl-pds">&quot;</span>      &lt;td&gt;354.156627&lt;/td&gt;<span class="pl-cce">\n</span><span class="pl-pds">&quot;</span></span>,</div>
                </div>
                <div class="d-flex flex-justify-start flex-items-start">
                  <div class="blob-num blame-blob-num color-bg-subtle js-line-number" id="L769">769</div>
                  <div class="blob-code blob-code-inner js-file-line" id="LC769">              <span class="pl-s"><span class="pl-pds">&quot;</span>      &lt;td&gt;0.081152&lt;/td&gt;<span class="pl-cce">\n</span><span class="pl-pds">&quot;</span></span>,</div>
                </div>
                <div class="d-flex flex-justify-start flex-items-start">
                  <div class="blob-num blame-blob-num color-bg-subtle js-line-number" id="L770">770</div>
                  <div class="blob-code blob-code-inner js-file-line" id="LC770">              <span class="pl-s"><span class="pl-pds">&quot;</span>      &lt;td&gt;0.10920&lt;/td&gt;<span class="pl-cce">\n</span><span class="pl-pds">&quot;</span></span>,</div>
                </div>
                <div class="d-flex flex-justify-start flex-items-start">
                  <div class="blob-num blame-blob-num color-bg-subtle js-line-number" id="L771">771</div>
                  <div class="blob-code blob-code-inner js-file-line" id="LC771">              <span class="pl-s"><span class="pl-pds">&quot;</span>      &lt;td&gt;261.872760&lt;/td&gt;<span class="pl-cce">\n</span><span class="pl-pds">&quot;</span></span>,</div>
                </div>
                <div class="d-flex flex-justify-start flex-items-start">
                  <div class="blob-num blame-blob-num color-bg-subtle js-line-number" id="L772">772</div>
                  <div class="blob-code blob-code-inner js-file-line" id="LC772">              <span class="pl-s"><span class="pl-pds">&quot;</span>    &lt;/tr&gt;<span class="pl-cce">\n</span><span class="pl-pds">&quot;</span></span>,</div>
                </div>
                <div class="d-flex flex-justify-start flex-items-start">
                  <div class="blob-num blame-blob-num color-bg-subtle js-line-number" id="L773">773</div>
                  <div class="blob-code blob-code-inner js-file-line" id="LC773">              <span class="pl-s"><span class="pl-pds">&quot;</span>    &lt;tr&gt;<span class="pl-cce">\n</span><span class="pl-pds">&quot;</span></span>,</div>
                </div>
                <div class="d-flex flex-justify-start flex-items-start">
                  <div class="blob-num blame-blob-num color-bg-subtle js-line-number" id="L774">774</div>
                  <div class="blob-code blob-code-inner js-file-line" id="LC774">              <span class="pl-s"><span class="pl-pds">&quot;</span>      &lt;th&gt;std&lt;/th&gt;<span class="pl-cce">\n</span><span class="pl-pds">&quot;</span></span>,</div>
                </div>
                <div class="d-flex flex-justify-start flex-items-start">
                  <div class="blob-num blame-blob-num color-bg-subtle js-line-number" id="L775">775</div>
                  <div class="blob-code blob-code-inner js-file-line" id="LC775">              <span class="pl-s"><span class="pl-pds">&quot;</span>      &lt;td&gt;1.443548e+05&lt;/td&gt;<span class="pl-cce">\n</span><span class="pl-pds">&quot;</span></span>,</div>
                </div>
                <div class="d-flex flex-justify-start flex-items-start">
                  <div class="blob-num blame-blob-num color-bg-subtle js-line-number" id="L776">776</div>
                  <div class="blob-code blob-code-inner js-file-line" id="LC776">              <span class="pl-s"><span class="pl-pds">&quot;</span>      &lt;td&gt;41.524956&lt;/td&gt;<span class="pl-cce">\n</span><span class="pl-pds">&quot;</span></span>,</div>
                </div>
                <div class="d-flex flex-justify-start flex-items-start">
                  <div class="blob-num blame-blob-num color-bg-subtle js-line-number" id="L777">777</div>
                  <div class="blob-code blob-code-inner js-file-line" id="LC777">              <span class="pl-s"><span class="pl-pds">&quot;</span>      &lt;td&gt;45.975046&lt;/td&gt;<span class="pl-cce">\n</span><span class="pl-pds">&quot;</span></span>,</div>
                </div>
                <div class="d-flex flex-justify-start flex-items-start">
                  <div class="blob-num blame-blob-num color-bg-subtle js-line-number" id="L778">778</div>
                  <div class="blob-code blob-code-inner js-file-line" id="LC778">              <span class="pl-s"><span class="pl-pds">&quot;</span>      &lt;td&gt;547.420920&lt;/td&gt;<span class="pl-cce">\n</span><span class="pl-pds">&quot;</span></span>,</div>
                </div>
                <div class="d-flex flex-justify-start flex-items-start">
                  <div class="blob-num blame-blob-num color-bg-subtle js-line-number" id="L779">779</div>
                  <div class="blob-code blob-code-inner js-file-line" id="LC779">              <span class="pl-s"><span class="pl-pds">&quot;</span>      &lt;td&gt;152.939723&lt;/td&gt;<span class="pl-cce">\n</span><span class="pl-pds">&quot;</span></span>,</div>
                </div>
                <div class="d-flex flex-justify-start flex-items-start">
                  <div class="blob-num blame-blob-num color-bg-subtle js-line-number" id="L780">780</div>
                  <div class="blob-code blob-code-inner js-file-line" id="LC780">              <span class="pl-s"><span class="pl-pds">&quot;</span>      &lt;td&gt;160.715914&lt;/td&gt;<span class="pl-cce">\n</span><span class="pl-pds">&quot;</span></span>,</div>
                </div>
                <div class="d-flex flex-justify-start flex-items-start">
                  <div class="blob-num blame-blob-num color-bg-subtle js-line-number" id="L781">781</div>
                  <div class="blob-code blob-code-inner js-file-line" id="LC781">              <span class="pl-s"><span class="pl-pds">&quot;</span>      &lt;td&gt;0.273069&lt;/td&gt;<span class="pl-cce">\n</span><span class="pl-pds">&quot;</span></span>,</div>
                </div>
                <div class="d-flex flex-justify-start flex-items-start">
                  <div class="blob-num blame-blob-num color-bg-subtle js-line-number" id="L782">782</div>
                  <div class="blob-code blob-code-inner js-file-line" id="LC782">              <span class="pl-s"><span class="pl-pds">&quot;</span>      &lt;td&gt;0.31189&lt;/td&gt;<span class="pl-cce">\n</span><span class="pl-pds">&quot;</span></span>,</div>
                </div>
                <div class="d-flex flex-justify-start flex-items-start">
                  <div class="blob-num blame-blob-num color-bg-subtle js-line-number" id="L783">783</div>
                  <div class="blob-code blob-code-inner js-file-line" id="LC783">              <span class="pl-s"><span class="pl-pds">&quot;</span>      &lt;td&gt;395.922798&lt;/td&gt;<span class="pl-cce">\n</span><span class="pl-pds">&quot;</span></span>,</div>
                </div>
                <div class="d-flex flex-justify-start flex-items-start">
                  <div class="blob-num blame-blob-num color-bg-subtle js-line-number" id="L784">784</div>
                  <div class="blob-code blob-code-inner js-file-line" id="LC784">              <span class="pl-s"><span class="pl-pds">&quot;</span>    &lt;/tr&gt;<span class="pl-cce">\n</span><span class="pl-pds">&quot;</span></span>,</div>
                </div>
                <div class="d-flex flex-justify-start flex-items-start">
                  <div class="blob-num blame-blob-num color-bg-subtle js-line-number" id="L785">785</div>
                  <div class="blob-code blob-code-inner js-file-line" id="LC785">              <span class="pl-s"><span class="pl-pds">&quot;</span>    &lt;tr&gt;<span class="pl-cce">\n</span><span class="pl-pds">&quot;</span></span>,</div>
                </div>
                <div class="d-flex flex-justify-start flex-items-start">
                  <div class="blob-num blame-blob-num color-bg-subtle js-line-number" id="L786">786</div>
                  <div class="blob-code blob-code-inner js-file-line" id="LC786">              <span class="pl-s"><span class="pl-pds">&quot;</span>      &lt;th&gt;min&lt;/th&gt;<span class="pl-cce">\n</span><span class="pl-pds">&quot;</span></span>,</div>
                </div>
                <div class="d-flex flex-justify-start flex-items-start">
                  <div class="blob-num blame-blob-num color-bg-subtle js-line-number" id="L787">787</div>
                  <div class="blob-code blob-code-inner js-file-line" id="LC787">              <span class="pl-s"><span class="pl-pds">&quot;</span>      &lt;td&gt;1.000000e+06&lt;/td&gt;<span class="pl-cce">\n</span><span class="pl-pds">&quot;</span></span>,</div>
                </div>
                <div class="d-flex flex-justify-start flex-items-start">
                  <div class="blob-num blame-blob-num color-bg-subtle js-line-number" id="L788">788</div>
                  <div class="blob-code blob-code-inner js-file-line" id="LC788">              <span class="pl-s"><span class="pl-pds">&quot;</span>      &lt;td&gt;1.000000&lt;/td&gt;<span class="pl-cce">\n</span><span class="pl-pds">&quot;</span></span>,</div>
                </div>
                <div class="d-flex flex-justify-start flex-items-start">
                  <div class="blob-num blame-blob-num color-bg-subtle js-line-number" id="L789">789</div>
                  <div class="blob-code blob-code-inner js-file-line" id="LC789">              <span class="pl-s"><span class="pl-pds">&quot;</span>      &lt;td&gt;10.000000&lt;/td&gt;<span class="pl-cce">\n</span><span class="pl-pds">&quot;</span></span>,</div>
                </div>
                <div class="d-flex flex-justify-start flex-items-start">
                  <div class="blob-num blame-blob-num color-bg-subtle js-line-number" id="L790">790</div>
                  <div class="blob-code blob-code-inner js-file-line" id="LC790">              <span class="pl-s"><span class="pl-pds">&quot;</span>      &lt;td&gt;1062.000000&lt;/td&gt;<span class="pl-cce">\n</span><span class="pl-pds">&quot;</span></span>,</div>
                </div>
                <div class="d-flex flex-justify-start flex-items-start">
                  <div class="blob-num blame-blob-num color-bg-subtle js-line-number" id="L791">791</div>
                  <div class="blob-code blob-code-inner js-file-line" id="LC791">              <span class="pl-s"><span class="pl-pds">&quot;</span>      &lt;td&gt;2.970000&lt;/td&gt;<span class="pl-cce">\n</span><span class="pl-pds">&quot;</span></span>,</div>
                </div>
                <div class="d-flex flex-justify-start flex-items-start">
                  <div class="blob-num blame-blob-num color-bg-subtle js-line-number" id="L792">792</div>
                  <div class="blob-code blob-code-inner js-file-line" id="LC792">              <span class="pl-s"><span class="pl-pds">&quot;</span>      &lt;td&gt;55.350000&lt;/td&gt;<span class="pl-cce">\n</span><span class="pl-pds">&quot;</span></span>,</div>
                </div>
                <div class="d-flex flex-justify-start flex-items-start">
                  <div class="blob-num blame-blob-num color-bg-subtle js-line-number" id="L793">793</div>
                  <div class="blob-code blob-code-inner js-file-line" id="LC793">              <span class="pl-s"><span class="pl-pds">&quot;</span>      &lt;td&gt;0.000000&lt;/td&gt;<span class="pl-cce">\n</span><span class="pl-pds">&quot;</span></span>,</div>
                </div>
                <div class="d-flex flex-justify-start flex-items-start">
                  <div class="blob-num blame-blob-num color-bg-subtle js-line-number" id="L794">794</div>
                  <div class="blob-code blob-code-inner js-file-line" id="LC794">              <span class="pl-s"><span class="pl-pds">&quot;</span>      &lt;td&gt;0.00000&lt;/td&gt;<span class="pl-cce">\n</span><span class="pl-pds">&quot;</span></span>,</div>
                </div>
                <div class="d-flex flex-justify-start flex-items-start">
                  <div class="blob-num blame-blob-num color-bg-subtle js-line-number" id="L795">795</div>
                  <div class="blob-code blob-code-inner js-file-line" id="LC795">              <span class="pl-s"><span class="pl-pds">&quot;</span>      &lt;td&gt;13.000000&lt;/td&gt;<span class="pl-cce">\n</span><span class="pl-pds">&quot;</span></span>,</div>
                </div>
                <div class="d-flex flex-justify-start flex-items-start">
                  <div class="blob-num blame-blob-num color-bg-subtle js-line-number" id="L796">796</div>
                  <div class="blob-code blob-code-inner js-file-line" id="LC796">              <span class="pl-s"><span class="pl-pds">&quot;</span>    &lt;/tr&gt;<span class="pl-cce">\n</span><span class="pl-pds">&quot;</span></span>,</div>
                </div>
                <div class="d-flex flex-justify-start flex-items-start">
                  <div class="blob-num blame-blob-num color-bg-subtle js-line-number" id="L797">797</div>
                  <div class="blob-code blob-code-inner js-file-line" id="LC797">              <span class="pl-s"><span class="pl-pds">&quot;</span>    &lt;tr&gt;<span class="pl-cce">\n</span><span class="pl-pds">&quot;</span></span>,</div>
                </div>
                <div class="d-flex flex-justify-start flex-items-start">
                  <div class="blob-num blame-blob-num color-bg-subtle js-line-number" id="L798">798</div>
                  <div class="blob-code blob-code-inner js-file-line" id="LC798">              <span class="pl-s"><span class="pl-pds">&quot;</span>      &lt;th&gt;25%&lt;/th&gt;<span class="pl-cce">\n</span><span class="pl-pds">&quot;</span></span>,</div>
                </div>
                <div class="d-flex flex-justify-start flex-items-start">
                  <div class="blob-num blame-blob-num color-bg-subtle js-line-number" id="L799">799</div>
                  <div class="blob-code blob-code-inner js-file-line" id="LC799">              <span class="pl-s"><span class="pl-pds">&quot;</span>      &lt;td&gt;1.124999e+06&lt;/td&gt;<span class="pl-cce">\n</span><span class="pl-pds">&quot;</span></span>,</div>
                </div>
                <div class="d-flex flex-justify-start flex-items-start">
                  <div class="blob-num blame-blob-num color-bg-subtle js-line-number" id="L800">800</div>
                  <div class="blob-code blob-code-inner js-file-line" id="LC800">              <span class="pl-s"><span class="pl-pds">&quot;</span>      &lt;td&gt;39.000000&lt;/td&gt;<span class="pl-cce">\n</span><span class="pl-pds">&quot;</span></span>,</div>
                </div>
                <div class="d-flex flex-justify-start flex-items-start">
                  <div class="blob-num blame-blob-num color-bg-subtle js-line-number" id="L801">801</div>
                  <div class="blob-code blob-code-inner js-file-line" id="LC801">              <span class="pl-s"><span class="pl-pds">&quot;</span>      &lt;td&gt;43.000000&lt;/td&gt;<span class="pl-cce">\n</span><span class="pl-pds">&quot;</span></span>,</div>
                </div>
                <div class="d-flex flex-justify-start flex-items-start">
                  <div class="blob-num blame-blob-num color-bg-subtle js-line-number" id="L802">802</div>
                  <div class="blob-code blob-code-inner js-file-line" id="LC802">              <span class="pl-s"><span class="pl-pds">&quot;</span>      &lt;td&gt;1558.000000&lt;/td&gt;<span class="pl-cce">\n</span><span class="pl-pds">&quot;</span></span>,</div>
                </div>
                <div class="d-flex flex-justify-start flex-items-start">
                  <div class="blob-num blame-blob-num color-bg-subtle js-line-number" id="L803">803</div>
                  <div class="blob-code blob-code-inner js-file-line" id="LC803">              <span class="pl-s"><span class="pl-pds">&quot;</span>      &lt;td&gt;228.950000&lt;/td&gt;<span class="pl-cce">\n</span><span class="pl-pds">&quot;</span></span>,</div>
                </div>
                <div class="d-flex flex-justify-start flex-items-start">
                  <div class="blob-num blame-blob-num color-bg-subtle js-line-number" id="L804">804</div>
                  <div class="blob-code blob-code-inner js-file-line" id="LC804">              <span class="pl-s"><span class="pl-pds">&quot;</span>      &lt;td&gt;243.500000&lt;/td&gt;<span class="pl-cce">\n</span><span class="pl-pds">&quot;</span></span>,</div>
                </div>
                <div class="d-flex flex-justify-start flex-items-start">
                  <div class="blob-num blame-blob-num color-bg-subtle js-line-number" id="L805">805</div>
                  <div class="blob-code blob-code-inner js-file-line" id="LC805">              <span class="pl-s"><span class="pl-pds">&quot;</span>      &lt;td&gt;0.000000&lt;/td&gt;<span class="pl-cce">\n</span><span class="pl-pds">&quot;</span></span>,</div>
                </div>
                <div class="d-flex flex-justify-start flex-items-start">
                  <div class="blob-num blame-blob-num color-bg-subtle js-line-number" id="L806">806</div>
                  <div class="blob-code blob-code-inner js-file-line" id="LC806">              <span class="pl-s"><span class="pl-pds">&quot;</span>      &lt;td&gt;0.00000&lt;/td&gt;<span class="pl-cce">\n</span><span class="pl-pds">&quot;</span></span>,</div>
                </div>
                <div class="d-flex flex-justify-start flex-items-start">
                  <div class="blob-num blame-blob-num color-bg-subtle js-line-number" id="L807">807</div>
                  <div class="blob-code blob-code-inner js-file-line" id="LC807">              <span class="pl-s"><span class="pl-pds">&quot;</span>      &lt;td&gt;54.000000&lt;/td&gt;<span class="pl-cce">\n</span><span class="pl-pds">&quot;</span></span>,</div>
                </div>
                <div class="d-flex flex-justify-start flex-items-start">
                  <div class="blob-num blame-blob-num color-bg-subtle js-line-number" id="L808">808</div>
                  <div class="blob-code blob-code-inner js-file-line" id="LC808">              <span class="pl-s"><span class="pl-pds">&quot;</span>    &lt;/tr&gt;<span class="pl-cce">\n</span><span class="pl-pds">&quot;</span></span>,</div>
                </div>
                <div class="d-flex flex-justify-start flex-items-start">
                  <div class="blob-num blame-blob-num color-bg-subtle js-line-number" id="L809">809</div>
                  <div class="blob-code blob-code-inner js-file-line" id="LC809">              <span class="pl-s"><span class="pl-pds">&quot;</span>    &lt;tr&gt;<span class="pl-cce">\n</span><span class="pl-pds">&quot;</span></span>,</div>
                </div>
                <div class="d-flex flex-justify-start flex-items-start">
                  <div class="blob-num blame-blob-num color-bg-subtle js-line-number" id="L810">810</div>
                  <div class="blob-code blob-code-inner js-file-line" id="LC810">              <span class="pl-s"><span class="pl-pds">&quot;</span>      &lt;th&gt;50%&lt;/th&gt;<span class="pl-cce">\n</span><span class="pl-pds">&quot;</span></span>,</div>
                </div>
                <div class="d-flex flex-justify-start flex-items-start">
                  <div class="blob-num blame-blob-num color-bg-subtle js-line-number" id="L811">811</div>
                  <div class="blob-code blob-code-inner js-file-line" id="LC811">              <span class="pl-s"><span class="pl-pds">&quot;</span>      &lt;td&gt;1.250184e+06&lt;/td&gt;<span class="pl-cce">\n</span><span class="pl-pds">&quot;</span></span>,</div>
                </div>
                <div class="d-flex flex-justify-start flex-items-start">
                  <div class="blob-num blame-blob-num color-bg-subtle js-line-number" id="L812">812</div>
                  <div class="blob-code blob-code-inner js-file-line" id="LC812">              <span class="pl-s"><span class="pl-pds">&quot;</span>      &lt;td&gt;76.000000&lt;/td&gt;<span class="pl-cce">\n</span><span class="pl-pds">&quot;</span></span>,</div>
                </div>
                <div class="d-flex flex-justify-start flex-items-start">
                  <div class="blob-num blame-blob-num color-bg-subtle js-line-number" id="L813">813</div>
                  <div class="blob-code blob-code-inner js-file-line" id="LC813">              <span class="pl-s"><span class="pl-pds">&quot;</span>      &lt;td&gt;76.000000&lt;/td&gt;<span class="pl-cce">\n</span><span class="pl-pds">&quot;</span></span>,</div>
                </div>
                <div class="d-flex flex-justify-start flex-items-start">
                  <div class="blob-num blame-blob-num color-bg-subtle js-line-number" id="L814">814</div>
                  <div class="blob-code blob-code-inner js-file-line" id="LC814">              <span class="pl-s"><span class="pl-pds">&quot;</span>      &lt;td&gt;1993.000000&lt;/td&gt;<span class="pl-cce">\n</span><span class="pl-pds">&quot;</span></span>,</div>
                </div>
                <div class="d-flex flex-justify-start flex-items-start">
                  <div class="blob-num blame-blob-num color-bg-subtle js-line-number" id="L815">815</div>
                  <div class="blob-code blob-code-inner js-file-line" id="LC815">              <span class="pl-s"><span class="pl-pds">&quot;</span>      &lt;td&gt;296.820000&lt;/td&gt;<span class="pl-cce">\n</span><span class="pl-pds">&quot;</span></span>,</div>
                </div>
                <div class="d-flex flex-justify-start flex-items-start">
                  <div class="blob-num blame-blob-num color-bg-subtle js-line-number" id="L816">816</div>
                  <div class="blob-code blob-code-inner js-file-line" id="LC816">              <span class="pl-s"><span class="pl-pds">&quot;</span>      &lt;td&gt;310.460000&lt;/td&gt;<span class="pl-cce">\n</span><span class="pl-pds">&quot;</span></span>,</div>
                </div>
                <div class="d-flex flex-justify-start flex-items-start">
                  <div class="blob-num blame-blob-num color-bg-subtle js-line-number" id="L817">817</div>
                  <div class="blob-code blob-code-inner js-file-line" id="LC817">              <span class="pl-s"><span class="pl-pds">&quot;</span>      &lt;td&gt;0.000000&lt;/td&gt;<span class="pl-cce">\n</span><span class="pl-pds">&quot;</span></span>,</div>
                </div>
                <div class="d-flex flex-justify-start flex-items-start">
                  <div class="blob-num blame-blob-num color-bg-subtle js-line-number" id="L818">818</div>
                  <div class="blob-code blob-code-inner js-file-line" id="LC818">              <span class="pl-s"><span class="pl-pds">&quot;</span>      &lt;td&gt;0.00000&lt;/td&gt;<span class="pl-cce">\n</span><span class="pl-pds">&quot;</span></span>,</div>
                </div>
                <div class="d-flex flex-justify-start flex-items-start">
                  <div class="blob-num blame-blob-num color-bg-subtle js-line-number" id="L819">819</div>
                  <div class="blob-code blob-code-inner js-file-line" id="LC819">              <span class="pl-s"><span class="pl-pds">&quot;</span>      &lt;td&gt;136.000000&lt;/td&gt;<span class="pl-cce">\n</span><span class="pl-pds">&quot;</span></span>,</div>
                </div>
                <div class="d-flex flex-justify-start flex-items-start">
                  <div class="blob-num blame-blob-num color-bg-subtle js-line-number" id="L820">820</div>
                  <div class="blob-code blob-code-inner js-file-line" id="LC820">              <span class="pl-s"><span class="pl-pds">&quot;</span>    &lt;/tr&gt;<span class="pl-cce">\n</span><span class="pl-pds">&quot;</span></span>,</div>
                </div>
                <div class="d-flex flex-justify-start flex-items-start">
                  <div class="blob-num blame-blob-num color-bg-subtle js-line-number" id="L821">821</div>
                  <div class="blob-code blob-code-inner js-file-line" id="LC821">              <span class="pl-s"><span class="pl-pds">&quot;</span>    &lt;tr&gt;<span class="pl-cce">\n</span><span class="pl-pds">&quot;</span></span>,</div>
                </div>
                <div class="d-flex flex-justify-start flex-items-start">
                  <div class="blob-num blame-blob-num color-bg-subtle js-line-number" id="L822">822</div>
                  <div class="blob-code blob-code-inner js-file-line" id="LC822">              <span class="pl-s"><span class="pl-pds">&quot;</span>      &lt;th&gt;75%&lt;/th&gt;<span class="pl-cce">\n</span><span class="pl-pds">&quot;</span></span>,</div>
                </div>
                <div class="d-flex flex-justify-start flex-items-start">
                  <div class="blob-num blame-blob-num color-bg-subtle js-line-number" id="L823">823</div>
                  <div class="blob-code blob-code-inner js-file-line" id="LC823">              <span class="pl-s"><span class="pl-pds">&quot;</span>      &lt;td&gt;1.375140e+06&lt;/td&gt;<span class="pl-cce">\n</span><span class="pl-pds">&quot;</span></span>,</div>
                </div>
                <div class="d-flex flex-justify-start flex-items-start">
                  <div class="blob-num blame-blob-num color-bg-subtle js-line-number" id="L824">824</div>
                  <div class="blob-code blob-code-inner js-file-line" id="LC824">              <span class="pl-s"><span class="pl-pds">&quot;</span>      &lt;td&gt;111.000000&lt;/td&gt;<span class="pl-cce">\n</span><span class="pl-pds">&quot;</span></span>,</div>
                </div>
                <div class="d-flex flex-justify-start flex-items-start">
                  <div class="blob-num blame-blob-num color-bg-subtle js-line-number" id="L825">825</div>
                  <div class="blob-code blob-code-inner js-file-line" id="LC825">              <span class="pl-s"><span class="pl-pds">&quot;</span>      &lt;td&gt;110.000000&lt;/td&gt;<span class="pl-cce">\n</span><span class="pl-pds">&quot;</span></span>,</div>
                </div>
                <div class="d-flex flex-justify-start flex-items-start">
                  <div class="blob-num blame-blob-num color-bg-subtle js-line-number" id="L826">826</div>
                  <div class="blob-code blob-code-inner js-file-line" id="LC826">              <span class="pl-s"><span class="pl-pds">&quot;</span>      &lt;td&gt;2539.000000&lt;/td&gt;<span class="pl-cce">\n</span><span class="pl-pds">&quot;</span></span>,</div>
                </div>
                <div class="d-flex flex-justify-start flex-items-start">
                  <div class="blob-num blame-blob-num color-bg-subtle js-line-number" id="L827">827</div>
                  <div class="blob-code blob-code-inner js-file-line" id="LC827">              <span class="pl-s"><span class="pl-pds">&quot;</span>      &lt;td&gt;445.230000&lt;/td&gt;<span class="pl-cce">\n</span><span class="pl-pds">&quot;</span></span>,</div>
                </div>
                <div class="d-flex flex-justify-start flex-items-start">
                  <div class="blob-num blame-blob-num color-bg-subtle js-line-number" id="L828">828</div>
                  <div class="blob-code blob-code-inner js-file-line" id="LC828">              <span class="pl-s"><span class="pl-pds">&quot;</span>      &lt;td&gt;458.870000&lt;/td&gt;<span class="pl-cce">\n</span><span class="pl-pds">&quot;</span></span>,</div>
                </div>
                <div class="d-flex flex-justify-start flex-items-start">
                  <div class="blob-num blame-blob-num color-bg-subtle js-line-number" id="L829">829</div>
                  <div class="blob-code blob-code-inner js-file-line" id="LC829">              <span class="pl-s"><span class="pl-pds">&quot;</span>      &lt;td&gt;0.000000&lt;/td&gt;<span class="pl-cce">\n</span><span class="pl-pds">&quot;</span></span>,</div>
                </div>
                <div class="d-flex flex-justify-start flex-items-start">
                  <div class="blob-num blame-blob-num color-bg-subtle js-line-number" id="L830">830</div>
                  <div class="blob-code blob-code-inner js-file-line" id="LC830">              <span class="pl-s"><span class="pl-pds">&quot;</span>      &lt;td&gt;0.00000&lt;/td&gt;<span class="pl-cce">\n</span><span class="pl-pds">&quot;</span></span>,</div>
                </div>
                <div class="d-flex flex-justify-start flex-items-start">
                  <div class="blob-num blame-blob-num color-bg-subtle js-line-number" id="L831">831</div>
                  <div class="blob-code blob-code-inner js-file-line" id="LC831">              <span class="pl-s"><span class="pl-pds">&quot;</span>      &lt;td&gt;324.000000&lt;/td&gt;<span class="pl-cce">\n</span><span class="pl-pds">&quot;</span></span>,</div>
                </div>
                <div class="d-flex flex-justify-start flex-items-start">
                  <div class="blob-num blame-blob-num color-bg-subtle js-line-number" id="L832">832</div>
                  <div class="blob-code blob-code-inner js-file-line" id="LC832">              <span class="pl-s"><span class="pl-pds">&quot;</span>    &lt;/tr&gt;<span class="pl-cce">\n</span><span class="pl-pds">&quot;</span></span>,</div>
                </div>
                <div class="d-flex flex-justify-start flex-items-start">
                  <div class="blob-num blame-blob-num color-bg-subtle js-line-number" id="L833">833</div>
                  <div class="blob-code blob-code-inner js-file-line" id="LC833">              <span class="pl-s"><span class="pl-pds">&quot;</span>    &lt;tr&gt;<span class="pl-cce">\n</span><span class="pl-pds">&quot;</span></span>,</div>
                </div>
                <div class="d-flex flex-justify-start flex-items-start">
                  <div class="blob-num blame-blob-num color-bg-subtle js-line-number" id="L834">834</div>
                  <div class="blob-code blob-code-inner js-file-line" id="LC834">              <span class="pl-s"><span class="pl-pds">&quot;</span>      &lt;th&gt;max&lt;/th&gt;<span class="pl-cce">\n</span><span class="pl-pds">&quot;</span></span>,</div>
                </div>
                <div class="d-flex flex-justify-start flex-items-start">
                  <div class="blob-num blame-blob-num color-bg-subtle js-line-number" id="L835">835</div>
                  <div class="blob-code blob-code-inner js-file-line" id="LC835">              <span class="pl-s"><span class="pl-pds">&quot;</span>      &lt;td&gt;1.499999e+06&lt;/td&gt;<span class="pl-cce">\n</span><span class="pl-pds">&quot;</span></span>,</div>
                </div>
                <div class="d-flex flex-justify-start flex-items-start">
                  <div class="blob-num blame-blob-num color-bg-subtle js-line-number" id="L836">836</div>
                  <div class="blob-code blob-code-inner js-file-line" id="LC836">              <span class="pl-s"><span class="pl-pds">&quot;</span>      &lt;td&gt;145.000000&lt;/td&gt;<span class="pl-cce">\n</span><span class="pl-pds">&quot;</span></span>,</div>
                </div>
                <div class="d-flex flex-justify-start flex-items-start">
                  <div class="blob-num blame-blob-num color-bg-subtle js-line-number" id="L837">837</div>
                  <div class="blob-code blob-code-inner js-file-line" id="LC837">              <span class="pl-s"><span class="pl-pds">&quot;</span>      &lt;td&gt;186.000000&lt;/td&gt;<span class="pl-cce">\n</span><span class="pl-pds">&quot;</span></span>,</div>
                </div>
                <div class="d-flex flex-justify-start flex-items-start">
                  <div class="blob-num blame-blob-num color-bg-subtle js-line-number" id="L838">838</div>
                  <div class="blob-code blob-code-inner js-file-line" id="LC838">              <span class="pl-s"><span class="pl-pds">&quot;</span>      &lt;td&gt;2956.000000&lt;/td&gt;<span class="pl-cce">\n</span><span class="pl-pds">&quot;</span></span>,</div>
                </div>
                <div class="d-flex flex-justify-start flex-items-start">
                  <div class="blob-num blame-blob-num color-bg-subtle js-line-number" id="L839">839</div>
                  <div class="blob-code blob-code-inner js-file-line" id="LC839">              <span class="pl-s"><span class="pl-pds">&quot;</span>      &lt;td&gt;866.270000&lt;/td&gt;<span class="pl-cce">\n</span><span class="pl-pds">&quot;</span></span>,</div>
                </div>
                <div class="d-flex flex-justify-start flex-items-start">
                  <div class="blob-num blame-blob-num color-bg-subtle js-line-number" id="L840">840</div>
                  <div class="blob-code blob-code-inner js-file-line" id="LC840">              <span class="pl-s"><span class="pl-pds">&quot;</span>      &lt;td&gt;866.270000&lt;/td&gt;<span class="pl-cce">\n</span><span class="pl-pds">&quot;</span></span>,</div>
                </div>
                <div class="d-flex flex-justify-start flex-items-start">
                  <div class="blob-num blame-blob-num color-bg-subtle js-line-number" id="L841">841</div>
                  <div class="blob-code blob-code-inner js-file-line" id="LC841">              <span class="pl-s"><span class="pl-pds">&quot;</span>      &lt;td&gt;1.000000&lt;/td&gt;<span class="pl-cce">\n</span><span class="pl-pds">&quot;</span></span>,</div>
                </div>
                <div class="d-flex flex-justify-start flex-items-start">
                  <div class="blob-num blame-blob-num color-bg-subtle js-line-number" id="L842">842</div>
                  <div class="blob-code blob-code-inner js-file-line" id="LC842">              <span class="pl-s"><span class="pl-pds">&quot;</span>      &lt;td&gt;1.00000&lt;/td&gt;<span class="pl-cce">\n</span><span class="pl-pds">&quot;</span></span>,</div>
                </div>
                <div class="d-flex flex-justify-start flex-items-start">
                  <div class="blob-num blame-blob-num color-bg-subtle js-line-number" id="L843">843</div>
                  <div class="blob-code blob-code-inner js-file-line" id="LC843">              <span class="pl-s"><span class="pl-pds">&quot;</span>      &lt;td&gt;24299.000000&lt;/td&gt;<span class="pl-cce">\n</span><span class="pl-pds">&quot;</span></span>,</div>
                </div>
                <div class="d-flex flex-justify-start flex-items-start">
                  <div class="blob-num blame-blob-num color-bg-subtle js-line-number" id="L844">844</div>
                  <div class="blob-code blob-code-inner js-file-line" id="LC844">              <span class="pl-s"><span class="pl-pds">&quot;</span>    &lt;/tr&gt;<span class="pl-cce">\n</span><span class="pl-pds">&quot;</span></span>,</div>
                </div>
                <div class="d-flex flex-justify-start flex-items-start">
                  <div class="blob-num blame-blob-num color-bg-subtle js-line-number" id="L845">845</div>
                  <div class="blob-code blob-code-inner js-file-line" id="LC845">              <span class="pl-s"><span class="pl-pds">&quot;</span>  &lt;/tbody&gt;<span class="pl-cce">\n</span><span class="pl-pds">&quot;</span></span>,</div>
                </div>
                <div class="d-flex flex-justify-start flex-items-start">
                  <div class="blob-num blame-blob-num color-bg-subtle js-line-number" id="L846">846</div>
                  <div class="blob-code blob-code-inner js-file-line" id="LC846">              <span class="pl-s"><span class="pl-pds">&quot;</span>&lt;/table&gt;<span class="pl-cce">\n</span><span class="pl-pds">&quot;</span></span>,</div>
                </div>
                <div class="d-flex flex-justify-start flex-items-start">
                  <div class="blob-num blame-blob-num color-bg-subtle js-line-number" id="L847">847</div>
                  <div class="blob-code blob-code-inner js-file-line" id="LC847">              <span class="pl-s"><span class="pl-pds">&quot;</span>&lt;/div&gt;<span class="pl-cce">\n</span><span class="pl-pds">&quot;</span></span>,</div>
                </div>
                <div class="d-flex flex-justify-start flex-items-start">
                  <div class="blob-num blame-blob-num color-bg-subtle js-line-number" id="L848">848</div>
                  <div class="blob-code blob-code-inner js-file-line" id="LC848">              <span class="pl-s"><span class="pl-pds">&quot;</span>      &lt;button class=<span class="pl-cce">\&quot;</span>colab-df-convert<span class="pl-cce">\&quot;</span> onclick=<span class="pl-cce">\&quot;</span>convertToInteractive(&#39;df-07020beb-b779-41c6-bdd1-ee45ba52c658&#39;)<span class="pl-cce">\&quot;\n</span><span class="pl-pds">&quot;</span></span>,</div>
                </div>
                <div class="d-flex flex-justify-start flex-items-start">
                  <div class="blob-num blame-blob-num color-bg-subtle js-line-number" id="L849">849</div>
                  <div class="blob-code blob-code-inner js-file-line" id="LC849">              <span class="pl-s"><span class="pl-pds">&quot;</span>              title=<span class="pl-cce">\&quot;</span>Convert this dataframe to an interactive table.<span class="pl-cce">\&quot;\n</span><span class="pl-pds">&quot;</span></span>,</div>
                </div>
                <div class="d-flex flex-justify-start flex-items-start">
                  <div class="blob-num blame-blob-num color-bg-subtle js-line-number" id="L850">850</div>
                  <div class="blob-code blob-code-inner js-file-line" id="LC850">              <span class="pl-s"><span class="pl-pds">&quot;</span>              style=<span class="pl-cce">\&quot;</span>display:none;<span class="pl-cce">\&quot;</span>&gt;<span class="pl-cce">\n</span><span class="pl-pds">&quot;</span></span>,</div>
                </div>
                <div class="d-flex flex-justify-start flex-items-start">
                  <div class="blob-num blame-blob-num color-bg-subtle js-line-number" id="L851">851</div>
                  <div class="blob-code blob-code-inner js-file-line" id="LC851">              <span class="pl-s"><span class="pl-pds">&quot;</span>        <span class="pl-cce">\n</span><span class="pl-pds">&quot;</span></span>,</div>
                </div>
                <div class="d-flex flex-justify-start flex-items-start">
                  <div class="blob-num blame-blob-num color-bg-subtle js-line-number" id="L852">852</div>
                  <div class="blob-code blob-code-inner js-file-line" id="LC852">              <span class="pl-s"><span class="pl-pds">&quot;</span>  &lt;svg xmlns=<span class="pl-cce">\&quot;</span>http://www.w3.org/2000/svg<span class="pl-cce">\&quot;</span> height=<span class="pl-cce">\&quot;</span>24px<span class="pl-cce">\&quot;</span>viewBox=<span class="pl-cce">\&quot;</span>0 0 24 24<span class="pl-cce">\&quot;\n</span><span class="pl-pds">&quot;</span></span>,</div>
                </div>
                <div class="d-flex flex-justify-start flex-items-start">
                  <div class="blob-num blame-blob-num color-bg-subtle js-line-number" id="L853">853</div>
                  <div class="blob-code blob-code-inner js-file-line" id="LC853">              <span class="pl-s"><span class="pl-pds">&quot;</span>       width=<span class="pl-cce">\&quot;</span>24px<span class="pl-cce">\&quot;</span>&gt;<span class="pl-cce">\n</span><span class="pl-pds">&quot;</span></span>,</div>
                </div>
                <div class="d-flex flex-justify-start flex-items-start">
                  <div class="blob-num blame-blob-num color-bg-subtle js-line-number" id="L854">854</div>
                  <div class="blob-code blob-code-inner js-file-line" id="LC854">              <span class="pl-s"><span class="pl-pds">&quot;</span>    &lt;path d=<span class="pl-cce">\&quot;</span>M0 0h24v24H0V0z<span class="pl-cce">\&quot;</span> fill=<span class="pl-cce">\&quot;</span>none<span class="pl-cce">\&quot;</span>/&gt;<span class="pl-cce">\n</span><span class="pl-pds">&quot;</span></span>,</div>
                </div>
                <div class="d-flex flex-justify-start flex-items-start">
                  <div class="blob-num blame-blob-num color-bg-subtle js-line-number" id="L855">855</div>
                  <div class="blob-code blob-code-inner js-file-line" id="LC855">              <span class="pl-s"><span class="pl-pds">&quot;</span>    &lt;path d=<span class="pl-cce">\&quot;</span>M18.56 5.44l.94 2.06.94-2.06 2.06-.94-2.06-.94-.94-2.06-.94 2.06-2.06.94zm-11 1L8.5 8.5l.94-2.06 2.06-.94-2.06-.94L8.5 2.5l-.94 2.06-2.06.94zm10 10l.94 2.06.94-2.06 2.06-.94-2.06-.94-.94-2.06-.94 2.06-2.06.94z<span class="pl-cce">\&quot;</span>/&gt;&lt;path d=<span class="pl-cce">\&quot;</span>M17.41 7.96l-1.37-1.37c-.4-.4-.92-.59-1.43-.59-.52 0-1.04.2-1.43.59L10.3 9.45l-7.72 7.72c-.78.78-.78 2.05 0 2.83L4 21.41c.39.39.9.59 1.41.59.51 0 1.02-.2 1.41-.59l7.78-7.78 2.81-2.81c.8-.78.8-2.07 0-2.86zM5.41 20L4 18.59l7.72-7.72 1.47 1.35L5.41 20z<span class="pl-cce">\&quot;</span>/&gt;<span class="pl-cce">\n</span><span class="pl-pds">&quot;</span></span>,</div>
                </div>
                <div class="d-flex flex-justify-start flex-items-start">
                  <div class="blob-num blame-blob-num color-bg-subtle js-line-number" id="L856">856</div>
                  <div class="blob-code blob-code-inner js-file-line" id="LC856">              <span class="pl-s"><span class="pl-pds">&quot;</span>  &lt;/svg&gt;<span class="pl-cce">\n</span><span class="pl-pds">&quot;</span></span>,</div>
                </div>
                <div class="d-flex flex-justify-start flex-items-start">
                  <div class="blob-num blame-blob-num color-bg-subtle js-line-number" id="L857">857</div>
                  <div class="blob-code blob-code-inner js-file-line" id="LC857">              <span class="pl-s"><span class="pl-pds">&quot;</span>      &lt;/button&gt;<span class="pl-cce">\n</span><span class="pl-pds">&quot;</span></span>,</div>
                </div>
                <div class="d-flex flex-justify-start flex-items-start">
                  <div class="blob-num blame-blob-num color-bg-subtle js-line-number" id="L858">858</div>
                  <div class="blob-code blob-code-inner js-file-line" id="LC858">              <span class="pl-s"><span class="pl-pds">&quot;</span>      <span class="pl-cce">\n</span><span class="pl-pds">&quot;</span></span>,</div>
                </div>
                <div class="d-flex flex-justify-start flex-items-start">
                  <div class="blob-num blame-blob-num color-bg-subtle js-line-number" id="L859">859</div>
                  <div class="blob-code blob-code-inner js-file-line" id="LC859">              <span class="pl-s"><span class="pl-pds">&quot;</span>  &lt;style&gt;<span class="pl-cce">\n</span><span class="pl-pds">&quot;</span></span>,</div>
                </div>
                <div class="d-flex flex-justify-start flex-items-start">
                  <div class="blob-num blame-blob-num color-bg-subtle js-line-number" id="L860">860</div>
                  <div class="blob-code blob-code-inner js-file-line" id="LC860">              <span class="pl-s"><span class="pl-pds">&quot;</span>    .colab-df-container {<span class="pl-cce">\n</span><span class="pl-pds">&quot;</span></span>,</div>
                </div>
                <div class="d-flex flex-justify-start flex-items-start">
                  <div class="blob-num blame-blob-num color-bg-subtle js-line-number" id="L861">861</div>
                  <div class="blob-code blob-code-inner js-file-line" id="LC861">              <span class="pl-s"><span class="pl-pds">&quot;</span>      display:flex;<span class="pl-cce">\n</span><span class="pl-pds">&quot;</span></span>,</div>
                </div>
                <div class="d-flex flex-justify-start flex-items-start">
                  <div class="blob-num blame-blob-num color-bg-subtle js-line-number" id="L862">862</div>
                  <div class="blob-code blob-code-inner js-file-line" id="LC862">              <span class="pl-s"><span class="pl-pds">&quot;</span>      flex-wrap:wrap;<span class="pl-cce">\n</span><span class="pl-pds">&quot;</span></span>,</div>
                </div>
                <div class="d-flex flex-justify-start flex-items-start">
                  <div class="blob-num blame-blob-num color-bg-subtle js-line-number" id="L863">863</div>
                  <div class="blob-code blob-code-inner js-file-line" id="LC863">              <span class="pl-s"><span class="pl-pds">&quot;</span>      gap: 12px;<span class="pl-cce">\n</span><span class="pl-pds">&quot;</span></span>,</div>
                </div>
                <div class="d-flex flex-justify-start flex-items-start">
                  <div class="blob-num blame-blob-num color-bg-subtle js-line-number" id="L864">864</div>
                  <div class="blob-code blob-code-inner js-file-line" id="LC864">              <span class="pl-s"><span class="pl-pds">&quot;</span>    }<span class="pl-cce">\n</span><span class="pl-pds">&quot;</span></span>,</div>
                </div>
                <div class="d-flex flex-justify-start flex-items-start">
                  <div class="blob-num blame-blob-num color-bg-subtle js-line-number" id="L865">865</div>
                  <div class="blob-code blob-code-inner js-file-line" id="LC865">              <span class="pl-s"><span class="pl-pds">&quot;</span><span class="pl-cce">\n</span><span class="pl-pds">&quot;</span></span>,</div>
                </div>
                <div class="d-flex flex-justify-start flex-items-start">
                  <div class="blob-num blame-blob-num color-bg-subtle js-line-number" id="L866">866</div>
                  <div class="blob-code blob-code-inner js-file-line" id="LC866">              <span class="pl-s"><span class="pl-pds">&quot;</span>    .colab-df-convert {<span class="pl-cce">\n</span><span class="pl-pds">&quot;</span></span>,</div>
                </div>
                <div class="d-flex flex-justify-start flex-items-start">
                  <div class="blob-num blame-blob-num color-bg-subtle js-line-number" id="L867">867</div>
                  <div class="blob-code blob-code-inner js-file-line" id="LC867">              <span class="pl-s"><span class="pl-pds">&quot;</span>      background-color: #E8F0FE;<span class="pl-cce">\n</span><span class="pl-pds">&quot;</span></span>,</div>
                </div>
                <div class="d-flex flex-justify-start flex-items-start">
                  <div class="blob-num blame-blob-num color-bg-subtle js-line-number" id="L868">868</div>
                  <div class="blob-code blob-code-inner js-file-line" id="LC868">              <span class="pl-s"><span class="pl-pds">&quot;</span>      border: none;<span class="pl-cce">\n</span><span class="pl-pds">&quot;</span></span>,</div>
                </div>
                <div class="d-flex flex-justify-start flex-items-start">
                  <div class="blob-num blame-blob-num color-bg-subtle js-line-number" id="L869">869</div>
                  <div class="blob-code blob-code-inner js-file-line" id="LC869">              <span class="pl-s"><span class="pl-pds">&quot;</span>      border-radius: 50%;<span class="pl-cce">\n</span><span class="pl-pds">&quot;</span></span>,</div>
                </div>
                <div class="d-flex flex-justify-start flex-items-start">
                  <div class="blob-num blame-blob-num color-bg-subtle js-line-number" id="L870">870</div>
                  <div class="blob-code blob-code-inner js-file-line" id="LC870">              <span class="pl-s"><span class="pl-pds">&quot;</span>      cursor: pointer;<span class="pl-cce">\n</span><span class="pl-pds">&quot;</span></span>,</div>
                </div>
                <div class="d-flex flex-justify-start flex-items-start">
                  <div class="blob-num blame-blob-num color-bg-subtle js-line-number" id="L871">871</div>
                  <div class="blob-code blob-code-inner js-file-line" id="LC871">              <span class="pl-s"><span class="pl-pds">&quot;</span>      display: none;<span class="pl-cce">\n</span><span class="pl-pds">&quot;</span></span>,</div>
                </div>
                <div class="d-flex flex-justify-start flex-items-start">
                  <div class="blob-num blame-blob-num color-bg-subtle js-line-number" id="L872">872</div>
                  <div class="blob-code blob-code-inner js-file-line" id="LC872">              <span class="pl-s"><span class="pl-pds">&quot;</span>      fill: #1967D2;<span class="pl-cce">\n</span><span class="pl-pds">&quot;</span></span>,</div>
                </div>
                <div class="d-flex flex-justify-start flex-items-start">
                  <div class="blob-num blame-blob-num color-bg-subtle js-line-number" id="L873">873</div>
                  <div class="blob-code blob-code-inner js-file-line" id="LC873">              <span class="pl-s"><span class="pl-pds">&quot;</span>      height: 32px;<span class="pl-cce">\n</span><span class="pl-pds">&quot;</span></span>,</div>
                </div>
                <div class="d-flex flex-justify-start flex-items-start">
                  <div class="blob-num blame-blob-num color-bg-subtle js-line-number" id="L874">874</div>
                  <div class="blob-code blob-code-inner js-file-line" id="LC874">              <span class="pl-s"><span class="pl-pds">&quot;</span>      padding: 0 0 0 0;<span class="pl-cce">\n</span><span class="pl-pds">&quot;</span></span>,</div>
                </div>
                <div class="d-flex flex-justify-start flex-items-start">
                  <div class="blob-num blame-blob-num color-bg-subtle js-line-number" id="L875">875</div>
                  <div class="blob-code blob-code-inner js-file-line" id="LC875">              <span class="pl-s"><span class="pl-pds">&quot;</span>      width: 32px;<span class="pl-cce">\n</span><span class="pl-pds">&quot;</span></span>,</div>
                </div>
                <div class="d-flex flex-justify-start flex-items-start">
                  <div class="blob-num blame-blob-num color-bg-subtle js-line-number" id="L876">876</div>
                  <div class="blob-code blob-code-inner js-file-line" id="LC876">              <span class="pl-s"><span class="pl-pds">&quot;</span>    }<span class="pl-cce">\n</span><span class="pl-pds">&quot;</span></span>,</div>
                </div>
                <div class="d-flex flex-justify-start flex-items-start">
                  <div class="blob-num blame-blob-num color-bg-subtle js-line-number" id="L877">877</div>
                  <div class="blob-code blob-code-inner js-file-line" id="LC877">              <span class="pl-s"><span class="pl-pds">&quot;</span><span class="pl-cce">\n</span><span class="pl-pds">&quot;</span></span>,</div>
                </div>
                <div class="d-flex flex-justify-start flex-items-start">
                  <div class="blob-num blame-blob-num color-bg-subtle js-line-number" id="L878">878</div>
                  <div class="blob-code blob-code-inner js-file-line" id="LC878">              <span class="pl-s"><span class="pl-pds">&quot;</span>    .colab-df-convert:hover {<span class="pl-cce">\n</span><span class="pl-pds">&quot;</span></span>,</div>
                </div>
                <div class="d-flex flex-justify-start flex-items-start">
                  <div class="blob-num blame-blob-num color-bg-subtle js-line-number" id="L879">879</div>
                  <div class="blob-code blob-code-inner js-file-line" id="LC879">              <span class="pl-s"><span class="pl-pds">&quot;</span>      background-color: #E2EBFA;<span class="pl-cce">\n</span><span class="pl-pds">&quot;</span></span>,</div>
                </div>
                <div class="d-flex flex-justify-start flex-items-start">
                  <div class="blob-num blame-blob-num color-bg-subtle js-line-number" id="L880">880</div>
                  <div class="blob-code blob-code-inner js-file-line" id="LC880">              <span class="pl-s"><span class="pl-pds">&quot;</span>      box-shadow: 0px 1px 2px rgba(60, 64, 67, 0.3), 0px 1px 3px 1px rgba(60, 64, 67, 0.15);<span class="pl-cce">\n</span><span class="pl-pds">&quot;</span></span>,</div>
                </div>
                <div class="d-flex flex-justify-start flex-items-start">
                  <div class="blob-num blame-blob-num color-bg-subtle js-line-number" id="L881">881</div>
                  <div class="blob-code blob-code-inner js-file-line" id="LC881">              <span class="pl-s"><span class="pl-pds">&quot;</span>      fill: #174EA6;<span class="pl-cce">\n</span><span class="pl-pds">&quot;</span></span>,</div>
                </div>
                <div class="d-flex flex-justify-start flex-items-start">
                  <div class="blob-num blame-blob-num color-bg-subtle js-line-number" id="L882">882</div>
                  <div class="blob-code blob-code-inner js-file-line" id="LC882">              <span class="pl-s"><span class="pl-pds">&quot;</span>    }<span class="pl-cce">\n</span><span class="pl-pds">&quot;</span></span>,</div>
                </div>
                <div class="d-flex flex-justify-start flex-items-start">
                  <div class="blob-num blame-blob-num color-bg-subtle js-line-number" id="L883">883</div>
                  <div class="blob-code blob-code-inner js-file-line" id="LC883">              <span class="pl-s"><span class="pl-pds">&quot;</span><span class="pl-cce">\n</span><span class="pl-pds">&quot;</span></span>,</div>
                </div>
                <div class="d-flex flex-justify-start flex-items-start">
                  <div class="blob-num blame-blob-num color-bg-subtle js-line-number" id="L884">884</div>
                  <div class="blob-code blob-code-inner js-file-line" id="LC884">              <span class="pl-s"><span class="pl-pds">&quot;</span>    [theme=dark] .colab-df-convert {<span class="pl-cce">\n</span><span class="pl-pds">&quot;</span></span>,</div>
                </div>
                <div class="d-flex flex-justify-start flex-items-start">
                  <div class="blob-num blame-blob-num color-bg-subtle js-line-number" id="L885">885</div>
                  <div class="blob-code blob-code-inner js-file-line" id="LC885">              <span class="pl-s"><span class="pl-pds">&quot;</span>      background-color: #3B4455;<span class="pl-cce">\n</span><span class="pl-pds">&quot;</span></span>,</div>
                </div>
                <div class="d-flex flex-justify-start flex-items-start">
                  <div class="blob-num blame-blob-num color-bg-subtle js-line-number" id="L886">886</div>
                  <div class="blob-code blob-code-inner js-file-line" id="LC886">              <span class="pl-s"><span class="pl-pds">&quot;</span>      fill: #D2E3FC;<span class="pl-cce">\n</span><span class="pl-pds">&quot;</span></span>,</div>
                </div>
                <div class="d-flex flex-justify-start flex-items-start">
                  <div class="blob-num blame-blob-num color-bg-subtle js-line-number" id="L887">887</div>
                  <div class="blob-code blob-code-inner js-file-line" id="LC887">              <span class="pl-s"><span class="pl-pds">&quot;</span>    }<span class="pl-cce">\n</span><span class="pl-pds">&quot;</span></span>,</div>
                </div>
                <div class="d-flex flex-justify-start flex-items-start">
                  <div class="blob-num blame-blob-num color-bg-subtle js-line-number" id="L888">888</div>
                  <div class="blob-code blob-code-inner js-file-line" id="LC888">              <span class="pl-s"><span class="pl-pds">&quot;</span><span class="pl-cce">\n</span><span class="pl-pds">&quot;</span></span>,</div>
                </div>
                <div class="d-flex flex-justify-start flex-items-start">
                  <div class="blob-num blame-blob-num color-bg-subtle js-line-number" id="L889">889</div>
                  <div class="blob-code blob-code-inner js-file-line" id="LC889">              <span class="pl-s"><span class="pl-pds">&quot;</span>    [theme=dark] .colab-df-convert:hover {<span class="pl-cce">\n</span><span class="pl-pds">&quot;</span></span>,</div>
                </div>
                <div class="d-flex flex-justify-start flex-items-start">
                  <div class="blob-num blame-blob-num color-bg-subtle js-line-number" id="L890">890</div>
                  <div class="blob-code blob-code-inner js-file-line" id="LC890">              <span class="pl-s"><span class="pl-pds">&quot;</span>      background-color: #434B5C;<span class="pl-cce">\n</span><span class="pl-pds">&quot;</span></span>,</div>
                </div>
                <div class="d-flex flex-justify-start flex-items-start">
                  <div class="blob-num blame-blob-num color-bg-subtle js-line-number" id="L891">891</div>
                  <div class="blob-code blob-code-inner js-file-line" id="LC891">              <span class="pl-s"><span class="pl-pds">&quot;</span>      box-shadow: 0px 1px 3px 1px rgba(0, 0, 0, 0.15);<span class="pl-cce">\n</span><span class="pl-pds">&quot;</span></span>,</div>
                </div>
                <div class="d-flex flex-justify-start flex-items-start">
                  <div class="blob-num blame-blob-num color-bg-subtle js-line-number" id="L892">892</div>
                  <div class="blob-code blob-code-inner js-file-line" id="LC892">              <span class="pl-s"><span class="pl-pds">&quot;</span>      filter: drop-shadow(0px 1px 2px rgba(0, 0, 0, 0.3));<span class="pl-cce">\n</span><span class="pl-pds">&quot;</span></span>,</div>
                </div>
                <div class="d-flex flex-justify-start flex-items-start">
                  <div class="blob-num blame-blob-num color-bg-subtle js-line-number" id="L893">893</div>
                  <div class="blob-code blob-code-inner js-file-line" id="LC893">              <span class="pl-s"><span class="pl-pds">&quot;</span>      fill: #FFFFFF;<span class="pl-cce">\n</span><span class="pl-pds">&quot;</span></span>,</div>
                </div>
                <div class="d-flex flex-justify-start flex-items-start">
                  <div class="blob-num blame-blob-num color-bg-subtle js-line-number" id="L894">894</div>
                  <div class="blob-code blob-code-inner js-file-line" id="LC894">              <span class="pl-s"><span class="pl-pds">&quot;</span>    }<span class="pl-cce">\n</span><span class="pl-pds">&quot;</span></span>,</div>
                </div>
                <div class="d-flex flex-justify-start flex-items-start">
                  <div class="blob-num blame-blob-num color-bg-subtle js-line-number" id="L895">895</div>
                  <div class="blob-code blob-code-inner js-file-line" id="LC895">              <span class="pl-s"><span class="pl-pds">&quot;</span>  &lt;/style&gt;<span class="pl-cce">\n</span><span class="pl-pds">&quot;</span></span>,</div>
                </div>
                <div class="d-flex flex-justify-start flex-items-start">
                  <div class="blob-num blame-blob-num color-bg-subtle js-line-number" id="L896">896</div>
                  <div class="blob-code blob-code-inner js-file-line" id="LC896">              <span class="pl-s"><span class="pl-pds">&quot;</span><span class="pl-cce">\n</span><span class="pl-pds">&quot;</span></span>,</div>
                </div>
                <div class="d-flex flex-justify-start flex-items-start">
                  <div class="blob-num blame-blob-num color-bg-subtle js-line-number" id="L897">897</div>
                  <div class="blob-code blob-code-inner js-file-line" id="LC897">              <span class="pl-s"><span class="pl-pds">&quot;</span>      &lt;script&gt;<span class="pl-cce">\n</span><span class="pl-pds">&quot;</span></span>,</div>
                </div>
                <div class="d-flex flex-justify-start flex-items-start">
                  <div class="blob-num blame-blob-num color-bg-subtle js-line-number" id="L898">898</div>
                  <div class="blob-code blob-code-inner js-file-line" id="LC898">              <span class="pl-s"><span class="pl-pds">&quot;</span>        const buttonEl =<span class="pl-cce">\n</span><span class="pl-pds">&quot;</span></span>,</div>
                </div>
                <div class="d-flex flex-justify-start flex-items-start">
                  <div class="blob-num blame-blob-num color-bg-subtle js-line-number" id="L899">899</div>
                  <div class="blob-code blob-code-inner js-file-line" id="LC899">              <span class="pl-s"><span class="pl-pds">&quot;</span>          document.querySelector(&#39;#df-07020beb-b779-41c6-bdd1-ee45ba52c658 button.colab-df-convert&#39;);<span class="pl-cce">\n</span><span class="pl-pds">&quot;</span></span>,</div>
                </div>
                <div class="d-flex flex-justify-start flex-items-start">
                  <div class="blob-num blame-blob-num color-bg-subtle js-line-number" id="L900">900</div>
                  <div class="blob-code blob-code-inner js-file-line" id="LC900">              <span class="pl-s"><span class="pl-pds">&quot;</span>        buttonEl.style.display =<span class="pl-cce">\n</span><span class="pl-pds">&quot;</span></span>,</div>
                </div>
                <div class="d-flex flex-justify-start flex-items-start">
                  <div class="blob-num blame-blob-num color-bg-subtle js-line-number" id="L901">901</div>
                  <div class="blob-code blob-code-inner js-file-line" id="LC901">              <span class="pl-s"><span class="pl-pds">&quot;</span>          google.colab.kernel.accessAllowed ? &#39;block&#39; : &#39;none&#39;;<span class="pl-cce">\n</span><span class="pl-pds">&quot;</span></span>,</div>
                </div>
                <div class="d-flex flex-justify-start flex-items-start">
                  <div class="blob-num blame-blob-num color-bg-subtle js-line-number" id="L902">902</div>
                  <div class="blob-code blob-code-inner js-file-line" id="LC902">              <span class="pl-s"><span class="pl-pds">&quot;</span><span class="pl-cce">\n</span><span class="pl-pds">&quot;</span></span>,</div>
                </div>
                <div class="d-flex flex-justify-start flex-items-start">
                  <div class="blob-num blame-blob-num color-bg-subtle js-line-number" id="L903">903</div>
                  <div class="blob-code blob-code-inner js-file-line" id="LC903">              <span class="pl-s"><span class="pl-pds">&quot;</span>        async function convertToInteractive(key) {<span class="pl-cce">\n</span><span class="pl-pds">&quot;</span></span>,</div>
                </div>
                <div class="d-flex flex-justify-start flex-items-start">
                  <div class="blob-num blame-blob-num color-bg-subtle js-line-number" id="L904">904</div>
                  <div class="blob-code blob-code-inner js-file-line" id="LC904">              <span class="pl-s"><span class="pl-pds">&quot;</span>          const element = document.querySelector(&#39;#df-07020beb-b779-41c6-bdd1-ee45ba52c658&#39;);<span class="pl-cce">\n</span><span class="pl-pds">&quot;</span></span>,</div>
                </div>
                <div class="d-flex flex-justify-start flex-items-start">
                  <div class="blob-num blame-blob-num color-bg-subtle js-line-number" id="L905">905</div>
                  <div class="blob-code blob-code-inner js-file-line" id="LC905">              <span class="pl-s"><span class="pl-pds">&quot;</span>          const dataTable =<span class="pl-cce">\n</span><span class="pl-pds">&quot;</span></span>,</div>
                </div>
                <div class="d-flex flex-justify-start flex-items-start">
                  <div class="blob-num blame-blob-num color-bg-subtle js-line-number" id="L906">906</div>
                  <div class="blob-code blob-code-inner js-file-line" id="LC906">              <span class="pl-s"><span class="pl-pds">&quot;</span>            await google.colab.kernel.invokeFunction(&#39;convertToInteractive&#39;,<span class="pl-cce">\n</span><span class="pl-pds">&quot;</span></span>,</div>
                </div>
                <div class="d-flex flex-justify-start flex-items-start">
                  <div class="blob-num blame-blob-num color-bg-subtle js-line-number" id="L907">907</div>
                  <div class="blob-code blob-code-inner js-file-line" id="LC907">              <span class="pl-s"><span class="pl-pds">&quot;</span>                                                     [key], {});<span class="pl-cce">\n</span><span class="pl-pds">&quot;</span></span>,</div>
                </div>
                <div class="d-flex flex-justify-start flex-items-start">
                  <div class="blob-num blame-blob-num color-bg-subtle js-line-number" id="L908">908</div>
                  <div class="blob-code blob-code-inner js-file-line" id="LC908">              <span class="pl-s"><span class="pl-pds">&quot;</span>          if (!dataTable) return;<span class="pl-cce">\n</span><span class="pl-pds">&quot;</span></span>,</div>
                </div>
                <div class="d-flex flex-justify-start flex-items-start">
                  <div class="blob-num blame-blob-num color-bg-subtle js-line-number" id="L909">909</div>
                  <div class="blob-code blob-code-inner js-file-line" id="LC909">              <span class="pl-s"><span class="pl-pds">&quot;</span><span class="pl-cce">\n</span><span class="pl-pds">&quot;</span></span>,</div>
                </div>
                <div class="d-flex flex-justify-start flex-items-start">
                  <div class="blob-num blame-blob-num color-bg-subtle js-line-number" id="L910">910</div>
                  <div class="blob-code blob-code-inner js-file-line" id="LC910">              <span class="pl-s"><span class="pl-pds">&quot;</span>          const docLinkHtml = &#39;Like what you see? Visit the &#39; +<span class="pl-cce">\n</span><span class="pl-pds">&quot;</span></span>,</div>
                </div>
                <div class="d-flex flex-justify-start flex-items-start">
                  <div class="blob-num blame-blob-num color-bg-subtle js-line-number" id="L911">911</div>
                  <div class="blob-code blob-code-inner js-file-line" id="LC911">              <span class="pl-s"><span class="pl-pds">&quot;</span>            &#39;&lt;a target=<span class="pl-cce">\&quot;</span>_blank<span class="pl-cce">\&quot;</span> href=https://colab.research.google.com/notebooks/data_table.ipynb&gt;data table notebook&lt;/a&gt;&#39;<span class="pl-cce">\n</span><span class="pl-pds">&quot;</span></span>,</div>
                </div>
                <div class="d-flex flex-justify-start flex-items-start">
                  <div class="blob-num blame-blob-num color-bg-subtle js-line-number" id="L912">912</div>
                  <div class="blob-code blob-code-inner js-file-line" id="LC912">              <span class="pl-s"><span class="pl-pds">&quot;</span>            + &#39; to learn more about interactive tables.&#39;;<span class="pl-cce">\n</span><span class="pl-pds">&quot;</span></span>,</div>
                </div>
                <div class="d-flex flex-justify-start flex-items-start">
                  <div class="blob-num blame-blob-num color-bg-subtle js-line-number" id="L913">913</div>
                  <div class="blob-code blob-code-inner js-file-line" id="LC913">              <span class="pl-s"><span class="pl-pds">&quot;</span>          element.innerHTML = &#39;&#39;;<span class="pl-cce">\n</span><span class="pl-pds">&quot;</span></span>,</div>
                </div>
                <div class="d-flex flex-justify-start flex-items-start">
                  <div class="blob-num blame-blob-num color-bg-subtle js-line-number" id="L914">914</div>
                  <div class="blob-code blob-code-inner js-file-line" id="LC914">              <span class="pl-s"><span class="pl-pds">&quot;</span>          dataTable[&#39;output_type&#39;] = &#39;display_data&#39;;<span class="pl-cce">\n</span><span class="pl-pds">&quot;</span></span>,</div>
                </div>
                <div class="d-flex flex-justify-start flex-items-start">
                  <div class="blob-num blame-blob-num color-bg-subtle js-line-number" id="L915">915</div>
                  <div class="blob-code blob-code-inner js-file-line" id="LC915">              <span class="pl-s"><span class="pl-pds">&quot;</span>          await google.colab.output.renderOutput(dataTable, element);<span class="pl-cce">\n</span><span class="pl-pds">&quot;</span></span>,</div>
                </div>
                <div class="d-flex flex-justify-start flex-items-start">
                  <div class="blob-num blame-blob-num color-bg-subtle js-line-number" id="L916">916</div>
                  <div class="blob-code blob-code-inner js-file-line" id="LC916">              <span class="pl-s"><span class="pl-pds">&quot;</span>          const docLink = document.createElement(&#39;div&#39;);<span class="pl-cce">\n</span><span class="pl-pds">&quot;</span></span>,</div>
                </div>
                <div class="d-flex flex-justify-start flex-items-start">
                  <div class="blob-num blame-blob-num color-bg-subtle js-line-number" id="L917">917</div>
                  <div class="blob-code blob-code-inner js-file-line" id="LC917">              <span class="pl-s"><span class="pl-pds">&quot;</span>          docLink.innerHTML = docLinkHtml;<span class="pl-cce">\n</span><span class="pl-pds">&quot;</span></span>,</div>
                </div>
                <div class="d-flex flex-justify-start flex-items-start">
                  <div class="blob-num blame-blob-num color-bg-subtle js-line-number" id="L918">918</div>
                  <div class="blob-code blob-code-inner js-file-line" id="LC918">              <span class="pl-s"><span class="pl-pds">&quot;</span>          element.appendChild(docLink);<span class="pl-cce">\n</span><span class="pl-pds">&quot;</span></span>,</div>
                </div>
                <div class="d-flex flex-justify-start flex-items-start">
                  <div class="blob-num blame-blob-num color-bg-subtle js-line-number" id="L919">919</div>
                  <div class="blob-code blob-code-inner js-file-line" id="LC919">              <span class="pl-s"><span class="pl-pds">&quot;</span>        }<span class="pl-cce">\n</span><span class="pl-pds">&quot;</span></span>,</div>
                </div>
                <div class="d-flex flex-justify-start flex-items-start">
                  <div class="blob-num blame-blob-num color-bg-subtle js-line-number" id="L920">920</div>
                  <div class="blob-code blob-code-inner js-file-line" id="LC920">              <span class="pl-s"><span class="pl-pds">&quot;</span>      &lt;/script&gt;<span class="pl-cce">\n</span><span class="pl-pds">&quot;</span></span>,</div>
                </div>
                <div class="d-flex flex-justify-start flex-items-start">
                  <div class="blob-num blame-blob-num color-bg-subtle js-line-number" id="L921">921</div>
                  <div class="blob-code blob-code-inner js-file-line" id="LC921">              <span class="pl-s"><span class="pl-pds">&quot;</span>    &lt;/div&gt;<span class="pl-cce">\n</span><span class="pl-pds">&quot;</span></span>,</div>
                </div>
                <div class="d-flex flex-justify-start flex-items-start">
                  <div class="blob-num blame-blob-num color-bg-subtle js-line-number" id="L922">922</div>
                  <div class="blob-code blob-code-inner js-file-line" id="LC922">              <span class="pl-s"><span class="pl-pds">&quot;</span>  &lt;/div&gt;<span class="pl-cce">\n</span><span class="pl-pds">&quot;</span></span>,</div>
                </div>
                <div class="d-flex flex-justify-start flex-items-start">
                  <div class="blob-num blame-blob-num color-bg-subtle js-line-number" id="L923">923</div>
                  <div class="blob-code blob-code-inner js-file-line" id="LC923">              <span class="pl-s"><span class="pl-pds">&quot;</span>  <span class="pl-pds">&quot;</span></span></div>
                </div>
                <div class="d-flex flex-justify-start flex-items-start">
                  <div class="blob-num blame-blob-num color-bg-subtle js-line-number" id="L924">924</div>
                  <div class="blob-code blob-code-inner js-file-line" id="LC924">            ]</div>
                </div>
                <div class="d-flex flex-justify-start flex-items-start">
                  <div class="blob-num blame-blob-num color-bg-subtle js-line-number" id="L925">925</div>
                  <div class="blob-code blob-code-inner js-file-line" id="LC925">          },</div>
                </div>
                <div class="d-flex flex-justify-start flex-items-start">
                  <div class="blob-num blame-blob-num color-bg-subtle js-line-number" id="L926">926</div>
                  <div class="blob-code blob-code-inner js-file-line" id="LC926">          <span class="pl-ent">&quot;metadata&quot;</span>: {},</div>
                </div>
                <div class="d-flex flex-justify-start flex-items-start">
                  <div class="blob-num blame-blob-num color-bg-subtle js-line-number" id="L927">927</div>
                  <div class="blob-code blob-code-inner js-file-line" id="LC927">          <span class="pl-ent">&quot;execution_count&quot;</span>: <span class="pl-c1">12</span></div>
                </div>
                <div class="d-flex flex-justify-start flex-items-start">
                  <div class="blob-num blame-blob-num color-bg-subtle js-line-number" id="L928">928</div>
                  <div class="blob-code blob-code-inner js-file-line" id="LC928">        }</div>
                </div>
                <div class="d-flex flex-justify-start flex-items-start">
                  <div class="blob-num blame-blob-num color-bg-subtle js-line-number" id="L929">929</div>
                  <div class="blob-code blob-code-inner js-file-line" id="LC929">      ]</div>
                </div>
                <div class="d-flex flex-justify-start flex-items-start">
                  <div class="blob-num blame-blob-num color-bg-subtle js-line-number" id="L930">930</div>
                  <div class="blob-code blob-code-inner js-file-line" id="LC930">    },</div>
                </div>
                <div class="d-flex flex-justify-start flex-items-start">
                  <div class="blob-num blame-blob-num color-bg-subtle js-line-number" id="L931">931</div>
                  <div class="blob-code blob-code-inner js-file-line" id="LC931">    {</div>
                </div>
                <div class="d-flex flex-justify-start flex-items-start">
                  <div class="blob-num blame-blob-num color-bg-subtle js-line-number" id="L932">932</div>
                  <div class="blob-code blob-code-inner js-file-line" id="LC932">      <span class="pl-ent">&quot;cell_type&quot;</span>: <span class="pl-s"><span class="pl-pds">&quot;</span>code<span class="pl-pds">&quot;</span></span>,</div>
                </div>
                <div class="d-flex flex-justify-start flex-items-start">
                  <div class="blob-num blame-blob-num color-bg-subtle js-line-number" id="L933">933</div>
                  <div class="blob-code blob-code-inner js-file-line" id="LC933">      <span class="pl-ent">&quot;source&quot;</span>: [</div>
                </div>
                <div class="d-flex flex-justify-start flex-items-start">
                  <div class="blob-num blame-blob-num color-bg-subtle js-line-number" id="L934">934</div>
                  <div class="blob-code blob-code-inner js-file-line" id="LC934">        <span class="pl-s"><span class="pl-pds">&quot;</span>train.info()<span class="pl-pds">&quot;</span></span></div>
                </div>
                <div class="d-flex flex-justify-start flex-items-start">
                  <div class="blob-num blame-blob-num color-bg-subtle js-line-number" id="L935">935</div>
                  <div class="blob-code blob-code-inner js-file-line" id="LC935">      ],</div>
                </div>
                <div class="d-flex flex-justify-start flex-items-start">
                  <div class="blob-num blame-blob-num color-bg-subtle js-line-number" id="L936">936</div>
                  <div class="blob-code blob-code-inner js-file-line" id="LC936">      <span class="pl-ent">&quot;metadata&quot;</span>: {</div>
                </div>
                <div class="d-flex flex-justify-start flex-items-start">
                  <div class="blob-num blame-blob-num color-bg-subtle js-line-number" id="L937">937</div>
                  <div class="blob-code blob-code-inner js-file-line" id="LC937">        <span class="pl-ent">&quot;colab&quot;</span>: {</div>
                </div>
                <div class="d-flex flex-justify-start flex-items-start">
                  <div class="blob-num blame-blob-num color-bg-subtle js-line-number" id="L938">938</div>
                  <div class="blob-code blob-code-inner js-file-line" id="LC938">          <span class="pl-ent">&quot;base_uri&quot;</span>: <span class="pl-s"><span class="pl-pds">&quot;</span>https://localhost:8080/<span class="pl-pds">&quot;</span></span></div>
                </div>
                <div class="d-flex flex-justify-start flex-items-start">
                  <div class="blob-num blame-blob-num color-bg-subtle js-line-number" id="L939">939</div>
                  <div class="blob-code blob-code-inner js-file-line" id="LC939">        },</div>
                </div>
                <div class="d-flex flex-justify-start flex-items-start">
                  <div class="blob-num blame-blob-num color-bg-subtle js-line-number" id="L940">940</div>
                  <div class="blob-code blob-code-inner js-file-line" id="LC940">        <span class="pl-ent">&quot;id&quot;</span>: <span class="pl-s"><span class="pl-pds">&quot;</span>EEobjHNB-wU5<span class="pl-pds">&quot;</span></span>,</div>
                </div>
                <div class="d-flex flex-justify-start flex-items-start">
                  <div class="blob-num blame-blob-num color-bg-subtle js-line-number" id="L941">941</div>
                  <div class="blob-code blob-code-inner js-file-line" id="LC941">        <span class="pl-ent">&quot;outputId&quot;</span>: <span class="pl-s"><span class="pl-pds">&quot;</span>c9e7e5b3-7aa3-44d9-f0f3-07f4d740e32c<span class="pl-pds">&quot;</span></span></div>
                </div>
                <div class="d-flex flex-justify-start flex-items-start">
                  <div class="blob-num blame-blob-num color-bg-subtle js-line-number" id="L942">942</div>
                  <div class="blob-code blob-code-inner js-file-line" id="LC942">      },</div>
                </div>
                <div class="d-flex flex-justify-start flex-items-start">
                  <div class="blob-num blame-blob-num color-bg-subtle js-line-number" id="L943">943</div>
                  <div class="blob-code blob-code-inner js-file-line" id="LC943">      <span class="pl-ent">&quot;execution_count&quot;</span>: <span class="pl-c1">13</span>,</div>
                </div>
                <div class="d-flex flex-justify-start flex-items-start">
                  <div class="blob-num blame-blob-num color-bg-subtle js-line-number" id="L944">944</div>
                  <div class="blob-code blob-code-inner js-file-line" id="LC944">      <span class="pl-ent">&quot;outputs&quot;</span>: [</div>
                </div>
                <div class="d-flex flex-justify-start flex-items-start">
                  <div class="blob-num blame-blob-num color-bg-subtle js-line-number" id="L945">945</div>
                  <div class="blob-code blob-code-inner js-file-line" id="LC945">        {</div>
                </div>
                <div class="d-flex flex-justify-start flex-items-start">
                  <div class="blob-num blame-blob-num color-bg-subtle js-line-number" id="L946">946</div>
                  <div class="blob-code blob-code-inner js-file-line" id="LC946">          <span class="pl-ent">&quot;output_type&quot;</span>: <span class="pl-s"><span class="pl-pds">&quot;</span>stream<span class="pl-pds">&quot;</span></span>,</div>
                </div>
                <div class="d-flex flex-justify-start flex-items-start">
                  <div class="blob-num blame-blob-num color-bg-subtle js-line-number" id="L947">947</div>
                  <div class="blob-code blob-code-inner js-file-line" id="LC947">          <span class="pl-ent">&quot;name&quot;</span>: <span class="pl-s"><span class="pl-pds">&quot;</span>stdout<span class="pl-pds">&quot;</span></span>,</div>
                </div>
                <div class="d-flex flex-justify-start flex-items-start">
                  <div class="blob-num blame-blob-num color-bg-subtle js-line-number" id="L948">948</div>
                  <div class="blob-code blob-code-inner js-file-line" id="LC948">          <span class="pl-ent">&quot;text&quot;</span>: [</div>
                </div>
                <div class="d-flex flex-justify-start flex-items-start">
                  <div class="blob-num blame-blob-num color-bg-subtle js-line-number" id="L949">949</div>
                  <div class="blob-code blob-code-inner js-file-line" id="LC949">            <span class="pl-s"><span class="pl-pds">&quot;</span>&lt;class &#39;pandas.core.frame.DataFrame&#39;&gt;<span class="pl-cce">\n</span><span class="pl-pds">&quot;</span></span>,</div>
                </div>
                <div class="d-flex flex-justify-start flex-items-start">
                  <div class="blob-num blame-blob-num color-bg-subtle js-line-number" id="L950">950</div>
                  <div class="blob-code blob-code-inner js-file-line" id="LC950">            <span class="pl-s"><span class="pl-pds">&quot;</span>RangeIndex: 456548 entries, 0 to 456547<span class="pl-cce">\n</span><span class="pl-pds">&quot;</span></span>,</div>
                </div>
                <div class="d-flex flex-justify-start flex-items-start">
                  <div class="blob-num blame-blob-num color-bg-subtle js-line-number" id="L951">951</div>
                  <div class="blob-code blob-code-inner js-file-line" id="LC951">            <span class="pl-s"><span class="pl-pds">&quot;</span>Data columns (total 9 columns):<span class="pl-cce">\n</span><span class="pl-pds">&quot;</span></span>,</div>
                </div>
                <div class="d-flex flex-justify-start flex-items-start">
                  <div class="blob-num blame-blob-num color-bg-subtle js-line-number" id="L952">952</div>
                  <div class="blob-code blob-code-inner js-file-line" id="LC952">            <span class="pl-s"><span class="pl-pds">&quot;</span> #   Column                 Non-Null Count   Dtype  <span class="pl-cce">\n</span><span class="pl-pds">&quot;</span></span>,</div>
                </div>
                <div class="d-flex flex-justify-start flex-items-start">
                  <div class="blob-num blame-blob-num color-bg-subtle js-line-number" id="L953">953</div>
                  <div class="blob-code blob-code-inner js-file-line" id="LC953">            <span class="pl-s"><span class="pl-pds">&quot;</span>---  ------                 --------------   -----  <span class="pl-cce">\n</span><span class="pl-pds">&quot;</span></span>,</div>
                </div>
                <div class="d-flex flex-justify-start flex-items-start">
                  <div class="blob-num blame-blob-num color-bg-subtle js-line-number" id="L954">954</div>
                  <div class="blob-code blob-code-inner js-file-line" id="LC954">            <span class="pl-s"><span class="pl-pds">&quot;</span> 0   id                     456548 non-null  int64  <span class="pl-cce">\n</span><span class="pl-pds">&quot;</span></span>,</div>
                </div>
                <div class="d-flex flex-justify-start flex-items-start">
                  <div class="blob-num blame-blob-num color-bg-subtle js-line-number" id="L955">955</div>
                  <div class="blob-code blob-code-inner js-file-line" id="LC955">            <span class="pl-s"><span class="pl-pds">&quot;</span> 1   week                   456548 non-null  int64  <span class="pl-cce">\n</span><span class="pl-pds">&quot;</span></span>,</div>
                </div>
                <div class="d-flex flex-justify-start flex-items-start">
                  <div class="blob-num blame-blob-num color-bg-subtle js-line-number" id="L956">956</div>
                  <div class="blob-code blob-code-inner js-file-line" id="LC956">            <span class="pl-s"><span class="pl-pds">&quot;</span> 2   center_id              456548 non-null  int64  <span class="pl-cce">\n</span><span class="pl-pds">&quot;</span></span>,</div>
                </div>
                <div class="d-flex flex-justify-start flex-items-start">
                  <div class="blob-num blame-blob-num color-bg-subtle js-line-number" id="L957">957</div>
                  <div class="blob-code blob-code-inner js-file-line" id="LC957">            <span class="pl-s"><span class="pl-pds">&quot;</span> 3   meal_id                456548 non-null  int64  <span class="pl-cce">\n</span><span class="pl-pds">&quot;</span></span>,</div>
                </div>
                <div class="d-flex flex-justify-start flex-items-start">
                  <div class="blob-num blame-blob-num color-bg-subtle js-line-number" id="L958">958</div>
                  <div class="blob-code blob-code-inner js-file-line" id="LC958">            <span class="pl-s"><span class="pl-pds">&quot;</span> 4   checkout_price         456548 non-null  float64<span class="pl-cce">\n</span><span class="pl-pds">&quot;</span></span>,</div>
                </div>
                <div class="d-flex flex-justify-start flex-items-start">
                  <div class="blob-num blame-blob-num color-bg-subtle js-line-number" id="L959">959</div>
                  <div class="blob-code blob-code-inner js-file-line" id="LC959">            <span class="pl-s"><span class="pl-pds">&quot;</span> 5   base_price             456548 non-null  float64<span class="pl-cce">\n</span><span class="pl-pds">&quot;</span></span>,</div>
                </div>
                <div class="d-flex flex-justify-start flex-items-start">
                  <div class="blob-num blame-blob-num color-bg-subtle js-line-number" id="L960">960</div>
                  <div class="blob-code blob-code-inner js-file-line" id="LC960">            <span class="pl-s"><span class="pl-pds">&quot;</span> 6   emailer_for_promotion  456548 non-null  int64  <span class="pl-cce">\n</span><span class="pl-pds">&quot;</span></span>,</div>
                </div>
                <div class="d-flex flex-justify-start flex-items-start">
                  <div class="blob-num blame-blob-num color-bg-subtle js-line-number" id="L961">961</div>
                  <div class="blob-code blob-code-inner js-file-line" id="LC961">            <span class="pl-s"><span class="pl-pds">&quot;</span> 7   homepage_featured      456548 non-null  int64  <span class="pl-cce">\n</span><span class="pl-pds">&quot;</span></span>,</div>
                </div>
                <div class="d-flex flex-justify-start flex-items-start">
                  <div class="blob-num blame-blob-num color-bg-subtle js-line-number" id="L962">962</div>
                  <div class="blob-code blob-code-inner js-file-line" id="LC962">            <span class="pl-s"><span class="pl-pds">&quot;</span> 8   num_orders             456548 non-null  int64  <span class="pl-cce">\n</span><span class="pl-pds">&quot;</span></span>,</div>
                </div>
                <div class="d-flex flex-justify-start flex-items-start">
                  <div class="blob-num blame-blob-num color-bg-subtle js-line-number" id="L963">963</div>
                  <div class="blob-code blob-code-inner js-file-line" id="LC963">            <span class="pl-s"><span class="pl-pds">&quot;</span>dtypes: float64(2), int64(7)<span class="pl-cce">\n</span><span class="pl-pds">&quot;</span></span>,</div>
                </div>
                <div class="d-flex flex-justify-start flex-items-start">
                  <div class="blob-num blame-blob-num color-bg-subtle js-line-number" id="L964">964</div>
                  <div class="blob-code blob-code-inner js-file-line" id="LC964">            <span class="pl-s"><span class="pl-pds">&quot;</span>memory usage: 31.3 MB<span class="pl-cce">\n</span><span class="pl-pds">&quot;</span></span></div>
                </div>
                <div class="d-flex flex-justify-start flex-items-start">
                  <div class="blob-num blame-blob-num color-bg-subtle js-line-number" id="L965">965</div>
                  <div class="blob-code blob-code-inner js-file-line" id="LC965">          ]</div>
                </div>
                <div class="d-flex flex-justify-start flex-items-start">
                  <div class="blob-num blame-blob-num color-bg-subtle js-line-number" id="L966">966</div>
                  <div class="blob-code blob-code-inner js-file-line" id="LC966">        }</div>
                </div>
                <div class="d-flex flex-justify-start flex-items-start">
                  <div class="blob-num blame-blob-num color-bg-subtle js-line-number" id="L967">967</div>
                  <div class="blob-code blob-code-inner js-file-line" id="LC967">      ]</div>
                </div>
                <div class="d-flex flex-justify-start flex-items-start">
                  <div class="blob-num blame-blob-num color-bg-subtle js-line-number" id="L968">968</div>
                  <div class="blob-code blob-code-inner js-file-line" id="LC968">    },</div>
                </div>
                <div class="d-flex flex-justify-start flex-items-start">
                  <div class="blob-num blame-blob-num color-bg-subtle js-line-number" id="L969">969</div>
                  <div class="blob-code blob-code-inner js-file-line" id="LC969">    {</div>
                </div>
                <div class="d-flex flex-justify-start flex-items-start">
                  <div class="blob-num blame-blob-num color-bg-subtle js-line-number" id="L970">970</div>
                  <div class="blob-code blob-code-inner js-file-line" id="LC970">      <span class="pl-ent">&quot;cell_type&quot;</span>: <span class="pl-s"><span class="pl-pds">&quot;</span>markdown<span class="pl-pds">&quot;</span></span>,</div>
                </div>
                <div class="d-flex flex-justify-start flex-items-start">
                  <div class="blob-num blame-blob-num color-bg-subtle js-line-number" id="L971">971</div>
                  <div class="blob-code blob-code-inner js-file-line" id="LC971">      <span class="pl-ent">&quot;source&quot;</span>: [</div>
                </div>
                <div class="d-flex flex-justify-start flex-items-start">
                  <div class="blob-num blame-blob-num color-bg-subtle js-line-number" id="L972">972</div>
                  <div class="blob-code blob-code-inner js-file-line" id="LC972">        <span class="pl-s"><span class="pl-pds">&quot;</span># **Data** **Pre-Processing**<span class="pl-pds">&quot;</span></span></div>
                </div>
                <div class="d-flex flex-justify-start flex-items-start">
                  <div class="blob-num blame-blob-num color-bg-subtle js-line-number" id="L973">973</div>
                  <div class="blob-code blob-code-inner js-file-line" id="LC973">      ],</div>
                </div>
                <div class="d-flex flex-justify-start flex-items-start">
                  <div class="blob-num blame-blob-num color-bg-subtle js-line-number" id="L974">974</div>
                  <div class="blob-code blob-code-inner js-file-line" id="LC974">      <span class="pl-ent">&quot;metadata&quot;</span>: {</div>
                </div>
                <div class="d-flex flex-justify-start flex-items-start">
                  <div class="blob-num blame-blob-num color-bg-subtle js-line-number" id="L975">975</div>
                  <div class="blob-code blob-code-inner js-file-line" id="LC975">        <span class="pl-ent">&quot;id&quot;</span>: <span class="pl-s"><span class="pl-pds">&quot;</span>jIwHSNJhAqQw<span class="pl-pds">&quot;</span></span></div>
                </div>
                <div class="d-flex flex-justify-start flex-items-start">
                  <div class="blob-num blame-blob-num color-bg-subtle js-line-number" id="L976">976</div>
                  <div class="blob-code blob-code-inner js-file-line" id="LC976">      }</div>
                </div>
                <div class="d-flex flex-justify-start flex-items-start">
                  <div class="blob-num blame-blob-num color-bg-subtle js-line-number" id="L977">977</div>
                  <div class="blob-code blob-code-inner js-file-line" id="LC977">    },</div>
                </div>
                <div class="d-flex flex-justify-start flex-items-start">
                  <div class="blob-num blame-blob-num color-bg-subtle js-line-number" id="L978">978</div>
                  <div class="blob-code blob-code-inner js-file-line" id="LC978">    {</div>
                </div>
                <div class="d-flex flex-justify-start flex-items-start">
                  <div class="blob-num blame-blob-num color-bg-subtle js-line-number" id="L979">979</div>
                  <div class="blob-code blob-code-inner js-file-line" id="LC979">      <span class="pl-ent">&quot;cell_type&quot;</span>: <span class="pl-s"><span class="pl-pds">&quot;</span>code<span class="pl-pds">&quot;</span></span>,</div>
                </div>
                <div class="d-flex flex-justify-start flex-items-start">
                  <div class="blob-num blame-blob-num color-bg-subtle js-line-number" id="L980">980</div>
                  <div class="blob-code blob-code-inner js-file-line" id="LC980">      <span class="pl-ent">&quot;source&quot;</span>: [</div>
                </div>
                <div class="d-flex flex-justify-start flex-items-start">
                  <div class="blob-num blame-blob-num color-bg-subtle js-line-number" id="L981">981</div>
                  <div class="blob-code blob-code-inner js-file-line" id="LC981">        <span class="pl-s"><span class="pl-pds">&quot;</span>print(<span class="pl-cce">\&quot;</span>The Shape of Demand dataset :<span class="pl-cce">\&quot;</span>,train.shape)<span class="pl-cce">\n</span><span class="pl-pds">&quot;</span></span>,</div>
                </div>
                <div class="d-flex flex-justify-start flex-items-start">
                  <div class="blob-num blame-blob-num color-bg-subtle js-line-number" id="L982">982</div>
                  <div class="blob-code blob-code-inner js-file-line" id="LC982">        <span class="pl-s"><span class="pl-pds">&quot;</span>print(<span class="pl-cce">\&quot;</span>The Shape of Fulmilment Center Information dataset :<span class="pl-cce">\&quot;</span>,centerinfo.shape)<span class="pl-cce">\n</span><span class="pl-pds">&quot;</span></span>,</div>
                </div>
                <div class="d-flex flex-justify-start flex-items-start">
                  <div class="blob-num blame-blob-num color-bg-subtle js-line-number" id="L983">983</div>
                  <div class="blob-code blob-code-inner js-file-line" id="LC983">        <span class="pl-s"><span class="pl-pds">&quot;</span>print(<span class="pl-cce">\&quot;</span>The Shape of Meal information dataset :<span class="pl-cce">\&quot;</span>,meal.shape)<span class="pl-cce">\n</span><span class="pl-pds">&quot;</span></span>,</div>
                </div>
                <div class="d-flex flex-justify-start flex-items-start">
                  <div class="blob-num blame-blob-num color-bg-subtle js-line-number" id="L984">984</div>
                  <div class="blob-code blob-code-inner js-file-line" id="LC984">        <span class="pl-s"><span class="pl-pds">&quot;</span>print(<span class="pl-cce">\&quot;</span>The Shape of Test dataset :<span class="pl-cce">\&quot;</span>,test.shape)<span class="pl-pds">&quot;</span></span></div>
                </div>
                <div class="d-flex flex-justify-start flex-items-start">
                  <div class="blob-num blame-blob-num color-bg-subtle js-line-number" id="L985">985</div>
                  <div class="blob-code blob-code-inner js-file-line" id="LC985">      ],</div>
                </div>
                <div class="d-flex flex-justify-start flex-items-start">
                  <div class="blob-num blame-blob-num color-bg-subtle js-line-number" id="L986">986</div>
                  <div class="blob-code blob-code-inner js-file-line" id="LC986">      <span class="pl-ent">&quot;metadata&quot;</span>: {</div>
                </div>
                <div class="d-flex flex-justify-start flex-items-start">
                  <div class="blob-num blame-blob-num color-bg-subtle js-line-number" id="L987">987</div>
                  <div class="blob-code blob-code-inner js-file-line" id="LC987">        <span class="pl-ent">&quot;colab&quot;</span>: {</div>
                </div>
                <div class="d-flex flex-justify-start flex-items-start">
                  <div class="blob-num blame-blob-num color-bg-subtle js-line-number" id="L988">988</div>
                  <div class="blob-code blob-code-inner js-file-line" id="LC988">          <span class="pl-ent">&quot;base_uri&quot;</span>: <span class="pl-s"><span class="pl-pds">&quot;</span>https://localhost:8080/<span class="pl-pds">&quot;</span></span></div>
                </div>
                <div class="d-flex flex-justify-start flex-items-start">
                  <div class="blob-num blame-blob-num color-bg-subtle js-line-number" id="L989">989</div>
                  <div class="blob-code blob-code-inner js-file-line" id="LC989">        },</div>
                </div>
                <div class="d-flex flex-justify-start flex-items-start">
                  <div class="blob-num blame-blob-num color-bg-subtle js-line-number" id="L990">990</div>
                  <div class="blob-code blob-code-inner js-file-line" id="LC990">        <span class="pl-ent">&quot;id&quot;</span>: <span class="pl-s"><span class="pl-pds">&quot;</span>IVDTpRWjBBlz<span class="pl-pds">&quot;</span></span>,</div>
                </div>
                <div class="d-flex flex-justify-start flex-items-start">
                  <div class="blob-num blame-blob-num color-bg-subtle js-line-number" id="L991">991</div>
                  <div class="blob-code blob-code-inner js-file-line" id="LC991">        <span class="pl-ent">&quot;outputId&quot;</span>: <span class="pl-s"><span class="pl-pds">&quot;</span>a73fee47-6fca-442f-e68c-2a3b077be9db<span class="pl-pds">&quot;</span></span></div>
                </div>
                <div class="d-flex flex-justify-start flex-items-start">
                  <div class="blob-num blame-blob-num color-bg-subtle js-line-number" id="L992">992</div>
                  <div class="blob-code blob-code-inner js-file-line" id="LC992">      },</div>
                </div>
                <div class="d-flex flex-justify-start flex-items-start">
                  <div class="blob-num blame-blob-num color-bg-subtle js-line-number" id="L993">993</div>
                  <div class="blob-code blob-code-inner js-file-line" id="LC993">      <span class="pl-ent">&quot;execution_count&quot;</span>: <span class="pl-c1">14</span>,</div>
                </div>
                <div class="d-flex flex-justify-start flex-items-start">
                  <div class="blob-num blame-blob-num color-bg-subtle js-line-number" id="L994">994</div>
                  <div class="blob-code blob-code-inner js-file-line" id="LC994">      <span class="pl-ent">&quot;outputs&quot;</span>: [</div>
                </div>
                <div class="d-flex flex-justify-start flex-items-start">
                  <div class="blob-num blame-blob-num color-bg-subtle js-line-number" id="L995">995</div>
                  <div class="blob-code blob-code-inner js-file-line" id="LC995">        {</div>
                </div>
                <div class="d-flex flex-justify-start flex-items-start">
                  <div class="blob-num blame-blob-num color-bg-subtle js-line-number" id="L996">996</div>
                  <div class="blob-code blob-code-inner js-file-line" id="LC996">          <span class="pl-ent">&quot;output_type&quot;</span>: <span class="pl-s"><span class="pl-pds">&quot;</span>stream<span class="pl-pds">&quot;</span></span>,</div>
                </div>
                <div class="d-flex flex-justify-start flex-items-start">
                  <div class="blob-num blame-blob-num color-bg-subtle js-line-number" id="L997">997</div>
                  <div class="blob-code blob-code-inner js-file-line" id="LC997">          <span class="pl-ent">&quot;name&quot;</span>: <span class="pl-s"><span class="pl-pds">&quot;</span>stdout<span class="pl-pds">&quot;</span></span>,</div>
                </div>
                <div class="d-flex flex-justify-start flex-items-start">
                  <div class="blob-num blame-blob-num color-bg-subtle js-line-number" id="L998">998</div>
                  <div class="blob-code blob-code-inner js-file-line" id="LC998">          <span class="pl-ent">&quot;text&quot;</span>: [</div>
                </div>
                <div class="d-flex flex-justify-start flex-items-start">
                  <div class="blob-num blame-blob-num color-bg-subtle js-line-number" id="L999">999</div>
                  <div class="blob-code blob-code-inner js-file-line" id="LC999">            <span class="pl-s"><span class="pl-pds">&quot;</span>The Shape of Demand dataset : (456548, 9)<span class="pl-cce">\n</span><span class="pl-pds">&quot;</span></span>,</div>
                </div>
                <div class="d-flex flex-justify-start flex-items-start">
                  <div class="blob-num blame-blob-num color-bg-subtle js-line-number" id="L1000">1000</div>
                  <div class="blob-code blob-code-inner js-file-line" id="LC1000">            <span class="pl-s"><span class="pl-pds">&quot;</span>The Shape of Fulmilment Center Information dataset : (77, 5)<span class="pl-cce">\n</span><span class="pl-pds">&quot;</span></span>,</div>
                </div>
                <div class="d-flex flex-justify-start flex-items-start">
                  <div class="blob-num blame-blob-num color-bg-subtle js-line-number" id="L1001">1001</div>
                  <div class="blob-code blob-code-inner js-file-line" id="LC1001">            <span class="pl-s"><span class="pl-pds">&quot;</span>The Shape of Meal information dataset : (51, 3)<span class="pl-cce">\n</span><span class="pl-pds">&quot;</span></span>,</div>
                </div>
                <div class="d-flex flex-justify-start flex-items-start">
                  <div class="blob-num blame-blob-num color-bg-subtle js-line-number" id="L1002">1002</div>
                  <div class="blob-code blob-code-inner js-file-line" id="LC1002">            <span class="pl-s"><span class="pl-pds">&quot;</span>The Shape of Test dataset : (32573, 8)<span class="pl-cce">\n</span><span class="pl-pds">&quot;</span></span></div>
                </div>
                <div class="d-flex flex-justify-start flex-items-start">
                  <div class="blob-num blame-blob-num color-bg-subtle js-line-number" id="L1003">1003</div>
                  <div class="blob-code blob-code-inner js-file-line" id="LC1003">          ]</div>
                </div>
                <div class="d-flex flex-justify-start flex-items-start">
                  <div class="blob-num blame-blob-num color-bg-subtle js-line-number" id="L1004">1004</div>
                  <div class="blob-code blob-code-inner js-file-line" id="LC1004">        }</div>
                </div>
                <div class="d-flex flex-justify-start flex-items-start">
                  <div class="blob-num blame-blob-num color-bg-subtle js-line-number" id="L1005">1005</div>
                  <div class="blob-code blob-code-inner js-file-line" id="LC1005">      ]</div>
                </div>
                <div class="d-flex flex-justify-start flex-items-start">
                  <div class="blob-num blame-blob-num color-bg-subtle js-line-number" id="L1006">1006</div>
                  <div class="blob-code blob-code-inner js-file-line" id="LC1006">    },</div>
                </div>
                <div class="d-flex flex-justify-start flex-items-start">
                  <div class="blob-num blame-blob-num color-bg-subtle js-line-number" id="L1007">1007</div>
                  <div class="blob-code blob-code-inner js-file-line" id="LC1007">    {</div>
                </div>
                <div class="d-flex flex-justify-start flex-items-start">
                  <div class="blob-num blame-blob-num color-bg-subtle js-line-number" id="L1008">1008</div>
                  <div class="blob-code blob-code-inner js-file-line" id="LC1008">      <span class="pl-ent">&quot;cell_type&quot;</span>: <span class="pl-s"><span class="pl-pds">&quot;</span>code<span class="pl-pds">&quot;</span></span>,</div>
                </div>
                <div class="d-flex flex-justify-start flex-items-start">
                  <div class="blob-num blame-blob-num color-bg-subtle js-line-number" id="L1009">1009</div>
                  <div class="blob-code blob-code-inner js-file-line" id="LC1009">      <span class="pl-ent">&quot;source&quot;</span>: [</div>
                </div>
                <div class="d-flex flex-justify-start flex-items-start">
                  <div class="blob-num blame-blob-num color-bg-subtle js-line-number" id="L1010">1010</div>
                  <div class="blob-code blob-code-inner js-file-line" id="LC1010">        <span class="pl-s"><span class="pl-pds">&quot;</span>data = pd.concat([train,test],axis=0)<span class="pl-pds">&quot;</span></span></div>
                </div>
                <div class="d-flex flex-justify-start flex-items-start">
                  <div class="blob-num blame-blob-num color-bg-subtle js-line-number" id="L1011">1011</div>
                  <div class="blob-code blob-code-inner js-file-line" id="LC1011">      ],</div>
                </div>
                <div class="d-flex flex-justify-start flex-items-start">
                  <div class="blob-num blame-blob-num color-bg-subtle js-line-number" id="L1012">1012</div>
                  <div class="blob-code blob-code-inner js-file-line" id="LC1012">      <span class="pl-ent">&quot;metadata&quot;</span>: {</div>
                </div>
                <div class="d-flex flex-justify-start flex-items-start">
                  <div class="blob-num blame-blob-num color-bg-subtle js-line-number" id="L1013">1013</div>
                  <div class="blob-code blob-code-inner js-file-line" id="LC1013">        <span class="pl-ent">&quot;id&quot;</span>: <span class="pl-s"><span class="pl-pds">&quot;</span>-oQye7phBQ2h<span class="pl-pds">&quot;</span></span></div>
                </div>
                <div class="d-flex flex-justify-start flex-items-start">
                  <div class="blob-num blame-blob-num color-bg-subtle js-line-number" id="L1014">1014</div>
                  <div class="blob-code blob-code-inner js-file-line" id="LC1014">      },</div>
                </div>
                <div class="d-flex flex-justify-start flex-items-start">
                  <div class="blob-num blame-blob-num color-bg-subtle js-line-number" id="L1015">1015</div>
                  <div class="blob-code blob-code-inner js-file-line" id="LC1015">      <span class="pl-ent">&quot;execution_count&quot;</span>: <span class="pl-c1">15</span>,</div>
                </div>
                <div class="d-flex flex-justify-start flex-items-start">
                  <div class="blob-num blame-blob-num color-bg-subtle js-line-number" id="L1016">1016</div>
                  <div class="blob-code blob-code-inner js-file-line" id="LC1016">      <span class="pl-ent">&quot;outputs&quot;</span>: []</div>
                </div>
                <div class="d-flex flex-justify-start flex-items-start">
                  <div class="blob-num blame-blob-num color-bg-subtle js-line-number" id="L1017">1017</div>
                  <div class="blob-code blob-code-inner js-file-line" id="LC1017">    },</div>
                </div>
                <div class="d-flex flex-justify-start flex-items-start">
                  <div class="blob-num blame-blob-num color-bg-subtle js-line-number" id="L1018">1018</div>
                  <div class="blob-code blob-code-inner js-file-line" id="LC1018">    {</div>
                </div>
                <div class="d-flex flex-justify-start flex-items-start">
                  <div class="blob-num blame-blob-num color-bg-subtle js-line-number" id="L1019">1019</div>
                  <div class="blob-code blob-code-inner js-file-line" id="LC1019">      <span class="pl-ent">&quot;cell_type&quot;</span>: <span class="pl-s"><span class="pl-pds">&quot;</span>code<span class="pl-pds">&quot;</span></span>,</div>
                </div>
                <div class="d-flex flex-justify-start flex-items-start">
                  <div class="blob-num blame-blob-num color-bg-subtle js-line-number" id="L1020">1020</div>
                  <div class="blob-code blob-code-inner js-file-line" id="LC1020">      <span class="pl-ent">&quot;source&quot;</span>: [</div>
                </div>
                <div class="d-flex flex-justify-start flex-items-start">
                  <div class="blob-num blame-blob-num color-bg-subtle js-line-number" id="L1021">1021</div>
                  <div class="blob-code blob-code-inner js-file-line" id="LC1021">        <span class="pl-s"><span class="pl-pds">&quot;</span>data=data.merge(centerinfo,on=&#39;center_id&#39;,how=&#39;left&#39;)<span class="pl-pds">&quot;</span></span></div>
                </div>
                <div class="d-flex flex-justify-start flex-items-start">
                  <div class="blob-num blame-blob-num color-bg-subtle js-line-number" id="L1022">1022</div>
                  <div class="blob-code blob-code-inner js-file-line" id="LC1022">      ],</div>
                </div>
                <div class="d-flex flex-justify-start flex-items-start">
                  <div class="blob-num blame-blob-num color-bg-subtle js-line-number" id="L1023">1023</div>
                  <div class="blob-code blob-code-inner js-file-line" id="LC1023">      <span class="pl-ent">&quot;metadata&quot;</span>: {</div>
                </div>
                <div class="d-flex flex-justify-start flex-items-start">
                  <div class="blob-num blame-blob-num color-bg-subtle js-line-number" id="L1024">1024</div>
                  <div class="blob-code blob-code-inner js-file-line" id="LC1024">        <span class="pl-ent">&quot;id&quot;</span>: <span class="pl-s"><span class="pl-pds">&quot;</span>r-xYbq1aBUB3<span class="pl-pds">&quot;</span></span></div>
                </div>
                <div class="d-flex flex-justify-start flex-items-start">
                  <div class="blob-num blame-blob-num color-bg-subtle js-line-number" id="L1025">1025</div>
                  <div class="blob-code blob-code-inner js-file-line" id="LC1025">      },</div>
                </div>
                <div class="d-flex flex-justify-start flex-items-start">
                  <div class="blob-num blame-blob-num color-bg-subtle js-line-number" id="L1026">1026</div>
                  <div class="blob-code blob-code-inner js-file-line" id="LC1026">      <span class="pl-ent">&quot;execution_count&quot;</span>: <span class="pl-c1">16</span>,</div>
                </div>
                <div class="d-flex flex-justify-start flex-items-start">
                  <div class="blob-num blame-blob-num color-bg-subtle js-line-number" id="L1027">1027</div>
                  <div class="blob-code blob-code-inner js-file-line" id="LC1027">      <span class="pl-ent">&quot;outputs&quot;</span>: []</div>
                </div>
                <div class="d-flex flex-justify-start flex-items-start">
                  <div class="blob-num blame-blob-num color-bg-subtle js-line-number" id="L1028">1028</div>
                  <div class="blob-code blob-code-inner js-file-line" id="LC1028">    },</div>
                </div>
                <div class="d-flex flex-justify-start flex-items-start">
                  <div class="blob-num blame-blob-num color-bg-subtle js-line-number" id="L1029">1029</div>
                  <div class="blob-code blob-code-inner js-file-line" id="LC1029">    {</div>
                </div>
                <div class="d-flex flex-justify-start flex-items-start">
                  <div class="blob-num blame-blob-num color-bg-subtle js-line-number" id="L1030">1030</div>
                  <div class="blob-code blob-code-inner js-file-line" id="LC1030">      <span class="pl-ent">&quot;cell_type&quot;</span>: <span class="pl-s"><span class="pl-pds">&quot;</span>code<span class="pl-pds">&quot;</span></span>,</div>
                </div>
                <div class="d-flex flex-justify-start flex-items-start">
                  <div class="blob-num blame-blob-num color-bg-subtle js-line-number" id="L1031">1031</div>
                  <div class="blob-code blob-code-inner js-file-line" id="LC1031">      <span class="pl-ent">&quot;source&quot;</span>: [</div>
                </div>
                <div class="d-flex flex-justify-start flex-items-start">
                  <div class="blob-num blame-blob-num color-bg-subtle js-line-number" id="L1032">1032</div>
                  <div class="blob-code blob-code-inner js-file-line" id="LC1032">        <span class="pl-s"><span class="pl-pds">&quot;</span>data=data.merge(meal,on=&#39;meal_id&#39;,how=&#39;left&#39;)<span class="pl-pds">&quot;</span></span></div>
                </div>
                <div class="d-flex flex-justify-start flex-items-start">
                  <div class="blob-num blame-blob-num color-bg-subtle js-line-number" id="L1033">1033</div>
                  <div class="blob-code blob-code-inner js-file-line" id="LC1033">      ],</div>
                </div>
                <div class="d-flex flex-justify-start flex-items-start">
                  <div class="blob-num blame-blob-num color-bg-subtle js-line-number" id="L1034">1034</div>
                  <div class="blob-code blob-code-inner js-file-line" id="LC1034">      <span class="pl-ent">&quot;metadata&quot;</span>: {</div>
                </div>
                <div class="d-flex flex-justify-start flex-items-start">
                  <div class="blob-num blame-blob-num color-bg-subtle js-line-number" id="L1035">1035</div>
                  <div class="blob-code blob-code-inner js-file-line" id="LC1035">        <span class="pl-ent">&quot;id&quot;</span>: <span class="pl-s"><span class="pl-pds">&quot;</span>rmqnIezHBY-N<span class="pl-pds">&quot;</span></span></div>
                </div>
                <div class="d-flex flex-justify-start flex-items-start">
                  <div class="blob-num blame-blob-num color-bg-subtle js-line-number" id="L1036">1036</div>
                  <div class="blob-code blob-code-inner js-file-line" id="LC1036">      },</div>
                </div>
                <div class="d-flex flex-justify-start flex-items-start">
                  <div class="blob-num blame-blob-num color-bg-subtle js-line-number" id="L1037">1037</div>
                  <div class="blob-code blob-code-inner js-file-line" id="LC1037">      <span class="pl-ent">&quot;execution_count&quot;</span>: <span class="pl-c1">17</span>,</div>
                </div>
                <div class="d-flex flex-justify-start flex-items-start">
                  <div class="blob-num blame-blob-num color-bg-subtle js-line-number" id="L1038">1038</div>
                  <div class="blob-code blob-code-inner js-file-line" id="LC1038">      <span class="pl-ent">&quot;outputs&quot;</span>: []</div>
                </div>
                <div class="d-flex flex-justify-start flex-items-start">
                  <div class="blob-num blame-blob-num color-bg-subtle js-line-number" id="L1039">1039</div>
                  <div class="blob-code blob-code-inner js-file-line" id="LC1039">    },</div>
                </div>
                <div class="d-flex flex-justify-start flex-items-start">
                  <div class="blob-num blame-blob-num color-bg-subtle js-line-number" id="L1040">1040</div>
                  <div class="blob-code blob-code-inner js-file-line" id="LC1040">    {</div>
                </div>
                <div class="d-flex flex-justify-start flex-items-start">
                  <div class="blob-num blame-blob-num color-bg-subtle js-line-number" id="L1041">1041</div>
                  <div class="blob-code blob-code-inner js-file-line" id="LC1041">      <span class="pl-ent">&quot;cell_type&quot;</span>: <span class="pl-s"><span class="pl-pds">&quot;</span>code<span class="pl-pds">&quot;</span></span>,</div>
                </div>
                <div class="d-flex flex-justify-start flex-items-start">
                  <div class="blob-num blame-blob-num color-bg-subtle js-line-number" id="L1042">1042</div>
                  <div class="blob-code blob-code-inner js-file-line" id="LC1042">      <span class="pl-ent">&quot;source&quot;</span>: [</div>
                </div>
                <div class="d-flex flex-justify-start flex-items-start">
                  <div class="blob-num blame-blob-num color-bg-subtle js-line-number" id="L1043">1043</div>
                  <div class="blob-code blob-code-inner js-file-line" id="LC1043">        <span class="pl-s"><span class="pl-pds">&quot;</span>data.head()<span class="pl-pds">&quot;</span></span></div>
                </div>
                <div class="d-flex flex-justify-start flex-items-start">
                  <div class="blob-num blame-blob-num color-bg-subtle js-line-number" id="L1044">1044</div>
                  <div class="blob-code blob-code-inner js-file-line" id="LC1044">      ],</div>
                </div>
                <div class="d-flex flex-justify-start flex-items-start">
                  <div class="blob-num blame-blob-num color-bg-subtle js-line-number" id="L1045">1045</div>
                  <div class="blob-code blob-code-inner js-file-line" id="LC1045">      <span class="pl-ent">&quot;metadata&quot;</span>: {</div>
                </div>
                <div class="d-flex flex-justify-start flex-items-start">
                  <div class="blob-num blame-blob-num color-bg-subtle js-line-number" id="L1046">1046</div>
                  <div class="blob-code blob-code-inner js-file-line" id="LC1046">        <span class="pl-ent">&quot;colab&quot;</span>: {</div>
                </div>
                <div class="d-flex flex-justify-start flex-items-start">
                  <div class="blob-num blame-blob-num color-bg-subtle js-line-number" id="L1047">1047</div>
                  <div class="blob-code blob-code-inner js-file-line" id="LC1047">          <span class="pl-ent">&quot;base_uri&quot;</span>: <span class="pl-s"><span class="pl-pds">&quot;</span>https://localhost:8080/<span class="pl-pds">&quot;</span></span>,</div>
                </div>
                <div class="d-flex flex-justify-start flex-items-start">
                  <div class="blob-num blame-blob-num color-bg-subtle js-line-number" id="L1048">1048</div>
                  <div class="blob-code blob-code-inner js-file-line" id="LC1048">          <span class="pl-ent">&quot;height&quot;</span>: <span class="pl-c1">250</span></div>
                </div>
                <div class="d-flex flex-justify-start flex-items-start">
                  <div class="blob-num blame-blob-num color-bg-subtle js-line-number" id="L1049">1049</div>
                  <div class="blob-code blob-code-inner js-file-line" id="LC1049">        },</div>
                </div>
                <div class="d-flex flex-justify-start flex-items-start">
                  <div class="blob-num blame-blob-num color-bg-subtle js-line-number" id="L1050">1050</div>
                  <div class="blob-code blob-code-inner js-file-line" id="LC1050">        <span class="pl-ent">&quot;id&quot;</span>: <span class="pl-s"><span class="pl-pds">&quot;</span>Mp_vXH2dBdBR<span class="pl-pds">&quot;</span></span>,</div>
                </div>
                <div class="d-flex flex-justify-start flex-items-start">
                  <div class="blob-num blame-blob-num color-bg-subtle js-line-number" id="L1051">1051</div>
                  <div class="blob-code blob-code-inner js-file-line" id="LC1051">        <span class="pl-ent">&quot;outputId&quot;</span>: <span class="pl-s"><span class="pl-pds">&quot;</span>1f40cdc1-590d-4939-e562-03e20d3c315d<span class="pl-pds">&quot;</span></span></div>
                </div>
                <div class="d-flex flex-justify-start flex-items-start">
                  <div class="blob-num blame-blob-num color-bg-subtle js-line-number" id="L1052">1052</div>
                  <div class="blob-code blob-code-inner js-file-line" id="LC1052">      },</div>
                </div>
                <div class="d-flex flex-justify-start flex-items-start">
                  <div class="blob-num blame-blob-num color-bg-subtle js-line-number" id="L1053">1053</div>
                  <div class="blob-code blob-code-inner js-file-line" id="LC1053">      <span class="pl-ent">&quot;execution_count&quot;</span>: <span class="pl-c1">18</span>,</div>
                </div>
                <div class="d-flex flex-justify-start flex-items-start">
                  <div class="blob-num blame-blob-num color-bg-subtle js-line-number" id="L1054">1054</div>
                  <div class="blob-code blob-code-inner js-file-line" id="LC1054">      <span class="pl-ent">&quot;outputs&quot;</span>: [</div>
                </div>
                <div class="d-flex flex-justify-start flex-items-start">
                  <div class="blob-num blame-blob-num color-bg-subtle js-line-number" id="L1055">1055</div>
                  <div class="blob-code blob-code-inner js-file-line" id="LC1055">        {</div>
                </div>
                <div class="d-flex flex-justify-start flex-items-start">
                  <div class="blob-num blame-blob-num color-bg-subtle js-line-number" id="L1056">1056</div>
                  <div class="blob-code blob-code-inner js-file-line" id="LC1056">          <span class="pl-ent">&quot;output_type&quot;</span>: <span class="pl-s"><span class="pl-pds">&quot;</span>execute_result<span class="pl-pds">&quot;</span></span>,</div>
                </div>
                <div class="d-flex flex-justify-start flex-items-start">
                  <div class="blob-num blame-blob-num color-bg-subtle js-line-number" id="L1057">1057</div>
                  <div class="blob-code blob-code-inner js-file-line" id="LC1057">          <span class="pl-ent">&quot;data&quot;</span>: {</div>
                </div>
                <div class="d-flex flex-justify-start flex-items-start">
                  <div class="blob-num blame-blob-num color-bg-subtle js-line-number" id="L1058">1058</div>
                  <div class="blob-code blob-code-inner js-file-line" id="LC1058">            <span class="pl-ent">&quot;text/plain&quot;</span>: [</div>
                </div>
                <div class="d-flex flex-justify-start flex-items-start">
                  <div class="blob-num blame-blob-num color-bg-subtle js-line-number" id="L1059">1059</div>
                  <div class="blob-code blob-code-inner js-file-line" id="LC1059">              <span class="pl-s"><span class="pl-pds">&quot;</span>        id  week  center_id  meal_id  checkout_price  base_price  <span class="pl-cce">\\\n</span><span class="pl-pds">&quot;</span></span>,</div>
                </div>
                <div class="d-flex flex-justify-start flex-items-start">
                  <div class="blob-num blame-blob-num color-bg-subtle js-line-number" id="L1060">1060</div>
                  <div class="blob-code blob-code-inner js-file-line" id="LC1060">              <span class="pl-s"><span class="pl-pds">&quot;</span>0  1379560     1         55     1885          136.83      152.29   <span class="pl-cce">\n</span><span class="pl-pds">&quot;</span></span>,</div>
                </div>
                <div class="d-flex flex-justify-start flex-items-start">
                  <div class="blob-num blame-blob-num color-bg-subtle js-line-number" id="L1061">1061</div>
                  <div class="blob-code blob-code-inner js-file-line" id="LC1061">              <span class="pl-s"><span class="pl-pds">&quot;</span>1  1466964     1         55     1993          136.83      135.83   <span class="pl-cce">\n</span><span class="pl-pds">&quot;</span></span>,</div>
                </div>
                <div class="d-flex flex-justify-start flex-items-start">
                  <div class="blob-num blame-blob-num color-bg-subtle js-line-number" id="L1062">1062</div>
                  <div class="blob-code blob-code-inner js-file-line" id="LC1062">              <span class="pl-s"><span class="pl-pds">&quot;</span>2  1346989     1         55     2539          134.86      135.86   <span class="pl-cce">\n</span><span class="pl-pds">&quot;</span></span>,</div>
                </div>
                <div class="d-flex flex-justify-start flex-items-start">
                  <div class="blob-num blame-blob-num color-bg-subtle js-line-number" id="L1063">1063</div>
                  <div class="blob-code blob-code-inner js-file-line" id="LC1063">              <span class="pl-s"><span class="pl-pds">&quot;</span>3  1338232     1         55     2139          339.50      437.53   <span class="pl-cce">\n</span><span class="pl-pds">&quot;</span></span>,</div>
                </div>
                <div class="d-flex flex-justify-start flex-items-start">
                  <div class="blob-num blame-blob-num color-bg-subtle js-line-number" id="L1064">1064</div>
                  <div class="blob-code blob-code-inner js-file-line" id="LC1064">              <span class="pl-s"><span class="pl-pds">&quot;</span>4  1448490     1         55     2631          243.50      242.50   <span class="pl-cce">\n</span><span class="pl-pds">&quot;</span></span>,</div>
                </div>
                <div class="d-flex flex-justify-start flex-items-start">
                  <div class="blob-num blame-blob-num color-bg-subtle js-line-number" id="L1065">1065</div>
                  <div class="blob-code blob-code-inner js-file-line" id="LC1065">              <span class="pl-s"><span class="pl-pds">&quot;</span><span class="pl-cce">\n</span><span class="pl-pds">&quot;</span></span>,</div>
                </div>
                <div class="d-flex flex-justify-start flex-items-start">
                  <div class="blob-num blame-blob-num color-bg-subtle js-line-number" id="L1066">1066</div>
                  <div class="blob-code blob-code-inner js-file-line" id="LC1066">              <span class="pl-s"><span class="pl-pds">&quot;</span>   emailer_for_promotion  homepage_featured  num_orders  city_code  <span class="pl-cce">\\\n</span><span class="pl-pds">&quot;</span></span>,</div>
                </div>
                <div class="d-flex flex-justify-start flex-items-start">
                  <div class="blob-num blame-blob-num color-bg-subtle js-line-number" id="L1067">1067</div>
                  <div class="blob-code blob-code-inner js-file-line" id="LC1067">              <span class="pl-s"><span class="pl-pds">&quot;</span>0                      0                  0       177.0        647   <span class="pl-cce">\n</span><span class="pl-pds">&quot;</span></span>,</div>
                </div>
                <div class="d-flex flex-justify-start flex-items-start">
                  <div class="blob-num blame-blob-num color-bg-subtle js-line-number" id="L1068">1068</div>
                  <div class="blob-code blob-code-inner js-file-line" id="LC1068">              <span class="pl-s"><span class="pl-pds">&quot;</span>1                      0                  0       270.0        647   <span class="pl-cce">\n</span><span class="pl-pds">&quot;</span></span>,</div>
                </div>
                <div class="d-flex flex-justify-start flex-items-start">
                  <div class="blob-num blame-blob-num color-bg-subtle js-line-number" id="L1069">1069</div>
                  <div class="blob-code blob-code-inner js-file-line" id="LC1069">              <span class="pl-s"><span class="pl-pds">&quot;</span>2                      0                  0       189.0        647   <span class="pl-cce">\n</span><span class="pl-pds">&quot;</span></span>,</div>
                </div>
                <div class="d-flex flex-justify-start flex-items-start">
                  <div class="blob-num blame-blob-num color-bg-subtle js-line-number" id="L1070">1070</div>
                  <div class="blob-code blob-code-inner js-file-line" id="LC1070">              <span class="pl-s"><span class="pl-pds">&quot;</span>3                      0                  0        54.0        647   <span class="pl-cce">\n</span><span class="pl-pds">&quot;</span></span>,</div>
                </div>
                <div class="d-flex flex-justify-start flex-items-start">
                  <div class="blob-num blame-blob-num color-bg-subtle js-line-number" id="L1071">1071</div>
                  <div class="blob-code blob-code-inner js-file-line" id="LC1071">              <span class="pl-s"><span class="pl-pds">&quot;</span>4                      0                  0        40.0        647   <span class="pl-cce">\n</span><span class="pl-pds">&quot;</span></span>,</div>
                </div>
                <div class="d-flex flex-justify-start flex-items-start">
                  <div class="blob-num blame-blob-num color-bg-subtle js-line-number" id="L1072">1072</div>
                  <div class="blob-code blob-code-inner js-file-line" id="LC1072">              <span class="pl-s"><span class="pl-pds">&quot;</span><span class="pl-cce">\n</span><span class="pl-pds">&quot;</span></span>,</div>
                </div>
                <div class="d-flex flex-justify-start flex-items-start">
                  <div class="blob-num blame-blob-num color-bg-subtle js-line-number" id="L1073">1073</div>
                  <div class="blob-code blob-code-inner js-file-line" id="LC1073">              <span class="pl-s"><span class="pl-pds">&quot;</span>   region_code center_type  op_area   category cuisine  <span class="pl-cce">\n</span><span class="pl-pds">&quot;</span></span>,</div>
                </div>
                <div class="d-flex flex-justify-start flex-items-start">
                  <div class="blob-num blame-blob-num color-bg-subtle js-line-number" id="L1074">1074</div>
                  <div class="blob-code blob-code-inner js-file-line" id="LC1074">              <span class="pl-s"><span class="pl-pds">&quot;</span>0           56      TYPE_C      2.0  Beverages    Thai  <span class="pl-cce">\n</span><span class="pl-pds">&quot;</span></span>,</div>
                </div>
                <div class="d-flex flex-justify-start flex-items-start">
                  <div class="blob-num blame-blob-num color-bg-subtle js-line-number" id="L1075">1075</div>
                  <div class="blob-code blob-code-inner js-file-line" id="LC1075">              <span class="pl-s"><span class="pl-pds">&quot;</span>1           56      TYPE_C      2.0  Beverages    Thai  <span class="pl-cce">\n</span><span class="pl-pds">&quot;</span></span>,</div>
                </div>
                <div class="d-flex flex-justify-start flex-items-start">
                  <div class="blob-num blame-blob-num color-bg-subtle js-line-number" id="L1076">1076</div>
                  <div class="blob-code blob-code-inner js-file-line" id="LC1076">              <span class="pl-s"><span class="pl-pds">&quot;</span>2           56      TYPE_C      2.0  Beverages    Thai  <span class="pl-cce">\n</span><span class="pl-pds">&quot;</span></span>,</div>
                </div>
                <div class="d-flex flex-justify-start flex-items-start">
                  <div class="blob-num blame-blob-num color-bg-subtle js-line-number" id="L1077">1077</div>
                  <div class="blob-code blob-code-inner js-file-line" id="LC1077">              <span class="pl-s"><span class="pl-pds">&quot;</span>3           56      TYPE_C      2.0  Beverages  Indian  <span class="pl-cce">\n</span><span class="pl-pds">&quot;</span></span>,</div>
                </div>
                <div class="d-flex flex-justify-start flex-items-start">
                  <div class="blob-num blame-blob-num color-bg-subtle js-line-number" id="L1078">1078</div>
                  <div class="blob-code blob-code-inner js-file-line" id="LC1078">              <span class="pl-s"><span class="pl-pds">&quot;</span>4           56      TYPE_C      2.0  Beverages  Indian  <span class="pl-pds">&quot;</span></span></div>
                </div>
                <div class="d-flex flex-justify-start flex-items-start">
                  <div class="blob-num blame-blob-num color-bg-subtle js-line-number" id="L1079">1079</div>
                  <div class="blob-code blob-code-inner js-file-line" id="LC1079">            ],</div>
                </div>
                <div class="d-flex flex-justify-start flex-items-start">
                  <div class="blob-num blame-blob-num color-bg-subtle js-line-number" id="L1080">1080</div>
                  <div class="blob-code blob-code-inner js-file-line" id="LC1080">            <span class="pl-ent">&quot;text/html&quot;</span>: [</div>
                </div>
                <div class="d-flex flex-justify-start flex-items-start">
                  <div class="blob-num blame-blob-num color-bg-subtle js-line-number" id="L1081">1081</div>
                  <div class="blob-code blob-code-inner js-file-line" id="LC1081">              <span class="pl-s"><span class="pl-pds">&quot;</span><span class="pl-cce">\n</span><span class="pl-pds">&quot;</span></span>,</div>
                </div>
                <div class="d-flex flex-justify-start flex-items-start">
                  <div class="blob-num blame-blob-num color-bg-subtle js-line-number" id="L1082">1082</div>
                  <div class="blob-code blob-code-inner js-file-line" id="LC1082">              <span class="pl-s"><span class="pl-pds">&quot;</span>  &lt;div id=<span class="pl-cce">\&quot;</span>df-9e1d2733-1b1a-460e-8144-5ca200948101<span class="pl-cce">\&quot;</span>&gt;<span class="pl-cce">\n</span><span class="pl-pds">&quot;</span></span>,</div>
                </div>
                <div class="d-flex flex-justify-start flex-items-start">
                  <div class="blob-num blame-blob-num color-bg-subtle js-line-number" id="L1083">1083</div>
                  <div class="blob-code blob-code-inner js-file-line" id="LC1083">              <span class="pl-s"><span class="pl-pds">&quot;</span>    &lt;div class=<span class="pl-cce">\&quot;</span>colab-df-container<span class="pl-cce">\&quot;</span>&gt;<span class="pl-cce">\n</span><span class="pl-pds">&quot;</span></span>,</div>
                </div>
                <div class="d-flex flex-justify-start flex-items-start">
                  <div class="blob-num blame-blob-num color-bg-subtle js-line-number" id="L1084">1084</div>
                  <div class="blob-code blob-code-inner js-file-line" id="LC1084">              <span class="pl-s"><span class="pl-pds">&quot;</span>      &lt;div&gt;<span class="pl-cce">\n</span><span class="pl-pds">&quot;</span></span>,</div>
                </div>
                <div class="d-flex flex-justify-start flex-items-start">
                  <div class="blob-num blame-blob-num color-bg-subtle js-line-number" id="L1085">1085</div>
                  <div class="blob-code blob-code-inner js-file-line" id="LC1085">              <span class="pl-s"><span class="pl-pds">&quot;</span>&lt;style scoped&gt;<span class="pl-cce">\n</span><span class="pl-pds">&quot;</span></span>,</div>
                </div>
                <div class="d-flex flex-justify-start flex-items-start">
                  <div class="blob-num blame-blob-num color-bg-subtle js-line-number" id="L1086">1086</div>
                  <div class="blob-code blob-code-inner js-file-line" id="LC1086">              <span class="pl-s"><span class="pl-pds">&quot;</span>    .dataframe tbody tr th:only-of-type {<span class="pl-cce">\n</span><span class="pl-pds">&quot;</span></span>,</div>
                </div>
                <div class="d-flex flex-justify-start flex-items-start">
                  <div class="blob-num blame-blob-num color-bg-subtle js-line-number" id="L1087">1087</div>
                  <div class="blob-code blob-code-inner js-file-line" id="LC1087">              <span class="pl-s"><span class="pl-pds">&quot;</span>        vertical-align: middle;<span class="pl-cce">\n</span><span class="pl-pds">&quot;</span></span>,</div>
                </div>
                <div class="d-flex flex-justify-start flex-items-start">
                  <div class="blob-num blame-blob-num color-bg-subtle js-line-number" id="L1088">1088</div>
                  <div class="blob-code blob-code-inner js-file-line" id="LC1088">              <span class="pl-s"><span class="pl-pds">&quot;</span>    }<span class="pl-cce">\n</span><span class="pl-pds">&quot;</span></span>,</div>
                </div>
                <div class="d-flex flex-justify-start flex-items-start">
                  <div class="blob-num blame-blob-num color-bg-subtle js-line-number" id="L1089">1089</div>
                  <div class="blob-code blob-code-inner js-file-line" id="LC1089">              <span class="pl-s"><span class="pl-pds">&quot;</span><span class="pl-cce">\n</span><span class="pl-pds">&quot;</span></span>,</div>
                </div>
                <div class="d-flex flex-justify-start flex-items-start">
                  <div class="blob-num blame-blob-num color-bg-subtle js-line-number" id="L1090">1090</div>
                  <div class="blob-code blob-code-inner js-file-line" id="LC1090">              <span class="pl-s"><span class="pl-pds">&quot;</span>    .dataframe tbody tr th {<span class="pl-cce">\n</span><span class="pl-pds">&quot;</span></span>,</div>
                </div>
                <div class="d-flex flex-justify-start flex-items-start">
                  <div class="blob-num blame-blob-num color-bg-subtle js-line-number" id="L1091">1091</div>
                  <div class="blob-code blob-code-inner js-file-line" id="LC1091">              <span class="pl-s"><span class="pl-pds">&quot;</span>        vertical-align: top;<span class="pl-cce">\n</span><span class="pl-pds">&quot;</span></span>,</div>
                </div>
                <div class="d-flex flex-justify-start flex-items-start">
                  <div class="blob-num blame-blob-num color-bg-subtle js-line-number" id="L1092">1092</div>
                  <div class="blob-code blob-code-inner js-file-line" id="LC1092">              <span class="pl-s"><span class="pl-pds">&quot;</span>    }<span class="pl-cce">\n</span><span class="pl-pds">&quot;</span></span>,</div>
                </div>
                <div class="d-flex flex-justify-start flex-items-start">
                  <div class="blob-num blame-blob-num color-bg-subtle js-line-number" id="L1093">1093</div>
                  <div class="blob-code blob-code-inner js-file-line" id="LC1093">              <span class="pl-s"><span class="pl-pds">&quot;</span><span class="pl-cce">\n</span><span class="pl-pds">&quot;</span></span>,</div>
                </div>
                <div class="d-flex flex-justify-start flex-items-start">
                  <div class="blob-num blame-blob-num color-bg-subtle js-line-number" id="L1094">1094</div>
                  <div class="blob-code blob-code-inner js-file-line" id="LC1094">              <span class="pl-s"><span class="pl-pds">&quot;</span>    .dataframe thead th {<span class="pl-cce">\n</span><span class="pl-pds">&quot;</span></span>,</div>
                </div>
                <div class="d-flex flex-justify-start flex-items-start">
                  <div class="blob-num blame-blob-num color-bg-subtle js-line-number" id="L1095">1095</div>
                  <div class="blob-code blob-code-inner js-file-line" id="LC1095">              <span class="pl-s"><span class="pl-pds">&quot;</span>        text-align: right;<span class="pl-cce">\n</span><span class="pl-pds">&quot;</span></span>,</div>
                </div>
                <div class="d-flex flex-justify-start flex-items-start">
                  <div class="blob-num blame-blob-num color-bg-subtle js-line-number" id="L1096">1096</div>
                  <div class="blob-code blob-code-inner js-file-line" id="LC1096">              <span class="pl-s"><span class="pl-pds">&quot;</span>    }<span class="pl-cce">\n</span><span class="pl-pds">&quot;</span></span>,</div>
                </div>
                <div class="d-flex flex-justify-start flex-items-start">
                  <div class="blob-num blame-blob-num color-bg-subtle js-line-number" id="L1097">1097</div>
                  <div class="blob-code blob-code-inner js-file-line" id="LC1097">              <span class="pl-s"><span class="pl-pds">&quot;</span>&lt;/style&gt;<span class="pl-cce">\n</span><span class="pl-pds">&quot;</span></span>,</div>
                </div>
                <div class="d-flex flex-justify-start flex-items-start">
                  <div class="blob-num blame-blob-num color-bg-subtle js-line-number" id="L1098">1098</div>
                  <div class="blob-code blob-code-inner js-file-line" id="LC1098">              <span class="pl-s"><span class="pl-pds">&quot;</span>&lt;table border=<span class="pl-cce">\&quot;</span>1<span class="pl-cce">\&quot;</span> class=<span class="pl-cce">\&quot;</span>dataframe<span class="pl-cce">\&quot;</span>&gt;<span class="pl-cce">\n</span><span class="pl-pds">&quot;</span></span>,</div>
                </div>
                <div class="d-flex flex-justify-start flex-items-start">
                  <div class="blob-num blame-blob-num color-bg-subtle js-line-number" id="L1099">1099</div>
                  <div class="blob-code blob-code-inner js-file-line" id="LC1099">              <span class="pl-s"><span class="pl-pds">&quot;</span>  &lt;thead&gt;<span class="pl-cce">\n</span><span class="pl-pds">&quot;</span></span>,</div>
                </div>
                <div class="d-flex flex-justify-start flex-items-start">
                  <div class="blob-num blame-blob-num color-bg-subtle js-line-number" id="L1100">1100</div>
                  <div class="blob-code blob-code-inner js-file-line" id="LC1100">              <span class="pl-s"><span class="pl-pds">&quot;</span>    &lt;tr style=<span class="pl-cce">\&quot;</span>text-align: right;<span class="pl-cce">\&quot;</span>&gt;<span class="pl-cce">\n</span><span class="pl-pds">&quot;</span></span>,</div>
                </div>
                <div class="d-flex flex-justify-start flex-items-start">
                  <div class="blob-num blame-blob-num color-bg-subtle js-line-number" id="L1101">1101</div>
                  <div class="blob-code blob-code-inner js-file-line" id="LC1101">              <span class="pl-s"><span class="pl-pds">&quot;</span>      &lt;th&gt;&lt;/th&gt;<span class="pl-cce">\n</span><span class="pl-pds">&quot;</span></span>,</div>
                </div>
                <div class="d-flex flex-justify-start flex-items-start">
                  <div class="blob-num blame-blob-num color-bg-subtle js-line-number" id="L1102">1102</div>
                  <div class="blob-code blob-code-inner js-file-line" id="LC1102">              <span class="pl-s"><span class="pl-pds">&quot;</span>      &lt;th&gt;id&lt;/th&gt;<span class="pl-cce">\n</span><span class="pl-pds">&quot;</span></span>,</div>
                </div>
                <div class="d-flex flex-justify-start flex-items-start">
                  <div class="blob-num blame-blob-num color-bg-subtle js-line-number" id="L1103">1103</div>
                  <div class="blob-code blob-code-inner js-file-line" id="LC1103">              <span class="pl-s"><span class="pl-pds">&quot;</span>      &lt;th&gt;week&lt;/th&gt;<span class="pl-cce">\n</span><span class="pl-pds">&quot;</span></span>,</div>
                </div>
                <div class="d-flex flex-justify-start flex-items-start">
                  <div class="blob-num blame-blob-num color-bg-subtle js-line-number" id="L1104">1104</div>
                  <div class="blob-code blob-code-inner js-file-line" id="LC1104">              <span class="pl-s"><span class="pl-pds">&quot;</span>      &lt;th&gt;center_id&lt;/th&gt;<span class="pl-cce">\n</span><span class="pl-pds">&quot;</span></span>,</div>
                </div>
                <div class="d-flex flex-justify-start flex-items-start">
                  <div class="blob-num blame-blob-num color-bg-subtle js-line-number" id="L1105">1105</div>
                  <div class="blob-code blob-code-inner js-file-line" id="LC1105">              <span class="pl-s"><span class="pl-pds">&quot;</span>      &lt;th&gt;meal_id&lt;/th&gt;<span class="pl-cce">\n</span><span class="pl-pds">&quot;</span></span>,</div>
                </div>
                <div class="d-flex flex-justify-start flex-items-start">
                  <div class="blob-num blame-blob-num color-bg-subtle js-line-number" id="L1106">1106</div>
                  <div class="blob-code blob-code-inner js-file-line" id="LC1106">              <span class="pl-s"><span class="pl-pds">&quot;</span>      &lt;th&gt;checkout_price&lt;/th&gt;<span class="pl-cce">\n</span><span class="pl-pds">&quot;</span></span>,</div>
                </div>
                <div class="d-flex flex-justify-start flex-items-start">
                  <div class="blob-num blame-blob-num color-bg-subtle js-line-number" id="L1107">1107</div>
                  <div class="blob-code blob-code-inner js-file-line" id="LC1107">              <span class="pl-s"><span class="pl-pds">&quot;</span>      &lt;th&gt;base_price&lt;/th&gt;<span class="pl-cce">\n</span><span class="pl-pds">&quot;</span></span>,</div>
                </div>
                <div class="d-flex flex-justify-start flex-items-start">
                  <div class="blob-num blame-blob-num color-bg-subtle js-line-number" id="L1108">1108</div>
                  <div class="blob-code blob-code-inner js-file-line" id="LC1108">              <span class="pl-s"><span class="pl-pds">&quot;</span>      &lt;th&gt;emailer_for_promotion&lt;/th&gt;<span class="pl-cce">\n</span><span class="pl-pds">&quot;</span></span>,</div>
                </div>
                <div class="d-flex flex-justify-start flex-items-start">
                  <div class="blob-num blame-blob-num color-bg-subtle js-line-number" id="L1109">1109</div>
                  <div class="blob-code blob-code-inner js-file-line" id="LC1109">              <span class="pl-s"><span class="pl-pds">&quot;</span>      &lt;th&gt;homepage_featured&lt;/th&gt;<span class="pl-cce">\n</span><span class="pl-pds">&quot;</span></span>,</div>
                </div>
                <div class="d-flex flex-justify-start flex-items-start">
                  <div class="blob-num blame-blob-num color-bg-subtle js-line-number" id="L1110">1110</div>
                  <div class="blob-code blob-code-inner js-file-line" id="LC1110">              <span class="pl-s"><span class="pl-pds">&quot;</span>      &lt;th&gt;num_orders&lt;/th&gt;<span class="pl-cce">\n</span><span class="pl-pds">&quot;</span></span>,</div>
                </div>
                <div class="d-flex flex-justify-start flex-items-start">
                  <div class="blob-num blame-blob-num color-bg-subtle js-line-number" id="L1111">1111</div>
                  <div class="blob-code blob-code-inner js-file-line" id="LC1111">              <span class="pl-s"><span class="pl-pds">&quot;</span>      &lt;th&gt;city_code&lt;/th&gt;<span class="pl-cce">\n</span><span class="pl-pds">&quot;</span></span>,</div>
                </div>
                <div class="d-flex flex-justify-start flex-items-start">
                  <div class="blob-num blame-blob-num color-bg-subtle js-line-number" id="L1112">1112</div>
                  <div class="blob-code blob-code-inner js-file-line" id="LC1112">              <span class="pl-s"><span class="pl-pds">&quot;</span>      &lt;th&gt;region_code&lt;/th&gt;<span class="pl-cce">\n</span><span class="pl-pds">&quot;</span></span>,</div>
                </div>
                <div class="d-flex flex-justify-start flex-items-start">
                  <div class="blob-num blame-blob-num color-bg-subtle js-line-number" id="L1113">1113</div>
                  <div class="blob-code blob-code-inner js-file-line" id="LC1113">              <span class="pl-s"><span class="pl-pds">&quot;</span>      &lt;th&gt;center_type&lt;/th&gt;<span class="pl-cce">\n</span><span class="pl-pds">&quot;</span></span>,</div>
                </div>
                <div class="d-flex flex-justify-start flex-items-start">
                  <div class="blob-num blame-blob-num color-bg-subtle js-line-number" id="L1114">1114</div>
                  <div class="blob-code blob-code-inner js-file-line" id="LC1114">              <span class="pl-s"><span class="pl-pds">&quot;</span>      &lt;th&gt;op_area&lt;/th&gt;<span class="pl-cce">\n</span><span class="pl-pds">&quot;</span></span>,</div>
                </div>
                <div class="d-flex flex-justify-start flex-items-start">
                  <div class="blob-num blame-blob-num color-bg-subtle js-line-number" id="L1115">1115</div>
                  <div class="blob-code blob-code-inner js-file-line" id="LC1115">              <span class="pl-s"><span class="pl-pds">&quot;</span>      &lt;th&gt;category&lt;/th&gt;<span class="pl-cce">\n</span><span class="pl-pds">&quot;</span></span>,</div>
                </div>
                <div class="d-flex flex-justify-start flex-items-start">
                  <div class="blob-num blame-blob-num color-bg-subtle js-line-number" id="L1116">1116</div>
                  <div class="blob-code blob-code-inner js-file-line" id="LC1116">              <span class="pl-s"><span class="pl-pds">&quot;</span>      &lt;th&gt;cuisine&lt;/th&gt;<span class="pl-cce">\n</span><span class="pl-pds">&quot;</span></span>,</div>
                </div>
                <div class="d-flex flex-justify-start flex-items-start">
                  <div class="blob-num blame-blob-num color-bg-subtle js-line-number" id="L1117">1117</div>
                  <div class="blob-code blob-code-inner js-file-line" id="LC1117">              <span class="pl-s"><span class="pl-pds">&quot;</span>    &lt;/tr&gt;<span class="pl-cce">\n</span><span class="pl-pds">&quot;</span></span>,</div>
                </div>
                <div class="d-flex flex-justify-start flex-items-start">
                  <div class="blob-num blame-blob-num color-bg-subtle js-line-number" id="L1118">1118</div>
                  <div class="blob-code blob-code-inner js-file-line" id="LC1118">              <span class="pl-s"><span class="pl-pds">&quot;</span>  &lt;/thead&gt;<span class="pl-cce">\n</span><span class="pl-pds">&quot;</span></span>,</div>
                </div>
                <div class="d-flex flex-justify-start flex-items-start">
                  <div class="blob-num blame-blob-num color-bg-subtle js-line-number" id="L1119">1119</div>
                  <div class="blob-code blob-code-inner js-file-line" id="LC1119">              <span class="pl-s"><span class="pl-pds">&quot;</span>  &lt;tbody&gt;<span class="pl-cce">\n</span><span class="pl-pds">&quot;</span></span>,</div>
                </div>
                <div class="d-flex flex-justify-start flex-items-start">
                  <div class="blob-num blame-blob-num color-bg-subtle js-line-number" id="L1120">1120</div>
                  <div class="blob-code blob-code-inner js-file-line" id="LC1120">              <span class="pl-s"><span class="pl-pds">&quot;</span>    &lt;tr&gt;<span class="pl-cce">\n</span><span class="pl-pds">&quot;</span></span>,</div>
                </div>
                <div class="d-flex flex-justify-start flex-items-start">
                  <div class="blob-num blame-blob-num color-bg-subtle js-line-number" id="L1121">1121</div>
                  <div class="blob-code blob-code-inner js-file-line" id="LC1121">              <span class="pl-s"><span class="pl-pds">&quot;</span>      &lt;th&gt;0&lt;/th&gt;<span class="pl-cce">\n</span><span class="pl-pds">&quot;</span></span>,</div>
                </div>
                <div class="d-flex flex-justify-start flex-items-start">
                  <div class="blob-num blame-blob-num color-bg-subtle js-line-number" id="L1122">1122</div>
                  <div class="blob-code blob-code-inner js-file-line" id="LC1122">              <span class="pl-s"><span class="pl-pds">&quot;</span>      &lt;td&gt;1379560&lt;/td&gt;<span class="pl-cce">\n</span><span class="pl-pds">&quot;</span></span>,</div>
                </div>
                <div class="d-flex flex-justify-start flex-items-start">
                  <div class="blob-num blame-blob-num color-bg-subtle js-line-number" id="L1123">1123</div>
                  <div class="blob-code blob-code-inner js-file-line" id="LC1123">              <span class="pl-s"><span class="pl-pds">&quot;</span>      &lt;td&gt;1&lt;/td&gt;<span class="pl-cce">\n</span><span class="pl-pds">&quot;</span></span>,</div>
                </div>
                <div class="d-flex flex-justify-start flex-items-start">
                  <div class="blob-num blame-blob-num color-bg-subtle js-line-number" id="L1124">1124</div>
                  <div class="blob-code blob-code-inner js-file-line" id="LC1124">              <span class="pl-s"><span class="pl-pds">&quot;</span>      &lt;td&gt;55&lt;/td&gt;<span class="pl-cce">\n</span><span class="pl-pds">&quot;</span></span>,</div>
                </div>
                <div class="d-flex flex-justify-start flex-items-start">
                  <div class="blob-num blame-blob-num color-bg-subtle js-line-number" id="L1125">1125</div>
                  <div class="blob-code blob-code-inner js-file-line" id="LC1125">              <span class="pl-s"><span class="pl-pds">&quot;</span>      &lt;td&gt;1885&lt;/td&gt;<span class="pl-cce">\n</span><span class="pl-pds">&quot;</span></span>,</div>
                </div>
                <div class="d-flex flex-justify-start flex-items-start">
                  <div class="blob-num blame-blob-num color-bg-subtle js-line-number" id="L1126">1126</div>
                  <div class="blob-code blob-code-inner js-file-line" id="LC1126">              <span class="pl-s"><span class="pl-pds">&quot;</span>      &lt;td&gt;136.83&lt;/td&gt;<span class="pl-cce">\n</span><span class="pl-pds">&quot;</span></span>,</div>
                </div>
                <div class="d-flex flex-justify-start flex-items-start">
                  <div class="blob-num blame-blob-num color-bg-subtle js-line-number" id="L1127">1127</div>
                  <div class="blob-code blob-code-inner js-file-line" id="LC1127">              <span class="pl-s"><span class="pl-pds">&quot;</span>      &lt;td&gt;152.29&lt;/td&gt;<span class="pl-cce">\n</span><span class="pl-pds">&quot;</span></span>,</div>
                </div>
                <div class="d-flex flex-justify-start flex-items-start">
                  <div class="blob-num blame-blob-num color-bg-subtle js-line-number" id="L1128">1128</div>
                  <div class="blob-code blob-code-inner js-file-line" id="LC1128">              <span class="pl-s"><span class="pl-pds">&quot;</span>      &lt;td&gt;0&lt;/td&gt;<span class="pl-cce">\n</span><span class="pl-pds">&quot;</span></span>,</div>
                </div>
                <div class="d-flex flex-justify-start flex-items-start">
                  <div class="blob-num blame-blob-num color-bg-subtle js-line-number" id="L1129">1129</div>
                  <div class="blob-code blob-code-inner js-file-line" id="LC1129">              <span class="pl-s"><span class="pl-pds">&quot;</span>      &lt;td&gt;0&lt;/td&gt;<span class="pl-cce">\n</span><span class="pl-pds">&quot;</span></span>,</div>
                </div>
                <div class="d-flex flex-justify-start flex-items-start">
                  <div class="blob-num blame-blob-num color-bg-subtle js-line-number" id="L1130">1130</div>
                  <div class="blob-code blob-code-inner js-file-line" id="LC1130">              <span class="pl-s"><span class="pl-pds">&quot;</span>      &lt;td&gt;177.0&lt;/td&gt;<span class="pl-cce">\n</span><span class="pl-pds">&quot;</span></span>,</div>
                </div>
                <div class="d-flex flex-justify-start flex-items-start">
                  <div class="blob-num blame-blob-num color-bg-subtle js-line-number" id="L1131">1131</div>
                  <div class="blob-code blob-code-inner js-file-line" id="LC1131">              <span class="pl-s"><span class="pl-pds">&quot;</span>      &lt;td&gt;647&lt;/td&gt;<span class="pl-cce">\n</span><span class="pl-pds">&quot;</span></span>,</div>
                </div>
                <div class="d-flex flex-justify-start flex-items-start">
                  <div class="blob-num blame-blob-num color-bg-subtle js-line-number" id="L1132">1132</div>
                  <div class="blob-code blob-code-inner js-file-line" id="LC1132">              <span class="pl-s"><span class="pl-pds">&quot;</span>      &lt;td&gt;56&lt;/td&gt;<span class="pl-cce">\n</span><span class="pl-pds">&quot;</span></span>,</div>
                </div>
                <div class="d-flex flex-justify-start flex-items-start">
                  <div class="blob-num blame-blob-num color-bg-subtle js-line-number" id="L1133">1133</div>
                  <div class="blob-code blob-code-inner js-file-line" id="LC1133">              <span class="pl-s"><span class="pl-pds">&quot;</span>      &lt;td&gt;TYPE_C&lt;/td&gt;<span class="pl-cce">\n</span><span class="pl-pds">&quot;</span></span>,</div>
                </div>
                <div class="d-flex flex-justify-start flex-items-start">
                  <div class="blob-num blame-blob-num color-bg-subtle js-line-number" id="L1134">1134</div>
                  <div class="blob-code blob-code-inner js-file-line" id="LC1134">              <span class="pl-s"><span class="pl-pds">&quot;</span>      &lt;td&gt;2.0&lt;/td&gt;<span class="pl-cce">\n</span><span class="pl-pds">&quot;</span></span>,</div>
                </div>
                <div class="d-flex flex-justify-start flex-items-start">
                  <div class="blob-num blame-blob-num color-bg-subtle js-line-number" id="L1135">1135</div>
                  <div class="blob-code blob-code-inner js-file-line" id="LC1135">              <span class="pl-s"><span class="pl-pds">&quot;</span>      &lt;td&gt;Beverages&lt;/td&gt;<span class="pl-cce">\n</span><span class="pl-pds">&quot;</span></span>,</div>
                </div>
                <div class="d-flex flex-justify-start flex-items-start">
                  <div class="blob-num blame-blob-num color-bg-subtle js-line-number" id="L1136">1136</div>
                  <div class="blob-code blob-code-inner js-file-line" id="LC1136">              <span class="pl-s"><span class="pl-pds">&quot;</span>      &lt;td&gt;Thai&lt;/td&gt;<span class="pl-cce">\n</span><span class="pl-pds">&quot;</span></span>,</div>
                </div>
                <div class="d-flex flex-justify-start flex-items-start">
                  <div class="blob-num blame-blob-num color-bg-subtle js-line-number" id="L1137">1137</div>
                  <div class="blob-code blob-code-inner js-file-line" id="LC1137">              <span class="pl-s"><span class="pl-pds">&quot;</span>    &lt;/tr&gt;<span class="pl-cce">\n</span><span class="pl-pds">&quot;</span></span>,</div>
                </div>
                <div class="d-flex flex-justify-start flex-items-start">
                  <div class="blob-num blame-blob-num color-bg-subtle js-line-number" id="L1138">1138</div>
                  <div class="blob-code blob-code-inner js-file-line" id="LC1138">              <span class="pl-s"><span class="pl-pds">&quot;</span>    &lt;tr&gt;<span class="pl-cce">\n</span><span class="pl-pds">&quot;</span></span>,</div>
                </div>
                <div class="d-flex flex-justify-start flex-items-start">
                  <div class="blob-num blame-blob-num color-bg-subtle js-line-number" id="L1139">1139</div>
                  <div class="blob-code blob-code-inner js-file-line" id="LC1139">              <span class="pl-s"><span class="pl-pds">&quot;</span>      &lt;th&gt;1&lt;/th&gt;<span class="pl-cce">\n</span><span class="pl-pds">&quot;</span></span>,</div>
                </div>
                <div class="d-flex flex-justify-start flex-items-start">
                  <div class="blob-num blame-blob-num color-bg-subtle js-line-number" id="L1140">1140</div>
                  <div class="blob-code blob-code-inner js-file-line" id="LC1140">              <span class="pl-s"><span class="pl-pds">&quot;</span>      &lt;td&gt;1466964&lt;/td&gt;<span class="pl-cce">\n</span><span class="pl-pds">&quot;</span></span>,</div>
                </div>
                <div class="d-flex flex-justify-start flex-items-start">
                  <div class="blob-num blame-blob-num color-bg-subtle js-line-number" id="L1141">1141</div>
                  <div class="blob-code blob-code-inner js-file-line" id="LC1141">              <span class="pl-s"><span class="pl-pds">&quot;</span>      &lt;td&gt;1&lt;/td&gt;<span class="pl-cce">\n</span><span class="pl-pds">&quot;</span></span>,</div>
                </div>
                <div class="d-flex flex-justify-start flex-items-start">
                  <div class="blob-num blame-blob-num color-bg-subtle js-line-number" id="L1142">1142</div>
                  <div class="blob-code blob-code-inner js-file-line" id="LC1142">              <span class="pl-s"><span class="pl-pds">&quot;</span>      &lt;td&gt;55&lt;/td&gt;<span class="pl-cce">\n</span><span class="pl-pds">&quot;</span></span>,</div>
                </div>
                <div class="d-flex flex-justify-start flex-items-start">
                  <div class="blob-num blame-blob-num color-bg-subtle js-line-number" id="L1143">1143</div>
                  <div class="blob-code blob-code-inner js-file-line" id="LC1143">              <span class="pl-s"><span class="pl-pds">&quot;</span>      &lt;td&gt;1993&lt;/td&gt;<span class="pl-cce">\n</span><span class="pl-pds">&quot;</span></span>,</div>
                </div>
                <div class="d-flex flex-justify-start flex-items-start">
                  <div class="blob-num blame-blob-num color-bg-subtle js-line-number" id="L1144">1144</div>
                  <div class="blob-code blob-code-inner js-file-line" id="LC1144">              <span class="pl-s"><span class="pl-pds">&quot;</span>      &lt;td&gt;136.83&lt;/td&gt;<span class="pl-cce">\n</span><span class="pl-pds">&quot;</span></span>,</div>
                </div>
                <div class="d-flex flex-justify-start flex-items-start">
                  <div class="blob-num blame-blob-num color-bg-subtle js-line-number" id="L1145">1145</div>
                  <div class="blob-code blob-code-inner js-file-line" id="LC1145">              <span class="pl-s"><span class="pl-pds">&quot;</span>      &lt;td&gt;135.83&lt;/td&gt;<span class="pl-cce">\n</span><span class="pl-pds">&quot;</span></span>,</div>
                </div>
                <div class="d-flex flex-justify-start flex-items-start">
                  <div class="blob-num blame-blob-num color-bg-subtle js-line-number" id="L1146">1146</div>
                  <div class="blob-code blob-code-inner js-file-line" id="LC1146">              <span class="pl-s"><span class="pl-pds">&quot;</span>      &lt;td&gt;0&lt;/td&gt;<span class="pl-cce">\n</span><span class="pl-pds">&quot;</span></span>,</div>
                </div>
                <div class="d-flex flex-justify-start flex-items-start">
                  <div class="blob-num blame-blob-num color-bg-subtle js-line-number" id="L1147">1147</div>
                  <div class="blob-code blob-code-inner js-file-line" id="LC1147">              <span class="pl-s"><span class="pl-pds">&quot;</span>      &lt;td&gt;0&lt;/td&gt;<span class="pl-cce">\n</span><span class="pl-pds">&quot;</span></span>,</div>
                </div>
                <div class="d-flex flex-justify-start flex-items-start">
                  <div class="blob-num blame-blob-num color-bg-subtle js-line-number" id="L1148">1148</div>
                  <div class="blob-code blob-code-inner js-file-line" id="LC1148">              <span class="pl-s"><span class="pl-pds">&quot;</span>      &lt;td&gt;270.0&lt;/td&gt;<span class="pl-cce">\n</span><span class="pl-pds">&quot;</span></span>,</div>
                </div>
                <div class="d-flex flex-justify-start flex-items-start">
                  <div class="blob-num blame-blob-num color-bg-subtle js-line-number" id="L1149">1149</div>
                  <div class="blob-code blob-code-inner js-file-line" id="LC1149">              <span class="pl-s"><span class="pl-pds">&quot;</span>      &lt;td&gt;647&lt;/td&gt;<span class="pl-cce">\n</span><span class="pl-pds">&quot;</span></span>,</div>
                </div>
                <div class="d-flex flex-justify-start flex-items-start">
                  <div class="blob-num blame-blob-num color-bg-subtle js-line-number" id="L1150">1150</div>
                  <div class="blob-code blob-code-inner js-file-line" id="LC1150">              <span class="pl-s"><span class="pl-pds">&quot;</span>      &lt;td&gt;56&lt;/td&gt;<span class="pl-cce">\n</span><span class="pl-pds">&quot;</span></span>,</div>
                </div>
                <div class="d-flex flex-justify-start flex-items-start">
                  <div class="blob-num blame-blob-num color-bg-subtle js-line-number" id="L1151">1151</div>
                  <div class="blob-code blob-code-inner js-file-line" id="LC1151">              <span class="pl-s"><span class="pl-pds">&quot;</span>      &lt;td&gt;TYPE_C&lt;/td&gt;<span class="pl-cce">\n</span><span class="pl-pds">&quot;</span></span>,</div>
                </div>
                <div class="d-flex flex-justify-start flex-items-start">
                  <div class="blob-num blame-blob-num color-bg-subtle js-line-number" id="L1152">1152</div>
                  <div class="blob-code blob-code-inner js-file-line" id="LC1152">              <span class="pl-s"><span class="pl-pds">&quot;</span>      &lt;td&gt;2.0&lt;/td&gt;<span class="pl-cce">\n</span><span class="pl-pds">&quot;</span></span>,</div>
                </div>
                <div class="d-flex flex-justify-start flex-items-start">
                  <div class="blob-num blame-blob-num color-bg-subtle js-line-number" id="L1153">1153</div>
                  <div class="blob-code blob-code-inner js-file-line" id="LC1153">              <span class="pl-s"><span class="pl-pds">&quot;</span>      &lt;td&gt;Beverages&lt;/td&gt;<span class="pl-cce">\n</span><span class="pl-pds">&quot;</span></span>,</div>
                </div>
                <div class="d-flex flex-justify-start flex-items-start">
                  <div class="blob-num blame-blob-num color-bg-subtle js-line-number" id="L1154">1154</div>
                  <div class="blob-code blob-code-inner js-file-line" id="LC1154">              <span class="pl-s"><span class="pl-pds">&quot;</span>      &lt;td&gt;Thai&lt;/td&gt;<span class="pl-cce">\n</span><span class="pl-pds">&quot;</span></span>,</div>
                </div>
                <div class="d-flex flex-justify-start flex-items-start">
                  <div class="blob-num blame-blob-num color-bg-subtle js-line-number" id="L1155">1155</div>
                  <div class="blob-code blob-code-inner js-file-line" id="LC1155">              <span class="pl-s"><span class="pl-pds">&quot;</span>    &lt;/tr&gt;<span class="pl-cce">\n</span><span class="pl-pds">&quot;</span></span>,</div>
                </div>
                <div class="d-flex flex-justify-start flex-items-start">
                  <div class="blob-num blame-blob-num color-bg-subtle js-line-number" id="L1156">1156</div>
                  <div class="blob-code blob-code-inner js-file-line" id="LC1156">              <span class="pl-s"><span class="pl-pds">&quot;</span>    &lt;tr&gt;<span class="pl-cce">\n</span><span class="pl-pds">&quot;</span></span>,</div>
                </div>
                <div class="d-flex flex-justify-start flex-items-start">
                  <div class="blob-num blame-blob-num color-bg-subtle js-line-number" id="L1157">1157</div>
                  <div class="blob-code blob-code-inner js-file-line" id="LC1157">              <span class="pl-s"><span class="pl-pds">&quot;</span>      &lt;th&gt;2&lt;/th&gt;<span class="pl-cce">\n</span><span class="pl-pds">&quot;</span></span>,</div>
                </div>
                <div class="d-flex flex-justify-start flex-items-start">
                  <div class="blob-num blame-blob-num color-bg-subtle js-line-number" id="L1158">1158</div>
                  <div class="blob-code blob-code-inner js-file-line" id="LC1158">              <span class="pl-s"><span class="pl-pds">&quot;</span>      &lt;td&gt;1346989&lt;/td&gt;<span class="pl-cce">\n</span><span class="pl-pds">&quot;</span></span>,</div>
                </div>
                <div class="d-flex flex-justify-start flex-items-start">
                  <div class="blob-num blame-blob-num color-bg-subtle js-line-number" id="L1159">1159</div>
                  <div class="blob-code blob-code-inner js-file-line" id="LC1159">              <span class="pl-s"><span class="pl-pds">&quot;</span>      &lt;td&gt;1&lt;/td&gt;<span class="pl-cce">\n</span><span class="pl-pds">&quot;</span></span>,</div>
                </div>
                <div class="d-flex flex-justify-start flex-items-start">
                  <div class="blob-num blame-blob-num color-bg-subtle js-line-number" id="L1160">1160</div>
                  <div class="blob-code blob-code-inner js-file-line" id="LC1160">              <span class="pl-s"><span class="pl-pds">&quot;</span>      &lt;td&gt;55&lt;/td&gt;<span class="pl-cce">\n</span><span class="pl-pds">&quot;</span></span>,</div>
                </div>
                <div class="d-flex flex-justify-start flex-items-start">
                  <div class="blob-num blame-blob-num color-bg-subtle js-line-number" id="L1161">1161</div>
                  <div class="blob-code blob-code-inner js-file-line" id="LC1161">              <span class="pl-s"><span class="pl-pds">&quot;</span>      &lt;td&gt;2539&lt;/td&gt;<span class="pl-cce">\n</span><span class="pl-pds">&quot;</span></span>,</div>
                </div>
                <div class="d-flex flex-justify-start flex-items-start">
                  <div class="blob-num blame-blob-num color-bg-subtle js-line-number" id="L1162">1162</div>
                  <div class="blob-code blob-code-inner js-file-line" id="LC1162">              <span class="pl-s"><span class="pl-pds">&quot;</span>      &lt;td&gt;134.86&lt;/td&gt;<span class="pl-cce">\n</span><span class="pl-pds">&quot;</span></span>,</div>
                </div>
                <div class="d-flex flex-justify-start flex-items-start">
                  <div class="blob-num blame-blob-num color-bg-subtle js-line-number" id="L1163">1163</div>
                  <div class="blob-code blob-code-inner js-file-line" id="LC1163">              <span class="pl-s"><span class="pl-pds">&quot;</span>      &lt;td&gt;135.86&lt;/td&gt;<span class="pl-cce">\n</span><span class="pl-pds">&quot;</span></span>,</div>
                </div>
                <div class="d-flex flex-justify-start flex-items-start">
                  <div class="blob-num blame-blob-num color-bg-subtle js-line-number" id="L1164">1164</div>
                  <div class="blob-code blob-code-inner js-file-line" id="LC1164">              <span class="pl-s"><span class="pl-pds">&quot;</span>      &lt;td&gt;0&lt;/td&gt;<span class="pl-cce">\n</span><span class="pl-pds">&quot;</span></span>,</div>
                </div>
                <div class="d-flex flex-justify-start flex-items-start">
                  <div class="blob-num blame-blob-num color-bg-subtle js-line-number" id="L1165">1165</div>
                  <div class="blob-code blob-code-inner js-file-line" id="LC1165">              <span class="pl-s"><span class="pl-pds">&quot;</span>      &lt;td&gt;0&lt;/td&gt;<span class="pl-cce">\n</span><span class="pl-pds">&quot;</span></span>,</div>
                </div>
                <div class="d-flex flex-justify-start flex-items-start">
                  <div class="blob-num blame-blob-num color-bg-subtle js-line-number" id="L1166">1166</div>
                  <div class="blob-code blob-code-inner js-file-line" id="LC1166">              <span class="pl-s"><span class="pl-pds">&quot;</span>      &lt;td&gt;189.0&lt;/td&gt;<span class="pl-cce">\n</span><span class="pl-pds">&quot;</span></span>,</div>
                </div>
                <div class="d-flex flex-justify-start flex-items-start">
                  <div class="blob-num blame-blob-num color-bg-subtle js-line-number" id="L1167">1167</div>
                  <div class="blob-code blob-code-inner js-file-line" id="LC1167">              <span class="pl-s"><span class="pl-pds">&quot;</span>      &lt;td&gt;647&lt;/td&gt;<span class="pl-cce">\n</span><span class="pl-pds">&quot;</span></span>,</div>
                </div>
                <div class="d-flex flex-justify-start flex-items-start">
                  <div class="blob-num blame-blob-num color-bg-subtle js-line-number" id="L1168">1168</div>
                  <div class="blob-code blob-code-inner js-file-line" id="LC1168">              <span class="pl-s"><span class="pl-pds">&quot;</span>      &lt;td&gt;56&lt;/td&gt;<span class="pl-cce">\n</span><span class="pl-pds">&quot;</span></span>,</div>
                </div>
                <div class="d-flex flex-justify-start flex-items-start">
                  <div class="blob-num blame-blob-num color-bg-subtle js-line-number" id="L1169">1169</div>
                  <div class="blob-code blob-code-inner js-file-line" id="LC1169">              <span class="pl-s"><span class="pl-pds">&quot;</span>      &lt;td&gt;TYPE_C&lt;/td&gt;<span class="pl-cce">\n</span><span class="pl-pds">&quot;</span></span>,</div>
                </div>
                <div class="d-flex flex-justify-start flex-items-start">
                  <div class="blob-num blame-blob-num color-bg-subtle js-line-number" id="L1170">1170</div>
                  <div class="blob-code blob-code-inner js-file-line" id="LC1170">              <span class="pl-s"><span class="pl-pds">&quot;</span>      &lt;td&gt;2.0&lt;/td&gt;<span class="pl-cce">\n</span><span class="pl-pds">&quot;</span></span>,</div>
                </div>
                <div class="d-flex flex-justify-start flex-items-start">
                  <div class="blob-num blame-blob-num color-bg-subtle js-line-number" id="L1171">1171</div>
                  <div class="blob-code blob-code-inner js-file-line" id="LC1171">              <span class="pl-s"><span class="pl-pds">&quot;</span>      &lt;td&gt;Beverages&lt;/td&gt;<span class="pl-cce">\n</span><span class="pl-pds">&quot;</span></span>,</div>
                </div>
                <div class="d-flex flex-justify-start flex-items-start">
                  <div class="blob-num blame-blob-num color-bg-subtle js-line-number" id="L1172">1172</div>
                  <div class="blob-code blob-code-inner js-file-line" id="LC1172">              <span class="pl-s"><span class="pl-pds">&quot;</span>      &lt;td&gt;Thai&lt;/td&gt;<span class="pl-cce">\n</span><span class="pl-pds">&quot;</span></span>,</div>
                </div>
                <div class="d-flex flex-justify-start flex-items-start">
                  <div class="blob-num blame-blob-num color-bg-subtle js-line-number" id="L1173">1173</div>
                  <div class="blob-code blob-code-inner js-file-line" id="LC1173">              <span class="pl-s"><span class="pl-pds">&quot;</span>    &lt;/tr&gt;<span class="pl-cce">\n</span><span class="pl-pds">&quot;</span></span>,</div>
                </div>
                <div class="d-flex flex-justify-start flex-items-start">
                  <div class="blob-num blame-blob-num color-bg-subtle js-line-number" id="L1174">1174</div>
                  <div class="blob-code blob-code-inner js-file-line" id="LC1174">              <span class="pl-s"><span class="pl-pds">&quot;</span>    &lt;tr&gt;<span class="pl-cce">\n</span><span class="pl-pds">&quot;</span></span>,</div>
                </div>
                <div class="d-flex flex-justify-start flex-items-start">
                  <div class="blob-num blame-blob-num color-bg-subtle js-line-number" id="L1175">1175</div>
                  <div class="blob-code blob-code-inner js-file-line" id="LC1175">              <span class="pl-s"><span class="pl-pds">&quot;</span>      &lt;th&gt;3&lt;/th&gt;<span class="pl-cce">\n</span><span class="pl-pds">&quot;</span></span>,</div>
                </div>
                <div class="d-flex flex-justify-start flex-items-start">
                  <div class="blob-num blame-blob-num color-bg-subtle js-line-number" id="L1176">1176</div>
                  <div class="blob-code blob-code-inner js-file-line" id="LC1176">              <span class="pl-s"><span class="pl-pds">&quot;</span>      &lt;td&gt;1338232&lt;/td&gt;<span class="pl-cce">\n</span><span class="pl-pds">&quot;</span></span>,</div>
                </div>
                <div class="d-flex flex-justify-start flex-items-start">
                  <div class="blob-num blame-blob-num color-bg-subtle js-line-number" id="L1177">1177</div>
                  <div class="blob-code blob-code-inner js-file-line" id="LC1177">              <span class="pl-s"><span class="pl-pds">&quot;</span>      &lt;td&gt;1&lt;/td&gt;<span class="pl-cce">\n</span><span class="pl-pds">&quot;</span></span>,</div>
                </div>
                <div class="d-flex flex-justify-start flex-items-start">
                  <div class="blob-num blame-blob-num color-bg-subtle js-line-number" id="L1178">1178</div>
                  <div class="blob-code blob-code-inner js-file-line" id="LC1178">              <span class="pl-s"><span class="pl-pds">&quot;</span>      &lt;td&gt;55&lt;/td&gt;<span class="pl-cce">\n</span><span class="pl-pds">&quot;</span></span>,</div>
                </div>
                <div class="d-flex flex-justify-start flex-items-start">
                  <div class="blob-num blame-blob-num color-bg-subtle js-line-number" id="L1179">1179</div>
                  <div class="blob-code blob-code-inner js-file-line" id="LC1179">              <span class="pl-s"><span class="pl-pds">&quot;</span>      &lt;td&gt;2139&lt;/td&gt;<span class="pl-cce">\n</span><span class="pl-pds">&quot;</span></span>,</div>
                </div>
                <div class="d-flex flex-justify-start flex-items-start">
                  <div class="blob-num blame-blob-num color-bg-subtle js-line-number" id="L1180">1180</div>
                  <div class="blob-code blob-code-inner js-file-line" id="LC1180">              <span class="pl-s"><span class="pl-pds">&quot;</span>      &lt;td&gt;339.50&lt;/td&gt;<span class="pl-cce">\n</span><span class="pl-pds">&quot;</span></span>,</div>
                </div>
                <div class="d-flex flex-justify-start flex-items-start">
                  <div class="blob-num blame-blob-num color-bg-subtle js-line-number" id="L1181">1181</div>
                  <div class="blob-code blob-code-inner js-file-line" id="LC1181">              <span class="pl-s"><span class="pl-pds">&quot;</span>      &lt;td&gt;437.53&lt;/td&gt;<span class="pl-cce">\n</span><span class="pl-pds">&quot;</span></span>,</div>
                </div>
                <div class="d-flex flex-justify-start flex-items-start">
                  <div class="blob-num blame-blob-num color-bg-subtle js-line-number" id="L1182">1182</div>
                  <div class="blob-code blob-code-inner js-file-line" id="LC1182">              <span class="pl-s"><span class="pl-pds">&quot;</span>      &lt;td&gt;0&lt;/td&gt;<span class="pl-cce">\n</span><span class="pl-pds">&quot;</span></span>,</div>
                </div>
                <div class="d-flex flex-justify-start flex-items-start">
                  <div class="blob-num blame-blob-num color-bg-subtle js-line-number" id="L1183">1183</div>
                  <div class="blob-code blob-code-inner js-file-line" id="LC1183">              <span class="pl-s"><span class="pl-pds">&quot;</span>      &lt;td&gt;0&lt;/td&gt;<span class="pl-cce">\n</span><span class="pl-pds">&quot;</span></span>,</div>
                </div>
                <div class="d-flex flex-justify-start flex-items-start">
                  <div class="blob-num blame-blob-num color-bg-subtle js-line-number" id="L1184">1184</div>
                  <div class="blob-code blob-code-inner js-file-line" id="LC1184">              <span class="pl-s"><span class="pl-pds">&quot;</span>      &lt;td&gt;54.0&lt;/td&gt;<span class="pl-cce">\n</span><span class="pl-pds">&quot;</span></span>,</div>
                </div>
                <div class="d-flex flex-justify-start flex-items-start">
                  <div class="blob-num blame-blob-num color-bg-subtle js-line-number" id="L1185">1185</div>
                  <div class="blob-code blob-code-inner js-file-line" id="LC1185">              <span class="pl-s"><span class="pl-pds">&quot;</span>      &lt;td&gt;647&lt;/td&gt;<span class="pl-cce">\n</span><span class="pl-pds">&quot;</span></span>,</div>
                </div>
                <div class="d-flex flex-justify-start flex-items-start">
                  <div class="blob-num blame-blob-num color-bg-subtle js-line-number" id="L1186">1186</div>
                  <div class="blob-code blob-code-inner js-file-line" id="LC1186">              <span class="pl-s"><span class="pl-pds">&quot;</span>      &lt;td&gt;56&lt;/td&gt;<span class="pl-cce">\n</span><span class="pl-pds">&quot;</span></span>,</div>
                </div>
                <div class="d-flex flex-justify-start flex-items-start">
                  <div class="blob-num blame-blob-num color-bg-subtle js-line-number" id="L1187">1187</div>
                  <div class="blob-code blob-code-inner js-file-line" id="LC1187">              <span class="pl-s"><span class="pl-pds">&quot;</span>      &lt;td&gt;TYPE_C&lt;/td&gt;<span class="pl-cce">\n</span><span class="pl-pds">&quot;</span></span>,</div>
                </div>
                <div class="d-flex flex-justify-start flex-items-start">
                  <div class="blob-num blame-blob-num color-bg-subtle js-line-number" id="L1188">1188</div>
                  <div class="blob-code blob-code-inner js-file-line" id="LC1188">              <span class="pl-s"><span class="pl-pds">&quot;</span>      &lt;td&gt;2.0&lt;/td&gt;<span class="pl-cce">\n</span><span class="pl-pds">&quot;</span></span>,</div>
                </div>
                <div class="d-flex flex-justify-start flex-items-start">
                  <div class="blob-num blame-blob-num color-bg-subtle js-line-number" id="L1189">1189</div>
                  <div class="blob-code blob-code-inner js-file-line" id="LC1189">              <span class="pl-s"><span class="pl-pds">&quot;</span>      &lt;td&gt;Beverages&lt;/td&gt;<span class="pl-cce">\n</span><span class="pl-pds">&quot;</span></span>,</div>
                </div>
                <div class="d-flex flex-justify-start flex-items-start">
                  <div class="blob-num blame-blob-num color-bg-subtle js-line-number" id="L1190">1190</div>
                  <div class="blob-code blob-code-inner js-file-line" id="LC1190">              <span class="pl-s"><span class="pl-pds">&quot;</span>      &lt;td&gt;Indian&lt;/td&gt;<span class="pl-cce">\n</span><span class="pl-pds">&quot;</span></span>,</div>
                </div>
                <div class="d-flex flex-justify-start flex-items-start">
                  <div class="blob-num blame-blob-num color-bg-subtle js-line-number" id="L1191">1191</div>
                  <div class="blob-code blob-code-inner js-file-line" id="LC1191">              <span class="pl-s"><span class="pl-pds">&quot;</span>    &lt;/tr&gt;<span class="pl-cce">\n</span><span class="pl-pds">&quot;</span></span>,</div>
                </div>
                <div class="d-flex flex-justify-start flex-items-start">
                  <div class="blob-num blame-blob-num color-bg-subtle js-line-number" id="L1192">1192</div>
                  <div class="blob-code blob-code-inner js-file-line" id="LC1192">              <span class="pl-s"><span class="pl-pds">&quot;</span>    &lt;tr&gt;<span class="pl-cce">\n</span><span class="pl-pds">&quot;</span></span>,</div>
                </div>
                <div class="d-flex flex-justify-start flex-items-start">
                  <div class="blob-num blame-blob-num color-bg-subtle js-line-number" id="L1193">1193</div>
                  <div class="blob-code blob-code-inner js-file-line" id="LC1193">              <span class="pl-s"><span class="pl-pds">&quot;</span>      &lt;th&gt;4&lt;/th&gt;<span class="pl-cce">\n</span><span class="pl-pds">&quot;</span></span>,</div>
                </div>
                <div class="d-flex flex-justify-start flex-items-start">
                  <div class="blob-num blame-blob-num color-bg-subtle js-line-number" id="L1194">1194</div>
                  <div class="blob-code blob-code-inner js-file-line" id="LC1194">              <span class="pl-s"><span class="pl-pds">&quot;</span>      &lt;td&gt;1448490&lt;/td&gt;<span class="pl-cce">\n</span><span class="pl-pds">&quot;</span></span>,</div>
                </div>
                <div class="d-flex flex-justify-start flex-items-start">
                  <div class="blob-num blame-blob-num color-bg-subtle js-line-number" id="L1195">1195</div>
                  <div class="blob-code blob-code-inner js-file-line" id="LC1195">              <span class="pl-s"><span class="pl-pds">&quot;</span>      &lt;td&gt;1&lt;/td&gt;<span class="pl-cce">\n</span><span class="pl-pds">&quot;</span></span>,</div>
                </div>
                <div class="d-flex flex-justify-start flex-items-start">
                  <div class="blob-num blame-blob-num color-bg-subtle js-line-number" id="L1196">1196</div>
                  <div class="blob-code blob-code-inner js-file-line" id="LC1196">              <span class="pl-s"><span class="pl-pds">&quot;</span>      &lt;td&gt;55&lt;/td&gt;<span class="pl-cce">\n</span><span class="pl-pds">&quot;</span></span>,</div>
                </div>
                <div class="d-flex flex-justify-start flex-items-start">
                  <div class="blob-num blame-blob-num color-bg-subtle js-line-number" id="L1197">1197</div>
                  <div class="blob-code blob-code-inner js-file-line" id="LC1197">              <span class="pl-s"><span class="pl-pds">&quot;</span>      &lt;td&gt;2631&lt;/td&gt;<span class="pl-cce">\n</span><span class="pl-pds">&quot;</span></span>,</div>
                </div>
                <div class="d-flex flex-justify-start flex-items-start">
                  <div class="blob-num blame-blob-num color-bg-subtle js-line-number" id="L1198">1198</div>
                  <div class="blob-code blob-code-inner js-file-line" id="LC1198">              <span class="pl-s"><span class="pl-pds">&quot;</span>      &lt;td&gt;243.50&lt;/td&gt;<span class="pl-cce">\n</span><span class="pl-pds">&quot;</span></span>,</div>
                </div>
                <div class="d-flex flex-justify-start flex-items-start">
                  <div class="blob-num blame-blob-num color-bg-subtle js-line-number" id="L1199">1199</div>
                  <div class="blob-code blob-code-inner js-file-line" id="LC1199">              <span class="pl-s"><span class="pl-pds">&quot;</span>      &lt;td&gt;242.50&lt;/td&gt;<span class="pl-cce">\n</span><span class="pl-pds">&quot;</span></span>,</div>
                </div>
                <div class="d-flex flex-justify-start flex-items-start">
                  <div class="blob-num blame-blob-num color-bg-subtle js-line-number" id="L1200">1200</div>
                  <div class="blob-code blob-code-inner js-file-line" id="LC1200">              <span class="pl-s"><span class="pl-pds">&quot;</span>      &lt;td&gt;0&lt;/td&gt;<span class="pl-cce">\n</span><span class="pl-pds">&quot;</span></span>,</div>
                </div>
                <div class="d-flex flex-justify-start flex-items-start">
                  <div class="blob-num blame-blob-num color-bg-subtle js-line-number" id="L1201">1201</div>
                  <div class="blob-code blob-code-inner js-file-line" id="LC1201">              <span class="pl-s"><span class="pl-pds">&quot;</span>      &lt;td&gt;0&lt;/td&gt;<span class="pl-cce">\n</span><span class="pl-pds">&quot;</span></span>,</div>
                </div>
                <div class="d-flex flex-justify-start flex-items-start">
                  <div class="blob-num blame-blob-num color-bg-subtle js-line-number" id="L1202">1202</div>
                  <div class="blob-code blob-code-inner js-file-line" id="LC1202">              <span class="pl-s"><span class="pl-pds">&quot;</span>      &lt;td&gt;40.0&lt;/td&gt;<span class="pl-cce">\n</span><span class="pl-pds">&quot;</span></span>,</div>
                </div>
                <div class="d-flex flex-justify-start flex-items-start">
                  <div class="blob-num blame-blob-num color-bg-subtle js-line-number" id="L1203">1203</div>
                  <div class="blob-code blob-code-inner js-file-line" id="LC1203">              <span class="pl-s"><span class="pl-pds">&quot;</span>      &lt;td&gt;647&lt;/td&gt;<span class="pl-cce">\n</span><span class="pl-pds">&quot;</span></span>,</div>
                </div>
                <div class="d-flex flex-justify-start flex-items-start">
                  <div class="blob-num blame-blob-num color-bg-subtle js-line-number" id="L1204">1204</div>
                  <div class="blob-code blob-code-inner js-file-line" id="LC1204">              <span class="pl-s"><span class="pl-pds">&quot;</span>      &lt;td&gt;56&lt;/td&gt;<span class="pl-cce">\n</span><span class="pl-pds">&quot;</span></span>,</div>
                </div>
                <div class="d-flex flex-justify-start flex-items-start">
                  <div class="blob-num blame-blob-num color-bg-subtle js-line-number" id="L1205">1205</div>
                  <div class="blob-code blob-code-inner js-file-line" id="LC1205">              <span class="pl-s"><span class="pl-pds">&quot;</span>      &lt;td&gt;TYPE_C&lt;/td&gt;<span class="pl-cce">\n</span><span class="pl-pds">&quot;</span></span>,</div>
                </div>
                <div class="d-flex flex-justify-start flex-items-start">
                  <div class="blob-num blame-blob-num color-bg-subtle js-line-number" id="L1206">1206</div>
                  <div class="blob-code blob-code-inner js-file-line" id="LC1206">              <span class="pl-s"><span class="pl-pds">&quot;</span>      &lt;td&gt;2.0&lt;/td&gt;<span class="pl-cce">\n</span><span class="pl-pds">&quot;</span></span>,</div>
                </div>
                <div class="d-flex flex-justify-start flex-items-start">
                  <div class="blob-num blame-blob-num color-bg-subtle js-line-number" id="L1207">1207</div>
                  <div class="blob-code blob-code-inner js-file-line" id="LC1207">              <span class="pl-s"><span class="pl-pds">&quot;</span>      &lt;td&gt;Beverages&lt;/td&gt;<span class="pl-cce">\n</span><span class="pl-pds">&quot;</span></span>,</div>
                </div>
                <div class="d-flex flex-justify-start flex-items-start">
                  <div class="blob-num blame-blob-num color-bg-subtle js-line-number" id="L1208">1208</div>
                  <div class="blob-code blob-code-inner js-file-line" id="LC1208">              <span class="pl-s"><span class="pl-pds">&quot;</span>      &lt;td&gt;Indian&lt;/td&gt;<span class="pl-cce">\n</span><span class="pl-pds">&quot;</span></span>,</div>
                </div>
                <div class="d-flex flex-justify-start flex-items-start">
                  <div class="blob-num blame-blob-num color-bg-subtle js-line-number" id="L1209">1209</div>
                  <div class="blob-code blob-code-inner js-file-line" id="LC1209">              <span class="pl-s"><span class="pl-pds">&quot;</span>    &lt;/tr&gt;<span class="pl-cce">\n</span><span class="pl-pds">&quot;</span></span>,</div>
                </div>
                <div class="d-flex flex-justify-start flex-items-start">
                  <div class="blob-num blame-blob-num color-bg-subtle js-line-number" id="L1210">1210</div>
                  <div class="blob-code blob-code-inner js-file-line" id="LC1210">              <span class="pl-s"><span class="pl-pds">&quot;</span>  &lt;/tbody&gt;<span class="pl-cce">\n</span><span class="pl-pds">&quot;</span></span>,</div>
                </div>
                <div class="d-flex flex-justify-start flex-items-start">
                  <div class="blob-num blame-blob-num color-bg-subtle js-line-number" id="L1211">1211</div>
                  <div class="blob-code blob-code-inner js-file-line" id="LC1211">              <span class="pl-s"><span class="pl-pds">&quot;</span>&lt;/table&gt;<span class="pl-cce">\n</span><span class="pl-pds">&quot;</span></span>,</div>
                </div>
                <div class="d-flex flex-justify-start flex-items-start">
                  <div class="blob-num blame-blob-num color-bg-subtle js-line-number" id="L1212">1212</div>
                  <div class="blob-code blob-code-inner js-file-line" id="LC1212">              <span class="pl-s"><span class="pl-pds">&quot;</span>&lt;/div&gt;<span class="pl-cce">\n</span><span class="pl-pds">&quot;</span></span>,</div>
                </div>
                <div class="d-flex flex-justify-start flex-items-start">
                  <div class="blob-num blame-blob-num color-bg-subtle js-line-number" id="L1213">1213</div>
                  <div class="blob-code blob-code-inner js-file-line" id="LC1213">              <span class="pl-s"><span class="pl-pds">&quot;</span>      &lt;button class=<span class="pl-cce">\&quot;</span>colab-df-convert<span class="pl-cce">\&quot;</span> onclick=<span class="pl-cce">\&quot;</span>convertToInteractive(&#39;df-9e1d2733-1b1a-460e-8144-5ca200948101&#39;)<span class="pl-cce">\&quot;\n</span><span class="pl-pds">&quot;</span></span>,</div>
                </div>
                <div class="d-flex flex-justify-start flex-items-start">
                  <div class="blob-num blame-blob-num color-bg-subtle js-line-number" id="L1214">1214</div>
                  <div class="blob-code blob-code-inner js-file-line" id="LC1214">              <span class="pl-s"><span class="pl-pds">&quot;</span>              title=<span class="pl-cce">\&quot;</span>Convert this dataframe to an interactive table.<span class="pl-cce">\&quot;\n</span><span class="pl-pds">&quot;</span></span>,</div>
                </div>
                <div class="d-flex flex-justify-start flex-items-start">
                  <div class="blob-num blame-blob-num color-bg-subtle js-line-number" id="L1215">1215</div>
                  <div class="blob-code blob-code-inner js-file-line" id="LC1215">              <span class="pl-s"><span class="pl-pds">&quot;</span>              style=<span class="pl-cce">\&quot;</span>display:none;<span class="pl-cce">\&quot;</span>&gt;<span class="pl-cce">\n</span><span class="pl-pds">&quot;</span></span>,</div>
                </div>
                <div class="d-flex flex-justify-start flex-items-start">
                  <div class="blob-num blame-blob-num color-bg-subtle js-line-number" id="L1216">1216</div>
                  <div class="blob-code blob-code-inner js-file-line" id="LC1216">              <span class="pl-s"><span class="pl-pds">&quot;</span>        <span class="pl-cce">\n</span><span class="pl-pds">&quot;</span></span>,</div>
                </div>
                <div class="d-flex flex-justify-start flex-items-start">
                  <div class="blob-num blame-blob-num color-bg-subtle js-line-number" id="L1217">1217</div>
                  <div class="blob-code blob-code-inner js-file-line" id="LC1217">              <span class="pl-s"><span class="pl-pds">&quot;</span>  &lt;svg xmlns=<span class="pl-cce">\&quot;</span>http://www.w3.org/2000/svg<span class="pl-cce">\&quot;</span> height=<span class="pl-cce">\&quot;</span>24px<span class="pl-cce">\&quot;</span>viewBox=<span class="pl-cce">\&quot;</span>0 0 24 24<span class="pl-cce">\&quot;\n</span><span class="pl-pds">&quot;</span></span>,</div>
                </div>
                <div class="d-flex flex-justify-start flex-items-start">
                  <div class="blob-num blame-blob-num color-bg-subtle js-line-number" id="L1218">1218</div>
                  <div class="blob-code blob-code-inner js-file-line" id="LC1218">              <span class="pl-s"><span class="pl-pds">&quot;</span>       width=<span class="pl-cce">\&quot;</span>24px<span class="pl-cce">\&quot;</span>&gt;<span class="pl-cce">\n</span><span class="pl-pds">&quot;</span></span>,</div>
                </div>
                <div class="d-flex flex-justify-start flex-items-start">
                  <div class="blob-num blame-blob-num color-bg-subtle js-line-number" id="L1219">1219</div>
                  <div class="blob-code blob-code-inner js-file-line" id="LC1219">              <span class="pl-s"><span class="pl-pds">&quot;</span>    &lt;path d=<span class="pl-cce">\&quot;</span>M0 0h24v24H0V0z<span class="pl-cce">\&quot;</span> fill=<span class="pl-cce">\&quot;</span>none<span class="pl-cce">\&quot;</span>/&gt;<span class="pl-cce">\n</span><span class="pl-pds">&quot;</span></span>,</div>
                </div>
                <div class="d-flex flex-justify-start flex-items-start">
                  <div class="blob-num blame-blob-num color-bg-subtle js-line-number" id="L1220">1220</div>
                  <div class="blob-code blob-code-inner js-file-line" id="LC1220">              <span class="pl-s"><span class="pl-pds">&quot;</span>    &lt;path d=<span class="pl-cce">\&quot;</span>M18.56 5.44l.94 2.06.94-2.06 2.06-.94-2.06-.94-.94-2.06-.94 2.06-2.06.94zm-11 1L8.5 8.5l.94-2.06 2.06-.94-2.06-.94L8.5 2.5l-.94 2.06-2.06.94zm10 10l.94 2.06.94-2.06 2.06-.94-2.06-.94-.94-2.06-.94 2.06-2.06.94z<span class="pl-cce">\&quot;</span>/&gt;&lt;path d=<span class="pl-cce">\&quot;</span>M17.41 7.96l-1.37-1.37c-.4-.4-.92-.59-1.43-.59-.52 0-1.04.2-1.43.59L10.3 9.45l-7.72 7.72c-.78.78-.78 2.05 0 2.83L4 21.41c.39.39.9.59 1.41.59.51 0 1.02-.2 1.41-.59l7.78-7.78 2.81-2.81c.8-.78.8-2.07 0-2.86zM5.41 20L4 18.59l7.72-7.72 1.47 1.35L5.41 20z<span class="pl-cce">\&quot;</span>/&gt;<span class="pl-cce">\n</span><span class="pl-pds">&quot;</span></span>,</div>
                </div>
                <div class="d-flex flex-justify-start flex-items-start">
                  <div class="blob-num blame-blob-num color-bg-subtle js-line-number" id="L1221">1221</div>
                  <div class="blob-code blob-code-inner js-file-line" id="LC1221">              <span class="pl-s"><span class="pl-pds">&quot;</span>  &lt;/svg&gt;<span class="pl-cce">\n</span><span class="pl-pds">&quot;</span></span>,</div>
                </div>
                <div class="d-flex flex-justify-start flex-items-start">
                  <div class="blob-num blame-blob-num color-bg-subtle js-line-number" id="L1222">1222</div>
                  <div class="blob-code blob-code-inner js-file-line" id="LC1222">              <span class="pl-s"><span class="pl-pds">&quot;</span>      &lt;/button&gt;<span class="pl-cce">\n</span><span class="pl-pds">&quot;</span></span>,</div>
                </div>
                <div class="d-flex flex-justify-start flex-items-start">
                  <div class="blob-num blame-blob-num color-bg-subtle js-line-number" id="L1223">1223</div>
                  <div class="blob-code blob-code-inner js-file-line" id="LC1223">              <span class="pl-s"><span class="pl-pds">&quot;</span>      <span class="pl-cce">\n</span><span class="pl-pds">&quot;</span></span>,</div>
                </div>
                <div class="d-flex flex-justify-start flex-items-start">
                  <div class="blob-num blame-blob-num color-bg-subtle js-line-number" id="L1224">1224</div>
                  <div class="blob-code blob-code-inner js-file-line" id="LC1224">              <span class="pl-s"><span class="pl-pds">&quot;</span>  &lt;style&gt;<span class="pl-cce">\n</span><span class="pl-pds">&quot;</span></span>,</div>
                </div>
                <div class="d-flex flex-justify-start flex-items-start">
                  <div class="blob-num blame-blob-num color-bg-subtle js-line-number" id="L1225">1225</div>
                  <div class="blob-code blob-code-inner js-file-line" id="LC1225">              <span class="pl-s"><span class="pl-pds">&quot;</span>    .colab-df-container {<span class="pl-cce">\n</span><span class="pl-pds">&quot;</span></span>,</div>
                </div>
                <div class="d-flex flex-justify-start flex-items-start">
                  <div class="blob-num blame-blob-num color-bg-subtle js-line-number" id="L1226">1226</div>
                  <div class="blob-code blob-code-inner js-file-line" id="LC1226">              <span class="pl-s"><span class="pl-pds">&quot;</span>      display:flex;<span class="pl-cce">\n</span><span class="pl-pds">&quot;</span></span>,</div>
                </div>
                <div class="d-flex flex-justify-start flex-items-start">
                  <div class="blob-num blame-blob-num color-bg-subtle js-line-number" id="L1227">1227</div>
                  <div class="blob-code blob-code-inner js-file-line" id="LC1227">              <span class="pl-s"><span class="pl-pds">&quot;</span>      flex-wrap:wrap;<span class="pl-cce">\n</span><span class="pl-pds">&quot;</span></span>,</div>
                </div>
                <div class="d-flex flex-justify-start flex-items-start">
                  <div class="blob-num blame-blob-num color-bg-subtle js-line-number" id="L1228">1228</div>
                  <div class="blob-code blob-code-inner js-file-line" id="LC1228">              <span class="pl-s"><span class="pl-pds">&quot;</span>      gap: 12px;<span class="pl-cce">\n</span><span class="pl-pds">&quot;</span></span>,</div>
                </div>
                <div class="d-flex flex-justify-start flex-items-start">
                  <div class="blob-num blame-blob-num color-bg-subtle js-line-number" id="L1229">1229</div>
                  <div class="blob-code blob-code-inner js-file-line" id="LC1229">              <span class="pl-s"><span class="pl-pds">&quot;</span>    }<span class="pl-cce">\n</span><span class="pl-pds">&quot;</span></span>,</div>
                </div>
                <div class="d-flex flex-justify-start flex-items-start">
                  <div class="blob-num blame-blob-num color-bg-subtle js-line-number" id="L1230">1230</div>
                  <div class="blob-code blob-code-inner js-file-line" id="LC1230">              <span class="pl-s"><span class="pl-pds">&quot;</span><span class="pl-cce">\n</span><span class="pl-pds">&quot;</span></span>,</div>
                </div>
                <div class="d-flex flex-justify-start flex-items-start">
                  <div class="blob-num blame-blob-num color-bg-subtle js-line-number" id="L1231">1231</div>
                  <div class="blob-code blob-code-inner js-file-line" id="LC1231">              <span class="pl-s"><span class="pl-pds">&quot;</span>    .colab-df-convert {<span class="pl-cce">\n</span><span class="pl-pds">&quot;</span></span>,</div>
                </div>
                <div class="d-flex flex-justify-start flex-items-start">
                  <div class="blob-num blame-blob-num color-bg-subtle js-line-number" id="L1232">1232</div>
                  <div class="blob-code blob-code-inner js-file-line" id="LC1232">              <span class="pl-s"><span class="pl-pds">&quot;</span>      background-color: #E8F0FE;<span class="pl-cce">\n</span><span class="pl-pds">&quot;</span></span>,</div>
                </div>
                <div class="d-flex flex-justify-start flex-items-start">
                  <div class="blob-num blame-blob-num color-bg-subtle js-line-number" id="L1233">1233</div>
                  <div class="blob-code blob-code-inner js-file-line" id="LC1233">              <span class="pl-s"><span class="pl-pds">&quot;</span>      border: none;<span class="pl-cce">\n</span><span class="pl-pds">&quot;</span></span>,</div>
                </div>
                <div class="d-flex flex-justify-start flex-items-start">
                  <div class="blob-num blame-blob-num color-bg-subtle js-line-number" id="L1234">1234</div>
                  <div class="blob-code blob-code-inner js-file-line" id="LC1234">              <span class="pl-s"><span class="pl-pds">&quot;</span>      border-radius: 50%;<span class="pl-cce">\n</span><span class="pl-pds">&quot;</span></span>,</div>
                </div>
                <div class="d-flex flex-justify-start flex-items-start">
                  <div class="blob-num blame-blob-num color-bg-subtle js-line-number" id="L1235">1235</div>
                  <div class="blob-code blob-code-inner js-file-line" id="LC1235">              <span class="pl-s"><span class="pl-pds">&quot;</span>      cursor: pointer;<span class="pl-cce">\n</span><span class="pl-pds">&quot;</span></span>,</div>
                </div>
                <div class="d-flex flex-justify-start flex-items-start">
                  <div class="blob-num blame-blob-num color-bg-subtle js-line-number" id="L1236">1236</div>
                  <div class="blob-code blob-code-inner js-file-line" id="LC1236">              <span class="pl-s"><span class="pl-pds">&quot;</span>      display: none;<span class="pl-cce">\n</span><span class="pl-pds">&quot;</span></span>,</div>
                </div>
                <div class="d-flex flex-justify-start flex-items-start">
                  <div class="blob-num blame-blob-num color-bg-subtle js-line-number" id="L1237">1237</div>
                  <div class="blob-code blob-code-inner js-file-line" id="LC1237">              <span class="pl-s"><span class="pl-pds">&quot;</span>      fill: #1967D2;<span class="pl-cce">\n</span><span class="pl-pds">&quot;</span></span>,</div>
                </div>
                <div class="d-flex flex-justify-start flex-items-start">
                  <div class="blob-num blame-blob-num color-bg-subtle js-line-number" id="L1238">1238</div>
                  <div class="blob-code blob-code-inner js-file-line" id="LC1238">              <span class="pl-s"><span class="pl-pds">&quot;</span>      height: 32px;<span class="pl-cce">\n</span><span class="pl-pds">&quot;</span></span>,</div>
                </div>
                <div class="d-flex flex-justify-start flex-items-start">
                  <div class="blob-num blame-blob-num color-bg-subtle js-line-number" id="L1239">1239</div>
                  <div class="blob-code blob-code-inner js-file-line" id="LC1239">              <span class="pl-s"><span class="pl-pds">&quot;</span>      padding: 0 0 0 0;<span class="pl-cce">\n</span><span class="pl-pds">&quot;</span></span>,</div>
                </div>
                <div class="d-flex flex-justify-start flex-items-start">
                  <div class="blob-num blame-blob-num color-bg-subtle js-line-number" id="L1240">1240</div>
                  <div class="blob-code blob-code-inner js-file-line" id="LC1240">              <span class="pl-s"><span class="pl-pds">&quot;</span>      width: 32px;<span class="pl-cce">\n</span><span class="pl-pds">&quot;</span></span>,</div>
                </div>
                <div class="d-flex flex-justify-start flex-items-start">
                  <div class="blob-num blame-blob-num color-bg-subtle js-line-number" id="L1241">1241</div>
                  <div class="blob-code blob-code-inner js-file-line" id="LC1241">              <span class="pl-s"><span class="pl-pds">&quot;</span>    }<span class="pl-cce">\n</span><span class="pl-pds">&quot;</span></span>,</div>
                </div>
                <div class="d-flex flex-justify-start flex-items-start">
                  <div class="blob-num blame-blob-num color-bg-subtle js-line-number" id="L1242">1242</div>
                  <div class="blob-code blob-code-inner js-file-line" id="LC1242">              <span class="pl-s"><span class="pl-pds">&quot;</span><span class="pl-cce">\n</span><span class="pl-pds">&quot;</span></span>,</div>
                </div>
                <div class="d-flex flex-justify-start flex-items-start">
                  <div class="blob-num blame-blob-num color-bg-subtle js-line-number" id="L1243">1243</div>
                  <div class="blob-code blob-code-inner js-file-line" id="LC1243">              <span class="pl-s"><span class="pl-pds">&quot;</span>    .colab-df-convert:hover {<span class="pl-cce">\n</span><span class="pl-pds">&quot;</span></span>,</div>
                </div>
                <div class="d-flex flex-justify-start flex-items-start">
                  <div class="blob-num blame-blob-num color-bg-subtle js-line-number" id="L1244">1244</div>
                  <div class="blob-code blob-code-inner js-file-line" id="LC1244">              <span class="pl-s"><span class="pl-pds">&quot;</span>      background-color: #E2EBFA;<span class="pl-cce">\n</span><span class="pl-pds">&quot;</span></span>,</div>
                </div>
                <div class="d-flex flex-justify-start flex-items-start">
                  <div class="blob-num blame-blob-num color-bg-subtle js-line-number" id="L1245">1245</div>
                  <div class="blob-code blob-code-inner js-file-line" id="LC1245">              <span class="pl-s"><span class="pl-pds">&quot;</span>      box-shadow: 0px 1px 2px rgba(60, 64, 67, 0.3), 0px 1px 3px 1px rgba(60, 64, 67, 0.15);<span class="pl-cce">\n</span><span class="pl-pds">&quot;</span></span>,</div>
                </div>
                <div class="d-flex flex-justify-start flex-items-start">
                  <div class="blob-num blame-blob-num color-bg-subtle js-line-number" id="L1246">1246</div>
                  <div class="blob-code blob-code-inner js-file-line" id="LC1246">              <span class="pl-s"><span class="pl-pds">&quot;</span>      fill: #174EA6;<span class="pl-cce">\n</span><span class="pl-pds">&quot;</span></span>,</div>
                </div>
                <div class="d-flex flex-justify-start flex-items-start">
                  <div class="blob-num blame-blob-num color-bg-subtle js-line-number" id="L1247">1247</div>
                  <div class="blob-code blob-code-inner js-file-line" id="LC1247">              <span class="pl-s"><span class="pl-pds">&quot;</span>    }<span class="pl-cce">\n</span><span class="pl-pds">&quot;</span></span>,</div>
                </div>
                <div class="d-flex flex-justify-start flex-items-start">
                  <div class="blob-num blame-blob-num color-bg-subtle js-line-number" id="L1248">1248</div>
                  <div class="blob-code blob-code-inner js-file-line" id="LC1248">              <span class="pl-s"><span class="pl-pds">&quot;</span><span class="pl-cce">\n</span><span class="pl-pds">&quot;</span></span>,</div>
                </div>
                <div class="d-flex flex-justify-start flex-items-start">
                  <div class="blob-num blame-blob-num color-bg-subtle js-line-number" id="L1249">1249</div>
                  <div class="blob-code blob-code-inner js-file-line" id="LC1249">              <span class="pl-s"><span class="pl-pds">&quot;</span>    [theme=dark] .colab-df-convert {<span class="pl-cce">\n</span><span class="pl-pds">&quot;</span></span>,</div>
                </div>
                <div class="d-flex flex-justify-start flex-items-start">
                  <div class="blob-num blame-blob-num color-bg-subtle js-line-number" id="L1250">1250</div>
                  <div class="blob-code blob-code-inner js-file-line" id="LC1250">              <span class="pl-s"><span class="pl-pds">&quot;</span>      background-color: #3B4455;<span class="pl-cce">\n</span><span class="pl-pds">&quot;</span></span>,</div>
                </div>
                <div class="d-flex flex-justify-start flex-items-start">
                  <div class="blob-num blame-blob-num color-bg-subtle js-line-number" id="L1251">1251</div>
                  <div class="blob-code blob-code-inner js-file-line" id="LC1251">              <span class="pl-s"><span class="pl-pds">&quot;</span>      fill: #D2E3FC;<span class="pl-cce">\n</span><span class="pl-pds">&quot;</span></span>,</div>
                </div>
                <div class="d-flex flex-justify-start flex-items-start">
                  <div class="blob-num blame-blob-num color-bg-subtle js-line-number" id="L1252">1252</div>
                  <div class="blob-code blob-code-inner js-file-line" id="LC1252">              <span class="pl-s"><span class="pl-pds">&quot;</span>    }<span class="pl-cce">\n</span><span class="pl-pds">&quot;</span></span>,</div>
                </div>
                <div class="d-flex flex-justify-start flex-items-start">
                  <div class="blob-num blame-blob-num color-bg-subtle js-line-number" id="L1253">1253</div>
                  <div class="blob-code blob-code-inner js-file-line" id="LC1253">              <span class="pl-s"><span class="pl-pds">&quot;</span><span class="pl-cce">\n</span><span class="pl-pds">&quot;</span></span>,</div>
                </div>
                <div class="d-flex flex-justify-start flex-items-start">
                  <div class="blob-num blame-blob-num color-bg-subtle js-line-number" id="L1254">1254</div>
                  <div class="blob-code blob-code-inner js-file-line" id="LC1254">              <span class="pl-s"><span class="pl-pds">&quot;</span>    [theme=dark] .colab-df-convert:hover {<span class="pl-cce">\n</span><span class="pl-pds">&quot;</span></span>,</div>
                </div>
                <div class="d-flex flex-justify-start flex-items-start">
                  <div class="blob-num blame-blob-num color-bg-subtle js-line-number" id="L1255">1255</div>
                  <div class="blob-code blob-code-inner js-file-line" id="LC1255">              <span class="pl-s"><span class="pl-pds">&quot;</span>      background-color: #434B5C;<span class="pl-cce">\n</span><span class="pl-pds">&quot;</span></span>,</div>
                </div>
                <div class="d-flex flex-justify-start flex-items-start">
                  <div class="blob-num blame-blob-num color-bg-subtle js-line-number" id="L1256">1256</div>
                  <div class="blob-code blob-code-inner js-file-line" id="LC1256">              <span class="pl-s"><span class="pl-pds">&quot;</span>      box-shadow: 0px 1px 3px 1px rgba(0, 0, 0, 0.15);<span class="pl-cce">\n</span><span class="pl-pds">&quot;</span></span>,</div>
                </div>
                <div class="d-flex flex-justify-start flex-items-start">
                  <div class="blob-num blame-blob-num color-bg-subtle js-line-number" id="L1257">1257</div>
                  <div class="blob-code blob-code-inner js-file-line" id="LC1257">              <span class="pl-s"><span class="pl-pds">&quot;</span>      filter: drop-shadow(0px 1px 2px rgba(0, 0, 0, 0.3));<span class="pl-cce">\n</span><span class="pl-pds">&quot;</span></span>,</div>
                </div>
                <div class="d-flex flex-justify-start flex-items-start">
                  <div class="blob-num blame-blob-num color-bg-subtle js-line-number" id="L1258">1258</div>
                  <div class="blob-code blob-code-inner js-file-line" id="LC1258">              <span class="pl-s"><span class="pl-pds">&quot;</span>      fill: #FFFFFF;<span class="pl-cce">\n</span><span class="pl-pds">&quot;</span></span>,</div>
                </div>
                <div class="d-flex flex-justify-start flex-items-start">
                  <div class="blob-num blame-blob-num color-bg-subtle js-line-number" id="L1259">1259</div>
                  <div class="blob-code blob-code-inner js-file-line" id="LC1259">              <span class="pl-s"><span class="pl-pds">&quot;</span>    }<span class="pl-cce">\n</span><span class="pl-pds">&quot;</span></span>,</div>
                </div>
                <div class="d-flex flex-justify-start flex-items-start">
                  <div class="blob-num blame-blob-num color-bg-subtle js-line-number" id="L1260">1260</div>
                  <div class="blob-code blob-code-inner js-file-line" id="LC1260">              <span class="pl-s"><span class="pl-pds">&quot;</span>  &lt;/style&gt;<span class="pl-cce">\n</span><span class="pl-pds">&quot;</span></span>,</div>
                </div>
                <div class="d-flex flex-justify-start flex-items-start">
                  <div class="blob-num blame-blob-num color-bg-subtle js-line-number" id="L1261">1261</div>
                  <div class="blob-code blob-code-inner js-file-line" id="LC1261">              <span class="pl-s"><span class="pl-pds">&quot;</span><span class="pl-cce">\n</span><span class="pl-pds">&quot;</span></span>,</div>
                </div>
                <div class="d-flex flex-justify-start flex-items-start">
                  <div class="blob-num blame-blob-num color-bg-subtle js-line-number" id="L1262">1262</div>
                  <div class="blob-code blob-code-inner js-file-line" id="LC1262">              <span class="pl-s"><span class="pl-pds">&quot;</span>      &lt;script&gt;<span class="pl-cce">\n</span><span class="pl-pds">&quot;</span></span>,</div>
                </div>
                <div class="d-flex flex-justify-start flex-items-start">
                  <div class="blob-num blame-blob-num color-bg-subtle js-line-number" id="L1263">1263</div>
                  <div class="blob-code blob-code-inner js-file-line" id="LC1263">              <span class="pl-s"><span class="pl-pds">&quot;</span>        const buttonEl =<span class="pl-cce">\n</span><span class="pl-pds">&quot;</span></span>,</div>
                </div>
                <div class="d-flex flex-justify-start flex-items-start">
                  <div class="blob-num blame-blob-num color-bg-subtle js-line-number" id="L1264">1264</div>
                  <div class="blob-code blob-code-inner js-file-line" id="LC1264">              <span class="pl-s"><span class="pl-pds">&quot;</span>          document.querySelector(&#39;#df-9e1d2733-1b1a-460e-8144-5ca200948101 button.colab-df-convert&#39;);<span class="pl-cce">\n</span><span class="pl-pds">&quot;</span></span>,</div>
                </div>
                <div class="d-flex flex-justify-start flex-items-start">
                  <div class="blob-num blame-blob-num color-bg-subtle js-line-number" id="L1265">1265</div>
                  <div class="blob-code blob-code-inner js-file-line" id="LC1265">              <span class="pl-s"><span class="pl-pds">&quot;</span>        buttonEl.style.display =<span class="pl-cce">\n</span><span class="pl-pds">&quot;</span></span>,</div>
                </div>
                <div class="d-flex flex-justify-start flex-items-start">
                  <div class="blob-num blame-blob-num color-bg-subtle js-line-number" id="L1266">1266</div>
                  <div class="blob-code blob-code-inner js-file-line" id="LC1266">              <span class="pl-s"><span class="pl-pds">&quot;</span>          google.colab.kernel.accessAllowed ? &#39;block&#39; : &#39;none&#39;;<span class="pl-cce">\n</span><span class="pl-pds">&quot;</span></span>,</div>
                </div>
                <div class="d-flex flex-justify-start flex-items-start">
                  <div class="blob-num blame-blob-num color-bg-subtle js-line-number" id="L1267">1267</div>
                  <div class="blob-code blob-code-inner js-file-line" id="LC1267">              <span class="pl-s"><span class="pl-pds">&quot;</span><span class="pl-cce">\n</span><span class="pl-pds">&quot;</span></span>,</div>
                </div>
                <div class="d-flex flex-justify-start flex-items-start">
                  <div class="blob-num blame-blob-num color-bg-subtle js-line-number" id="L1268">1268</div>
                  <div class="blob-code blob-code-inner js-file-line" id="LC1268">              <span class="pl-s"><span class="pl-pds">&quot;</span>        async function convertToInteractive(key) {<span class="pl-cce">\n</span><span class="pl-pds">&quot;</span></span>,</div>
                </div>
                <div class="d-flex flex-justify-start flex-items-start">
                  <div class="blob-num blame-blob-num color-bg-subtle js-line-number" id="L1269">1269</div>
                  <div class="blob-code blob-code-inner js-file-line" id="LC1269">              <span class="pl-s"><span class="pl-pds">&quot;</span>          const element = document.querySelector(&#39;#df-9e1d2733-1b1a-460e-8144-5ca200948101&#39;);<span class="pl-cce">\n</span><span class="pl-pds">&quot;</span></span>,</div>
                </div>
                <div class="d-flex flex-justify-start flex-items-start">
                  <div class="blob-num blame-blob-num color-bg-subtle js-line-number" id="L1270">1270</div>
                  <div class="blob-code blob-code-inner js-file-line" id="LC1270">              <span class="pl-s"><span class="pl-pds">&quot;</span>          const dataTable =<span class="pl-cce">\n</span><span class="pl-pds">&quot;</span></span>,</div>
                </div>
                <div class="d-flex flex-justify-start flex-items-start">
                  <div class="blob-num blame-blob-num color-bg-subtle js-line-number" id="L1271">1271</div>
                  <div class="blob-code blob-code-inner js-file-line" id="LC1271">              <span class="pl-s"><span class="pl-pds">&quot;</span>            await google.colab.kernel.invokeFunction(&#39;convertToInteractive&#39;,<span class="pl-cce">\n</span><span class="pl-pds">&quot;</span></span>,</div>
                </div>
                <div class="d-flex flex-justify-start flex-items-start">
                  <div class="blob-num blame-blob-num color-bg-subtle js-line-number" id="L1272">1272</div>
                  <div class="blob-code blob-code-inner js-file-line" id="LC1272">              <span class="pl-s"><span class="pl-pds">&quot;</span>                                                     [key], {});<span class="pl-cce">\n</span><span class="pl-pds">&quot;</span></span>,</div>
                </div>
                <div class="d-flex flex-justify-start flex-items-start">
                  <div class="blob-num blame-blob-num color-bg-subtle js-line-number" id="L1273">1273</div>
                  <div class="blob-code blob-code-inner js-file-line" id="LC1273">              <span class="pl-s"><span class="pl-pds">&quot;</span>          if (!dataTable) return;<span class="pl-cce">\n</span><span class="pl-pds">&quot;</span></span>,</div>
                </div>
                <div class="d-flex flex-justify-start flex-items-start">
                  <div class="blob-num blame-blob-num color-bg-subtle js-line-number" id="L1274">1274</div>
                  <div class="blob-code blob-code-inner js-file-line" id="LC1274">              <span class="pl-s"><span class="pl-pds">&quot;</span><span class="pl-cce">\n</span><span class="pl-pds">&quot;</span></span>,</div>
                </div>
                <div class="d-flex flex-justify-start flex-items-start">
                  <div class="blob-num blame-blob-num color-bg-subtle js-line-number" id="L1275">1275</div>
                  <div class="blob-code blob-code-inner js-file-line" id="LC1275">              <span class="pl-s"><span class="pl-pds">&quot;</span>          const docLinkHtml = &#39;Like what you see? Visit the &#39; +<span class="pl-cce">\n</span><span class="pl-pds">&quot;</span></span>,</div>
                </div>
                <div class="d-flex flex-justify-start flex-items-start">
                  <div class="blob-num blame-blob-num color-bg-subtle js-line-number" id="L1276">1276</div>
                  <div class="blob-code blob-code-inner js-file-line" id="LC1276">              <span class="pl-s"><span class="pl-pds">&quot;</span>            &#39;&lt;a target=<span class="pl-cce">\&quot;</span>_blank<span class="pl-cce">\&quot;</span> href=https://colab.research.google.com/notebooks/data_table.ipynb&gt;data table notebook&lt;/a&gt;&#39;<span class="pl-cce">\n</span><span class="pl-pds">&quot;</span></span>,</div>
                </div>
                <div class="d-flex flex-justify-start flex-items-start">
                  <div class="blob-num blame-blob-num color-bg-subtle js-line-number" id="L1277">1277</div>
                  <div class="blob-code blob-code-inner js-file-line" id="LC1277">              <span class="pl-s"><span class="pl-pds">&quot;</span>            + &#39; to learn more about interactive tables.&#39;;<span class="pl-cce">\n</span><span class="pl-pds">&quot;</span></span>,</div>
                </div>
                <div class="d-flex flex-justify-start flex-items-start">
                  <div class="blob-num blame-blob-num color-bg-subtle js-line-number" id="L1278">1278</div>
                  <div class="blob-code blob-code-inner js-file-line" id="LC1278">              <span class="pl-s"><span class="pl-pds">&quot;</span>          element.innerHTML = &#39;&#39;;<span class="pl-cce">\n</span><span class="pl-pds">&quot;</span></span>,</div>
                </div>
                <div class="d-flex flex-justify-start flex-items-start">
                  <div class="blob-num blame-blob-num color-bg-subtle js-line-number" id="L1279">1279</div>
                  <div class="blob-code blob-code-inner js-file-line" id="LC1279">              <span class="pl-s"><span class="pl-pds">&quot;</span>          dataTable[&#39;output_type&#39;] = &#39;display_data&#39;;<span class="pl-cce">\n</span><span class="pl-pds">&quot;</span></span>,</div>
                </div>
                <div class="d-flex flex-justify-start flex-items-start">
                  <div class="blob-num blame-blob-num color-bg-subtle js-line-number" id="L1280">1280</div>
                  <div class="blob-code blob-code-inner js-file-line" id="LC1280">              <span class="pl-s"><span class="pl-pds">&quot;</span>          await google.colab.output.renderOutput(dataTable, element);<span class="pl-cce">\n</span><span class="pl-pds">&quot;</span></span>,</div>
                </div>
                <div class="d-flex flex-justify-start flex-items-start">
                  <div class="blob-num blame-blob-num color-bg-subtle js-line-number" id="L1281">1281</div>
                  <div class="blob-code blob-code-inner js-file-line" id="LC1281">              <span class="pl-s"><span class="pl-pds">&quot;</span>          const docLink = document.createElement(&#39;div&#39;);<span class="pl-cce">\n</span><span class="pl-pds">&quot;</span></span>,</div>
                </div>
                <div class="d-flex flex-justify-start flex-items-start">
                  <div class="blob-num blame-blob-num color-bg-subtle js-line-number" id="L1282">1282</div>
                  <div class="blob-code blob-code-inner js-file-line" id="LC1282">              <span class="pl-s"><span class="pl-pds">&quot;</span>          docLink.innerHTML = docLinkHtml;<span class="pl-cce">\n</span><span class="pl-pds">&quot;</span></span>,</div>
                </div>
                <div class="d-flex flex-justify-start flex-items-start">
                  <div class="blob-num blame-blob-num color-bg-subtle js-line-number" id="L1283">1283</div>
                  <div class="blob-code blob-code-inner js-file-line" id="LC1283">              <span class="pl-s"><span class="pl-pds">&quot;</span>          element.appendChild(docLink);<span class="pl-cce">\n</span><span class="pl-pds">&quot;</span></span>,</div>
                </div>
                <div class="d-flex flex-justify-start flex-items-start">
                  <div class="blob-num blame-blob-num color-bg-subtle js-line-number" id="L1284">1284</div>
                  <div class="blob-code blob-code-inner js-file-line" id="LC1284">              <span class="pl-s"><span class="pl-pds">&quot;</span>        }<span class="pl-cce">\n</span><span class="pl-pds">&quot;</span></span>,</div>
                </div>
                <div class="d-flex flex-justify-start flex-items-start">
                  <div class="blob-num blame-blob-num color-bg-subtle js-line-number" id="L1285">1285</div>
                  <div class="blob-code blob-code-inner js-file-line" id="LC1285">              <span class="pl-s"><span class="pl-pds">&quot;</span>      &lt;/script&gt;<span class="pl-cce">\n</span><span class="pl-pds">&quot;</span></span>,</div>
                </div>
                <div class="d-flex flex-justify-start flex-items-start">
                  <div class="blob-num blame-blob-num color-bg-subtle js-line-number" id="L1286">1286</div>
                  <div class="blob-code blob-code-inner js-file-line" id="LC1286">              <span class="pl-s"><span class="pl-pds">&quot;</span>    &lt;/div&gt;<span class="pl-cce">\n</span><span class="pl-pds">&quot;</span></span>,</div>
                </div>
                <div class="d-flex flex-justify-start flex-items-start">
                  <div class="blob-num blame-blob-num color-bg-subtle js-line-number" id="L1287">1287</div>
                  <div class="blob-code blob-code-inner js-file-line" id="LC1287">              <span class="pl-s"><span class="pl-pds">&quot;</span>  &lt;/div&gt;<span class="pl-cce">\n</span><span class="pl-pds">&quot;</span></span>,</div>
                </div>
                <div class="d-flex flex-justify-start flex-items-start">
                  <div class="blob-num blame-blob-num color-bg-subtle js-line-number" id="L1288">1288</div>
                  <div class="blob-code blob-code-inner js-file-line" id="LC1288">              <span class="pl-s"><span class="pl-pds">&quot;</span>  <span class="pl-pds">&quot;</span></span></div>
                </div>
                <div class="d-flex flex-justify-start flex-items-start">
                  <div class="blob-num blame-blob-num color-bg-subtle js-line-number" id="L1289">1289</div>
                  <div class="blob-code blob-code-inner js-file-line" id="LC1289">            ]</div>
                </div>
                <div class="d-flex flex-justify-start flex-items-start">
                  <div class="blob-num blame-blob-num color-bg-subtle js-line-number" id="L1290">1290</div>
                  <div class="blob-code blob-code-inner js-file-line" id="LC1290">          },</div>
                </div>
                <div class="d-flex flex-justify-start flex-items-start">
                  <div class="blob-num blame-blob-num color-bg-subtle js-line-number" id="L1291">1291</div>
                  <div class="blob-code blob-code-inner js-file-line" id="LC1291">          <span class="pl-ent">&quot;metadata&quot;</span>: {},</div>
                </div>
                <div class="d-flex flex-justify-start flex-items-start">
                  <div class="blob-num blame-blob-num color-bg-subtle js-line-number" id="L1292">1292</div>
                  <div class="blob-code blob-code-inner js-file-line" id="LC1292">          <span class="pl-ent">&quot;execution_count&quot;</span>: <span class="pl-c1">18</span></div>
                </div>
                <div class="d-flex flex-justify-start flex-items-start">
                  <div class="blob-num blame-blob-num color-bg-subtle js-line-number" id="L1293">1293</div>
                  <div class="blob-code blob-code-inner js-file-line" id="LC1293">        }</div>
                </div>
                <div class="d-flex flex-justify-start flex-items-start">
                  <div class="blob-num blame-blob-num color-bg-subtle js-line-number" id="L1294">1294</div>
                  <div class="blob-code blob-code-inner js-file-line" id="LC1294">      ]</div>
                </div>
                <div class="d-flex flex-justify-start flex-items-start">
                  <div class="blob-num blame-blob-num color-bg-subtle js-line-number" id="L1295">1295</div>
                  <div class="blob-code blob-code-inner js-file-line" id="LC1295">    },</div>
                </div>
                <div class="d-flex flex-justify-start flex-items-start">
                  <div class="blob-num blame-blob-num color-bg-subtle js-line-number" id="L1296">1296</div>
                  <div class="blob-code blob-code-inner js-file-line" id="LC1296">    {</div>
                </div>
                <div class="d-flex flex-justify-start flex-items-start">
                  <div class="blob-num blame-blob-num color-bg-subtle js-line-number" id="L1297">1297</div>
                  <div class="blob-code blob-code-inner js-file-line" id="LC1297">      <span class="pl-ent">&quot;cell_type&quot;</span>: <span class="pl-s"><span class="pl-pds">&quot;</span>code<span class="pl-pds">&quot;</span></span>,</div>
                </div>
                <div class="d-flex flex-justify-start flex-items-start">
                  <div class="blob-num blame-blob-num color-bg-subtle js-line-number" id="L1298">1298</div>
                  <div class="blob-code blob-code-inner js-file-line" id="LC1298">      <span class="pl-ent">&quot;source&quot;</span>: [</div>
                </div>
                <div class="d-flex flex-justify-start flex-items-start">
                  <div class="blob-num blame-blob-num color-bg-subtle js-line-number" id="L1299">1299</div>
                  <div class="blob-code blob-code-inner js-file-line" id="LC1299">        <span class="pl-s"><span class="pl-pds">&quot;</span>test[&#39;num_orders&#39;]=123456<span class="pl-pds">&quot;</span></span></div>
                </div>
                <div class="d-flex flex-justify-start flex-items-start">
                  <div class="blob-num blame-blob-num color-bg-subtle js-line-number" id="L1300">1300</div>
                  <div class="blob-code blob-code-inner js-file-line" id="LC1300">      ],</div>
                </div>
                <div class="d-flex flex-justify-start flex-items-start">
                  <div class="blob-num blame-blob-num color-bg-subtle js-line-number" id="L1301">1301</div>
                  <div class="blob-code blob-code-inner js-file-line" id="LC1301">      <span class="pl-ent">&quot;metadata&quot;</span>: {</div>
                </div>
                <div class="d-flex flex-justify-start flex-items-start">
                  <div class="blob-num blame-blob-num color-bg-subtle js-line-number" id="L1302">1302</div>
                  <div class="blob-code blob-code-inner js-file-line" id="LC1302">        <span class="pl-ent">&quot;id&quot;</span>: <span class="pl-s"><span class="pl-pds">&quot;</span>gTPLnsWNBxCT<span class="pl-pds">&quot;</span></span></div>
                </div>
                <div class="d-flex flex-justify-start flex-items-start">
                  <div class="blob-num blame-blob-num color-bg-subtle js-line-number" id="L1303">1303</div>
                  <div class="blob-code blob-code-inner js-file-line" id="LC1303">      },</div>
                </div>
                <div class="d-flex flex-justify-start flex-items-start">
                  <div class="blob-num blame-blob-num color-bg-subtle js-line-number" id="L1304">1304</div>
                  <div class="blob-code blob-code-inner js-file-line" id="LC1304">      <span class="pl-ent">&quot;execution_count&quot;</span>: <span class="pl-c1">19</span>,</div>
                </div>
                <div class="d-flex flex-justify-start flex-items-start">
                  <div class="blob-num blame-blob-num color-bg-subtle js-line-number" id="L1305">1305</div>
                  <div class="blob-code blob-code-inner js-file-line" id="LC1305">      <span class="pl-ent">&quot;outputs&quot;</span>: []</div>
                </div>
                <div class="d-flex flex-justify-start flex-items-start">
                  <div class="blob-num blame-blob-num color-bg-subtle js-line-number" id="L1306">1306</div>
                  <div class="blob-code blob-code-inner js-file-line" id="LC1306">    },</div>
                </div>
                <div class="d-flex flex-justify-start flex-items-start">
                  <div class="blob-num blame-blob-num color-bg-subtle js-line-number" id="L1307">1307</div>
                  <div class="blob-code blob-code-inner js-file-line" id="LC1307">    {</div>
                </div>
                <div class="d-flex flex-justify-start flex-items-start">
                  <div class="blob-num blame-blob-num color-bg-subtle js-line-number" id="L1308">1308</div>
                  <div class="blob-code blob-code-inner js-file-line" id="LC1308">      <span class="pl-ent">&quot;cell_type&quot;</span>: <span class="pl-s"><span class="pl-pds">&quot;</span>code<span class="pl-pds">&quot;</span></span>,</div>
                </div>
                <div class="d-flex flex-justify-start flex-items-start">
                  <div class="blob-num blame-blob-num color-bg-subtle js-line-number" id="L1309">1309</div>
                  <div class="blob-code blob-code-inner js-file-line" id="LC1309">      <span class="pl-ent">&quot;source&quot;</span>: [</div>
                </div>
                <div class="d-flex flex-justify-start flex-items-start">
                  <div class="blob-num blame-blob-num color-bg-subtle js-line-number" id="L1310">1310</div>
                  <div class="blob-code blob-code-inner js-file-line" id="LC1310">        <span class="pl-s"><span class="pl-pds">&quot;</span>data.isnull().sum()<span class="pl-pds">&quot;</span></span></div>
                </div>
                <div class="d-flex flex-justify-start flex-items-start">
                  <div class="blob-num blame-blob-num color-bg-subtle js-line-number" id="L1311">1311</div>
                  <div class="blob-code blob-code-inner js-file-line" id="LC1311">      ],</div>
                </div>
                <div class="d-flex flex-justify-start flex-items-start">
                  <div class="blob-num blame-blob-num color-bg-subtle js-line-number" id="L1312">1312</div>
                  <div class="blob-code blob-code-inner js-file-line" id="LC1312">      <span class="pl-ent">&quot;metadata&quot;</span>: {</div>
                </div>
                <div class="d-flex flex-justify-start flex-items-start">
                  <div class="blob-num blame-blob-num color-bg-subtle js-line-number" id="L1313">1313</div>
                  <div class="blob-code blob-code-inner js-file-line" id="LC1313">        <span class="pl-ent">&quot;colab&quot;</span>: {</div>
                </div>
                <div class="d-flex flex-justify-start flex-items-start">
                  <div class="blob-num blame-blob-num color-bg-subtle js-line-number" id="L1314">1314</div>
                  <div class="blob-code blob-code-inner js-file-line" id="LC1314">          <span class="pl-ent">&quot;base_uri&quot;</span>: <span class="pl-s"><span class="pl-pds">&quot;</span>https://localhost:8080/<span class="pl-pds">&quot;</span></span></div>
                </div>
                <div class="d-flex flex-justify-start flex-items-start">
                  <div class="blob-num blame-blob-num color-bg-subtle js-line-number" id="L1315">1315</div>
                  <div class="blob-code blob-code-inner js-file-line" id="LC1315">        },</div>
                </div>
                <div class="d-flex flex-justify-start flex-items-start">
                  <div class="blob-num blame-blob-num color-bg-subtle js-line-number" id="L1316">1316</div>
                  <div class="blob-code blob-code-inner js-file-line" id="LC1316">        <span class="pl-ent">&quot;id&quot;</span>: <span class="pl-s"><span class="pl-pds">&quot;</span>WHOTKtBDBg-X<span class="pl-pds">&quot;</span></span>,</div>
                </div>
                <div class="d-flex flex-justify-start flex-items-start">
                  <div class="blob-num blame-blob-num color-bg-subtle js-line-number" id="L1317">1317</div>
                  <div class="blob-code blob-code-inner js-file-line" id="LC1317">        <span class="pl-ent">&quot;outputId&quot;</span>: <span class="pl-s"><span class="pl-pds">&quot;</span>3a576283-a3eb-41e6-c2e9-40f01134f136<span class="pl-pds">&quot;</span></span></div>
                </div>
                <div class="d-flex flex-justify-start flex-items-start">
                  <div class="blob-num blame-blob-num color-bg-subtle js-line-number" id="L1318">1318</div>
                  <div class="blob-code blob-code-inner js-file-line" id="LC1318">      },</div>
                </div>
                <div class="d-flex flex-justify-start flex-items-start">
                  <div class="blob-num blame-blob-num color-bg-subtle js-line-number" id="L1319">1319</div>
                  <div class="blob-code blob-code-inner js-file-line" id="LC1319">      <span class="pl-ent">&quot;execution_count&quot;</span>: <span class="pl-c1">20</span>,</div>
                </div>
                <div class="d-flex flex-justify-start flex-items-start">
                  <div class="blob-num blame-blob-num color-bg-subtle js-line-number" id="L1320">1320</div>
                  <div class="blob-code blob-code-inner js-file-line" id="LC1320">      <span class="pl-ent">&quot;outputs&quot;</span>: [</div>
                </div>
                <div class="d-flex flex-justify-start flex-items-start">
                  <div class="blob-num blame-blob-num color-bg-subtle js-line-number" id="L1321">1321</div>
                  <div class="blob-code blob-code-inner js-file-line" id="LC1321">        {</div>
                </div>
                <div class="d-flex flex-justify-start flex-items-start">
                  <div class="blob-num blame-blob-num color-bg-subtle js-line-number" id="L1322">1322</div>
                  <div class="blob-code blob-code-inner js-file-line" id="LC1322">          <span class="pl-ent">&quot;output_type&quot;</span>: <span class="pl-s"><span class="pl-pds">&quot;</span>execute_result<span class="pl-pds">&quot;</span></span>,</div>
                </div>
                <div class="d-flex flex-justify-start flex-items-start">
                  <div class="blob-num blame-blob-num color-bg-subtle js-line-number" id="L1323">1323</div>
                  <div class="blob-code blob-code-inner js-file-line" id="LC1323">          <span class="pl-ent">&quot;data&quot;</span>: {</div>
                </div>
                <div class="d-flex flex-justify-start flex-items-start">
                  <div class="blob-num blame-blob-num color-bg-subtle js-line-number" id="L1324">1324</div>
                  <div class="blob-code blob-code-inner js-file-line" id="LC1324">            <span class="pl-ent">&quot;text/plain&quot;</span>: [</div>
                </div>
                <div class="d-flex flex-justify-start flex-items-start">
                  <div class="blob-num blame-blob-num color-bg-subtle js-line-number" id="L1325">1325</div>
                  <div class="blob-code blob-code-inner js-file-line" id="LC1325">              <span class="pl-s"><span class="pl-pds">&quot;</span>id                           0<span class="pl-cce">\n</span><span class="pl-pds">&quot;</span></span>,</div>
                </div>
                <div class="d-flex flex-justify-start flex-items-start">
                  <div class="blob-num blame-blob-num color-bg-subtle js-line-number" id="L1326">1326</div>
                  <div class="blob-code blob-code-inner js-file-line" id="LC1326">              <span class="pl-s"><span class="pl-pds">&quot;</span>week                         0<span class="pl-cce">\n</span><span class="pl-pds">&quot;</span></span>,</div>
                </div>
                <div class="d-flex flex-justify-start flex-items-start">
                  <div class="blob-num blame-blob-num color-bg-subtle js-line-number" id="L1327">1327</div>
                  <div class="blob-code blob-code-inner js-file-line" id="LC1327">              <span class="pl-s"><span class="pl-pds">&quot;</span>center_id                    0<span class="pl-cce">\n</span><span class="pl-pds">&quot;</span></span>,</div>
                </div>
                <div class="d-flex flex-justify-start flex-items-start">
                  <div class="blob-num blame-blob-num color-bg-subtle js-line-number" id="L1328">1328</div>
                  <div class="blob-code blob-code-inner js-file-line" id="LC1328">              <span class="pl-s"><span class="pl-pds">&quot;</span>meal_id                      0<span class="pl-cce">\n</span><span class="pl-pds">&quot;</span></span>,</div>
                </div>
                <div class="d-flex flex-justify-start flex-items-start">
                  <div class="blob-num blame-blob-num color-bg-subtle js-line-number" id="L1329">1329</div>
                  <div class="blob-code blob-code-inner js-file-line" id="LC1329">              <span class="pl-s"><span class="pl-pds">&quot;</span>checkout_price               0<span class="pl-cce">\n</span><span class="pl-pds">&quot;</span></span>,</div>
                </div>
                <div class="d-flex flex-justify-start flex-items-start">
                  <div class="blob-num blame-blob-num color-bg-subtle js-line-number" id="L1330">1330</div>
                  <div class="blob-code blob-code-inner js-file-line" id="LC1330">              <span class="pl-s"><span class="pl-pds">&quot;</span>base_price                   0<span class="pl-cce">\n</span><span class="pl-pds">&quot;</span></span>,</div>
                </div>
                <div class="d-flex flex-justify-start flex-items-start">
                  <div class="blob-num blame-blob-num color-bg-subtle js-line-number" id="L1331">1331</div>
                  <div class="blob-code blob-code-inner js-file-line" id="LC1331">              <span class="pl-s"><span class="pl-pds">&quot;</span>emailer_for_promotion        0<span class="pl-cce">\n</span><span class="pl-pds">&quot;</span></span>,</div>
                </div>
                <div class="d-flex flex-justify-start flex-items-start">
                  <div class="blob-num blame-blob-num color-bg-subtle js-line-number" id="L1332">1332</div>
                  <div class="blob-code blob-code-inner js-file-line" id="LC1332">              <span class="pl-s"><span class="pl-pds">&quot;</span>homepage_featured            0<span class="pl-cce">\n</span><span class="pl-pds">&quot;</span></span>,</div>
                </div>
                <div class="d-flex flex-justify-start flex-items-start">
                  <div class="blob-num blame-blob-num color-bg-subtle js-line-number" id="L1333">1333</div>
                  <div class="blob-code blob-code-inner js-file-line" id="LC1333">              <span class="pl-s"><span class="pl-pds">&quot;</span>num_orders               32573<span class="pl-cce">\n</span><span class="pl-pds">&quot;</span></span>,</div>
                </div>
                <div class="d-flex flex-justify-start flex-items-start">
                  <div class="blob-num blame-blob-num color-bg-subtle js-line-number" id="L1334">1334</div>
                  <div class="blob-code blob-code-inner js-file-line" id="LC1334">              <span class="pl-s"><span class="pl-pds">&quot;</span>city_code                    0<span class="pl-cce">\n</span><span class="pl-pds">&quot;</span></span>,</div>
                </div>
                <div class="d-flex flex-justify-start flex-items-start">
                  <div class="blob-num blame-blob-num color-bg-subtle js-line-number" id="L1335">1335</div>
                  <div class="blob-code blob-code-inner js-file-line" id="LC1335">              <span class="pl-s"><span class="pl-pds">&quot;</span>region_code                  0<span class="pl-cce">\n</span><span class="pl-pds">&quot;</span></span>,</div>
                </div>
                <div class="d-flex flex-justify-start flex-items-start">
                  <div class="blob-num blame-blob-num color-bg-subtle js-line-number" id="L1336">1336</div>
                  <div class="blob-code blob-code-inner js-file-line" id="LC1336">              <span class="pl-s"><span class="pl-pds">&quot;</span>center_type                  0<span class="pl-cce">\n</span><span class="pl-pds">&quot;</span></span>,</div>
                </div>
                <div class="d-flex flex-justify-start flex-items-start">
                  <div class="blob-num blame-blob-num color-bg-subtle js-line-number" id="L1337">1337</div>
                  <div class="blob-code blob-code-inner js-file-line" id="LC1337">              <span class="pl-s"><span class="pl-pds">&quot;</span>op_area                      0<span class="pl-cce">\n</span><span class="pl-pds">&quot;</span></span>,</div>
                </div>
                <div class="d-flex flex-justify-start flex-items-start">
                  <div class="blob-num blame-blob-num color-bg-subtle js-line-number" id="L1338">1338</div>
                  <div class="blob-code blob-code-inner js-file-line" id="LC1338">              <span class="pl-s"><span class="pl-pds">&quot;</span>category                     0<span class="pl-cce">\n</span><span class="pl-pds">&quot;</span></span>,</div>
                </div>
                <div class="d-flex flex-justify-start flex-items-start">
                  <div class="blob-num blame-blob-num color-bg-subtle js-line-number" id="L1339">1339</div>
                  <div class="blob-code blob-code-inner js-file-line" id="LC1339">              <span class="pl-s"><span class="pl-pds">&quot;</span>cuisine                      0<span class="pl-cce">\n</span><span class="pl-pds">&quot;</span></span>,</div>
                </div>
                <div class="d-flex flex-justify-start flex-items-start">
                  <div class="blob-num blame-blob-num color-bg-subtle js-line-number" id="L1340">1340</div>
                  <div class="blob-code blob-code-inner js-file-line" id="LC1340">              <span class="pl-s"><span class="pl-pds">&quot;</span>dtype: int64<span class="pl-pds">&quot;</span></span></div>
                </div>
                <div class="d-flex flex-justify-start flex-items-start">
                  <div class="blob-num blame-blob-num color-bg-subtle js-line-number" id="L1341">1341</div>
                  <div class="blob-code blob-code-inner js-file-line" id="LC1341">            ]</div>
                </div>
                <div class="d-flex flex-justify-start flex-items-start">
                  <div class="blob-num blame-blob-num color-bg-subtle js-line-number" id="L1342">1342</div>
                  <div class="blob-code blob-code-inner js-file-line" id="LC1342">          },</div>
                </div>
                <div class="d-flex flex-justify-start flex-items-start">
                  <div class="blob-num blame-blob-num color-bg-subtle js-line-number" id="L1343">1343</div>
                  <div class="blob-code blob-code-inner js-file-line" id="LC1343">          <span class="pl-ent">&quot;metadata&quot;</span>: {},</div>
                </div>
                <div class="d-flex flex-justify-start flex-items-start">
                  <div class="blob-num blame-blob-num color-bg-subtle js-line-number" id="L1344">1344</div>
                  <div class="blob-code blob-code-inner js-file-line" id="LC1344">          <span class="pl-ent">&quot;execution_count&quot;</span>: <span class="pl-c1">20</span></div>
                </div>
                <div class="d-flex flex-justify-start flex-items-start">
                  <div class="blob-num blame-blob-num color-bg-subtle js-line-number" id="L1345">1345</div>
                  <div class="blob-code blob-code-inner js-file-line" id="LC1345">        }</div>
                </div>
                <div class="d-flex flex-justify-start flex-items-start">
                  <div class="blob-num blame-blob-num color-bg-subtle js-line-number" id="L1346">1346</div>
                  <div class="blob-code blob-code-inner js-file-line" id="LC1346">      ]</div>
                </div>
                <div class="d-flex flex-justify-start flex-items-start">
                  <div class="blob-num blame-blob-num color-bg-subtle js-line-number" id="L1347">1347</div>
                  <div class="blob-code blob-code-inner js-file-line" id="LC1347">    },</div>
                </div>
                <div class="d-flex flex-justify-start flex-items-start">
                  <div class="blob-num blame-blob-num color-bg-subtle js-line-number" id="L1348">1348</div>
                  <div class="blob-code blob-code-inner js-file-line" id="LC1348">    {</div>
                </div>
                <div class="d-flex flex-justify-start flex-items-start">
                  <div class="blob-num blame-blob-num color-bg-subtle js-line-number" id="L1349">1349</div>
                  <div class="blob-code blob-code-inner js-file-line" id="LC1349">      <span class="pl-ent">&quot;cell_type&quot;</span>: <span class="pl-s"><span class="pl-pds">&quot;</span>markdown<span class="pl-pds">&quot;</span></span>,</div>
                </div>
                <div class="d-flex flex-justify-start flex-items-start">
                  <div class="blob-num blame-blob-num color-bg-subtle js-line-number" id="L1350">1350</div>
                  <div class="blob-code blob-code-inner js-file-line" id="LC1350">      <span class="pl-ent">&quot;source&quot;</span>: [</div>
                </div>
                <div class="d-flex flex-justify-start flex-items-start">
                  <div class="blob-num blame-blob-num color-bg-subtle js-line-number" id="L1351">1351</div>
                  <div class="blob-code blob-code-inner js-file-line" id="LC1351">        <span class="pl-s"><span class="pl-pds">&quot;</span>DATA EXPLORATION<span class="pl-cce">\n</span><span class="pl-pds">&quot;</span></span></div>
                </div>
                <div class="d-flex flex-justify-start flex-items-start">
                  <div class="blob-num blame-blob-num color-bg-subtle js-line-number" id="L1352">1352</div>
                  <div class="blob-code blob-code-inner js-file-line" id="LC1352">      ],</div>
                </div>
                <div class="d-flex flex-justify-start flex-items-start">
                  <div class="blob-num blame-blob-num color-bg-subtle js-line-number" id="L1353">1353</div>
                  <div class="blob-code blob-code-inner js-file-line" id="LC1353">      <span class="pl-ent">&quot;metadata&quot;</span>: {</div>
                </div>
                <div class="d-flex flex-justify-start flex-items-start">
                  <div class="blob-num blame-blob-num color-bg-subtle js-line-number" id="L1354">1354</div>
                  <div class="blob-code blob-code-inner js-file-line" id="LC1354">        <span class="pl-ent">&quot;id&quot;</span>: <span class="pl-s"><span class="pl-pds">&quot;</span>ut5ur1yr9xTF<span class="pl-pds">&quot;</span></span></div>
                </div>
                <div class="d-flex flex-justify-start flex-items-start">
                  <div class="blob-num blame-blob-num color-bg-subtle js-line-number" id="L1355">1355</div>
                  <div class="blob-code blob-code-inner js-file-line" id="LC1355">      }</div>
                </div>
                <div class="d-flex flex-justify-start flex-items-start">
                  <div class="blob-num blame-blob-num color-bg-subtle js-line-number" id="L1356">1356</div>
                  <div class="blob-code blob-code-inner js-file-line" id="LC1356">    },</div>
                </div>
                <div class="d-flex flex-justify-start flex-items-start">
                  <div class="blob-num blame-blob-num color-bg-subtle js-line-number" id="L1357">1357</div>
                  <div class="blob-code blob-code-inner js-file-line" id="LC1357">    {</div>
                </div>
                <div class="d-flex flex-justify-start flex-items-start">
                  <div class="blob-num blame-blob-num color-bg-subtle js-line-number" id="L1358">1358</div>
                  <div class="blob-code blob-code-inner js-file-line" id="LC1358">      <span class="pl-ent">&quot;cell_type&quot;</span>: <span class="pl-s"><span class="pl-pds">&quot;</span>code<span class="pl-pds">&quot;</span></span>,</div>
                </div>
                <div class="d-flex flex-justify-start flex-items-start">
                  <div class="blob-num blame-blob-num color-bg-subtle js-line-number" id="L1359">1359</div>
                  <div class="blob-code blob-code-inner js-file-line" id="LC1359">      <span class="pl-ent">&quot;source&quot;</span>: [</div>
                </div>
                <div class="d-flex flex-justify-start flex-items-start">
                  <div class="blob-num blame-blob-num color-bg-subtle js-line-number" id="L1360">1360</div>
                  <div class="blob-code blob-code-inner js-file-line" id="LC1360">        <span class="pl-s"><span class="pl-pds">&quot;</span>train_cat = train[[&#39;center_id&#39;,&#39;meal_id&#39;,&#39;emailer_for_promotion&#39;,&#39;homepage_featured&#39;]]<span class="pl-cce">\n</span><span class="pl-pds">&quot;</span></span>,</div>
                </div>
                <div class="d-flex flex-justify-start flex-items-start">
                  <div class="blob-num blame-blob-num color-bg-subtle js-line-number" id="L1361">1361</div>
                  <div class="blob-code blob-code-inner js-file-line" id="LC1361">        <span class="pl-s"><span class="pl-pds">&quot;</span>train_num = train[[&#39;week&#39;,&#39;checkout_price&#39;]]<span class="pl-pds">&quot;</span></span></div>
                </div>
                <div class="d-flex flex-justify-start flex-items-start">
                  <div class="blob-num blame-blob-num color-bg-subtle js-line-number" id="L1362">1362</div>
                  <div class="blob-code blob-code-inner js-file-line" id="LC1362">      ],</div>
                </div>
                <div class="d-flex flex-justify-start flex-items-start">
                  <div class="blob-num blame-blob-num color-bg-subtle js-line-number" id="L1363">1363</div>
                  <div class="blob-code blob-code-inner js-file-line" id="LC1363">      <span class="pl-ent">&quot;metadata&quot;</span>: {</div>
                </div>
                <div class="d-flex flex-justify-start flex-items-start">
                  <div class="blob-num blame-blob-num color-bg-subtle js-line-number" id="L1364">1364</div>
                  <div class="blob-code blob-code-inner js-file-line" id="LC1364">        <span class="pl-ent">&quot;id&quot;</span>: <span class="pl-s"><span class="pl-pds">&quot;</span>gmhxCO659Wg2<span class="pl-pds">&quot;</span></span></div>
                </div>
                <div class="d-flex flex-justify-start flex-items-start">
                  <div class="blob-num blame-blob-num color-bg-subtle js-line-number" id="L1365">1365</div>
                  <div class="blob-code blob-code-inner js-file-line" id="LC1365">      },</div>
                </div>
                <div class="d-flex flex-justify-start flex-items-start">
                  <div class="blob-num blame-blob-num color-bg-subtle js-line-number" id="L1366">1366</div>
                  <div class="blob-code blob-code-inner js-file-line" id="LC1366">      <span class="pl-ent">&quot;execution_count&quot;</span>: <span class="pl-c1">21</span>,</div>
                </div>
                <div class="d-flex flex-justify-start flex-items-start">
                  <div class="blob-num blame-blob-num color-bg-subtle js-line-number" id="L1367">1367</div>
                  <div class="blob-code blob-code-inner js-file-line" id="LC1367">      <span class="pl-ent">&quot;outputs&quot;</span>: []</div>
                </div>
                <div class="d-flex flex-justify-start flex-items-start">
                  <div class="blob-num blame-blob-num color-bg-subtle js-line-number" id="L1368">1368</div>
                  <div class="blob-code blob-code-inner js-file-line" id="LC1368">    },</div>
                </div>
                <div class="d-flex flex-justify-start flex-items-start">
                  <div class="blob-num blame-blob-num color-bg-subtle js-line-number" id="L1369">1369</div>
                  <div class="blob-code blob-code-inner js-file-line" id="LC1369">    {</div>
                </div>
                <div class="d-flex flex-justify-start flex-items-start">
                  <div class="blob-num blame-blob-num color-bg-subtle js-line-number" id="L1370">1370</div>
                  <div class="blob-code blob-code-inner js-file-line" id="LC1370">      <span class="pl-ent">&quot;cell_type&quot;</span>: <span class="pl-s"><span class="pl-pds">&quot;</span>code<span class="pl-pds">&quot;</span></span>,</div>
                </div>
                <div class="d-flex flex-justify-start flex-items-start">
                  <div class="blob-num blame-blob-num color-bg-subtle js-line-number" id="L1371">1371</div>
                  <div class="blob-code blob-code-inner js-file-line" id="LC1371">      <span class="pl-ent">&quot;source&quot;</span>: [</div>
                </div>
                <div class="d-flex flex-justify-start flex-items-start">
                  <div class="blob-num blame-blob-num color-bg-subtle js-line-number" id="L1372">1372</div>
                  <div class="blob-code blob-code-inner js-file-line" id="LC1372">        <span class="pl-s"><span class="pl-pds">&quot;</span>for i in train_num.columns:<span class="pl-cce">\n</span><span class="pl-pds">&quot;</span></span>,</div>
                </div>
                <div class="d-flex flex-justify-start flex-items-start">
                  <div class="blob-num blame-blob-num color-bg-subtle js-line-number" id="L1373">1373</div>
                  <div class="blob-code blob-code-inner js-file-line" id="LC1373">        <span class="pl-s"><span class="pl-pds">&quot;</span>    plt.hist(train_num[i])<span class="pl-cce">\n</span><span class="pl-pds">&quot;</span></span>,</div>
                </div>
                <div class="d-flex flex-justify-start flex-items-start">
                  <div class="blob-num blame-blob-num color-bg-subtle js-line-number" id="L1374">1374</div>
                  <div class="blob-code blob-code-inner js-file-line" id="LC1374">        <span class="pl-s"><span class="pl-pds">&quot;</span>    plt.title(i)<span class="pl-cce">\n</span><span class="pl-pds">&quot;</span></span>,</div>
                </div>
                <div class="d-flex flex-justify-start flex-items-start">
                  <div class="blob-num blame-blob-num color-bg-subtle js-line-number" id="L1375">1375</div>
                  <div class="blob-code blob-code-inner js-file-line" id="LC1375">        <span class="pl-s"><span class="pl-pds">&quot;</span>    plt.show()<span class="pl-pds">&quot;</span></span></div>
                </div>
                <div class="d-flex flex-justify-start flex-items-start">
                  <div class="blob-num blame-blob-num color-bg-subtle js-line-number" id="L1376">1376</div>
                  <div class="blob-code blob-code-inner js-file-line" id="LC1376">      ],</div>
                </div>
                <div class="d-flex flex-justify-start flex-items-start">
                  <div class="blob-num blame-blob-num color-bg-subtle js-line-number" id="L1377">1377</div>
                  <div class="blob-code blob-code-inner js-file-line" id="LC1377">      <span class="pl-ent">&quot;metadata&quot;</span>: {</div>
                </div>
                <div class="d-flex flex-justify-start flex-items-start">
                  <div class="blob-num blame-blob-num color-bg-subtle js-line-number" id="L1378">1378</div>
                  <div class="blob-code blob-code-inner js-file-line" id="LC1378">        <span class="pl-ent">&quot;colab&quot;</span>: {</div>
                </div>
                <div class="d-flex flex-justify-start flex-items-start">
                  <div class="blob-num blame-blob-num color-bg-subtle js-line-number" id="L1379">1379</div>
                  <div class="blob-code blob-code-inner js-file-line" id="LC1379">          <span class="pl-ent">&quot;base_uri&quot;</span>: <span class="pl-s"><span class="pl-pds">&quot;</span>https://localhost:8080/<span class="pl-pds">&quot;</span></span>,</div>
                </div>
                <div class="d-flex flex-justify-start flex-items-start">
                  <div class="blob-num blame-blob-num color-bg-subtle js-line-number" id="L1380">1380</div>
                  <div class="blob-code blob-code-inner js-file-line" id="LC1380">          <span class="pl-ent">&quot;height&quot;</span>: <span class="pl-c1">545</span></div>
                </div>
                <div class="d-flex flex-justify-start flex-items-start">
                  <div class="blob-num blame-blob-num color-bg-subtle js-line-number" id="L1381">1381</div>
                  <div class="blob-code blob-code-inner js-file-line" id="LC1381">        },</div>
                </div>
                <div class="d-flex flex-justify-start flex-items-start">
                  <div class="blob-num blame-blob-num color-bg-subtle js-line-number" id="L1382">1382</div>
                  <div class="blob-code blob-code-inner js-file-line" id="LC1382">        <span class="pl-ent">&quot;id&quot;</span>: <span class="pl-s"><span class="pl-pds">&quot;</span>Fa5J1jB89ZmP<span class="pl-pds">&quot;</span></span>,</div>
                </div>
                <div class="d-flex flex-justify-start flex-items-start">
                  <div class="blob-num blame-blob-num color-bg-subtle js-line-number" id="L1383">1383</div>
                  <div class="blob-code blob-code-inner js-file-line" id="LC1383">        <span class="pl-ent">&quot;outputId&quot;</span>: <span class="pl-s"><span class="pl-pds">&quot;</span>48a2220d-6345-4ec1-9e5c-dd937befbda3<span class="pl-pds">&quot;</span></span></div>
                </div>
                <div class="d-flex flex-justify-start flex-items-start">
                  <div class="blob-num blame-blob-num color-bg-subtle js-line-number" id="L1384">1384</div>
                  <div class="blob-code blob-code-inner js-file-line" id="LC1384">      },</div>
                </div>
                <div class="d-flex flex-justify-start flex-items-start">
                  <div class="blob-num blame-blob-num color-bg-subtle js-line-number" id="L1385">1385</div>
                  <div class="blob-code blob-code-inner js-file-line" id="LC1385">      <span class="pl-ent">&quot;execution_count&quot;</span>: <span class="pl-c1">22</span>,</div>
                </div>
                <div class="d-flex flex-justify-start flex-items-start">
                  <div class="blob-num blame-blob-num color-bg-subtle js-line-number" id="L1386">1386</div>
                  <div class="blob-code blob-code-inner js-file-line" id="LC1386">      <span class="pl-ent">&quot;outputs&quot;</span>: [</div>
                </div>
                <div class="d-flex flex-justify-start flex-items-start">
                  <div class="blob-num blame-blob-num color-bg-subtle js-line-number" id="L1387">1387</div>
                  <div class="blob-code blob-code-inner js-file-line" id="LC1387">        {</div>
                </div>
                <div class="d-flex flex-justify-start flex-items-start">
                  <div class="blob-num blame-blob-num color-bg-subtle js-line-number" id="L1388">1388</div>
                  <div class="blob-code blob-code-inner js-file-line" id="LC1388">          <span class="pl-ent">&quot;output_type&quot;</span>: <span class="pl-s"><span class="pl-pds">&quot;</span>display_data<span class="pl-pds">&quot;</span></span>,</div>
                </div>
                <div class="d-flex flex-justify-start flex-items-start">
                  <div class="blob-num blame-blob-num color-bg-subtle js-line-number" id="L1389">1389</div>
                  <div class="blob-code blob-code-inner js-file-line" id="LC1389">          <span class="pl-ent">&quot;data&quot;</span>: {</div>
                </div>
                <div class="d-flex flex-justify-start flex-items-start">
                  <div class="blob-num blame-blob-num color-bg-subtle js-line-number" id="L1390">1390</div>
                  <div class="blob-code blob-code-inner js-file-line" id="LC1390">            <span class="pl-ent">&quot;text/plain&quot;</span>: [</div>
                </div>
                <div class="d-flex flex-justify-start flex-items-start">
                  <div class="blob-num blame-blob-num color-bg-subtle js-line-number" id="L1391">1391</div>
                  <div class="blob-code blob-code-inner js-file-line" id="LC1391">              <span class="pl-s"><span class="pl-pds">&quot;</span>&lt;Figure size 432x288 with 1 Axes&gt;<span class="pl-pds">&quot;</span></span></div>
                </div>
                <div class="d-flex flex-justify-start flex-items-start">
                  <div class="blob-num blame-blob-num color-bg-subtle js-line-number" id="L1392">1392</div>
                  <div class="blob-code blob-code-inner js-file-line" id="LC1392">            ],</div>
                </div>
                <div class="d-flex flex-justify-start flex-items-start">
                  <div class="blob-num blame-blob-num color-bg-subtle js-line-number" id="L1393">1393</div>
                  <div class="blob-code blob-code-inner js-file-line" id="LC1393">            &quot;image/png&quot;: &quot;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\n&quot;</div>
                </div>
                <div class="d-flex flex-justify-start flex-items-start">
                  <div class="blob-num blame-blob-num color-bg-subtle js-line-number" id="L1394">1394</div>
                  <div class="blob-code blob-code-inner js-file-line" id="LC1394">          },</div>
                </div>
                <div class="d-flex flex-justify-start flex-items-start">
                  <div class="blob-num blame-blob-num color-bg-subtle js-line-number" id="L1395">1395</div>
                  <div class="blob-code blob-code-inner js-file-line" id="LC1395">          <span class="pl-ent">&quot;metadata&quot;</span>: {</div>
                </div>
                <div class="d-flex flex-justify-start flex-items-start">
                  <div class="blob-num blame-blob-num color-bg-subtle js-line-number" id="L1396">1396</div>
                  <div class="blob-code blob-code-inner js-file-line" id="LC1396">            <span class="pl-ent">&quot;needs_background&quot;</span>: <span class="pl-s"><span class="pl-pds">&quot;</span>light<span class="pl-pds">&quot;</span></span></div>
                </div>
                <div class="d-flex flex-justify-start flex-items-start">
                  <div class="blob-num blame-blob-num color-bg-subtle js-line-number" id="L1397">1397</div>
                  <div class="blob-code blob-code-inner js-file-line" id="LC1397">          }</div>
                </div>
                <div class="d-flex flex-justify-start flex-items-start">
                  <div class="blob-num blame-blob-num color-bg-subtle js-line-number" id="L1398">1398</div>
                  <div class="blob-code blob-code-inner js-file-line" id="LC1398">        },</div>
                </div>
                <div class="d-flex flex-justify-start flex-items-start">
                  <div class="blob-num blame-blob-num color-bg-subtle js-line-number" id="L1399">1399</div>
                  <div class="blob-code blob-code-inner js-file-line" id="LC1399">        {</div>
                </div>
                <div class="d-flex flex-justify-start flex-items-start">
                  <div class="blob-num blame-blob-num color-bg-subtle js-line-number" id="L1400">1400</div>
                  <div class="blob-code blob-code-inner js-file-line" id="LC1400">          <span class="pl-ent">&quot;output_type&quot;</span>: <span class="pl-s"><span class="pl-pds">&quot;</span>display_data<span class="pl-pds">&quot;</span></span>,</div>
                </div>
                <div class="d-flex flex-justify-start flex-items-start">
                  <div class="blob-num blame-blob-num color-bg-subtle js-line-number" id="L1401">1401</div>
                  <div class="blob-code blob-code-inner js-file-line" id="LC1401">          <span class="pl-ent">&quot;data&quot;</span>: {</div>
                </div>
                <div class="d-flex flex-justify-start flex-items-start">
                  <div class="blob-num blame-blob-num color-bg-subtle js-line-number" id="L1402">1402</div>
                  <div class="blob-code blob-code-inner js-file-line" id="LC1402">            <span class="pl-ent">&quot;text/plain&quot;</span>: [</div>
                </div>
                <div class="d-flex flex-justify-start flex-items-start">
                  <div class="blob-num blame-blob-num color-bg-subtle js-line-number" id="L1403">1403</div>
                  <div class="blob-code blob-code-inner js-file-line" id="LC1403">              <span class="pl-s"><span class="pl-pds">&quot;</span>&lt;Figure size 432x288 with 1 Axes&gt;<span class="pl-pds">&quot;</span></span></div>
                </div>
                <div class="d-flex flex-justify-start flex-items-start">
                  <div class="blob-num blame-blob-num color-bg-subtle js-line-number" id="L1404">1404</div>
                  <div class="blob-code blob-code-inner js-file-line" id="LC1404">            ],</div>
                </div>
                <div class="d-flex flex-justify-start flex-items-start">
                  <div class="blob-num blame-blob-num color-bg-subtle js-line-number" id="L1405">1405</div>
                  <div class="blob-code blob-code-inner js-file-line" id="LC1405">            &quot;image/png&quot;: &quot;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\n&quot;</div>
                </div>
                <div class="d-flex flex-justify-start flex-items-start">
                  <div class="blob-num blame-blob-num color-bg-subtle js-line-number" id="L1406">1406</div>
                  <div class="blob-code blob-code-inner js-file-line" id="LC1406">          },</div>
                </div>
                <div class="d-flex flex-justify-start flex-items-start">
                  <div class="blob-num blame-blob-num color-bg-subtle js-line-number" id="L1407">1407</div>
                  <div class="blob-code blob-code-inner js-file-line" id="LC1407">          <span class="pl-ent">&quot;metadata&quot;</span>: {</div>
                </div>
                <div class="d-flex flex-justify-start flex-items-start">
                  <div class="blob-num blame-blob-num color-bg-subtle js-line-number" id="L1408">1408</div>
                  <div class="blob-code blob-code-inner js-file-line" id="LC1408">            <span class="pl-ent">&quot;needs_background&quot;</span>: <span class="pl-s"><span class="pl-pds">&quot;</span>light<span class="pl-pds">&quot;</span></span></div>
                </div>
                <div class="d-flex flex-justify-start flex-items-start">
                  <div class="blob-num blame-blob-num color-bg-subtle js-line-number" id="L1409">1409</div>
                  <div class="blob-code blob-code-inner js-file-line" id="LC1409">          }</div>
                </div>
                <div class="d-flex flex-justify-start flex-items-start">
                  <div class="blob-num blame-blob-num color-bg-subtle js-line-number" id="L1410">1410</div>
                  <div class="blob-code blob-code-inner js-file-line" id="LC1410">        }</div>
                </div>
                <div class="d-flex flex-justify-start flex-items-start">
                  <div class="blob-num blame-blob-num color-bg-subtle js-line-number" id="L1411">1411</div>
                  <div class="blob-code blob-code-inner js-file-line" id="LC1411">      ]</div>
                </div>
                <div class="d-flex flex-justify-start flex-items-start">
                  <div class="blob-num blame-blob-num color-bg-subtle js-line-number" id="L1412">1412</div>
                  <div class="blob-code blob-code-inner js-file-line" id="LC1412">    },</div>
                </div>
                <div class="d-flex flex-justify-start flex-items-start">
                  <div class="blob-num blame-blob-num color-bg-subtle js-line-number" id="L1413">1413</div>
                  <div class="blob-code blob-code-inner js-file-line" id="LC1413">    {</div>
                </div>
                <div class="d-flex flex-justify-start flex-items-start">
                  <div class="blob-num blame-blob-num color-bg-subtle js-line-number" id="L1414">1414</div>
                  <div class="blob-code blob-code-inner js-file-line" id="LC1414">      <span class="pl-ent">&quot;cell_type&quot;</span>: <span class="pl-s"><span class="pl-pds">&quot;</span>code<span class="pl-pds">&quot;</span></span>,</div>
                </div>
                <div class="d-flex flex-justify-start flex-items-start">
                  <div class="blob-num blame-blob-num color-bg-subtle js-line-number" id="L1415">1415</div>
                  <div class="blob-code blob-code-inner js-file-line" id="LC1415">      <span class="pl-ent">&quot;source&quot;</span>: [</div>
                </div>
                <div class="d-flex flex-justify-start flex-items-start">
                  <div class="blob-num blame-blob-num color-bg-subtle js-line-number" id="L1416">1416</div>
                  <div class="blob-code blob-code-inner js-file-line" id="LC1416">        <span class="pl-s"><span class="pl-pds">&quot;</span>sns.heatmap(train_num.corr())<span class="pl-pds">&quot;</span></span></div>
                </div>
                <div class="d-flex flex-justify-start flex-items-start">
                  <div class="blob-num blame-blob-num color-bg-subtle js-line-number" id="L1417">1417</div>
                  <div class="blob-code blob-code-inner js-file-line" id="LC1417">      ],</div>
                </div>
                <div class="d-flex flex-justify-start flex-items-start">
                  <div class="blob-num blame-blob-num color-bg-subtle js-line-number" id="L1418">1418</div>
                  <div class="blob-code blob-code-inner js-file-line" id="LC1418">      <span class="pl-ent">&quot;metadata&quot;</span>: {</div>
                </div>
                <div class="d-flex flex-justify-start flex-items-start">
                  <div class="blob-num blame-blob-num color-bg-subtle js-line-number" id="L1419">1419</div>
                  <div class="blob-code blob-code-inner js-file-line" id="LC1419">        <span class="pl-ent">&quot;colab&quot;</span>: {</div>
                </div>
                <div class="d-flex flex-justify-start flex-items-start">
                  <div class="blob-num blame-blob-num color-bg-subtle js-line-number" id="L1420">1420</div>
                  <div class="blob-code blob-code-inner js-file-line" id="LC1420">          <span class="pl-ent">&quot;base_uri&quot;</span>: <span class="pl-s"><span class="pl-pds">&quot;</span>https://localhost:8080/<span class="pl-pds">&quot;</span></span>,</div>
                </div>
                <div class="d-flex flex-justify-start flex-items-start">
                  <div class="blob-num blame-blob-num color-bg-subtle js-line-number" id="L1421">1421</div>
                  <div class="blob-code blob-code-inner js-file-line" id="LC1421">          <span class="pl-ent">&quot;height&quot;</span>: <span class="pl-c1">287</span></div>
                </div>
                <div class="d-flex flex-justify-start flex-items-start">
                  <div class="blob-num blame-blob-num color-bg-subtle js-line-number" id="L1422">1422</div>
                  <div class="blob-code blob-code-inner js-file-line" id="LC1422">        },</div>
                </div>
                <div class="d-flex flex-justify-start flex-items-start">
                  <div class="blob-num blame-blob-num color-bg-subtle js-line-number" id="L1423">1423</div>
                  <div class="blob-code blob-code-inner js-file-line" id="LC1423">        <span class="pl-ent">&quot;id&quot;</span>: <span class="pl-s"><span class="pl-pds">&quot;</span>2vGBgyUk9dI-<span class="pl-pds">&quot;</span></span>,</div>
                </div>
                <div class="d-flex flex-justify-start flex-items-start">
                  <div class="blob-num blame-blob-num color-bg-subtle js-line-number" id="L1424">1424</div>
                  <div class="blob-code blob-code-inner js-file-line" id="LC1424">        <span class="pl-ent">&quot;outputId&quot;</span>: <span class="pl-s"><span class="pl-pds">&quot;</span>0618fd22-67a8-49fe-c575-b06fc81b2d7e<span class="pl-pds">&quot;</span></span></div>
                </div>
                <div class="d-flex flex-justify-start flex-items-start">
                  <div class="blob-num blame-blob-num color-bg-subtle js-line-number" id="L1425">1425</div>
                  <div class="blob-code blob-code-inner js-file-line" id="LC1425">      },</div>
                </div>
                <div class="d-flex flex-justify-start flex-items-start">
                  <div class="blob-num blame-blob-num color-bg-subtle js-line-number" id="L1426">1426</div>
                  <div class="blob-code blob-code-inner js-file-line" id="LC1426">      <span class="pl-ent">&quot;execution_count&quot;</span>: <span class="pl-c1">23</span>,</div>
                </div>
                <div class="d-flex flex-justify-start flex-items-start">
                  <div class="blob-num blame-blob-num color-bg-subtle js-line-number" id="L1427">1427</div>
                  <div class="blob-code blob-code-inner js-file-line" id="LC1427">      <span class="pl-ent">&quot;outputs&quot;</span>: [</div>
                </div>
                <div class="d-flex flex-justify-start flex-items-start">
                  <div class="blob-num blame-blob-num color-bg-subtle js-line-number" id="L1428">1428</div>
                  <div class="blob-code blob-code-inner js-file-line" id="LC1428">        {</div>
                </div>
                <div class="d-flex flex-justify-start flex-items-start">
                  <div class="blob-num blame-blob-num color-bg-subtle js-line-number" id="L1429">1429</div>
                  <div class="blob-code blob-code-inner js-file-line" id="LC1429">          <span class="pl-ent">&quot;output_type&quot;</span>: <span class="pl-s"><span class="pl-pds">&quot;</span>execute_result<span class="pl-pds">&quot;</span></span>,</div>
                </div>
                <div class="d-flex flex-justify-start flex-items-start">
                  <div class="blob-num blame-blob-num color-bg-subtle js-line-number" id="L1430">1430</div>
                  <div class="blob-code blob-code-inner js-file-line" id="LC1430">          <span class="pl-ent">&quot;data&quot;</span>: {</div>
                </div>
                <div class="d-flex flex-justify-start flex-items-start">
                  <div class="blob-num blame-blob-num color-bg-subtle js-line-number" id="L1431">1431</div>
                  <div class="blob-code blob-code-inner js-file-line" id="LC1431">            <span class="pl-ent">&quot;text/plain&quot;</span>: [</div>
                </div>
                <div class="d-flex flex-justify-start flex-items-start">
                  <div class="blob-num blame-blob-num color-bg-subtle js-line-number" id="L1432">1432</div>
                  <div class="blob-code blob-code-inner js-file-line" id="LC1432">              <span class="pl-s"><span class="pl-pds">&quot;</span>&lt;matplotlib.axes._subplots.AxesSubplot at 0x7fb02e9920d0&gt;<span class="pl-pds">&quot;</span></span></div>
                </div>
                <div class="d-flex flex-justify-start flex-items-start">
                  <div class="blob-num blame-blob-num color-bg-subtle js-line-number" id="L1433">1433</div>
                  <div class="blob-code blob-code-inner js-file-line" id="LC1433">            ]</div>
                </div>
                <div class="d-flex flex-justify-start flex-items-start">
                  <div class="blob-num blame-blob-num color-bg-subtle js-line-number" id="L1434">1434</div>
                  <div class="blob-code blob-code-inner js-file-line" id="LC1434">          },</div>
                </div>
                <div class="d-flex flex-justify-start flex-items-start">
                  <div class="blob-num blame-blob-num color-bg-subtle js-line-number" id="L1435">1435</div>
                  <div class="blob-code blob-code-inner js-file-line" id="LC1435">          <span class="pl-ent">&quot;metadata&quot;</span>: {},</div>
                </div>
                <div class="d-flex flex-justify-start flex-items-start">
                  <div class="blob-num blame-blob-num color-bg-subtle js-line-number" id="L1436">1436</div>
                  <div class="blob-code blob-code-inner js-file-line" id="LC1436">          <span class="pl-ent">&quot;execution_count&quot;</span>: <span class="pl-c1">23</span></div>
                </div>
                <div class="d-flex flex-justify-start flex-items-start">
                  <div class="blob-num blame-blob-num color-bg-subtle js-line-number" id="L1437">1437</div>
                  <div class="blob-code blob-code-inner js-file-line" id="LC1437">        },</div>
                </div>
                <div class="d-flex flex-justify-start flex-items-start">
                  <div class="blob-num blame-blob-num color-bg-subtle js-line-number" id="L1438">1438</div>
                  <div class="blob-code blob-code-inner js-file-line" id="LC1438">        {</div>
                </div>
                <div class="d-flex flex-justify-start flex-items-start">
                  <div class="blob-num blame-blob-num color-bg-subtle js-line-number" id="L1439">1439</div>
                  <div class="blob-code blob-code-inner js-file-line" id="LC1439">          <span class="pl-ent">&quot;output_type&quot;</span>: <span class="pl-s"><span class="pl-pds">&quot;</span>display_data<span class="pl-pds">&quot;</span></span>,</div>
                </div>
                <div class="d-flex flex-justify-start flex-items-start">
                  <div class="blob-num blame-blob-num color-bg-subtle js-line-number" id="L1440">1440</div>
                  <div class="blob-code blob-code-inner js-file-line" id="LC1440">          <span class="pl-ent">&quot;data&quot;</span>: {</div>
                </div>
                <div class="d-flex flex-justify-start flex-items-start">
                  <div class="blob-num blame-blob-num color-bg-subtle js-line-number" id="L1441">1441</div>
                  <div class="blob-code blob-code-inner js-file-line" id="LC1441">            <span class="pl-ent">&quot;text/plain&quot;</span>: [</div>
                </div>
                <div class="d-flex flex-justify-start flex-items-start">
                  <div class="blob-num blame-blob-num color-bg-subtle js-line-number" id="L1442">1442</div>
                  <div class="blob-code blob-code-inner js-file-line" id="LC1442">              <span class="pl-s"><span class="pl-pds">&quot;</span>&lt;Figure size 432x288 with 2 Axes&gt;<span class="pl-pds">&quot;</span></span></div>
                </div>
                <div class="d-flex flex-justify-start flex-items-start">
                  <div class="blob-num blame-blob-num color-bg-subtle js-line-number" id="L1443">1443</div>
                  <div class="blob-code blob-code-inner js-file-line" id="LC1443">            ],</div>
                </div>
                <div class="d-flex flex-justify-start flex-items-start">
                  <div class="blob-num blame-blob-num color-bg-subtle js-line-number" id="L1444">1444</div>
                  <div class="blob-code blob-code-inner js-file-line" id="LC1444">            &quot;image/png&quot;: &quot;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\n&quot;</div>
                </div>
                <div class="d-flex flex-justify-start flex-items-start">
                  <div class="blob-num blame-blob-num color-bg-subtle js-line-number" id="L1445">1445</div>
                  <div class="blob-code blob-code-inner js-file-line" id="LC1445">          },</div>
                </div>
                <div class="d-flex flex-justify-start flex-items-start">
                  <div class="blob-num blame-blob-num color-bg-subtle js-line-number" id="L1446">1446</div>
                  <div class="blob-code blob-code-inner js-file-line" id="LC1446">          <span class="pl-ent">&quot;metadata&quot;</span>: {</div>
                </div>
                <div class="d-flex flex-justify-start flex-items-start">
                  <div class="blob-num blame-blob-num color-bg-subtle js-line-number" id="L1447">1447</div>
                  <div class="blob-code blob-code-inner js-file-line" id="LC1447">            <span class="pl-ent">&quot;needs_background&quot;</span>: <span class="pl-s"><span class="pl-pds">&quot;</span>light<span class="pl-pds">&quot;</span></span></div>
                </div>
                <div class="d-flex flex-justify-start flex-items-start">
                  <div class="blob-num blame-blob-num color-bg-subtle js-line-number" id="L1448">1448</div>
                  <div class="blob-code blob-code-inner js-file-line" id="LC1448">          }</div>
                </div>
                <div class="d-flex flex-justify-start flex-items-start">
                  <div class="blob-num blame-blob-num color-bg-subtle js-line-number" id="L1449">1449</div>
                  <div class="blob-code blob-code-inner js-file-line" id="LC1449">        }</div>
                </div>
                <div class="d-flex flex-justify-start flex-items-start">
                  <div class="blob-num blame-blob-num color-bg-subtle js-line-number" id="L1450">1450</div>
                  <div class="blob-code blob-code-inner js-file-line" id="LC1450">      ]</div>
                </div>
                <div class="d-flex flex-justify-start flex-items-start">
                  <div class="blob-num blame-blob-num color-bg-subtle js-line-number" id="L1451">1451</div>
                  <div class="blob-code blob-code-inner js-file-line" id="LC1451">    },</div>
                </div>
                <div class="d-flex flex-justify-start flex-items-start">
                  <div class="blob-num blame-blob-num color-bg-subtle js-line-number" id="L1452">1452</div>
                  <div class="blob-code blob-code-inner js-file-line" id="LC1452">    {</div>
                </div>
                <div class="d-flex flex-justify-start flex-items-start">
                  <div class="blob-num blame-blob-num color-bg-subtle js-line-number" id="L1453">1453</div>
                  <div class="blob-code blob-code-inner js-file-line" id="LC1453">      <span class="pl-ent">&quot;cell_type&quot;</span>: <span class="pl-s"><span class="pl-pds">&quot;</span>code<span class="pl-pds">&quot;</span></span>,</div>
                </div>
                <div class="d-flex flex-justify-start flex-items-start">
                  <div class="blob-num blame-blob-num color-bg-subtle js-line-number" id="L1454">1454</div>
                  <div class="blob-code blob-code-inner js-file-line" id="LC1454">      <span class="pl-ent">&quot;source&quot;</span>: [</div>
                </div>
                <div class="d-flex flex-justify-start flex-items-start">
                  <div class="blob-num blame-blob-num color-bg-subtle js-line-number" id="L1455">1455</div>
                  <div class="blob-code blob-code-inner js-file-line" id="LC1455">        <span class="pl-s"><span class="pl-pds">&quot;</span>for i in train_cat.columns:<span class="pl-cce">\n</span><span class="pl-pds">&quot;</span></span>,</div>
                </div>
                <div class="d-flex flex-justify-start flex-items-start">
                  <div class="blob-num blame-blob-num color-bg-subtle js-line-number" id="L1456">1456</div>
                  <div class="blob-code blob-code-inner js-file-line" id="LC1456">        <span class="pl-s"><span class="pl-pds">&quot;</span>    plt.xticks(rotation=90)<span class="pl-cce">\n</span><span class="pl-pds">&quot;</span></span>,</div>
                </div>
                <div class="d-flex flex-justify-start flex-items-start">
                  <div class="blob-num blame-blob-num color-bg-subtle js-line-number" id="L1457">1457</div>
                  <div class="blob-code blob-code-inner js-file-line" id="LC1457">        <span class="pl-s"><span class="pl-pds">&quot;</span>    sns.barplot(train_cat[i].value_counts().index,train_cat[i].value_counts()).set_title(i)<span class="pl-cce">\n</span><span class="pl-pds">&quot;</span></span>,</div>
                </div>
                <div class="d-flex flex-justify-start flex-items-start">
                  <div class="blob-num blame-blob-num color-bg-subtle js-line-number" id="L1458">1458</div>
                  <div class="blob-code blob-code-inner js-file-line" id="LC1458">        <span class="pl-s"><span class="pl-pds">&quot;</span>    plt.show()<span class="pl-cce">\n</span><span class="pl-pds">&quot;</span></span>,</div>
                </div>
                <div class="d-flex flex-justify-start flex-items-start">
                  <div class="blob-num blame-blob-num color-bg-subtle js-line-number" id="L1459">1459</div>
                  <div class="blob-code blob-code-inner js-file-line" id="LC1459">        <span class="pl-s"><span class="pl-pds">&quot;</span>    <span class="pl-pds">&quot;</span></span></div>
                </div>
                <div class="d-flex flex-justify-start flex-items-start">
                  <div class="blob-num blame-blob-num color-bg-subtle js-line-number" id="L1460">1460</div>
                  <div class="blob-code blob-code-inner js-file-line" id="LC1460">      ],</div>
                </div>
                <div class="d-flex flex-justify-start flex-items-start">
                  <div class="blob-num blame-blob-num color-bg-subtle js-line-number" id="L1461">1461</div>
                  <div class="blob-code blob-code-inner js-file-line" id="LC1461">      <span class="pl-ent">&quot;metadata&quot;</span>: {</div>
                </div>
                <div class="d-flex flex-justify-start flex-items-start">
                  <div class="blob-num blame-blob-num color-bg-subtle js-line-number" id="L1462">1462</div>
                  <div class="blob-code blob-code-inner js-file-line" id="LC1462">        <span class="pl-ent">&quot;colab&quot;</span>: {</div>
                </div>
                <div class="d-flex flex-justify-start flex-items-start">
                  <div class="blob-num blame-blob-num color-bg-subtle js-line-number" id="L1463">1463</div>
                  <div class="blob-code blob-code-inner js-file-line" id="LC1463">          <span class="pl-ent">&quot;base_uri&quot;</span>: <span class="pl-s"><span class="pl-pds">&quot;</span>https://localhost:8080/<span class="pl-pds">&quot;</span></span>,</div>
                </div>
                <div class="d-flex flex-justify-start flex-items-start">
                  <div class="blob-num blame-blob-num color-bg-subtle js-line-number" id="L1464">1464</div>
                  <div class="blob-code blob-code-inner js-file-line" id="LC1464">          <span class="pl-ent">&quot;height&quot;</span>: <span class="pl-c1">1000</span></div>
                </div>
                <div class="d-flex flex-justify-start flex-items-start">
                  <div class="blob-num blame-blob-num color-bg-subtle js-line-number" id="L1465">1465</div>
                  <div class="blob-code blob-code-inner js-file-line" id="LC1465">        },</div>
                </div>
                <div class="d-flex flex-justify-start flex-items-start">
                  <div class="blob-num blame-blob-num color-bg-subtle js-line-number" id="L1466">1466</div>
                  <div class="blob-code blob-code-inner js-file-line" id="LC1466">        <span class="pl-ent">&quot;id&quot;</span>: <span class="pl-s"><span class="pl-pds">&quot;</span>Pw_2pfyI9g1K<span class="pl-pds">&quot;</span></span>,</div>
                </div>
                <div class="d-flex flex-justify-start flex-items-start">
                  <div class="blob-num blame-blob-num color-bg-subtle js-line-number" id="L1467">1467</div>
                  <div class="blob-code blob-code-inner js-file-line" id="LC1467">        <span class="pl-ent">&quot;outputId&quot;</span>: <span class="pl-s"><span class="pl-pds">&quot;</span>c62b8dcd-f86e-4cce-dc1a-1272b709d374<span class="pl-pds">&quot;</span></span></div>
                </div>
                <div class="d-flex flex-justify-start flex-items-start">
                  <div class="blob-num blame-blob-num color-bg-subtle js-line-number" id="L1468">1468</div>
                  <div class="blob-code blob-code-inner js-file-line" id="LC1468">      },</div>
                </div>
                <div class="d-flex flex-justify-start flex-items-start">
                  <div class="blob-num blame-blob-num color-bg-subtle js-line-number" id="L1469">1469</div>
                  <div class="blob-code blob-code-inner js-file-line" id="LC1469">      <span class="pl-ent">&quot;execution_count&quot;</span>: <span class="pl-c1">24</span>,</div>
                </div>
                <div class="d-flex flex-justify-start flex-items-start">
                  <div class="blob-num blame-blob-num color-bg-subtle js-line-number" id="L1470">1470</div>
                  <div class="blob-code blob-code-inner js-file-line" id="LC1470">      <span class="pl-ent">&quot;outputs&quot;</span>: [</div>
                </div>
                <div class="d-flex flex-justify-start flex-items-start">
                  <div class="blob-num blame-blob-num color-bg-subtle js-line-number" id="L1471">1471</div>
                  <div class="blob-code blob-code-inner js-file-line" id="LC1471">        {</div>
                </div>
                <div class="d-flex flex-justify-start flex-items-start">
                  <div class="blob-num blame-blob-num color-bg-subtle js-line-number" id="L1472">1472</div>
                  <div class="blob-code blob-code-inner js-file-line" id="LC1472">          <span class="pl-ent">&quot;output_type&quot;</span>: <span class="pl-s"><span class="pl-pds">&quot;</span>display_data<span class="pl-pds">&quot;</span></span>,</div>
                </div>
                <div class="d-flex flex-justify-start flex-items-start">
                  <div class="blob-num blame-blob-num color-bg-subtle js-line-number" id="L1473">1473</div>
                  <div class="blob-code blob-code-inner js-file-line" id="LC1473">          <span class="pl-ent">&quot;data&quot;</span>: {</div>
                </div>
                <div class="d-flex flex-justify-start flex-items-start">
                  <div class="blob-num blame-blob-num color-bg-subtle js-line-number" id="L1474">1474</div>
                  <div class="blob-code blob-code-inner js-file-line" id="LC1474">            <span class="pl-ent">&quot;text/plain&quot;</span>: [</div>
                </div>
                <div class="d-flex flex-justify-start flex-items-start">
                  <div class="blob-num blame-blob-num color-bg-subtle js-line-number" id="L1475">1475</div>
                  <div class="blob-code blob-code-inner js-file-line" id="LC1475">              <span class="pl-s"><span class="pl-pds">&quot;</span>&lt;Figure size 432x288 with 1 Axes&gt;<span class="pl-pds">&quot;</span></span></div>
                </div>
                <div class="d-flex flex-justify-start flex-items-start">
                  <div class="blob-num blame-blob-num color-bg-subtle js-line-number" id="L1476">1476</div>
                  <div class="blob-code blob-code-inner js-file-line" id="LC1476">            ],</div>
                </div>
                <div class="d-flex flex-justify-start flex-items-start">
                  <div class="blob-num blame-blob-num color-bg-subtle js-line-number" id="L1477">1477</div>
                  <div class="blob-code blob-code-inner js-file-line" id="LC1477">            &quot;image/png&quot;: &quot;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\n&quot;</div>
                </div>
                <div class="d-flex flex-justify-start flex-items-start">
                  <div class="blob-num blame-blob-num color-bg-subtle js-line-number" id="L1478">1478</div>
                  <div class="blob-code blob-code-inner js-file-line" id="LC1478">          },</div>
                </div>
                <div class="d-flex flex-justify-start flex-items-start">
                  <div class="blob-num blame-blob-num color-bg-subtle js-line-number" id="L1479">1479</div>
                  <div class="blob-code blob-code-inner js-file-line" id="LC1479">          <span class="pl-ent">&quot;metadata&quot;</span>: {</div>
                </div>
                <div class="d-flex flex-justify-start flex-items-start">
                  <div class="blob-num blame-blob-num color-bg-subtle js-line-number" id="L1480">1480</div>
                  <div class="blob-code blob-code-inner js-file-line" id="LC1480">            <span class="pl-ent">&quot;needs_background&quot;</span>: <span class="pl-s"><span class="pl-pds">&quot;</span>light<span class="pl-pds">&quot;</span></span></div>
                </div>
                <div class="d-flex flex-justify-start flex-items-start">
                  <div class="blob-num blame-blob-num color-bg-subtle js-line-number" id="L1481">1481</div>
                  <div class="blob-code blob-code-inner js-file-line" id="LC1481">          }</div>
                </div>
                <div class="d-flex flex-justify-start flex-items-start">
                  <div class="blob-num blame-blob-num color-bg-subtle js-line-number" id="L1482">1482</div>
                  <div class="blob-code blob-code-inner js-file-line" id="LC1482">        },</div>
                </div>
                <div class="d-flex flex-justify-start flex-items-start">
                  <div class="blob-num blame-blob-num color-bg-subtle js-line-number" id="L1483">1483</div>
                  <div class="blob-code blob-code-inner js-file-line" id="LC1483">        {</div>
                </div>
                <div class="d-flex flex-justify-start flex-items-start">
                  <div class="blob-num blame-blob-num color-bg-subtle js-line-number" id="L1484">1484</div>
                  <div class="blob-code blob-code-inner js-file-line" id="LC1484">          <span class="pl-ent">&quot;output_type&quot;</span>: <span class="pl-s"><span class="pl-pds">&quot;</span>display_data<span class="pl-pds">&quot;</span></span>,</div>
                </div>
                <div class="d-flex flex-justify-start flex-items-start">
                  <div class="blob-num blame-blob-num color-bg-subtle js-line-number" id="L1485">1485</div>
                  <div class="blob-code blob-code-inner js-file-line" id="LC1485">          <span class="pl-ent">&quot;data&quot;</span>: {</div>
                </div>
                <div class="d-flex flex-justify-start flex-items-start">
                  <div class="blob-num blame-blob-num color-bg-subtle js-line-number" id="L1486">1486</div>
                  <div class="blob-code blob-code-inner js-file-line" id="LC1486">            <span class="pl-ent">&quot;text/plain&quot;</span>: [</div>
                </div>
                <div class="d-flex flex-justify-start flex-items-start">
                  <div class="blob-num blame-blob-num color-bg-subtle js-line-number" id="L1487">1487</div>
                  <div class="blob-code blob-code-inner js-file-line" id="LC1487">              <span class="pl-s"><span class="pl-pds">&quot;</span>&lt;Figure size 432x288 with 1 Axes&gt;<span class="pl-pds">&quot;</span></span></div>
                </div>
                <div class="d-flex flex-justify-start flex-items-start">
                  <div class="blob-num blame-blob-num color-bg-subtle js-line-number" id="L1488">1488</div>
                  <div class="blob-code blob-code-inner js-file-line" id="LC1488">            ],</div>
                </div>
                <div class="d-flex flex-justify-start flex-items-start">
                  <div class="blob-num blame-blob-num color-bg-subtle js-line-number" id="L1489">1489</div>
                  <div class="blob-code blob-code-inner js-file-line" id="LC1489">            &quot;image/png&quot;: &quot;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\n&quot;</div>
                </div>
                <div class="d-flex flex-justify-start flex-items-start">
                  <div class="blob-num blame-blob-num color-bg-subtle js-line-number" id="L1490">1490</div>
                  <div class="blob-code blob-code-inner js-file-line" id="LC1490">          },</div>
                </div>
                <div class="d-flex flex-justify-start flex-items-start">
                  <div class="blob-num blame-blob-num color-bg-subtle js-line-number" id="L1491">1491</div>
                  <div class="blob-code blob-code-inner js-file-line" id="LC1491">          <span class="pl-ent">&quot;metadata&quot;</span>: {</div>
                </div>
                <div class="d-flex flex-justify-start flex-items-start">
                  <div class="blob-num blame-blob-num color-bg-subtle js-line-number" id="L1492">1492</div>
                  <div class="blob-code blob-code-inner js-file-line" id="LC1492">            <span class="pl-ent">&quot;needs_background&quot;</span>: <span class="pl-s"><span class="pl-pds">&quot;</span>light<span class="pl-pds">&quot;</span></span></div>
                </div>
                <div class="d-flex flex-justify-start flex-items-start">
                  <div class="blob-num blame-blob-num color-bg-subtle js-line-number" id="L1493">1493</div>
                  <div class="blob-code blob-code-inner js-file-line" id="LC1493">          }</div>
                </div>
                <div class="d-flex flex-justify-start flex-items-start">
                  <div class="blob-num blame-blob-num color-bg-subtle js-line-number" id="L1494">1494</div>
                  <div class="blob-code blob-code-inner js-file-line" id="LC1494">        },</div>
                </div>
                <div class="d-flex flex-justify-start flex-items-start">
                  <div class="blob-num blame-blob-num color-bg-subtle js-line-number" id="L1495">1495</div>
                  <div class="blob-code blob-code-inner js-file-line" id="LC1495">        {</div>
                </div>
                <div class="d-flex flex-justify-start flex-items-start">
                  <div class="blob-num blame-blob-num color-bg-subtle js-line-number" id="L1496">1496</div>
                  <div class="blob-code blob-code-inner js-file-line" id="LC1496">          <span class="pl-ent">&quot;output_type&quot;</span>: <span class="pl-s"><span class="pl-pds">&quot;</span>display_data<span class="pl-pds">&quot;</span></span>,</div>
                </div>
                <div class="d-flex flex-justify-start flex-items-start">
                  <div class="blob-num blame-blob-num color-bg-subtle js-line-number" id="L1497">1497</div>
                  <div class="blob-code blob-code-inner js-file-line" id="LC1497">          <span class="pl-ent">&quot;data&quot;</span>: {</div>
                </div>
                <div class="d-flex flex-justify-start flex-items-start">
                  <div class="blob-num blame-blob-num color-bg-subtle js-line-number" id="L1498">1498</div>
                  <div class="blob-code blob-code-inner js-file-line" id="LC1498">            <span class="pl-ent">&quot;text/plain&quot;</span>: [</div>
                </div>
                <div class="d-flex flex-justify-start flex-items-start">
                  <div class="blob-num blame-blob-num color-bg-subtle js-line-number" id="L1499">1499</div>
                  <div class="blob-code blob-code-inner js-file-line" id="LC1499">              <span class="pl-s"><span class="pl-pds">&quot;</span>&lt;Figure size 432x288 with 1 Axes&gt;<span class="pl-pds">&quot;</span></span></div>
                </div>
                <div class="d-flex flex-justify-start flex-items-start">
                  <div class="blob-num blame-blob-num color-bg-subtle js-line-number" id="L1500">1500</div>
                  <div class="blob-code blob-code-inner js-file-line" id="LC1500">            ],</div>
                </div>
                <div class="d-flex flex-justify-start flex-items-start">
                  <div class="blob-num blame-blob-num color-bg-subtle js-line-number" id="L1501">1501</div>
                  <div class="blob-code blob-code-inner js-file-line" id="LC1501">            &quot;image/png&quot;: &quot;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\n&quot;</div>
                </div>
                <div class="d-flex flex-justify-start flex-items-start">
                  <div class="blob-num blame-blob-num color-bg-subtle js-line-number" id="L1502">1502</div>
                  <div class="blob-code blob-code-inner js-file-line" id="LC1502">          },</div>
                </div>
                <div class="d-flex flex-justify-start flex-items-start">
                  <div class="blob-num blame-blob-num color-bg-subtle js-line-number" id="L1503">1503</div>
                  <div class="blob-code blob-code-inner js-file-line" id="LC1503">          <span class="pl-ent">&quot;metadata&quot;</span>: {</div>
                </div>
                <div class="d-flex flex-justify-start flex-items-start">
                  <div class="blob-num blame-blob-num color-bg-subtle js-line-number" id="L1504">1504</div>
                  <div class="blob-code blob-code-inner js-file-line" id="LC1504">            <span class="pl-ent">&quot;needs_background&quot;</span>: <span class="pl-s"><span class="pl-pds">&quot;</span>light<span class="pl-pds">&quot;</span></span></div>
                </div>
                <div class="d-flex flex-justify-start flex-items-start">
                  <div class="blob-num blame-blob-num color-bg-subtle js-line-number" id="L1505">1505</div>
                  <div class="blob-code blob-code-inner js-file-line" id="LC1505">          }</div>
                </div>
                <div class="d-flex flex-justify-start flex-items-start">
                  <div class="blob-num blame-blob-num color-bg-subtle js-line-number" id="L1506">1506</div>
                  <div class="blob-code blob-code-inner js-file-line" id="LC1506">        },</div>
                </div>
                <div class="d-flex flex-justify-start flex-items-start">
                  <div class="blob-num blame-blob-num color-bg-subtle js-line-number" id="L1507">1507</div>
                  <div class="blob-code blob-code-inner js-file-line" id="LC1507">        {</div>
                </div>
                <div class="d-flex flex-justify-start flex-items-start">
                  <div class="blob-num blame-blob-num color-bg-subtle js-line-number" id="L1508">1508</div>
                  <div class="blob-code blob-code-inner js-file-line" id="LC1508">          <span class="pl-ent">&quot;output_type&quot;</span>: <span class="pl-s"><span class="pl-pds">&quot;</span>display_data<span class="pl-pds">&quot;</span></span>,</div>
                </div>
                <div class="d-flex flex-justify-start flex-items-start">
                  <div class="blob-num blame-blob-num color-bg-subtle js-line-number" id="L1509">1509</div>
                  <div class="blob-code blob-code-inner js-file-line" id="LC1509">          <span class="pl-ent">&quot;data&quot;</span>: {</div>
                </div>
                <div class="d-flex flex-justify-start flex-items-start">
                  <div class="blob-num blame-blob-num color-bg-subtle js-line-number" id="L1510">1510</div>
                  <div class="blob-code blob-code-inner js-file-line" id="LC1510">            <span class="pl-ent">&quot;text/plain&quot;</span>: [</div>
                </div>
                <div class="d-flex flex-justify-start flex-items-start">
                  <div class="blob-num blame-blob-num color-bg-subtle js-line-number" id="L1511">1511</div>
                  <div class="blob-code blob-code-inner js-file-line" id="LC1511">              <span class="pl-s"><span class="pl-pds">&quot;</span>&lt;Figure size 432x288 with 1 Axes&gt;<span class="pl-pds">&quot;</span></span></div>
                </div>
                <div class="d-flex flex-justify-start flex-items-start">
                  <div class="blob-num blame-blob-num color-bg-subtle js-line-number" id="L1512">1512</div>
                  <div class="blob-code blob-code-inner js-file-line" id="LC1512">            ],</div>
                </div>
                <div class="d-flex flex-justify-start flex-items-start">
                  <div class="blob-num blame-blob-num color-bg-subtle js-line-number" id="L1513">1513</div>
                  <div class="blob-code blob-code-inner js-file-line" id="LC1513">            &quot;image/png&quot;: &quot;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\n&quot;</div>
                </div>
                <div class="d-flex flex-justify-start flex-items-start">
                  <div class="blob-num blame-blob-num color-bg-subtle js-line-number" id="L1514">1514</div>
                  <div class="blob-code blob-code-inner js-file-line" id="LC1514">          },</div>
                </div>
                <div class="d-flex flex-justify-start flex-items-start">
                  <div class="blob-num blame-blob-num color-bg-subtle js-line-number" id="L1515">1515</div>
                  <div class="blob-code blob-code-inner js-file-line" id="LC1515">          <span class="pl-ent">&quot;metadata&quot;</span>: {</div>
                </div>
                <div class="d-flex flex-justify-start flex-items-start">
                  <div class="blob-num blame-blob-num color-bg-subtle js-line-number" id="L1516">1516</div>
                  <div class="blob-code blob-code-inner js-file-line" id="LC1516">            <span class="pl-ent">&quot;needs_background&quot;</span>: <span class="pl-s"><span class="pl-pds">&quot;</span>light<span class="pl-pds">&quot;</span></span></div>
                </div>
                <div class="d-flex flex-justify-start flex-items-start">
                  <div class="blob-num blame-blob-num color-bg-subtle js-line-number" id="L1517">1517</div>
                  <div class="blob-code blob-code-inner js-file-line" id="LC1517">          }</div>
                </div>
                <div class="d-flex flex-justify-start flex-items-start">
                  <div class="blob-num blame-blob-num color-bg-subtle js-line-number" id="L1518">1518</div>
                  <div class="blob-code blob-code-inner js-file-line" id="LC1518">        }</div>
                </div>
                <div class="d-flex flex-justify-start flex-items-start">
                  <div class="blob-num blame-blob-num color-bg-subtle js-line-number" id="L1519">1519</div>
                  <div class="blob-code blob-code-inner js-file-line" id="LC1519">      ]</div>
                </div>
                <div class="d-flex flex-justify-start flex-items-start">
                  <div class="blob-num blame-blob-num color-bg-subtle js-line-number" id="L1520">1520</div>
                  <div class="blob-code blob-code-inner js-file-line" id="LC1520">    }</div>
                </div>
                <div class="d-flex flex-justify-start flex-items-start">
                  <div class="blob-num blame-blob-num color-bg-subtle js-line-number" id="L1521">1521</div>
                  <div class="blob-code blob-code-inner js-file-line" id="LC1521">  ]</div>
                </div>
                <div class="d-flex flex-justify-start flex-items-start">
                  <div class="blob-num blame-blob-num color-bg-subtle js-line-number" id="L1522">1522</div>
                  <div class="blob-code blob-code-inner js-file-line" id="LC1522">}</div>
                </div>
            </div>
          </div>
      </div>
    </div>

  </div>

</div>


  </div>

  </turbo-frame>


    </main>
  </div>

  </div>

          <footer class="footer width-full container-xl p-responsive">
  <h2 class='sr-only'>Footer</h2>

  <div class="position-relative d-flex flex-items-center pb-2 f6 color-fg-muted border-top color-border-muted flex-column-reverse flex-lg-row flex-wrap flex-lg-nowrap mt-6 pt-6">
    <div class="list-style-none d-flex flex-wrap col-0 col-lg-2 flex-justify-start flex-lg-justify-between mb-2 mb-lg-0">
      <div class="mt-2 mt-lg-0 d-flex flex-items-center">
        <a aria-label="Homepage" title="GitHub" class="footer-octicon mr-2" href="https://github.com">
          <svg aria-hidden="true" height="24" viewBox="0 0 16 16" version="1.1" width="24" data-view-component="true" class="octicon octicon-mark-github">
    <path fill-rule="evenodd" d="M8 0C3.58 0 0 3.58 0 8c0 3.54 2.29 6.53 5.47 7.59.4.07.55-.17.55-.38 0-.19-.01-.82-.01-1.49-2.01.37-2.53-.49-2.69-.94-.09-.23-.48-.94-.82-1.13-.28-.15-.68-.52-.01-.53.63-.01 1.08.58 1.23.82.72 1.21 1.87.87 2.33.66.07-.52.28-.87.51-1.07-1.78-.2-3.64-.89-3.64-3.95 0-.87.31-1.59.82-2.15-.08-.2-.36-1.02.08-2.12 0 0 .67-.21 2.2.82.64-.18 1.32-.27 2-.27.68 0 1.36.09 2 .27 1.53-1.04 2.2-.82 2.2-.82.44 1.1.16 1.92.08 2.12.51.56.82 1.27.82 2.15 0 3.07-1.87 3.75-3.65 3.95.29.25.54.73.54 1.48 0 1.07-.01 1.93-.01 2.2 0 .21.15.46.55.38A8.013 8.013 0 0016 8c0-4.42-3.58-8-8-8z"></path>
</svg>
</a>        <span>
        &copy; 2022 GitHub, Inc.
        </span>
      </div>
    </div>

    <nav aria-label='footer' class="col-12 col-lg-8">
      <h3 class='sr-only' id='sr-footer-heading'>Footer navigation</h3>
      <ul class="list-style-none d-flex flex-wrap col-12 flex-justify-center flex-lg-justify-between mb-2 mb-lg-0" aria-labelledby='sr-footer-heading'>
          <li class="mr-3 mr-lg-0"><a href="https://docs.github.com/en/github/site-policy/github-terms-of-service" data-analytics-event="{&quot;category&quot;:&quot;Footer&quot;,&quot;action&quot;:&quot;go to terms&quot;,&quot;label&quot;:&quot;text:terms&quot;}">Terms</a></li>
          <li class="mr-3 mr-lg-0"><a href="https://docs.github.com/en/github/site-policy/github-privacy-statement" data-analytics-event="{&quot;category&quot;:&quot;Footer&quot;,&quot;action&quot;:&quot;go to privacy&quot;,&quot;label&quot;:&quot;text:privacy&quot;}">Privacy</a></li>
          <li class="mr-3 mr-lg-0"><a data-analytics-event="{&quot;category&quot;:&quot;Footer&quot;,&quot;action&quot;:&quot;go to security&quot;,&quot;label&quot;:&quot;text:security&quot;}" href="https://github.com/security">Security</a></li>
          <li class="mr-3 mr-lg-0"><a href="https://www.githubstatus.com/" data-analytics-event="{&quot;category&quot;:&quot;Footer&quot;,&quot;action&quot;:&quot;go to status&quot;,&quot;label&quot;:&quot;text:status&quot;}">Status</a></li>
          <li class="mr-3 mr-lg-0"><a data-ga-click="Footer, go to help, text:Docs" href="https://docs.github.com">Docs</a></li>
          <li class="mr-3 mr-lg-0"><a href="https://support.github.com?tags=dotcom-footer" data-analytics-event="{&quot;category&quot;:&quot;Footer&quot;,&quot;action&quot;:&quot;go to contact&quot;,&quot;label&quot;:&quot;text:contact&quot;}">Contact GitHub</a></li>
          <li class="mr-3 mr-lg-0"><a href="https://github.com/pricing" data-analytics-event="{&quot;category&quot;:&quot;Footer&quot;,&quot;action&quot;:&quot;go to Pricing&quot;,&quot;label&quot;:&quot;text:Pricing&quot;}">Pricing</a></li>
        <li class="mr-3 mr-lg-0"><a href="https://docs.github.com" data-analytics-event="{&quot;category&quot;:&quot;Footer&quot;,&quot;action&quot;:&quot;go to api&quot;,&quot;label&quot;:&quot;text:api&quot;}">API</a></li>
        <li class="mr-3 mr-lg-0"><a href="https://services.github.com" data-analytics-event="{&quot;category&quot;:&quot;Footer&quot;,&quot;action&quot;:&quot;go to training&quot;,&quot;label&quot;:&quot;text:training&quot;}">Training</a></li>
          <li class="mr-3 mr-lg-0"><a href="https://github.blog" data-analytics-event="{&quot;category&quot;:&quot;Footer&quot;,&quot;action&quot;:&quot;go to blog&quot;,&quot;label&quot;:&quot;text:blog&quot;}">Blog</a></li>
          <li><a data-ga-click="Footer, go to about, text:about" href="https://github.com/about">About</a></li>
      </ul>
    </nav>
  </div>

  <div class="d-flex flex-justify-center pb-6">
    <span class="f6 color-fg-muted"></span>
  </div>
</footer>




  <div id="ajax-error-message" class="ajax-error-message flash flash-error" hidden>
    <svg aria-hidden="true" height="16" viewBox="0 0 16 16" version="1.1" width="16" data-view-component="true" class="octicon octicon-alert">
    <path fill-rule="evenodd" d="M8.22 1.754a.25.25 0 00-.44 0L1.698 13.132a.25.25 0 00.22.368h12.164a.25.25 0 00.22-.368L8.22 1.754zm-1.763-.707c.659-1.234 2.427-1.234 3.086 0l6.082 11.378A1.75 1.75 0 0114.082 15H1.918a1.75 1.75 0 01-1.543-2.575L6.457 1.047zM9 11a1 1 0 11-2 0 1 1 0 012 0zm-.25-5.25a.75.75 0 00-1.5 0v2.5a.75.75 0 001.5 0v-2.5z"></path>
</svg>
    <button type="button" class="flash-close js-ajax-error-dismiss" aria-label="Dismiss error">
      <svg aria-hidden="true" height="16" viewBox="0 0 16 16" version="1.1" width="16" data-view-component="true" class="octicon octicon-x">
    <path fill-rule="evenodd" d="M3.72 3.72a.75.75 0 011.06 0L8 6.94l3.22-3.22a.75.75 0 111.06 1.06L9.06 8l3.22 3.22a.75.75 0 11-1.06 1.06L8 9.06l-3.22 3.22a.75.75 0 01-1.06-1.06L6.94 8 3.72 4.78a.75.75 0 010-1.06z"></path>
</svg>
    </button>
    You can’t perform that action at this time.
  </div>

  <div class="js-stale-session-flash flash flash-warn flash-banner" hidden
    >
    <svg aria-hidden="true" height="16" viewBox="0 0 16 16" version="1.1" width="16" data-view-component="true" class="octicon octicon-alert">
    <path fill-rule="evenodd" d="M8.22 1.754a.25.25 0 00-.44 0L1.698 13.132a.25.25 0 00.22.368h12.164a.25.25 0 00.22-.368L8.22 1.754zm-1.763-.707c.659-1.234 2.427-1.234 3.086 0l6.082 11.378A1.75 1.75 0 0114.082 15H1.918a1.75 1.75 0 01-1.543-2.575L6.457 1.047zM9 11a1 1 0 11-2 0 1 1 0 012 0zm-.25-5.25a.75.75 0 00-1.5 0v2.5a.75.75 0 001.5 0v-2.5z"></path>
</svg>
    <span class="js-stale-session-flash-signed-in" hidden>You signed in with another tab or window. <a href="">Reload</a> to refresh your session.</span>
    <span class="js-stale-session-flash-signed-out" hidden>You signed out in another tab or window. <a href="">Reload</a> to refresh your session.</span>
  </div>
    <template id="site-details-dialog">
  <details class="details-reset details-overlay details-overlay-dark lh-default color-fg-default hx_rsm" open>
    <summary role="button" aria-label="Close dialog"></summary>
    <details-dialog class="Box Box--overlay d-flex flex-column anim-fade-in fast hx_rsm-dialog hx_rsm-modal">
      <button class="Box-btn-octicon m-0 btn-octicon position-absolute right-0 top-0" type="button" aria-label="Close dialog" data-close-dialog>
        <svg aria-hidden="true" height="16" viewBox="0 0 16 16" version="1.1" width="16" data-view-component="true" class="octicon octicon-x">
    <path fill-rule="evenodd" d="M3.72 3.72a.75.75 0 011.06 0L8 6.94l3.22-3.22a.75.75 0 111.06 1.06L9.06 8l3.22 3.22a.75.75 0 11-1.06 1.06L8 9.06l-3.22 3.22a.75.75 0 01-1.06-1.06L6.94 8 3.72 4.78a.75.75 0 010-1.06z"></path>
</svg>
      </button>
      <div class="octocat-spinner my-6 js-details-dialog-spinner"></div>
    </details-dialog>
  </details>
</template>

    <div class="Popover js-hovercard-content position-absolute" style="display: none; outline: none;" tabindex="0">
  <div class="Popover-message Popover-message--bottom-left Popover-message--large Box color-shadow-large" style="width:360px;">
  </div>
</div>

    <template id="snippet-clipboard-copy-button">
  <div class="zeroclipboard-container position-absolute right-0 top-0">
    <clipboard-copy aria-label="Copy" class="ClipboardButton btn js-clipboard-copy m-2 p-0 tooltipped-no-delay" data-copy-feedback="Copied!" data-tooltip-direction="w">
      <svg aria-hidden="true" height="16" viewBox="0 0 16 16" version="1.1" width="16" data-view-component="true" class="octicon octicon-copy js-clipboard-copy-icon m-2">
    <path fill-rule="evenodd" d="M0 6.75C0 5.784.784 5 1.75 5h1.5a.75.75 0 010 1.5h-1.5a.25.25 0 00-.25.25v7.5c0 .138.112.25.25.25h7.5a.25.25 0 00.25-.25v-1.5a.75.75 0 011.5 0v1.5A1.75 1.75 0 019.25 16h-7.5A1.75 1.75 0 010 14.25v-7.5z"></path><path fill-rule="evenodd" d="M5 1.75C5 .784 5.784 0 6.75 0h7.5C15.216 0 16 .784 16 1.75v7.5A1.75 1.75 0 0114.25 11h-7.5A1.75 1.75 0 015 9.25v-7.5zm1.75-.25a.25.25 0 00-.25.25v7.5c0 .138.112.25.25.25h7.5a.25.25 0 00.25-.25v-7.5a.25.25 0 00-.25-.25h-7.5z"></path>
</svg>
      <svg aria-hidden="true" height="16" viewBox="0 0 16 16" version="1.1" width="16" data-view-component="true" class="octicon octicon-check js-clipboard-check-icon color-fg-success d-none m-2">
    <path fill-rule="evenodd" d="M13.78 4.22a.75.75 0 010 1.06l-7.25 7.25a.75.75 0 01-1.06 0L2.22 9.28a.75.75 0 011.06-1.06L6 10.94l6.72-6.72a.75.75 0 011.06 0z"></path>
</svg>
    </clipboard-copy>
  </div>
</template>


    <style>
      .user-mention[href$="/SteffigrafR"] {
        color: var(--color-user-mention-fg);
        background-color: var(--color-user-mention-bg);
        border-radius: 2px;
        margin-left: -2px;
        margin-right: -2px;
        padding: 0 2px;
      }
    </style>


  </body>
</html>

